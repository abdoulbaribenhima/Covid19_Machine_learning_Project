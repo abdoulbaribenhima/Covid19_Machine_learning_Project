{
 "cells": [
  {
   "cell_type": "code",
   "execution_count": 14,
   "metadata": {},
   "outputs": [],
   "source": [
    "import import_ipynb\n",
    "import numpy as np\n",
    "\n",
    "import pandas as pd\n",
    "import matplotlib\n",
    "import matplotlib.pyplot as plt\n",
    "from matplotlib import style\n",
    "style.use('ggplot')\n",
    "%matplotlib inline\n",
    "\n",
    "import plotly\n",
    "import chart_studio.plotly as py\n",
    "\n",
    "import plotly.express as px\n",
    "import plotly.graph_objects as go\n",
    "plt.rcParams['figure.figsize']=17,8\n",
    "import cufflinks as cf\n",
    "\n",
    "import plotly.offline as pyo\n",
    "from plotly.offline import init_notebook_mode,plot,iplot\n",
    "\n",
    "\n",
    "import folium"
   ]
  },
  {
   "cell_type": "code",
   "execution_count": 15,
   "metadata": {},
   "outputs": [
    {
     "data": {
      "text/html": [
       "        <script type=\"text/javascript\">\n",
       "        window.PlotlyConfig = {MathJaxConfig: 'local'};\n",
       "        if (window.MathJax) {MathJax.Hub.Config({SVG: {font: \"STIX-Web\"}});}\n",
       "        if (typeof require !== 'undefined') {\n",
       "        require.undef(\"plotly\");\n",
       "        requirejs.config({\n",
       "            paths: {\n",
       "                'plotly': ['https://cdn.plot.ly/plotly-latest.min']\n",
       "            }\n",
       "        });\n",
       "        require(['plotly'], function(Plotly) {\n",
       "            window._Plotly = Plotly;\n",
       "        });\n",
       "        }\n",
       "        </script>\n",
       "        "
      ]
     },
     "metadata": {},
     "output_type": "display_data"
    },
    {
     "data": {
      "text/html": [
       "        <script type=\"text/javascript\">\n",
       "        window.PlotlyConfig = {MathJaxConfig: 'local'};\n",
       "        if (window.MathJax) {MathJax.Hub.Config({SVG: {font: \"STIX-Web\"}});}\n",
       "        if (typeof require !== 'undefined') {\n",
       "        require.undef(\"plotly\");\n",
       "        requirejs.config({\n",
       "            paths: {\n",
       "                'plotly': ['https://cdn.plot.ly/plotly-latest.min']\n",
       "            }\n",
       "        });\n",
       "        require(['plotly'], function(Plotly) {\n",
       "            window._Plotly = Plotly;\n",
       "        });\n",
       "        }\n",
       "        </script>\n",
       "        "
      ]
     },
     "metadata": {},
     "output_type": "display_data"
    }
   ],
   "source": [
    "pyo.init_notebook_mode(connected=True)\n",
    "cf.go_offline()"
   ]
  },
  {
   "cell_type": "code",
   "execution_count": 16,
   "metadata": {},
   "outputs": [
    {
     "data": {
      "text/html": [
       "<div>\n",
       "<style scoped>\n",
       "    .dataframe tbody tr th:only-of-type {\n",
       "        vertical-align: middle;\n",
       "    }\n",
       "\n",
       "    .dataframe tbody tr th {\n",
       "        vertical-align: top;\n",
       "    }\n",
       "\n",
       "    .dataframe thead th {\n",
       "        text-align: right;\n",
       "    }\n",
       "</style>\n",
       "<table border=\"1\" class=\"dataframe\">\n",
       "  <thead>\n",
       "    <tr style=\"text-align: right;\">\n",
       "      <th></th>\n",
       "      <th>Unnamed: 0</th>\n",
       "      <th>Date</th>\n",
       "      <th>Total Cas</th>\n",
       "      <th>Total Morts</th>\n",
       "      <th>Total Guérisons</th>\n",
       "      <th>% Décès</th>\n",
       "      <th>% Guérison</th>\n",
       "      <th>% Malade</th>\n",
       "      <th>Cas/jrs</th>\n",
       "      <th>Décès/jrs</th>\n",
       "      <th>Guérisons/jrs</th>\n",
       "    </tr>\n",
       "  </thead>\n",
       "  <tbody>\n",
       "    <tr>\n",
       "      <td>0</td>\n",
       "      <td>0</td>\n",
       "      <td>2020-06-21</td>\n",
       "      <td>8 858 407</td>\n",
       "      <td>465 823</td>\n",
       "      <td>4 399 131</td>\n",
       "      <td>5,26%</td>\n",
       "      <td>49,66%</td>\n",
       "      <td>45,08%</td>\n",
       "      <td>+59 722</td>\n",
       "      <td>+1 293</td>\n",
       "      <td>+17 206</td>\n",
       "    </tr>\n",
       "    <tr>\n",
       "      <td>1</td>\n",
       "      <td>1</td>\n",
       "      <td>2020-06-20</td>\n",
       "      <td>8 798 685</td>\n",
       "      <td>464 530</td>\n",
       "      <td>4 381 925</td>\n",
       "      <td>5,28%</td>\n",
       "      <td>49,80%</td>\n",
       "      <td>44,92%</td>\n",
       "      <td>+127 023</td>\n",
       "      <td>+4 449</td>\n",
       "      <td>+132 528</td>\n",
       "    </tr>\n",
       "    <tr>\n",
       "      <td>2</td>\n",
       "      <td>2</td>\n",
       "      <td>2020-06-19</td>\n",
       "      <td>8 671 662</td>\n",
       "      <td>460 081</td>\n",
       "      <td>4 249 397</td>\n",
       "      <td>5,31%</td>\n",
       "      <td>49,00%</td>\n",
       "      <td>45,69%</td>\n",
       "      <td>+176 251</td>\n",
       "      <td>+6 033</td>\n",
       "      <td>+90 734</td>\n",
       "    </tr>\n",
       "    <tr>\n",
       "      <td>3</td>\n",
       "      <td>3</td>\n",
       "      <td>2020-06-18</td>\n",
       "      <td>8 495 411</td>\n",
       "      <td>454 048</td>\n",
       "      <td>4 158 663</td>\n",
       "      <td>5,34%</td>\n",
       "      <td>48,95%</td>\n",
       "      <td>45,70%</td>\n",
       "      <td>+139 293</td>\n",
       "      <td>+5 026</td>\n",
       "      <td>+81 265</td>\n",
       "    </tr>\n",
       "    <tr>\n",
       "      <td>4</td>\n",
       "      <td>4</td>\n",
       "      <td>2020-06-17</td>\n",
       "      <td>8 356 118</td>\n",
       "      <td>449 022</td>\n",
       "      <td>4 077 398</td>\n",
       "      <td>5,37%</td>\n",
       "      <td>48,80%</td>\n",
       "      <td>45,83%</td>\n",
       "      <td>+176 157</td>\n",
       "      <td>+5 274</td>\n",
       "      <td>+118 838</td>\n",
       "    </tr>\n",
       "  </tbody>\n",
       "</table>\n",
       "</div>"
      ],
      "text/plain": [
       "   Unnamed: 0        Date  Total Cas Total Morts Total Guérisons % Décès  \\\n",
       "0           0  2020-06-21  8 858 407     465 823       4 399 131   5,26%   \n",
       "1           1  2020-06-20  8 798 685     464 530       4 381 925   5,28%   \n",
       "2           2  2020-06-19  8 671 662     460 081       4 249 397   5,31%   \n",
       "3           3  2020-06-18  8 495 411     454 048       4 158 663   5,34%   \n",
       "4           4  2020-06-17  8 356 118     449 022       4 077 398   5,37%   \n",
       "\n",
       "  % Guérison % Malade   Cas/jrs Décès/jrs Guérisons/jrs  \n",
       "0     49,66%   45,08%   +59 722    +1 293       +17 206  \n",
       "1     49,80%   44,92%  +127 023    +4 449      +132 528  \n",
       "2     49,00%   45,69%  +176 251    +6 033       +90 734  \n",
       "3     48,95%   45,70%  +139 293    +5 026       +81 265  \n",
       "4     48,80%   45,83%  +176 157    +5 274      +118 838  "
      ]
     },
     "execution_count": 16,
     "metadata": {},
     "output_type": "execute_result"
    }
   ],
   "source": [
    "df= pd.read_excel(r\"C:\\Users\\Abdouuulbari\\Desktop\\ELITECH\\Python\\DATA_IMP\\EXCEL_FILES\\world_evolution_covid19.xlsx\")\n",
    "\n",
    "df.head()"
   ]
  },
  {
   "cell_type": "code",
   "execution_count": 17,
   "metadata": {},
   "outputs": [],
   "source": [
    "df.drop([\"Unnamed: 0\"],axis=1,inplace=True)\n",
    "df.rename(columns={\"Total Cas\":\"T_Cas\",\"Total Morts\":\"T_Morts\",\"Total Guérisons\":\"T_Guérisons\"},inplace=True)"
   ]
  },
  {
   "cell_type": "code",
   "execution_count": 18,
   "metadata": {},
   "outputs": [
    {
     "data": {
      "text/html": [
       "<div>\n",
       "<style scoped>\n",
       "    .dataframe tbody tr th:only-of-type {\n",
       "        vertical-align: middle;\n",
       "    }\n",
       "\n",
       "    .dataframe tbody tr th {\n",
       "        vertical-align: top;\n",
       "    }\n",
       "\n",
       "    .dataframe thead th {\n",
       "        text-align: right;\n",
       "    }\n",
       "</style>\n",
       "<table border=\"1\" class=\"dataframe\">\n",
       "  <thead>\n",
       "    <tr style=\"text-align: right;\">\n",
       "      <th></th>\n",
       "      <th>Date</th>\n",
       "      <th>T_Cas</th>\n",
       "      <th>T_Morts</th>\n",
       "      <th>T_Guérisons</th>\n",
       "      <th>% Décès</th>\n",
       "      <th>% Guérison</th>\n",
       "      <th>% Malade</th>\n",
       "      <th>Cas/jrs</th>\n",
       "      <th>Décès/jrs</th>\n",
       "      <th>Guérisons/jrs</th>\n",
       "    </tr>\n",
       "  </thead>\n",
       "  <tbody>\n",
       "    <tr>\n",
       "      <td>0</td>\n",
       "      <td>2020-06-21</td>\n",
       "      <td>8 858 407</td>\n",
       "      <td>465 823</td>\n",
       "      <td>4 399 131</td>\n",
       "      <td>5,26%</td>\n",
       "      <td>49,66%</td>\n",
       "      <td>45,08%</td>\n",
       "      <td>+59 722</td>\n",
       "      <td>+1 293</td>\n",
       "      <td>+17 206</td>\n",
       "    </tr>\n",
       "    <tr>\n",
       "      <td>1</td>\n",
       "      <td>2020-06-20</td>\n",
       "      <td>8 798 685</td>\n",
       "      <td>464 530</td>\n",
       "      <td>4 381 925</td>\n",
       "      <td>5,28%</td>\n",
       "      <td>49,80%</td>\n",
       "      <td>44,92%</td>\n",
       "      <td>+127 023</td>\n",
       "      <td>+4 449</td>\n",
       "      <td>+132 528</td>\n",
       "    </tr>\n",
       "    <tr>\n",
       "      <td>2</td>\n",
       "      <td>2020-06-19</td>\n",
       "      <td>8 671 662</td>\n",
       "      <td>460 081</td>\n",
       "      <td>4 249 397</td>\n",
       "      <td>5,31%</td>\n",
       "      <td>49,00%</td>\n",
       "      <td>45,69%</td>\n",
       "      <td>+176 251</td>\n",
       "      <td>+6 033</td>\n",
       "      <td>+90 734</td>\n",
       "    </tr>\n",
       "    <tr>\n",
       "      <td>3</td>\n",
       "      <td>2020-06-18</td>\n",
       "      <td>8 495 411</td>\n",
       "      <td>454 048</td>\n",
       "      <td>4 158 663</td>\n",
       "      <td>5,34%</td>\n",
       "      <td>48,95%</td>\n",
       "      <td>45,70%</td>\n",
       "      <td>+139 293</td>\n",
       "      <td>+5 026</td>\n",
       "      <td>+81 265</td>\n",
       "    </tr>\n",
       "    <tr>\n",
       "      <td>4</td>\n",
       "      <td>2020-06-17</td>\n",
       "      <td>8 356 118</td>\n",
       "      <td>449 022</td>\n",
       "      <td>4 077 398</td>\n",
       "      <td>5,37%</td>\n",
       "      <td>48,80%</td>\n",
       "      <td>45,83%</td>\n",
       "      <td>+176 157</td>\n",
       "      <td>+5 274</td>\n",
       "      <td>+118 838</td>\n",
       "    </tr>\n",
       "  </tbody>\n",
       "</table>\n",
       "</div>"
      ],
      "text/plain": [
       "         Date      T_Cas  T_Morts T_Guérisons % Décès % Guérison % Malade  \\\n",
       "0  2020-06-21  8 858 407  465 823   4 399 131   5,26%     49,66%   45,08%   \n",
       "1  2020-06-20  8 798 685  464 530   4 381 925   5,28%     49,80%   44,92%   \n",
       "2  2020-06-19  8 671 662  460 081   4 249 397   5,31%     49,00%   45,69%   \n",
       "3  2020-06-18  8 495 411  454 048   4 158 663   5,34%     48,95%   45,70%   \n",
       "4  2020-06-17  8 356 118  449 022   4 077 398   5,37%     48,80%   45,83%   \n",
       "\n",
       "    Cas/jrs Décès/jrs Guérisons/jrs  \n",
       "0   +59 722    +1 293       +17 206  \n",
       "1  +127 023    +4 449      +132 528  \n",
       "2  +176 251    +6 033       +90 734  \n",
       "3  +139 293    +5 026       +81 265  \n",
       "4  +176 157    +5 274      +118 838  "
      ]
     },
     "execution_count": 18,
     "metadata": {},
     "output_type": "execute_result"
    }
   ],
   "source": [
    "df.head()"
   ]
  },
  {
   "cell_type": "code",
   "execution_count": 19,
   "metadata": {},
   "outputs": [
    {
     "data": {
      "text/plain": [
       "Date             object\n",
       "T_Cas            object\n",
       "T_Morts          object\n",
       "T_Guérisons      object\n",
       "% Décès          object\n",
       "% Guérison       object\n",
       "% Malade         object\n",
       "Cas/jrs          object\n",
       "Décès/jrs        object\n",
       "Guérisons/jrs    object\n",
       "dtype: object"
      ]
     },
     "execution_count": 19,
     "metadata": {},
     "output_type": "execute_result"
    }
   ],
   "source": [
    "df.dtypes"
   ]
  },
  {
   "cell_type": "code",
   "execution_count": 20,
   "metadata": {},
   "outputs": [],
   "source": [
    "#### changing columns type"
   ]
  },
  {
   "cell_type": "code",
   "execution_count": 21,
   "metadata": {},
   "outputs": [
    {
     "data": {
      "text/plain": [
       "Date             datetime64[ns]\n",
       "T_Cas                    object\n",
       "T_Morts                  object\n",
       "T_Guérisons              object\n",
       "% Décès                  object\n",
       "% Guérison               object\n",
       "% Malade                 object\n",
       "Cas/jrs                  object\n",
       "Décès/jrs                object\n",
       "Guérisons/jrs            object\n",
       "dtype: object"
      ]
     },
     "execution_count": 21,
     "metadata": {},
     "output_type": "execute_result"
    }
   ],
   "source": [
    "df = df.replace(np.nan, 0, regex=True)\n",
    "df['Date'] = pd.to_datetime(df['Date'],  format = '%Y/%m/%d')\n",
    "df.dtypes"
   ]
  },
  {
   "cell_type": "code",
   "execution_count": 22,
   "metadata": {},
   "outputs": [],
   "source": [
    "#df['T_Cas']=df['T_Cas'].astype(long)\n",
    "#df['T_Cas'].astype(str).astype('int64')"
   ]
  },
  {
   "cell_type": "code",
   "execution_count": 23,
   "metadata": {},
   "outputs": [
    {
     "data": {
      "text/plain": [
       "dtype('O')"
      ]
     },
     "execution_count": 23,
     "metadata": {},
     "output_type": "execute_result"
    }
   ],
   "source": [
    "df[\"T_Cas\"].dtypes"
   ]
  },
  {
   "cell_type": "code",
   "execution_count": 24,
   "metadata": {
    "scrolled": true
   },
   "outputs": [
    {
     "data": {
      "text/html": [
       "<div>\n",
       "<style scoped>\n",
       "    .dataframe tbody tr th:only-of-type {\n",
       "        vertical-align: middle;\n",
       "    }\n",
       "\n",
       "    .dataframe tbody tr th {\n",
       "        vertical-align: top;\n",
       "    }\n",
       "\n",
       "    .dataframe thead th {\n",
       "        text-align: right;\n",
       "    }\n",
       "</style>\n",
       "<table border=\"1\" class=\"dataframe\">\n",
       "  <thead>\n",
       "    <tr style=\"text-align: right;\">\n",
       "      <th></th>\n",
       "      <th>Date</th>\n",
       "      <th>T_Cas</th>\n",
       "      <th>T_Morts</th>\n",
       "      <th>T_Guérisons</th>\n",
       "      <th>% Décès</th>\n",
       "      <th>% Guérison</th>\n",
       "      <th>% Malade</th>\n",
       "      <th>Cas/jrs</th>\n",
       "      <th>Décès/jrs</th>\n",
       "      <th>Guérisons/jrs</th>\n",
       "    </tr>\n",
       "  </thead>\n",
       "  <tbody>\n",
       "    <tr>\n",
       "      <td>0</td>\n",
       "      <td>2020-06-21</td>\n",
       "      <td>8 858 407</td>\n",
       "      <td>465 823</td>\n",
       "      <td>4 399 131</td>\n",
       "      <td>5,26%</td>\n",
       "      <td>49,66%</td>\n",
       "      <td>45,08%</td>\n",
       "      <td>+59 722</td>\n",
       "      <td>+1 293</td>\n",
       "      <td>+17 206</td>\n",
       "    </tr>\n",
       "    <tr>\n",
       "      <td>1</td>\n",
       "      <td>2020-06-20</td>\n",
       "      <td>8 798 685</td>\n",
       "      <td>464 530</td>\n",
       "      <td>4 381 925</td>\n",
       "      <td>5,28%</td>\n",
       "      <td>49,80%</td>\n",
       "      <td>44,92%</td>\n",
       "      <td>+127 023</td>\n",
       "      <td>+4 449</td>\n",
       "      <td>+132 528</td>\n",
       "    </tr>\n",
       "    <tr>\n",
       "      <td>2</td>\n",
       "      <td>2020-06-19</td>\n",
       "      <td>8 671 662</td>\n",
       "      <td>460 081</td>\n",
       "      <td>4 249 397</td>\n",
       "      <td>5,31%</td>\n",
       "      <td>49,00%</td>\n",
       "      <td>45,69%</td>\n",
       "      <td>+176 251</td>\n",
       "      <td>+6 033</td>\n",
       "      <td>+90 734</td>\n",
       "    </tr>\n",
       "    <tr>\n",
       "      <td>3</td>\n",
       "      <td>2020-06-18</td>\n",
       "      <td>8 495 411</td>\n",
       "      <td>454 048</td>\n",
       "      <td>4 158 663</td>\n",
       "      <td>5,34%</td>\n",
       "      <td>48,95%</td>\n",
       "      <td>45,70%</td>\n",
       "      <td>+139 293</td>\n",
       "      <td>+5 026</td>\n",
       "      <td>+81 265</td>\n",
       "    </tr>\n",
       "    <tr>\n",
       "      <td>4</td>\n",
       "      <td>2020-06-17</td>\n",
       "      <td>8 356 118</td>\n",
       "      <td>449 022</td>\n",
       "      <td>4 077 398</td>\n",
       "      <td>5,37%</td>\n",
       "      <td>48,80%</td>\n",
       "      <td>45,83%</td>\n",
       "      <td>+176 157</td>\n",
       "      <td>+5 274</td>\n",
       "      <td>+118 838</td>\n",
       "    </tr>\n",
       "    <tr>\n",
       "      <td>...</td>\n",
       "      <td>...</td>\n",
       "      <td>...</td>\n",
       "      <td>...</td>\n",
       "      <td>...</td>\n",
       "      <td>...</td>\n",
       "      <td>...</td>\n",
       "      <td>...</td>\n",
       "      <td>...</td>\n",
       "      <td>...</td>\n",
       "      <td>...</td>\n",
       "    </tr>\n",
       "    <tr>\n",
       "      <td>147</td>\n",
       "      <td>2020-01-26</td>\n",
       "      <td>2 118</td>\n",
       "      <td>56</td>\n",
       "      <td>52</td>\n",
       "      <td>2,64%</td>\n",
       "      <td>2,46%</td>\n",
       "      <td>94,90%</td>\n",
       "      <td>+680</td>\n",
       "      <td>+14</td>\n",
       "      <td>+13</td>\n",
       "    </tr>\n",
       "    <tr>\n",
       "      <td>148</td>\n",
       "      <td>2020-01-25</td>\n",
       "      <td>1 438</td>\n",
       "      <td>42</td>\n",
       "      <td>39</td>\n",
       "      <td>2,92%</td>\n",
       "      <td>2,71%</td>\n",
       "      <td>94,37%</td>\n",
       "      <td>+497</td>\n",
       "      <td>+16</td>\n",
       "      <td>+3</td>\n",
       "    </tr>\n",
       "    <tr>\n",
       "      <td>149</td>\n",
       "      <td>2020-01-24</td>\n",
       "      <td>941</td>\n",
       "      <td>26</td>\n",
       "      <td>36</td>\n",
       "      <td>2,76%</td>\n",
       "      <td>3,83%</td>\n",
       "      <td>93,41%</td>\n",
       "      <td>+288</td>\n",
       "      <td>+8</td>\n",
       "      <td>+6</td>\n",
       "    </tr>\n",
       "    <tr>\n",
       "      <td>150</td>\n",
       "      <td>2020-01-23</td>\n",
       "      <td>653</td>\n",
       "      <td>18</td>\n",
       "      <td>30</td>\n",
       "      <td>2,76%</td>\n",
       "      <td>4,59%</td>\n",
       "      <td>92,65%</td>\n",
       "      <td>+98</td>\n",
       "      <td>+1</td>\n",
       "      <td>+2</td>\n",
       "    </tr>\n",
       "    <tr>\n",
       "      <td>151</td>\n",
       "      <td>2020-01-22</td>\n",
       "      <td>555</td>\n",
       "      <td>17</td>\n",
       "      <td>28</td>\n",
       "      <td>3,06%</td>\n",
       "      <td>5,05%</td>\n",
       "      <td>91,89%</td>\n",
       "      <td>+555</td>\n",
       "      <td>+17</td>\n",
       "      <td>+28</td>\n",
       "    </tr>\n",
       "  </tbody>\n",
       "</table>\n",
       "<p>152 rows × 10 columns</p>\n",
       "</div>"
      ],
      "text/plain": [
       "          Date      T_Cas  T_Morts T_Guérisons % Décès % Guérison % Malade  \\\n",
       "0   2020-06-21  8 858 407  465 823   4 399 131   5,26%     49,66%   45,08%   \n",
       "1   2020-06-20  8 798 685  464 530   4 381 925   5,28%     49,80%   44,92%   \n",
       "2   2020-06-19  8 671 662  460 081   4 249 397   5,31%     49,00%   45,69%   \n",
       "3   2020-06-18  8 495 411  454 048   4 158 663   5,34%     48,95%   45,70%   \n",
       "4   2020-06-17  8 356 118  449 022   4 077 398   5,37%     48,80%   45,83%   \n",
       "..         ...        ...      ...         ...     ...        ...      ...   \n",
       "147 2020-01-26      2 118       56          52   2,64%      2,46%   94,90%   \n",
       "148 2020-01-25      1 438       42          39   2,92%      2,71%   94,37%   \n",
       "149 2020-01-24        941       26          36   2,76%      3,83%   93,41%   \n",
       "150 2020-01-23        653       18          30   2,76%      4,59%   92,65%   \n",
       "151 2020-01-22        555       17          28   3,06%      5,05%   91,89%   \n",
       "\n",
       "      Cas/jrs Décès/jrs Guérisons/jrs  \n",
       "0     +59 722    +1 293       +17 206  \n",
       "1    +127 023    +4 449      +132 528  \n",
       "2    +176 251    +6 033       +90 734  \n",
       "3    +139 293    +5 026       +81 265  \n",
       "4    +176 157    +5 274      +118 838  \n",
       "..        ...       ...           ...  \n",
       "147      +680       +14           +13  \n",
       "148      +497       +16            +3  \n",
       "149      +288        +8            +6  \n",
       "150       +98        +1            +2  \n",
       "151      +555       +17           +28  \n",
       "\n",
       "[152 rows x 10 columns]"
      ]
     },
     "execution_count": 24,
     "metadata": {},
     "output_type": "execute_result"
    }
   ],
   "source": [
    "df"
   ]
  },
  {
   "cell_type": "code",
   "execution_count": 35,
   "metadata": {
    "scrolled": true
   },
   "outputs": [
    {
     "data": {
      "text/plain": [
       "377270671"
      ]
     },
     "execution_count": 35,
     "metadata": {},
     "output_type": "execute_result"
    }
   ],
   "source": [
    "# for i in range(len(df[\"T_Cas\"])):\n",
    "#    df[\"T_Cas\"][i]=int(df[\"T_Cas\"][i].replace('\\xa0',''))\n",
    "df[\"T_Cas\"].sum()\n",
    "# df"
   ]
  },
  {
   "cell_type": "code",
   "execution_count": 26,
   "metadata": {},
   "outputs": [
    {
     "data": {
      "text/plain": [
       "23031499"
      ]
     },
     "execution_count": 26,
     "metadata": {},
     "output_type": "execute_result"
    }
   ],
   "source": [
    "\n",
    "for i in range(len(df[\"T_Morts\"])):\n",
    "    df[\"T_Morts\"][i]=int(df[\"T_Morts\"][i].replace('\\xa0',''))\n",
    "df[\"T_Morts\"].sum()"
   ]
  },
  {
   "cell_type": "code",
   "execution_count": 27,
   "metadata": {},
   "outputs": [
    {
     "data": {
      "text/plain": [
       "147962443"
      ]
     },
     "execution_count": 27,
     "metadata": {},
     "output_type": "execute_result"
    }
   ],
   "source": [
    "\n",
    "for i in range(len(df[\"T_Guérisons\"])):\n",
    "    df[\"T_Guérisons\"][i]=int(df[\"T_Guérisons\"][i].replace('\\xa0',''))\n",
    "df[\"T_Guérisons\"].sum()"
   ]
  },
  {
   "cell_type": "code",
   "execution_count": 28,
   "metadata": {},
   "outputs": [
    {
     "data": {
      "text/plain": [
       "8858407"
      ]
     },
     "execution_count": 28,
     "metadata": {},
     "output_type": "execute_result"
    }
   ],
   "source": [
    "\n",
    "for i in range(len(df[\"Cas/jrs\"])):\n",
    "    df[\"Cas/jrs\"][i]=df[\"Cas/jrs\"][i].replace('\\xa0','')\n",
    "    df[\"Cas/jrs\"][i]=int(df[\"Cas/jrs\"][i].replace('+',''))\n",
    "df[\"Cas/jrs\"].sum()"
   ]
  },
  {
   "cell_type": "code",
   "execution_count": 29,
   "metadata": {},
   "outputs": [
    {
     "data": {
      "text/plain": [
       "465823"
      ]
     },
     "execution_count": 29,
     "metadata": {},
     "output_type": "execute_result"
    }
   ],
   "source": [
    "\n",
    "for i in range(len(df[\"Décès/jrs\"])):\n",
    "    df[\"Décès/jrs\"][i]=df[\"Décès/jrs\"][i].replace('\\xa0','')\n",
    "    df[\"Décès/jrs\"][i]=int(df[\"Décès/jrs\"][i].replace('+',''))\n",
    "df[\"Décès/jrs\"].sum()"
   ]
  },
  {
   "cell_type": "code",
   "execution_count": 30,
   "metadata": {},
   "outputs": [
    {
     "data": {
      "text/plain": [
       "4399131"
      ]
     },
     "execution_count": 30,
     "metadata": {},
     "output_type": "execute_result"
    }
   ],
   "source": [
    "\n",
    "for i in range(len(df[\"Guérisons/jrs\"])):\n",
    "    df[\"Guérisons/jrs\"][i]=df[\"Guérisons/jrs\"][i].replace('\\xa0','')\n",
    "    df[\"Guérisons/jrs\"][i]=int(df[\"Guérisons/jrs\"][i].replace('+',''))\n",
    "df[\"Guérisons/jrs\"].sum()"
   ]
  },
  {
   "cell_type": "code",
   "execution_count": 31,
   "metadata": {},
   "outputs": [
    {
     "data": {
      "text/plain": [
       "741.5399999999992"
      ]
     },
     "execution_count": 31,
     "metadata": {},
     "output_type": "execute_result"
    }
   ],
   "source": [
    "\n",
    "for i in range(len(df[\"% Décès\"])):\n",
    "    df[\"% Décès\"][i]=df[\"% Décès\"][i].replace(',','.')\n",
    "    df[\"% Décès\"][i]=float(df[\"% Décès\"][i].replace('%',''))\n",
    "df[\"% Décès\"].sum()"
   ]
  },
  {
   "cell_type": "code",
   "execution_count": 32,
   "metadata": {},
   "outputs": [
    {
     "data": {
      "text/plain": [
       "4649.509999999999"
      ]
     },
     "execution_count": 32,
     "metadata": {},
     "output_type": "execute_result"
    }
   ],
   "source": [
    "\n",
    "for i in range(len(df[\"% Guérison\"])):\n",
    "    df[\"% Guérison\"][i]=df[\"% Guérison\"][i].replace(',','.')\n",
    "    df[\"% Guérison\"][i]=float(df[\"% Guérison\"][i].replace('%',''))\n",
    "df[\"% Guérison\"].sum()"
   ]
  },
  {
   "cell_type": "code",
   "execution_count": 33,
   "metadata": {},
   "outputs": [
    {
     "data": {
      "text/plain": [
       "9808.960000000003"
      ]
     },
     "execution_count": 33,
     "metadata": {},
     "output_type": "execute_result"
    }
   ],
   "source": [
    "\n",
    "for i in range(len(df[\"% Malade\"])):\n",
    "    df[\"% Malade\"][i]=df[\"% Malade\"][i].replace(',','.')\n",
    "    df[\"% Malade\"][i]=float(df[\"% Malade\"][i].replace('%',''))\n",
    "df[\"% Malade\"].sum()\n",
    "#     print(type(df[\"T_Morts\"][i]))\n",
    "#     T_Cas T_Morts T_Guérisons % Décès % Guérison % Malade Cas/jrs Décès/jrs Guérisons/jrs"
   ]
  },
  {
   "cell_type": "code",
   "execution_count": 39,
   "metadata": {},
   "outputs": [
    {
     "data": {
      "text/html": [
       "<div>\n",
       "<style scoped>\n",
       "    .dataframe tbody tr th:only-of-type {\n",
       "        vertical-align: middle;\n",
       "    }\n",
       "\n",
       "    .dataframe tbody tr th {\n",
       "        vertical-align: top;\n",
       "    }\n",
       "\n",
       "    .dataframe thead th {\n",
       "        text-align: right;\n",
       "    }\n",
       "</style>\n",
       "<table border=\"1\" class=\"dataframe\">\n",
       "  <thead>\n",
       "    <tr style=\"text-align: right;\">\n",
       "      <th></th>\n",
       "      <th>Date</th>\n",
       "      <th>T_Cas</th>\n",
       "      <th>T_Morts</th>\n",
       "      <th>T_Guérisons</th>\n",
       "      <th>% Décès</th>\n",
       "      <th>% Guérison</th>\n",
       "      <th>% Malade</th>\n",
       "      <th>Cas/jrs</th>\n",
       "      <th>Décès/jrs</th>\n",
       "      <th>Guérisons/jrs</th>\n",
       "    </tr>\n",
       "  </thead>\n",
       "  <tbody>\n",
       "    <tr>\n",
       "      <td>0</td>\n",
       "      <td>2020-06-21</td>\n",
       "      <td>8858407</td>\n",
       "      <td>465823</td>\n",
       "      <td>4399131</td>\n",
       "      <td>5.26</td>\n",
       "      <td>49.66</td>\n",
       "      <td>45.08</td>\n",
       "      <td>59722</td>\n",
       "      <td>1293</td>\n",
       "      <td>17206</td>\n",
       "    </tr>\n",
       "    <tr>\n",
       "      <td>1</td>\n",
       "      <td>2020-06-20</td>\n",
       "      <td>8798685</td>\n",
       "      <td>464530</td>\n",
       "      <td>4381925</td>\n",
       "      <td>5.28</td>\n",
       "      <td>49.8</td>\n",
       "      <td>44.92</td>\n",
       "      <td>127023</td>\n",
       "      <td>4449</td>\n",
       "      <td>132528</td>\n",
       "    </tr>\n",
       "    <tr>\n",
       "      <td>2</td>\n",
       "      <td>2020-06-19</td>\n",
       "      <td>8671662</td>\n",
       "      <td>460081</td>\n",
       "      <td>4249397</td>\n",
       "      <td>5.31</td>\n",
       "      <td>49</td>\n",
       "      <td>45.69</td>\n",
       "      <td>176251</td>\n",
       "      <td>6033</td>\n",
       "      <td>90734</td>\n",
       "    </tr>\n",
       "    <tr>\n",
       "      <td>3</td>\n",
       "      <td>2020-06-18</td>\n",
       "      <td>8495411</td>\n",
       "      <td>454048</td>\n",
       "      <td>4158663</td>\n",
       "      <td>5.34</td>\n",
       "      <td>48.95</td>\n",
       "      <td>45.7</td>\n",
       "      <td>139293</td>\n",
       "      <td>5026</td>\n",
       "      <td>81265</td>\n",
       "    </tr>\n",
       "    <tr>\n",
       "      <td>4</td>\n",
       "      <td>2020-06-17</td>\n",
       "      <td>8356118</td>\n",
       "      <td>449022</td>\n",
       "      <td>4077398</td>\n",
       "      <td>5.37</td>\n",
       "      <td>48.8</td>\n",
       "      <td>45.83</td>\n",
       "      <td>176157</td>\n",
       "      <td>5274</td>\n",
       "      <td>118838</td>\n",
       "    </tr>\n",
       "  </tbody>\n",
       "</table>\n",
       "</div>"
      ],
      "text/plain": [
       "        Date    T_Cas T_Morts T_Guérisons % Décès % Guérison % Malade Cas/jrs  \\\n",
       "0 2020-06-21  8858407  465823     4399131    5.26      49.66    45.08   59722   \n",
       "1 2020-06-20  8798685  464530     4381925    5.28       49.8    44.92  127023   \n",
       "2 2020-06-19  8671662  460081     4249397    5.31         49    45.69  176251   \n",
       "3 2020-06-18  8495411  454048     4158663    5.34      48.95     45.7  139293   \n",
       "4 2020-06-17  8356118  449022     4077398    5.37       48.8    45.83  176157   \n",
       "\n",
       "  Décès/jrs Guérisons/jrs  \n",
       "0      1293         17206  \n",
       "1      4449        132528  \n",
       "2      6033         90734  \n",
       "3      5026         81265  \n",
       "4      5274        118838  "
      ]
     },
     "execution_count": 39,
     "metadata": {},
     "output_type": "execute_result"
    }
   ],
   "source": [
    "df.head()"
   ]
  },
  {
   "cell_type": "code",
   "execution_count": 38,
   "metadata": {},
   "outputs": [
    {
     "name": "stdout",
     "output_type": "stream",
     "text": [
      "The total cases untill now in the world is :  377270671\n"
     ]
    }
   ],
   "source": [
    "total_cases_overall=df[\"T_Cas\"].sum()\n",
    "print(\"The total cases untill now in the world is : \",total_cases_overall)\n"
   ]
  },
  {
   "cell_type": "code",
   "execution_count": 40,
   "metadata": {},
   "outputs": [
    {
     "data": {
      "text/html": [
       "<div>\n",
       "<style scoped>\n",
       "    .dataframe tbody tr th:only-of-type {\n",
       "        vertical-align: middle;\n",
       "    }\n",
       "\n",
       "    .dataframe tbody tr th {\n",
       "        vertical-align: top;\n",
       "    }\n",
       "\n",
       "    .dataframe thead th {\n",
       "        text-align: right;\n",
       "    }\n",
       "</style>\n",
       "<table border=\"1\" class=\"dataframe\">\n",
       "  <thead>\n",
       "    <tr style=\"text-align: right;\">\n",
       "      <th></th>\n",
       "      <th>Date</th>\n",
       "      <th>T_Cas</th>\n",
       "      <th>T_Morts</th>\n",
       "      <th>T_Guérisons</th>\n",
       "      <th>% Décès</th>\n",
       "      <th>% Guérison</th>\n",
       "      <th>% Malade</th>\n",
       "      <th>Cas/jrs</th>\n",
       "      <th>Décès/jrs</th>\n",
       "      <th>Guérisons/jrs</th>\n",
       "      <th>T_Active_Cases</th>\n",
       "    </tr>\n",
       "  </thead>\n",
       "  <tbody>\n",
       "    <tr>\n",
       "      <td>0</td>\n",
       "      <td>2020-06-21</td>\n",
       "      <td>8858407</td>\n",
       "      <td>465823</td>\n",
       "      <td>4399131</td>\n",
       "      <td>5.26</td>\n",
       "      <td>49.66</td>\n",
       "      <td>45.08</td>\n",
       "      <td>59722</td>\n",
       "      <td>1293</td>\n",
       "      <td>17206</td>\n",
       "      <td>3993453</td>\n",
       "    </tr>\n",
       "    <tr>\n",
       "      <td>1</td>\n",
       "      <td>2020-06-20</td>\n",
       "      <td>8798685</td>\n",
       "      <td>464530</td>\n",
       "      <td>4381925</td>\n",
       "      <td>5.28</td>\n",
       "      <td>49.8</td>\n",
       "      <td>44.92</td>\n",
       "      <td>127023</td>\n",
       "      <td>4449</td>\n",
       "      <td>132528</td>\n",
       "      <td>3952230</td>\n",
       "    </tr>\n",
       "    <tr>\n",
       "      <td>2</td>\n",
       "      <td>2020-06-19</td>\n",
       "      <td>8671662</td>\n",
       "      <td>460081</td>\n",
       "      <td>4249397</td>\n",
       "      <td>5.31</td>\n",
       "      <td>49</td>\n",
       "      <td>45.69</td>\n",
       "      <td>176251</td>\n",
       "      <td>6033</td>\n",
       "      <td>90734</td>\n",
       "      <td>3962184</td>\n",
       "    </tr>\n",
       "    <tr>\n",
       "      <td>3</td>\n",
       "      <td>2020-06-18</td>\n",
       "      <td>8495411</td>\n",
       "      <td>454048</td>\n",
       "      <td>4158663</td>\n",
       "      <td>5.34</td>\n",
       "      <td>48.95</td>\n",
       "      <td>45.7</td>\n",
       "      <td>139293</td>\n",
       "      <td>5026</td>\n",
       "      <td>81265</td>\n",
       "      <td>3882700</td>\n",
       "    </tr>\n",
       "    <tr>\n",
       "      <td>4</td>\n",
       "      <td>2020-06-17</td>\n",
       "      <td>8356118</td>\n",
       "      <td>449022</td>\n",
       "      <td>4077398</td>\n",
       "      <td>5.37</td>\n",
       "      <td>48.8</td>\n",
       "      <td>45.83</td>\n",
       "      <td>176157</td>\n",
       "      <td>5274</td>\n",
       "      <td>118838</td>\n",
       "      <td>3829698</td>\n",
       "    </tr>\n",
       "  </tbody>\n",
       "</table>\n",
       "</div>"
      ],
      "text/plain": [
       "        Date    T_Cas T_Morts T_Guérisons % Décès % Guérison % Malade Cas/jrs  \\\n",
       "0 2020-06-21  8858407  465823     4399131    5.26      49.66    45.08   59722   \n",
       "1 2020-06-20  8798685  464530     4381925    5.28       49.8    44.92  127023   \n",
       "2 2020-06-19  8671662  460081     4249397    5.31         49    45.69  176251   \n",
       "3 2020-06-18  8495411  454048     4158663    5.34      48.95     45.7  139293   \n",
       "4 2020-06-17  8356118  449022     4077398    5.37       48.8    45.83  176157   \n",
       "\n",
       "  Décès/jrs Guérisons/jrs T_Active_Cases  \n",
       "0      1293         17206        3993453  \n",
       "1      4449        132528        3952230  \n",
       "2      6033         90734        3962184  \n",
       "3      5026         81265        3882700  \n",
       "4      5274        118838        3829698  "
      ]
     },
     "execution_count": 40,
     "metadata": {},
     "output_type": "execute_result"
    }
   ],
   "source": [
    "df[\"T_Active_Cases\"]= df[\"T_Cas\"]-(df[\"T_Guérisons\"]+df.T_Morts)\n",
    "df.head()"
   ]
  },
  {
   "cell_type": "code",
   "execution_count": 48,
   "metadata": {},
   "outputs": [
    {
     "data": {
      "text/html": [
       "<style  type=\"text/css\" >\n",
       "</style><table id=\"T_37768f52_b498_11ea_8ba3_f01faf2f41a7\" ><thead>    <tr>        <th class=\"blank level0\" ></th>        <th class=\"col_heading level0 col0\" >Date</th>        <th class=\"col_heading level0 col1\" >T_Cas</th>        <th class=\"col_heading level0 col2\" >T_Morts</th>        <th class=\"col_heading level0 col3\" >T_Guérisons</th>        <th class=\"col_heading level0 col4\" >% Décès</th>        <th class=\"col_heading level0 col5\" >% Guérison</th>        <th class=\"col_heading level0 col6\" >% Malade</th>        <th class=\"col_heading level0 col7\" >Cas/jrs</th>        <th class=\"col_heading level0 col8\" >Décès/jrs</th>        <th class=\"col_heading level0 col9\" >Guérisons/jrs</th>        <th class=\"col_heading level0 col10\" >T_Active_Cases</th>    </tr></thead><tbody>\n",
       "                <tr>\n",
       "                        <th id=\"T_37768f52_b498_11ea_8ba3_f01faf2f41a7level0_row0\" class=\"row_heading level0 row0\" >0</th>\n",
       "                        <td id=\"T_37768f52_b498_11ea_8ba3_f01faf2f41a7row0_col0\" class=\"data row0 col0\" >2020-06-21 00:00:00</td>\n",
       "                        <td id=\"T_37768f52_b498_11ea_8ba3_f01faf2f41a7row0_col1\" class=\"data row0 col1\" >8858407</td>\n",
       "                        <td id=\"T_37768f52_b498_11ea_8ba3_f01faf2f41a7row0_col2\" class=\"data row0 col2\" >465823</td>\n",
       "                        <td id=\"T_37768f52_b498_11ea_8ba3_f01faf2f41a7row0_col3\" class=\"data row0 col3\" >4399131</td>\n",
       "                        <td id=\"T_37768f52_b498_11ea_8ba3_f01faf2f41a7row0_col4\" class=\"data row0 col4\" >5.26</td>\n",
       "                        <td id=\"T_37768f52_b498_11ea_8ba3_f01faf2f41a7row0_col5\" class=\"data row0 col5\" >49.66</td>\n",
       "                        <td id=\"T_37768f52_b498_11ea_8ba3_f01faf2f41a7row0_col6\" class=\"data row0 col6\" >45.08</td>\n",
       "                        <td id=\"T_37768f52_b498_11ea_8ba3_f01faf2f41a7row0_col7\" class=\"data row0 col7\" >59722</td>\n",
       "                        <td id=\"T_37768f52_b498_11ea_8ba3_f01faf2f41a7row0_col8\" class=\"data row0 col8\" >1293</td>\n",
       "                        <td id=\"T_37768f52_b498_11ea_8ba3_f01faf2f41a7row0_col9\" class=\"data row0 col9\" >17206</td>\n",
       "                        <td id=\"T_37768f52_b498_11ea_8ba3_f01faf2f41a7row0_col10\" class=\"data row0 col10\" >3993453</td>\n",
       "            </tr>\n",
       "            <tr>\n",
       "                        <th id=\"T_37768f52_b498_11ea_8ba3_f01faf2f41a7level0_row1\" class=\"row_heading level0 row1\" >1</th>\n",
       "                        <td id=\"T_37768f52_b498_11ea_8ba3_f01faf2f41a7row1_col0\" class=\"data row1 col0\" >2020-06-20 00:00:00</td>\n",
       "                        <td id=\"T_37768f52_b498_11ea_8ba3_f01faf2f41a7row1_col1\" class=\"data row1 col1\" >8798685</td>\n",
       "                        <td id=\"T_37768f52_b498_11ea_8ba3_f01faf2f41a7row1_col2\" class=\"data row1 col2\" >464530</td>\n",
       "                        <td id=\"T_37768f52_b498_11ea_8ba3_f01faf2f41a7row1_col3\" class=\"data row1 col3\" >4381925</td>\n",
       "                        <td id=\"T_37768f52_b498_11ea_8ba3_f01faf2f41a7row1_col4\" class=\"data row1 col4\" >5.28</td>\n",
       "                        <td id=\"T_37768f52_b498_11ea_8ba3_f01faf2f41a7row1_col5\" class=\"data row1 col5\" >49.8</td>\n",
       "                        <td id=\"T_37768f52_b498_11ea_8ba3_f01faf2f41a7row1_col6\" class=\"data row1 col6\" >44.92</td>\n",
       "                        <td id=\"T_37768f52_b498_11ea_8ba3_f01faf2f41a7row1_col7\" class=\"data row1 col7\" >127023</td>\n",
       "                        <td id=\"T_37768f52_b498_11ea_8ba3_f01faf2f41a7row1_col8\" class=\"data row1 col8\" >4449</td>\n",
       "                        <td id=\"T_37768f52_b498_11ea_8ba3_f01faf2f41a7row1_col9\" class=\"data row1 col9\" >132528</td>\n",
       "                        <td id=\"T_37768f52_b498_11ea_8ba3_f01faf2f41a7row1_col10\" class=\"data row1 col10\" >3952230</td>\n",
       "            </tr>\n",
       "            <tr>\n",
       "                        <th id=\"T_37768f52_b498_11ea_8ba3_f01faf2f41a7level0_row2\" class=\"row_heading level0 row2\" >2</th>\n",
       "                        <td id=\"T_37768f52_b498_11ea_8ba3_f01faf2f41a7row2_col0\" class=\"data row2 col0\" >2020-06-19 00:00:00</td>\n",
       "                        <td id=\"T_37768f52_b498_11ea_8ba3_f01faf2f41a7row2_col1\" class=\"data row2 col1\" >8671662</td>\n",
       "                        <td id=\"T_37768f52_b498_11ea_8ba3_f01faf2f41a7row2_col2\" class=\"data row2 col2\" >460081</td>\n",
       "                        <td id=\"T_37768f52_b498_11ea_8ba3_f01faf2f41a7row2_col3\" class=\"data row2 col3\" >4249397</td>\n",
       "                        <td id=\"T_37768f52_b498_11ea_8ba3_f01faf2f41a7row2_col4\" class=\"data row2 col4\" >5.31</td>\n",
       "                        <td id=\"T_37768f52_b498_11ea_8ba3_f01faf2f41a7row2_col5\" class=\"data row2 col5\" >49</td>\n",
       "                        <td id=\"T_37768f52_b498_11ea_8ba3_f01faf2f41a7row2_col6\" class=\"data row2 col6\" >45.69</td>\n",
       "                        <td id=\"T_37768f52_b498_11ea_8ba3_f01faf2f41a7row2_col7\" class=\"data row2 col7\" >176251</td>\n",
       "                        <td id=\"T_37768f52_b498_11ea_8ba3_f01faf2f41a7row2_col8\" class=\"data row2 col8\" >6033</td>\n",
       "                        <td id=\"T_37768f52_b498_11ea_8ba3_f01faf2f41a7row2_col9\" class=\"data row2 col9\" >90734</td>\n",
       "                        <td id=\"T_37768f52_b498_11ea_8ba3_f01faf2f41a7row2_col10\" class=\"data row2 col10\" >3962184</td>\n",
       "            </tr>\n",
       "            <tr>\n",
       "                        <th id=\"T_37768f52_b498_11ea_8ba3_f01faf2f41a7level0_row3\" class=\"row_heading level0 row3\" >3</th>\n",
       "                        <td id=\"T_37768f52_b498_11ea_8ba3_f01faf2f41a7row3_col0\" class=\"data row3 col0\" >2020-06-18 00:00:00</td>\n",
       "                        <td id=\"T_37768f52_b498_11ea_8ba3_f01faf2f41a7row3_col1\" class=\"data row3 col1\" >8495411</td>\n",
       "                        <td id=\"T_37768f52_b498_11ea_8ba3_f01faf2f41a7row3_col2\" class=\"data row3 col2\" >454048</td>\n",
       "                        <td id=\"T_37768f52_b498_11ea_8ba3_f01faf2f41a7row3_col3\" class=\"data row3 col3\" >4158663</td>\n",
       "                        <td id=\"T_37768f52_b498_11ea_8ba3_f01faf2f41a7row3_col4\" class=\"data row3 col4\" >5.34</td>\n",
       "                        <td id=\"T_37768f52_b498_11ea_8ba3_f01faf2f41a7row3_col5\" class=\"data row3 col5\" >48.95</td>\n",
       "                        <td id=\"T_37768f52_b498_11ea_8ba3_f01faf2f41a7row3_col6\" class=\"data row3 col6\" >45.7</td>\n",
       "                        <td id=\"T_37768f52_b498_11ea_8ba3_f01faf2f41a7row3_col7\" class=\"data row3 col7\" >139293</td>\n",
       "                        <td id=\"T_37768f52_b498_11ea_8ba3_f01faf2f41a7row3_col8\" class=\"data row3 col8\" >5026</td>\n",
       "                        <td id=\"T_37768f52_b498_11ea_8ba3_f01faf2f41a7row3_col9\" class=\"data row3 col9\" >81265</td>\n",
       "                        <td id=\"T_37768f52_b498_11ea_8ba3_f01faf2f41a7row3_col10\" class=\"data row3 col10\" >3882700</td>\n",
       "            </tr>\n",
       "            <tr>\n",
       "                        <th id=\"T_37768f52_b498_11ea_8ba3_f01faf2f41a7level0_row4\" class=\"row_heading level0 row4\" >4</th>\n",
       "                        <td id=\"T_37768f52_b498_11ea_8ba3_f01faf2f41a7row4_col0\" class=\"data row4 col0\" >2020-06-17 00:00:00</td>\n",
       "                        <td id=\"T_37768f52_b498_11ea_8ba3_f01faf2f41a7row4_col1\" class=\"data row4 col1\" >8356118</td>\n",
       "                        <td id=\"T_37768f52_b498_11ea_8ba3_f01faf2f41a7row4_col2\" class=\"data row4 col2\" >449022</td>\n",
       "                        <td id=\"T_37768f52_b498_11ea_8ba3_f01faf2f41a7row4_col3\" class=\"data row4 col3\" >4077398</td>\n",
       "                        <td id=\"T_37768f52_b498_11ea_8ba3_f01faf2f41a7row4_col4\" class=\"data row4 col4\" >5.37</td>\n",
       "                        <td id=\"T_37768f52_b498_11ea_8ba3_f01faf2f41a7row4_col5\" class=\"data row4 col5\" >48.8</td>\n",
       "                        <td id=\"T_37768f52_b498_11ea_8ba3_f01faf2f41a7row4_col6\" class=\"data row4 col6\" >45.83</td>\n",
       "                        <td id=\"T_37768f52_b498_11ea_8ba3_f01faf2f41a7row4_col7\" class=\"data row4 col7\" >176157</td>\n",
       "                        <td id=\"T_37768f52_b498_11ea_8ba3_f01faf2f41a7row4_col8\" class=\"data row4 col8\" >5274</td>\n",
       "                        <td id=\"T_37768f52_b498_11ea_8ba3_f01faf2f41a7row4_col9\" class=\"data row4 col9\" >118838</td>\n",
       "                        <td id=\"T_37768f52_b498_11ea_8ba3_f01faf2f41a7row4_col10\" class=\"data row4 col10\" >3829698</td>\n",
       "            </tr>\n",
       "            <tr>\n",
       "                        <th id=\"T_37768f52_b498_11ea_8ba3_f01faf2f41a7level0_row5\" class=\"row_heading level0 row5\" >5</th>\n",
       "                        <td id=\"T_37768f52_b498_11ea_8ba3_f01faf2f41a7row5_col0\" class=\"data row5 col0\" >2020-06-16 00:00:00</td>\n",
       "                        <td id=\"T_37768f52_b498_11ea_8ba3_f01faf2f41a7row5_col1\" class=\"data row5 col1\" >8179961</td>\n",
       "                        <td id=\"T_37768f52_b498_11ea_8ba3_f01faf2f41a7row5_col2\" class=\"data row5 col2\" >443748</td>\n",
       "                        <td id=\"T_37768f52_b498_11ea_8ba3_f01faf2f41a7row5_col3\" class=\"data row5 col3\" >3958560</td>\n",
       "                        <td id=\"T_37768f52_b498_11ea_8ba3_f01faf2f41a7row5_col4\" class=\"data row5 col4\" >5.42</td>\n",
       "                        <td id=\"T_37768f52_b498_11ea_8ba3_f01faf2f41a7row5_col5\" class=\"data row5 col5\" >48.39</td>\n",
       "                        <td id=\"T_37768f52_b498_11ea_8ba3_f01faf2f41a7row5_col6\" class=\"data row5 col6\" >46.18</td>\n",
       "                        <td id=\"T_37768f52_b498_11ea_8ba3_f01faf2f41a7row5_col7\" class=\"data row5 col7\" >140157</td>\n",
       "                        <td id=\"T_37768f52_b498_11ea_8ba3_f01faf2f41a7row5_col8\" class=\"data row5 col8\" >6788</td>\n",
       "                        <td id=\"T_37768f52_b498_11ea_8ba3_f01faf2f41a7row5_col9\" class=\"data row5 col9\" >97897</td>\n",
       "                        <td id=\"T_37768f52_b498_11ea_8ba3_f01faf2f41a7row5_col10\" class=\"data row5 col10\" >3777653</td>\n",
       "            </tr>\n",
       "            <tr>\n",
       "                        <th id=\"T_37768f52_b498_11ea_8ba3_f01faf2f41a7level0_row6\" class=\"row_heading level0 row6\" >6</th>\n",
       "                        <td id=\"T_37768f52_b498_11ea_8ba3_f01faf2f41a7row6_col0\" class=\"data row6 col0\" >2020-06-15 00:00:00</td>\n",
       "                        <td id=\"T_37768f52_b498_11ea_8ba3_f01faf2f41a7row6_col1\" class=\"data row6 col1\" >8039804</td>\n",
       "                        <td id=\"T_37768f52_b498_11ea_8ba3_f01faf2f41a7row6_col2\" class=\"data row6 col2\" >436960</td>\n",
       "                        <td id=\"T_37768f52_b498_11ea_8ba3_f01faf2f41a7row6_col3\" class=\"data row6 col3\" >3860663</td>\n",
       "                        <td id=\"T_37768f52_b498_11ea_8ba3_f01faf2f41a7row6_col4\" class=\"data row6 col4\" >5.43</td>\n",
       "                        <td id=\"T_37768f52_b498_11ea_8ba3_f01faf2f41a7row6_col5\" class=\"data row6 col5\" >48.02</td>\n",
       "                        <td id=\"T_37768f52_b498_11ea_8ba3_f01faf2f41a7row6_col6\" class=\"data row6 col6\" >46.55</td>\n",
       "                        <td id=\"T_37768f52_b498_11ea_8ba3_f01faf2f41a7row6_col7\" class=\"data row6 col7\" >133664</td>\n",
       "                        <td id=\"T_37768f52_b498_11ea_8ba3_f01faf2f41a7row6_col8\" class=\"data row6 col8\" >3833</td>\n",
       "                        <td id=\"T_37768f52_b498_11ea_8ba3_f01faf2f41a7row6_col9\" class=\"data row6 col9\" >87913</td>\n",
       "                        <td id=\"T_37768f52_b498_11ea_8ba3_f01faf2f41a7row6_col10\" class=\"data row6 col10\" >3742181</td>\n",
       "            </tr>\n",
       "            <tr>\n",
       "                        <th id=\"T_37768f52_b498_11ea_8ba3_f01faf2f41a7level0_row7\" class=\"row_heading level0 row7\" >7</th>\n",
       "                        <td id=\"T_37768f52_b498_11ea_8ba3_f01faf2f41a7row7_col0\" class=\"data row7 col0\" >2020-06-14 00:00:00</td>\n",
       "                        <td id=\"T_37768f52_b498_11ea_8ba3_f01faf2f41a7row7_col1\" class=\"data row7 col1\" >7906140</td>\n",
       "                        <td id=\"T_37768f52_b498_11ea_8ba3_f01faf2f41a7row7_col2\" class=\"data row7 col2\" >433127</td>\n",
       "                        <td id=\"T_37768f52_b498_11ea_8ba3_f01faf2f41a7row7_col3\" class=\"data row7 col3\" >3772750</td>\n",
       "                        <td id=\"T_37768f52_b498_11ea_8ba3_f01faf2f41a7row7_col4\" class=\"data row7 col4\" >5.48</td>\n",
       "                        <td id=\"T_37768f52_b498_11ea_8ba3_f01faf2f41a7row7_col5\" class=\"data row7 col5\" >47.72</td>\n",
       "                        <td id=\"T_37768f52_b498_11ea_8ba3_f01faf2f41a7row7_col6\" class=\"data row7 col6\" >46.8</td>\n",
       "                        <td id=\"T_37768f52_b498_11ea_8ba3_f01faf2f41a7row7_col7\" class=\"data row7 col7\" >134088</td>\n",
       "                        <td id=\"T_37768f52_b498_11ea_8ba3_f01faf2f41a7row7_col8\" class=\"data row7 col8\" >3332</td>\n",
       "                        <td id=\"T_37768f52_b498_11ea_8ba3_f01faf2f41a7row7_col9\" class=\"data row7 col9\" >71422</td>\n",
       "                        <td id=\"T_37768f52_b498_11ea_8ba3_f01faf2f41a7row7_col10\" class=\"data row7 col10\" >3700263</td>\n",
       "            </tr>\n",
       "            <tr>\n",
       "                        <th id=\"T_37768f52_b498_11ea_8ba3_f01faf2f41a7level0_row8\" class=\"row_heading level0 row8\" >8</th>\n",
       "                        <td id=\"T_37768f52_b498_11ea_8ba3_f01faf2f41a7row8_col0\" class=\"data row8 col0\" >2020-06-13 00:00:00</td>\n",
       "                        <td id=\"T_37768f52_b498_11ea_8ba3_f01faf2f41a7row8_col1\" class=\"data row8 col1\" >7772052</td>\n",
       "                        <td id=\"T_37768f52_b498_11ea_8ba3_f01faf2f41a7row8_col2\" class=\"data row8 col2\" >429795</td>\n",
       "                        <td id=\"T_37768f52_b498_11ea_8ba3_f01faf2f41a7row8_col3\" class=\"data row8 col3\" >3701328</td>\n",
       "                        <td id=\"T_37768f52_b498_11ea_8ba3_f01faf2f41a7row8_col4\" class=\"data row8 col4\" >5.53</td>\n",
       "                        <td id=\"T_37768f52_b498_11ea_8ba3_f01faf2f41a7row8_col5\" class=\"data row8 col5\" >47.62</td>\n",
       "                        <td id=\"T_37768f52_b498_11ea_8ba3_f01faf2f41a7row8_col6\" class=\"data row8 col6\" >46.85</td>\n",
       "                        <td id=\"T_37768f52_b498_11ea_8ba3_f01faf2f41a7row8_col7\" class=\"data row8 col7\" >134283</td>\n",
       "                        <td id=\"T_37768f52_b498_11ea_8ba3_f01faf2f41a7row8_col8\" class=\"data row8 col8\" >4342</td>\n",
       "                        <td id=\"T_37768f52_b498_11ea_8ba3_f01faf2f41a7row8_col9\" class=\"data row8 col9\" >85058</td>\n",
       "                        <td id=\"T_37768f52_b498_11ea_8ba3_f01faf2f41a7row8_col10\" class=\"data row8 col10\" >3640929</td>\n",
       "            </tr>\n",
       "            <tr>\n",
       "                        <th id=\"T_37768f52_b498_11ea_8ba3_f01faf2f41a7level0_row9\" class=\"row_heading level0 row9\" >9</th>\n",
       "                        <td id=\"T_37768f52_b498_11ea_8ba3_f01faf2f41a7row9_col0\" class=\"data row9 col0\" >2020-06-12 00:00:00</td>\n",
       "                        <td id=\"T_37768f52_b498_11ea_8ba3_f01faf2f41a7row9_col1\" class=\"data row9 col1\" >7637769</td>\n",
       "                        <td id=\"T_37768f52_b498_11ea_8ba3_f01faf2f41a7row9_col2\" class=\"data row9 col2\" >425453</td>\n",
       "                        <td id=\"T_37768f52_b498_11ea_8ba3_f01faf2f41a7row9_col3\" class=\"data row9 col3\" >3616270</td>\n",
       "                        <td id=\"T_37768f52_b498_11ea_8ba3_f01faf2f41a7row9_col4\" class=\"data row9 col4\" >5.57</td>\n",
       "                        <td id=\"T_37768f52_b498_11ea_8ba3_f01faf2f41a7row9_col5\" class=\"data row9 col5\" >47.35</td>\n",
       "                        <td id=\"T_37768f52_b498_11ea_8ba3_f01faf2f41a7row9_col6\" class=\"data row9 col6\" >47.08</td>\n",
       "                        <td id=\"T_37768f52_b498_11ea_8ba3_f01faf2f41a7row9_col7\" class=\"data row9 col7\" >118483</td>\n",
       "                        <td id=\"T_37768f52_b498_11ea_8ba3_f01faf2f41a7row9_col8\" class=\"data row9 col8\" >3936</td>\n",
       "                        <td id=\"T_37768f52_b498_11ea_8ba3_f01faf2f41a7row9_col9\" class=\"data row9 col9\" >72770</td>\n",
       "                        <td id=\"T_37768f52_b498_11ea_8ba3_f01faf2f41a7row9_col10\" class=\"data row9 col10\" >3596046</td>\n",
       "            </tr>\n",
       "            <tr>\n",
       "                        <th id=\"T_37768f52_b498_11ea_8ba3_f01faf2f41a7level0_row10\" class=\"row_heading level0 row10\" >10</th>\n",
       "                        <td id=\"T_37768f52_b498_11ea_8ba3_f01faf2f41a7row10_col0\" class=\"data row10 col0\" >2020-06-11 00:00:00</td>\n",
       "                        <td id=\"T_37768f52_b498_11ea_8ba3_f01faf2f41a7row10_col1\" class=\"data row10 col1\" >7519286</td>\n",
       "                        <td id=\"T_37768f52_b498_11ea_8ba3_f01faf2f41a7row10_col2\" class=\"data row10 col2\" >421517</td>\n",
       "                        <td id=\"T_37768f52_b498_11ea_8ba3_f01faf2f41a7row10_col3\" class=\"data row10 col3\" >3543500</td>\n",
       "                        <td id=\"T_37768f52_b498_11ea_8ba3_f01faf2f41a7row10_col4\" class=\"data row10 col4\" >5.61</td>\n",
       "                        <td id=\"T_37768f52_b498_11ea_8ba3_f01faf2f41a7row10_col5\" class=\"data row10 col5\" >47.13</td>\n",
       "                        <td id=\"T_37768f52_b498_11ea_8ba3_f01faf2f41a7row10_col6\" class=\"data row10 col6\" >47.27</td>\n",
       "                        <td id=\"T_37768f52_b498_11ea_8ba3_f01faf2f41a7row10_col7\" class=\"data row10 col7\" >154503</td>\n",
       "                        <td id=\"T_37768f52_b498_11ea_8ba3_f01faf2f41a7row10_col8\" class=\"data row10 col8\" >5291</td>\n",
       "                        <td id=\"T_37768f52_b498_11ea_8ba3_f01faf2f41a7row10_col9\" class=\"data row10 col9\" >85894</td>\n",
       "                        <td id=\"T_37768f52_b498_11ea_8ba3_f01faf2f41a7row10_col10\" class=\"data row10 col10\" >3554269</td>\n",
       "            </tr>\n",
       "            <tr>\n",
       "                        <th id=\"T_37768f52_b498_11ea_8ba3_f01faf2f41a7level0_row11\" class=\"row_heading level0 row11\" >11</th>\n",
       "                        <td id=\"T_37768f52_b498_11ea_8ba3_f01faf2f41a7row11_col0\" class=\"data row11 col0\" >2020-06-10 00:00:00</td>\n",
       "                        <td id=\"T_37768f52_b498_11ea_8ba3_f01faf2f41a7row11_col1\" class=\"data row11 col1\" >7364783</td>\n",
       "                        <td id=\"T_37768f52_b498_11ea_8ba3_f01faf2f41a7row11_col2\" class=\"data row11 col2\" >416226</td>\n",
       "                        <td id=\"T_37768f52_b498_11ea_8ba3_f01faf2f41a7row11_col3\" class=\"data row11 col3\" >3457606</td>\n",
       "                        <td id=\"T_37768f52_b498_11ea_8ba3_f01faf2f41a7row11_col4\" class=\"data row11 col4\" >5.65</td>\n",
       "                        <td id=\"T_37768f52_b498_11ea_8ba3_f01faf2f41a7row11_col5\" class=\"data row11 col5\" >46.95</td>\n",
       "                        <td id=\"T_37768f52_b498_11ea_8ba3_f01faf2f41a7row11_col6\" class=\"data row11 col6\" >47.4</td>\n",
       "                        <td id=\"T_37768f52_b498_11ea_8ba3_f01faf2f41a7row11_col7\" class=\"data row11 col7\" >118074</td>\n",
       "                        <td id=\"T_37768f52_b498_11ea_8ba3_f01faf2f41a7row11_col8\" class=\"data row11 col8\" >4765</td>\n",
       "                        <td id=\"T_37768f52_b498_11ea_8ba3_f01faf2f41a7row11_col9\" class=\"data row11 col9\" >79164</td>\n",
       "                        <td id=\"T_37768f52_b498_11ea_8ba3_f01faf2f41a7row11_col10\" class=\"data row11 col10\" >3490951</td>\n",
       "            </tr>\n",
       "            <tr>\n",
       "                        <th id=\"T_37768f52_b498_11ea_8ba3_f01faf2f41a7level0_row12\" class=\"row_heading level0 row12\" >12</th>\n",
       "                        <td id=\"T_37768f52_b498_11ea_8ba3_f01faf2f41a7row12_col0\" class=\"data row12 col0\" >2020-06-09 00:00:00</td>\n",
       "                        <td id=\"T_37768f52_b498_11ea_8ba3_f01faf2f41a7row12_col1\" class=\"data row12 col1\" >7246709</td>\n",
       "                        <td id=\"T_37768f52_b498_11ea_8ba3_f01faf2f41a7row12_col2\" class=\"data row12 col2\" >411461</td>\n",
       "                        <td id=\"T_37768f52_b498_11ea_8ba3_f01faf2f41a7row12_col3\" class=\"data row12 col3\" >3378442</td>\n",
       "                        <td id=\"T_37768f52_b498_11ea_8ba3_f01faf2f41a7row12_col4\" class=\"data row12 col4\" >5.68</td>\n",
       "                        <td id=\"T_37768f52_b498_11ea_8ba3_f01faf2f41a7row12_col5\" class=\"data row12 col5\" >46.62</td>\n",
       "                        <td id=\"T_37768f52_b498_11ea_8ba3_f01faf2f41a7row12_col6\" class=\"data row12 col6\" >47.7</td>\n",
       "                        <td id=\"T_37768f52_b498_11ea_8ba3_f01faf2f41a7row12_col7\" class=\"data row12 col7\" >123573</td>\n",
       "                        <td id=\"T_37768f52_b498_11ea_8ba3_f01faf2f41a7row12_col8\" class=\"data row12 col8\" >4862</td>\n",
       "                        <td id=\"T_37768f52_b498_11ea_8ba3_f01faf2f41a7row12_col9\" class=\"data row12 col9\" >82292</td>\n",
       "                        <td id=\"T_37768f52_b498_11ea_8ba3_f01faf2f41a7row12_col10\" class=\"data row12 col10\" >3456806</td>\n",
       "            </tr>\n",
       "            <tr>\n",
       "                        <th id=\"T_37768f52_b498_11ea_8ba3_f01faf2f41a7level0_row13\" class=\"row_heading level0 row13\" >13</th>\n",
       "                        <td id=\"T_37768f52_b498_11ea_8ba3_f01faf2f41a7row13_col0\" class=\"data row13 col0\" >2020-06-08 00:00:00</td>\n",
       "                        <td id=\"T_37768f52_b498_11ea_8ba3_f01faf2f41a7row13_col1\" class=\"data row13 col1\" >7123136</td>\n",
       "                        <td id=\"T_37768f52_b498_11ea_8ba3_f01faf2f41a7row13_col2\" class=\"data row13 col2\" >406599</td>\n",
       "                        <td id=\"T_37768f52_b498_11ea_8ba3_f01faf2f41a7row13_col3\" class=\"data row13 col3\" >3296150</td>\n",
       "                        <td id=\"T_37768f52_b498_11ea_8ba3_f01faf2f41a7row13_col4\" class=\"data row13 col4\" >5.71</td>\n",
       "                        <td id=\"T_37768f52_b498_11ea_8ba3_f01faf2f41a7row13_col5\" class=\"data row13 col5\" >46.27</td>\n",
       "                        <td id=\"T_37768f52_b498_11ea_8ba3_f01faf2f41a7row13_col6\" class=\"data row13 col6\" >48.02</td>\n",
       "                        <td id=\"T_37768f52_b498_11ea_8ba3_f01faf2f41a7row13_col7\" class=\"data row13 col7\" >108533</td>\n",
       "                        <td id=\"T_37768f52_b498_11ea_8ba3_f01faf2f41a7row13_col8\" class=\"data row13 col8\" >3800</td>\n",
       "                        <td id=\"T_37768f52_b498_11ea_8ba3_f01faf2f41a7row13_col9\" class=\"data row13 col9\" >152672</td>\n",
       "                        <td id=\"T_37768f52_b498_11ea_8ba3_f01faf2f41a7row13_col10\" class=\"data row13 col10\" >3420387</td>\n",
       "            </tr>\n",
       "            <tr>\n",
       "                        <th id=\"T_37768f52_b498_11ea_8ba3_f01faf2f41a7level0_row14\" class=\"row_heading level0 row14\" >14</th>\n",
       "                        <td id=\"T_37768f52_b498_11ea_8ba3_f01faf2f41a7row14_col0\" class=\"data row14 col0\" >2020-06-07 00:00:00</td>\n",
       "                        <td id=\"T_37768f52_b498_11ea_8ba3_f01faf2f41a7row14_col1\" class=\"data row14 col1\" >7014603</td>\n",
       "                        <td id=\"T_37768f52_b498_11ea_8ba3_f01faf2f41a7row14_col2\" class=\"data row14 col2\" >402799</td>\n",
       "                        <td id=\"T_37768f52_b498_11ea_8ba3_f01faf2f41a7row14_col3\" class=\"data row14 col3\" >3143478</td>\n",
       "                        <td id=\"T_37768f52_b498_11ea_8ba3_f01faf2f41a7row14_col4\" class=\"data row14 col4\" >5.74</td>\n",
       "                        <td id=\"T_37768f52_b498_11ea_8ba3_f01faf2f41a7row14_col5\" class=\"data row14 col5\" >44.81</td>\n",
       "                        <td id=\"T_37768f52_b498_11ea_8ba3_f01faf2f41a7row14_col6\" class=\"data row14 col6\" >49.44</td>\n",
       "                        <td id=\"T_37768f52_b498_11ea_8ba3_f01faf2f41a7row14_col7\" class=\"data row14 col7\" >113715</td>\n",
       "                        <td id=\"T_37768f52_b498_11ea_8ba3_f01faf2f41a7row14_col8\" class=\"data row14 col8\" >2745</td>\n",
       "                        <td id=\"T_37768f52_b498_11ea_8ba3_f01faf2f41a7row14_col9\" class=\"data row14 col9\" >55122</td>\n",
       "                        <td id=\"T_37768f52_b498_11ea_8ba3_f01faf2f41a7row14_col10\" class=\"data row14 col10\" >3468326</td>\n",
       "            </tr>\n",
       "            <tr>\n",
       "                        <th id=\"T_37768f52_b498_11ea_8ba3_f01faf2f41a7level0_row15\" class=\"row_heading level0 row15\" >15</th>\n",
       "                        <td id=\"T_37768f52_b498_11ea_8ba3_f01faf2f41a7row15_col0\" class=\"data row15 col0\" >2020-06-06 00:00:00</td>\n",
       "                        <td id=\"T_37768f52_b498_11ea_8ba3_f01faf2f41a7row15_col1\" class=\"data row15 col1\" >6900888</td>\n",
       "                        <td id=\"T_37768f52_b498_11ea_8ba3_f01faf2f41a7row15_col2\" class=\"data row15 col2\" >400054</td>\n",
       "                        <td id=\"T_37768f52_b498_11ea_8ba3_f01faf2f41a7row15_col3\" class=\"data row15 col3\" >3088356</td>\n",
       "                        <td id=\"T_37768f52_b498_11ea_8ba3_f01faf2f41a7row15_col4\" class=\"data row15 col4\" >5.8</td>\n",
       "                        <td id=\"T_37768f52_b498_11ea_8ba3_f01faf2f41a7row15_col5\" class=\"data row15 col5\" >44.75</td>\n",
       "                        <td id=\"T_37768f52_b498_11ea_8ba3_f01faf2f41a7row15_col6\" class=\"data row15 col6\" >49.45</td>\n",
       "                        <td id=\"T_37768f52_b498_11ea_8ba3_f01faf2f41a7row15_col7\" class=\"data row15 col7\" >127130</td>\n",
       "                        <td id=\"T_37768f52_b498_11ea_8ba3_f01faf2f41a7row15_col8\" class=\"data row15 col8\" >3871</td>\n",
       "                        <td id=\"T_37768f52_b498_11ea_8ba3_f01faf2f41a7row15_col9\" class=\"data row15 col9\" >84705</td>\n",
       "                        <td id=\"T_37768f52_b498_11ea_8ba3_f01faf2f41a7row15_col10\" class=\"data row15 col10\" >3412478</td>\n",
       "            </tr>\n",
       "            <tr>\n",
       "                        <th id=\"T_37768f52_b498_11ea_8ba3_f01faf2f41a7level0_row16\" class=\"row_heading level0 row16\" >16</th>\n",
       "                        <td id=\"T_37768f52_b498_11ea_8ba3_f01faf2f41a7row16_col0\" class=\"data row16 col0\" >2020-06-05 00:00:00</td>\n",
       "                        <td id=\"T_37768f52_b498_11ea_8ba3_f01faf2f41a7row16_col1\" class=\"data row16 col1\" >6773758</td>\n",
       "                        <td id=\"T_37768f52_b498_11ea_8ba3_f01faf2f41a7row16_col2\" class=\"data row16 col2\" >396183</td>\n",
       "                        <td id=\"T_37768f52_b498_11ea_8ba3_f01faf2f41a7row16_col3\" class=\"data row16 col3\" >3003651</td>\n",
       "                        <td id=\"T_37768f52_b498_11ea_8ba3_f01faf2f41a7row16_col4\" class=\"data row16 col4\" >5.85</td>\n",
       "                        <td id=\"T_37768f52_b498_11ea_8ba3_f01faf2f41a7row16_col5\" class=\"data row16 col5\" >44.34</td>\n",
       "                        <td id=\"T_37768f52_b498_11ea_8ba3_f01faf2f41a7row16_col6\" class=\"data row16 col6\" >49.81</td>\n",
       "                        <td id=\"T_37768f52_b498_11ea_8ba3_f01faf2f41a7row16_col7\" class=\"data row16 col7\" >136911</td>\n",
       "                        <td id=\"T_37768f52_b498_11ea_8ba3_f01faf2f41a7row16_col8\" class=\"data row16 col8\" >4992</td>\n",
       "                        <td id=\"T_37768f52_b498_11ea_8ba3_f01faf2f41a7row16_col9\" class=\"data row16 col9\" >131223</td>\n",
       "                        <td id=\"T_37768f52_b498_11ea_8ba3_f01faf2f41a7row16_col10\" class=\"data row16 col10\" >3373924</td>\n",
       "            </tr>\n",
       "            <tr>\n",
       "                        <th id=\"T_37768f52_b498_11ea_8ba3_f01faf2f41a7level0_row17\" class=\"row_heading level0 row17\" >17</th>\n",
       "                        <td id=\"T_37768f52_b498_11ea_8ba3_f01faf2f41a7row17_col0\" class=\"data row17 col0\" >2020-06-04 00:00:00</td>\n",
       "                        <td id=\"T_37768f52_b498_11ea_8ba3_f01faf2f41a7row17_col1\" class=\"data row17 col1\" >6636847</td>\n",
       "                        <td id=\"T_37768f52_b498_11ea_8ba3_f01faf2f41a7row17_col2\" class=\"data row17 col2\" >391191</td>\n",
       "                        <td id=\"T_37768f52_b498_11ea_8ba3_f01faf2f41a7row17_col3\" class=\"data row17 col3\" >2872428</td>\n",
       "                        <td id=\"T_37768f52_b498_11ea_8ba3_f01faf2f41a7row17_col4\" class=\"data row17 col4\" >5.89</td>\n",
       "                        <td id=\"T_37768f52_b498_11ea_8ba3_f01faf2f41a7row17_col5\" class=\"data row17 col5\" >43.28</td>\n",
       "                        <td id=\"T_37768f52_b498_11ea_8ba3_f01faf2f41a7row17_col6\" class=\"data row17 col6\" >50.83</td>\n",
       "                        <td id=\"T_37768f52_b498_11ea_8ba3_f01faf2f41a7row17_col7\" class=\"data row17 col7\" >127967</td>\n",
       "                        <td id=\"T_37768f52_b498_11ea_8ba3_f01faf2f41a7row17_col8\" class=\"data row17 col8\" >5190</td>\n",
       "                        <td id=\"T_37768f52_b498_11ea_8ba3_f01faf2f41a7row17_col9\" class=\"data row17 col9\" >65023</td>\n",
       "                        <td id=\"T_37768f52_b498_11ea_8ba3_f01faf2f41a7row17_col10\" class=\"data row17 col10\" >3373228</td>\n",
       "            </tr>\n",
       "            <tr>\n",
       "                        <th id=\"T_37768f52_b498_11ea_8ba3_f01faf2f41a7level0_row18\" class=\"row_heading level0 row18\" >18</th>\n",
       "                        <td id=\"T_37768f52_b498_11ea_8ba3_f01faf2f41a7row18_col0\" class=\"data row18 col0\" >2020-06-03 00:00:00</td>\n",
       "                        <td id=\"T_37768f52_b498_11ea_8ba3_f01faf2f41a7row18_col1\" class=\"data row18 col1\" >6508880</td>\n",
       "                        <td id=\"T_37768f52_b498_11ea_8ba3_f01faf2f41a7row18_col2\" class=\"data row18 col2\" >386001</td>\n",
       "                        <td id=\"T_37768f52_b498_11ea_8ba3_f01faf2f41a7row18_col3\" class=\"data row18 col3\" >2807405</td>\n",
       "                        <td id=\"T_37768f52_b498_11ea_8ba3_f01faf2f41a7row18_col4\" class=\"data row18 col4\" >5.93</td>\n",
       "                        <td id=\"T_37768f52_b498_11ea_8ba3_f01faf2f41a7row18_col5\" class=\"data row18 col5\" >43.13</td>\n",
       "                        <td id=\"T_37768f52_b498_11ea_8ba3_f01faf2f41a7row18_col6\" class=\"data row18 col6\" >50.94</td>\n",
       "                        <td id=\"T_37768f52_b498_11ea_8ba3_f01faf2f41a7row18_col7\" class=\"data row18 col7\" >126983</td>\n",
       "                        <td id=\"T_37768f52_b498_11ea_8ba3_f01faf2f41a7row18_col8\" class=\"data row18 col8\" >5697</td>\n",
       "                        <td id=\"T_37768f52_b498_11ea_8ba3_f01faf2f41a7row18_col9\" class=\"data row18 col9\" >75552</td>\n",
       "                        <td id=\"T_37768f52_b498_11ea_8ba3_f01faf2f41a7row18_col10\" class=\"data row18 col10\" >3315474</td>\n",
       "            </tr>\n",
       "            <tr>\n",
       "                        <th id=\"T_37768f52_b498_11ea_8ba3_f01faf2f41a7level0_row19\" class=\"row_heading level0 row19\" >19</th>\n",
       "                        <td id=\"T_37768f52_b498_11ea_8ba3_f01faf2f41a7row19_col0\" class=\"data row19 col0\" >2020-06-02 00:00:00</td>\n",
       "                        <td id=\"T_37768f52_b498_11ea_8ba3_f01faf2f41a7row19_col1\" class=\"data row19 col1\" >6381897</td>\n",
       "                        <td id=\"T_37768f52_b498_11ea_8ba3_f01faf2f41a7row19_col2\" class=\"data row19 col2\" >380304</td>\n",
       "                        <td id=\"T_37768f52_b498_11ea_8ba3_f01faf2f41a7row19_col3\" class=\"data row19 col3\" >2731853</td>\n",
       "                        <td id=\"T_37768f52_b498_11ea_8ba3_f01faf2f41a7row19_col4\" class=\"data row19 col4\" >5.96</td>\n",
       "                        <td id=\"T_37768f52_b498_11ea_8ba3_f01faf2f41a7row19_col5\" class=\"data row19 col5\" >42.81</td>\n",
       "                        <td id=\"T_37768f52_b498_11ea_8ba3_f01faf2f41a7row19_col6\" class=\"data row19 col6\" >51.23</td>\n",
       "                        <td id=\"T_37768f52_b498_11ea_8ba3_f01faf2f41a7row19_col7\" class=\"data row19 col7\" >112740</td>\n",
       "                        <td id=\"T_37768f52_b498_11ea_8ba3_f01faf2f41a7row19_col8\" class=\"data row19 col8\" >4707</td>\n",
       "                        <td id=\"T_37768f52_b498_11ea_8ba3_f01faf2f41a7row19_col9\" class=\"data row19 col9\" >33525</td>\n",
       "                        <td id=\"T_37768f52_b498_11ea_8ba3_f01faf2f41a7row19_col10\" class=\"data row19 col10\" >3269740</td>\n",
       "            </tr>\n",
       "            <tr>\n",
       "                        <th id=\"T_37768f52_b498_11ea_8ba3_f01faf2f41a7level0_row20\" class=\"row_heading level0 row20\" >20</th>\n",
       "                        <td id=\"T_37768f52_b498_11ea_8ba3_f01faf2f41a7row20_col0\" class=\"data row20 col0\" >2020-06-01 00:00:00</td>\n",
       "                        <td id=\"T_37768f52_b498_11ea_8ba3_f01faf2f41a7row20_col1\" class=\"data row20 col1\" >6269157</td>\n",
       "                        <td id=\"T_37768f52_b498_11ea_8ba3_f01faf2f41a7row20_col2\" class=\"data row20 col2\" >375597</td>\n",
       "                        <td id=\"T_37768f52_b498_11ea_8ba3_f01faf2f41a7row20_col3\" class=\"data row20 col3\" >2698328</td>\n",
       "                        <td id=\"T_37768f52_b498_11ea_8ba3_f01faf2f41a7row20_col4\" class=\"data row20 col4\" >5.99</td>\n",
       "                        <td id=\"T_37768f52_b498_11ea_8ba3_f01faf2f41a7row20_col5\" class=\"data row20 col5\" >43.04</td>\n",
       "                        <td id=\"T_37768f52_b498_11ea_8ba3_f01faf2f41a7row20_col6\" class=\"data row20 col6\" >50.97</td>\n",
       "                        <td id=\"T_37768f52_b498_11ea_8ba3_f01faf2f41a7row20_col7\" class=\"data row20 col7\" >99143</td>\n",
       "                        <td id=\"T_37768f52_b498_11ea_8ba3_f01faf2f41a7row20_col8\" class=\"data row20 col8\" >3511</td>\n",
       "                        <td id=\"T_37768f52_b498_11ea_8ba3_f01faf2f41a7row20_col9\" class=\"data row20 col9\" >54768</td>\n",
       "                        <td id=\"T_37768f52_b498_11ea_8ba3_f01faf2f41a7row20_col10\" class=\"data row20 col10\" >3195232</td>\n",
       "            </tr>\n",
       "            <tr>\n",
       "                        <th id=\"T_37768f52_b498_11ea_8ba3_f01faf2f41a7level0_row21\" class=\"row_heading level0 row21\" >21</th>\n",
       "                        <td id=\"T_37768f52_b498_11ea_8ba3_f01faf2f41a7row21_col0\" class=\"data row21 col0\" >2020-05-31 00:00:00</td>\n",
       "                        <td id=\"T_37768f52_b498_11ea_8ba3_f01faf2f41a7row21_col1\" class=\"data row21 col1\" >6170014</td>\n",
       "                        <td id=\"T_37768f52_b498_11ea_8ba3_f01faf2f41a7row21_col2\" class=\"data row21 col2\" >372086</td>\n",
       "                        <td id=\"T_37768f52_b498_11ea_8ba3_f01faf2f41a7row21_col3\" class=\"data row21 col3\" >2643560</td>\n",
       "                        <td id=\"T_37768f52_b498_11ea_8ba3_f01faf2f41a7row21_col4\" class=\"data row21 col4\" >6.03</td>\n",
       "                        <td id=\"T_37768f52_b498_11ea_8ba3_f01faf2f41a7row21_col5\" class=\"data row21 col5\" >42.85</td>\n",
       "                        <td id=\"T_37768f52_b498_11ea_8ba3_f01faf2f41a7row21_col6\" class=\"data row21 col6\" >51.12</td>\n",
       "                        <td id=\"T_37768f52_b498_11ea_8ba3_f01faf2f41a7row21_col7\" class=\"data row21 col7\" >107951</td>\n",
       "                        <td id=\"T_37768f52_b498_11ea_8ba3_f01faf2f41a7row21_col8\" class=\"data row21 col8\" >2909</td>\n",
       "                        <td id=\"T_37768f52_b498_11ea_8ba3_f01faf2f41a7row21_col9\" class=\"data row21 col9\" >76651</td>\n",
       "                        <td id=\"T_37768f52_b498_11ea_8ba3_f01faf2f41a7row21_col10\" class=\"data row21 col10\" >3154368</td>\n",
       "            </tr>\n",
       "            <tr>\n",
       "                        <th id=\"T_37768f52_b498_11ea_8ba3_f01faf2f41a7level0_row22\" class=\"row_heading level0 row22\" >22</th>\n",
       "                        <td id=\"T_37768f52_b498_11ea_8ba3_f01faf2f41a7row22_col0\" class=\"data row22 col0\" >2020-05-30 00:00:00</td>\n",
       "                        <td id=\"T_37768f52_b498_11ea_8ba3_f01faf2f41a7row22_col1\" class=\"data row22 col1\" >6062063</td>\n",
       "                        <td id=\"T_37768f52_b498_11ea_8ba3_f01faf2f41a7row22_col2\" class=\"data row22 col2\" >369177</td>\n",
       "                        <td id=\"T_37768f52_b498_11ea_8ba3_f01faf2f41a7row22_col3\" class=\"data row22 col3\" >2566909</td>\n",
       "                        <td id=\"T_37768f52_b498_11ea_8ba3_f01faf2f41a7row22_col4\" class=\"data row22 col4\" >6.09</td>\n",
       "                        <td id=\"T_37768f52_b498_11ea_8ba3_f01faf2f41a7row22_col5\" class=\"data row22 col5\" >42.34</td>\n",
       "                        <td id=\"T_37768f52_b498_11ea_8ba3_f01faf2f41a7row22_col6\" class=\"data row22 col6\" >51.57</td>\n",
       "                        <td id=\"T_37768f52_b498_11ea_8ba3_f01faf2f41a7row22_col7\" class=\"data row22 col7\" >134770</td>\n",
       "                        <td id=\"T_37768f52_b498_11ea_8ba3_f01faf2f41a7row22_col8\" class=\"data row22 col8\" >4251</td>\n",
       "                        <td id=\"T_37768f52_b498_11ea_8ba3_f01faf2f41a7row22_col9\" class=\"data row22 col9\" >71171</td>\n",
       "                        <td id=\"T_37768f52_b498_11ea_8ba3_f01faf2f41a7row22_col10\" class=\"data row22 col10\" >3125977</td>\n",
       "            </tr>\n",
       "            <tr>\n",
       "                        <th id=\"T_37768f52_b498_11ea_8ba3_f01faf2f41a7level0_row23\" class=\"row_heading level0 row23\" >23</th>\n",
       "                        <td id=\"T_37768f52_b498_11ea_8ba3_f01faf2f41a7row23_col0\" class=\"data row23 col0\" >2020-05-29 00:00:00</td>\n",
       "                        <td id=\"T_37768f52_b498_11ea_8ba3_f01faf2f41a7row23_col1\" class=\"data row23 col1\" >5927293</td>\n",
       "                        <td id=\"T_37768f52_b498_11ea_8ba3_f01faf2f41a7row23_col2\" class=\"data row23 col2\" >364926</td>\n",
       "                        <td id=\"T_37768f52_b498_11ea_8ba3_f01faf2f41a7row23_col3\" class=\"data row23 col3\" >2495738</td>\n",
       "                        <td id=\"T_37768f52_b498_11ea_8ba3_f01faf2f41a7row23_col4\" class=\"data row23 col4\" >6.16</td>\n",
       "                        <td id=\"T_37768f52_b498_11ea_8ba3_f01faf2f41a7row23_col5\" class=\"data row23 col5\" >42.11</td>\n",
       "                        <td id=\"T_37768f52_b498_11ea_8ba3_f01faf2f41a7row23_col6\" class=\"data row23 col6\" >51.74</td>\n",
       "                        <td id=\"T_37768f52_b498_11ea_8ba3_f01faf2f41a7row23_col7\" class=\"data row23 col7\" >115419</td>\n",
       "                        <td id=\"T_37768f52_b498_11ea_8ba3_f01faf2f41a7row23_col8\" class=\"data row23 col8\" >4568</td>\n",
       "                        <td id=\"T_37768f52_b498_11ea_8ba3_f01faf2f41a7row23_col9\" class=\"data row23 col9\" >77686</td>\n",
       "                        <td id=\"T_37768f52_b498_11ea_8ba3_f01faf2f41a7row23_col10\" class=\"data row23 col10\" >3066629</td>\n",
       "            </tr>\n",
       "            <tr>\n",
       "                        <th id=\"T_37768f52_b498_11ea_8ba3_f01faf2f41a7level0_row24\" class=\"row_heading level0 row24\" >24</th>\n",
       "                        <td id=\"T_37768f52_b498_11ea_8ba3_f01faf2f41a7row24_col0\" class=\"data row24 col0\" >2020-05-28 00:00:00</td>\n",
       "                        <td id=\"T_37768f52_b498_11ea_8ba3_f01faf2f41a7row24_col1\" class=\"data row24 col1\" >5811874</td>\n",
       "                        <td id=\"T_37768f52_b498_11ea_8ba3_f01faf2f41a7row24_col2\" class=\"data row24 col2\" >360358</td>\n",
       "                        <td id=\"T_37768f52_b498_11ea_8ba3_f01faf2f41a7row24_col3\" class=\"data row24 col3\" >2418052</td>\n",
       "                        <td id=\"T_37768f52_b498_11ea_8ba3_f01faf2f41a7row24_col4\" class=\"data row24 col4\" >6.2</td>\n",
       "                        <td id=\"T_37768f52_b498_11ea_8ba3_f01faf2f41a7row24_col5\" class=\"data row24 col5\" >41.61</td>\n",
       "                        <td id=\"T_37768f52_b498_11ea_8ba3_f01faf2f41a7row24_col6\" class=\"data row24 col6\" >52.19</td>\n",
       "                        <td id=\"T_37768f52_b498_11ea_8ba3_f01faf2f41a7row24_col7\" class=\"data row24 col7\" >116706</td>\n",
       "                        <td id=\"T_37768f52_b498_11ea_8ba3_f01faf2f41a7row24_col8\" class=\"data row24 col8\" >4679</td>\n",
       "                        <td id=\"T_37768f52_b498_11ea_8ba3_f01faf2f41a7row24_col9\" class=\"data row24 col9\" >65884</td>\n",
       "                        <td id=\"T_37768f52_b498_11ea_8ba3_f01faf2f41a7row24_col10\" class=\"data row24 col10\" >3033464</td>\n",
       "            </tr>\n",
       "            <tr>\n",
       "                        <th id=\"T_37768f52_b498_11ea_8ba3_f01faf2f41a7level0_row25\" class=\"row_heading level0 row25\" >25</th>\n",
       "                        <td id=\"T_37768f52_b498_11ea_8ba3_f01faf2f41a7row25_col0\" class=\"data row25 col0\" >2020-05-27 00:00:00</td>\n",
       "                        <td id=\"T_37768f52_b498_11ea_8ba3_f01faf2f41a7row25_col1\" class=\"data row25 col1\" >5695168</td>\n",
       "                        <td id=\"T_37768f52_b498_11ea_8ba3_f01faf2f41a7row25_col2\" class=\"data row25 col2\" >355679</td>\n",
       "                        <td id=\"T_37768f52_b498_11ea_8ba3_f01faf2f41a7row25_col3\" class=\"data row25 col3\" >2352168</td>\n",
       "                        <td id=\"T_37768f52_b498_11ea_8ba3_f01faf2f41a7row25_col4\" class=\"data row25 col4\" >6.25</td>\n",
       "                        <td id=\"T_37768f52_b498_11ea_8ba3_f01faf2f41a7row25_col5\" class=\"data row25 col5\" >41.3</td>\n",
       "                        <td id=\"T_37768f52_b498_11ea_8ba3_f01faf2f41a7row25_col6\" class=\"data row25 col6\" >52.45</td>\n",
       "                        <td id=\"T_37768f52_b498_11ea_8ba3_f01faf2f41a7row25_col7\" class=\"data row25 col7\" >102708</td>\n",
       "                        <td id=\"T_37768f52_b498_11ea_8ba3_f01faf2f41a7row25_col8\" class=\"data row25 col8\" >5176</td>\n",
       "                        <td id=\"T_37768f52_b498_11ea_8ba3_f01faf2f41a7row25_col9\" class=\"data row25 col9\" >63556</td>\n",
       "                        <td id=\"T_37768f52_b498_11ea_8ba3_f01faf2f41a7row25_col10\" class=\"data row25 col10\" >2987321</td>\n",
       "            </tr>\n",
       "            <tr>\n",
       "                        <th id=\"T_37768f52_b498_11ea_8ba3_f01faf2f41a7level0_row26\" class=\"row_heading level0 row26\" >26</th>\n",
       "                        <td id=\"T_37768f52_b498_11ea_8ba3_f01faf2f41a7row26_col0\" class=\"data row26 col0\" >2020-05-26 00:00:00</td>\n",
       "                        <td id=\"T_37768f52_b498_11ea_8ba3_f01faf2f41a7row26_col1\" class=\"data row26 col1\" >5592460</td>\n",
       "                        <td id=\"T_37768f52_b498_11ea_8ba3_f01faf2f41a7row26_col2\" class=\"data row26 col2\" >350503</td>\n",
       "                        <td id=\"T_37768f52_b498_11ea_8ba3_f01faf2f41a7row26_col3\" class=\"data row26 col3\" >2288612</td>\n",
       "                        <td id=\"T_37768f52_b498_11ea_8ba3_f01faf2f41a7row26_col4\" class=\"data row26 col4\" >6.27</td>\n",
       "                        <td id=\"T_37768f52_b498_11ea_8ba3_f01faf2f41a7row26_col5\" class=\"data row26 col5\" >40.92</td>\n",
       "                        <td id=\"T_37768f52_b498_11ea_8ba3_f01faf2f41a7row26_col6\" class=\"data row26 col6\" >52.81</td>\n",
       "                        <td id=\"T_37768f52_b498_11ea_8ba3_f01faf2f41a7row26_col7\" class=\"data row26 col7\" >94624</td>\n",
       "                        <td id=\"T_37768f52_b498_11ea_8ba3_f01faf2f41a7row26_col8\" class=\"data row26 col8\" >4221</td>\n",
       "                        <td id=\"T_37768f52_b498_11ea_8ba3_f01faf2f41a7row26_col9\" class=\"data row26 col9\" >55218</td>\n",
       "                        <td id=\"T_37768f52_b498_11ea_8ba3_f01faf2f41a7row26_col10\" class=\"data row26 col10\" >2953345</td>\n",
       "            </tr>\n",
       "            <tr>\n",
       "                        <th id=\"T_37768f52_b498_11ea_8ba3_f01faf2f41a7level0_row27\" class=\"row_heading level0 row27\" >27</th>\n",
       "                        <td id=\"T_37768f52_b498_11ea_8ba3_f01faf2f41a7row27_col0\" class=\"data row27 col0\" >2020-05-25 00:00:00</td>\n",
       "                        <td id=\"T_37768f52_b498_11ea_8ba3_f01faf2f41a7row27_col1\" class=\"data row27 col1\" >5497836</td>\n",
       "                        <td id=\"T_37768f52_b498_11ea_8ba3_f01faf2f41a7row27_col2\" class=\"data row27 col2\" >346282</td>\n",
       "                        <td id=\"T_37768f52_b498_11ea_8ba3_f01faf2f41a7row27_col3\" class=\"data row27 col3\" >2233394</td>\n",
       "                        <td id=\"T_37768f52_b498_11ea_8ba3_f01faf2f41a7row27_col4\" class=\"data row27 col4\" >6.3</td>\n",
       "                        <td id=\"T_37768f52_b498_11ea_8ba3_f01faf2f41a7row27_col5\" class=\"data row27 col5\" >40.62</td>\n",
       "                        <td id=\"T_37768f52_b498_11ea_8ba3_f01faf2f41a7row27_col6\" class=\"data row27 col6\" >53.08</td>\n",
       "                        <td id=\"T_37768f52_b498_11ea_8ba3_f01faf2f41a7row27_col7\" class=\"data row27 col7\" >87499</td>\n",
       "                        <td id=\"T_37768f52_b498_11ea_8ba3_f01faf2f41a7row27_col8\" class=\"data row27 col8\" >1173</td>\n",
       "                        <td id=\"T_37768f52_b498_11ea_8ba3_f01faf2f41a7row27_col9\" class=\"data row27 col9\" >63176</td>\n",
       "                        <td id=\"T_37768f52_b498_11ea_8ba3_f01faf2f41a7row27_col10\" class=\"data row27 col10\" >2918160</td>\n",
       "            </tr>\n",
       "            <tr>\n",
       "                        <th id=\"T_37768f52_b498_11ea_8ba3_f01faf2f41a7level0_row28\" class=\"row_heading level0 row28\" >28</th>\n",
       "                        <td id=\"T_37768f52_b498_11ea_8ba3_f01faf2f41a7row28_col0\" class=\"data row28 col0\" >2020-05-24 00:00:00</td>\n",
       "                        <td id=\"T_37768f52_b498_11ea_8ba3_f01faf2f41a7row28_col1\" class=\"data row28 col1\" >5410337</td>\n",
       "                        <td id=\"T_37768f52_b498_11ea_8ba3_f01faf2f41a7row28_col2\" class=\"data row28 col2\" >345109</td>\n",
       "                        <td id=\"T_37768f52_b498_11ea_8ba3_f01faf2f41a7row28_col3\" class=\"data row28 col3\" >2170218</td>\n",
       "                        <td id=\"T_37768f52_b498_11ea_8ba3_f01faf2f41a7row28_col4\" class=\"data row28 col4\" >6.38</td>\n",
       "                        <td id=\"T_37768f52_b498_11ea_8ba3_f01faf2f41a7row28_col5\" class=\"data row28 col5\" >40.11</td>\n",
       "                        <td id=\"T_37768f52_b498_11ea_8ba3_f01faf2f41a7row28_col6\" class=\"data row28 col6\" >53.51</td>\n",
       "                        <td id=\"T_37768f52_b498_11ea_8ba3_f01faf2f41a7row28_col7\" class=\"data row28 col7\" >96813</td>\n",
       "                        <td id=\"T_37768f52_b498_11ea_8ba3_f01faf2f41a7row28_col8\" class=\"data row28 col8\" >2847</td>\n",
       "                        <td id=\"T_37768f52_b498_11ea_8ba3_f01faf2f41a7row28_col9\" class=\"data row28 col9\" >55703</td>\n",
       "                        <td id=\"T_37768f52_b498_11ea_8ba3_f01faf2f41a7row28_col10\" class=\"data row28 col10\" >2895010</td>\n",
       "            </tr>\n",
       "            <tr>\n",
       "                        <th id=\"T_37768f52_b498_11ea_8ba3_f01faf2f41a7level0_row29\" class=\"row_heading level0 row29\" >29</th>\n",
       "                        <td id=\"T_37768f52_b498_11ea_8ba3_f01faf2f41a7row29_col0\" class=\"data row29 col0\" >2020-05-23 00:00:00</td>\n",
       "                        <td id=\"T_37768f52_b498_11ea_8ba3_f01faf2f41a7row29_col1\" class=\"data row29 col1\" >5313524</td>\n",
       "                        <td id=\"T_37768f52_b498_11ea_8ba3_f01faf2f41a7row29_col2\" class=\"data row29 col2\" >342262</td>\n",
       "                        <td id=\"T_37768f52_b498_11ea_8ba3_f01faf2f41a7row29_col3\" class=\"data row29 col3\" >2114515</td>\n",
       "                        <td id=\"T_37768f52_b498_11ea_8ba3_f01faf2f41a7row29_col4\" class=\"data row29 col4\" >6.44</td>\n",
       "                        <td id=\"T_37768f52_b498_11ea_8ba3_f01faf2f41a7row29_col5\" class=\"data row29 col5\" >39.79</td>\n",
       "                        <td id=\"T_37768f52_b498_11ea_8ba3_f01faf2f41a7row29_col6\" class=\"data row29 col6\" >53.76</td>\n",
       "                        <td id=\"T_37768f52_b498_11ea_8ba3_f01faf2f41a7row29_col7\" class=\"data row29 col7\" >99795</td>\n",
       "                        <td id=\"T_37768f52_b498_11ea_8ba3_f01faf2f41a7row29_col8\" class=\"data row29 col8\" >3980</td>\n",
       "                        <td id=\"T_37768f52_b498_11ea_8ba3_f01faf2f41a7row29_col9\" class=\"data row29 col9\" >55880</td>\n",
       "                        <td id=\"T_37768f52_b498_11ea_8ba3_f01faf2f41a7row29_col10\" class=\"data row29 col10\" >2856747</td>\n",
       "            </tr>\n",
       "            <tr>\n",
       "                        <th id=\"T_37768f52_b498_11ea_8ba3_f01faf2f41a7level0_row30\" class=\"row_heading level0 row30\" >30</th>\n",
       "                        <td id=\"T_37768f52_b498_11ea_8ba3_f01faf2f41a7row30_col0\" class=\"data row30 col0\" >2020-05-22 00:00:00</td>\n",
       "                        <td id=\"T_37768f52_b498_11ea_8ba3_f01faf2f41a7row30_col1\" class=\"data row30 col1\" >5213729</td>\n",
       "                        <td id=\"T_37768f52_b498_11ea_8ba3_f01faf2f41a7row30_col2\" class=\"data row30 col2\" >338282</td>\n",
       "                        <td id=\"T_37768f52_b498_11ea_8ba3_f01faf2f41a7row30_col3\" class=\"data row30 col3\" >2058635</td>\n",
       "                        <td id=\"T_37768f52_b498_11ea_8ba3_f01faf2f41a7row30_col4\" class=\"data row30 col4\" >6.49</td>\n",
       "                        <td id=\"T_37768f52_b498_11ea_8ba3_f01faf2f41a7row30_col5\" class=\"data row30 col5\" >39.48</td>\n",
       "                        <td id=\"T_37768f52_b498_11ea_8ba3_f01faf2f41a7row30_col6\" class=\"data row30 col6\" >54.03</td>\n",
       "                        <td id=\"T_37768f52_b498_11ea_8ba3_f01faf2f41a7row30_col7\" class=\"data row30 col7\" >108786</td>\n",
       "                        <td id=\"T_37768f52_b498_11ea_8ba3_f01faf2f41a7row30_col8\" class=\"data row30 col8\" >5310</td>\n",
       "                        <td id=\"T_37768f52_b498_11ea_8ba3_f01faf2f41a7row30_col9\" class=\"data row30 col9\" >108255</td>\n",
       "                        <td id=\"T_37768f52_b498_11ea_8ba3_f01faf2f41a7row30_col10\" class=\"data row30 col10\" >2816812</td>\n",
       "            </tr>\n",
       "            <tr>\n",
       "                        <th id=\"T_37768f52_b498_11ea_8ba3_f01faf2f41a7level0_row31\" class=\"row_heading level0 row31\" >31</th>\n",
       "                        <td id=\"T_37768f52_b498_11ea_8ba3_f01faf2f41a7row31_col0\" class=\"data row31 col0\" >2020-05-21 00:00:00</td>\n",
       "                        <td id=\"T_37768f52_b498_11ea_8ba3_f01faf2f41a7row31_col1\" class=\"data row31 col1\" >5104943</td>\n",
       "                        <td id=\"T_37768f52_b498_11ea_8ba3_f01faf2f41a7row31_col2\" class=\"data row31 col2\" >332972</td>\n",
       "                        <td id=\"T_37768f52_b498_11ea_8ba3_f01faf2f41a7row31_col3\" class=\"data row31 col3\" >1950380</td>\n",
       "                        <td id=\"T_37768f52_b498_11ea_8ba3_f01faf2f41a7row31_col4\" class=\"data row31 col4\" >6.52</td>\n",
       "                        <td id=\"T_37768f52_b498_11ea_8ba3_f01faf2f41a7row31_col5\" class=\"data row31 col5\" >38.21</td>\n",
       "                        <td id=\"T_37768f52_b498_11ea_8ba3_f01faf2f41a7row31_col6\" class=\"data row31 col6\" >55.27</td>\n",
       "                        <td id=\"T_37768f52_b498_11ea_8ba3_f01faf2f41a7row31_col7\" class=\"data row31 col7\" >105966</td>\n",
       "                        <td id=\"T_37768f52_b498_11ea_8ba3_f01faf2f41a7row31_col8\" class=\"data row31 col8\" >4809</td>\n",
       "                        <td id=\"T_37768f52_b498_11ea_8ba3_f01faf2f41a7row31_col9\" class=\"data row31 col9\" >51274</td>\n",
       "                        <td id=\"T_37768f52_b498_11ea_8ba3_f01faf2f41a7row31_col10\" class=\"data row31 col10\" >2821591</td>\n",
       "            </tr>\n",
       "            <tr>\n",
       "                        <th id=\"T_37768f52_b498_11ea_8ba3_f01faf2f41a7level0_row32\" class=\"row_heading level0 row32\" >32</th>\n",
       "                        <td id=\"T_37768f52_b498_11ea_8ba3_f01faf2f41a7row32_col0\" class=\"data row32 col0\" >2020-05-20 00:00:00</td>\n",
       "                        <td id=\"T_37768f52_b498_11ea_8ba3_f01faf2f41a7row32_col1\" class=\"data row32 col1\" >4998977</td>\n",
       "                        <td id=\"T_37768f52_b498_11ea_8ba3_f01faf2f41a7row32_col2\" class=\"data row32 col2\" >328163</td>\n",
       "                        <td id=\"T_37768f52_b498_11ea_8ba3_f01faf2f41a7row32_col3\" class=\"data row32 col3\" >1899106</td>\n",
       "                        <td id=\"T_37768f52_b498_11ea_8ba3_f01faf2f41a7row32_col4\" class=\"data row32 col4\" >6.56</td>\n",
       "                        <td id=\"T_37768f52_b498_11ea_8ba3_f01faf2f41a7row32_col5\" class=\"data row32 col5\" >37.99</td>\n",
       "                        <td id=\"T_37768f52_b498_11ea_8ba3_f01faf2f41a7row32_col6\" class=\"data row32 col6\" >55.45</td>\n",
       "                        <td id=\"T_37768f52_b498_11ea_8ba3_f01faf2f41a7row32_col7\" class=\"data row32 col7\" >99105</td>\n",
       "                        <td id=\"T_37768f52_b498_11ea_8ba3_f01faf2f41a7row32_col8\" class=\"data row32 col8\" >4832</td>\n",
       "                        <td id=\"T_37768f52_b498_11ea_8ba3_f01faf2f41a7row32_col9\" class=\"data row32 col9\" >58595</td>\n",
       "                        <td id=\"T_37768f52_b498_11ea_8ba3_f01faf2f41a7row32_col10\" class=\"data row32 col10\" >2771708</td>\n",
       "            </tr>\n",
       "            <tr>\n",
       "                        <th id=\"T_37768f52_b498_11ea_8ba3_f01faf2f41a7level0_row33\" class=\"row_heading level0 row33\" >33</th>\n",
       "                        <td id=\"T_37768f52_b498_11ea_8ba3_f01faf2f41a7row33_col0\" class=\"data row33 col0\" >2020-05-19 00:00:00</td>\n",
       "                        <td id=\"T_37768f52_b498_11ea_8ba3_f01faf2f41a7row33_col1\" class=\"data row33 col1\" >4899872</td>\n",
       "                        <td id=\"T_37768f52_b498_11ea_8ba3_f01faf2f41a7row33_col2\" class=\"data row33 col2\" >323331</td>\n",
       "                        <td id=\"T_37768f52_b498_11ea_8ba3_f01faf2f41a7row33_col3\" class=\"data row33 col3\" >1840511</td>\n",
       "                        <td id=\"T_37768f52_b498_11ea_8ba3_f01faf2f41a7row33_col4\" class=\"data row33 col4\" >6.6</td>\n",
       "                        <td id=\"T_37768f52_b498_11ea_8ba3_f01faf2f41a7row33_col5\" class=\"data row33 col5\" >37.56</td>\n",
       "                        <td id=\"T_37768f52_b498_11ea_8ba3_f01faf2f41a7row33_col6\" class=\"data row33 col6\" >55.84</td>\n",
       "                        <td id=\"T_37768f52_b498_11ea_8ba3_f01faf2f41a7row33_col7\" class=\"data row33 col7\" >95557</td>\n",
       "                        <td id=\"T_37768f52_b498_11ea_8ba3_f01faf2f41a7row33_col8\" class=\"data row33 col8\" >4804</td>\n",
       "                        <td id=\"T_37768f52_b498_11ea_8ba3_f01faf2f41a7row33_col9\" class=\"data row33 col9\" >53125</td>\n",
       "                        <td id=\"T_37768f52_b498_11ea_8ba3_f01faf2f41a7row33_col10\" class=\"data row33 col10\" >2736030</td>\n",
       "            </tr>\n",
       "            <tr>\n",
       "                        <th id=\"T_37768f52_b498_11ea_8ba3_f01faf2f41a7level0_row34\" class=\"row_heading level0 row34\" >34</th>\n",
       "                        <td id=\"T_37768f52_b498_11ea_8ba3_f01faf2f41a7row34_col0\" class=\"data row34 col0\" >2020-05-18 00:00:00</td>\n",
       "                        <td id=\"T_37768f52_b498_11ea_8ba3_f01faf2f41a7row34_col1\" class=\"data row34 col1\" >4804315</td>\n",
       "                        <td id=\"T_37768f52_b498_11ea_8ba3_f01faf2f41a7row34_col2\" class=\"data row34 col2\" >318527</td>\n",
       "                        <td id=\"T_37768f52_b498_11ea_8ba3_f01faf2f41a7row34_col3\" class=\"data row34 col3\" >1787386</td>\n",
       "                        <td id=\"T_37768f52_b498_11ea_8ba3_f01faf2f41a7row34_col4\" class=\"data row34 col4\" >6.63</td>\n",
       "                        <td id=\"T_37768f52_b498_11ea_8ba3_f01faf2f41a7row34_col5\" class=\"data row34 col5\" >37.2</td>\n",
       "                        <td id=\"T_37768f52_b498_11ea_8ba3_f01faf2f41a7row34_col6\" class=\"data row34 col6\" >56.17</td>\n",
       "                        <td id=\"T_37768f52_b498_11ea_8ba3_f01faf2f41a7row34_col7\" class=\"data row34 col7\" >87715</td>\n",
       "                        <td id=\"T_37768f52_b498_11ea_8ba3_f01faf2f41a7row34_col8\" class=\"data row34 col8\" >3209</td>\n",
       "                        <td id=\"T_37768f52_b498_11ea_8ba3_f01faf2f41a7row34_col9\" class=\"data row34 col9\" >48988</td>\n",
       "                        <td id=\"T_37768f52_b498_11ea_8ba3_f01faf2f41a7row34_col10\" class=\"data row34 col10\" >2698402</td>\n",
       "            </tr>\n",
       "            <tr>\n",
       "                        <th id=\"T_37768f52_b498_11ea_8ba3_f01faf2f41a7level0_row35\" class=\"row_heading level0 row35\" >35</th>\n",
       "                        <td id=\"T_37768f52_b498_11ea_8ba3_f01faf2f41a7row35_col0\" class=\"data row35 col0\" >2020-05-17 00:00:00</td>\n",
       "                        <td id=\"T_37768f52_b498_11ea_8ba3_f01faf2f41a7row35_col1\" class=\"data row35 col1\" >4716600</td>\n",
       "                        <td id=\"T_37768f52_b498_11ea_8ba3_f01faf2f41a7row35_col2\" class=\"data row35 col2\" >315318</td>\n",
       "                        <td id=\"T_37768f52_b498_11ea_8ba3_f01faf2f41a7row35_col3\" class=\"data row35 col3\" >1738398</td>\n",
       "                        <td id=\"T_37768f52_b498_11ea_8ba3_f01faf2f41a7row35_col4\" class=\"data row35 col4\" >6.69</td>\n",
       "                        <td id=\"T_37768f52_b498_11ea_8ba3_f01faf2f41a7row35_col5\" class=\"data row35 col5\" >36.86</td>\n",
       "                        <td id=\"T_37768f52_b498_11ea_8ba3_f01faf2f41a7row35_col6\" class=\"data row35 col6\" >56.46</td>\n",
       "                        <td id=\"T_37768f52_b498_11ea_8ba3_f01faf2f41a7row35_col7\" class=\"data row35 col7\" >80375</td>\n",
       "                        <td id=\"T_37768f52_b498_11ea_8ba3_f01faf2f41a7row35_col8\" class=\"data row35 col8\" >3395</td>\n",
       "                        <td id=\"T_37768f52_b498_11ea_8ba3_f01faf2f41a7row35_col9\" class=\"data row35 col9\" >43278</td>\n",
       "                        <td id=\"T_37768f52_b498_11ea_8ba3_f01faf2f41a7row35_col10\" class=\"data row35 col10\" >2662884</td>\n",
       "            </tr>\n",
       "            <tr>\n",
       "                        <th id=\"T_37768f52_b498_11ea_8ba3_f01faf2f41a7level0_row36\" class=\"row_heading level0 row36\" >36</th>\n",
       "                        <td id=\"T_37768f52_b498_11ea_8ba3_f01faf2f41a7row36_col0\" class=\"data row36 col0\" >2020-05-16 00:00:00</td>\n",
       "                        <td id=\"T_37768f52_b498_11ea_8ba3_f01faf2f41a7row36_col1\" class=\"data row36 col1\" >4636225</td>\n",
       "                        <td id=\"T_37768f52_b498_11ea_8ba3_f01faf2f41a7row36_col2\" class=\"data row36 col2\" >311923</td>\n",
       "                        <td id=\"T_37768f52_b498_11ea_8ba3_f01faf2f41a7row36_col3\" class=\"data row36 col3\" >1695120</td>\n",
       "                        <td id=\"T_37768f52_b498_11ea_8ba3_f01faf2f41a7row36_col4\" class=\"data row36 col4\" >6.73</td>\n",
       "                        <td id=\"T_37768f52_b498_11ea_8ba3_f01faf2f41a7row36_col5\" class=\"data row36 col5\" >36.56</td>\n",
       "                        <td id=\"T_37768f52_b498_11ea_8ba3_f01faf2f41a7row36_col6\" class=\"data row36 col6\" >56.71</td>\n",
       "                        <td id=\"T_37768f52_b498_11ea_8ba3_f01faf2f41a7row36_col7\" class=\"data row36 col7\" >91692</td>\n",
       "                        <td id=\"T_37768f52_b498_11ea_8ba3_f01faf2f41a7row36_col8\" class=\"data row36 col8\" >4213</td>\n",
       "                        <td id=\"T_37768f52_b498_11ea_8ba3_f01faf2f41a7row36_col9\" class=\"data row36 col9\" >56749</td>\n",
       "                        <td id=\"T_37768f52_b498_11ea_8ba3_f01faf2f41a7row36_col10\" class=\"data row36 col10\" >2629182</td>\n",
       "            </tr>\n",
       "            <tr>\n",
       "                        <th id=\"T_37768f52_b498_11ea_8ba3_f01faf2f41a7level0_row37\" class=\"row_heading level0 row37\" >37</th>\n",
       "                        <td id=\"T_37768f52_b498_11ea_8ba3_f01faf2f41a7row37_col0\" class=\"data row37 col0\" >2020-05-15 00:00:00</td>\n",
       "                        <td id=\"T_37768f52_b498_11ea_8ba3_f01faf2f41a7row37_col1\" class=\"data row37 col1\" >4544533</td>\n",
       "                        <td id=\"T_37768f52_b498_11ea_8ba3_f01faf2f41a7row37_col2\" class=\"data row37 col2\" >307710</td>\n",
       "                        <td id=\"T_37768f52_b498_11ea_8ba3_f01faf2f41a7row37_col3\" class=\"data row37 col3\" >1638371</td>\n",
       "                        <td id=\"T_37768f52_b498_11ea_8ba3_f01faf2f41a7row37_col4\" class=\"data row37 col4\" >6.77</td>\n",
       "                        <td id=\"T_37768f52_b498_11ea_8ba3_f01faf2f41a7row37_col5\" class=\"data row37 col5\" >36.05</td>\n",
       "                        <td id=\"T_37768f52_b498_11ea_8ba3_f01faf2f41a7row37_col6\" class=\"data row37 col6\" >57.18</td>\n",
       "                        <td id=\"T_37768f52_b498_11ea_8ba3_f01faf2f41a7row37_col7\" class=\"data row37 col7\" >100213</td>\n",
       "                        <td id=\"T_37768f52_b498_11ea_8ba3_f01faf2f41a7row37_col8\" class=\"data row37 col8\" >5248</td>\n",
       "                        <td id=\"T_37768f52_b498_11ea_8ba3_f01faf2f41a7row37_col9\" class=\"data row37 col9\" >49174</td>\n",
       "                        <td id=\"T_37768f52_b498_11ea_8ba3_f01faf2f41a7row37_col10\" class=\"data row37 col10\" >2598452</td>\n",
       "            </tr>\n",
       "            <tr>\n",
       "                        <th id=\"T_37768f52_b498_11ea_8ba3_f01faf2f41a7level0_row38\" class=\"row_heading level0 row38\" >38</th>\n",
       "                        <td id=\"T_37768f52_b498_11ea_8ba3_f01faf2f41a7row38_col0\" class=\"data row38 col0\" >2020-05-14 00:00:00</td>\n",
       "                        <td id=\"T_37768f52_b498_11ea_8ba3_f01faf2f41a7row38_col1\" class=\"data row38 col1\" >4444320</td>\n",
       "                        <td id=\"T_37768f52_b498_11ea_8ba3_f01faf2f41a7row38_col2\" class=\"data row38 col2\" >302462</td>\n",
       "                        <td id=\"T_37768f52_b498_11ea_8ba3_f01faf2f41a7row38_col3\" class=\"data row38 col3\" >1589197</td>\n",
       "                        <td id=\"T_37768f52_b498_11ea_8ba3_f01faf2f41a7row38_col4\" class=\"data row38 col4\" >6.81</td>\n",
       "                        <td id=\"T_37768f52_b498_11ea_8ba3_f01faf2f41a7row38_col5\" class=\"data row38 col5\" >35.76</td>\n",
       "                        <td id=\"T_37768f52_b498_11ea_8ba3_f01faf2f41a7row38_col6\" class=\"data row38 col6\" >57.44</td>\n",
       "                        <td id=\"T_37768f52_b498_11ea_8ba3_f01faf2f41a7row38_col7\" class=\"data row38 col7\" >95224</td>\n",
       "                        <td id=\"T_37768f52_b498_11ea_8ba3_f01faf2f41a7row38_col8\" class=\"data row38 col8\" >5223</td>\n",
       "                        <td id=\"T_37768f52_b498_11ea_8ba3_f01faf2f41a7row38_col9\" class=\"data row38 col9\" >39346</td>\n",
       "                        <td id=\"T_37768f52_b498_11ea_8ba3_f01faf2f41a7row38_col10\" class=\"data row38 col10\" >2552661</td>\n",
       "            </tr>\n",
       "            <tr>\n",
       "                        <th id=\"T_37768f52_b498_11ea_8ba3_f01faf2f41a7level0_row39\" class=\"row_heading level0 row39\" >39</th>\n",
       "                        <td id=\"T_37768f52_b498_11ea_8ba3_f01faf2f41a7row39_col0\" class=\"data row39 col0\" >2020-05-13 00:00:00</td>\n",
       "                        <td id=\"T_37768f52_b498_11ea_8ba3_f01faf2f41a7row39_col1\" class=\"data row39 col1\" >4349096</td>\n",
       "                        <td id=\"T_37768f52_b498_11ea_8ba3_f01faf2f41a7row39_col2\" class=\"data row39 col2\" >297239</td>\n",
       "                        <td id=\"T_37768f52_b498_11ea_8ba3_f01faf2f41a7row39_col3\" class=\"data row39 col3\" >1549851</td>\n",
       "                        <td id=\"T_37768f52_b498_11ea_8ba3_f01faf2f41a7row39_col4\" class=\"data row39 col4\" >6.83</td>\n",
       "                        <td id=\"T_37768f52_b498_11ea_8ba3_f01faf2f41a7row39_col5\" class=\"data row39 col5\" >35.64</td>\n",
       "                        <td id=\"T_37768f52_b498_11ea_8ba3_f01faf2f41a7row39_col6\" class=\"data row39 col6\" >57.53</td>\n",
       "                        <td id=\"T_37768f52_b498_11ea_8ba3_f01faf2f41a7row39_col7\" class=\"data row39 col7\" >85115</td>\n",
       "                        <td id=\"T_37768f52_b498_11ea_8ba3_f01faf2f41a7row39_col8\" class=\"data row39 col8\" >5235</td>\n",
       "                        <td id=\"T_37768f52_b498_11ea_8ba3_f01faf2f41a7row39_col9\" class=\"data row39 col9\" >55268</td>\n",
       "                        <td id=\"T_37768f52_b498_11ea_8ba3_f01faf2f41a7row39_col10\" class=\"data row39 col10\" >2502006</td>\n",
       "            </tr>\n",
       "            <tr>\n",
       "                        <th id=\"T_37768f52_b498_11ea_8ba3_f01faf2f41a7level0_row40\" class=\"row_heading level0 row40\" >40</th>\n",
       "                        <td id=\"T_37768f52_b498_11ea_8ba3_f01faf2f41a7row40_col0\" class=\"data row40 col0\" >2020-05-12 00:00:00</td>\n",
       "                        <td id=\"T_37768f52_b498_11ea_8ba3_f01faf2f41a7row40_col1\" class=\"data row40 col1\" >4263981</td>\n",
       "                        <td id=\"T_37768f52_b498_11ea_8ba3_f01faf2f41a7row40_col2\" class=\"data row40 col2\" >292004</td>\n",
       "                        <td id=\"T_37768f52_b498_11ea_8ba3_f01faf2f41a7row40_col3\" class=\"data row40 col3\" >1494583</td>\n",
       "                        <td id=\"T_37768f52_b498_11ea_8ba3_f01faf2f41a7row40_col4\" class=\"data row40 col4\" >6.85</td>\n",
       "                        <td id=\"T_37768f52_b498_11ea_8ba3_f01faf2f41a7row40_col5\" class=\"data row40 col5\" >35.05</td>\n",
       "                        <td id=\"T_37768f52_b498_11ea_8ba3_f01faf2f41a7row40_col6\" class=\"data row40 col6\" >58.1</td>\n",
       "                        <td id=\"T_37768f52_b498_11ea_8ba3_f01faf2f41a7row40_col7\" class=\"data row40 col7\" >84534</td>\n",
       "                        <td id=\"T_37768f52_b498_11ea_8ba3_f01faf2f41a7row40_col8\" class=\"data row40 col8\" >5635</td>\n",
       "                        <td id=\"T_37768f52_b498_11ea_8ba3_f01faf2f41a7row40_col9\" class=\"data row40 col9\" >37212</td>\n",
       "                        <td id=\"T_37768f52_b498_11ea_8ba3_f01faf2f41a7row40_col10\" class=\"data row40 col10\" >2477394</td>\n",
       "            </tr>\n",
       "            <tr>\n",
       "                        <th id=\"T_37768f52_b498_11ea_8ba3_f01faf2f41a7level0_row41\" class=\"row_heading level0 row41\" >41</th>\n",
       "                        <td id=\"T_37768f52_b498_11ea_8ba3_f01faf2f41a7row41_col0\" class=\"data row41 col0\" >2020-05-11 00:00:00</td>\n",
       "                        <td id=\"T_37768f52_b498_11ea_8ba3_f01faf2f41a7row41_col1\" class=\"data row41 col1\" >4179447</td>\n",
       "                        <td id=\"T_37768f52_b498_11ea_8ba3_f01faf2f41a7row41_col2\" class=\"data row41 col2\" >286369</td>\n",
       "                        <td id=\"T_37768f52_b498_11ea_8ba3_f01faf2f41a7row41_col3\" class=\"data row41 col3\" >1457371</td>\n",
       "                        <td id=\"T_37768f52_b498_11ea_8ba3_f01faf2f41a7row41_col4\" class=\"data row41 col4\" >6.85</td>\n",
       "                        <td id=\"T_37768f52_b498_11ea_8ba3_f01faf2f41a7row41_col5\" class=\"data row41 col5\" >34.87</td>\n",
       "                        <td id=\"T_37768f52_b498_11ea_8ba3_f01faf2f41a7row41_col6\" class=\"data row41 col6\" >58.28</td>\n",
       "                        <td id=\"T_37768f52_b498_11ea_8ba3_f01faf2f41a7row41_col7\" class=\"data row41 col7\" >75766</td>\n",
       "                        <td id=\"T_37768f52_b498_11ea_8ba3_f01faf2f41a7row41_col8\" class=\"data row41 col8\" >3621</td>\n",
       "                        <td id=\"T_37768f52_b498_11ea_8ba3_f01faf2f41a7row41_col9\" class=\"data row41 col9\" >47236</td>\n",
       "                        <td id=\"T_37768f52_b498_11ea_8ba3_f01faf2f41a7row41_col10\" class=\"data row41 col10\" >2435707</td>\n",
       "            </tr>\n",
       "            <tr>\n",
       "                        <th id=\"T_37768f52_b498_11ea_8ba3_f01faf2f41a7level0_row42\" class=\"row_heading level0 row42\" >42</th>\n",
       "                        <td id=\"T_37768f52_b498_11ea_8ba3_f01faf2f41a7row42_col0\" class=\"data row42 col0\" >2020-05-10 00:00:00</td>\n",
       "                        <td id=\"T_37768f52_b498_11ea_8ba3_f01faf2f41a7row42_col1\" class=\"data row42 col1\" >4103681</td>\n",
       "                        <td id=\"T_37768f52_b498_11ea_8ba3_f01faf2f41a7row42_col2\" class=\"data row42 col2\" >282748</td>\n",
       "                        <td id=\"T_37768f52_b498_11ea_8ba3_f01faf2f41a7row42_col3\" class=\"data row42 col3\" >1410135</td>\n",
       "                        <td id=\"T_37768f52_b498_11ea_8ba3_f01faf2f41a7row42_col4\" class=\"data row42 col4\" >6.89</td>\n",
       "                        <td id=\"T_37768f52_b498_11ea_8ba3_f01faf2f41a7row42_col5\" class=\"data row42 col5\" >34.36</td>\n",
       "                        <td id=\"T_37768f52_b498_11ea_8ba3_f01faf2f41a7row42_col6\" class=\"data row42 col6\" >58.75</td>\n",
       "                        <td id=\"T_37768f52_b498_11ea_8ba3_f01faf2f41a7row42_col7\" class=\"data row42 col7\" >77773</td>\n",
       "                        <td id=\"T_37768f52_b498_11ea_8ba3_f01faf2f41a7row42_col8\" class=\"data row42 col8\" >3398</td>\n",
       "                        <td id=\"T_37768f52_b498_11ea_8ba3_f01faf2f41a7row42_col9\" class=\"data row42 col9\" >33359</td>\n",
       "                        <td id=\"T_37768f52_b498_11ea_8ba3_f01faf2f41a7row42_col10\" class=\"data row42 col10\" >2410798</td>\n",
       "            </tr>\n",
       "            <tr>\n",
       "                        <th id=\"T_37768f52_b498_11ea_8ba3_f01faf2f41a7level0_row43\" class=\"row_heading level0 row43\" >43</th>\n",
       "                        <td id=\"T_37768f52_b498_11ea_8ba3_f01faf2f41a7row43_col0\" class=\"data row43 col0\" >2020-05-09 00:00:00</td>\n",
       "                        <td id=\"T_37768f52_b498_11ea_8ba3_f01faf2f41a7row43_col1\" class=\"data row43 col1\" >4025908</td>\n",
       "                        <td id=\"T_37768f52_b498_11ea_8ba3_f01faf2f41a7row43_col2\" class=\"data row43 col2\" >279350</td>\n",
       "                        <td id=\"T_37768f52_b498_11ea_8ba3_f01faf2f41a7row43_col3\" class=\"data row43 col3\" >1376776</td>\n",
       "                        <td id=\"T_37768f52_b498_11ea_8ba3_f01faf2f41a7row43_col4\" class=\"data row43 col4\" >6.94</td>\n",
       "                        <td id=\"T_37768f52_b498_11ea_8ba3_f01faf2f41a7row43_col5\" class=\"data row43 col5\" >34.2</td>\n",
       "                        <td id=\"T_37768f52_b498_11ea_8ba3_f01faf2f41a7row43_col6\" class=\"data row43 col6\" >58.86</td>\n",
       "                        <td id=\"T_37768f52_b498_11ea_8ba3_f01faf2f41a7row43_col7\" class=\"data row43 col7\" >86084</td>\n",
       "                        <td id=\"T_37768f52_b498_11ea_8ba3_f01faf2f41a7row43_col8\" class=\"data row43 col8\" >4414</td>\n",
       "                        <td id=\"T_37768f52_b498_11ea_8ba3_f01faf2f41a7row43_col9\" class=\"data row43 col9\" >53714</td>\n",
       "                        <td id=\"T_37768f52_b498_11ea_8ba3_f01faf2f41a7row43_col10\" class=\"data row43 col10\" >2369782</td>\n",
       "            </tr>\n",
       "            <tr>\n",
       "                        <th id=\"T_37768f52_b498_11ea_8ba3_f01faf2f41a7level0_row44\" class=\"row_heading level0 row44\" >44</th>\n",
       "                        <td id=\"T_37768f52_b498_11ea_8ba3_f01faf2f41a7row44_col0\" class=\"data row44 col0\" >2020-05-08 00:00:00</td>\n",
       "                        <td id=\"T_37768f52_b498_11ea_8ba3_f01faf2f41a7row44_col1\" class=\"data row44 col1\" >3939824</td>\n",
       "                        <td id=\"T_37768f52_b498_11ea_8ba3_f01faf2f41a7row44_col2\" class=\"data row44 col2\" >274936</td>\n",
       "                        <td id=\"T_37768f52_b498_11ea_8ba3_f01faf2f41a7row44_col3\" class=\"data row44 col3\" >1323062</td>\n",
       "                        <td id=\"T_37768f52_b498_11ea_8ba3_f01faf2f41a7row44_col4\" class=\"data row44 col4\" >6.98</td>\n",
       "                        <td id=\"T_37768f52_b498_11ea_8ba3_f01faf2f41a7row44_col5\" class=\"data row44 col5\" >33.58</td>\n",
       "                        <td id=\"T_37768f52_b498_11ea_8ba3_f01faf2f41a7row44_col6\" class=\"data row44 col6\" >59.44</td>\n",
       "                        <td id=\"T_37768f52_b498_11ea_8ba3_f01faf2f41a7row44_col7\" class=\"data row44 col7\" >92356</td>\n",
       "                        <td id=\"T_37768f52_b498_11ea_8ba3_f01faf2f41a7row44_col8\" class=\"data row44 col8\" >5331</td>\n",
       "                        <td id=\"T_37768f52_b498_11ea_8ba3_f01faf2f41a7row44_col9\" class=\"data row44 col9\" >37370</td>\n",
       "                        <td id=\"T_37768f52_b498_11ea_8ba3_f01faf2f41a7row44_col10\" class=\"data row44 col10\" >2341826</td>\n",
       "            </tr>\n",
       "            <tr>\n",
       "                        <th id=\"T_37768f52_b498_11ea_8ba3_f01faf2f41a7level0_row45\" class=\"row_heading level0 row45\" >45</th>\n",
       "                        <td id=\"T_37768f52_b498_11ea_8ba3_f01faf2f41a7row45_col0\" class=\"data row45 col0\" >2020-05-07 00:00:00</td>\n",
       "                        <td id=\"T_37768f52_b498_11ea_8ba3_f01faf2f41a7row45_col1\" class=\"data row45 col1\" >3847468</td>\n",
       "                        <td id=\"T_37768f52_b498_11ea_8ba3_f01faf2f41a7row45_col2\" class=\"data row45 col2\" >269605</td>\n",
       "                        <td id=\"T_37768f52_b498_11ea_8ba3_f01faf2f41a7row45_col3\" class=\"data row45 col3\" >1285692</td>\n",
       "                        <td id=\"T_37768f52_b498_11ea_8ba3_f01faf2f41a7row45_col4\" class=\"data row45 col4\" >7.01</td>\n",
       "                        <td id=\"T_37768f52_b498_11ea_8ba3_f01faf2f41a7row45_col5\" class=\"data row45 col5\" >33.42</td>\n",
       "                        <td id=\"T_37768f52_b498_11ea_8ba3_f01faf2f41a7row45_col6\" class=\"data row45 col6\" >59.58</td>\n",
       "                        <td id=\"T_37768f52_b498_11ea_8ba3_f01faf2f41a7row45_col7\" class=\"data row45 col7\" >90402</td>\n",
       "                        <td id=\"T_37768f52_b498_11ea_8ba3_f01faf2f41a7row45_col8\" class=\"data row45 col8\" >5737</td>\n",
       "                        <td id=\"T_37768f52_b498_11ea_8ba3_f01faf2f41a7row45_col9\" class=\"data row45 col9\" >39329</td>\n",
       "                        <td id=\"T_37768f52_b498_11ea_8ba3_f01faf2f41a7row45_col10\" class=\"data row45 col10\" >2292171</td>\n",
       "            </tr>\n",
       "            <tr>\n",
       "                        <th id=\"T_37768f52_b498_11ea_8ba3_f01faf2f41a7level0_row46\" class=\"row_heading level0 row46\" >46</th>\n",
       "                        <td id=\"T_37768f52_b498_11ea_8ba3_f01faf2f41a7row46_col0\" class=\"data row46 col0\" >2020-05-06 00:00:00</td>\n",
       "                        <td id=\"T_37768f52_b498_11ea_8ba3_f01faf2f41a7row46_col1\" class=\"data row46 col1\" >3757066</td>\n",
       "                        <td id=\"T_37768f52_b498_11ea_8ba3_f01faf2f41a7row46_col2\" class=\"data row46 col2\" >263868</td>\n",
       "                        <td id=\"T_37768f52_b498_11ea_8ba3_f01faf2f41a7row46_col3\" class=\"data row46 col3\" >1246363</td>\n",
       "                        <td id=\"T_37768f52_b498_11ea_8ba3_f01faf2f41a7row46_col4\" class=\"data row46 col4\" >7.02</td>\n",
       "                        <td id=\"T_37768f52_b498_11ea_8ba3_f01faf2f41a7row46_col5\" class=\"data row46 col5\" >33.17</td>\n",
       "                        <td id=\"T_37768f52_b498_11ea_8ba3_f01faf2f41a7row46_col6\" class=\"data row46 col6\" >59.8</td>\n",
       "                        <td id=\"T_37768f52_b498_11ea_8ba3_f01faf2f41a7row46_col7\" class=\"data row46 col7\" >92760</td>\n",
       "                        <td id=\"T_37768f52_b498_11ea_8ba3_f01faf2f41a7row46_col8\" class=\"data row46 col8\" >6596</td>\n",
       "                        <td id=\"T_37768f52_b498_11ea_8ba3_f01faf2f41a7row46_col9\" class=\"data row46 col9\" >46598</td>\n",
       "                        <td id=\"T_37768f52_b498_11ea_8ba3_f01faf2f41a7row46_col10\" class=\"data row46 col10\" >2246835</td>\n",
       "            </tr>\n",
       "            <tr>\n",
       "                        <th id=\"T_37768f52_b498_11ea_8ba3_f01faf2f41a7level0_row47\" class=\"row_heading level0 row47\" >47</th>\n",
       "                        <td id=\"T_37768f52_b498_11ea_8ba3_f01faf2f41a7row47_col0\" class=\"data row47 col0\" >2020-05-05 00:00:00</td>\n",
       "                        <td id=\"T_37768f52_b498_11ea_8ba3_f01faf2f41a7row47_col1\" class=\"data row47 col1\" >3664306</td>\n",
       "                        <td id=\"T_37768f52_b498_11ea_8ba3_f01faf2f41a7row47_col2\" class=\"data row47 col2\" >257272</td>\n",
       "                        <td id=\"T_37768f52_b498_11ea_8ba3_f01faf2f41a7row47_col3\" class=\"data row47 col3\" >1199765</td>\n",
       "                        <td id=\"T_37768f52_b498_11ea_8ba3_f01faf2f41a7row47_col4\" class=\"data row47 col4\" >7.02</td>\n",
       "                        <td id=\"T_37768f52_b498_11ea_8ba3_f01faf2f41a7row47_col5\" class=\"data row47 col5\" >32.74</td>\n",
       "                        <td id=\"T_37768f52_b498_11ea_8ba3_f01faf2f41a7row47_col6\" class=\"data row47 col6\" >60.24</td>\n",
       "                        <td id=\"T_37768f52_b498_11ea_8ba3_f01faf2f41a7row47_col7\" class=\"data row47 col7\" >79676</td>\n",
       "                        <td id=\"T_37768f52_b498_11ea_8ba3_f01faf2f41a7row47_col8\" class=\"data row47 col8\" >5702</td>\n",
       "                        <td id=\"T_37768f52_b498_11ea_8ba3_f01faf2f41a7row47_col9\" class=\"data row47 col9\" >36108</td>\n",
       "                        <td id=\"T_37768f52_b498_11ea_8ba3_f01faf2f41a7row47_col10\" class=\"data row47 col10\" >2207269</td>\n",
       "            </tr>\n",
       "            <tr>\n",
       "                        <th id=\"T_37768f52_b498_11ea_8ba3_f01faf2f41a7level0_row48\" class=\"row_heading level0 row48\" >48</th>\n",
       "                        <td id=\"T_37768f52_b498_11ea_8ba3_f01faf2f41a7row48_col0\" class=\"data row48 col0\" >2020-05-04 00:00:00</td>\n",
       "                        <td id=\"T_37768f52_b498_11ea_8ba3_f01faf2f41a7row48_col1\" class=\"data row48 col1\" >3584630</td>\n",
       "                        <td id=\"T_37768f52_b498_11ea_8ba3_f01faf2f41a7row48_col2\" class=\"data row48 col2\" >251570</td>\n",
       "                        <td id=\"T_37768f52_b498_11ea_8ba3_f01faf2f41a7row48_col3\" class=\"data row48 col3\" >1163657</td>\n",
       "                        <td id=\"T_37768f52_b498_11ea_8ba3_f01faf2f41a7row48_col4\" class=\"data row48 col4\" >7.02</td>\n",
       "                        <td id=\"T_37768f52_b498_11ea_8ba3_f01faf2f41a7row48_col5\" class=\"data row48 col5\" >32.46</td>\n",
       "                        <td id=\"T_37768f52_b498_11ea_8ba3_f01faf2f41a7row48_col6\" class=\"data row48 col6\" >60.52</td>\n",
       "                        <td id=\"T_37768f52_b498_11ea_8ba3_f01faf2f41a7row48_col7\" class=\"data row48 col7\" >76481</td>\n",
       "                        <td id=\"T_37768f52_b498_11ea_8ba3_f01faf2f41a7row48_col8\" class=\"data row48 col8\" >4069</td>\n",
       "                        <td id=\"T_37768f52_b498_11ea_8ba3_f01faf2f41a7row48_col9\" class=\"data row48 col9\" >37610</td>\n",
       "                        <td id=\"T_37768f52_b498_11ea_8ba3_f01faf2f41a7row48_col10\" class=\"data row48 col10\" >2169403</td>\n",
       "            </tr>\n",
       "            <tr>\n",
       "                        <th id=\"T_37768f52_b498_11ea_8ba3_f01faf2f41a7level0_row49\" class=\"row_heading level0 row49\" >49</th>\n",
       "                        <td id=\"T_37768f52_b498_11ea_8ba3_f01faf2f41a7row49_col0\" class=\"data row49 col0\" >2020-05-03 00:00:00</td>\n",
       "                        <td id=\"T_37768f52_b498_11ea_8ba3_f01faf2f41a7row49_col1\" class=\"data row49 col1\" >3508149</td>\n",
       "                        <td id=\"T_37768f52_b498_11ea_8ba3_f01faf2f41a7row49_col2\" class=\"data row49 col2\" >247501</td>\n",
       "                        <td id=\"T_37768f52_b498_11ea_8ba3_f01faf2f41a7row49_col3\" class=\"data row49 col3\" >1126047</td>\n",
       "                        <td id=\"T_37768f52_b498_11ea_8ba3_f01faf2f41a7row49_col4\" class=\"data row49 col4\" >7.06</td>\n",
       "                        <td id=\"T_37768f52_b498_11ea_8ba3_f01faf2f41a7row49_col5\" class=\"data row49 col5\" >32.1</td>\n",
       "                        <td id=\"T_37768f52_b498_11ea_8ba3_f01faf2f41a7row49_col6\" class=\"data row49 col6\" >60.85</td>\n",
       "                        <td id=\"T_37768f52_b498_11ea_8ba3_f01faf2f41a7row49_col7\" class=\"data row49 col7\" >79387</td>\n",
       "                        <td id=\"T_37768f52_b498_11ea_8ba3_f01faf2f41a7row49_col8\" class=\"data row49 col8\" >3662</td>\n",
       "                        <td id=\"T_37768f52_b498_11ea_8ba3_f01faf2f41a7row49_col9\" class=\"data row49 col9\" >32124</td>\n",
       "                        <td id=\"T_37768f52_b498_11ea_8ba3_f01faf2f41a7row49_col10\" class=\"data row49 col10\" >2134601</td>\n",
       "            </tr>\n",
       "            <tr>\n",
       "                        <th id=\"T_37768f52_b498_11ea_8ba3_f01faf2f41a7level0_row50\" class=\"row_heading level0 row50\" >50</th>\n",
       "                        <td id=\"T_37768f52_b498_11ea_8ba3_f01faf2f41a7row50_col0\" class=\"data row50 col0\" >2020-05-02 00:00:00</td>\n",
       "                        <td id=\"T_37768f52_b498_11ea_8ba3_f01faf2f41a7row50_col1\" class=\"data row50 col1\" >3428762</td>\n",
       "                        <td id=\"T_37768f52_b498_11ea_8ba3_f01faf2f41a7row50_col2\" class=\"data row50 col2\" >243839</td>\n",
       "                        <td id=\"T_37768f52_b498_11ea_8ba3_f01faf2f41a7row50_col3\" class=\"data row50 col3\" >1093923</td>\n",
       "                        <td id=\"T_37768f52_b498_11ea_8ba3_f01faf2f41a7row50_col4\" class=\"data row50 col4\" >7.11</td>\n",
       "                        <td id=\"T_37768f52_b498_11ea_8ba3_f01faf2f41a7row50_col5\" class=\"data row50 col5\" >31.9</td>\n",
       "                        <td id=\"T_37768f52_b498_11ea_8ba3_f01faf2f41a7row50_col6\" class=\"data row50 col6\" >60.98</td>\n",
       "                        <td id=\"T_37768f52_b498_11ea_8ba3_f01faf2f41a7row50_col7\" class=\"data row50 col7\" >81623</td>\n",
       "                        <td id=\"T_37768f52_b498_11ea_8ba3_f01faf2f41a7row50_col8\" class=\"data row50 col8\" >4908</td>\n",
       "                        <td id=\"T_37768f52_b498_11ea_8ba3_f01faf2f41a7row50_col9\" class=\"data row50 col9\" >40596</td>\n",
       "                        <td id=\"T_37768f52_b498_11ea_8ba3_f01faf2f41a7row50_col10\" class=\"data row50 col10\" >2091000</td>\n",
       "            </tr>\n",
       "            <tr>\n",
       "                        <th id=\"T_37768f52_b498_11ea_8ba3_f01faf2f41a7level0_row51\" class=\"row_heading level0 row51\" >51</th>\n",
       "                        <td id=\"T_37768f52_b498_11ea_8ba3_f01faf2f41a7row51_col0\" class=\"data row51 col0\" >2020-05-01 00:00:00</td>\n",
       "                        <td id=\"T_37768f52_b498_11ea_8ba3_f01faf2f41a7row51_col1\" class=\"data row51 col1\" >3347139</td>\n",
       "                        <td id=\"T_37768f52_b498_11ea_8ba3_f01faf2f41a7row51_col2\" class=\"data row51 col2\" >238931</td>\n",
       "                        <td id=\"T_37768f52_b498_11ea_8ba3_f01faf2f41a7row51_col3\" class=\"data row51 col3\" >1053327</td>\n",
       "                        <td id=\"T_37768f52_b498_11ea_8ba3_f01faf2f41a7row51_col4\" class=\"data row51 col4\" >7.14</td>\n",
       "                        <td id=\"T_37768f52_b498_11ea_8ba3_f01faf2f41a7row51_col5\" class=\"data row51 col5\" >31.47</td>\n",
       "                        <td id=\"T_37768f52_b498_11ea_8ba3_f01faf2f41a7row51_col6\" class=\"data row51 col6\" >61.39</td>\n",
       "                        <td id=\"T_37768f52_b498_11ea_8ba3_f01faf2f41a7row51_col7\" class=\"data row51 col7\" >88880</td>\n",
       "                        <td id=\"T_37768f52_b498_11ea_8ba3_f01faf2f41a7row51_col8\" class=\"data row51 col8\" >5543</td>\n",
       "                        <td id=\"T_37768f52_b498_11ea_8ba3_f01faf2f41a7row51_col9\" class=\"data row51 col9\" >38574</td>\n",
       "                        <td id=\"T_37768f52_b498_11ea_8ba3_f01faf2f41a7row51_col10\" class=\"data row51 col10\" >2054881</td>\n",
       "            </tr>\n",
       "            <tr>\n",
       "                        <th id=\"T_37768f52_b498_11ea_8ba3_f01faf2f41a7level0_row52\" class=\"row_heading level0 row52\" >52</th>\n",
       "                        <td id=\"T_37768f52_b498_11ea_8ba3_f01faf2f41a7row52_col0\" class=\"data row52 col0\" >2020-04-30 00:00:00</td>\n",
       "                        <td id=\"T_37768f52_b498_11ea_8ba3_f01faf2f41a7row52_col1\" class=\"data row52 col1\" >3258259</td>\n",
       "                        <td id=\"T_37768f52_b498_11ea_8ba3_f01faf2f41a7row52_col2\" class=\"data row52 col2\" >233388</td>\n",
       "                        <td id=\"T_37768f52_b498_11ea_8ba3_f01faf2f41a7row52_col3\" class=\"data row52 col3\" >1014753</td>\n",
       "                        <td id=\"T_37768f52_b498_11ea_8ba3_f01faf2f41a7row52_col4\" class=\"data row52 col4\" >7.16</td>\n",
       "                        <td id=\"T_37768f52_b498_11ea_8ba3_f01faf2f41a7row52_col5\" class=\"data row52 col5\" >31.14</td>\n",
       "                        <td id=\"T_37768f52_b498_11ea_8ba3_f01faf2f41a7row52_col6\" class=\"data row52 col6\" >61.69</td>\n",
       "                        <td id=\"T_37768f52_b498_11ea_8ba3_f01faf2f41a7row52_col7\" class=\"data row52 col7\" >63047</td>\n",
       "                        <td id=\"T_37768f52_b498_11ea_8ba3_f01faf2f41a7row52_col8\" class=\"data row52 col8\" >5750</td>\n",
       "                        <td id=\"T_37768f52_b498_11ea_8ba3_f01faf2f41a7row52_col9\" class=\"data row52 col9\" >42034</td>\n",
       "                        <td id=\"T_37768f52_b498_11ea_8ba3_f01faf2f41a7row52_col10\" class=\"data row52 col10\" >2010118</td>\n",
       "            </tr>\n",
       "            <tr>\n",
       "                        <th id=\"T_37768f52_b498_11ea_8ba3_f01faf2f41a7level0_row53\" class=\"row_heading level0 row53\" >53</th>\n",
       "                        <td id=\"T_37768f52_b498_11ea_8ba3_f01faf2f41a7row53_col0\" class=\"data row53 col0\" >2020-04-29 00:00:00</td>\n",
       "                        <td id=\"T_37768f52_b498_11ea_8ba3_f01faf2f41a7row53_col1\" class=\"data row53 col1\" >3195212</td>\n",
       "                        <td id=\"T_37768f52_b498_11ea_8ba3_f01faf2f41a7row53_col2\" class=\"data row53 col2\" >227638</td>\n",
       "                        <td id=\"T_37768f52_b498_11ea_8ba3_f01faf2f41a7row53_col3\" class=\"data row53 col3\" >972719</td>\n",
       "                        <td id=\"T_37768f52_b498_11ea_8ba3_f01faf2f41a7row53_col4\" class=\"data row53 col4\" >7.12</td>\n",
       "                        <td id=\"T_37768f52_b498_11ea_8ba3_f01faf2f41a7row53_col5\" class=\"data row53 col5\" >30.44</td>\n",
       "                        <td id=\"T_37768f52_b498_11ea_8ba3_f01faf2f41a7row53_col6\" class=\"data row53 col6\" >62.43</td>\n",
       "                        <td id=\"T_37768f52_b498_11ea_8ba3_f01faf2f41a7row53_col7\" class=\"data row53 col7\" >80509</td>\n",
       "                        <td id=\"T_37768f52_b498_11ea_8ba3_f01faf2f41a7row53_col8\" class=\"data row53 col8\" >10485</td>\n",
       "                        <td id=\"T_37768f52_b498_11ea_8ba3_f01faf2f41a7row53_col9\" class=\"data row53 col9\" >44061</td>\n",
       "                        <td id=\"T_37768f52_b498_11ea_8ba3_f01faf2f41a7row53_col10\" class=\"data row53 col10\" >1994855</td>\n",
       "            </tr>\n",
       "            <tr>\n",
       "                        <th id=\"T_37768f52_b498_11ea_8ba3_f01faf2f41a7level0_row54\" class=\"row_heading level0 row54\" >54</th>\n",
       "                        <td id=\"T_37768f52_b498_11ea_8ba3_f01faf2f41a7row54_col0\" class=\"data row54 col0\" >2020-04-28 00:00:00</td>\n",
       "                        <td id=\"T_37768f52_b498_11ea_8ba3_f01faf2f41a7row54_col1\" class=\"data row54 col1\" >3114703</td>\n",
       "                        <td id=\"T_37768f52_b498_11ea_8ba3_f01faf2f41a7row54_col2\" class=\"data row54 col2\" >217153</td>\n",
       "                        <td id=\"T_37768f52_b498_11ea_8ba3_f01faf2f41a7row54_col3\" class=\"data row54 col3\" >928658</td>\n",
       "                        <td id=\"T_37768f52_b498_11ea_8ba3_f01faf2f41a7row54_col4\" class=\"data row54 col4\" >6.97</td>\n",
       "                        <td id=\"T_37768f52_b498_11ea_8ba3_f01faf2f41a7row54_col5\" class=\"data row54 col5\" >29.82</td>\n",
       "                        <td id=\"T_37768f52_b498_11ea_8ba3_f01faf2f41a7row54_col6\" class=\"data row54 col6\" >63.21</td>\n",
       "                        <td id=\"T_37768f52_b498_11ea_8ba3_f01faf2f41a7row54_col7\" class=\"data row54 col7\" >71687</td>\n",
       "                        <td id=\"T_37768f52_b498_11ea_8ba3_f01faf2f41a7row54_col8\" class=\"data row54 col8\" >5986</td>\n",
       "                        <td id=\"T_37768f52_b498_11ea_8ba3_f01faf2f41a7row54_col9\" class=\"data row54 col9\" >34691</td>\n",
       "                        <td id=\"T_37768f52_b498_11ea_8ba3_f01faf2f41a7row54_col10\" class=\"data row54 col10\" >1968892</td>\n",
       "            </tr>\n",
       "            <tr>\n",
       "                        <th id=\"T_37768f52_b498_11ea_8ba3_f01faf2f41a7level0_row55\" class=\"row_heading level0 row55\" >55</th>\n",
       "                        <td id=\"T_37768f52_b498_11ea_8ba3_f01faf2f41a7row55_col0\" class=\"data row55 col0\" >2020-04-27 00:00:00</td>\n",
       "                        <td id=\"T_37768f52_b498_11ea_8ba3_f01faf2f41a7row55_col1\" class=\"data row55 col1\" >3043016</td>\n",
       "                        <td id=\"T_37768f52_b498_11ea_8ba3_f01faf2f41a7row55_col2\" class=\"data row55 col2\" >211167</td>\n",
       "                        <td id=\"T_37768f52_b498_11ea_8ba3_f01faf2f41a7row55_col3\" class=\"data row55 col3\" >893967</td>\n",
       "                        <td id=\"T_37768f52_b498_11ea_8ba3_f01faf2f41a7row55_col4\" class=\"data row55 col4\" >6.94</td>\n",
       "                        <td id=\"T_37768f52_b498_11ea_8ba3_f01faf2f41a7row55_col5\" class=\"data row55 col5\" >29.38</td>\n",
       "                        <td id=\"T_37768f52_b498_11ea_8ba3_f01faf2f41a7row55_col6\" class=\"data row55 col6\" >63.68</td>\n",
       "                        <td id=\"T_37768f52_b498_11ea_8ba3_f01faf2f41a7row55_col7\" class=\"data row55 col7\" >70289</td>\n",
       "                        <td id=\"T_37768f52_b498_11ea_8ba3_f01faf2f41a7row55_col8\" class=\"data row55 col8\" >4623</td>\n",
       "                        <td id=\"T_37768f52_b498_11ea_8ba3_f01faf2f41a7row55_col9\" class=\"data row55 col9\" >28234</td>\n",
       "                        <td id=\"T_37768f52_b498_11ea_8ba3_f01faf2f41a7row55_col10\" class=\"data row55 col10\" >1937882</td>\n",
       "            </tr>\n",
       "            <tr>\n",
       "                        <th id=\"T_37768f52_b498_11ea_8ba3_f01faf2f41a7level0_row56\" class=\"row_heading level0 row56\" >56</th>\n",
       "                        <td id=\"T_37768f52_b498_11ea_8ba3_f01faf2f41a7row56_col0\" class=\"data row56 col0\" >2020-04-26 00:00:00</td>\n",
       "                        <td id=\"T_37768f52_b498_11ea_8ba3_f01faf2f41a7row56_col1\" class=\"data row56 col1\" >2972727</td>\n",
       "                        <td id=\"T_37768f52_b498_11ea_8ba3_f01faf2f41a7row56_col2\" class=\"data row56 col2\" >206544</td>\n",
       "                        <td id=\"T_37768f52_b498_11ea_8ba3_f01faf2f41a7row56_col3\" class=\"data row56 col3\" >865733</td>\n",
       "                        <td id=\"T_37768f52_b498_11ea_8ba3_f01faf2f41a7row56_col4\" class=\"data row56 col4\" >6.95</td>\n",
       "                        <td id=\"T_37768f52_b498_11ea_8ba3_f01faf2f41a7row56_col5\" class=\"data row56 col5\" >29.12</td>\n",
       "                        <td id=\"T_37768f52_b498_11ea_8ba3_f01faf2f41a7row56_col6\" class=\"data row56 col6\" >63.93</td>\n",
       "                        <td id=\"T_37768f52_b498_11ea_8ba3_f01faf2f41a7row56_col7\" class=\"data row56 col7\" >74786</td>\n",
       "                        <td id=\"T_37768f52_b498_11ea_8ba3_f01faf2f41a7row56_col8\" class=\"data row56 col8\" >3698</td>\n",
       "                        <td id=\"T_37768f52_b498_11ea_8ba3_f01faf2f41a7row56_col9\" class=\"data row56 col9\" >49048</td>\n",
       "                        <td id=\"T_37768f52_b498_11ea_8ba3_f01faf2f41a7row56_col10\" class=\"data row56 col10\" >1900450</td>\n",
       "            </tr>\n",
       "            <tr>\n",
       "                        <th id=\"T_37768f52_b498_11ea_8ba3_f01faf2f41a7level0_row57\" class=\"row_heading level0 row57\" >57</th>\n",
       "                        <td id=\"T_37768f52_b498_11ea_8ba3_f01faf2f41a7row57_col0\" class=\"data row57 col0\" >2020-04-25 00:00:00</td>\n",
       "                        <td id=\"T_37768f52_b498_11ea_8ba3_f01faf2f41a7row57_col1\" class=\"data row57 col1\" >2897941</td>\n",
       "                        <td id=\"T_37768f52_b498_11ea_8ba3_f01faf2f41a7row57_col2\" class=\"data row57 col2\" >202846</td>\n",
       "                        <td id=\"T_37768f52_b498_11ea_8ba3_f01faf2f41a7row57_col3\" class=\"data row57 col3\" >816685</td>\n",
       "                        <td id=\"T_37768f52_b498_11ea_8ba3_f01faf2f41a7row57_col4\" class=\"data row57 col4\" >7</td>\n",
       "                        <td id=\"T_37768f52_b498_11ea_8ba3_f01faf2f41a7row57_col5\" class=\"data row57 col5\" >28.18</td>\n",
       "                        <td id=\"T_37768f52_b498_11ea_8ba3_f01faf2f41a7row57_col6\" class=\"data row57 col6\" >64.82</td>\n",
       "                        <td id=\"T_37768f52_b498_11ea_8ba3_f01faf2f41a7row57_col7\" class=\"data row57 col7\" >86035</td>\n",
       "                        <td id=\"T_37768f52_b498_11ea_8ba3_f01faf2f41a7row57_col8\" class=\"data row57 col8\" >5695</td>\n",
       "                        <td id=\"T_37768f52_b498_11ea_8ba3_f01faf2f41a7row57_col9\" class=\"data row57 col9\" >23265</td>\n",
       "                        <td id=\"T_37768f52_b498_11ea_8ba3_f01faf2f41a7row57_col10\" class=\"data row57 col10\" >1878410</td>\n",
       "            </tr>\n",
       "            <tr>\n",
       "                        <th id=\"T_37768f52_b498_11ea_8ba3_f01faf2f41a7level0_row58\" class=\"row_heading level0 row58\" >58</th>\n",
       "                        <td id=\"T_37768f52_b498_11ea_8ba3_f01faf2f41a7row58_col0\" class=\"data row58 col0\" >2020-04-24 00:00:00</td>\n",
       "                        <td id=\"T_37768f52_b498_11ea_8ba3_f01faf2f41a7row58_col1\" class=\"data row58 col1\" >2811906</td>\n",
       "                        <td id=\"T_37768f52_b498_11ea_8ba3_f01faf2f41a7row58_col2\" class=\"data row58 col2\" >197151</td>\n",
       "                        <td id=\"T_37768f52_b498_11ea_8ba3_f01faf2f41a7row58_col3\" class=\"data row58 col3\" >793420</td>\n",
       "                        <td id=\"T_37768f52_b498_11ea_8ba3_f01faf2f41a7row58_col4\" class=\"data row58 col4\" >7.01</td>\n",
       "                        <td id=\"T_37768f52_b498_11ea_8ba3_f01faf2f41a7row58_col5\" class=\"data row58 col5\" >28.22</td>\n",
       "                        <td id=\"T_37768f52_b498_11ea_8ba3_f01faf2f41a7row58_col6\" class=\"data row58 col6\" >64.77</td>\n",
       "                        <td id=\"T_37768f52_b498_11ea_8ba3_f01faf2f41a7row58_col7\" class=\"data row58 col7\" >103022</td>\n",
       "                        <td id=\"T_37768f52_b498_11ea_8ba3_f01faf2f41a7row58_col8\" class=\"data row58 col8\" >6293</td>\n",
       "                        <td id=\"T_37768f52_b498_11ea_8ba3_f01faf2f41a7row58_col9\" class=\"data row58 col9\" >54934</td>\n",
       "                        <td id=\"T_37768f52_b498_11ea_8ba3_f01faf2f41a7row58_col10\" class=\"data row58 col10\" >1821335</td>\n",
       "            </tr>\n",
       "            <tr>\n",
       "                        <th id=\"T_37768f52_b498_11ea_8ba3_f01faf2f41a7level0_row59\" class=\"row_heading level0 row59\" >59</th>\n",
       "                        <td id=\"T_37768f52_b498_11ea_8ba3_f01faf2f41a7row59_col0\" class=\"data row59 col0\" >2020-04-23 00:00:00</td>\n",
       "                        <td id=\"T_37768f52_b498_11ea_8ba3_f01faf2f41a7row59_col1\" class=\"data row59 col1\" >2708884</td>\n",
       "                        <td id=\"T_37768f52_b498_11ea_8ba3_f01faf2f41a7row59_col2\" class=\"data row59 col2\" >190858</td>\n",
       "                        <td id=\"T_37768f52_b498_11ea_8ba3_f01faf2f41a7row59_col3\" class=\"data row59 col3\" >738486</td>\n",
       "                        <td id=\"T_37768f52_b498_11ea_8ba3_f01faf2f41a7row59_col4\" class=\"data row59 col4\" >7.05</td>\n",
       "                        <td id=\"T_37768f52_b498_11ea_8ba3_f01faf2f41a7row59_col5\" class=\"data row59 col5\" >27.26</td>\n",
       "                        <td id=\"T_37768f52_b498_11ea_8ba3_f01faf2f41a7row59_col6\" class=\"data row59 col6\" >65.69</td>\n",
       "                        <td id=\"T_37768f52_b498_11ea_8ba3_f01faf2f41a7row59_col7\" class=\"data row59 col7\" >84912</td>\n",
       "                        <td id=\"T_37768f52_b498_11ea_8ba3_f01faf2f41a7row59_col8\" class=\"data row59 col8\" >7792</td>\n",
       "                        <td id=\"T_37768f52_b498_11ea_8ba3_f01faf2f41a7row59_col9\" class=\"data row59 col9\" >28792</td>\n",
       "                        <td id=\"T_37768f52_b498_11ea_8ba3_f01faf2f41a7row59_col10\" class=\"data row59 col10\" >1779540</td>\n",
       "            </tr>\n",
       "            <tr>\n",
       "                        <th id=\"T_37768f52_b498_11ea_8ba3_f01faf2f41a7level0_row60\" class=\"row_heading level0 row60\" >60</th>\n",
       "                        <td id=\"T_37768f52_b498_11ea_8ba3_f01faf2f41a7row60_col0\" class=\"data row60 col0\" >2020-04-22 00:00:00</td>\n",
       "                        <td id=\"T_37768f52_b498_11ea_8ba3_f01faf2f41a7row60_col1\" class=\"data row60 col1\" >2623972</td>\n",
       "                        <td id=\"T_37768f52_b498_11ea_8ba3_f01faf2f41a7row60_col2\" class=\"data row60 col2\" >183066</td>\n",
       "                        <td id=\"T_37768f52_b498_11ea_8ba3_f01faf2f41a7row60_col3\" class=\"data row60 col3\" >709694</td>\n",
       "                        <td id=\"T_37768f52_b498_11ea_8ba3_f01faf2f41a7row60_col4\" class=\"data row60 col4\" >6.98</td>\n",
       "                        <td id=\"T_37768f52_b498_11ea_8ba3_f01faf2f41a7row60_col5\" class=\"data row60 col5\" >27.05</td>\n",
       "                        <td id=\"T_37768f52_b498_11ea_8ba3_f01faf2f41a7row60_col6\" class=\"data row60 col6\" >65.98</td>\n",
       "                        <td id=\"T_37768f52_b498_11ea_8ba3_f01faf2f41a7row60_col7\" class=\"data row60 col7\" >74850</td>\n",
       "                        <td id=\"T_37768f52_b498_11ea_8ba3_f01faf2f41a7row60_col8\" class=\"data row60 col8\" >6483</td>\n",
       "                        <td id=\"T_37768f52_b498_11ea_8ba3_f01faf2f41a7row60_col9\" class=\"data row60 col9\" >29875</td>\n",
       "                        <td id=\"T_37768f52_b498_11ea_8ba3_f01faf2f41a7row60_col10\" class=\"data row60 col10\" >1731212</td>\n",
       "            </tr>\n",
       "            <tr>\n",
       "                        <th id=\"T_37768f52_b498_11ea_8ba3_f01faf2f41a7level0_row61\" class=\"row_heading level0 row61\" >61</th>\n",
       "                        <td id=\"T_37768f52_b498_11ea_8ba3_f01faf2f41a7row61_col0\" class=\"data row61 col0\" >2020-04-21 00:00:00</td>\n",
       "                        <td id=\"T_37768f52_b498_11ea_8ba3_f01faf2f41a7row61_col1\" class=\"data row61 col1\" >2549122</td>\n",
       "                        <td id=\"T_37768f52_b498_11ea_8ba3_f01faf2f41a7row61_col2\" class=\"data row61 col2\" >176583</td>\n",
       "                        <td id=\"T_37768f52_b498_11ea_8ba3_f01faf2f41a7row61_col3\" class=\"data row61 col3\" >679819</td>\n",
       "                        <td id=\"T_37768f52_b498_11ea_8ba3_f01faf2f41a7row61_col4\" class=\"data row61 col4\" >6.93</td>\n",
       "                        <td id=\"T_37768f52_b498_11ea_8ba3_f01faf2f41a7row61_col5\" class=\"data row61 col5\" >26.67</td>\n",
       "                        <td id=\"T_37768f52_b498_11ea_8ba3_f01faf2f41a7row61_col6\" class=\"data row61 col6\" >66.4</td>\n",
       "                        <td id=\"T_37768f52_b498_11ea_8ba3_f01faf2f41a7row61_col7\" class=\"data row61 col7\" >76756</td>\n",
       "                        <td id=\"T_37768f52_b498_11ea_8ba3_f01faf2f41a7row61_col8\" class=\"data row61 col8\" >6597</td>\n",
       "                        <td id=\"T_37768f52_b498_11ea_8ba3_f01faf2f41a7row61_col9\" class=\"data row61 col9\" >34081</td>\n",
       "                        <td id=\"T_37768f52_b498_11ea_8ba3_f01faf2f41a7row61_col10\" class=\"data row61 col10\" >1692720</td>\n",
       "            </tr>\n",
       "            <tr>\n",
       "                        <th id=\"T_37768f52_b498_11ea_8ba3_f01faf2f41a7level0_row62\" class=\"row_heading level0 row62\" >62</th>\n",
       "                        <td id=\"T_37768f52_b498_11ea_8ba3_f01faf2f41a7row62_col0\" class=\"data row62 col0\" >2020-04-20 00:00:00</td>\n",
       "                        <td id=\"T_37768f52_b498_11ea_8ba3_f01faf2f41a7row62_col1\" class=\"data row62 col1\" >2472366</td>\n",
       "                        <td id=\"T_37768f52_b498_11ea_8ba3_f01faf2f41a7row62_col2\" class=\"data row62 col2\" >169986</td>\n",
       "                        <td id=\"T_37768f52_b498_11ea_8ba3_f01faf2f41a7row62_col3\" class=\"data row62 col3\" >645738</td>\n",
       "                        <td id=\"T_37768f52_b498_11ea_8ba3_f01faf2f41a7row62_col4\" class=\"data row62 col4\" >6.88</td>\n",
       "                        <td id=\"T_37768f52_b498_11ea_8ba3_f01faf2f41a7row62_col5\" class=\"data row62 col5\" >26.12</td>\n",
       "                        <td id=\"T_37768f52_b498_11ea_8ba3_f01faf2f41a7row62_col6\" class=\"data row62 col6\" >67.01</td>\n",
       "                        <td id=\"T_37768f52_b498_11ea_8ba3_f01faf2f41a7row62_col7\" class=\"data row62 col7\" >70988</td>\n",
       "                        <td id=\"T_37768f52_b498_11ea_8ba3_f01faf2f41a7row62_col8\" class=\"data row62 col8\" >4942</td>\n",
       "                        <td id=\"T_37768f52_b498_11ea_8ba3_f01faf2f41a7row62_col9\" class=\"data row62 col9\" >21835</td>\n",
       "                        <td id=\"T_37768f52_b498_11ea_8ba3_f01faf2f41a7row62_col10\" class=\"data row62 col10\" >1656642</td>\n",
       "            </tr>\n",
       "            <tr>\n",
       "                        <th id=\"T_37768f52_b498_11ea_8ba3_f01faf2f41a7level0_row63\" class=\"row_heading level0 row63\" >63</th>\n",
       "                        <td id=\"T_37768f52_b498_11ea_8ba3_f01faf2f41a7row63_col0\" class=\"data row63 col0\" >2020-04-19 00:00:00</td>\n",
       "                        <td id=\"T_37768f52_b498_11ea_8ba3_f01faf2f41a7row63_col1\" class=\"data row63 col1\" >2401378</td>\n",
       "                        <td id=\"T_37768f52_b498_11ea_8ba3_f01faf2f41a7row63_col2\" class=\"data row63 col2\" >165044</td>\n",
       "                        <td id=\"T_37768f52_b498_11ea_8ba3_f01faf2f41a7row63_col3\" class=\"data row63 col3\" >623903</td>\n",
       "                        <td id=\"T_37768f52_b498_11ea_8ba3_f01faf2f41a7row63_col4\" class=\"data row63 col4\" >6.87</td>\n",
       "                        <td id=\"T_37768f52_b498_11ea_8ba3_f01faf2f41a7row63_col5\" class=\"data row63 col5\" >25.98</td>\n",
       "                        <td id=\"T_37768f52_b498_11ea_8ba3_f01faf2f41a7row63_col6\" class=\"data row63 col6\" >67.15</td>\n",
       "                        <td id=\"T_37768f52_b498_11ea_8ba3_f01faf2f41a7row63_col7\" class=\"data row63 col7\" >79796</td>\n",
       "                        <td id=\"T_37768f52_b498_11ea_8ba3_f01faf2f41a7row63_col8\" class=\"data row63 col8\" >5534</td>\n",
       "                        <td id=\"T_37768f52_b498_11ea_8ba3_f01faf2f41a7row63_col9\" class=\"data row63 col9\" >31584</td>\n",
       "                        <td id=\"T_37768f52_b498_11ea_8ba3_f01faf2f41a7row63_col10\" class=\"data row63 col10\" >1612431</td>\n",
       "            </tr>\n",
       "            <tr>\n",
       "                        <th id=\"T_37768f52_b498_11ea_8ba3_f01faf2f41a7level0_row64\" class=\"row_heading level0 row64\" >64</th>\n",
       "                        <td id=\"T_37768f52_b498_11ea_8ba3_f01faf2f41a7row64_col0\" class=\"data row64 col0\" >2020-04-18 00:00:00</td>\n",
       "                        <td id=\"T_37768f52_b498_11ea_8ba3_f01faf2f41a7row64_col1\" class=\"data row64 col1\" >2321582</td>\n",
       "                        <td id=\"T_37768f52_b498_11ea_8ba3_f01faf2f41a7row64_col2\" class=\"data row64 col2\" >159510</td>\n",
       "                        <td id=\"T_37768f52_b498_11ea_8ba3_f01faf2f41a7row64_col3\" class=\"data row64 col3\" >592319</td>\n",
       "                        <td id=\"T_37768f52_b498_11ea_8ba3_f01faf2f41a7row64_col4\" class=\"data row64 col4\" >6.87</td>\n",
       "                        <td id=\"T_37768f52_b498_11ea_8ba3_f01faf2f41a7row64_col5\" class=\"data row64 col5\" >25.51</td>\n",
       "                        <td id=\"T_37768f52_b498_11ea_8ba3_f01faf2f41a7row64_col6\" class=\"data row64 col6\" >67.62</td>\n",
       "                        <td id=\"T_37768f52_b498_11ea_8ba3_f01faf2f41a7row64_col7\" class=\"data row64 col7\" >81392</td>\n",
       "                        <td id=\"T_37768f52_b498_11ea_8ba3_f01faf2f41a7row64_col8\" class=\"data row64 col8\" >5688</td>\n",
       "                        <td id=\"T_37768f52_b498_11ea_8ba3_f01faf2f41a7row64_col9\" class=\"data row64 col9\" >23976</td>\n",
       "                        <td id=\"T_37768f52_b498_11ea_8ba3_f01faf2f41a7row64_col10\" class=\"data row64 col10\" >1569753</td>\n",
       "            </tr>\n",
       "            <tr>\n",
       "                        <th id=\"T_37768f52_b498_11ea_8ba3_f01faf2f41a7level0_row65\" class=\"row_heading level0 row65\" >65</th>\n",
       "                        <td id=\"T_37768f52_b498_11ea_8ba3_f01faf2f41a7row65_col0\" class=\"data row65 col0\" >2020-04-17 00:00:00</td>\n",
       "                        <td id=\"T_37768f52_b498_11ea_8ba3_f01faf2f41a7row65_col1\" class=\"data row65 col1\" >2240190</td>\n",
       "                        <td id=\"T_37768f52_b498_11ea_8ba3_f01faf2f41a7row65_col2\" class=\"data row65 col2\" >153822</td>\n",
       "                        <td id=\"T_37768f52_b498_11ea_8ba3_f01faf2f41a7row65_col3\" class=\"data row65 col3\" >568343</td>\n",
       "                        <td id=\"T_37768f52_b498_11ea_8ba3_f01faf2f41a7row65_col4\" class=\"data row65 col4\" >6.87</td>\n",
       "                        <td id=\"T_37768f52_b498_11ea_8ba3_f01faf2f41a7row65_col5\" class=\"data row65 col5\" >25.37</td>\n",
       "                        <td id=\"T_37768f52_b498_11ea_8ba3_f01faf2f41a7row65_col6\" class=\"data row65 col6\" >67.76</td>\n",
       "                        <td id=\"T_37768f52_b498_11ea_8ba3_f01faf2f41a7row65_col7\" class=\"data row65 col7\" >87444</td>\n",
       "                        <td id=\"T_37768f52_b498_11ea_8ba3_f01faf2f41a7row65_col8\" class=\"data row65 col8\" >10021</td>\n",
       "                        <td id=\"T_37768f52_b498_11ea_8ba3_f01faf2f41a7row65_col9\" class=\"data row65 col9\" >26236</td>\n",
       "                        <td id=\"T_37768f52_b498_11ea_8ba3_f01faf2f41a7row65_col10\" class=\"data row65 col10\" >1518025</td>\n",
       "            </tr>\n",
       "            <tr>\n",
       "                        <th id=\"T_37768f52_b498_11ea_8ba3_f01faf2f41a7level0_row66\" class=\"row_heading level0 row66\" >66</th>\n",
       "                        <td id=\"T_37768f52_b498_11ea_8ba3_f01faf2f41a7row66_col0\" class=\"data row66 col0\" >2020-04-16 00:00:00</td>\n",
       "                        <td id=\"T_37768f52_b498_11ea_8ba3_f01faf2f41a7row66_col1\" class=\"data row66 col1\" >2152746</td>\n",
       "                        <td id=\"T_37768f52_b498_11ea_8ba3_f01faf2f41a7row66_col2\" class=\"data row66 col2\" >143801</td>\n",
       "                        <td id=\"T_37768f52_b498_11ea_8ba3_f01faf2f41a7row66_col3\" class=\"data row66 col3\" >542107</td>\n",
       "                        <td id=\"T_37768f52_b498_11ea_8ba3_f01faf2f41a7row66_col4\" class=\"data row66 col4\" >6.68</td>\n",
       "                        <td id=\"T_37768f52_b498_11ea_8ba3_f01faf2f41a7row66_col5\" class=\"data row66 col5\" >25.18</td>\n",
       "                        <td id=\"T_37768f52_b498_11ea_8ba3_f01faf2f41a7row66_col6\" class=\"data row66 col6\" >68.14</td>\n",
       "                        <td id=\"T_37768f52_b498_11ea_8ba3_f01faf2f41a7row66_col7\" class=\"data row66 col7\" >96692</td>\n",
       "                        <td id=\"T_37768f52_b498_11ea_8ba3_f01faf2f41a7row66_col8\" class=\"data row66 col8\" >9624</td>\n",
       "                        <td id=\"T_37768f52_b498_11ea_8ba3_f01faf2f41a7row66_col9\" class=\"data row66 col9\" >31088</td>\n",
       "                        <td id=\"T_37768f52_b498_11ea_8ba3_f01faf2f41a7row66_col10\" class=\"data row66 col10\" >1466838</td>\n",
       "            </tr>\n",
       "            <tr>\n",
       "                        <th id=\"T_37768f52_b498_11ea_8ba3_f01faf2f41a7level0_row67\" class=\"row_heading level0 row67\" >67</th>\n",
       "                        <td id=\"T_37768f52_b498_11ea_8ba3_f01faf2f41a7row67_col0\" class=\"data row67 col0\" >2020-04-15 00:00:00</td>\n",
       "                        <td id=\"T_37768f52_b498_11ea_8ba3_f01faf2f41a7row67_col1\" class=\"data row67 col1\" >2056054</td>\n",
       "                        <td id=\"T_37768f52_b498_11ea_8ba3_f01faf2f41a7row67_col2\" class=\"data row67 col2\" >134177</td>\n",
       "                        <td id=\"T_37768f52_b498_11ea_8ba3_f01faf2f41a7row67_col3\" class=\"data row67 col3\" >511019</td>\n",
       "                        <td id=\"T_37768f52_b498_11ea_8ba3_f01faf2f41a7row67_col4\" class=\"data row67 col4\" >6.53</td>\n",
       "                        <td id=\"T_37768f52_b498_11ea_8ba3_f01faf2f41a7row67_col5\" class=\"data row67 col5\" >24.85</td>\n",
       "                        <td id=\"T_37768f52_b498_11ea_8ba3_f01faf2f41a7row67_col6\" class=\"data row67 col6\" >68.62</td>\n",
       "                        <td id=\"T_37768f52_b498_11ea_8ba3_f01faf2f41a7row67_col7\" class=\"data row67 col7\" >79863</td>\n",
       "                        <td id=\"T_37768f52_b498_11ea_8ba3_f01faf2f41a7row67_col8\" class=\"data row67 col8\" >8193</td>\n",
       "                        <td id=\"T_37768f52_b498_11ea_8ba3_f01faf2f41a7row67_col9\" class=\"data row67 col9\" >36758</td>\n",
       "                        <td id=\"T_37768f52_b498_11ea_8ba3_f01faf2f41a7row67_col10\" class=\"data row67 col10\" >1410858</td>\n",
       "            </tr>\n",
       "            <tr>\n",
       "                        <th id=\"T_37768f52_b498_11ea_8ba3_f01faf2f41a7level0_row68\" class=\"row_heading level0 row68\" >68</th>\n",
       "                        <td id=\"T_37768f52_b498_11ea_8ba3_f01faf2f41a7row68_col0\" class=\"data row68 col0\" >2020-04-14 00:00:00</td>\n",
       "                        <td id=\"T_37768f52_b498_11ea_8ba3_f01faf2f41a7row68_col1\" class=\"data row68 col1\" >1976191</td>\n",
       "                        <td id=\"T_37768f52_b498_11ea_8ba3_f01faf2f41a7row68_col2\" class=\"data row68 col2\" >125984</td>\n",
       "                        <td id=\"T_37768f52_b498_11ea_8ba3_f01faf2f41a7row68_col3\" class=\"data row68 col3\" >474261</td>\n",
       "                        <td id=\"T_37768f52_b498_11ea_8ba3_f01faf2f41a7row68_col4\" class=\"data row68 col4\" >6.38</td>\n",
       "                        <td id=\"T_37768f52_b498_11ea_8ba3_f01faf2f41a7row68_col5\" class=\"data row68 col5\" >24</td>\n",
       "                        <td id=\"T_37768f52_b498_11ea_8ba3_f01faf2f41a7row68_col6\" class=\"data row68 col6\" >69.63</td>\n",
       "                        <td id=\"T_37768f52_b498_11ea_8ba3_f01faf2f41a7row68_col7\" class=\"data row68 col7\" >71353</td>\n",
       "                        <td id=\"T_37768f52_b498_11ea_8ba3_f01faf2f41a7row68_col8\" class=\"data row68 col8\" >6502</td>\n",
       "                        <td id=\"T_37768f52_b498_11ea_8ba3_f01faf2f41a7row68_col9\" class=\"data row68 col9\" >25606</td>\n",
       "                        <td id=\"T_37768f52_b498_11ea_8ba3_f01faf2f41a7row68_col10\" class=\"data row68 col10\" >1375946</td>\n",
       "            </tr>\n",
       "            <tr>\n",
       "                        <th id=\"T_37768f52_b498_11ea_8ba3_f01faf2f41a7level0_row69\" class=\"row_heading level0 row69\" >69</th>\n",
       "                        <td id=\"T_37768f52_b498_11ea_8ba3_f01faf2f41a7row69_col0\" class=\"data row69 col0\" >2020-04-13 00:00:00</td>\n",
       "                        <td id=\"T_37768f52_b498_11ea_8ba3_f01faf2f41a7row69_col1\" class=\"data row69 col1\" >1904838</td>\n",
       "                        <td id=\"T_37768f52_b498_11ea_8ba3_f01faf2f41a7row69_col2\" class=\"data row69 col2\" >119482</td>\n",
       "                        <td id=\"T_37768f52_b498_11ea_8ba3_f01faf2f41a7row69_col3\" class=\"data row69 col3\" >448655</td>\n",
       "                        <td id=\"T_37768f52_b498_11ea_8ba3_f01faf2f41a7row69_col4\" class=\"data row69 col4\" >6.27</td>\n",
       "                        <td id=\"T_37768f52_b498_11ea_8ba3_f01faf2f41a7row69_col5\" class=\"data row69 col5\" >23.55</td>\n",
       "                        <td id=\"T_37768f52_b498_11ea_8ba3_f01faf2f41a7row69_col6\" class=\"data row69 col6\" >70.17</td>\n",
       "                        <td id=\"T_37768f52_b498_11ea_8ba3_f01faf2f41a7row69_col7\" class=\"data row69 col7\" >70117</td>\n",
       "                        <td id=\"T_37768f52_b498_11ea_8ba3_f01faf2f41a7row69_col8\" class=\"data row69 col8\" >5393</td>\n",
       "                        <td id=\"T_37768f52_b498_11ea_8ba3_f01faf2f41a7row69_col9\" class=\"data row69 col9\" >26933</td>\n",
       "                        <td id=\"T_37768f52_b498_11ea_8ba3_f01faf2f41a7row69_col10\" class=\"data row69 col10\" >1336701</td>\n",
       "            </tr>\n",
       "            <tr>\n",
       "                        <th id=\"T_37768f52_b498_11ea_8ba3_f01faf2f41a7level0_row70\" class=\"row_heading level0 row70\" >70</th>\n",
       "                        <td id=\"T_37768f52_b498_11ea_8ba3_f01faf2f41a7row70_col0\" class=\"data row70 col0\" >2020-04-12 00:00:00</td>\n",
       "                        <td id=\"T_37768f52_b498_11ea_8ba3_f01faf2f41a7row70_col1\" class=\"data row70 col1\" >1834721</td>\n",
       "                        <td id=\"T_37768f52_b498_11ea_8ba3_f01faf2f41a7row70_col2\" class=\"data row70 col2\" >114089</td>\n",
       "                        <td id=\"T_37768f52_b498_11ea_8ba3_f01faf2f41a7row70_col3\" class=\"data row70 col3\" >421722</td>\n",
       "                        <td id=\"T_37768f52_b498_11ea_8ba3_f01faf2f41a7row70_col4\" class=\"data row70 col4\" >6.22</td>\n",
       "                        <td id=\"T_37768f52_b498_11ea_8ba3_f01faf2f41a7row70_col5\" class=\"data row70 col5\" >22.99</td>\n",
       "                        <td id=\"T_37768f52_b498_11ea_8ba3_f01faf2f41a7row70_col6\" class=\"data row70 col6\" >70.8</td>\n",
       "                        <td id=\"T_37768f52_b498_11ea_8ba3_f01faf2f41a7row70_col7\" class=\"data row70 col7\" >72681</td>\n",
       "                        <td id=\"T_37768f52_b498_11ea_8ba3_f01faf2f41a7row70_col8\" class=\"data row70 col8\" >5587</td>\n",
       "                        <td id=\"T_37768f52_b498_11ea_8ba3_f01faf2f41a7row70_col9\" class=\"data row70 col9\" >19612</td>\n",
       "                        <td id=\"T_37768f52_b498_11ea_8ba3_f01faf2f41a7row70_col10\" class=\"data row70 col10\" >1298910</td>\n",
       "            </tr>\n",
       "            <tr>\n",
       "                        <th id=\"T_37768f52_b498_11ea_8ba3_f01faf2f41a7level0_row71\" class=\"row_heading level0 row71\" >71</th>\n",
       "                        <td id=\"T_37768f52_b498_11ea_8ba3_f01faf2f41a7row71_col0\" class=\"data row71 col0\" >2020-04-11 00:00:00</td>\n",
       "                        <td id=\"T_37768f52_b498_11ea_8ba3_f01faf2f41a7row71_col1\" class=\"data row71 col1\" >1762040</td>\n",
       "                        <td id=\"T_37768f52_b498_11ea_8ba3_f01faf2f41a7row71_col2\" class=\"data row71 col2\" >108502</td>\n",
       "                        <td id=\"T_37768f52_b498_11ea_8ba3_f01faf2f41a7row71_col3\" class=\"data row71 col3\" >402110</td>\n",
       "                        <td id=\"T_37768f52_b498_11ea_8ba3_f01faf2f41a7row71_col4\" class=\"data row71 col4\" >6.16</td>\n",
       "                        <td id=\"T_37768f52_b498_11ea_8ba3_f01faf2f41a7row71_col5\" class=\"data row71 col5\" >22.82</td>\n",
       "                        <td id=\"T_37768f52_b498_11ea_8ba3_f01faf2f41a7row71_col6\" class=\"data row71 col6\" >71.02</td>\n",
       "                        <td id=\"T_37768f52_b498_11ea_8ba3_f01faf2f41a7row71_col7\" class=\"data row71 col7\" >79583</td>\n",
       "                        <td id=\"T_37768f52_b498_11ea_8ba3_f01faf2f41a7row71_col8\" class=\"data row71 col8\" >5977</td>\n",
       "                        <td id=\"T_37768f52_b498_11ea_8ba3_f01faf2f41a7row71_col9\" class=\"data row71 col9\" >26014</td>\n",
       "                        <td id=\"T_37768f52_b498_11ea_8ba3_f01faf2f41a7row71_col10\" class=\"data row71 col10\" >1251428</td>\n",
       "            </tr>\n",
       "            <tr>\n",
       "                        <th id=\"T_37768f52_b498_11ea_8ba3_f01faf2f41a7level0_row72\" class=\"row_heading level0 row72\" >72</th>\n",
       "                        <td id=\"T_37768f52_b498_11ea_8ba3_f01faf2f41a7row72_col0\" class=\"data row72 col0\" >2020-04-10 00:00:00</td>\n",
       "                        <td id=\"T_37768f52_b498_11ea_8ba3_f01faf2f41a7row72_col1\" class=\"data row72 col1\" >1682457</td>\n",
       "                        <td id=\"T_37768f52_b498_11ea_8ba3_f01faf2f41a7row72_col2\" class=\"data row72 col2\" >102525</td>\n",
       "                        <td id=\"T_37768f52_b498_11ea_8ba3_f01faf2f41a7row72_col3\" class=\"data row72 col3\" >376096</td>\n",
       "                        <td id=\"T_37768f52_b498_11ea_8ba3_f01faf2f41a7row72_col4\" class=\"data row72 col4\" >6.09</td>\n",
       "                        <td id=\"T_37768f52_b498_11ea_8ba3_f01faf2f41a7row72_col5\" class=\"data row72 col5\" >22.35</td>\n",
       "                        <td id=\"T_37768f52_b498_11ea_8ba3_f01faf2f41a7row72_col6\" class=\"data row72 col6\" >71.55</td>\n",
       "                        <td id=\"T_37768f52_b498_11ea_8ba3_f01faf2f41a7row72_col7\" class=\"data row72 col7\" >95317</td>\n",
       "                        <td id=\"T_37768f52_b498_11ea_8ba3_f01faf2f41a7row72_col8\" class=\"data row72 col8\" >7070</td>\n",
       "                        <td id=\"T_37768f52_b498_11ea_8ba3_f01faf2f41a7row72_col9\" class=\"data row72 col9\" >22121</td>\n",
       "                        <td id=\"T_37768f52_b498_11ea_8ba3_f01faf2f41a7row72_col10\" class=\"data row72 col10\" >1203836</td>\n",
       "            </tr>\n",
       "            <tr>\n",
       "                        <th id=\"T_37768f52_b498_11ea_8ba3_f01faf2f41a7level0_row73\" class=\"row_heading level0 row73\" >73</th>\n",
       "                        <td id=\"T_37768f52_b498_11ea_8ba3_f01faf2f41a7row73_col0\" class=\"data row73 col0\" >2020-04-09 00:00:00</td>\n",
       "                        <td id=\"T_37768f52_b498_11ea_8ba3_f01faf2f41a7row73_col1\" class=\"data row73 col1\" >1587140</td>\n",
       "                        <td id=\"T_37768f52_b498_11ea_8ba3_f01faf2f41a7row73_col2\" class=\"data row73 col2\" >95455</td>\n",
       "                        <td id=\"T_37768f52_b498_11ea_8ba3_f01faf2f41a7row73_col3\" class=\"data row73 col3\" >353975</td>\n",
       "                        <td id=\"T_37768f52_b498_11ea_8ba3_f01faf2f41a7row73_col4\" class=\"data row73 col4\" >6.01</td>\n",
       "                        <td id=\"T_37768f52_b498_11ea_8ba3_f01faf2f41a7row73_col5\" class=\"data row73 col5\" >22.3</td>\n",
       "                        <td id=\"T_37768f52_b498_11ea_8ba3_f01faf2f41a7row73_col6\" class=\"data row73 col6\" >71.68</td>\n",
       "                        <td id=\"T_37768f52_b498_11ea_8ba3_f01faf2f41a7row73_col7\" class=\"data row73 col7\" >85685</td>\n",
       "                        <td id=\"T_37768f52_b498_11ea_8ba3_f01faf2f41a7row73_col8\" class=\"data row73 col8\" >7117</td>\n",
       "                        <td id=\"T_37768f52_b498_11ea_8ba3_f01faf2f41a7row73_col9\" class=\"data row73 col9\" >25314</td>\n",
       "                        <td id=\"T_37768f52_b498_11ea_8ba3_f01faf2f41a7row73_col10\" class=\"data row73 col10\" >1137710</td>\n",
       "            </tr>\n",
       "            <tr>\n",
       "                        <th id=\"T_37768f52_b498_11ea_8ba3_f01faf2f41a7level0_row74\" class=\"row_heading level0 row74\" >74</th>\n",
       "                        <td id=\"T_37768f52_b498_11ea_8ba3_f01faf2f41a7row74_col0\" class=\"data row74 col0\" >2020-04-08 00:00:00</td>\n",
       "                        <td id=\"T_37768f52_b498_11ea_8ba3_f01faf2f41a7row74_col1\" class=\"data row74 col1\" >1501455</td>\n",
       "                        <td id=\"T_37768f52_b498_11ea_8ba3_f01faf2f41a7row74_col2\" class=\"data row74 col2\" >88338</td>\n",
       "                        <td id=\"T_37768f52_b498_11ea_8ba3_f01faf2f41a7row74_col3\" class=\"data row74 col3\" >328661</td>\n",
       "                        <td id=\"T_37768f52_b498_11ea_8ba3_f01faf2f41a7row74_col4\" class=\"data row74 col4\" >5.88</td>\n",
       "                        <td id=\"T_37768f52_b498_11ea_8ba3_f01faf2f41a7row74_col5\" class=\"data row74 col5\" >21.89</td>\n",
       "                        <td id=\"T_37768f52_b498_11ea_8ba3_f01faf2f41a7row74_col6\" class=\"data row74 col6\" >72.23</td>\n",
       "                        <td id=\"T_37768f52_b498_11ea_8ba3_f01faf2f41a7row74_col7\" class=\"data row74 col7\" >86925</td>\n",
       "                        <td id=\"T_37768f52_b498_11ea_8ba3_f01faf2f41a7row74_col8\" class=\"data row74 col8\" >6473</td>\n",
       "                        <td id=\"T_37768f52_b498_11ea_8ba3_f01faf2f41a7row74_col9\" class=\"data row74 col9\" >28607</td>\n",
       "                        <td id=\"T_37768f52_b498_11ea_8ba3_f01faf2f41a7row74_col10\" class=\"data row74 col10\" >1084456</td>\n",
       "            </tr>\n",
       "            <tr>\n",
       "                        <th id=\"T_37768f52_b498_11ea_8ba3_f01faf2f41a7level0_row75\" class=\"row_heading level0 row75\" >75</th>\n",
       "                        <td id=\"T_37768f52_b498_11ea_8ba3_f01faf2f41a7row75_col0\" class=\"data row75 col0\" >2020-04-07 00:00:00</td>\n",
       "                        <td id=\"T_37768f52_b498_11ea_8ba3_f01faf2f41a7row75_col1\" class=\"data row75 col1\" >1414530</td>\n",
       "                        <td id=\"T_37768f52_b498_11ea_8ba3_f01faf2f41a7row75_col2\" class=\"data row75 col2\" >81865</td>\n",
       "                        <td id=\"T_37768f52_b498_11ea_8ba3_f01faf2f41a7row75_col3\" class=\"data row75 col3\" >300054</td>\n",
       "                        <td id=\"T_37768f52_b498_11ea_8ba3_f01faf2f41a7row75_col4\" class=\"data row75 col4\" >5.79</td>\n",
       "                        <td id=\"T_37768f52_b498_11ea_8ba3_f01faf2f41a7row75_col5\" class=\"data row75 col5\" >21.21</td>\n",
       "                        <td id=\"T_37768f52_b498_11ea_8ba3_f01faf2f41a7row75_col6\" class=\"data row75 col6\" >73</td>\n",
       "                        <td id=\"T_37768f52_b498_11ea_8ba3_f01faf2f41a7row75_col7\" class=\"data row75 col7\" >75800</td>\n",
       "                        <td id=\"T_37768f52_b498_11ea_8ba3_f01faf2f41a7row75_col8\" class=\"data row75 col8\" >7300</td>\n",
       "                        <td id=\"T_37768f52_b498_11ea_8ba3_f01faf2f41a7row75_col9\" class=\"data row75 col9\" >23539</td>\n",
       "                        <td id=\"T_37768f52_b498_11ea_8ba3_f01faf2f41a7row75_col10\" class=\"data row75 col10\" >1032611</td>\n",
       "            </tr>\n",
       "            <tr>\n",
       "                        <th id=\"T_37768f52_b498_11ea_8ba3_f01faf2f41a7level0_row76\" class=\"row_heading level0 row76\" >76</th>\n",
       "                        <td id=\"T_37768f52_b498_11ea_8ba3_f01faf2f41a7row76_col0\" class=\"data row76 col0\" >2020-04-06 00:00:00</td>\n",
       "                        <td id=\"T_37768f52_b498_11ea_8ba3_f01faf2f41a7row76_col1\" class=\"data row76 col1\" >1338730</td>\n",
       "                        <td id=\"T_37768f52_b498_11ea_8ba3_f01faf2f41a7row76_col2\" class=\"data row76 col2\" >74565</td>\n",
       "                        <td id=\"T_37768f52_b498_11ea_8ba3_f01faf2f41a7row76_col3\" class=\"data row76 col3\" >276515</td>\n",
       "                        <td id=\"T_37768f52_b498_11ea_8ba3_f01faf2f41a7row76_col4\" class=\"data row76 col4\" >5.57</td>\n",
       "                        <td id=\"T_37768f52_b498_11ea_8ba3_f01faf2f41a7row76_col5\" class=\"data row76 col5\" >20.66</td>\n",
       "                        <td id=\"T_37768f52_b498_11ea_8ba3_f01faf2f41a7row76_col6\" class=\"data row76 col6\" >73.78</td>\n",
       "                        <td id=\"T_37768f52_b498_11ea_8ba3_f01faf2f41a7row76_col7\" class=\"data row76 col7\" >72794</td>\n",
       "                        <td id=\"T_37768f52_b498_11ea_8ba3_f01faf2f41a7row76_col8\" class=\"data row76 col8\" >5191</td>\n",
       "                        <td id=\"T_37768f52_b498_11ea_8ba3_f01faf2f41a7row76_col9\" class=\"data row76 col9\" >16503</td>\n",
       "                        <td id=\"T_37768f52_b498_11ea_8ba3_f01faf2f41a7row76_col10\" class=\"data row76 col10\" >987650</td>\n",
       "            </tr>\n",
       "            <tr>\n",
       "                        <th id=\"T_37768f52_b498_11ea_8ba3_f01faf2f41a7level0_row77\" class=\"row_heading level0 row77\" >77</th>\n",
       "                        <td id=\"T_37768f52_b498_11ea_8ba3_f01faf2f41a7row77_col0\" class=\"data row77 col0\" >2020-04-05 00:00:00</td>\n",
       "                        <td id=\"T_37768f52_b498_11ea_8ba3_f01faf2f41a7row77_col1\" class=\"data row77 col1\" >1265936</td>\n",
       "                        <td id=\"T_37768f52_b498_11ea_8ba3_f01faf2f41a7row77_col2\" class=\"data row77 col2\" >69374</td>\n",
       "                        <td id=\"T_37768f52_b498_11ea_8ba3_f01faf2f41a7row77_col3\" class=\"data row77 col3\" >260012</td>\n",
       "                        <td id=\"T_37768f52_b498_11ea_8ba3_f01faf2f41a7row77_col4\" class=\"data row77 col4\" >5.48</td>\n",
       "                        <td id=\"T_37768f52_b498_11ea_8ba3_f01faf2f41a7row77_col5\" class=\"data row77 col5\" >20.54</td>\n",
       "                        <td id=\"T_37768f52_b498_11ea_8ba3_f01faf2f41a7row77_col6\" class=\"data row77 col6\" >73.98</td>\n",
       "                        <td id=\"T_37768f52_b498_11ea_8ba3_f01faf2f41a7row77_col7\" class=\"data row77 col7\" >74438</td>\n",
       "                        <td id=\"T_37768f52_b498_11ea_8ba3_f01faf2f41a7row77_col8\" class=\"data row77 col8\" >4768</td>\n",
       "                        <td id=\"T_37768f52_b498_11ea_8ba3_f01faf2f41a7row77_col9\" class=\"data row77 col9\" >13860</td>\n",
       "                        <td id=\"T_37768f52_b498_11ea_8ba3_f01faf2f41a7row77_col10\" class=\"data row77 col10\" >936550</td>\n",
       "            </tr>\n",
       "            <tr>\n",
       "                        <th id=\"T_37768f52_b498_11ea_8ba3_f01faf2f41a7level0_row78\" class=\"row_heading level0 row78\" >78</th>\n",
       "                        <td id=\"T_37768f52_b498_11ea_8ba3_f01faf2f41a7row78_col0\" class=\"data row78 col0\" >2020-04-04 00:00:00</td>\n",
       "                        <td id=\"T_37768f52_b498_11ea_8ba3_f01faf2f41a7row78_col1\" class=\"data row78 col1\" >1191498</td>\n",
       "                        <td id=\"T_37768f52_b498_11ea_8ba3_f01faf2f41a7row78_col2\" class=\"data row78 col2\" >64606</td>\n",
       "                        <td id=\"T_37768f52_b498_11ea_8ba3_f01faf2f41a7row78_col3\" class=\"data row78 col3\" >246152</td>\n",
       "                        <td id=\"T_37768f52_b498_11ea_8ba3_f01faf2f41a7row78_col4\" class=\"data row78 col4\" >5.42</td>\n",
       "                        <td id=\"T_37768f52_b498_11ea_8ba3_f01faf2f41a7row78_col5\" class=\"data row78 col5\" >20.66</td>\n",
       "                        <td id=\"T_37768f52_b498_11ea_8ba3_f01faf2f41a7row78_col6\" class=\"data row78 col6\" >73.92</td>\n",
       "                        <td id=\"T_37768f52_b498_11ea_8ba3_f01faf2f41a7row78_col7\" class=\"data row78 col7\" >81573</td>\n",
       "                        <td id=\"T_37768f52_b498_11ea_8ba3_f01faf2f41a7row78_col8\" class=\"data row78 col8\" >5819</td>\n",
       "                        <td id=\"T_37768f52_b498_11ea_8ba3_f01faf2f41a7row78_col9\" class=\"data row78 col9\" >20356</td>\n",
       "                        <td id=\"T_37768f52_b498_11ea_8ba3_f01faf2f41a7row78_col10\" class=\"data row78 col10\" >880740</td>\n",
       "            </tr>\n",
       "            <tr>\n",
       "                        <th id=\"T_37768f52_b498_11ea_8ba3_f01faf2f41a7level0_row79\" class=\"row_heading level0 row79\" >79</th>\n",
       "                        <td id=\"T_37768f52_b498_11ea_8ba3_f01faf2f41a7row79_col0\" class=\"data row79 col0\" >2020-04-03 00:00:00</td>\n",
       "                        <td id=\"T_37768f52_b498_11ea_8ba3_f01faf2f41a7row79_col1\" class=\"data row79 col1\" >1109925</td>\n",
       "                        <td id=\"T_37768f52_b498_11ea_8ba3_f01faf2f41a7row79_col2\" class=\"data row79 col2\" >58787</td>\n",
       "                        <td id=\"T_37768f52_b498_11ea_8ba3_f01faf2f41a7row79_col3\" class=\"data row79 col3\" >225796</td>\n",
       "                        <td id=\"T_37768f52_b498_11ea_8ba3_f01faf2f41a7row79_col4\" class=\"data row79 col4\" >5.3</td>\n",
       "                        <td id=\"T_37768f52_b498_11ea_8ba3_f01faf2f41a7row79_col5\" class=\"data row79 col5\" >20.34</td>\n",
       "                        <td id=\"T_37768f52_b498_11ea_8ba3_f01faf2f41a7row79_col6\" class=\"data row79 col6\" >74.36</td>\n",
       "                        <td id=\"T_37768f52_b498_11ea_8ba3_f01faf2f41a7row79_col7\" class=\"data row79 col7\" >84194</td>\n",
       "                        <td id=\"T_37768f52_b498_11ea_8ba3_f01faf2f41a7row79_col8\" class=\"data row79 col8\" >5804</td>\n",
       "                        <td id=\"T_37768f52_b498_11ea_8ba3_f01faf2f41a7row79_col9\" class=\"data row79 col9\" >15533</td>\n",
       "                        <td id=\"T_37768f52_b498_11ea_8ba3_f01faf2f41a7row79_col10\" class=\"data row79 col10\" >825342</td>\n",
       "            </tr>\n",
       "            <tr>\n",
       "                        <th id=\"T_37768f52_b498_11ea_8ba3_f01faf2f41a7level0_row80\" class=\"row_heading level0 row80\" >80</th>\n",
       "                        <td id=\"T_37768f52_b498_11ea_8ba3_f01faf2f41a7row80_col0\" class=\"data row80 col0\" >2020-04-02 00:00:00</td>\n",
       "                        <td id=\"T_37768f52_b498_11ea_8ba3_f01faf2f41a7row80_col1\" class=\"data row80 col1\" >1025731</td>\n",
       "                        <td id=\"T_37768f52_b498_11ea_8ba3_f01faf2f41a7row80_col2\" class=\"data row80 col2\" >52983</td>\n",
       "                        <td id=\"T_37768f52_b498_11ea_8ba3_f01faf2f41a7row80_col3\" class=\"data row80 col3\" >210263</td>\n",
       "                        <td id=\"T_37768f52_b498_11ea_8ba3_f01faf2f41a7row80_col4\" class=\"data row80 col4\" >5.17</td>\n",
       "                        <td id=\"T_37768f52_b498_11ea_8ba3_f01faf2f41a7row80_col5\" class=\"data row80 col5\" >20.5</td>\n",
       "                        <td id=\"T_37768f52_b498_11ea_8ba3_f01faf2f41a7row80_col6\" class=\"data row80 col6\" >74.34</td>\n",
       "                        <td id=\"T_37768f52_b498_11ea_8ba3_f01faf2f41a7row80_col7\" class=\"data row80 col7\" >82191</td>\n",
       "                        <td id=\"T_37768f52_b498_11ea_8ba3_f01faf2f41a7row80_col8\" class=\"data row80 col8\" >6174</td>\n",
       "                        <td id=\"T_37768f52_b498_11ea_8ba3_f01faf2f41a7row80_col9\" class=\"data row80 col9\" >17092</td>\n",
       "                        <td id=\"T_37768f52_b498_11ea_8ba3_f01faf2f41a7row80_col10\" class=\"data row80 col10\" >762485</td>\n",
       "            </tr>\n",
       "            <tr>\n",
       "                        <th id=\"T_37768f52_b498_11ea_8ba3_f01faf2f41a7level0_row81\" class=\"row_heading level0 row81\" >81</th>\n",
       "                        <td id=\"T_37768f52_b498_11ea_8ba3_f01faf2f41a7row81_col0\" class=\"data row81 col0\" >2020-04-01 00:00:00</td>\n",
       "                        <td id=\"T_37768f52_b498_11ea_8ba3_f01faf2f41a7row81_col1\" class=\"data row81 col1\" >943540</td>\n",
       "                        <td id=\"T_37768f52_b498_11ea_8ba3_f01faf2f41a7row81_col2\" class=\"data row81 col2\" >46809</td>\n",
       "                        <td id=\"T_37768f52_b498_11ea_8ba3_f01faf2f41a7row81_col3\" class=\"data row81 col3\" >193171</td>\n",
       "                        <td id=\"T_37768f52_b498_11ea_8ba3_f01faf2f41a7row81_col4\" class=\"data row81 col4\" >4.96</td>\n",
       "                        <td id=\"T_37768f52_b498_11ea_8ba3_f01faf2f41a7row81_col5\" class=\"data row81 col5\" >20.47</td>\n",
       "                        <td id=\"T_37768f52_b498_11ea_8ba3_f01faf2f41a7row81_col6\" class=\"data row81 col6\" >74.57</td>\n",
       "                        <td id=\"T_37768f52_b498_11ea_8ba3_f01faf2f41a7row81_col7\" class=\"data row81 col7\" >86053</td>\n",
       "                        <td id=\"T_37768f52_b498_11ea_8ba3_f01faf2f41a7row81_col8\" class=\"data row81 col8\" >4702</td>\n",
       "                        <td id=\"T_37768f52_b498_11ea_8ba3_f01faf2f41a7row81_col9\" class=\"data row81 col9\" >15143</td>\n",
       "                        <td id=\"T_37768f52_b498_11ea_8ba3_f01faf2f41a7row81_col10\" class=\"data row81 col10\" >703560</td>\n",
       "            </tr>\n",
       "            <tr>\n",
       "                        <th id=\"T_37768f52_b498_11ea_8ba3_f01faf2f41a7level0_row82\" class=\"row_heading level0 row82\" >82</th>\n",
       "                        <td id=\"T_37768f52_b498_11ea_8ba3_f01faf2f41a7row82_col0\" class=\"data row82 col0\" >2020-03-31 00:00:00</td>\n",
       "                        <td id=\"T_37768f52_b498_11ea_8ba3_f01faf2f41a7row82_col1\" class=\"data row82 col1\" >857487</td>\n",
       "                        <td id=\"T_37768f52_b498_11ea_8ba3_f01faf2f41a7row82_col2\" class=\"data row82 col2\" >42107</td>\n",
       "                        <td id=\"T_37768f52_b498_11ea_8ba3_f01faf2f41a7row82_col3\" class=\"data row82 col3\" >178028</td>\n",
       "                        <td id=\"T_37768f52_b498_11ea_8ba3_f01faf2f41a7row82_col4\" class=\"data row82 col4\" >4.91</td>\n",
       "                        <td id=\"T_37768f52_b498_11ea_8ba3_f01faf2f41a7row82_col5\" class=\"data row82 col5\" >20.76</td>\n",
       "                        <td id=\"T_37768f52_b498_11ea_8ba3_f01faf2f41a7row82_col6\" class=\"data row82 col6\" >74.33</td>\n",
       "                        <td id=\"T_37768f52_b498_11ea_8ba3_f01faf2f41a7row82_col7\" class=\"data row82 col7\" >75098</td>\n",
       "                        <td id=\"T_37768f52_b498_11ea_8ba3_f01faf2f41a7row82_col8\" class=\"data row82 col8\" >4525</td>\n",
       "                        <td id=\"T_37768f52_b498_11ea_8ba3_f01faf2f41a7row82_col9\" class=\"data row82 col9\" >13468</td>\n",
       "                        <td id=\"T_37768f52_b498_11ea_8ba3_f01faf2f41a7row82_col10\" class=\"data row82 col10\" >637352</td>\n",
       "            </tr>\n",
       "            <tr>\n",
       "                        <th id=\"T_37768f52_b498_11ea_8ba3_f01faf2f41a7level0_row83\" class=\"row_heading level0 row83\" >83</th>\n",
       "                        <td id=\"T_37768f52_b498_11ea_8ba3_f01faf2f41a7row83_col0\" class=\"data row83 col0\" >2020-03-30 00:00:00</td>\n",
       "                        <td id=\"T_37768f52_b498_11ea_8ba3_f01faf2f41a7row83_col1\" class=\"data row83 col1\" >782389</td>\n",
       "                        <td id=\"T_37768f52_b498_11ea_8ba3_f01faf2f41a7row83_col2\" class=\"data row83 col2\" >37582</td>\n",
       "                        <td id=\"T_37768f52_b498_11ea_8ba3_f01faf2f41a7row83_col3\" class=\"data row83 col3\" >164560</td>\n",
       "                        <td id=\"T_37768f52_b498_11ea_8ba3_f01faf2f41a7row83_col4\" class=\"data row83 col4\" >4.8</td>\n",
       "                        <td id=\"T_37768f52_b498_11ea_8ba3_f01faf2f41a7row83_col5\" class=\"data row83 col5\" >21.03</td>\n",
       "                        <td id=\"T_37768f52_b498_11ea_8ba3_f01faf2f41a7row83_col6\" class=\"data row83 col6\" >74.16</td>\n",
       "                        <td id=\"T_37768f52_b498_11ea_8ba3_f01faf2f41a7row83_col7\" class=\"data row83 col7\" >62249</td>\n",
       "                        <td id=\"T_37768f52_b498_11ea_8ba3_f01faf2f41a7row83_col8\" class=\"data row83 col8\" >3657</td>\n",
       "                        <td id=\"T_37768f52_b498_11ea_8ba3_f01faf2f41a7row83_col9\" class=\"data row83 col9\" >15484</td>\n",
       "                        <td id=\"T_37768f52_b498_11ea_8ba3_f01faf2f41a7row83_col10\" class=\"data row83 col10\" >580247</td>\n",
       "            </tr>\n",
       "            <tr>\n",
       "                        <th id=\"T_37768f52_b498_11ea_8ba3_f01faf2f41a7level0_row84\" class=\"row_heading level0 row84\" >84</th>\n",
       "                        <td id=\"T_37768f52_b498_11ea_8ba3_f01faf2f41a7row84_col0\" class=\"data row84 col0\" >2020-03-29 00:00:00</td>\n",
       "                        <td id=\"T_37768f52_b498_11ea_8ba3_f01faf2f41a7row84_col1\" class=\"data row84 col1\" >720140</td>\n",
       "                        <td id=\"T_37768f52_b498_11ea_8ba3_f01faf2f41a7row84_col2\" class=\"data row84 col2\" >33925</td>\n",
       "                        <td id=\"T_37768f52_b498_11ea_8ba3_f01faf2f41a7row84_col3\" class=\"data row84 col3\" >149076</td>\n",
       "                        <td id=\"T_37768f52_b498_11ea_8ba3_f01faf2f41a7row84_col4\" class=\"data row84 col4\" >4.71</td>\n",
       "                        <td id=\"T_37768f52_b498_11ea_8ba3_f01faf2f41a7row84_col5\" class=\"data row84 col5\" >20.7</td>\n",
       "                        <td id=\"T_37768f52_b498_11ea_8ba3_f01faf2f41a7row84_col6\" class=\"data row84 col6\" >74.59</td>\n",
       "                        <td id=\"T_37768f52_b498_11ea_8ba3_f01faf2f41a7row84_col7\" class=\"data row84 col7\" >59447</td>\n",
       "                        <td id=\"T_37768f52_b498_11ea_8ba3_f01faf2f41a7row84_col8\" class=\"data row84 col8\" >3273</td>\n",
       "                        <td id=\"T_37768f52_b498_11ea_8ba3_f01faf2f41a7row84_col9\" class=\"data row84 col9\" >9667</td>\n",
       "                        <td id=\"T_37768f52_b498_11ea_8ba3_f01faf2f41a7row84_col10\" class=\"data row84 col10\" >537139</td>\n",
       "            </tr>\n",
       "            <tr>\n",
       "                        <th id=\"T_37768f52_b498_11ea_8ba3_f01faf2f41a7level0_row85\" class=\"row_heading level0 row85\" >85</th>\n",
       "                        <td id=\"T_37768f52_b498_11ea_8ba3_f01faf2f41a7row85_col0\" class=\"data row85 col0\" >2020-03-28 00:00:00</td>\n",
       "                        <td id=\"T_37768f52_b498_11ea_8ba3_f01faf2f41a7row85_col1\" class=\"data row85 col1\" >660693</td>\n",
       "                        <td id=\"T_37768f52_b498_11ea_8ba3_f01faf2f41a7row85_col2\" class=\"data row85 col2\" >30652</td>\n",
       "                        <td id=\"T_37768f52_b498_11ea_8ba3_f01faf2f41a7row85_col3\" class=\"data row85 col3\" >139409</td>\n",
       "                        <td id=\"T_37768f52_b498_11ea_8ba3_f01faf2f41a7row85_col4\" class=\"data row85 col4\" >4.64</td>\n",
       "                        <td id=\"T_37768f52_b498_11ea_8ba3_f01faf2f41a7row85_col5\" class=\"data row85 col5\" >21.1</td>\n",
       "                        <td id=\"T_37768f52_b498_11ea_8ba3_f01faf2f41a7row85_col6\" class=\"data row85 col6\" >74.26</td>\n",
       "                        <td id=\"T_37768f52_b498_11ea_8ba3_f01faf2f41a7row85_col7\" class=\"data row85 col7\" >67402</td>\n",
       "                        <td id=\"T_37768f52_b498_11ea_8ba3_f01faf2f41a7row85_col8\" class=\"data row85 col8\" >3454</td>\n",
       "                        <td id=\"T_37768f52_b498_11ea_8ba3_f01faf2f41a7row85_col9\" class=\"data row85 col9\" >8500</td>\n",
       "                        <td id=\"T_37768f52_b498_11ea_8ba3_f01faf2f41a7row85_col10\" class=\"data row85 col10\" >490632</td>\n",
       "            </tr>\n",
       "            <tr>\n",
       "                        <th id=\"T_37768f52_b498_11ea_8ba3_f01faf2f41a7level0_row86\" class=\"row_heading level0 row86\" >86</th>\n",
       "                        <td id=\"T_37768f52_b498_11ea_8ba3_f01faf2f41a7row86_col0\" class=\"data row86 col0\" >2020-03-27 00:00:00</td>\n",
       "                        <td id=\"T_37768f52_b498_11ea_8ba3_f01faf2f41a7row86_col1\" class=\"data row86 col1\" >593291</td>\n",
       "                        <td id=\"T_37768f52_b498_11ea_8ba3_f01faf2f41a7row86_col2\" class=\"data row86 col2\" >27198</td>\n",
       "                        <td id=\"T_37768f52_b498_11ea_8ba3_f01faf2f41a7row86_col3\" class=\"data row86 col3\" >130909</td>\n",
       "                        <td id=\"T_37768f52_b498_11ea_8ba3_f01faf2f41a7row86_col4\" class=\"data row86 col4\" >4.58</td>\n",
       "                        <td id=\"T_37768f52_b498_11ea_8ba3_f01faf2f41a7row86_col5\" class=\"data row86 col5\" >22.06</td>\n",
       "                        <td id=\"T_37768f52_b498_11ea_8ba3_f01faf2f41a7row86_col6\" class=\"data row86 col6\" >73.35</td>\n",
       "                        <td id=\"T_37768f52_b498_11ea_8ba3_f01faf2f41a7row86_col7\" class=\"data row86 col7\" >63700</td>\n",
       "                        <td id=\"T_37768f52_b498_11ea_8ba3_f01faf2f41a7row86_col8\" class=\"data row86 col8\" >3228</td>\n",
       "                        <td id=\"T_37768f52_b498_11ea_8ba3_f01faf2f41a7row86_col9\" class=\"data row86 col9\" >8765</td>\n",
       "                        <td id=\"T_37768f52_b498_11ea_8ba3_f01faf2f41a7row86_col10\" class=\"data row86 col10\" >435184</td>\n",
       "            </tr>\n",
       "            <tr>\n",
       "                        <th id=\"T_37768f52_b498_11ea_8ba3_f01faf2f41a7level0_row87\" class=\"row_heading level0 row87\" >87</th>\n",
       "                        <td id=\"T_37768f52_b498_11ea_8ba3_f01faf2f41a7row87_col0\" class=\"data row87 col0\" >2020-03-26 00:00:00</td>\n",
       "                        <td id=\"T_37768f52_b498_11ea_8ba3_f01faf2f41a7row87_col1\" class=\"data row87 col1\" >529591</td>\n",
       "                        <td id=\"T_37768f52_b498_11ea_8ba3_f01faf2f41a7row87_col2\" class=\"data row87 col2\" >23970</td>\n",
       "                        <td id=\"T_37768f52_b498_11ea_8ba3_f01faf2f41a7row87_col3\" class=\"data row87 col3\" >122144</td>\n",
       "                        <td id=\"T_37768f52_b498_11ea_8ba3_f01faf2f41a7row87_col4\" class=\"data row87 col4\" >4.53</td>\n",
       "                        <td id=\"T_37768f52_b498_11ea_8ba3_f01faf2f41a7row87_col5\" class=\"data row87 col5\" >23.06</td>\n",
       "                        <td id=\"T_37768f52_b498_11ea_8ba3_f01faf2f41a7row87_col6\" class=\"data row87 col6\" >72.41</td>\n",
       "                        <td id=\"T_37768f52_b498_11ea_8ba3_f01faf2f41a7row87_col7\" class=\"data row87 col7\" >61997</td>\n",
       "                        <td id=\"T_37768f52_b498_11ea_8ba3_f01faf2f41a7row87_col8\" class=\"data row87 col8\" >2789</td>\n",
       "                        <td id=\"T_37768f52_b498_11ea_8ba3_f01faf2f41a7row87_col9\" class=\"data row87 col9\" >8380</td>\n",
       "                        <td id=\"T_37768f52_b498_11ea_8ba3_f01faf2f41a7row87_col10\" class=\"data row87 col10\" >383477</td>\n",
       "            </tr>\n",
       "            <tr>\n",
       "                        <th id=\"T_37768f52_b498_11ea_8ba3_f01faf2f41a7level0_row88\" class=\"row_heading level0 row88\" >88</th>\n",
       "                        <td id=\"T_37768f52_b498_11ea_8ba3_f01faf2f41a7row88_col0\" class=\"data row88 col0\" >2020-03-25 00:00:00</td>\n",
       "                        <td id=\"T_37768f52_b498_11ea_8ba3_f01faf2f41a7row88_col1\" class=\"data row88 col1\" >467594</td>\n",
       "                        <td id=\"T_37768f52_b498_11ea_8ba3_f01faf2f41a7row88_col2\" class=\"data row88 col2\" >21181</td>\n",
       "                        <td id=\"T_37768f52_b498_11ea_8ba3_f01faf2f41a7row88_col3\" class=\"data row88 col3\" >113764</td>\n",
       "                        <td id=\"T_37768f52_b498_11ea_8ba3_f01faf2f41a7row88_col4\" class=\"data row88 col4\" >4.53</td>\n",
       "                        <td id=\"T_37768f52_b498_11ea_8ba3_f01faf2f41a7row88_col5\" class=\"data row88 col5\" >24.33</td>\n",
       "                        <td id=\"T_37768f52_b498_11ea_8ba3_f01faf2f41a7row88_col6\" class=\"data row88 col6\" >71.14</td>\n",
       "                        <td id=\"T_37768f52_b498_11ea_8ba3_f01faf2f41a7row88_col7\" class=\"data row88 col7\" >49628</td>\n",
       "                        <td id=\"T_37768f52_b498_11ea_8ba3_f01faf2f41a7row88_col8\" class=\"data row88 col8\" >2566</td>\n",
       "                        <td id=\"T_37768f52_b498_11ea_8ba3_f01faf2f41a7row88_col9\" class=\"data row88 col9\" >6065</td>\n",
       "                        <td id=\"T_37768f52_b498_11ea_8ba3_f01faf2f41a7row88_col10\" class=\"data row88 col10\" >332649</td>\n",
       "            </tr>\n",
       "            <tr>\n",
       "                        <th id=\"T_37768f52_b498_11ea_8ba3_f01faf2f41a7level0_row89\" class=\"row_heading level0 row89\" >89</th>\n",
       "                        <td id=\"T_37768f52_b498_11ea_8ba3_f01faf2f41a7row89_col0\" class=\"data row89 col0\" >2020-03-24 00:00:00</td>\n",
       "                        <td id=\"T_37768f52_b498_11ea_8ba3_f01faf2f41a7row89_col1\" class=\"data row89 col1\" >417966</td>\n",
       "                        <td id=\"T_37768f52_b498_11ea_8ba3_f01faf2f41a7row89_col2\" class=\"data row89 col2\" >18615</td>\n",
       "                        <td id=\"T_37768f52_b498_11ea_8ba3_f01faf2f41a7row89_col3\" class=\"data row89 col3\" >107699</td>\n",
       "                        <td id=\"T_37768f52_b498_11ea_8ba3_f01faf2f41a7row89_col4\" class=\"data row89 col4\" >4.45</td>\n",
       "                        <td id=\"T_37768f52_b498_11ea_8ba3_f01faf2f41a7row89_col5\" class=\"data row89 col5\" >25.77</td>\n",
       "                        <td id=\"T_37768f52_b498_11ea_8ba3_f01faf2f41a7row89_col6\" class=\"data row89 col6\" >69.78</td>\n",
       "                        <td id=\"T_37768f52_b498_11ea_8ba3_f01faf2f41a7row89_col7\" class=\"data row89 col7\" >39677</td>\n",
       "                        <td id=\"T_37768f52_b498_11ea_8ba3_f01faf2f41a7row89_col8\" class=\"data row89 col8\" >2116</td>\n",
       "                        <td id=\"T_37768f52_b498_11ea_8ba3_f01faf2f41a7row89_col9\" class=\"data row89 col9\" >6741</td>\n",
       "                        <td id=\"T_37768f52_b498_11ea_8ba3_f01faf2f41a7row89_col10\" class=\"data row89 col10\" >291652</td>\n",
       "            </tr>\n",
       "            <tr>\n",
       "                        <th id=\"T_37768f52_b498_11ea_8ba3_f01faf2f41a7level0_row90\" class=\"row_heading level0 row90\" >90</th>\n",
       "                        <td id=\"T_37768f52_b498_11ea_8ba3_f01faf2f41a7row90_col0\" class=\"data row90 col0\" >2020-03-23 00:00:00</td>\n",
       "                        <td id=\"T_37768f52_b498_11ea_8ba3_f01faf2f41a7row90_col1\" class=\"data row90 col1\" >378289</td>\n",
       "                        <td id=\"T_37768f52_b498_11ea_8ba3_f01faf2f41a7row90_col2\" class=\"data row90 col2\" >16499</td>\n",
       "                        <td id=\"T_37768f52_b498_11ea_8ba3_f01faf2f41a7row90_col3\" class=\"data row90 col3\" >100958</td>\n",
       "                        <td id=\"T_37768f52_b498_11ea_8ba3_f01faf2f41a7row90_col4\" class=\"data row90 col4\" >4.36</td>\n",
       "                        <td id=\"T_37768f52_b498_11ea_8ba3_f01faf2f41a7row90_col5\" class=\"data row90 col5\" >26.69</td>\n",
       "                        <td id=\"T_37768f52_b498_11ea_8ba3_f01faf2f41a7row90_col6\" class=\"data row90 col6\" >68.95</td>\n",
       "                        <td id=\"T_37768f52_b498_11ea_8ba3_f01faf2f41a7row90_col7\" class=\"data row90 col7\" >41165</td>\n",
       "                        <td id=\"T_37768f52_b498_11ea_8ba3_f01faf2f41a7row90_col8\" class=\"data row90 col8\" >1874</td>\n",
       "                        <td id=\"T_37768f52_b498_11ea_8ba3_f01faf2f41a7row90_col9\" class=\"data row90 col9\" >3715</td>\n",
       "                        <td id=\"T_37768f52_b498_11ea_8ba3_f01faf2f41a7row90_col10\" class=\"data row90 col10\" >260832</td>\n",
       "            </tr>\n",
       "            <tr>\n",
       "                        <th id=\"T_37768f52_b498_11ea_8ba3_f01faf2f41a7level0_row91\" class=\"row_heading level0 row91\" >91</th>\n",
       "                        <td id=\"T_37768f52_b498_11ea_8ba3_f01faf2f41a7row91_col0\" class=\"data row91 col0\" >2020-03-22 00:00:00</td>\n",
       "                        <td id=\"T_37768f52_b498_11ea_8ba3_f01faf2f41a7row91_col1\" class=\"data row91 col1\" >337124</td>\n",
       "                        <td id=\"T_37768f52_b498_11ea_8ba3_f01faf2f41a7row91_col2\" class=\"data row91 col2\" >14625</td>\n",
       "                        <td id=\"T_37768f52_b498_11ea_8ba3_f01faf2f41a7row91_col3\" class=\"data row91 col3\" >97243</td>\n",
       "                        <td id=\"T_37768f52_b498_11ea_8ba3_f01faf2f41a7row91_col4\" class=\"data row91 col4\" >4.34</td>\n",
       "                        <td id=\"T_37768f52_b498_11ea_8ba3_f01faf2f41a7row91_col5\" class=\"data row91 col5\" >28.84</td>\n",
       "                        <td id=\"T_37768f52_b498_11ea_8ba3_f01faf2f41a7row91_col6\" class=\"data row91 col6\" >66.82</td>\n",
       "                        <td id=\"T_37768f52_b498_11ea_8ba3_f01faf2f41a7row91_col7\" class=\"data row91 col7\" >32596</td>\n",
       "                        <td id=\"T_37768f52_b498_11ea_8ba3_f01faf2f41a7row91_col8\" class=\"data row91 col8\" >1652</td>\n",
       "                        <td id=\"T_37768f52_b498_11ea_8ba3_f01faf2f41a7row91_col9\" class=\"data row91 col9\" >5567</td>\n",
       "                        <td id=\"T_37768f52_b498_11ea_8ba3_f01faf2f41a7row91_col10\" class=\"data row91 col10\" >225256</td>\n",
       "            </tr>\n",
       "            <tr>\n",
       "                        <th id=\"T_37768f52_b498_11ea_8ba3_f01faf2f41a7level0_row92\" class=\"row_heading level0 row92\" >92</th>\n",
       "                        <td id=\"T_37768f52_b498_11ea_8ba3_f01faf2f41a7row92_col0\" class=\"data row92 col0\" >2020-03-21 00:00:00</td>\n",
       "                        <td id=\"T_37768f52_b498_11ea_8ba3_f01faf2f41a7row92_col1\" class=\"data row92 col1\" >304528</td>\n",
       "                        <td id=\"T_37768f52_b498_11ea_8ba3_f01faf2f41a7row92_col2\" class=\"data row92 col2\" >12973</td>\n",
       "                        <td id=\"T_37768f52_b498_11ea_8ba3_f01faf2f41a7row92_col3\" class=\"data row92 col3\" >91676</td>\n",
       "                        <td id=\"T_37768f52_b498_11ea_8ba3_f01faf2f41a7row92_col4\" class=\"data row92 col4\" >4.26</td>\n",
       "                        <td id=\"T_37768f52_b498_11ea_8ba3_f01faf2f41a7row92_col5\" class=\"data row92 col5\" >30.1</td>\n",
       "                        <td id=\"T_37768f52_b498_11ea_8ba3_f01faf2f41a7row92_col6\" class=\"data row92 col6\" >65.64</td>\n",
       "                        <td id=\"T_37768f52_b498_11ea_8ba3_f01faf2f41a7row92_col7\" class=\"data row92 col7\" >32361</td>\n",
       "                        <td id=\"T_37768f52_b498_11ea_8ba3_f01faf2f41a7row92_col8\" class=\"data row92 col8\" >1674</td>\n",
       "                        <td id=\"T_37768f52_b498_11ea_8ba3_f01faf2f41a7row92_col9\" class=\"data row92 col9\" >4273</td>\n",
       "                        <td id=\"T_37768f52_b498_11ea_8ba3_f01faf2f41a7row92_col10\" class=\"data row92 col10\" >199879</td>\n",
       "            </tr>\n",
       "            <tr>\n",
       "                        <th id=\"T_37768f52_b498_11ea_8ba3_f01faf2f41a7level0_row93\" class=\"row_heading level0 row93\" >93</th>\n",
       "                        <td id=\"T_37768f52_b498_11ea_8ba3_f01faf2f41a7row93_col0\" class=\"data row93 col0\" >2020-03-20 00:00:00</td>\n",
       "                        <td id=\"T_37768f52_b498_11ea_8ba3_f01faf2f41a7row93_col1\" class=\"data row93 col1\" >272167</td>\n",
       "                        <td id=\"T_37768f52_b498_11ea_8ba3_f01faf2f41a7row93_col2\" class=\"data row93 col2\" >11299</td>\n",
       "                        <td id=\"T_37768f52_b498_11ea_8ba3_f01faf2f41a7row93_col3\" class=\"data row93 col3\" >87403</td>\n",
       "                        <td id=\"T_37768f52_b498_11ea_8ba3_f01faf2f41a7row93_col4\" class=\"data row93 col4\" >4.15</td>\n",
       "                        <td id=\"T_37768f52_b498_11ea_8ba3_f01faf2f41a7row93_col5\" class=\"data row93 col5\" >32.11</td>\n",
       "                        <td id=\"T_37768f52_b498_11ea_8ba3_f01faf2f41a7row93_col6\" class=\"data row93 col6\" >63.73</td>\n",
       "                        <td id=\"T_37768f52_b498_11ea_8ba3_f01faf2f41a7row93_col7\" class=\"data row93 col7\" >29338</td>\n",
       "                        <td id=\"T_37768f52_b498_11ea_8ba3_f01faf2f41a7row93_col8\" class=\"data row93 col8\" >1303</td>\n",
       "                        <td id=\"T_37768f52_b498_11ea_8ba3_f01faf2f41a7row93_col9\" class=\"data row93 col9\" >2441</td>\n",
       "                        <td id=\"T_37768f52_b498_11ea_8ba3_f01faf2f41a7row93_col10\" class=\"data row93 col10\" >173465</td>\n",
       "            </tr>\n",
       "            <tr>\n",
       "                        <th id=\"T_37768f52_b498_11ea_8ba3_f01faf2f41a7level0_row94\" class=\"row_heading level0 row94\" >94</th>\n",
       "                        <td id=\"T_37768f52_b498_11ea_8ba3_f01faf2f41a7row94_col0\" class=\"data row94 col0\" >2020-03-19 00:00:00</td>\n",
       "                        <td id=\"T_37768f52_b498_11ea_8ba3_f01faf2f41a7row94_col1\" class=\"data row94 col1\" >242829</td>\n",
       "                        <td id=\"T_37768f52_b498_11ea_8ba3_f01faf2f41a7row94_col2\" class=\"data row94 col2\" >9996</td>\n",
       "                        <td id=\"T_37768f52_b498_11ea_8ba3_f01faf2f41a7row94_col3\" class=\"data row94 col3\" >84962</td>\n",
       "                        <td id=\"T_37768f52_b498_11ea_8ba3_f01faf2f41a7row94_col4\" class=\"data row94 col4\" >4.12</td>\n",
       "                        <td id=\"T_37768f52_b498_11ea_8ba3_f01faf2f41a7row94_col5\" class=\"data row94 col5\" >34.99</td>\n",
       "                        <td id=\"T_37768f52_b498_11ea_8ba3_f01faf2f41a7row94_col6\" class=\"data row94 col6\" >60.9</td>\n",
       "                        <td id=\"T_37768f52_b498_11ea_8ba3_f01faf2f41a7row94_col7\" class=\"data row94 col7\" >27826</td>\n",
       "                        <td id=\"T_37768f52_b498_11ea_8ba3_f01faf2f41a7row94_col8\" class=\"data row94 col8\" >1147</td>\n",
       "                        <td id=\"T_37768f52_b498_11ea_8ba3_f01faf2f41a7row94_col9\" class=\"data row94 col9\" >1649</td>\n",
       "                        <td id=\"T_37768f52_b498_11ea_8ba3_f01faf2f41a7row94_col10\" class=\"data row94 col10\" >147871</td>\n",
       "            </tr>\n",
       "            <tr>\n",
       "                        <th id=\"T_37768f52_b498_11ea_8ba3_f01faf2f41a7level0_row95\" class=\"row_heading level0 row95\" >95</th>\n",
       "                        <td id=\"T_37768f52_b498_11ea_8ba3_f01faf2f41a7row95_col0\" class=\"data row95 col0\" >2020-03-18 00:00:00</td>\n",
       "                        <td id=\"T_37768f52_b498_11ea_8ba3_f01faf2f41a7row95_col1\" class=\"data row95 col1\" >215003</td>\n",
       "                        <td id=\"T_37768f52_b498_11ea_8ba3_f01faf2f41a7row95_col2\" class=\"data row95 col2\" >8849</td>\n",
       "                        <td id=\"T_37768f52_b498_11ea_8ba3_f01faf2f41a7row95_col3\" class=\"data row95 col3\" >83313</td>\n",
       "                        <td id=\"T_37768f52_b498_11ea_8ba3_f01faf2f41a7row95_col4\" class=\"data row95 col4\" >4.12</td>\n",
       "                        <td id=\"T_37768f52_b498_11ea_8ba3_f01faf2f41a7row95_col5\" class=\"data row95 col5\" >38.75</td>\n",
       "                        <td id=\"T_37768f52_b498_11ea_8ba3_f01faf2f41a7row95_col6\" class=\"data row95 col6\" >57.13</td>\n",
       "                        <td id=\"T_37768f52_b498_11ea_8ba3_f01faf2f41a7row95_col7\" class=\"data row95 col7\" >17783</td>\n",
       "                        <td id=\"T_37768f52_b498_11ea_8ba3_f01faf2f41a7row95_col8\" class=\"data row95 col8\" >917</td>\n",
       "                        <td id=\"T_37768f52_b498_11ea_8ba3_f01faf2f41a7row95_col9\" class=\"data row95 col9\" >2473</td>\n",
       "                        <td id=\"T_37768f52_b498_11ea_8ba3_f01faf2f41a7row95_col10\" class=\"data row95 col10\" >122841</td>\n",
       "            </tr>\n",
       "            <tr>\n",
       "                        <th id=\"T_37768f52_b498_11ea_8ba3_f01faf2f41a7level0_row96\" class=\"row_heading level0 row96\" >96</th>\n",
       "                        <td id=\"T_37768f52_b498_11ea_8ba3_f01faf2f41a7row96_col0\" class=\"data row96 col0\" >2020-03-17 00:00:00</td>\n",
       "                        <td id=\"T_37768f52_b498_11ea_8ba3_f01faf2f41a7row96_col1\" class=\"data row96 col1\" >197220</td>\n",
       "                        <td id=\"T_37768f52_b498_11ea_8ba3_f01faf2f41a7row96_col2\" class=\"data row96 col2\" >7932</td>\n",
       "                        <td id=\"T_37768f52_b498_11ea_8ba3_f01faf2f41a7row96_col3\" class=\"data row96 col3\" >80840</td>\n",
       "                        <td id=\"T_37768f52_b498_11ea_8ba3_f01faf2f41a7row96_col4\" class=\"data row96 col4\" >4.02</td>\n",
       "                        <td id=\"T_37768f52_b498_11ea_8ba3_f01faf2f41a7row96_col5\" class=\"data row96 col5\" >40.99</td>\n",
       "                        <td id=\"T_37768f52_b498_11ea_8ba3_f01faf2f41a7row96_col6\" class=\"data row96 col6\" >54.99</td>\n",
       "                        <td id=\"T_37768f52_b498_11ea_8ba3_f01faf2f41a7row96_col7\" class=\"data row96 col7\" >15574</td>\n",
       "                        <td id=\"T_37768f52_b498_11ea_8ba3_f01faf2f41a7row96_col8\" class=\"data row96 col8\" >800</td>\n",
       "                        <td id=\"T_37768f52_b498_11ea_8ba3_f01faf2f41a7row96_col9\" class=\"data row96 col9\" >2752</td>\n",
       "                        <td id=\"T_37768f52_b498_11ea_8ba3_f01faf2f41a7row96_col10\" class=\"data row96 col10\" >108448</td>\n",
       "            </tr>\n",
       "            <tr>\n",
       "                        <th id=\"T_37768f52_b498_11ea_8ba3_f01faf2f41a7level0_row97\" class=\"row_heading level0 row97\" >97</th>\n",
       "                        <td id=\"T_37768f52_b498_11ea_8ba3_f01faf2f41a7row97_col0\" class=\"data row97 col0\" >2020-03-16 00:00:00</td>\n",
       "                        <td id=\"T_37768f52_b498_11ea_8ba3_f01faf2f41a7row97_col1\" class=\"data row97 col1\" >181646</td>\n",
       "                        <td id=\"T_37768f52_b498_11ea_8ba3_f01faf2f41a7row97_col2\" class=\"data row97 col2\" >7132</td>\n",
       "                        <td id=\"T_37768f52_b498_11ea_8ba3_f01faf2f41a7row97_col3\" class=\"data row97 col3\" >78088</td>\n",
       "                        <td id=\"T_37768f52_b498_11ea_8ba3_f01faf2f41a7row97_col4\" class=\"data row97 col4\" >3.93</td>\n",
       "                        <td id=\"T_37768f52_b498_11ea_8ba3_f01faf2f41a7row97_col5\" class=\"data row97 col5\" >42.99</td>\n",
       "                        <td id=\"T_37768f52_b498_11ea_8ba3_f01faf2f41a7row97_col6\" class=\"data row97 col6\" >53.08</td>\n",
       "                        <td id=\"T_37768f52_b498_11ea_8ba3_f01faf2f41a7row97_col7\" class=\"data row97 col7\" >13057</td>\n",
       "                        <td id=\"T_37768f52_b498_11ea_8ba3_f01faf2f41a7row97_col8\" class=\"data row97 col8\" >642</td>\n",
       "                        <td id=\"T_37768f52_b498_11ea_8ba3_f01faf2f41a7row97_col9\" class=\"data row97 col9\" >2054</td>\n",
       "                        <td id=\"T_37768f52_b498_11ea_8ba3_f01faf2f41a7row97_col10\" class=\"data row97 col10\" >96426</td>\n",
       "            </tr>\n",
       "            <tr>\n",
       "                        <th id=\"T_37768f52_b498_11ea_8ba3_f01faf2f41a7level0_row98\" class=\"row_heading level0 row98\" >98</th>\n",
       "                        <td id=\"T_37768f52_b498_11ea_8ba3_f01faf2f41a7row98_col0\" class=\"data row98 col0\" >2020-03-15 00:00:00</td>\n",
       "                        <td id=\"T_37768f52_b498_11ea_8ba3_f01faf2f41a7row98_col1\" class=\"data row98 col1\" >168589</td>\n",
       "                        <td id=\"T_37768f52_b498_11ea_8ba3_f01faf2f41a7row98_col2\" class=\"data row98 col2\" >6490</td>\n",
       "                        <td id=\"T_37768f52_b498_11ea_8ba3_f01faf2f41a7row98_col3\" class=\"data row98 col3\" >76034</td>\n",
       "                        <td id=\"T_37768f52_b498_11ea_8ba3_f01faf2f41a7row98_col4\" class=\"data row98 col4\" >3.85</td>\n",
       "                        <td id=\"T_37768f52_b498_11ea_8ba3_f01faf2f41a7row98_col5\" class=\"data row98 col5\" >45.1</td>\n",
       "                        <td id=\"T_37768f52_b498_11ea_8ba3_f01faf2f41a7row98_col6\" class=\"data row98 col6\" >51.05</td>\n",
       "                        <td id=\"T_37768f52_b498_11ea_8ba3_f01faf2f41a7row98_col7\" class=\"data row98 col7\" >12489</td>\n",
       "                        <td id=\"T_37768f52_b498_11ea_8ba3_f01faf2f41a7row98_col8\" class=\"data row98 col8\" >671</td>\n",
       "                        <td id=\"T_37768f52_b498_11ea_8ba3_f01faf2f41a7row98_col9\" class=\"data row98 col9\" >3410</td>\n",
       "                        <td id=\"T_37768f52_b498_11ea_8ba3_f01faf2f41a7row98_col10\" class=\"data row98 col10\" >86065</td>\n",
       "            </tr>\n",
       "            <tr>\n",
       "                        <th id=\"T_37768f52_b498_11ea_8ba3_f01faf2f41a7level0_row99\" class=\"row_heading level0 row99\" >99</th>\n",
       "                        <td id=\"T_37768f52_b498_11ea_8ba3_f01faf2f41a7row99_col0\" class=\"data row99 col0\" >2020-03-14 00:00:00</td>\n",
       "                        <td id=\"T_37768f52_b498_11ea_8ba3_f01faf2f41a7row99_col1\" class=\"data row99 col1\" >156100</td>\n",
       "                        <td id=\"T_37768f52_b498_11ea_8ba3_f01faf2f41a7row99_col2\" class=\"data row99 col2\" >5819</td>\n",
       "                        <td id=\"T_37768f52_b498_11ea_8ba3_f01faf2f41a7row99_col3\" class=\"data row99 col3\" >72624</td>\n",
       "                        <td id=\"T_37768f52_b498_11ea_8ba3_f01faf2f41a7row99_col4\" class=\"data row99 col4\" >3.73</td>\n",
       "                        <td id=\"T_37768f52_b498_11ea_8ba3_f01faf2f41a7row99_col5\" class=\"data row99 col5\" >46.52</td>\n",
       "                        <td id=\"T_37768f52_b498_11ea_8ba3_f01faf2f41a7row99_col6\" class=\"data row99 col6\" >49.75</td>\n",
       "                        <td id=\"T_37768f52_b498_11ea_8ba3_f01faf2f41a7row99_col7\" class=\"data row99 col7\" >10904</td>\n",
       "                        <td id=\"T_37768f52_b498_11ea_8ba3_f01faf2f41a7row99_col8\" class=\"data row99 col8\" >377</td>\n",
       "                        <td id=\"T_37768f52_b498_11ea_8ba3_f01faf2f41a7row99_col9\" class=\"data row99 col9\" >2373</td>\n",
       "                        <td id=\"T_37768f52_b498_11ea_8ba3_f01faf2f41a7row99_col10\" class=\"data row99 col10\" >77657</td>\n",
       "            </tr>\n",
       "            <tr>\n",
       "                        <th id=\"T_37768f52_b498_11ea_8ba3_f01faf2f41a7level0_row100\" class=\"row_heading level0 row100\" >100</th>\n",
       "                        <td id=\"T_37768f52_b498_11ea_8ba3_f01faf2f41a7row100_col0\" class=\"data row100 col0\" >2020-03-13 00:00:00</td>\n",
       "                        <td id=\"T_37768f52_b498_11ea_8ba3_f01faf2f41a7row100_col1\" class=\"data row100 col1\" >145196</td>\n",
       "                        <td id=\"T_37768f52_b498_11ea_8ba3_f01faf2f41a7row100_col2\" class=\"data row100 col2\" >5442</td>\n",
       "                        <td id=\"T_37768f52_b498_11ea_8ba3_f01faf2f41a7row100_col3\" class=\"data row100 col3\" >70251</td>\n",
       "                        <td id=\"T_37768f52_b498_11ea_8ba3_f01faf2f41a7row100_col4\" class=\"data row100 col4\" >3.75</td>\n",
       "                        <td id=\"T_37768f52_b498_11ea_8ba3_f01faf2f41a7row100_col5\" class=\"data row100 col5\" >48.38</td>\n",
       "                        <td id=\"T_37768f52_b498_11ea_8ba3_f01faf2f41a7row100_col6\" class=\"data row100 col6\" >47.87</td>\n",
       "                        <td id=\"T_37768f52_b498_11ea_8ba3_f01faf2f41a7row100_col7\" class=\"data row100 col7\" >11360</td>\n",
       "                        <td id=\"T_37768f52_b498_11ea_8ba3_f01faf2f41a7row100_col8\" class=\"data row100 col8\" >478</td>\n",
       "                        <td id=\"T_37768f52_b498_11ea_8ba3_f01faf2f41a7row100_col9\" class=\"data row100 col9\" >1691</td>\n",
       "                        <td id=\"T_37768f52_b498_11ea_8ba3_f01faf2f41a7row100_col10\" class=\"data row100 col10\" >69503</td>\n",
       "            </tr>\n",
       "            <tr>\n",
       "                        <th id=\"T_37768f52_b498_11ea_8ba3_f01faf2f41a7level0_row101\" class=\"row_heading level0 row101\" >101</th>\n",
       "                        <td id=\"T_37768f52_b498_11ea_8ba3_f01faf2f41a7row101_col0\" class=\"data row101 col0\" >2020-03-12 00:00:00</td>\n",
       "                        <td id=\"T_37768f52_b498_11ea_8ba3_f01faf2f41a7row101_col1\" class=\"data row101 col1\" >133836</td>\n",
       "                        <td id=\"T_37768f52_b498_11ea_8ba3_f01faf2f41a7row101_col2\" class=\"data row101 col2\" >4964</td>\n",
       "                        <td id=\"T_37768f52_b498_11ea_8ba3_f01faf2f41a7row101_col3\" class=\"data row101 col3\" >68560</td>\n",
       "                        <td id=\"T_37768f52_b498_11ea_8ba3_f01faf2f41a7row101_col4\" class=\"data row101 col4\" >3.71</td>\n",
       "                        <td id=\"T_37768f52_b498_11ea_8ba3_f01faf2f41a7row101_col5\" class=\"data row101 col5\" >51.23</td>\n",
       "                        <td id=\"T_37768f52_b498_11ea_8ba3_f01faf2f41a7row101_col6\" class=\"data row101 col6\" >45.06</td>\n",
       "                        <td id=\"T_37768f52_b498_11ea_8ba3_f01faf2f41a7row101_col7\" class=\"data row101 col7\" >7971</td>\n",
       "                        <td id=\"T_37768f52_b498_11ea_8ba3_f01faf2f41a7row101_col8\" class=\"data row101 col8\" >349</td>\n",
       "                        <td id=\"T_37768f52_b498_11ea_8ba3_f01faf2f41a7row101_col9\" class=\"data row101 col9\" >1557</td>\n",
       "                        <td id=\"T_37768f52_b498_11ea_8ba3_f01faf2f41a7row101_col10\" class=\"data row101 col10\" >60312</td>\n",
       "            </tr>\n",
       "            <tr>\n",
       "                        <th id=\"T_37768f52_b498_11ea_8ba3_f01faf2f41a7level0_row102\" class=\"row_heading level0 row102\" >102</th>\n",
       "                        <td id=\"T_37768f52_b498_11ea_8ba3_f01faf2f41a7row102_col0\" class=\"data row102 col0\" >2020-03-11 00:00:00</td>\n",
       "                        <td id=\"T_37768f52_b498_11ea_8ba3_f01faf2f41a7row102_col1\" class=\"data row102 col1\" >125865</td>\n",
       "                        <td id=\"T_37768f52_b498_11ea_8ba3_f01faf2f41a7row102_col2\" class=\"data row102 col2\" >4615</td>\n",
       "                        <td id=\"T_37768f52_b498_11ea_8ba3_f01faf2f41a7row102_col3\" class=\"data row102 col3\" >67003</td>\n",
       "                        <td id=\"T_37768f52_b498_11ea_8ba3_f01faf2f41a7row102_col4\" class=\"data row102 col4\" >3.67</td>\n",
       "                        <td id=\"T_37768f52_b498_11ea_8ba3_f01faf2f41a7row102_col5\" class=\"data row102 col5\" >53.23</td>\n",
       "                        <td id=\"T_37768f52_b498_11ea_8ba3_f01faf2f41a7row102_col6\" class=\"data row102 col6\" >43.1</td>\n",
       "                        <td id=\"T_37768f52_b498_11ea_8ba3_f01faf2f41a7row102_col7\" class=\"data row102 col7\" >7283</td>\n",
       "                        <td id=\"T_37768f52_b498_11ea_8ba3_f01faf2f41a7row102_col8\" class=\"data row102 col8\" >353</td>\n",
       "                        <td id=\"T_37768f52_b498_11ea_8ba3_f01faf2f41a7row102_col9\" class=\"data row102 col9\" >2599</td>\n",
       "                        <td id=\"T_37768f52_b498_11ea_8ba3_f01faf2f41a7row102_col10\" class=\"data row102 col10\" >54247</td>\n",
       "            </tr>\n",
       "            <tr>\n",
       "                        <th id=\"T_37768f52_b498_11ea_8ba3_f01faf2f41a7level0_row103\" class=\"row_heading level0 row103\" >103</th>\n",
       "                        <td id=\"T_37768f52_b498_11ea_8ba3_f01faf2f41a7row103_col0\" class=\"data row103 col0\" >2020-03-10 00:00:00</td>\n",
       "                        <td id=\"T_37768f52_b498_11ea_8ba3_f01faf2f41a7row103_col1\" class=\"data row103 col1\" >118582</td>\n",
       "                        <td id=\"T_37768f52_b498_11ea_8ba3_f01faf2f41a7row103_col2\" class=\"data row103 col2\" >4262</td>\n",
       "                        <td id=\"T_37768f52_b498_11ea_8ba3_f01faf2f41a7row103_col3\" class=\"data row103 col3\" >64404</td>\n",
       "                        <td id=\"T_37768f52_b498_11ea_8ba3_f01faf2f41a7row103_col4\" class=\"data row103 col4\" >3.59</td>\n",
       "                        <td id=\"T_37768f52_b498_11ea_8ba3_f01faf2f41a7row103_col5\" class=\"data row103 col5\" >54.31</td>\n",
       "                        <td id=\"T_37768f52_b498_11ea_8ba3_f01faf2f41a7row103_col6\" class=\"data row103 col6\" >42.09</td>\n",
       "                        <td id=\"T_37768f52_b498_11ea_8ba3_f01faf2f41a7row103_col7\" class=\"data row103 col7\" >4797</td>\n",
       "                        <td id=\"T_37768f52_b498_11ea_8ba3_f01faf2f41a7row103_col8\" class=\"data row103 col8\" >260</td>\n",
       "                        <td id=\"T_37768f52_b498_11ea_8ba3_f01faf2f41a7row103_col9\" class=\"data row103 col9\" >1892</td>\n",
       "                        <td id=\"T_37768f52_b498_11ea_8ba3_f01faf2f41a7row103_col10\" class=\"data row103 col10\" >49916</td>\n",
       "            </tr>\n",
       "            <tr>\n",
       "                        <th id=\"T_37768f52_b498_11ea_8ba3_f01faf2f41a7level0_row104\" class=\"row_heading level0 row104\" >104</th>\n",
       "                        <td id=\"T_37768f52_b498_11ea_8ba3_f01faf2f41a7row104_col0\" class=\"data row104 col0\" >2020-03-09 00:00:00</td>\n",
       "                        <td id=\"T_37768f52_b498_11ea_8ba3_f01faf2f41a7row104_col1\" class=\"data row104 col1\" >113785</td>\n",
       "                        <td id=\"T_37768f52_b498_11ea_8ba3_f01faf2f41a7row104_col2\" class=\"data row104 col2\" >4002</td>\n",
       "                        <td id=\"T_37768f52_b498_11ea_8ba3_f01faf2f41a7row104_col3\" class=\"data row104 col3\" >62512</td>\n",
       "                        <td id=\"T_37768f52_b498_11ea_8ba3_f01faf2f41a7row104_col4\" class=\"data row104 col4\" >3.52</td>\n",
       "                        <td id=\"T_37768f52_b498_11ea_8ba3_f01faf2f41a7row104_col5\" class=\"data row104 col5\" >54.94</td>\n",
       "                        <td id=\"T_37768f52_b498_11ea_8ba3_f01faf2f41a7row104_col6\" class=\"data row104 col6\" >41.54</td>\n",
       "                        <td id=\"T_37768f52_b498_11ea_8ba3_f01faf2f41a7row104_col7\" class=\"data row104 col7\" >3971</td>\n",
       "                        <td id=\"T_37768f52_b498_11ea_8ba3_f01faf2f41a7row104_col8\" class=\"data row104 col8\" >199</td>\n",
       "                        <td id=\"T_37768f52_b498_11ea_8ba3_f01faf2f41a7row104_col9\" class=\"data row104 col9\" >1817</td>\n",
       "                        <td id=\"T_37768f52_b498_11ea_8ba3_f01faf2f41a7row104_col10\" class=\"data row104 col10\" >47271</td>\n",
       "            </tr>\n",
       "            <tr>\n",
       "                        <th id=\"T_37768f52_b498_11ea_8ba3_f01faf2f41a7level0_row105\" class=\"row_heading level0 row105\" >105</th>\n",
       "                        <td id=\"T_37768f52_b498_11ea_8ba3_f01faf2f41a7row105_col0\" class=\"data row105 col0\" >2020-03-08 00:00:00</td>\n",
       "                        <td id=\"T_37768f52_b498_11ea_8ba3_f01faf2f41a7row105_col1\" class=\"data row105 col1\" >109814</td>\n",
       "                        <td id=\"T_37768f52_b498_11ea_8ba3_f01faf2f41a7row105_col2\" class=\"data row105 col2\" >3803</td>\n",
       "                        <td id=\"T_37768f52_b498_11ea_8ba3_f01faf2f41a7row105_col3\" class=\"data row105 col3\" >60695</td>\n",
       "                        <td id=\"T_37768f52_b498_11ea_8ba3_f01faf2f41a7row105_col4\" class=\"data row105 col4\" >3.46</td>\n",
       "                        <td id=\"T_37768f52_b498_11ea_8ba3_f01faf2f41a7row105_col5\" class=\"data row105 col5\" >55.27</td>\n",
       "                        <td id=\"T_37768f52_b498_11ea_8ba3_f01faf2f41a7row105_col6\" class=\"data row105 col6\" >41.27</td>\n",
       "                        <td id=\"T_37768f52_b498_11ea_8ba3_f01faf2f41a7row105_col7\" class=\"data row105 col7\" >3978</td>\n",
       "                        <td id=\"T_37768f52_b498_11ea_8ba3_f01faf2f41a7row105_col8\" class=\"data row105 col8\" >245</td>\n",
       "                        <td id=\"T_37768f52_b498_11ea_8ba3_f01faf2f41a7row105_col9\" class=\"data row105 col9\" >2336</td>\n",
       "                        <td id=\"T_37768f52_b498_11ea_8ba3_f01faf2f41a7row105_col10\" class=\"data row105 col10\" >45316</td>\n",
       "            </tr>\n",
       "            <tr>\n",
       "                        <th id=\"T_37768f52_b498_11ea_8ba3_f01faf2f41a7level0_row106\" class=\"row_heading level0 row106\" >106</th>\n",
       "                        <td id=\"T_37768f52_b498_11ea_8ba3_f01faf2f41a7row106_col0\" class=\"data row106 col0\" >2020-03-07 00:00:00</td>\n",
       "                        <td id=\"T_37768f52_b498_11ea_8ba3_f01faf2f41a7row106_col1\" class=\"data row106 col1\" >105836</td>\n",
       "                        <td id=\"T_37768f52_b498_11ea_8ba3_f01faf2f41a7row106_col2\" class=\"data row106 col2\" >3558</td>\n",
       "                        <td id=\"T_37768f52_b498_11ea_8ba3_f01faf2f41a7row106_col3\" class=\"data row106 col3\" >58359</td>\n",
       "                        <td id=\"T_37768f52_b498_11ea_8ba3_f01faf2f41a7row106_col4\" class=\"data row106 col4\" >3.36</td>\n",
       "                        <td id=\"T_37768f52_b498_11ea_8ba3_f01faf2f41a7row106_col5\" class=\"data row106 col5\" >55.14</td>\n",
       "                        <td id=\"T_37768f52_b498_11ea_8ba3_f01faf2f41a7row106_col6\" class=\"data row106 col6\" >41.5</td>\n",
       "                        <td id=\"T_37768f52_b498_11ea_8ba3_f01faf2f41a7row106_col7\" class=\"data row106 col7\" >4036</td>\n",
       "                        <td id=\"T_37768f52_b498_11ea_8ba3_f01faf2f41a7row106_col8\" class=\"data row106 col8\" >98</td>\n",
       "                        <td id=\"T_37768f52_b498_11ea_8ba3_f01faf2f41a7row106_col9\" class=\"data row106 col9\" >2493</td>\n",
       "                        <td id=\"T_37768f52_b498_11ea_8ba3_f01faf2f41a7row106_col10\" class=\"data row106 col10\" >43919</td>\n",
       "            </tr>\n",
       "            <tr>\n",
       "                        <th id=\"T_37768f52_b498_11ea_8ba3_f01faf2f41a7level0_row107\" class=\"row_heading level0 row107\" >107</th>\n",
       "                        <td id=\"T_37768f52_b498_11ea_8ba3_f01faf2f41a7row107_col0\" class=\"data row107 col0\" >2020-03-06 00:00:00</td>\n",
       "                        <td id=\"T_37768f52_b498_11ea_8ba3_f01faf2f41a7row107_col1\" class=\"data row107 col1\" >101800</td>\n",
       "                        <td id=\"T_37768f52_b498_11ea_8ba3_f01faf2f41a7row107_col2\" class=\"data row107 col2\" >3460</td>\n",
       "                        <td id=\"T_37768f52_b498_11ea_8ba3_f01faf2f41a7row107_col3\" class=\"data row107 col3\" >55866</td>\n",
       "                        <td id=\"T_37768f52_b498_11ea_8ba3_f01faf2f41a7row107_col4\" class=\"data row107 col4\" >3.4</td>\n",
       "                        <td id=\"T_37768f52_b498_11ea_8ba3_f01faf2f41a7row107_col5\" class=\"data row107 col5\" >54.88</td>\n",
       "                        <td id=\"T_37768f52_b498_11ea_8ba3_f01faf2f41a7row107_col6\" class=\"data row107 col6\" >41.72</td>\n",
       "                        <td id=\"T_37768f52_b498_11ea_8ba3_f01faf2f41a7row107_col7\" class=\"data row107 col7\" >3914</td>\n",
       "                        <td id=\"T_37768f52_b498_11ea_8ba3_f01faf2f41a7row107_col8\" class=\"data row107 col8\" >112</td>\n",
       "                        <td id=\"T_37768f52_b498_11ea_8ba3_f01faf2f41a7row107_col9\" class=\"data row107 col9\" >2069</td>\n",
       "                        <td id=\"T_37768f52_b498_11ea_8ba3_f01faf2f41a7row107_col10\" class=\"data row107 col10\" >42474</td>\n",
       "            </tr>\n",
       "            <tr>\n",
       "                        <th id=\"T_37768f52_b498_11ea_8ba3_f01faf2f41a7level0_row108\" class=\"row_heading level0 row108\" >108</th>\n",
       "                        <td id=\"T_37768f52_b498_11ea_8ba3_f01faf2f41a7row108_col0\" class=\"data row108 col0\" >2020-03-05 00:00:00</td>\n",
       "                        <td id=\"T_37768f52_b498_11ea_8ba3_f01faf2f41a7row108_col1\" class=\"data row108 col1\" >97886</td>\n",
       "                        <td id=\"T_37768f52_b498_11ea_8ba3_f01faf2f41a7row108_col2\" class=\"data row108 col2\" >3348</td>\n",
       "                        <td id=\"T_37768f52_b498_11ea_8ba3_f01faf2f41a7row108_col3\" class=\"data row108 col3\" >53797</td>\n",
       "                        <td id=\"T_37768f52_b498_11ea_8ba3_f01faf2f41a7row108_col4\" class=\"data row108 col4\" >3.42</td>\n",
       "                        <td id=\"T_37768f52_b498_11ea_8ba3_f01faf2f41a7row108_col5\" class=\"data row108 col5\" >54.96</td>\n",
       "                        <td id=\"T_37768f52_b498_11ea_8ba3_f01faf2f41a7row108_col6\" class=\"data row108 col6\" >41.62</td>\n",
       "                        <td id=\"T_37768f52_b498_11ea_8ba3_f01faf2f41a7row108_col7\" class=\"data row108 col7\" >2762</td>\n",
       "                        <td id=\"T_37768f52_b498_11ea_8ba3_f01faf2f41a7row108_col8\" class=\"data row108 col8\" >94</td>\n",
       "                        <td id=\"T_37768f52_b498_11ea_8ba3_f01faf2f41a7row108_col9\" class=\"data row108 col9\" >2626</td>\n",
       "                        <td id=\"T_37768f52_b498_11ea_8ba3_f01faf2f41a7row108_col10\" class=\"data row108 col10\" >40741</td>\n",
       "            </tr>\n",
       "            <tr>\n",
       "                        <th id=\"T_37768f52_b498_11ea_8ba3_f01faf2f41a7level0_row109\" class=\"row_heading level0 row109\" >109</th>\n",
       "                        <td id=\"T_37768f52_b498_11ea_8ba3_f01faf2f41a7row109_col0\" class=\"data row109 col0\" >2020-03-04 00:00:00</td>\n",
       "                        <td id=\"T_37768f52_b498_11ea_8ba3_f01faf2f41a7row109_col1\" class=\"data row109 col1\" >95124</td>\n",
       "                        <td id=\"T_37768f52_b498_11ea_8ba3_f01faf2f41a7row109_col2\" class=\"data row109 col2\" >3254</td>\n",
       "                        <td id=\"T_37768f52_b498_11ea_8ba3_f01faf2f41a7row109_col3\" class=\"data row109 col3\" >51171</td>\n",
       "                        <td id=\"T_37768f52_b498_11ea_8ba3_f01faf2f41a7row109_col4\" class=\"data row109 col4\" >3.42</td>\n",
       "                        <td id=\"T_37768f52_b498_11ea_8ba3_f01faf2f41a7row109_col5\" class=\"data row109 col5\" >53.79</td>\n",
       "                        <td id=\"T_37768f52_b498_11ea_8ba3_f01faf2f41a7row109_col6\" class=\"data row109 col6\" >42.79</td>\n",
       "                        <td id=\"T_37768f52_b498_11ea_8ba3_f01faf2f41a7row109_col7\" class=\"data row109 col7\" >2280</td>\n",
       "                        <td id=\"T_37768f52_b498_11ea_8ba3_f01faf2f41a7row109_col8\" class=\"data row109 col8\" >94</td>\n",
       "                        <td id=\"T_37768f52_b498_11ea_8ba3_f01faf2f41a7row109_col9\" class=\"data row109 col9\" >2942</td>\n",
       "                        <td id=\"T_37768f52_b498_11ea_8ba3_f01faf2f41a7row109_col10\" class=\"data row109 col10\" >40699</td>\n",
       "            </tr>\n",
       "            <tr>\n",
       "                        <th id=\"T_37768f52_b498_11ea_8ba3_f01faf2f41a7level0_row110\" class=\"row_heading level0 row110\" >110</th>\n",
       "                        <td id=\"T_37768f52_b498_11ea_8ba3_f01faf2f41a7row110_col0\" class=\"data row110 col0\" >2020-03-03 00:00:00</td>\n",
       "                        <td id=\"T_37768f52_b498_11ea_8ba3_f01faf2f41a7row110_col1\" class=\"data row110 col1\" >92844</td>\n",
       "                        <td id=\"T_37768f52_b498_11ea_8ba3_f01faf2f41a7row110_col2\" class=\"data row110 col2\" >3160</td>\n",
       "                        <td id=\"T_37768f52_b498_11ea_8ba3_f01faf2f41a7row110_col3\" class=\"data row110 col3\" >48229</td>\n",
       "                        <td id=\"T_37768f52_b498_11ea_8ba3_f01faf2f41a7row110_col4\" class=\"data row110 col4\" >3.4</td>\n",
       "                        <td id=\"T_37768f52_b498_11ea_8ba3_f01faf2f41a7row110_col5\" class=\"data row110 col5\" >51.95</td>\n",
       "                        <td id=\"T_37768f52_b498_11ea_8ba3_f01faf2f41a7row110_col6\" class=\"data row110 col6\" >44.65</td>\n",
       "                        <td id=\"T_37768f52_b498_11ea_8ba3_f01faf2f41a7row110_col7\" class=\"data row110 col7\" >2535</td>\n",
       "                        <td id=\"T_37768f52_b498_11ea_8ba3_f01faf2f41a7row110_col8\" class=\"data row110 col8\" >75</td>\n",
       "                        <td id=\"T_37768f52_b498_11ea_8ba3_f01faf2f41a7row110_col9\" class=\"data row110 col9\" >2627</td>\n",
       "                        <td id=\"T_37768f52_b498_11ea_8ba3_f01faf2f41a7row110_col10\" class=\"data row110 col10\" >41455</td>\n",
       "            </tr>\n",
       "            <tr>\n",
       "                        <th id=\"T_37768f52_b498_11ea_8ba3_f01faf2f41a7level0_row111\" class=\"row_heading level0 row111\" >111</th>\n",
       "                        <td id=\"T_37768f52_b498_11ea_8ba3_f01faf2f41a7row111_col0\" class=\"data row111 col0\" >2020-03-02 00:00:00</td>\n",
       "                        <td id=\"T_37768f52_b498_11ea_8ba3_f01faf2f41a7row111_col1\" class=\"data row111 col1\" >90309</td>\n",
       "                        <td id=\"T_37768f52_b498_11ea_8ba3_f01faf2f41a7row111_col2\" class=\"data row111 col2\" >3085</td>\n",
       "                        <td id=\"T_37768f52_b498_11ea_8ba3_f01faf2f41a7row111_col3\" class=\"data row111 col3\" >45602</td>\n",
       "                        <td id=\"T_37768f52_b498_11ea_8ba3_f01faf2f41a7row111_col4\" class=\"data row111 col4\" >3.42</td>\n",
       "                        <td id=\"T_37768f52_b498_11ea_8ba3_f01faf2f41a7row111_col5\" class=\"data row111 col5\" >50.5</td>\n",
       "                        <td id=\"T_37768f52_b498_11ea_8ba3_f01faf2f41a7row111_col6\" class=\"data row111 col6\" >46.09</td>\n",
       "                        <td id=\"T_37768f52_b498_11ea_8ba3_f01faf2f41a7row111_col7\" class=\"data row111 col7\" >1938</td>\n",
       "                        <td id=\"T_37768f52_b498_11ea_8ba3_f01faf2f41a7row111_col8\" class=\"data row111 col8\" >89</td>\n",
       "                        <td id=\"T_37768f52_b498_11ea_8ba3_f01faf2f41a7row111_col9\" class=\"data row111 col9\" >2886</td>\n",
       "                        <td id=\"T_37768f52_b498_11ea_8ba3_f01faf2f41a7row111_col10\" class=\"data row111 col10\" >41622</td>\n",
       "            </tr>\n",
       "            <tr>\n",
       "                        <th id=\"T_37768f52_b498_11ea_8ba3_f01faf2f41a7level0_row112\" class=\"row_heading level0 row112\" >112</th>\n",
       "                        <td id=\"T_37768f52_b498_11ea_8ba3_f01faf2f41a7row112_col0\" class=\"data row112 col0\" >2020-03-01 00:00:00</td>\n",
       "                        <td id=\"T_37768f52_b498_11ea_8ba3_f01faf2f41a7row112_col1\" class=\"data row112 col1\" >88371</td>\n",
       "                        <td id=\"T_37768f52_b498_11ea_8ba3_f01faf2f41a7row112_col2\" class=\"data row112 col2\" >2996</td>\n",
       "                        <td id=\"T_37768f52_b498_11ea_8ba3_f01faf2f41a7row112_col3\" class=\"data row112 col3\" >42716</td>\n",
       "                        <td id=\"T_37768f52_b498_11ea_8ba3_f01faf2f41a7row112_col4\" class=\"data row112 col4\" >3.39</td>\n",
       "                        <td id=\"T_37768f52_b498_11ea_8ba3_f01faf2f41a7row112_col5\" class=\"data row112 col5\" >48.34</td>\n",
       "                        <td id=\"T_37768f52_b498_11ea_8ba3_f01faf2f41a7row112_col6\" class=\"data row112 col6\" >48.27</td>\n",
       "                        <td id=\"T_37768f52_b498_11ea_8ba3_f01faf2f41a7row112_col7\" class=\"data row112 col7\" >2358</td>\n",
       "                        <td id=\"T_37768f52_b498_11ea_8ba3_f01faf2f41a7row112_col8\" class=\"data row112 col8\" >55</td>\n",
       "                        <td id=\"T_37768f52_b498_11ea_8ba3_f01faf2f41a7row112_col9\" class=\"data row112 col9\" >2934</td>\n",
       "                        <td id=\"T_37768f52_b498_11ea_8ba3_f01faf2f41a7row112_col10\" class=\"data row112 col10\" >42659</td>\n",
       "            </tr>\n",
       "            <tr>\n",
       "                        <th id=\"T_37768f52_b498_11ea_8ba3_f01faf2f41a7level0_row113\" class=\"row_heading level0 row113\" >113</th>\n",
       "                        <td id=\"T_37768f52_b498_11ea_8ba3_f01faf2f41a7row113_col0\" class=\"data row113 col0\" >2020-02-29 00:00:00</td>\n",
       "                        <td id=\"T_37768f52_b498_11ea_8ba3_f01faf2f41a7row113_col1\" class=\"data row113 col1\" >86013</td>\n",
       "                        <td id=\"T_37768f52_b498_11ea_8ba3_f01faf2f41a7row113_col2\" class=\"data row113 col2\" >2941</td>\n",
       "                        <td id=\"T_37768f52_b498_11ea_8ba3_f01faf2f41a7row113_col3\" class=\"data row113 col3\" >39782</td>\n",
       "                        <td id=\"T_37768f52_b498_11ea_8ba3_f01faf2f41a7row113_col4\" class=\"data row113 col4\" >3.42</td>\n",
       "                        <td id=\"T_37768f52_b498_11ea_8ba3_f01faf2f41a7row113_col5\" class=\"data row113 col5\" >46.25</td>\n",
       "                        <td id=\"T_37768f52_b498_11ea_8ba3_f01faf2f41a7row113_col6\" class=\"data row113 col6\" >50.33</td>\n",
       "                        <td id=\"T_37768f52_b498_11ea_8ba3_f01faf2f41a7row113_col7\" class=\"data row113 col7\" >1889</td>\n",
       "                        <td id=\"T_37768f52_b498_11ea_8ba3_f01faf2f41a7row113_col8\" class=\"data row113 col8\" >69</td>\n",
       "                        <td id=\"T_37768f52_b498_11ea_8ba3_f01faf2f41a7row113_col9\" class=\"data row113 col9\" >3071</td>\n",
       "                        <td id=\"T_37768f52_b498_11ea_8ba3_f01faf2f41a7row113_col10\" class=\"data row113 col10\" >43290</td>\n",
       "            </tr>\n",
       "            <tr>\n",
       "                        <th id=\"T_37768f52_b498_11ea_8ba3_f01faf2f41a7level0_row114\" class=\"row_heading level0 row114\" >114</th>\n",
       "                        <td id=\"T_37768f52_b498_11ea_8ba3_f01faf2f41a7row114_col0\" class=\"data row114 col0\" >2020-02-28 00:00:00</td>\n",
       "                        <td id=\"T_37768f52_b498_11ea_8ba3_f01faf2f41a7row114_col1\" class=\"data row114 col1\" >84124</td>\n",
       "                        <td id=\"T_37768f52_b498_11ea_8ba3_f01faf2f41a7row114_col2\" class=\"data row114 col2\" >2872</td>\n",
       "                        <td id=\"T_37768f52_b498_11ea_8ba3_f01faf2f41a7row114_col3\" class=\"data row114 col3\" >36711</td>\n",
       "                        <td id=\"T_37768f52_b498_11ea_8ba3_f01faf2f41a7row114_col4\" class=\"data row114 col4\" >3.41</td>\n",
       "                        <td id=\"T_37768f52_b498_11ea_8ba3_f01faf2f41a7row114_col5\" class=\"data row114 col5\" >43.64</td>\n",
       "                        <td id=\"T_37768f52_b498_11ea_8ba3_f01faf2f41a7row114_col6\" class=\"data row114 col6\" >52.95</td>\n",
       "                        <td id=\"T_37768f52_b498_11ea_8ba3_f01faf2f41a7row114_col7\" class=\"data row114 col7\" >1368</td>\n",
       "                        <td id=\"T_37768f52_b498_11ea_8ba3_f01faf2f41a7row114_col8\" class=\"data row114 col8\" >58</td>\n",
       "                        <td id=\"T_37768f52_b498_11ea_8ba3_f01faf2f41a7row114_col9\" class=\"data row114 col9\" >3434</td>\n",
       "                        <td id=\"T_37768f52_b498_11ea_8ba3_f01faf2f41a7row114_col10\" class=\"data row114 col10\" >44541</td>\n",
       "            </tr>\n",
       "            <tr>\n",
       "                        <th id=\"T_37768f52_b498_11ea_8ba3_f01faf2f41a7level0_row115\" class=\"row_heading level0 row115\" >115</th>\n",
       "                        <td id=\"T_37768f52_b498_11ea_8ba3_f01faf2f41a7row115_col0\" class=\"data row115 col0\" >2020-02-27 00:00:00</td>\n",
       "                        <td id=\"T_37768f52_b498_11ea_8ba3_f01faf2f41a7row115_col1\" class=\"data row115 col1\" >82756</td>\n",
       "                        <td id=\"T_37768f52_b498_11ea_8ba3_f01faf2f41a7row115_col2\" class=\"data row115 col2\" >2814</td>\n",
       "                        <td id=\"T_37768f52_b498_11ea_8ba3_f01faf2f41a7row115_col3\" class=\"data row115 col3\" >33277</td>\n",
       "                        <td id=\"T_37768f52_b498_11ea_8ba3_f01faf2f41a7row115_col4\" class=\"data row115 col4\" >3.4</td>\n",
       "                        <td id=\"T_37768f52_b498_11ea_8ba3_f01faf2f41a7row115_col5\" class=\"data row115 col5\" >40.21</td>\n",
       "                        <td id=\"T_37768f52_b498_11ea_8ba3_f01faf2f41a7row115_col6\" class=\"data row115 col6\" >56.39</td>\n",
       "                        <td id=\"T_37768f52_b498_11ea_8ba3_f01faf2f41a7row115_col7\" class=\"data row115 col7\" >1359</td>\n",
       "                        <td id=\"T_37768f52_b498_11ea_8ba3_f01faf2f41a7row115_col8\" class=\"data row115 col8\" >44</td>\n",
       "                        <td id=\"T_37768f52_b498_11ea_8ba3_f01faf2f41a7row115_col9\" class=\"data row115 col9\" >2893</td>\n",
       "                        <td id=\"T_37768f52_b498_11ea_8ba3_f01faf2f41a7row115_col10\" class=\"data row115 col10\" >46665</td>\n",
       "            </tr>\n",
       "            <tr>\n",
       "                        <th id=\"T_37768f52_b498_11ea_8ba3_f01faf2f41a7level0_row116\" class=\"row_heading level0 row116\" >116</th>\n",
       "                        <td id=\"T_37768f52_b498_11ea_8ba3_f01faf2f41a7row116_col0\" class=\"data row116 col0\" >2020-02-26 00:00:00</td>\n",
       "                        <td id=\"T_37768f52_b498_11ea_8ba3_f01faf2f41a7row116_col1\" class=\"data row116 col1\" >81397</td>\n",
       "                        <td id=\"T_37768f52_b498_11ea_8ba3_f01faf2f41a7row116_col2\" class=\"data row116 col2\" >2770</td>\n",
       "                        <td id=\"T_37768f52_b498_11ea_8ba3_f01faf2f41a7row116_col3\" class=\"data row116 col3\" >30384</td>\n",
       "                        <td id=\"T_37768f52_b498_11ea_8ba3_f01faf2f41a7row116_col4\" class=\"data row116 col4\" >3.4</td>\n",
       "                        <td id=\"T_37768f52_b498_11ea_8ba3_f01faf2f41a7row116_col5\" class=\"data row116 col5\" >37.33</td>\n",
       "                        <td id=\"T_37768f52_b498_11ea_8ba3_f01faf2f41a7row116_col6\" class=\"data row116 col6\" >59.27</td>\n",
       "                        <td id=\"T_37768f52_b498_11ea_8ba3_f01faf2f41a7row116_col7\" class=\"data row116 col7\" >982</td>\n",
       "                        <td id=\"T_37768f52_b498_11ea_8ba3_f01faf2f41a7row116_col8\" class=\"data row116 col8\" >62</td>\n",
       "                        <td id=\"T_37768f52_b498_11ea_8ba3_f01faf2f41a7row116_col9\" class=\"data row116 col9\" >2479</td>\n",
       "                        <td id=\"T_37768f52_b498_11ea_8ba3_f01faf2f41a7row116_col10\" class=\"data row116 col10\" >48243</td>\n",
       "            </tr>\n",
       "            <tr>\n",
       "                        <th id=\"T_37768f52_b498_11ea_8ba3_f01faf2f41a7level0_row117\" class=\"row_heading level0 row117\" >117</th>\n",
       "                        <td id=\"T_37768f52_b498_11ea_8ba3_f01faf2f41a7row117_col0\" class=\"data row117 col0\" >2020-02-25 00:00:00</td>\n",
       "                        <td id=\"T_37768f52_b498_11ea_8ba3_f01faf2f41a7row117_col1\" class=\"data row117 col1\" >80415</td>\n",
       "                        <td id=\"T_37768f52_b498_11ea_8ba3_f01faf2f41a7row117_col2\" class=\"data row117 col2\" >2708</td>\n",
       "                        <td id=\"T_37768f52_b498_11ea_8ba3_f01faf2f41a7row117_col3\" class=\"data row117 col3\" >27905</td>\n",
       "                        <td id=\"T_37768f52_b498_11ea_8ba3_f01faf2f41a7row117_col4\" class=\"data row117 col4\" >3.37</td>\n",
       "                        <td id=\"T_37768f52_b498_11ea_8ba3_f01faf2f41a7row117_col5\" class=\"data row117 col5\" >34.7</td>\n",
       "                        <td id=\"T_37768f52_b498_11ea_8ba3_f01faf2f41a7row117_col6\" class=\"data row117 col6\" >61.93</td>\n",
       "                        <td id=\"T_37768f52_b498_11ea_8ba3_f01faf2f41a7row117_col7\" class=\"data row117 col7\" >845</td>\n",
       "                        <td id=\"T_37768f52_b498_11ea_8ba3_f01faf2f41a7row117_col8\" class=\"data row117 col8\" >79</td>\n",
       "                        <td id=\"T_37768f52_b498_11ea_8ba3_f01faf2f41a7row117_col9\" class=\"data row117 col9\" >2678</td>\n",
       "                        <td id=\"T_37768f52_b498_11ea_8ba3_f01faf2f41a7row117_col10\" class=\"data row117 col10\" >49802</td>\n",
       "            </tr>\n",
       "            <tr>\n",
       "                        <th id=\"T_37768f52_b498_11ea_8ba3_f01faf2f41a7level0_row118\" class=\"row_heading level0 row118\" >118</th>\n",
       "                        <td id=\"T_37768f52_b498_11ea_8ba3_f01faf2f41a7row118_col0\" class=\"data row118 col0\" >2020-02-24 00:00:00</td>\n",
       "                        <td id=\"T_37768f52_b498_11ea_8ba3_f01faf2f41a7row118_col1\" class=\"data row118 col1\" >79570</td>\n",
       "                        <td id=\"T_37768f52_b498_11ea_8ba3_f01faf2f41a7row118_col2\" class=\"data row118 col2\" >2629</td>\n",
       "                        <td id=\"T_37768f52_b498_11ea_8ba3_f01faf2f41a7row118_col3\" class=\"data row118 col3\" >25227</td>\n",
       "                        <td id=\"T_37768f52_b498_11ea_8ba3_f01faf2f41a7row118_col4\" class=\"data row118 col4\" >3.3</td>\n",
       "                        <td id=\"T_37768f52_b498_11ea_8ba3_f01faf2f41a7row118_col5\" class=\"data row118 col5\" >31.7</td>\n",
       "                        <td id=\"T_37768f52_b498_11ea_8ba3_f01faf2f41a7row118_col6\" class=\"data row118 col6\" >64.99</td>\n",
       "                        <td id=\"T_37768f52_b498_11ea_8ba3_f01faf2f41a7row118_col7\" class=\"data row118 col7\" >585</td>\n",
       "                        <td id=\"T_37768f52_b498_11ea_8ba3_f01faf2f41a7row118_col8\" class=\"data row118 col8\" >160</td>\n",
       "                        <td id=\"T_37768f52_b498_11ea_8ba3_f01faf2f41a7row118_col9\" class=\"data row118 col9\" >1833</td>\n",
       "                        <td id=\"T_37768f52_b498_11ea_8ba3_f01faf2f41a7row118_col10\" class=\"data row118 col10\" >51714</td>\n",
       "            </tr>\n",
       "            <tr>\n",
       "                        <th id=\"T_37768f52_b498_11ea_8ba3_f01faf2f41a7level0_row119\" class=\"row_heading level0 row119\" >119</th>\n",
       "                        <td id=\"T_37768f52_b498_11ea_8ba3_f01faf2f41a7row119_col0\" class=\"data row119 col0\" >2020-02-23 00:00:00</td>\n",
       "                        <td id=\"T_37768f52_b498_11ea_8ba3_f01faf2f41a7row119_col1\" class=\"data row119 col1\" >78985</td>\n",
       "                        <td id=\"T_37768f52_b498_11ea_8ba3_f01faf2f41a7row119_col2\" class=\"data row119 col2\" >2469</td>\n",
       "                        <td id=\"T_37768f52_b498_11ea_8ba3_f01faf2f41a7row119_col3\" class=\"data row119 col3\" >23394</td>\n",
       "                        <td id=\"T_37768f52_b498_11ea_8ba3_f01faf2f41a7row119_col4\" class=\"data row119 col4\" >3.13</td>\n",
       "                        <td id=\"T_37768f52_b498_11ea_8ba3_f01faf2f41a7row119_col5\" class=\"data row119 col5\" >29.62</td>\n",
       "                        <td id=\"T_37768f52_b498_11ea_8ba3_f01faf2f41a7row119_col6\" class=\"data row119 col6\" >67.26</td>\n",
       "                        <td id=\"T_37768f52_b498_11ea_8ba3_f01faf2f41a7row119_col7\" class=\"data row119 col7\" >386</td>\n",
       "                        <td id=\"T_37768f52_b498_11ea_8ba3_f01faf2f41a7row119_col8\" class=\"data row119 col8\" >11</td>\n",
       "                        <td id=\"T_37768f52_b498_11ea_8ba3_f01faf2f41a7row119_col9\" class=\"data row119 col9\" >508</td>\n",
       "                        <td id=\"T_37768f52_b498_11ea_8ba3_f01faf2f41a7row119_col10\" class=\"data row119 col10\" >53122</td>\n",
       "            </tr>\n",
       "            <tr>\n",
       "                        <th id=\"T_37768f52_b498_11ea_8ba3_f01faf2f41a7level0_row120\" class=\"row_heading level0 row120\" >120</th>\n",
       "                        <td id=\"T_37768f52_b498_11ea_8ba3_f01faf2f41a7row120_col0\" class=\"data row120 col0\" >2020-02-22 00:00:00</td>\n",
       "                        <td id=\"T_37768f52_b498_11ea_8ba3_f01faf2f41a7row120_col1\" class=\"data row120 col1\" >78599</td>\n",
       "                        <td id=\"T_37768f52_b498_11ea_8ba3_f01faf2f41a7row120_col2\" class=\"data row120 col2\" >2458</td>\n",
       "                        <td id=\"T_37768f52_b498_11ea_8ba3_f01faf2f41a7row120_col3\" class=\"data row120 col3\" >22886</td>\n",
       "                        <td id=\"T_37768f52_b498_11ea_8ba3_f01faf2f41a7row120_col4\" class=\"data row120 col4\" >3.13</td>\n",
       "                        <td id=\"T_37768f52_b498_11ea_8ba3_f01faf2f41a7row120_col5\" class=\"data row120 col5\" >29.12</td>\n",
       "                        <td id=\"T_37768f52_b498_11ea_8ba3_f01faf2f41a7row120_col6\" class=\"data row120 col6\" >67.76</td>\n",
       "                        <td id=\"T_37768f52_b498_11ea_8ba3_f01faf2f41a7row120_col7\" class=\"data row120 col7\" >1756</td>\n",
       "                        <td id=\"T_37768f52_b498_11ea_8ba3_f01faf2f41a7row120_col8\" class=\"data row120 col8\" >207</td>\n",
       "                        <td id=\"T_37768f52_b498_11ea_8ba3_f01faf2f41a7row120_col9\" class=\"data row120 col9\" >3996</td>\n",
       "                        <td id=\"T_37768f52_b498_11ea_8ba3_f01faf2f41a7row120_col10\" class=\"data row120 col10\" >53255</td>\n",
       "            </tr>\n",
       "            <tr>\n",
       "                        <th id=\"T_37768f52_b498_11ea_8ba3_f01faf2f41a7level0_row121\" class=\"row_heading level0 row121\" >121</th>\n",
       "                        <td id=\"T_37768f52_b498_11ea_8ba3_f01faf2f41a7row121_col0\" class=\"data row121 col0\" >2020-02-21 00:00:00</td>\n",
       "                        <td id=\"T_37768f52_b498_11ea_8ba3_f01faf2f41a7row121_col1\" class=\"data row121 col1\" >76843</td>\n",
       "                        <td id=\"T_37768f52_b498_11ea_8ba3_f01faf2f41a7row121_col2\" class=\"data row121 col2\" >2251</td>\n",
       "                        <td id=\"T_37768f52_b498_11ea_8ba3_f01faf2f41a7row121_col3\" class=\"data row121 col3\" >18890</td>\n",
       "                        <td id=\"T_37768f52_b498_11ea_8ba3_f01faf2f41a7row121_col4\" class=\"data row121 col4\" >2.93</td>\n",
       "                        <td id=\"T_37768f52_b498_11ea_8ba3_f01faf2f41a7row121_col5\" class=\"data row121 col5\" >24.58</td>\n",
       "                        <td id=\"T_37768f52_b498_11ea_8ba3_f01faf2f41a7row121_col6\" class=\"data row121 col6\" >72.49</td>\n",
       "                        <td id=\"T_37768f52_b498_11ea_8ba3_f01faf2f41a7row121_col7\" class=\"data row121 col7\" >644</td>\n",
       "                        <td id=\"T_37768f52_b498_11ea_8ba3_f01faf2f41a7row121_col8\" class=\"data row121 col8\" >4</td>\n",
       "                        <td id=\"T_37768f52_b498_11ea_8ba3_f01faf2f41a7row121_col9\" class=\"data row121 col9\" >713</td>\n",
       "                        <td id=\"T_37768f52_b498_11ea_8ba3_f01faf2f41a7row121_col10\" class=\"data row121 col10\" >55702</td>\n",
       "            </tr>\n",
       "            <tr>\n",
       "                        <th id=\"T_37768f52_b498_11ea_8ba3_f01faf2f41a7level0_row122\" class=\"row_heading level0 row122\" >122</th>\n",
       "                        <td id=\"T_37768f52_b498_11ea_8ba3_f01faf2f41a7row122_col0\" class=\"data row122 col0\" >2020-02-20 00:00:00</td>\n",
       "                        <td id=\"T_37768f52_b498_11ea_8ba3_f01faf2f41a7row122_col1\" class=\"data row122 col1\" >76199</td>\n",
       "                        <td id=\"T_37768f52_b498_11ea_8ba3_f01faf2f41a7row122_col2\" class=\"data row122 col2\" >2247</td>\n",
       "                        <td id=\"T_37768f52_b498_11ea_8ba3_f01faf2f41a7row122_col3\" class=\"data row122 col3\" >18177</td>\n",
       "                        <td id=\"T_37768f52_b498_11ea_8ba3_f01faf2f41a7row122_col4\" class=\"data row122 col4\" >2.95</td>\n",
       "                        <td id=\"T_37768f52_b498_11ea_8ba3_f01faf2f41a7row122_col5\" class=\"data row122 col5\" >23.85</td>\n",
       "                        <td id=\"T_37768f52_b498_11ea_8ba3_f01faf2f41a7row122_col6\" class=\"data row122 col6\" >73.2</td>\n",
       "                        <td id=\"T_37768f52_b498_11ea_8ba3_f01faf2f41a7row122_col7\" class=\"data row122 col7\" >558</td>\n",
       "                        <td id=\"T_37768f52_b498_11ea_8ba3_f01faf2f41a7row122_col8\" class=\"data row122 col8\" >125</td>\n",
       "                        <td id=\"T_37768f52_b498_11ea_8ba3_f01faf2f41a7row122_col9\" class=\"data row122 col9\" >2056</td>\n",
       "                        <td id=\"T_37768f52_b498_11ea_8ba3_f01faf2f41a7row122_col10\" class=\"data row122 col10\" >55775</td>\n",
       "            </tr>\n",
       "            <tr>\n",
       "                        <th id=\"T_37768f52_b498_11ea_8ba3_f01faf2f41a7level0_row123\" class=\"row_heading level0 row123\" >123</th>\n",
       "                        <td id=\"T_37768f52_b498_11ea_8ba3_f01faf2f41a7row123_col0\" class=\"data row123 col0\" >2020-02-19 00:00:00</td>\n",
       "                        <td id=\"T_37768f52_b498_11ea_8ba3_f01faf2f41a7row123_col1\" class=\"data row123 col1\" >75641</td>\n",
       "                        <td id=\"T_37768f52_b498_11ea_8ba3_f01faf2f41a7row123_col2\" class=\"data row123 col2\" >2122</td>\n",
       "                        <td id=\"T_37768f52_b498_11ea_8ba3_f01faf2f41a7row123_col3\" class=\"data row123 col3\" >16121</td>\n",
       "                        <td id=\"T_37768f52_b498_11ea_8ba3_f01faf2f41a7row123_col4\" class=\"data row123 col4\" >2.81</td>\n",
       "                        <td id=\"T_37768f52_b498_11ea_8ba3_f01faf2f41a7row123_col5\" class=\"data row123 col5\" >21.31</td>\n",
       "                        <td id=\"T_37768f52_b498_11ea_8ba3_f01faf2f41a7row123_col6\" class=\"data row123 col6\" >75.88</td>\n",
       "                        <td id=\"T_37768f52_b498_11ea_8ba3_f01faf2f41a7row123_col7\" class=\"data row123 col7\" >503</td>\n",
       "                        <td id=\"T_37768f52_b498_11ea_8ba3_f01faf2f41a7row123_col8\" class=\"data row123 col8\" >115</td>\n",
       "                        <td id=\"T_37768f52_b498_11ea_8ba3_f01faf2f41a7row123_col9\" class=\"data row123 col9\" >1769</td>\n",
       "                        <td id=\"T_37768f52_b498_11ea_8ba3_f01faf2f41a7row123_col10\" class=\"data row123 col10\" >57398</td>\n",
       "            </tr>\n",
       "            <tr>\n",
       "                        <th id=\"T_37768f52_b498_11ea_8ba3_f01faf2f41a7level0_row124\" class=\"row_heading level0 row124\" >124</th>\n",
       "                        <td id=\"T_37768f52_b498_11ea_8ba3_f01faf2f41a7row124_col0\" class=\"data row124 col0\" >2020-02-18 00:00:00</td>\n",
       "                        <td id=\"T_37768f52_b498_11ea_8ba3_f01faf2f41a7row124_col1\" class=\"data row124 col1\" >75138</td>\n",
       "                        <td id=\"T_37768f52_b498_11ea_8ba3_f01faf2f41a7row124_col2\" class=\"data row124 col2\" >2007</td>\n",
       "                        <td id=\"T_37768f52_b498_11ea_8ba3_f01faf2f41a7row124_col3\" class=\"data row124 col3\" >14352</td>\n",
       "                        <td id=\"T_37768f52_b498_11ea_8ba3_f01faf2f41a7row124_col4\" class=\"data row124 col4\" >2.67</td>\n",
       "                        <td id=\"T_37768f52_b498_11ea_8ba3_f01faf2f41a7row124_col5\" class=\"data row124 col5\" >19.1</td>\n",
       "                        <td id=\"T_37768f52_b498_11ea_8ba3_f01faf2f41a7row124_col6\" class=\"data row124 col6\" >78.23</td>\n",
       "                        <td id=\"T_37768f52_b498_11ea_8ba3_f01faf2f41a7row124_col7\" class=\"data row124 col7\" >1878</td>\n",
       "                        <td id=\"T_37768f52_b498_11ea_8ba3_f01faf2f41a7row124_col8\" class=\"data row124 col8\" >139</td>\n",
       "                        <td id=\"T_37768f52_b498_11ea_8ba3_f01faf2f41a7row124_col9\" class=\"data row124 col9\" >1769</td>\n",
       "                        <td id=\"T_37768f52_b498_11ea_8ba3_f01faf2f41a7row124_col10\" class=\"data row124 col10\" >58779</td>\n",
       "            </tr>\n",
       "            <tr>\n",
       "                        <th id=\"T_37768f52_b498_11ea_8ba3_f01faf2f41a7level0_row125\" class=\"row_heading level0 row125\" >125</th>\n",
       "                        <td id=\"T_37768f52_b498_11ea_8ba3_f01faf2f41a7row125_col0\" class=\"data row125 col0\" >2020-02-17 00:00:00</td>\n",
       "                        <td id=\"T_37768f52_b498_11ea_8ba3_f01faf2f41a7row125_col1\" class=\"data row125 col1\" >73260</td>\n",
       "                        <td id=\"T_37768f52_b498_11ea_8ba3_f01faf2f41a7row125_col2\" class=\"data row125 col2\" >1868</td>\n",
       "                        <td id=\"T_37768f52_b498_11ea_8ba3_f01faf2f41a7row125_col3\" class=\"data row125 col3\" >12583</td>\n",
       "                        <td id=\"T_37768f52_b498_11ea_8ba3_f01faf2f41a7row125_col4\" class=\"data row125 col4\" >2.55</td>\n",
       "                        <td id=\"T_37768f52_b498_11ea_8ba3_f01faf2f41a7row125_col5\" class=\"data row125 col5\" >17.18</td>\n",
       "                        <td id=\"T_37768f52_b498_11ea_8ba3_f01faf2f41a7row125_col6\" class=\"data row125 col6\" >80.27</td>\n",
       "                        <td id=\"T_37768f52_b498_11ea_8ba3_f01faf2f41a7row125_col7\" class=\"data row125 col7\" >2034</td>\n",
       "                        <td id=\"T_37768f52_b498_11ea_8ba3_f01faf2f41a7row125_col8\" class=\"data row125 col8\" >98</td>\n",
       "                        <td id=\"T_37768f52_b498_11ea_8ba3_f01faf2f41a7row125_col9\" class=\"data row125 col9\" >1718</td>\n",
       "                        <td id=\"T_37768f52_b498_11ea_8ba3_f01faf2f41a7row125_col10\" class=\"data row125 col10\" >58809</td>\n",
       "            </tr>\n",
       "            <tr>\n",
       "                        <th id=\"T_37768f52_b498_11ea_8ba3_f01faf2f41a7level0_row126\" class=\"row_heading level0 row126\" >126</th>\n",
       "                        <td id=\"T_37768f52_b498_11ea_8ba3_f01faf2f41a7row126_col0\" class=\"data row126 col0\" >2020-02-16 00:00:00</td>\n",
       "                        <td id=\"T_37768f52_b498_11ea_8ba3_f01faf2f41a7row126_col1\" class=\"data row126 col1\" >71226</td>\n",
       "                        <td id=\"T_37768f52_b498_11ea_8ba3_f01faf2f41a7row126_col2\" class=\"data row126 col2\" >1770</td>\n",
       "                        <td id=\"T_37768f52_b498_11ea_8ba3_f01faf2f41a7row126_col3\" class=\"data row126 col3\" >10865</td>\n",
       "                        <td id=\"T_37768f52_b498_11ea_8ba3_f01faf2f41a7row126_col4\" class=\"data row126 col4\" >2.49</td>\n",
       "                        <td id=\"T_37768f52_b498_11ea_8ba3_f01faf2f41a7row126_col5\" class=\"data row126 col5\" >15.25</td>\n",
       "                        <td id=\"T_37768f52_b498_11ea_8ba3_f01faf2f41a7row126_col6\" class=\"data row126 col6\" >82.26</td>\n",
       "                        <td id=\"T_37768f52_b498_11ea_8ba3_f01faf2f41a7row126_col7\" class=\"data row126 col7\" >2194</td>\n",
       "                        <td id=\"T_37768f52_b498_11ea_8ba3_f01faf2f41a7row126_col8\" class=\"data row126 col8\" >104</td>\n",
       "                        <td id=\"T_37768f52_b498_11ea_8ba3_f01faf2f41a7row126_col9\" class=\"data row126 col9\" >1470</td>\n",
       "                        <td id=\"T_37768f52_b498_11ea_8ba3_f01faf2f41a7row126_col10\" class=\"data row126 col10\" >58591</td>\n",
       "            </tr>\n",
       "            <tr>\n",
       "                        <th id=\"T_37768f52_b498_11ea_8ba3_f01faf2f41a7level0_row127\" class=\"row_heading level0 row127\" >127</th>\n",
       "                        <td id=\"T_37768f52_b498_11ea_8ba3_f01faf2f41a7row127_col0\" class=\"data row127 col0\" >2020-02-15 00:00:00</td>\n",
       "                        <td id=\"T_37768f52_b498_11ea_8ba3_f01faf2f41a7row127_col1\" class=\"data row127 col1\" >69032</td>\n",
       "                        <td id=\"T_37768f52_b498_11ea_8ba3_f01faf2f41a7row127_col2\" class=\"data row127 col2\" >1666</td>\n",
       "                        <td id=\"T_37768f52_b498_11ea_8ba3_f01faf2f41a7row127_col3\" class=\"data row127 col3\" >9395</td>\n",
       "                        <td id=\"T_37768f52_b498_11ea_8ba3_f01faf2f41a7row127_col4\" class=\"data row127 col4\" >2.41</td>\n",
       "                        <td id=\"T_37768f52_b498_11ea_8ba3_f01faf2f41a7row127_col5\" class=\"data row127 col5\" >13.61</td>\n",
       "                        <td id=\"T_37768f52_b498_11ea_8ba3_f01faf2f41a7row127_col6\" class=\"data row127 col6\" >83.98</td>\n",
       "                        <td id=\"T_37768f52_b498_11ea_8ba3_f01faf2f41a7row127_col7\" class=\"data row127 col7\" >2145</td>\n",
       "                        <td id=\"T_37768f52_b498_11ea_8ba3_f01faf2f41a7row127_col8\" class=\"data row127 col8\" >143</td>\n",
       "                        <td id=\"T_37768f52_b498_11ea_8ba3_f01faf2f41a7row127_col9\" class=\"data row127 col9\" >1337</td>\n",
       "                        <td id=\"T_37768f52_b498_11ea_8ba3_f01faf2f41a7row127_col10\" class=\"data row127 col10\" >57971</td>\n",
       "            </tr>\n",
       "            <tr>\n",
       "                        <th id=\"T_37768f52_b498_11ea_8ba3_f01faf2f41a7level0_row128\" class=\"row_heading level0 row128\" >128</th>\n",
       "                        <td id=\"T_37768f52_b498_11ea_8ba3_f01faf2f41a7row128_col0\" class=\"data row128 col0\" >2020-02-14 00:00:00</td>\n",
       "                        <td id=\"T_37768f52_b498_11ea_8ba3_f01faf2f41a7row128_col1\" class=\"data row128 col1\" >66887</td>\n",
       "                        <td id=\"T_37768f52_b498_11ea_8ba3_f01faf2f41a7row128_col2\" class=\"data row128 col2\" >1523</td>\n",
       "                        <td id=\"T_37768f52_b498_11ea_8ba3_f01faf2f41a7row128_col3\" class=\"data row128 col3\" >8058</td>\n",
       "                        <td id=\"T_37768f52_b498_11ea_8ba3_f01faf2f41a7row128_col4\" class=\"data row128 col4\" >2.28</td>\n",
       "                        <td id=\"T_37768f52_b498_11ea_8ba3_f01faf2f41a7row128_col5\" class=\"data row128 col5\" >12.05</td>\n",
       "                        <td id=\"T_37768f52_b498_11ea_8ba3_f01faf2f41a7row128_col6\" class=\"data row128 col6\" >85.68</td>\n",
       "                        <td id=\"T_37768f52_b498_11ea_8ba3_f01faf2f41a7row128_col7\" class=\"data row128 col7\" >6517</td>\n",
       "                        <td id=\"T_37768f52_b498_11ea_8ba3_f01faf2f41a7row128_col8\" class=\"data row128 col8\" >152</td>\n",
       "                        <td id=\"T_37768f52_b498_11ea_8ba3_f01faf2f41a7row128_col9\" class=\"data row128 col9\" >1763</td>\n",
       "                        <td id=\"T_37768f52_b498_11ea_8ba3_f01faf2f41a7row128_col10\" class=\"data row128 col10\" >57306</td>\n",
       "            </tr>\n",
       "            <tr>\n",
       "                        <th id=\"T_37768f52_b498_11ea_8ba3_f01faf2f41a7level0_row129\" class=\"row_heading level0 row129\" >129</th>\n",
       "                        <td id=\"T_37768f52_b498_11ea_8ba3_f01faf2f41a7row129_col0\" class=\"data row129 col0\" >2020-02-13 00:00:00</td>\n",
       "                        <td id=\"T_37768f52_b498_11ea_8ba3_f01faf2f41a7row129_col1\" class=\"data row129 col1\" >60370</td>\n",
       "                        <td id=\"T_37768f52_b498_11ea_8ba3_f01faf2f41a7row129_col2\" class=\"data row129 col2\" >1371</td>\n",
       "                        <td id=\"T_37768f52_b498_11ea_8ba3_f01faf2f41a7row129_col3\" class=\"data row129 col3\" >6295</td>\n",
       "                        <td id=\"T_37768f52_b498_11ea_8ba3_f01faf2f41a7row129_col4\" class=\"data row129 col4\" >2.27</td>\n",
       "                        <td id=\"T_37768f52_b498_11ea_8ba3_f01faf2f41a7row129_col5\" class=\"data row129 col5\" >10.43</td>\n",
       "                        <td id=\"T_37768f52_b498_11ea_8ba3_f01faf2f41a7row129_col6\" class=\"data row129 col6\" >87.3</td>\n",
       "                        <td id=\"T_37768f52_b498_11ea_8ba3_f01faf2f41a7row129_col7\" class=\"data row129 col7\" >15148</td>\n",
       "                        <td id=\"T_37768f52_b498_11ea_8ba3_f01faf2f41a7row129_col8\" class=\"data row129 col8\" >253</td>\n",
       "                        <td id=\"T_37768f52_b498_11ea_8ba3_f01faf2f41a7row129_col9\" class=\"data row129 col9\" >1145</td>\n",
       "                        <td id=\"T_37768f52_b498_11ea_8ba3_f01faf2f41a7row129_col10\" class=\"data row129 col10\" >52704</td>\n",
       "            </tr>\n",
       "            <tr>\n",
       "                        <th id=\"T_37768f52_b498_11ea_8ba3_f01faf2f41a7level0_row130\" class=\"row_heading level0 row130\" >130</th>\n",
       "                        <td id=\"T_37768f52_b498_11ea_8ba3_f01faf2f41a7row130_col0\" class=\"data row130 col0\" >2020-02-12 00:00:00</td>\n",
       "                        <td id=\"T_37768f52_b498_11ea_8ba3_f01faf2f41a7row130_col1\" class=\"data row130 col1\" >45222</td>\n",
       "                        <td id=\"T_37768f52_b498_11ea_8ba3_f01faf2f41a7row130_col2\" class=\"data row130 col2\" >1118</td>\n",
       "                        <td id=\"T_37768f52_b498_11ea_8ba3_f01faf2f41a7row130_col3\" class=\"data row130 col3\" >5150</td>\n",
       "                        <td id=\"T_37768f52_b498_11ea_8ba3_f01faf2f41a7row130_col4\" class=\"data row130 col4\" >2.47</td>\n",
       "                        <td id=\"T_37768f52_b498_11ea_8ba3_f01faf2f41a7row130_col5\" class=\"data row130 col5\" >11.39</td>\n",
       "                        <td id=\"T_37768f52_b498_11ea_8ba3_f01faf2f41a7row130_col6\" class=\"data row130 col6\" >86.14</td>\n",
       "                        <td id=\"T_37768f52_b498_11ea_8ba3_f01faf2f41a7row130_col7\" class=\"data row130 col7\" >419</td>\n",
       "                        <td id=\"T_37768f52_b498_11ea_8ba3_f01faf2f41a7row130_col8\" class=\"data row130 col8\" >5</td>\n",
       "                        <td id=\"T_37768f52_b498_11ea_8ba3_f01faf2f41a7row130_col9\" class=\"data row130 col9\" >467</td>\n",
       "                        <td id=\"T_37768f52_b498_11ea_8ba3_f01faf2f41a7row130_col10\" class=\"data row130 col10\" >38954</td>\n",
       "            </tr>\n",
       "            <tr>\n",
       "                        <th id=\"T_37768f52_b498_11ea_8ba3_f01faf2f41a7level0_row131\" class=\"row_heading level0 row131\" >131</th>\n",
       "                        <td id=\"T_37768f52_b498_11ea_8ba3_f01faf2f41a7row131_col0\" class=\"data row131 col0\" >2020-02-11 00:00:00</td>\n",
       "                        <td id=\"T_37768f52_b498_11ea_8ba3_f01faf2f41a7row131_col1\" class=\"data row131 col1\" >44803</td>\n",
       "                        <td id=\"T_37768f52_b498_11ea_8ba3_f01faf2f41a7row131_col2\" class=\"data row131 col2\" >1113</td>\n",
       "                        <td id=\"T_37768f52_b498_11ea_8ba3_f01faf2f41a7row131_col3\" class=\"data row131 col3\" >4683</td>\n",
       "                        <td id=\"T_37768f52_b498_11ea_8ba3_f01faf2f41a7row131_col4\" class=\"data row131 col4\" >2.48</td>\n",
       "                        <td id=\"T_37768f52_b498_11ea_8ba3_f01faf2f41a7row131_col5\" class=\"data row131 col5\" >10.45</td>\n",
       "                        <td id=\"T_37768f52_b498_11ea_8ba3_f01faf2f41a7row131_col6\" class=\"data row131 col6\" >87.06</td>\n",
       "                        <td id=\"T_37768f52_b498_11ea_8ba3_f01faf2f41a7row131_col7\" class=\"data row131 col7\" >2040</td>\n",
       "                        <td id=\"T_37768f52_b498_11ea_8ba3_f01faf2f41a7row131_col8\" class=\"data row131 col8\" >100</td>\n",
       "                        <td id=\"T_37768f52_b498_11ea_8ba3_f01faf2f41a7row131_col9\" class=\"data row131 col9\" >737</td>\n",
       "                        <td id=\"T_37768f52_b498_11ea_8ba3_f01faf2f41a7row131_col10\" class=\"data row131 col10\" >39007</td>\n",
       "            </tr>\n",
       "            <tr>\n",
       "                        <th id=\"T_37768f52_b498_11ea_8ba3_f01faf2f41a7level0_row132\" class=\"row_heading level0 row132\" >132</th>\n",
       "                        <td id=\"T_37768f52_b498_11ea_8ba3_f01faf2f41a7row132_col0\" class=\"data row132 col0\" >2020-02-10 00:00:00</td>\n",
       "                        <td id=\"T_37768f52_b498_11ea_8ba3_f01faf2f41a7row132_col1\" class=\"data row132 col1\" >42763</td>\n",
       "                        <td id=\"T_37768f52_b498_11ea_8ba3_f01faf2f41a7row132_col2\" class=\"data row132 col2\" >1013</td>\n",
       "                        <td id=\"T_37768f52_b498_11ea_8ba3_f01faf2f41a7row132_col3\" class=\"data row132 col3\" >3946</td>\n",
       "                        <td id=\"T_37768f52_b498_11ea_8ba3_f01faf2f41a7row132_col4\" class=\"data row132 col4\" >2.37</td>\n",
       "                        <td id=\"T_37768f52_b498_11ea_8ba3_f01faf2f41a7row132_col5\" class=\"data row132 col5\" >9.23</td>\n",
       "                        <td id=\"T_37768f52_b498_11ea_8ba3_f01faf2f41a7row132_col6\" class=\"data row132 col6\" >88.4</td>\n",
       "                        <td id=\"T_37768f52_b498_11ea_8ba3_f01faf2f41a7row132_col7\" class=\"data row132 col7\" >2612</td>\n",
       "                        <td id=\"T_37768f52_b498_11ea_8ba3_f01faf2f41a7row132_col8\" class=\"data row132 col8\" >107</td>\n",
       "                        <td id=\"T_37768f52_b498_11ea_8ba3_f01faf2f41a7row132_col9\" class=\"data row132 col9\" >702</td>\n",
       "                        <td id=\"T_37768f52_b498_11ea_8ba3_f01faf2f41a7row132_col10\" class=\"data row132 col10\" >37804</td>\n",
       "            </tr>\n",
       "            <tr>\n",
       "                        <th id=\"T_37768f52_b498_11ea_8ba3_f01faf2f41a7level0_row133\" class=\"row_heading level0 row133\" >133</th>\n",
       "                        <td id=\"T_37768f52_b498_11ea_8ba3_f01faf2f41a7row133_col0\" class=\"data row133 col0\" >2020-02-09 00:00:00</td>\n",
       "                        <td id=\"T_37768f52_b498_11ea_8ba3_f01faf2f41a7row133_col1\" class=\"data row133 col1\" >40151</td>\n",
       "                        <td id=\"T_37768f52_b498_11ea_8ba3_f01faf2f41a7row133_col2\" class=\"data row133 col2\" >906</td>\n",
       "                        <td id=\"T_37768f52_b498_11ea_8ba3_f01faf2f41a7row133_col3\" class=\"data row133 col3\" >3244</td>\n",
       "                        <td id=\"T_37768f52_b498_11ea_8ba3_f01faf2f41a7row133_col4\" class=\"data row133 col4\" >2.26</td>\n",
       "                        <td id=\"T_37768f52_b498_11ea_8ba3_f01faf2f41a7row133_col5\" class=\"data row133 col5\" >8.08</td>\n",
       "                        <td id=\"T_37768f52_b498_11ea_8ba3_f01faf2f41a7row133_col6\" class=\"data row133 col6\" >89.66</td>\n",
       "                        <td id=\"T_37768f52_b498_11ea_8ba3_f01faf2f41a7row133_col7\" class=\"data row133 col7\" >3030</td>\n",
       "                        <td id=\"T_37768f52_b498_11ea_8ba3_f01faf2f41a7row133_col8\" class=\"data row133 col8\" >100</td>\n",
       "                        <td id=\"T_37768f52_b498_11ea_8ba3_f01faf2f41a7row133_col9\" class=\"data row133 col9\" >628</td>\n",
       "                        <td id=\"T_37768f52_b498_11ea_8ba3_f01faf2f41a7row133_col10\" class=\"data row133 col10\" >36001</td>\n",
       "            </tr>\n",
       "            <tr>\n",
       "                        <th id=\"T_37768f52_b498_11ea_8ba3_f01faf2f41a7level0_row134\" class=\"row_heading level0 row134\" >134</th>\n",
       "                        <td id=\"T_37768f52_b498_11ea_8ba3_f01faf2f41a7row134_col0\" class=\"data row134 col0\" >2020-02-08 00:00:00</td>\n",
       "                        <td id=\"T_37768f52_b498_11ea_8ba3_f01faf2f41a7row134_col1\" class=\"data row134 col1\" >37121</td>\n",
       "                        <td id=\"T_37768f52_b498_11ea_8ba3_f01faf2f41a7row134_col2\" class=\"data row134 col2\" >806</td>\n",
       "                        <td id=\"T_37768f52_b498_11ea_8ba3_f01faf2f41a7row134_col3\" class=\"data row134 col3\" >2616</td>\n",
       "                        <td id=\"T_37768f52_b498_11ea_8ba3_f01faf2f41a7row134_col4\" class=\"data row134 col4\" >2.17</td>\n",
       "                        <td id=\"T_37768f52_b498_11ea_8ba3_f01faf2f41a7row134_col5\" class=\"data row134 col5\" >7.05</td>\n",
       "                        <td id=\"T_37768f52_b498_11ea_8ba3_f01faf2f41a7row134_col6\" class=\"data row134 col6\" >90.78</td>\n",
       "                        <td id=\"T_37768f52_b498_11ea_8ba3_f01faf2f41a7row134_col7\" class=\"data row134 col7\" >2729</td>\n",
       "                        <td id=\"T_37768f52_b498_11ea_8ba3_f01faf2f41a7row134_col8\" class=\"data row134 col8\" >87</td>\n",
       "                        <td id=\"T_37768f52_b498_11ea_8ba3_f01faf2f41a7row134_col9\" class=\"data row134 col9\" >605</td>\n",
       "                        <td id=\"T_37768f52_b498_11ea_8ba3_f01faf2f41a7row134_col10\" class=\"data row134 col10\" >33699</td>\n",
       "            </tr>\n",
       "            <tr>\n",
       "                        <th id=\"T_37768f52_b498_11ea_8ba3_f01faf2f41a7level0_row135\" class=\"row_heading level0 row135\" >135</th>\n",
       "                        <td id=\"T_37768f52_b498_11ea_8ba3_f01faf2f41a7row135_col0\" class=\"data row135 col0\" >2020-02-07 00:00:00</td>\n",
       "                        <td id=\"T_37768f52_b498_11ea_8ba3_f01faf2f41a7row135_col1\" class=\"data row135 col1\" >34392</td>\n",
       "                        <td id=\"T_37768f52_b498_11ea_8ba3_f01faf2f41a7row135_col2\" class=\"data row135 col2\" >719</td>\n",
       "                        <td id=\"T_37768f52_b498_11ea_8ba3_f01faf2f41a7row135_col3\" class=\"data row135 col3\" >2011</td>\n",
       "                        <td id=\"T_37768f52_b498_11ea_8ba3_f01faf2f41a7row135_col4\" class=\"data row135 col4\" >2.09</td>\n",
       "                        <td id=\"T_37768f52_b498_11ea_8ba3_f01faf2f41a7row135_col5\" class=\"data row135 col5\" >5.85</td>\n",
       "                        <td id=\"T_37768f52_b498_11ea_8ba3_f01faf2f41a7row135_col6\" class=\"data row135 col6\" >92.06</td>\n",
       "                        <td id=\"T_37768f52_b498_11ea_8ba3_f01faf2f41a7row135_col7\" class=\"data row135 col7\" >3574</td>\n",
       "                        <td id=\"T_37768f52_b498_11ea_8ba3_f01faf2f41a7row135_col8\" class=\"data row135 col8\" >85</td>\n",
       "                        <td id=\"T_37768f52_b498_11ea_8ba3_f01faf2f41a7row135_col9\" class=\"data row135 col9\" >524</td>\n",
       "                        <td id=\"T_37768f52_b498_11ea_8ba3_f01faf2f41a7row135_col10\" class=\"data row135 col10\" >31662</td>\n",
       "            </tr>\n",
       "            <tr>\n",
       "                        <th id=\"T_37768f52_b498_11ea_8ba3_f01faf2f41a7level0_row136\" class=\"row_heading level0 row136\" >136</th>\n",
       "                        <td id=\"T_37768f52_b498_11ea_8ba3_f01faf2f41a7row136_col0\" class=\"data row136 col0\" >2020-02-06 00:00:00</td>\n",
       "                        <td id=\"T_37768f52_b498_11ea_8ba3_f01faf2f41a7row136_col1\" class=\"data row136 col1\" >30818</td>\n",
       "                        <td id=\"T_37768f52_b498_11ea_8ba3_f01faf2f41a7row136_col2\" class=\"data row136 col2\" >634</td>\n",
       "                        <td id=\"T_37768f52_b498_11ea_8ba3_f01faf2f41a7row136_col3\" class=\"data row136 col3\" >1487</td>\n",
       "                        <td id=\"T_37768f52_b498_11ea_8ba3_f01faf2f41a7row136_col4\" class=\"data row136 col4\" >2.06</td>\n",
       "                        <td id=\"T_37768f52_b498_11ea_8ba3_f01faf2f41a7row136_col5\" class=\"data row136 col5\" >4.83</td>\n",
       "                        <td id=\"T_37768f52_b498_11ea_8ba3_f01faf2f41a7row136_col6\" class=\"data row136 col6\" >93.12</td>\n",
       "                        <td id=\"T_37768f52_b498_11ea_8ba3_f01faf2f41a7row136_col7\" class=\"data row136 col7\" >3182</td>\n",
       "                        <td id=\"T_37768f52_b498_11ea_8ba3_f01faf2f41a7row136_col8\" class=\"data row136 col8\" >70</td>\n",
       "                        <td id=\"T_37768f52_b498_11ea_8ba3_f01faf2f41a7row136_col9\" class=\"data row136 col9\" >363</td>\n",
       "                        <td id=\"T_37768f52_b498_11ea_8ba3_f01faf2f41a7row136_col10\" class=\"data row136 col10\" >28697</td>\n",
       "            </tr>\n",
       "            <tr>\n",
       "                        <th id=\"T_37768f52_b498_11ea_8ba3_f01faf2f41a7level0_row137\" class=\"row_heading level0 row137\" >137</th>\n",
       "                        <td id=\"T_37768f52_b498_11ea_8ba3_f01faf2f41a7row137_col0\" class=\"data row137 col0\" >2020-02-05 00:00:00</td>\n",
       "                        <td id=\"T_37768f52_b498_11ea_8ba3_f01faf2f41a7row137_col1\" class=\"data row137 col1\" >27636</td>\n",
       "                        <td id=\"T_37768f52_b498_11ea_8ba3_f01faf2f41a7row137_col2\" class=\"data row137 col2\" >564</td>\n",
       "                        <td id=\"T_37768f52_b498_11ea_8ba3_f01faf2f41a7row137_col3\" class=\"data row137 col3\" >1124</td>\n",
       "                        <td id=\"T_37768f52_b498_11ea_8ba3_f01faf2f41a7row137_col4\" class=\"data row137 col4\" >2.04</td>\n",
       "                        <td id=\"T_37768f52_b498_11ea_8ba3_f01faf2f41a7row137_col5\" class=\"data row137 col5\" >4.07</td>\n",
       "                        <td id=\"T_37768f52_b498_11ea_8ba3_f01faf2f41a7row137_col6\" class=\"data row137 col6\" >93.89</td>\n",
       "                        <td id=\"T_37768f52_b498_11ea_8ba3_f01faf2f41a7row137_col7\" class=\"data row137 col7\" >3744</td>\n",
       "                        <td id=\"T_37768f52_b498_11ea_8ba3_f01faf2f41a7row137_col8\" class=\"data row137 col8\" >72</td>\n",
       "                        <td id=\"T_37768f52_b498_11ea_8ba3_f01faf2f41a7row137_col9\" class=\"data row137 col9\" >272</td>\n",
       "                        <td id=\"T_37768f52_b498_11ea_8ba3_f01faf2f41a7row137_col10\" class=\"data row137 col10\" >25948</td>\n",
       "            </tr>\n",
       "            <tr>\n",
       "                        <th id=\"T_37768f52_b498_11ea_8ba3_f01faf2f41a7level0_row138\" class=\"row_heading level0 row138\" >138</th>\n",
       "                        <td id=\"T_37768f52_b498_11ea_8ba3_f01faf2f41a7row138_col0\" class=\"data row138 col0\" >2020-02-04 00:00:00</td>\n",
       "                        <td id=\"T_37768f52_b498_11ea_8ba3_f01faf2f41a7row138_col1\" class=\"data row138 col1\" >23892</td>\n",
       "                        <td id=\"T_37768f52_b498_11ea_8ba3_f01faf2f41a7row138_col2\" class=\"data row138 col2\" >492</td>\n",
       "                        <td id=\"T_37768f52_b498_11ea_8ba3_f01faf2f41a7row138_col3\" class=\"data row138 col3\" >852</td>\n",
       "                        <td id=\"T_37768f52_b498_11ea_8ba3_f01faf2f41a7row138_col4\" class=\"data row138 col4\" >2.06</td>\n",
       "                        <td id=\"T_37768f52_b498_11ea_8ba3_f01faf2f41a7row138_col5\" class=\"data row138 col5\" >3.57</td>\n",
       "                        <td id=\"T_37768f52_b498_11ea_8ba3_f01faf2f41a7row138_col6\" class=\"data row138 col6\" >94.37</td>\n",
       "                        <td id=\"T_37768f52_b498_11ea_8ba3_f01faf2f41a7row138_col7\" class=\"data row138 col7\" >4011</td>\n",
       "                        <td id=\"T_37768f52_b498_11ea_8ba3_f01faf2f41a7row138_col8\" class=\"data row138 col8\" >66</td>\n",
       "                        <td id=\"T_37768f52_b498_11ea_8ba3_f01faf2f41a7row138_col9\" class=\"data row138 col9\" >229</td>\n",
       "                        <td id=\"T_37768f52_b498_11ea_8ba3_f01faf2f41a7row138_col10\" class=\"data row138 col10\" >22548</td>\n",
       "            </tr>\n",
       "            <tr>\n",
       "                        <th id=\"T_37768f52_b498_11ea_8ba3_f01faf2f41a7level0_row139\" class=\"row_heading level0 row139\" >139</th>\n",
       "                        <td id=\"T_37768f52_b498_11ea_8ba3_f01faf2f41a7row139_col0\" class=\"data row139 col0\" >2020-02-03 00:00:00</td>\n",
       "                        <td id=\"T_37768f52_b498_11ea_8ba3_f01faf2f41a7row139_col1\" class=\"data row139 col1\" >19881</td>\n",
       "                        <td id=\"T_37768f52_b498_11ea_8ba3_f01faf2f41a7row139_col2\" class=\"data row139 col2\" >426</td>\n",
       "                        <td id=\"T_37768f52_b498_11ea_8ba3_f01faf2f41a7row139_col3\" class=\"data row139 col3\" >623</td>\n",
       "                        <td id=\"T_37768f52_b498_11ea_8ba3_f01faf2f41a7row139_col4\" class=\"data row139 col4\" >2.14</td>\n",
       "                        <td id=\"T_37768f52_b498_11ea_8ba3_f01faf2f41a7row139_col5\" class=\"data row139 col5\" >3.13</td>\n",
       "                        <td id=\"T_37768f52_b498_11ea_8ba3_f01faf2f41a7row139_col6\" class=\"data row139 col6\" >94.72</td>\n",
       "                        <td id=\"T_37768f52_b498_11ea_8ba3_f01faf2f41a7row139_col7\" class=\"data row139 col7\" >3094</td>\n",
       "                        <td id=\"T_37768f52_b498_11ea_8ba3_f01faf2f41a7row139_col8\" class=\"data row139 col8\" >64</td>\n",
       "                        <td id=\"T_37768f52_b498_11ea_8ba3_f01faf2f41a7row139_col9\" class=\"data row139 col9\" >151</td>\n",
       "                        <td id=\"T_37768f52_b498_11ea_8ba3_f01faf2f41a7row139_col10\" class=\"data row139 col10\" >18832</td>\n",
       "            </tr>\n",
       "            <tr>\n",
       "                        <th id=\"T_37768f52_b498_11ea_8ba3_f01faf2f41a7level0_row140\" class=\"row_heading level0 row140\" >140</th>\n",
       "                        <td id=\"T_37768f52_b498_11ea_8ba3_f01faf2f41a7row140_col0\" class=\"data row140 col0\" >2020-02-02 00:00:00</td>\n",
       "                        <td id=\"T_37768f52_b498_11ea_8ba3_f01faf2f41a7row140_col1\" class=\"data row140 col1\" >16787</td>\n",
       "                        <td id=\"T_37768f52_b498_11ea_8ba3_f01faf2f41a7row140_col2\" class=\"data row140 col2\" >362</td>\n",
       "                        <td id=\"T_37768f52_b498_11ea_8ba3_f01faf2f41a7row140_col3\" class=\"data row140 col3\" >472</td>\n",
       "                        <td id=\"T_37768f52_b498_11ea_8ba3_f01faf2f41a7row140_col4\" class=\"data row140 col4\" >2.16</td>\n",
       "                        <td id=\"T_37768f52_b498_11ea_8ba3_f01faf2f41a7row140_col5\" class=\"data row140 col5\" >2.81</td>\n",
       "                        <td id=\"T_37768f52_b498_11ea_8ba3_f01faf2f41a7row140_col6\" class=\"data row140 col6\" >95.03</td>\n",
       "                        <td id=\"T_37768f52_b498_11ea_8ba3_f01faf2f41a7row140_col7\" class=\"data row140 col7\" >4749</td>\n",
       "                        <td id=\"T_37768f52_b498_11ea_8ba3_f01faf2f41a7row140_col8\" class=\"data row140 col8\" >103</td>\n",
       "                        <td id=\"T_37768f52_b498_11ea_8ba3_f01faf2f41a7row140_col9\" class=\"data row140 col9\" >188</td>\n",
       "                        <td id=\"T_37768f52_b498_11ea_8ba3_f01faf2f41a7row140_col10\" class=\"data row140 col10\" >15953</td>\n",
       "            </tr>\n",
       "            <tr>\n",
       "                        <th id=\"T_37768f52_b498_11ea_8ba3_f01faf2f41a7level0_row141\" class=\"row_heading level0 row141\" >141</th>\n",
       "                        <td id=\"T_37768f52_b498_11ea_8ba3_f01faf2f41a7row141_col0\" class=\"data row141 col0\" >2020-02-01 00:00:00</td>\n",
       "                        <td id=\"T_37768f52_b498_11ea_8ba3_f01faf2f41a7row141_col1\" class=\"data row141 col1\" >12038</td>\n",
       "                        <td id=\"T_37768f52_b498_11ea_8ba3_f01faf2f41a7row141_col2\" class=\"data row141 col2\" >259</td>\n",
       "                        <td id=\"T_37768f52_b498_11ea_8ba3_f01faf2f41a7row141_col3\" class=\"data row141 col3\" >284</td>\n",
       "                        <td id=\"T_37768f52_b498_11ea_8ba3_f01faf2f41a7row141_col4\" class=\"data row141 col4\" >2.15</td>\n",
       "                        <td id=\"T_37768f52_b498_11ea_8ba3_f01faf2f41a7row141_col5\" class=\"data row141 col5\" >2.36</td>\n",
       "                        <td id=\"T_37768f52_b498_11ea_8ba3_f01faf2f41a7row141_col6\" class=\"data row141 col6\" >95.49</td>\n",
       "                        <td id=\"T_37768f52_b498_11ea_8ba3_f01faf2f41a7row141_col7\" class=\"data row141 col7\" >2113</td>\n",
       "                        <td id=\"T_37768f52_b498_11ea_8ba3_f01faf2f41a7row141_col8\" class=\"data row141 col8\" >46</td>\n",
       "                        <td id=\"T_37768f52_b498_11ea_8ba3_f01faf2f41a7row141_col9\" class=\"data row141 col9\" >62</td>\n",
       "                        <td id=\"T_37768f52_b498_11ea_8ba3_f01faf2f41a7row141_col10\" class=\"data row141 col10\" >11495</td>\n",
       "            </tr>\n",
       "            <tr>\n",
       "                        <th id=\"T_37768f52_b498_11ea_8ba3_f01faf2f41a7level0_row142\" class=\"row_heading level0 row142\" >142</th>\n",
       "                        <td id=\"T_37768f52_b498_11ea_8ba3_f01faf2f41a7row142_col0\" class=\"data row142 col0\" >2020-01-31 00:00:00</td>\n",
       "                        <td id=\"T_37768f52_b498_11ea_8ba3_f01faf2f41a7row142_col1\" class=\"data row142 col1\" >9925</td>\n",
       "                        <td id=\"T_37768f52_b498_11ea_8ba3_f01faf2f41a7row142_col2\" class=\"data row142 col2\" >213</td>\n",
       "                        <td id=\"T_37768f52_b498_11ea_8ba3_f01faf2f41a7row142_col3\" class=\"data row142 col3\" >222</td>\n",
       "                        <td id=\"T_37768f52_b498_11ea_8ba3_f01faf2f41a7row142_col4\" class=\"data row142 col4\" >2.15</td>\n",
       "                        <td id=\"T_37768f52_b498_11ea_8ba3_f01faf2f41a7row142_col5\" class=\"data row142 col5\" >2.24</td>\n",
       "                        <td id=\"T_37768f52_b498_11ea_8ba3_f01faf2f41a7row142_col6\" class=\"data row142 col6\" >95.62</td>\n",
       "                        <td id=\"T_37768f52_b498_11ea_8ba3_f01faf2f41a7row142_col7\" class=\"data row142 col7\" >1690</td>\n",
       "                        <td id=\"T_37768f52_b498_11ea_8ba3_f01faf2f41a7row142_col8\" class=\"data row142 col8\" >42</td>\n",
       "                        <td id=\"T_37768f52_b498_11ea_8ba3_f01faf2f41a7row142_col9\" class=\"data row142 col9\" >79</td>\n",
       "                        <td id=\"T_37768f52_b498_11ea_8ba3_f01faf2f41a7row142_col10\" class=\"data row142 col10\" >9490</td>\n",
       "            </tr>\n",
       "            <tr>\n",
       "                        <th id=\"T_37768f52_b498_11ea_8ba3_f01faf2f41a7level0_row143\" class=\"row_heading level0 row143\" >143</th>\n",
       "                        <td id=\"T_37768f52_b498_11ea_8ba3_f01faf2f41a7row143_col0\" class=\"data row143 col0\" >2020-01-30 00:00:00</td>\n",
       "                        <td id=\"T_37768f52_b498_11ea_8ba3_f01faf2f41a7row143_col1\" class=\"data row143 col1\" >8235</td>\n",
       "                        <td id=\"T_37768f52_b498_11ea_8ba3_f01faf2f41a7row143_col2\" class=\"data row143 col2\" >171</td>\n",
       "                        <td id=\"T_37768f52_b498_11ea_8ba3_f01faf2f41a7row143_col3\" class=\"data row143 col3\" >143</td>\n",
       "                        <td id=\"T_37768f52_b498_11ea_8ba3_f01faf2f41a7row143_col4\" class=\"data row143 col4\" >2.08</td>\n",
       "                        <td id=\"T_37768f52_b498_11ea_8ba3_f01faf2f41a7row143_col5\" class=\"data row143 col5\" >1.74</td>\n",
       "                        <td id=\"T_37768f52_b498_11ea_8ba3_f01faf2f41a7row143_col6\" class=\"data row143 col6\" >96.19</td>\n",
       "                        <td id=\"T_37768f52_b498_11ea_8ba3_f01faf2f41a7row143_col7\" class=\"data row143 col7\" >2070</td>\n",
       "                        <td id=\"T_37768f52_b498_11ea_8ba3_f01faf2f41a7row143_col8\" class=\"data row143 col8\" >38</td>\n",
       "                        <td id=\"T_37768f52_b498_11ea_8ba3_f01faf2f41a7row143_col9\" class=\"data row143 col9\" >17</td>\n",
       "                        <td id=\"T_37768f52_b498_11ea_8ba3_f01faf2f41a7row143_col10\" class=\"data row143 col10\" >7921</td>\n",
       "            </tr>\n",
       "            <tr>\n",
       "                        <th id=\"T_37768f52_b498_11ea_8ba3_f01faf2f41a7level0_row144\" class=\"row_heading level0 row144\" >144</th>\n",
       "                        <td id=\"T_37768f52_b498_11ea_8ba3_f01faf2f41a7row144_col0\" class=\"data row144 col0\" >2020-01-29 00:00:00</td>\n",
       "                        <td id=\"T_37768f52_b498_11ea_8ba3_f01faf2f41a7row144_col1\" class=\"data row144 col1\" >6165</td>\n",
       "                        <td id=\"T_37768f52_b498_11ea_8ba3_f01faf2f41a7row144_col2\" class=\"data row144 col2\" >133</td>\n",
       "                        <td id=\"T_37768f52_b498_11ea_8ba3_f01faf2f41a7row144_col3\" class=\"data row144 col3\" >126</td>\n",
       "                        <td id=\"T_37768f52_b498_11ea_8ba3_f01faf2f41a7row144_col4\" class=\"data row144 col4\" >2.16</td>\n",
       "                        <td id=\"T_37768f52_b498_11ea_8ba3_f01faf2f41a7row144_col5\" class=\"data row144 col5\" >2.04</td>\n",
       "                        <td id=\"T_37768f52_b498_11ea_8ba3_f01faf2f41a7row144_col6\" class=\"data row144 col6\" >95.8</td>\n",
       "                        <td id=\"T_37768f52_b498_11ea_8ba3_f01faf2f41a7row144_col7\" class=\"data row144 col7\" >587</td>\n",
       "                        <td id=\"T_37768f52_b498_11ea_8ba3_f01faf2f41a7row144_col8\" class=\"data row144 col8\" >2</td>\n",
       "                        <td id=\"T_37768f52_b498_11ea_8ba3_f01faf2f41a7row144_col9\" class=\"data row144 col9\" >19</td>\n",
       "                        <td id=\"T_37768f52_b498_11ea_8ba3_f01faf2f41a7row144_col10\" class=\"data row144 col10\" >5906</td>\n",
       "            </tr>\n",
       "            <tr>\n",
       "                        <th id=\"T_37768f52_b498_11ea_8ba3_f01faf2f41a7level0_row145\" class=\"row_heading level0 row145\" >145</th>\n",
       "                        <td id=\"T_37768f52_b498_11ea_8ba3_f01faf2f41a7row145_col0\" class=\"data row145 col0\" >2020-01-28 00:00:00</td>\n",
       "                        <td id=\"T_37768f52_b498_11ea_8ba3_f01faf2f41a7row145_col1\" class=\"data row145 col1\" >5578</td>\n",
       "                        <td id=\"T_37768f52_b498_11ea_8ba3_f01faf2f41a7row145_col2\" class=\"data row145 col2\" >131</td>\n",
       "                        <td id=\"T_37768f52_b498_11ea_8ba3_f01faf2f41a7row145_col3\" class=\"data row145 col3\" >107</td>\n",
       "                        <td id=\"T_37768f52_b498_11ea_8ba3_f01faf2f41a7row145_col4\" class=\"data row145 col4\" >2.35</td>\n",
       "                        <td id=\"T_37768f52_b498_11ea_8ba3_f01faf2f41a7row145_col5\" class=\"data row145 col5\" >1.92</td>\n",
       "                        <td id=\"T_37768f52_b498_11ea_8ba3_f01faf2f41a7row145_col6\" class=\"data row145 col6\" >95.73</td>\n",
       "                        <td id=\"T_37768f52_b498_11ea_8ba3_f01faf2f41a7row145_col7\" class=\"data row145 col7\" >2651</td>\n",
       "                        <td id=\"T_37768f52_b498_11ea_8ba3_f01faf2f41a7row145_col8\" class=\"data row145 col8\" >49</td>\n",
       "                        <td id=\"T_37768f52_b498_11ea_8ba3_f01faf2f41a7row145_col9\" class=\"data row145 col9\" >46</td>\n",
       "                        <td id=\"T_37768f52_b498_11ea_8ba3_f01faf2f41a7row145_col10\" class=\"data row145 col10\" >5340</td>\n",
       "            </tr>\n",
       "            <tr>\n",
       "                        <th id=\"T_37768f52_b498_11ea_8ba3_f01faf2f41a7level0_row146\" class=\"row_heading level0 row146\" >146</th>\n",
       "                        <td id=\"T_37768f52_b498_11ea_8ba3_f01faf2f41a7row146_col0\" class=\"data row146 col0\" >2020-01-27 00:00:00</td>\n",
       "                        <td id=\"T_37768f52_b498_11ea_8ba3_f01faf2f41a7row146_col1\" class=\"data row146 col1\" >2927</td>\n",
       "                        <td id=\"T_37768f52_b498_11ea_8ba3_f01faf2f41a7row146_col2\" class=\"data row146 col2\" >82</td>\n",
       "                        <td id=\"T_37768f52_b498_11ea_8ba3_f01faf2f41a7row146_col3\" class=\"data row146 col3\" >61</td>\n",
       "                        <td id=\"T_37768f52_b498_11ea_8ba3_f01faf2f41a7row146_col4\" class=\"data row146 col4\" >2.8</td>\n",
       "                        <td id=\"T_37768f52_b498_11ea_8ba3_f01faf2f41a7row146_col5\" class=\"data row146 col5\" >2.08</td>\n",
       "                        <td id=\"T_37768f52_b498_11ea_8ba3_f01faf2f41a7row146_col6\" class=\"data row146 col6\" >95.11</td>\n",
       "                        <td id=\"T_37768f52_b498_11ea_8ba3_f01faf2f41a7row146_col7\" class=\"data row146 col7\" >809</td>\n",
       "                        <td id=\"T_37768f52_b498_11ea_8ba3_f01faf2f41a7row146_col8\" class=\"data row146 col8\" >26</td>\n",
       "                        <td id=\"T_37768f52_b498_11ea_8ba3_f01faf2f41a7row146_col9\" class=\"data row146 col9\" >9</td>\n",
       "                        <td id=\"T_37768f52_b498_11ea_8ba3_f01faf2f41a7row146_col10\" class=\"data row146 col10\" >2784</td>\n",
       "            </tr>\n",
       "            <tr>\n",
       "                        <th id=\"T_37768f52_b498_11ea_8ba3_f01faf2f41a7level0_row147\" class=\"row_heading level0 row147\" >147</th>\n",
       "                        <td id=\"T_37768f52_b498_11ea_8ba3_f01faf2f41a7row147_col0\" class=\"data row147 col0\" >2020-01-26 00:00:00</td>\n",
       "                        <td id=\"T_37768f52_b498_11ea_8ba3_f01faf2f41a7row147_col1\" class=\"data row147 col1\" >2118</td>\n",
       "                        <td id=\"T_37768f52_b498_11ea_8ba3_f01faf2f41a7row147_col2\" class=\"data row147 col2\" >56</td>\n",
       "                        <td id=\"T_37768f52_b498_11ea_8ba3_f01faf2f41a7row147_col3\" class=\"data row147 col3\" >52</td>\n",
       "                        <td id=\"T_37768f52_b498_11ea_8ba3_f01faf2f41a7row147_col4\" class=\"data row147 col4\" >2.64</td>\n",
       "                        <td id=\"T_37768f52_b498_11ea_8ba3_f01faf2f41a7row147_col5\" class=\"data row147 col5\" >2.46</td>\n",
       "                        <td id=\"T_37768f52_b498_11ea_8ba3_f01faf2f41a7row147_col6\" class=\"data row147 col6\" >94.9</td>\n",
       "                        <td id=\"T_37768f52_b498_11ea_8ba3_f01faf2f41a7row147_col7\" class=\"data row147 col7\" >680</td>\n",
       "                        <td id=\"T_37768f52_b498_11ea_8ba3_f01faf2f41a7row147_col8\" class=\"data row147 col8\" >14</td>\n",
       "                        <td id=\"T_37768f52_b498_11ea_8ba3_f01faf2f41a7row147_col9\" class=\"data row147 col9\" >13</td>\n",
       "                        <td id=\"T_37768f52_b498_11ea_8ba3_f01faf2f41a7row147_col10\" class=\"data row147 col10\" >2010</td>\n",
       "            </tr>\n",
       "            <tr>\n",
       "                        <th id=\"T_37768f52_b498_11ea_8ba3_f01faf2f41a7level0_row148\" class=\"row_heading level0 row148\" >148</th>\n",
       "                        <td id=\"T_37768f52_b498_11ea_8ba3_f01faf2f41a7row148_col0\" class=\"data row148 col0\" >2020-01-25 00:00:00</td>\n",
       "                        <td id=\"T_37768f52_b498_11ea_8ba3_f01faf2f41a7row148_col1\" class=\"data row148 col1\" >1438</td>\n",
       "                        <td id=\"T_37768f52_b498_11ea_8ba3_f01faf2f41a7row148_col2\" class=\"data row148 col2\" >42</td>\n",
       "                        <td id=\"T_37768f52_b498_11ea_8ba3_f01faf2f41a7row148_col3\" class=\"data row148 col3\" >39</td>\n",
       "                        <td id=\"T_37768f52_b498_11ea_8ba3_f01faf2f41a7row148_col4\" class=\"data row148 col4\" >2.92</td>\n",
       "                        <td id=\"T_37768f52_b498_11ea_8ba3_f01faf2f41a7row148_col5\" class=\"data row148 col5\" >2.71</td>\n",
       "                        <td id=\"T_37768f52_b498_11ea_8ba3_f01faf2f41a7row148_col6\" class=\"data row148 col6\" >94.37</td>\n",
       "                        <td id=\"T_37768f52_b498_11ea_8ba3_f01faf2f41a7row148_col7\" class=\"data row148 col7\" >497</td>\n",
       "                        <td id=\"T_37768f52_b498_11ea_8ba3_f01faf2f41a7row148_col8\" class=\"data row148 col8\" >16</td>\n",
       "                        <td id=\"T_37768f52_b498_11ea_8ba3_f01faf2f41a7row148_col9\" class=\"data row148 col9\" >3</td>\n",
       "                        <td id=\"T_37768f52_b498_11ea_8ba3_f01faf2f41a7row148_col10\" class=\"data row148 col10\" >1357</td>\n",
       "            </tr>\n",
       "            <tr>\n",
       "                        <th id=\"T_37768f52_b498_11ea_8ba3_f01faf2f41a7level0_row149\" class=\"row_heading level0 row149\" >149</th>\n",
       "                        <td id=\"T_37768f52_b498_11ea_8ba3_f01faf2f41a7row149_col0\" class=\"data row149 col0\" >2020-01-24 00:00:00</td>\n",
       "                        <td id=\"T_37768f52_b498_11ea_8ba3_f01faf2f41a7row149_col1\" class=\"data row149 col1\" >941</td>\n",
       "                        <td id=\"T_37768f52_b498_11ea_8ba3_f01faf2f41a7row149_col2\" class=\"data row149 col2\" >26</td>\n",
       "                        <td id=\"T_37768f52_b498_11ea_8ba3_f01faf2f41a7row149_col3\" class=\"data row149 col3\" >36</td>\n",
       "                        <td id=\"T_37768f52_b498_11ea_8ba3_f01faf2f41a7row149_col4\" class=\"data row149 col4\" >2.76</td>\n",
       "                        <td id=\"T_37768f52_b498_11ea_8ba3_f01faf2f41a7row149_col5\" class=\"data row149 col5\" >3.83</td>\n",
       "                        <td id=\"T_37768f52_b498_11ea_8ba3_f01faf2f41a7row149_col6\" class=\"data row149 col6\" >93.41</td>\n",
       "                        <td id=\"T_37768f52_b498_11ea_8ba3_f01faf2f41a7row149_col7\" class=\"data row149 col7\" >288</td>\n",
       "                        <td id=\"T_37768f52_b498_11ea_8ba3_f01faf2f41a7row149_col8\" class=\"data row149 col8\" >8</td>\n",
       "                        <td id=\"T_37768f52_b498_11ea_8ba3_f01faf2f41a7row149_col9\" class=\"data row149 col9\" >6</td>\n",
       "                        <td id=\"T_37768f52_b498_11ea_8ba3_f01faf2f41a7row149_col10\" class=\"data row149 col10\" >879</td>\n",
       "            </tr>\n",
       "            <tr>\n",
       "                        <th id=\"T_37768f52_b498_11ea_8ba3_f01faf2f41a7level0_row150\" class=\"row_heading level0 row150\" >150</th>\n",
       "                        <td id=\"T_37768f52_b498_11ea_8ba3_f01faf2f41a7row150_col0\" class=\"data row150 col0\" >2020-01-23 00:00:00</td>\n",
       "                        <td id=\"T_37768f52_b498_11ea_8ba3_f01faf2f41a7row150_col1\" class=\"data row150 col1\" >653</td>\n",
       "                        <td id=\"T_37768f52_b498_11ea_8ba3_f01faf2f41a7row150_col2\" class=\"data row150 col2\" >18</td>\n",
       "                        <td id=\"T_37768f52_b498_11ea_8ba3_f01faf2f41a7row150_col3\" class=\"data row150 col3\" >30</td>\n",
       "                        <td id=\"T_37768f52_b498_11ea_8ba3_f01faf2f41a7row150_col4\" class=\"data row150 col4\" >2.76</td>\n",
       "                        <td id=\"T_37768f52_b498_11ea_8ba3_f01faf2f41a7row150_col5\" class=\"data row150 col5\" >4.59</td>\n",
       "                        <td id=\"T_37768f52_b498_11ea_8ba3_f01faf2f41a7row150_col6\" class=\"data row150 col6\" >92.65</td>\n",
       "                        <td id=\"T_37768f52_b498_11ea_8ba3_f01faf2f41a7row150_col7\" class=\"data row150 col7\" >98</td>\n",
       "                        <td id=\"T_37768f52_b498_11ea_8ba3_f01faf2f41a7row150_col8\" class=\"data row150 col8\" >1</td>\n",
       "                        <td id=\"T_37768f52_b498_11ea_8ba3_f01faf2f41a7row150_col9\" class=\"data row150 col9\" >2</td>\n",
       "                        <td id=\"T_37768f52_b498_11ea_8ba3_f01faf2f41a7row150_col10\" class=\"data row150 col10\" >605</td>\n",
       "            </tr>\n",
       "            <tr>\n",
       "                        <th id=\"T_37768f52_b498_11ea_8ba3_f01faf2f41a7level0_row151\" class=\"row_heading level0 row151\" >151</th>\n",
       "                        <td id=\"T_37768f52_b498_11ea_8ba3_f01faf2f41a7row151_col0\" class=\"data row151 col0\" >2020-01-22 00:00:00</td>\n",
       "                        <td id=\"T_37768f52_b498_11ea_8ba3_f01faf2f41a7row151_col1\" class=\"data row151 col1\" >555</td>\n",
       "                        <td id=\"T_37768f52_b498_11ea_8ba3_f01faf2f41a7row151_col2\" class=\"data row151 col2\" >17</td>\n",
       "                        <td id=\"T_37768f52_b498_11ea_8ba3_f01faf2f41a7row151_col3\" class=\"data row151 col3\" >28</td>\n",
       "                        <td id=\"T_37768f52_b498_11ea_8ba3_f01faf2f41a7row151_col4\" class=\"data row151 col4\" >3.06</td>\n",
       "                        <td id=\"T_37768f52_b498_11ea_8ba3_f01faf2f41a7row151_col5\" class=\"data row151 col5\" >5.05</td>\n",
       "                        <td id=\"T_37768f52_b498_11ea_8ba3_f01faf2f41a7row151_col6\" class=\"data row151 col6\" >91.89</td>\n",
       "                        <td id=\"T_37768f52_b498_11ea_8ba3_f01faf2f41a7row151_col7\" class=\"data row151 col7\" >555</td>\n",
       "                        <td id=\"T_37768f52_b498_11ea_8ba3_f01faf2f41a7row151_col8\" class=\"data row151 col8\" >17</td>\n",
       "                        <td id=\"T_37768f52_b498_11ea_8ba3_f01faf2f41a7row151_col9\" class=\"data row151 col9\" >28</td>\n",
       "                        <td id=\"T_37768f52_b498_11ea_8ba3_f01faf2f41a7row151_col10\" class=\"data row151 col10\" >510</td>\n",
       "            </tr>\n",
       "    </tbody></table>"
      ],
      "text/plain": [
       "<pandas.io.formats.style.Styler at 0x24157997208>"
      ]
     },
     "execution_count": 48,
     "metadata": {},
     "output_type": "execute_result"
    }
   ],
   "source": [
    "df.style.background_gradient(cmap=\"Reds\")\n",
    "\n",
    "\n",
    "#import seaborn as sns\n",
    "\n",
    "#cm = sns.light_palette('green', as_cmap=True)\n",
    "\n",
    "#s = df.style.background_gradient(cmap=cm, low=0, high=1, axis=0)\n",
    "#s\n",
    "\n",
    "#############Don't work"
   ]
  },
  {
   "cell_type": "code",
   "execution_count": 47,
   "metadata": {},
   "outputs": [
    {
     "data": {
      "text/html": [
       "<style  type=\"text/css\" >\n",
       "    #T_08c598ca_b498_11ea_a22b_f01faf2f41a7row0_col0 {\n",
       "            background-color:  #67000d;\n",
       "            color:  #f1f1f1;\n",
       "        }    #T_08c598ca_b498_11ea_a22b_f01faf2f41a7row1_col0 {\n",
       "            background-color:  #6b010e;\n",
       "            color:  #f1f1f1;\n",
       "        }    #T_08c598ca_b498_11ea_a22b_f01faf2f41a7row2_col0 {\n",
       "            background-color:  #6b010e;\n",
       "            color:  #f1f1f1;\n",
       "        }    #T_08c598ca_b498_11ea_a22b_f01faf2f41a7row3_col0 {\n",
       "            background-color:  #75030f;\n",
       "            color:  #f1f1f1;\n",
       "        }    #T_08c598ca_b498_11ea_a22b_f01faf2f41a7row4_col0 {\n",
       "            background-color:  #7a0510;\n",
       "            color:  #f1f1f1;\n",
       "        }    #T_08c598ca_b498_11ea_a22b_f01faf2f41a7row5_col0 {\n",
       "            background-color:  #800610;\n",
       "            color:  #f1f1f1;\n",
       "        }    #T_08c598ca_b498_11ea_a22b_f01faf2f41a7row6_col0 {\n",
       "            background-color:  #860811;\n",
       "            color:  #f1f1f1;\n",
       "        }    #T_08c598ca_b498_11ea_a22b_f01faf2f41a7row7_col0 {\n",
       "            background-color:  #8a0812;\n",
       "            color:  #f1f1f1;\n",
       "        }    #T_08c598ca_b498_11ea_a22b_f01faf2f41a7row8_col0 {\n",
       "            background-color:  #920a13;\n",
       "            color:  #f1f1f1;\n",
       "        }    #T_08c598ca_b498_11ea_a22b_f01faf2f41a7row9_col0 {\n",
       "            background-color:  #980c13;\n",
       "            color:  #f1f1f1;\n",
       "        }    #T_08c598ca_b498_11ea_a22b_f01faf2f41a7row10_col0 {\n",
       "            background-color:  #9d0d14;\n",
       "            color:  #f1f1f1;\n",
       "        }    #T_08c598ca_b498_11ea_a22b_f01faf2f41a7row11_col0 {\n",
       "            background-color:  #a50f15;\n",
       "            color:  #f1f1f1;\n",
       "        }    #T_08c598ca_b498_11ea_a22b_f01faf2f41a7row12_col0 {\n",
       "            background-color:  #a60f15;\n",
       "            color:  #f1f1f1;\n",
       "        }    #T_08c598ca_b498_11ea_a22b_f01faf2f41a7row13_col0 {\n",
       "            background-color:  #a81016;\n",
       "            color:  #f1f1f1;\n",
       "        }    #T_08c598ca_b498_11ea_a22b_f01faf2f41a7row14_col0 {\n",
       "            background-color:  #aa1016;\n",
       "            color:  #f1f1f1;\n",
       "        }    #T_08c598ca_b498_11ea_a22b_f01faf2f41a7row15_col0 {\n",
       "            background-color:  #ab1016;\n",
       "            color:  #f1f1f1;\n",
       "        }    #T_08c598ca_b498_11ea_a22b_f01faf2f41a7row16_col0 {\n",
       "            background-color:  #ad1117;\n",
       "            color:  #f1f1f1;\n",
       "        }    #T_08c598ca_b498_11ea_a22b_f01faf2f41a7row17_col0 {\n",
       "            background-color:  #ad1117;\n",
       "            color:  #f1f1f1;\n",
       "        }    #T_08c598ca_b498_11ea_a22b_f01faf2f41a7row18_col0 {\n",
       "            background-color:  #b21218;\n",
       "            color:  #f1f1f1;\n",
       "        }    #T_08c598ca_b498_11ea_a22b_f01faf2f41a7row19_col0 {\n",
       "            background-color:  #b61319;\n",
       "            color:  #f1f1f1;\n",
       "        }    #T_08c598ca_b498_11ea_a22b_f01faf2f41a7row20_col0 {\n",
       "            background-color:  #bc141a;\n",
       "            color:  #f1f1f1;\n",
       "        }    #T_08c598ca_b498_11ea_a22b_f01faf2f41a7row21_col0 {\n",
       "            background-color:  #be151a;\n",
       "            color:  #f1f1f1;\n",
       "        }    #T_08c598ca_b498_11ea_a22b_f01faf2f41a7row22_col0 {\n",
       "            background-color:  #c1161b;\n",
       "            color:  #f1f1f1;\n",
       "        }    #T_08c598ca_b498_11ea_a22b_f01faf2f41a7row23_col0 {\n",
       "            background-color:  #c5171c;\n",
       "            color:  #f1f1f1;\n",
       "        }    #T_08c598ca_b498_11ea_a22b_f01faf2f41a7row24_col0 {\n",
       "            background-color:  #c8171c;\n",
       "            color:  #f1f1f1;\n",
       "        }    #T_08c598ca_b498_11ea_a22b_f01faf2f41a7row25_col0 {\n",
       "            background-color:  #cb181d;\n",
       "            color:  #f1f1f1;\n",
       "        }    #T_08c598ca_b498_11ea_a22b_f01faf2f41a7row26_col0 {\n",
       "            background-color:  #ce1a1e;\n",
       "            color:  #f1f1f1;\n",
       "        }    #T_08c598ca_b498_11ea_a22b_f01faf2f41a7row27_col0 {\n",
       "            background-color:  #d01d1f;\n",
       "            color:  #f1f1f1;\n",
       "        }    #T_08c598ca_b498_11ea_a22b_f01faf2f41a7row28_col0 {\n",
       "            background-color:  #d21f20;\n",
       "            color:  #f1f1f1;\n",
       "        }    #T_08c598ca_b498_11ea_a22b_f01faf2f41a7row29_col0 {\n",
       "            background-color:  #d42121;\n",
       "            color:  #f1f1f1;\n",
       "        }    #T_08c598ca_b498_11ea_a22b_f01faf2f41a7row30_col0 {\n",
       "            background-color:  #d82422;\n",
       "            color:  #f1f1f1;\n",
       "        }    #T_08c598ca_b498_11ea_a22b_f01faf2f41a7row31_col0 {\n",
       "            background-color:  #d82422;\n",
       "            color:  #f1f1f1;\n",
       "        }    #T_08c598ca_b498_11ea_a22b_f01faf2f41a7row32_col0 {\n",
       "            background-color:  #db2824;\n",
       "            color:  #f1f1f1;\n",
       "        }    #T_08c598ca_b498_11ea_a22b_f01faf2f41a7row33_col0 {\n",
       "            background-color:  #dd2a25;\n",
       "            color:  #f1f1f1;\n",
       "        }    #T_08c598ca_b498_11ea_a22b_f01faf2f41a7row34_col0 {\n",
       "            background-color:  #e12d26;\n",
       "            color:  #f1f1f1;\n",
       "        }    #T_08c598ca_b498_11ea_a22b_f01faf2f41a7row35_col0 {\n",
       "            background-color:  #e32f27;\n",
       "            color:  #f1f1f1;\n",
       "        }    #T_08c598ca_b498_11ea_a22b_f01faf2f41a7row36_col0 {\n",
       "            background-color:  #e53228;\n",
       "            color:  #f1f1f1;\n",
       "        }    #T_08c598ca_b498_11ea_a22b_f01faf2f41a7row37_col0 {\n",
       "            background-color:  #e83429;\n",
       "            color:  #f1f1f1;\n",
       "        }    #T_08c598ca_b498_11ea_a22b_f01faf2f41a7row38_col0 {\n",
       "            background-color:  #eb372a;\n",
       "            color:  #f1f1f1;\n",
       "        }    #T_08c598ca_b498_11ea_a22b_f01faf2f41a7row39_col0 {\n",
       "            background-color:  #ee3a2c;\n",
       "            color:  #f1f1f1;\n",
       "        }    #T_08c598ca_b498_11ea_a22b_f01faf2f41a7row40_col0 {\n",
       "            background-color:  #f03d2d;\n",
       "            color:  #f1f1f1;\n",
       "        }    #T_08c598ca_b498_11ea_a22b_f01faf2f41a7row41_col0 {\n",
       "            background-color:  #f0402f;\n",
       "            color:  #f1f1f1;\n",
       "        }    #T_08c598ca_b498_11ea_a22b_f01faf2f41a7row42_col0 {\n",
       "            background-color:  #f14331;\n",
       "            color:  #f1f1f1;\n",
       "        }    #T_08c598ca_b498_11ea_a22b_f01faf2f41a7row43_col0 {\n",
       "            background-color:  #f24734;\n",
       "            color:  #000000;\n",
       "        }    #T_08c598ca_b498_11ea_a22b_f01faf2f41a7row44_col0 {\n",
       "            background-color:  #f34935;\n",
       "            color:  #000000;\n",
       "        }    #T_08c598ca_b498_11ea_a22b_f01faf2f41a7row45_col0 {\n",
       "            background-color:  #f44f39;\n",
       "            color:  #000000;\n",
       "        }    #T_08c598ca_b498_11ea_a22b_f01faf2f41a7row46_col0 {\n",
       "            background-color:  #f5523a;\n",
       "            color:  #000000;\n",
       "        }    #T_08c598ca_b498_11ea_a22b_f01faf2f41a7row47_col0 {\n",
       "            background-color:  #f6563d;\n",
       "            color:  #000000;\n",
       "        }    #T_08c598ca_b498_11ea_a22b_f01faf2f41a7row48_col0 {\n",
       "            background-color:  #f7593f;\n",
       "            color:  #000000;\n",
       "        }    #T_08c598ca_b498_11ea_a22b_f01faf2f41a7row49_col0 {\n",
       "            background-color:  #f85d42;\n",
       "            color:  #000000;\n",
       "        }    #T_08c598ca_b498_11ea_a22b_f01faf2f41a7row50_col0 {\n",
       "            background-color:  #f96044;\n",
       "            color:  #000000;\n",
       "        }    #T_08c598ca_b498_11ea_a22b_f01faf2f41a7row51_col0 {\n",
       "            background-color:  #fa6547;\n",
       "            color:  #000000;\n",
       "        }    #T_08c598ca_b498_11ea_a22b_f01faf2f41a7row52_col0 {\n",
       "            background-color:  #fb694a;\n",
       "            color:  #000000;\n",
       "        }    #T_08c598ca_b498_11ea_a22b_f01faf2f41a7row53_col0 {\n",
       "            background-color:  #fb6b4b;\n",
       "            color:  #000000;\n",
       "        }    #T_08c598ca_b498_11ea_a22b_f01faf2f41a7row54_col0 {\n",
       "            background-color:  #fb6c4c;\n",
       "            color:  #000000;\n",
       "        }    #T_08c598ca_b498_11ea_a22b_f01faf2f41a7row55_col0 {\n",
       "            background-color:  #fb6e4e;\n",
       "            color:  #000000;\n",
       "        }    #T_08c598ca_b498_11ea_a22b_f01faf2f41a7row56_col0 {\n",
       "            background-color:  #fb7252;\n",
       "            color:  #000000;\n",
       "        }    #T_08c598ca_b498_11ea_a22b_f01faf2f41a7row57_col0 {\n",
       "            background-color:  #fb7353;\n",
       "            color:  #000000;\n",
       "        }    #T_08c598ca_b498_11ea_a22b_f01faf2f41a7row58_col0 {\n",
       "            background-color:  #fb7858;\n",
       "            color:  #000000;\n",
       "        }    #T_08c598ca_b498_11ea_a22b_f01faf2f41a7row59_col0 {\n",
       "            background-color:  #fb7b5b;\n",
       "            color:  #000000;\n",
       "        }    #T_08c598ca_b498_11ea_a22b_f01faf2f41a7row60_col0 {\n",
       "            background-color:  #fc8060;\n",
       "            color:  #000000;\n",
       "        }    #T_08c598ca_b498_11ea_a22b_f01faf2f41a7row61_col0 {\n",
       "            background-color:  #fc8262;\n",
       "            color:  #000000;\n",
       "        }    #T_08c598ca_b498_11ea_a22b_f01faf2f41a7row62_col0 {\n",
       "            background-color:  #fc8565;\n",
       "            color:  #000000;\n",
       "        }    #T_08c598ca_b498_11ea_a22b_f01faf2f41a7row63_col0 {\n",
       "            background-color:  #fc8969;\n",
       "            color:  #000000;\n",
       "        }    #T_08c598ca_b498_11ea_a22b_f01faf2f41a7row64_col0 {\n",
       "            background-color:  #fc8d6d;\n",
       "            color:  #000000;\n",
       "        }    #T_08c598ca_b498_11ea_a22b_f01faf2f41a7row65_col0 {\n",
       "            background-color:  #fc9070;\n",
       "            color:  #000000;\n",
       "        }    #T_08c598ca_b498_11ea_a22b_f01faf2f41a7row66_col0 {\n",
       "            background-color:  #fc9474;\n",
       "            color:  #000000;\n",
       "        }    #T_08c598ca_b498_11ea_a22b_f01faf2f41a7row67_col0 {\n",
       "            background-color:  #fc997a;\n",
       "            color:  #000000;\n",
       "        }    #T_08c598ca_b498_11ea_a22b_f01faf2f41a7row68_col0 {\n",
       "            background-color:  #fc9c7d;\n",
       "            color:  #000000;\n",
       "        }    #T_08c598ca_b498_11ea_a22b_f01faf2f41a7row69_col0 {\n",
       "            background-color:  #fca082;\n",
       "            color:  #000000;\n",
       "        }    #T_08c598ca_b498_11ea_a22b_f01faf2f41a7row70_col0 {\n",
       "            background-color:  #fca285;\n",
       "            color:  #000000;\n",
       "        }    #T_08c598ca_b498_11ea_a22b_f01faf2f41a7row71_col0 {\n",
       "            background-color:  #fca689;\n",
       "            color:  #000000;\n",
       "        }    #T_08c598ca_b498_11ea_a22b_f01faf2f41a7row72_col0 {\n",
       "            background-color:  #fcaa8d;\n",
       "            color:  #000000;\n",
       "        }    #T_08c598ca_b498_11ea_a22b_f01faf2f41a7row73_col0 {\n",
       "            background-color:  #fcb095;\n",
       "            color:  #000000;\n",
       "        }    #T_08c598ca_b498_11ea_a22b_f01faf2f41a7row74_col0 {\n",
       "            background-color:  #fcb499;\n",
       "            color:  #000000;\n",
       "        }    #T_08c598ca_b498_11ea_a22b_f01faf2f41a7row75_col0 {\n",
       "            background-color:  #fcb89e;\n",
       "            color:  #000000;\n",
       "        }    #T_08c598ca_b498_11ea_a22b_f01faf2f41a7row76_col0 {\n",
       "            background-color:  #fcbca2;\n",
       "            color:  #000000;\n",
       "        }    #T_08c598ca_b498_11ea_a22b_f01faf2f41a7row77_col0 {\n",
       "            background-color:  #fcbfa7;\n",
       "            color:  #000000;\n",
       "        }    #T_08c598ca_b498_11ea_a22b_f01faf2f41a7row78_col0 {\n",
       "            background-color:  #fcc4ad;\n",
       "            color:  #000000;\n",
       "        }    #T_08c598ca_b498_11ea_a22b_f01faf2f41a7row79_col0 {\n",
       "            background-color:  #fdc9b3;\n",
       "            color:  #000000;\n",
       "        }    #T_08c598ca_b498_11ea_a22b_f01faf2f41a7row80_col0 {\n",
       "            background-color:  #fdcdb9;\n",
       "            color:  #000000;\n",
       "        }    #T_08c598ca_b498_11ea_a22b_f01faf2f41a7row81_col0 {\n",
       "            background-color:  #fdd1be;\n",
       "            color:  #000000;\n",
       "        }    #T_08c598ca_b498_11ea_a22b_f01faf2f41a7row82_col0 {\n",
       "            background-color:  #fdd7c6;\n",
       "            color:  #000000;\n",
       "        }    #T_08c598ca_b498_11ea_a22b_f01faf2f41a7row83_col0 {\n",
       "            background-color:  #fedaca;\n",
       "            color:  #000000;\n",
       "        }    #T_08c598ca_b498_11ea_a22b_f01faf2f41a7row84_col0 {\n",
       "            background-color:  #fedecf;\n",
       "            color:  #000000;\n",
       "        }    #T_08c598ca_b498_11ea_a22b_f01faf2f41a7row85_col0 {\n",
       "            background-color:  #fee1d3;\n",
       "            color:  #000000;\n",
       "        }    #T_08c598ca_b498_11ea_a22b_f01faf2f41a7row86_col0 {\n",
       "            background-color:  #fee3d7;\n",
       "            color:  #000000;\n",
       "        }    #T_08c598ca_b498_11ea_a22b_f01faf2f41a7row87_col0 {\n",
       "            background-color:  #fee5d9;\n",
       "            color:  #000000;\n",
       "        }    #T_08c598ca_b498_11ea_a22b_f01faf2f41a7row88_col0 {\n",
       "            background-color:  #fee7dc;\n",
       "            color:  #000000;\n",
       "        }    #T_08c598ca_b498_11ea_a22b_f01faf2f41a7row89_col0 {\n",
       "            background-color:  #fee9df;\n",
       "            color:  #000000;\n",
       "        }    #T_08c598ca_b498_11ea_a22b_f01faf2f41a7row90_col0 {\n",
       "            background-color:  #feeae1;\n",
       "            color:  #000000;\n",
       "        }    #T_08c598ca_b498_11ea_a22b_f01faf2f41a7row91_col0 {\n",
       "            background-color:  #ffece3;\n",
       "            color:  #000000;\n",
       "        }    #T_08c598ca_b498_11ea_a22b_f01faf2f41a7row92_col0 {\n",
       "            background-color:  #ffede5;\n",
       "            color:  #000000;\n",
       "        }    #T_08c598ca_b498_11ea_a22b_f01faf2f41a7row93_col0 {\n",
       "            background-color:  #ffeee6;\n",
       "            color:  #000000;\n",
       "        }    #T_08c598ca_b498_11ea_a22b_f01faf2f41a7row94_col0 {\n",
       "            background-color:  #ffefe8;\n",
       "            color:  #000000;\n",
       "        }    #T_08c598ca_b498_11ea_a22b_f01faf2f41a7row95_col0 {\n",
       "            background-color:  #fff0e9;\n",
       "            color:  #000000;\n",
       "        }    #T_08c598ca_b498_11ea_a22b_f01faf2f41a7row96_col0 {\n",
       "            background-color:  #fff1ea;\n",
       "            color:  #000000;\n",
       "        }    #T_08c598ca_b498_11ea_a22b_f01faf2f41a7row97_col0 {\n",
       "            background-color:  #fff1ea;\n",
       "            color:  #000000;\n",
       "        }    #T_08c598ca_b498_11ea_a22b_f01faf2f41a7row98_col0 {\n",
       "            background-color:  #fff2eb;\n",
       "            color:  #000000;\n",
       "        }    #T_08c598ca_b498_11ea_a22b_f01faf2f41a7row99_col0 {\n",
       "            background-color:  #fff2ec;\n",
       "            color:  #000000;\n",
       "        }    #T_08c598ca_b498_11ea_a22b_f01faf2f41a7row100_col0 {\n",
       "            background-color:  #fff2ec;\n",
       "            color:  #000000;\n",
       "        }    #T_08c598ca_b498_11ea_a22b_f01faf2f41a7row101_col0 {\n",
       "            background-color:  #fff3ed;\n",
       "            color:  #000000;\n",
       "        }    #T_08c598ca_b498_11ea_a22b_f01faf2f41a7row102_col0 {\n",
       "            background-color:  #fff3ed;\n",
       "            color:  #000000;\n",
       "        }    #T_08c598ca_b498_11ea_a22b_f01faf2f41a7row103_col0 {\n",
       "            background-color:  #fff3ed;\n",
       "            color:  #000000;\n",
       "        }    #T_08c598ca_b498_11ea_a22b_f01faf2f41a7row104_col0 {\n",
       "            background-color:  #fff3ed;\n",
       "            color:  #000000;\n",
       "        }    #T_08c598ca_b498_11ea_a22b_f01faf2f41a7row105_col0 {\n",
       "            background-color:  #fff3ed;\n",
       "            color:  #000000;\n",
       "        }    #T_08c598ca_b498_11ea_a22b_f01faf2f41a7row106_col0 {\n",
       "            background-color:  #fff3ed;\n",
       "            color:  #000000;\n",
       "        }    #T_08c598ca_b498_11ea_a22b_f01faf2f41a7row107_col0 {\n",
       "            background-color:  #fff3ed;\n",
       "            color:  #000000;\n",
       "        }    #T_08c598ca_b498_11ea_a22b_f01faf2f41a7row108_col0 {\n",
       "            background-color:  #fff3ed;\n",
       "            color:  #000000;\n",
       "        }    #T_08c598ca_b498_11ea_a22b_f01faf2f41a7row109_col0 {\n",
       "            background-color:  #fff3ed;\n",
       "            color:  #000000;\n",
       "        }    #T_08c598ca_b498_11ea_a22b_f01faf2f41a7row110_col0 {\n",
       "            background-color:  #fff3ed;\n",
       "            color:  #000000;\n",
       "        }    #T_08c598ca_b498_11ea_a22b_f01faf2f41a7row111_col0 {\n",
       "            background-color:  #fff3ed;\n",
       "            color:  #000000;\n",
       "        }    #T_08c598ca_b498_11ea_a22b_f01faf2f41a7row112_col0 {\n",
       "            background-color:  #fff3ed;\n",
       "            color:  #000000;\n",
       "        }    #T_08c598ca_b498_11ea_a22b_f01faf2f41a7row113_col0 {\n",
       "            background-color:  #fff3ed;\n",
       "            color:  #000000;\n",
       "        }    #T_08c598ca_b498_11ea_a22b_f01faf2f41a7row114_col0 {\n",
       "            background-color:  #fff3ed;\n",
       "            color:  #000000;\n",
       "        }    #T_08c598ca_b498_11ea_a22b_f01faf2f41a7row115_col0 {\n",
       "            background-color:  #fff3ed;\n",
       "            color:  #000000;\n",
       "        }    #T_08c598ca_b498_11ea_a22b_f01faf2f41a7row116_col0 {\n",
       "            background-color:  #fff3ed;\n",
       "            color:  #000000;\n",
       "        }    #T_08c598ca_b498_11ea_a22b_f01faf2f41a7row117_col0 {\n",
       "            background-color:  #fff3ed;\n",
       "            color:  #000000;\n",
       "        }    #T_08c598ca_b498_11ea_a22b_f01faf2f41a7row118_col0 {\n",
       "            background-color:  #fff4ee;\n",
       "            color:  #000000;\n",
       "        }    #T_08c598ca_b498_11ea_a22b_f01faf2f41a7row119_col0 {\n",
       "            background-color:  #fff4ee;\n",
       "            color:  #000000;\n",
       "        }    #T_08c598ca_b498_11ea_a22b_f01faf2f41a7row120_col0 {\n",
       "            background-color:  #fff4ee;\n",
       "            color:  #000000;\n",
       "        }    #T_08c598ca_b498_11ea_a22b_f01faf2f41a7row121_col0 {\n",
       "            background-color:  #fff4ee;\n",
       "            color:  #000000;\n",
       "        }    #T_08c598ca_b498_11ea_a22b_f01faf2f41a7row122_col0 {\n",
       "            background-color:  #fff4ee;\n",
       "            color:  #000000;\n",
       "        }    #T_08c598ca_b498_11ea_a22b_f01faf2f41a7row123_col0 {\n",
       "            background-color:  #fff4ee;\n",
       "            color:  #000000;\n",
       "        }    #T_08c598ca_b498_11ea_a22b_f01faf2f41a7row124_col0 {\n",
       "            background-color:  #fff4ee;\n",
       "            color:  #000000;\n",
       "        }    #T_08c598ca_b498_11ea_a22b_f01faf2f41a7row125_col0 {\n",
       "            background-color:  #fff4ee;\n",
       "            color:  #000000;\n",
       "        }    #T_08c598ca_b498_11ea_a22b_f01faf2f41a7row126_col0 {\n",
       "            background-color:  #fff4ee;\n",
       "            color:  #000000;\n",
       "        }    #T_08c598ca_b498_11ea_a22b_f01faf2f41a7row127_col0 {\n",
       "            background-color:  #fff4ee;\n",
       "            color:  #000000;\n",
       "        }    #T_08c598ca_b498_11ea_a22b_f01faf2f41a7row128_col0 {\n",
       "            background-color:  #fff4ee;\n",
       "            color:  #000000;\n",
       "        }    #T_08c598ca_b498_11ea_a22b_f01faf2f41a7row129_col0 {\n",
       "            background-color:  #fff4ee;\n",
       "            color:  #000000;\n",
       "        }    #T_08c598ca_b498_11ea_a22b_f01faf2f41a7row130_col0 {\n",
       "            background-color:  #fff4ee;\n",
       "            color:  #000000;\n",
       "        }    #T_08c598ca_b498_11ea_a22b_f01faf2f41a7row131_col0 {\n",
       "            background-color:  #fff4ee;\n",
       "            color:  #000000;\n",
       "        }    #T_08c598ca_b498_11ea_a22b_f01faf2f41a7row132_col0 {\n",
       "            background-color:  #fff4ee;\n",
       "            color:  #000000;\n",
       "        }    #T_08c598ca_b498_11ea_a22b_f01faf2f41a7row133_col0 {\n",
       "            background-color:  #fff4ee;\n",
       "            color:  #000000;\n",
       "        }    #T_08c598ca_b498_11ea_a22b_f01faf2f41a7row134_col0 {\n",
       "            background-color:  #fff4ee;\n",
       "            color:  #000000;\n",
       "        }    #T_08c598ca_b498_11ea_a22b_f01faf2f41a7row135_col0 {\n",
       "            background-color:  #fff4ef;\n",
       "            color:  #000000;\n",
       "        }    #T_08c598ca_b498_11ea_a22b_f01faf2f41a7row136_col0 {\n",
       "            background-color:  #fff4ef;\n",
       "            color:  #000000;\n",
       "        }    #T_08c598ca_b498_11ea_a22b_f01faf2f41a7row137_col0 {\n",
       "            background-color:  #fff4ef;\n",
       "            color:  #000000;\n",
       "        }    #T_08c598ca_b498_11ea_a22b_f01faf2f41a7row138_col0 {\n",
       "            background-color:  #fff4ef;\n",
       "            color:  #000000;\n",
       "        }    #T_08c598ca_b498_11ea_a22b_f01faf2f41a7row139_col0 {\n",
       "            background-color:  #fff4ef;\n",
       "            color:  #000000;\n",
       "        }    #T_08c598ca_b498_11ea_a22b_f01faf2f41a7row140_col0 {\n",
       "            background-color:  #fff5f0;\n",
       "            color:  #000000;\n",
       "        }    #T_08c598ca_b498_11ea_a22b_f01faf2f41a7row141_col0 {\n",
       "            background-color:  #fff5f0;\n",
       "            color:  #000000;\n",
       "        }    #T_08c598ca_b498_11ea_a22b_f01faf2f41a7row142_col0 {\n",
       "            background-color:  #fff5f0;\n",
       "            color:  #000000;\n",
       "        }    #T_08c598ca_b498_11ea_a22b_f01faf2f41a7row143_col0 {\n",
       "            background-color:  #fff5f0;\n",
       "            color:  #000000;\n",
       "        }    #T_08c598ca_b498_11ea_a22b_f01faf2f41a7row144_col0 {\n",
       "            background-color:  #fff5f0;\n",
       "            color:  #000000;\n",
       "        }    #T_08c598ca_b498_11ea_a22b_f01faf2f41a7row145_col0 {\n",
       "            background-color:  #fff5f0;\n",
       "            color:  #000000;\n",
       "        }    #T_08c598ca_b498_11ea_a22b_f01faf2f41a7row146_col0 {\n",
       "            background-color:  #fff5f0;\n",
       "            color:  #000000;\n",
       "        }    #T_08c598ca_b498_11ea_a22b_f01faf2f41a7row147_col0 {\n",
       "            background-color:  #fff5f0;\n",
       "            color:  #000000;\n",
       "        }    #T_08c598ca_b498_11ea_a22b_f01faf2f41a7row148_col0 {\n",
       "            background-color:  #fff5f0;\n",
       "            color:  #000000;\n",
       "        }    #T_08c598ca_b498_11ea_a22b_f01faf2f41a7row149_col0 {\n",
       "            background-color:  #fff5f0;\n",
       "            color:  #000000;\n",
       "        }    #T_08c598ca_b498_11ea_a22b_f01faf2f41a7row150_col0 {\n",
       "            background-color:  #fff5f0;\n",
       "            color:  #000000;\n",
       "        }    #T_08c598ca_b498_11ea_a22b_f01faf2f41a7row151_col0 {\n",
       "            background-color:  #fff5f0;\n",
       "            color:  #000000;\n",
       "        }</style><table id=\"T_08c598ca_b498_11ea_a22b_f01faf2f41a7\" ><thead>    <tr>        <th class=\"blank level0\" ></th>        <th class=\"col_heading level0 col0\" >T_Active_Cases</th>    </tr>    <tr>        <th class=\"index_name level0\" >Date</th>        <th class=\"blank\" ></th>    </tr></thead><tbody>\n",
       "                <tr>\n",
       "                        <th id=\"T_08c598ca_b498_11ea_a22b_f01faf2f41a7level0_row0\" class=\"row_heading level0 row0\" >2020-06-21 00:00:00</th>\n",
       "                        <td id=\"T_08c598ca_b498_11ea_a22b_f01faf2f41a7row0_col0\" class=\"data row0 col0\" >3993453</td>\n",
       "            </tr>\n",
       "            <tr>\n",
       "                        <th id=\"T_08c598ca_b498_11ea_a22b_f01faf2f41a7level0_row1\" class=\"row_heading level0 row1\" >2020-06-19 00:00:00</th>\n",
       "                        <td id=\"T_08c598ca_b498_11ea_a22b_f01faf2f41a7row1_col0\" class=\"data row1 col0\" >3962184</td>\n",
       "            </tr>\n",
       "            <tr>\n",
       "                        <th id=\"T_08c598ca_b498_11ea_a22b_f01faf2f41a7level0_row2\" class=\"row_heading level0 row2\" >2020-06-20 00:00:00</th>\n",
       "                        <td id=\"T_08c598ca_b498_11ea_a22b_f01faf2f41a7row2_col0\" class=\"data row2 col0\" >3952230</td>\n",
       "            </tr>\n",
       "            <tr>\n",
       "                        <th id=\"T_08c598ca_b498_11ea_a22b_f01faf2f41a7level0_row3\" class=\"row_heading level0 row3\" >2020-06-18 00:00:00</th>\n",
       "                        <td id=\"T_08c598ca_b498_11ea_a22b_f01faf2f41a7row3_col0\" class=\"data row3 col0\" >3882700</td>\n",
       "            </tr>\n",
       "            <tr>\n",
       "                        <th id=\"T_08c598ca_b498_11ea_a22b_f01faf2f41a7level0_row4\" class=\"row_heading level0 row4\" >2020-06-17 00:00:00</th>\n",
       "                        <td id=\"T_08c598ca_b498_11ea_a22b_f01faf2f41a7row4_col0\" class=\"data row4 col0\" >3829698</td>\n",
       "            </tr>\n",
       "            <tr>\n",
       "                        <th id=\"T_08c598ca_b498_11ea_a22b_f01faf2f41a7level0_row5\" class=\"row_heading level0 row5\" >2020-06-16 00:00:00</th>\n",
       "                        <td id=\"T_08c598ca_b498_11ea_a22b_f01faf2f41a7row5_col0\" class=\"data row5 col0\" >3777653</td>\n",
       "            </tr>\n",
       "            <tr>\n",
       "                        <th id=\"T_08c598ca_b498_11ea_a22b_f01faf2f41a7level0_row6\" class=\"row_heading level0 row6\" >2020-06-15 00:00:00</th>\n",
       "                        <td id=\"T_08c598ca_b498_11ea_a22b_f01faf2f41a7row6_col0\" class=\"data row6 col0\" >3742181</td>\n",
       "            </tr>\n",
       "            <tr>\n",
       "                        <th id=\"T_08c598ca_b498_11ea_a22b_f01faf2f41a7level0_row7\" class=\"row_heading level0 row7\" >2020-06-14 00:00:00</th>\n",
       "                        <td id=\"T_08c598ca_b498_11ea_a22b_f01faf2f41a7row7_col0\" class=\"data row7 col0\" >3700263</td>\n",
       "            </tr>\n",
       "            <tr>\n",
       "                        <th id=\"T_08c598ca_b498_11ea_a22b_f01faf2f41a7level0_row8\" class=\"row_heading level0 row8\" >2020-06-13 00:00:00</th>\n",
       "                        <td id=\"T_08c598ca_b498_11ea_a22b_f01faf2f41a7row8_col0\" class=\"data row8 col0\" >3640929</td>\n",
       "            </tr>\n",
       "            <tr>\n",
       "                        <th id=\"T_08c598ca_b498_11ea_a22b_f01faf2f41a7level0_row9\" class=\"row_heading level0 row9\" >2020-06-12 00:00:00</th>\n",
       "                        <td id=\"T_08c598ca_b498_11ea_a22b_f01faf2f41a7row9_col0\" class=\"data row9 col0\" >3596046</td>\n",
       "            </tr>\n",
       "            <tr>\n",
       "                        <th id=\"T_08c598ca_b498_11ea_a22b_f01faf2f41a7level0_row10\" class=\"row_heading level0 row10\" >2020-06-11 00:00:00</th>\n",
       "                        <td id=\"T_08c598ca_b498_11ea_a22b_f01faf2f41a7row10_col0\" class=\"data row10 col0\" >3554269</td>\n",
       "            </tr>\n",
       "            <tr>\n",
       "                        <th id=\"T_08c598ca_b498_11ea_a22b_f01faf2f41a7level0_row11\" class=\"row_heading level0 row11\" >2020-06-10 00:00:00</th>\n",
       "                        <td id=\"T_08c598ca_b498_11ea_a22b_f01faf2f41a7row11_col0\" class=\"data row11 col0\" >3490951</td>\n",
       "            </tr>\n",
       "            <tr>\n",
       "                        <th id=\"T_08c598ca_b498_11ea_a22b_f01faf2f41a7level0_row12\" class=\"row_heading level0 row12\" >2020-06-07 00:00:00</th>\n",
       "                        <td id=\"T_08c598ca_b498_11ea_a22b_f01faf2f41a7row12_col0\" class=\"data row12 col0\" >3468326</td>\n",
       "            </tr>\n",
       "            <tr>\n",
       "                        <th id=\"T_08c598ca_b498_11ea_a22b_f01faf2f41a7level0_row13\" class=\"row_heading level0 row13\" >2020-06-09 00:00:00</th>\n",
       "                        <td id=\"T_08c598ca_b498_11ea_a22b_f01faf2f41a7row13_col0\" class=\"data row13 col0\" >3456806</td>\n",
       "            </tr>\n",
       "            <tr>\n",
       "                        <th id=\"T_08c598ca_b498_11ea_a22b_f01faf2f41a7level0_row14\" class=\"row_heading level0 row14\" >2020-06-08 00:00:00</th>\n",
       "                        <td id=\"T_08c598ca_b498_11ea_a22b_f01faf2f41a7row14_col0\" class=\"data row14 col0\" >3420387</td>\n",
       "            </tr>\n",
       "            <tr>\n",
       "                        <th id=\"T_08c598ca_b498_11ea_a22b_f01faf2f41a7level0_row15\" class=\"row_heading level0 row15\" >2020-06-06 00:00:00</th>\n",
       "                        <td id=\"T_08c598ca_b498_11ea_a22b_f01faf2f41a7row15_col0\" class=\"data row15 col0\" >3412478</td>\n",
       "            </tr>\n",
       "            <tr>\n",
       "                        <th id=\"T_08c598ca_b498_11ea_a22b_f01faf2f41a7level0_row16\" class=\"row_heading level0 row16\" >2020-06-05 00:00:00</th>\n",
       "                        <td id=\"T_08c598ca_b498_11ea_a22b_f01faf2f41a7row16_col0\" class=\"data row16 col0\" >3373924</td>\n",
       "            </tr>\n",
       "            <tr>\n",
       "                        <th id=\"T_08c598ca_b498_11ea_a22b_f01faf2f41a7level0_row17\" class=\"row_heading level0 row17\" >2020-06-04 00:00:00</th>\n",
       "                        <td id=\"T_08c598ca_b498_11ea_a22b_f01faf2f41a7row17_col0\" class=\"data row17 col0\" >3373228</td>\n",
       "            </tr>\n",
       "            <tr>\n",
       "                        <th id=\"T_08c598ca_b498_11ea_a22b_f01faf2f41a7level0_row18\" class=\"row_heading level0 row18\" >2020-06-03 00:00:00</th>\n",
       "                        <td id=\"T_08c598ca_b498_11ea_a22b_f01faf2f41a7row18_col0\" class=\"data row18 col0\" >3315474</td>\n",
       "            </tr>\n",
       "            <tr>\n",
       "                        <th id=\"T_08c598ca_b498_11ea_a22b_f01faf2f41a7level0_row19\" class=\"row_heading level0 row19\" >2020-06-02 00:00:00</th>\n",
       "                        <td id=\"T_08c598ca_b498_11ea_a22b_f01faf2f41a7row19_col0\" class=\"data row19 col0\" >3269740</td>\n",
       "            </tr>\n",
       "            <tr>\n",
       "                        <th id=\"T_08c598ca_b498_11ea_a22b_f01faf2f41a7level0_row20\" class=\"row_heading level0 row20\" >2020-06-01 00:00:00</th>\n",
       "                        <td id=\"T_08c598ca_b498_11ea_a22b_f01faf2f41a7row20_col0\" class=\"data row20 col0\" >3195232</td>\n",
       "            </tr>\n",
       "            <tr>\n",
       "                        <th id=\"T_08c598ca_b498_11ea_a22b_f01faf2f41a7level0_row21\" class=\"row_heading level0 row21\" >2020-05-31 00:00:00</th>\n",
       "                        <td id=\"T_08c598ca_b498_11ea_a22b_f01faf2f41a7row21_col0\" class=\"data row21 col0\" >3154368</td>\n",
       "            </tr>\n",
       "            <tr>\n",
       "                        <th id=\"T_08c598ca_b498_11ea_a22b_f01faf2f41a7level0_row22\" class=\"row_heading level0 row22\" >2020-05-30 00:00:00</th>\n",
       "                        <td id=\"T_08c598ca_b498_11ea_a22b_f01faf2f41a7row22_col0\" class=\"data row22 col0\" >3125977</td>\n",
       "            </tr>\n",
       "            <tr>\n",
       "                        <th id=\"T_08c598ca_b498_11ea_a22b_f01faf2f41a7level0_row23\" class=\"row_heading level0 row23\" >2020-05-29 00:00:00</th>\n",
       "                        <td id=\"T_08c598ca_b498_11ea_a22b_f01faf2f41a7row23_col0\" class=\"data row23 col0\" >3066629</td>\n",
       "            </tr>\n",
       "            <tr>\n",
       "                        <th id=\"T_08c598ca_b498_11ea_a22b_f01faf2f41a7level0_row24\" class=\"row_heading level0 row24\" >2020-05-28 00:00:00</th>\n",
       "                        <td id=\"T_08c598ca_b498_11ea_a22b_f01faf2f41a7row24_col0\" class=\"data row24 col0\" >3033464</td>\n",
       "            </tr>\n",
       "            <tr>\n",
       "                        <th id=\"T_08c598ca_b498_11ea_a22b_f01faf2f41a7level0_row25\" class=\"row_heading level0 row25\" >2020-05-27 00:00:00</th>\n",
       "                        <td id=\"T_08c598ca_b498_11ea_a22b_f01faf2f41a7row25_col0\" class=\"data row25 col0\" >2987321</td>\n",
       "            </tr>\n",
       "            <tr>\n",
       "                        <th id=\"T_08c598ca_b498_11ea_a22b_f01faf2f41a7level0_row26\" class=\"row_heading level0 row26\" >2020-05-26 00:00:00</th>\n",
       "                        <td id=\"T_08c598ca_b498_11ea_a22b_f01faf2f41a7row26_col0\" class=\"data row26 col0\" >2953345</td>\n",
       "            </tr>\n",
       "            <tr>\n",
       "                        <th id=\"T_08c598ca_b498_11ea_a22b_f01faf2f41a7level0_row27\" class=\"row_heading level0 row27\" >2020-05-25 00:00:00</th>\n",
       "                        <td id=\"T_08c598ca_b498_11ea_a22b_f01faf2f41a7row27_col0\" class=\"data row27 col0\" >2918160</td>\n",
       "            </tr>\n",
       "            <tr>\n",
       "                        <th id=\"T_08c598ca_b498_11ea_a22b_f01faf2f41a7level0_row28\" class=\"row_heading level0 row28\" >2020-05-24 00:00:00</th>\n",
       "                        <td id=\"T_08c598ca_b498_11ea_a22b_f01faf2f41a7row28_col0\" class=\"data row28 col0\" >2895010</td>\n",
       "            </tr>\n",
       "            <tr>\n",
       "                        <th id=\"T_08c598ca_b498_11ea_a22b_f01faf2f41a7level0_row29\" class=\"row_heading level0 row29\" >2020-05-23 00:00:00</th>\n",
       "                        <td id=\"T_08c598ca_b498_11ea_a22b_f01faf2f41a7row29_col0\" class=\"data row29 col0\" >2856747</td>\n",
       "            </tr>\n",
       "            <tr>\n",
       "                        <th id=\"T_08c598ca_b498_11ea_a22b_f01faf2f41a7level0_row30\" class=\"row_heading level0 row30\" >2020-05-21 00:00:00</th>\n",
       "                        <td id=\"T_08c598ca_b498_11ea_a22b_f01faf2f41a7row30_col0\" class=\"data row30 col0\" >2821591</td>\n",
       "            </tr>\n",
       "            <tr>\n",
       "                        <th id=\"T_08c598ca_b498_11ea_a22b_f01faf2f41a7level0_row31\" class=\"row_heading level0 row31\" >2020-05-22 00:00:00</th>\n",
       "                        <td id=\"T_08c598ca_b498_11ea_a22b_f01faf2f41a7row31_col0\" class=\"data row31 col0\" >2816812</td>\n",
       "            </tr>\n",
       "            <tr>\n",
       "                        <th id=\"T_08c598ca_b498_11ea_a22b_f01faf2f41a7level0_row32\" class=\"row_heading level0 row32\" >2020-05-20 00:00:00</th>\n",
       "                        <td id=\"T_08c598ca_b498_11ea_a22b_f01faf2f41a7row32_col0\" class=\"data row32 col0\" >2771708</td>\n",
       "            </tr>\n",
       "            <tr>\n",
       "                        <th id=\"T_08c598ca_b498_11ea_a22b_f01faf2f41a7level0_row33\" class=\"row_heading level0 row33\" >2020-05-19 00:00:00</th>\n",
       "                        <td id=\"T_08c598ca_b498_11ea_a22b_f01faf2f41a7row33_col0\" class=\"data row33 col0\" >2736030</td>\n",
       "            </tr>\n",
       "            <tr>\n",
       "                        <th id=\"T_08c598ca_b498_11ea_a22b_f01faf2f41a7level0_row34\" class=\"row_heading level0 row34\" >2020-05-18 00:00:00</th>\n",
       "                        <td id=\"T_08c598ca_b498_11ea_a22b_f01faf2f41a7row34_col0\" class=\"data row34 col0\" >2698402</td>\n",
       "            </tr>\n",
       "            <tr>\n",
       "                        <th id=\"T_08c598ca_b498_11ea_a22b_f01faf2f41a7level0_row35\" class=\"row_heading level0 row35\" >2020-05-17 00:00:00</th>\n",
       "                        <td id=\"T_08c598ca_b498_11ea_a22b_f01faf2f41a7row35_col0\" class=\"data row35 col0\" >2662884</td>\n",
       "            </tr>\n",
       "            <tr>\n",
       "                        <th id=\"T_08c598ca_b498_11ea_a22b_f01faf2f41a7level0_row36\" class=\"row_heading level0 row36\" >2020-05-16 00:00:00</th>\n",
       "                        <td id=\"T_08c598ca_b498_11ea_a22b_f01faf2f41a7row36_col0\" class=\"data row36 col0\" >2629182</td>\n",
       "            </tr>\n",
       "            <tr>\n",
       "                        <th id=\"T_08c598ca_b498_11ea_a22b_f01faf2f41a7level0_row37\" class=\"row_heading level0 row37\" >2020-05-15 00:00:00</th>\n",
       "                        <td id=\"T_08c598ca_b498_11ea_a22b_f01faf2f41a7row37_col0\" class=\"data row37 col0\" >2598452</td>\n",
       "            </tr>\n",
       "            <tr>\n",
       "                        <th id=\"T_08c598ca_b498_11ea_a22b_f01faf2f41a7level0_row38\" class=\"row_heading level0 row38\" >2020-05-14 00:00:00</th>\n",
       "                        <td id=\"T_08c598ca_b498_11ea_a22b_f01faf2f41a7row38_col0\" class=\"data row38 col0\" >2552661</td>\n",
       "            </tr>\n",
       "            <tr>\n",
       "                        <th id=\"T_08c598ca_b498_11ea_a22b_f01faf2f41a7level0_row39\" class=\"row_heading level0 row39\" >2020-05-13 00:00:00</th>\n",
       "                        <td id=\"T_08c598ca_b498_11ea_a22b_f01faf2f41a7row39_col0\" class=\"data row39 col0\" >2502006</td>\n",
       "            </tr>\n",
       "            <tr>\n",
       "                        <th id=\"T_08c598ca_b498_11ea_a22b_f01faf2f41a7level0_row40\" class=\"row_heading level0 row40\" >2020-05-12 00:00:00</th>\n",
       "                        <td id=\"T_08c598ca_b498_11ea_a22b_f01faf2f41a7row40_col0\" class=\"data row40 col0\" >2477394</td>\n",
       "            </tr>\n",
       "            <tr>\n",
       "                        <th id=\"T_08c598ca_b498_11ea_a22b_f01faf2f41a7level0_row41\" class=\"row_heading level0 row41\" >2020-05-11 00:00:00</th>\n",
       "                        <td id=\"T_08c598ca_b498_11ea_a22b_f01faf2f41a7row41_col0\" class=\"data row41 col0\" >2435707</td>\n",
       "            </tr>\n",
       "            <tr>\n",
       "                        <th id=\"T_08c598ca_b498_11ea_a22b_f01faf2f41a7level0_row42\" class=\"row_heading level0 row42\" >2020-05-10 00:00:00</th>\n",
       "                        <td id=\"T_08c598ca_b498_11ea_a22b_f01faf2f41a7row42_col0\" class=\"data row42 col0\" >2410798</td>\n",
       "            </tr>\n",
       "            <tr>\n",
       "                        <th id=\"T_08c598ca_b498_11ea_a22b_f01faf2f41a7level0_row43\" class=\"row_heading level0 row43\" >2020-05-09 00:00:00</th>\n",
       "                        <td id=\"T_08c598ca_b498_11ea_a22b_f01faf2f41a7row43_col0\" class=\"data row43 col0\" >2369782</td>\n",
       "            </tr>\n",
       "            <tr>\n",
       "                        <th id=\"T_08c598ca_b498_11ea_a22b_f01faf2f41a7level0_row44\" class=\"row_heading level0 row44\" >2020-05-08 00:00:00</th>\n",
       "                        <td id=\"T_08c598ca_b498_11ea_a22b_f01faf2f41a7row44_col0\" class=\"data row44 col0\" >2341826</td>\n",
       "            </tr>\n",
       "            <tr>\n",
       "                        <th id=\"T_08c598ca_b498_11ea_a22b_f01faf2f41a7level0_row45\" class=\"row_heading level0 row45\" >2020-05-07 00:00:00</th>\n",
       "                        <td id=\"T_08c598ca_b498_11ea_a22b_f01faf2f41a7row45_col0\" class=\"data row45 col0\" >2292171</td>\n",
       "            </tr>\n",
       "            <tr>\n",
       "                        <th id=\"T_08c598ca_b498_11ea_a22b_f01faf2f41a7level0_row46\" class=\"row_heading level0 row46\" >2020-05-06 00:00:00</th>\n",
       "                        <td id=\"T_08c598ca_b498_11ea_a22b_f01faf2f41a7row46_col0\" class=\"data row46 col0\" >2246835</td>\n",
       "            </tr>\n",
       "            <tr>\n",
       "                        <th id=\"T_08c598ca_b498_11ea_a22b_f01faf2f41a7level0_row47\" class=\"row_heading level0 row47\" >2020-05-05 00:00:00</th>\n",
       "                        <td id=\"T_08c598ca_b498_11ea_a22b_f01faf2f41a7row47_col0\" class=\"data row47 col0\" >2207269</td>\n",
       "            </tr>\n",
       "            <tr>\n",
       "                        <th id=\"T_08c598ca_b498_11ea_a22b_f01faf2f41a7level0_row48\" class=\"row_heading level0 row48\" >2020-05-04 00:00:00</th>\n",
       "                        <td id=\"T_08c598ca_b498_11ea_a22b_f01faf2f41a7row48_col0\" class=\"data row48 col0\" >2169403</td>\n",
       "            </tr>\n",
       "            <tr>\n",
       "                        <th id=\"T_08c598ca_b498_11ea_a22b_f01faf2f41a7level0_row49\" class=\"row_heading level0 row49\" >2020-05-03 00:00:00</th>\n",
       "                        <td id=\"T_08c598ca_b498_11ea_a22b_f01faf2f41a7row49_col0\" class=\"data row49 col0\" >2134601</td>\n",
       "            </tr>\n",
       "            <tr>\n",
       "                        <th id=\"T_08c598ca_b498_11ea_a22b_f01faf2f41a7level0_row50\" class=\"row_heading level0 row50\" >2020-05-02 00:00:00</th>\n",
       "                        <td id=\"T_08c598ca_b498_11ea_a22b_f01faf2f41a7row50_col0\" class=\"data row50 col0\" >2091000</td>\n",
       "            </tr>\n",
       "            <tr>\n",
       "                        <th id=\"T_08c598ca_b498_11ea_a22b_f01faf2f41a7level0_row51\" class=\"row_heading level0 row51\" >2020-05-01 00:00:00</th>\n",
       "                        <td id=\"T_08c598ca_b498_11ea_a22b_f01faf2f41a7row51_col0\" class=\"data row51 col0\" >2054881</td>\n",
       "            </tr>\n",
       "            <tr>\n",
       "                        <th id=\"T_08c598ca_b498_11ea_a22b_f01faf2f41a7level0_row52\" class=\"row_heading level0 row52\" >2020-04-30 00:00:00</th>\n",
       "                        <td id=\"T_08c598ca_b498_11ea_a22b_f01faf2f41a7row52_col0\" class=\"data row52 col0\" >2010118</td>\n",
       "            </tr>\n",
       "            <tr>\n",
       "                        <th id=\"T_08c598ca_b498_11ea_a22b_f01faf2f41a7level0_row53\" class=\"row_heading level0 row53\" >2020-04-29 00:00:00</th>\n",
       "                        <td id=\"T_08c598ca_b498_11ea_a22b_f01faf2f41a7row53_col0\" class=\"data row53 col0\" >1994855</td>\n",
       "            </tr>\n",
       "            <tr>\n",
       "                        <th id=\"T_08c598ca_b498_11ea_a22b_f01faf2f41a7level0_row54\" class=\"row_heading level0 row54\" >2020-04-28 00:00:00</th>\n",
       "                        <td id=\"T_08c598ca_b498_11ea_a22b_f01faf2f41a7row54_col0\" class=\"data row54 col0\" >1968892</td>\n",
       "            </tr>\n",
       "            <tr>\n",
       "                        <th id=\"T_08c598ca_b498_11ea_a22b_f01faf2f41a7level0_row55\" class=\"row_heading level0 row55\" >2020-04-27 00:00:00</th>\n",
       "                        <td id=\"T_08c598ca_b498_11ea_a22b_f01faf2f41a7row55_col0\" class=\"data row55 col0\" >1937882</td>\n",
       "            </tr>\n",
       "            <tr>\n",
       "                        <th id=\"T_08c598ca_b498_11ea_a22b_f01faf2f41a7level0_row56\" class=\"row_heading level0 row56\" >2020-04-26 00:00:00</th>\n",
       "                        <td id=\"T_08c598ca_b498_11ea_a22b_f01faf2f41a7row56_col0\" class=\"data row56 col0\" >1900450</td>\n",
       "            </tr>\n",
       "            <tr>\n",
       "                        <th id=\"T_08c598ca_b498_11ea_a22b_f01faf2f41a7level0_row57\" class=\"row_heading level0 row57\" >2020-04-25 00:00:00</th>\n",
       "                        <td id=\"T_08c598ca_b498_11ea_a22b_f01faf2f41a7row57_col0\" class=\"data row57 col0\" >1878410</td>\n",
       "            </tr>\n",
       "            <tr>\n",
       "                        <th id=\"T_08c598ca_b498_11ea_a22b_f01faf2f41a7level0_row58\" class=\"row_heading level0 row58\" >2020-04-24 00:00:00</th>\n",
       "                        <td id=\"T_08c598ca_b498_11ea_a22b_f01faf2f41a7row58_col0\" class=\"data row58 col0\" >1821335</td>\n",
       "            </tr>\n",
       "            <tr>\n",
       "                        <th id=\"T_08c598ca_b498_11ea_a22b_f01faf2f41a7level0_row59\" class=\"row_heading level0 row59\" >2020-04-23 00:00:00</th>\n",
       "                        <td id=\"T_08c598ca_b498_11ea_a22b_f01faf2f41a7row59_col0\" class=\"data row59 col0\" >1779540</td>\n",
       "            </tr>\n",
       "            <tr>\n",
       "                        <th id=\"T_08c598ca_b498_11ea_a22b_f01faf2f41a7level0_row60\" class=\"row_heading level0 row60\" >2020-04-22 00:00:00</th>\n",
       "                        <td id=\"T_08c598ca_b498_11ea_a22b_f01faf2f41a7row60_col0\" class=\"data row60 col0\" >1731212</td>\n",
       "            </tr>\n",
       "            <tr>\n",
       "                        <th id=\"T_08c598ca_b498_11ea_a22b_f01faf2f41a7level0_row61\" class=\"row_heading level0 row61\" >2020-04-21 00:00:00</th>\n",
       "                        <td id=\"T_08c598ca_b498_11ea_a22b_f01faf2f41a7row61_col0\" class=\"data row61 col0\" >1692720</td>\n",
       "            </tr>\n",
       "            <tr>\n",
       "                        <th id=\"T_08c598ca_b498_11ea_a22b_f01faf2f41a7level0_row62\" class=\"row_heading level0 row62\" >2020-04-20 00:00:00</th>\n",
       "                        <td id=\"T_08c598ca_b498_11ea_a22b_f01faf2f41a7row62_col0\" class=\"data row62 col0\" >1656642</td>\n",
       "            </tr>\n",
       "            <tr>\n",
       "                        <th id=\"T_08c598ca_b498_11ea_a22b_f01faf2f41a7level0_row63\" class=\"row_heading level0 row63\" >2020-04-19 00:00:00</th>\n",
       "                        <td id=\"T_08c598ca_b498_11ea_a22b_f01faf2f41a7row63_col0\" class=\"data row63 col0\" >1612431</td>\n",
       "            </tr>\n",
       "            <tr>\n",
       "                        <th id=\"T_08c598ca_b498_11ea_a22b_f01faf2f41a7level0_row64\" class=\"row_heading level0 row64\" >2020-04-18 00:00:00</th>\n",
       "                        <td id=\"T_08c598ca_b498_11ea_a22b_f01faf2f41a7row64_col0\" class=\"data row64 col0\" >1569753</td>\n",
       "            </tr>\n",
       "            <tr>\n",
       "                        <th id=\"T_08c598ca_b498_11ea_a22b_f01faf2f41a7level0_row65\" class=\"row_heading level0 row65\" >2020-04-17 00:00:00</th>\n",
       "                        <td id=\"T_08c598ca_b498_11ea_a22b_f01faf2f41a7row65_col0\" class=\"data row65 col0\" >1518025</td>\n",
       "            </tr>\n",
       "            <tr>\n",
       "                        <th id=\"T_08c598ca_b498_11ea_a22b_f01faf2f41a7level0_row66\" class=\"row_heading level0 row66\" >2020-04-16 00:00:00</th>\n",
       "                        <td id=\"T_08c598ca_b498_11ea_a22b_f01faf2f41a7row66_col0\" class=\"data row66 col0\" >1466838</td>\n",
       "            </tr>\n",
       "            <tr>\n",
       "                        <th id=\"T_08c598ca_b498_11ea_a22b_f01faf2f41a7level0_row67\" class=\"row_heading level0 row67\" >2020-04-15 00:00:00</th>\n",
       "                        <td id=\"T_08c598ca_b498_11ea_a22b_f01faf2f41a7row67_col0\" class=\"data row67 col0\" >1410858</td>\n",
       "            </tr>\n",
       "            <tr>\n",
       "                        <th id=\"T_08c598ca_b498_11ea_a22b_f01faf2f41a7level0_row68\" class=\"row_heading level0 row68\" >2020-04-14 00:00:00</th>\n",
       "                        <td id=\"T_08c598ca_b498_11ea_a22b_f01faf2f41a7row68_col0\" class=\"data row68 col0\" >1375946</td>\n",
       "            </tr>\n",
       "            <tr>\n",
       "                        <th id=\"T_08c598ca_b498_11ea_a22b_f01faf2f41a7level0_row69\" class=\"row_heading level0 row69\" >2020-04-13 00:00:00</th>\n",
       "                        <td id=\"T_08c598ca_b498_11ea_a22b_f01faf2f41a7row69_col0\" class=\"data row69 col0\" >1336701</td>\n",
       "            </tr>\n",
       "            <tr>\n",
       "                        <th id=\"T_08c598ca_b498_11ea_a22b_f01faf2f41a7level0_row70\" class=\"row_heading level0 row70\" >2020-04-12 00:00:00</th>\n",
       "                        <td id=\"T_08c598ca_b498_11ea_a22b_f01faf2f41a7row70_col0\" class=\"data row70 col0\" >1298910</td>\n",
       "            </tr>\n",
       "            <tr>\n",
       "                        <th id=\"T_08c598ca_b498_11ea_a22b_f01faf2f41a7level0_row71\" class=\"row_heading level0 row71\" >2020-04-11 00:00:00</th>\n",
       "                        <td id=\"T_08c598ca_b498_11ea_a22b_f01faf2f41a7row71_col0\" class=\"data row71 col0\" >1251428</td>\n",
       "            </tr>\n",
       "            <tr>\n",
       "                        <th id=\"T_08c598ca_b498_11ea_a22b_f01faf2f41a7level0_row72\" class=\"row_heading level0 row72\" >2020-04-10 00:00:00</th>\n",
       "                        <td id=\"T_08c598ca_b498_11ea_a22b_f01faf2f41a7row72_col0\" class=\"data row72 col0\" >1203836</td>\n",
       "            </tr>\n",
       "            <tr>\n",
       "                        <th id=\"T_08c598ca_b498_11ea_a22b_f01faf2f41a7level0_row73\" class=\"row_heading level0 row73\" >2020-04-09 00:00:00</th>\n",
       "                        <td id=\"T_08c598ca_b498_11ea_a22b_f01faf2f41a7row73_col0\" class=\"data row73 col0\" >1137710</td>\n",
       "            </tr>\n",
       "            <tr>\n",
       "                        <th id=\"T_08c598ca_b498_11ea_a22b_f01faf2f41a7level0_row74\" class=\"row_heading level0 row74\" >2020-04-08 00:00:00</th>\n",
       "                        <td id=\"T_08c598ca_b498_11ea_a22b_f01faf2f41a7row74_col0\" class=\"data row74 col0\" >1084456</td>\n",
       "            </tr>\n",
       "            <tr>\n",
       "                        <th id=\"T_08c598ca_b498_11ea_a22b_f01faf2f41a7level0_row75\" class=\"row_heading level0 row75\" >2020-04-07 00:00:00</th>\n",
       "                        <td id=\"T_08c598ca_b498_11ea_a22b_f01faf2f41a7row75_col0\" class=\"data row75 col0\" >1032611</td>\n",
       "            </tr>\n",
       "            <tr>\n",
       "                        <th id=\"T_08c598ca_b498_11ea_a22b_f01faf2f41a7level0_row76\" class=\"row_heading level0 row76\" >2020-04-06 00:00:00</th>\n",
       "                        <td id=\"T_08c598ca_b498_11ea_a22b_f01faf2f41a7row76_col0\" class=\"data row76 col0\" >987650</td>\n",
       "            </tr>\n",
       "            <tr>\n",
       "                        <th id=\"T_08c598ca_b498_11ea_a22b_f01faf2f41a7level0_row77\" class=\"row_heading level0 row77\" >2020-04-05 00:00:00</th>\n",
       "                        <td id=\"T_08c598ca_b498_11ea_a22b_f01faf2f41a7row77_col0\" class=\"data row77 col0\" >936550</td>\n",
       "            </tr>\n",
       "            <tr>\n",
       "                        <th id=\"T_08c598ca_b498_11ea_a22b_f01faf2f41a7level0_row78\" class=\"row_heading level0 row78\" >2020-04-04 00:00:00</th>\n",
       "                        <td id=\"T_08c598ca_b498_11ea_a22b_f01faf2f41a7row78_col0\" class=\"data row78 col0\" >880740</td>\n",
       "            </tr>\n",
       "            <tr>\n",
       "                        <th id=\"T_08c598ca_b498_11ea_a22b_f01faf2f41a7level0_row79\" class=\"row_heading level0 row79\" >2020-04-03 00:00:00</th>\n",
       "                        <td id=\"T_08c598ca_b498_11ea_a22b_f01faf2f41a7row79_col0\" class=\"data row79 col0\" >825342</td>\n",
       "            </tr>\n",
       "            <tr>\n",
       "                        <th id=\"T_08c598ca_b498_11ea_a22b_f01faf2f41a7level0_row80\" class=\"row_heading level0 row80\" >2020-04-02 00:00:00</th>\n",
       "                        <td id=\"T_08c598ca_b498_11ea_a22b_f01faf2f41a7row80_col0\" class=\"data row80 col0\" >762485</td>\n",
       "            </tr>\n",
       "            <tr>\n",
       "                        <th id=\"T_08c598ca_b498_11ea_a22b_f01faf2f41a7level0_row81\" class=\"row_heading level0 row81\" >2020-04-01 00:00:00</th>\n",
       "                        <td id=\"T_08c598ca_b498_11ea_a22b_f01faf2f41a7row81_col0\" class=\"data row81 col0\" >703560</td>\n",
       "            </tr>\n",
       "            <tr>\n",
       "                        <th id=\"T_08c598ca_b498_11ea_a22b_f01faf2f41a7level0_row82\" class=\"row_heading level0 row82\" >2020-03-31 00:00:00</th>\n",
       "                        <td id=\"T_08c598ca_b498_11ea_a22b_f01faf2f41a7row82_col0\" class=\"data row82 col0\" >637352</td>\n",
       "            </tr>\n",
       "            <tr>\n",
       "                        <th id=\"T_08c598ca_b498_11ea_a22b_f01faf2f41a7level0_row83\" class=\"row_heading level0 row83\" >2020-03-30 00:00:00</th>\n",
       "                        <td id=\"T_08c598ca_b498_11ea_a22b_f01faf2f41a7row83_col0\" class=\"data row83 col0\" >580247</td>\n",
       "            </tr>\n",
       "            <tr>\n",
       "                        <th id=\"T_08c598ca_b498_11ea_a22b_f01faf2f41a7level0_row84\" class=\"row_heading level0 row84\" >2020-03-29 00:00:00</th>\n",
       "                        <td id=\"T_08c598ca_b498_11ea_a22b_f01faf2f41a7row84_col0\" class=\"data row84 col0\" >537139</td>\n",
       "            </tr>\n",
       "            <tr>\n",
       "                        <th id=\"T_08c598ca_b498_11ea_a22b_f01faf2f41a7level0_row85\" class=\"row_heading level0 row85\" >2020-03-28 00:00:00</th>\n",
       "                        <td id=\"T_08c598ca_b498_11ea_a22b_f01faf2f41a7row85_col0\" class=\"data row85 col0\" >490632</td>\n",
       "            </tr>\n",
       "            <tr>\n",
       "                        <th id=\"T_08c598ca_b498_11ea_a22b_f01faf2f41a7level0_row86\" class=\"row_heading level0 row86\" >2020-03-27 00:00:00</th>\n",
       "                        <td id=\"T_08c598ca_b498_11ea_a22b_f01faf2f41a7row86_col0\" class=\"data row86 col0\" >435184</td>\n",
       "            </tr>\n",
       "            <tr>\n",
       "                        <th id=\"T_08c598ca_b498_11ea_a22b_f01faf2f41a7level0_row87\" class=\"row_heading level0 row87\" >2020-03-26 00:00:00</th>\n",
       "                        <td id=\"T_08c598ca_b498_11ea_a22b_f01faf2f41a7row87_col0\" class=\"data row87 col0\" >383477</td>\n",
       "            </tr>\n",
       "            <tr>\n",
       "                        <th id=\"T_08c598ca_b498_11ea_a22b_f01faf2f41a7level0_row88\" class=\"row_heading level0 row88\" >2020-03-25 00:00:00</th>\n",
       "                        <td id=\"T_08c598ca_b498_11ea_a22b_f01faf2f41a7row88_col0\" class=\"data row88 col0\" >332649</td>\n",
       "            </tr>\n",
       "            <tr>\n",
       "                        <th id=\"T_08c598ca_b498_11ea_a22b_f01faf2f41a7level0_row89\" class=\"row_heading level0 row89\" >2020-03-24 00:00:00</th>\n",
       "                        <td id=\"T_08c598ca_b498_11ea_a22b_f01faf2f41a7row89_col0\" class=\"data row89 col0\" >291652</td>\n",
       "            </tr>\n",
       "            <tr>\n",
       "                        <th id=\"T_08c598ca_b498_11ea_a22b_f01faf2f41a7level0_row90\" class=\"row_heading level0 row90\" >2020-03-23 00:00:00</th>\n",
       "                        <td id=\"T_08c598ca_b498_11ea_a22b_f01faf2f41a7row90_col0\" class=\"data row90 col0\" >260832</td>\n",
       "            </tr>\n",
       "            <tr>\n",
       "                        <th id=\"T_08c598ca_b498_11ea_a22b_f01faf2f41a7level0_row91\" class=\"row_heading level0 row91\" >2020-03-22 00:00:00</th>\n",
       "                        <td id=\"T_08c598ca_b498_11ea_a22b_f01faf2f41a7row91_col0\" class=\"data row91 col0\" >225256</td>\n",
       "            </tr>\n",
       "            <tr>\n",
       "                        <th id=\"T_08c598ca_b498_11ea_a22b_f01faf2f41a7level0_row92\" class=\"row_heading level0 row92\" >2020-03-21 00:00:00</th>\n",
       "                        <td id=\"T_08c598ca_b498_11ea_a22b_f01faf2f41a7row92_col0\" class=\"data row92 col0\" >199879</td>\n",
       "            </tr>\n",
       "            <tr>\n",
       "                        <th id=\"T_08c598ca_b498_11ea_a22b_f01faf2f41a7level0_row93\" class=\"row_heading level0 row93\" >2020-03-20 00:00:00</th>\n",
       "                        <td id=\"T_08c598ca_b498_11ea_a22b_f01faf2f41a7row93_col0\" class=\"data row93 col0\" >173465</td>\n",
       "            </tr>\n",
       "            <tr>\n",
       "                        <th id=\"T_08c598ca_b498_11ea_a22b_f01faf2f41a7level0_row94\" class=\"row_heading level0 row94\" >2020-03-19 00:00:00</th>\n",
       "                        <td id=\"T_08c598ca_b498_11ea_a22b_f01faf2f41a7row94_col0\" class=\"data row94 col0\" >147871</td>\n",
       "            </tr>\n",
       "            <tr>\n",
       "                        <th id=\"T_08c598ca_b498_11ea_a22b_f01faf2f41a7level0_row95\" class=\"row_heading level0 row95\" >2020-03-18 00:00:00</th>\n",
       "                        <td id=\"T_08c598ca_b498_11ea_a22b_f01faf2f41a7row95_col0\" class=\"data row95 col0\" >122841</td>\n",
       "            </tr>\n",
       "            <tr>\n",
       "                        <th id=\"T_08c598ca_b498_11ea_a22b_f01faf2f41a7level0_row96\" class=\"row_heading level0 row96\" >2020-03-17 00:00:00</th>\n",
       "                        <td id=\"T_08c598ca_b498_11ea_a22b_f01faf2f41a7row96_col0\" class=\"data row96 col0\" >108448</td>\n",
       "            </tr>\n",
       "            <tr>\n",
       "                        <th id=\"T_08c598ca_b498_11ea_a22b_f01faf2f41a7level0_row97\" class=\"row_heading level0 row97\" >2020-03-16 00:00:00</th>\n",
       "                        <td id=\"T_08c598ca_b498_11ea_a22b_f01faf2f41a7row97_col0\" class=\"data row97 col0\" >96426</td>\n",
       "            </tr>\n",
       "            <tr>\n",
       "                        <th id=\"T_08c598ca_b498_11ea_a22b_f01faf2f41a7level0_row98\" class=\"row_heading level0 row98\" >2020-03-15 00:00:00</th>\n",
       "                        <td id=\"T_08c598ca_b498_11ea_a22b_f01faf2f41a7row98_col0\" class=\"data row98 col0\" >86065</td>\n",
       "            </tr>\n",
       "            <tr>\n",
       "                        <th id=\"T_08c598ca_b498_11ea_a22b_f01faf2f41a7level0_row99\" class=\"row_heading level0 row99\" >2020-03-14 00:00:00</th>\n",
       "                        <td id=\"T_08c598ca_b498_11ea_a22b_f01faf2f41a7row99_col0\" class=\"data row99 col0\" >77657</td>\n",
       "            </tr>\n",
       "            <tr>\n",
       "                        <th id=\"T_08c598ca_b498_11ea_a22b_f01faf2f41a7level0_row100\" class=\"row_heading level0 row100\" >2020-03-13 00:00:00</th>\n",
       "                        <td id=\"T_08c598ca_b498_11ea_a22b_f01faf2f41a7row100_col0\" class=\"data row100 col0\" >69503</td>\n",
       "            </tr>\n",
       "            <tr>\n",
       "                        <th id=\"T_08c598ca_b498_11ea_a22b_f01faf2f41a7level0_row101\" class=\"row_heading level0 row101\" >2020-03-12 00:00:00</th>\n",
       "                        <td id=\"T_08c598ca_b498_11ea_a22b_f01faf2f41a7row101_col0\" class=\"data row101 col0\" >60312</td>\n",
       "            </tr>\n",
       "            <tr>\n",
       "                        <th id=\"T_08c598ca_b498_11ea_a22b_f01faf2f41a7level0_row102\" class=\"row_heading level0 row102\" >2020-02-17 00:00:00</th>\n",
       "                        <td id=\"T_08c598ca_b498_11ea_a22b_f01faf2f41a7row102_col0\" class=\"data row102 col0\" >58809</td>\n",
       "            </tr>\n",
       "            <tr>\n",
       "                        <th id=\"T_08c598ca_b498_11ea_a22b_f01faf2f41a7level0_row103\" class=\"row_heading level0 row103\" >2020-02-18 00:00:00</th>\n",
       "                        <td id=\"T_08c598ca_b498_11ea_a22b_f01faf2f41a7row103_col0\" class=\"data row103 col0\" >58779</td>\n",
       "            </tr>\n",
       "            <tr>\n",
       "                        <th id=\"T_08c598ca_b498_11ea_a22b_f01faf2f41a7level0_row104\" class=\"row_heading level0 row104\" >2020-02-16 00:00:00</th>\n",
       "                        <td id=\"T_08c598ca_b498_11ea_a22b_f01faf2f41a7row104_col0\" class=\"data row104 col0\" >58591</td>\n",
       "            </tr>\n",
       "            <tr>\n",
       "                        <th id=\"T_08c598ca_b498_11ea_a22b_f01faf2f41a7level0_row105\" class=\"row_heading level0 row105\" >2020-02-15 00:00:00</th>\n",
       "                        <td id=\"T_08c598ca_b498_11ea_a22b_f01faf2f41a7row105_col0\" class=\"data row105 col0\" >57971</td>\n",
       "            </tr>\n",
       "            <tr>\n",
       "                        <th id=\"T_08c598ca_b498_11ea_a22b_f01faf2f41a7level0_row106\" class=\"row_heading level0 row106\" >2020-02-19 00:00:00</th>\n",
       "                        <td id=\"T_08c598ca_b498_11ea_a22b_f01faf2f41a7row106_col0\" class=\"data row106 col0\" >57398</td>\n",
       "            </tr>\n",
       "            <tr>\n",
       "                        <th id=\"T_08c598ca_b498_11ea_a22b_f01faf2f41a7level0_row107\" class=\"row_heading level0 row107\" >2020-02-14 00:00:00</th>\n",
       "                        <td id=\"T_08c598ca_b498_11ea_a22b_f01faf2f41a7row107_col0\" class=\"data row107 col0\" >57306</td>\n",
       "            </tr>\n",
       "            <tr>\n",
       "                        <th id=\"T_08c598ca_b498_11ea_a22b_f01faf2f41a7level0_row108\" class=\"row_heading level0 row108\" >2020-02-20 00:00:00</th>\n",
       "                        <td id=\"T_08c598ca_b498_11ea_a22b_f01faf2f41a7row108_col0\" class=\"data row108 col0\" >55775</td>\n",
       "            </tr>\n",
       "            <tr>\n",
       "                        <th id=\"T_08c598ca_b498_11ea_a22b_f01faf2f41a7level0_row109\" class=\"row_heading level0 row109\" >2020-02-21 00:00:00</th>\n",
       "                        <td id=\"T_08c598ca_b498_11ea_a22b_f01faf2f41a7row109_col0\" class=\"data row109 col0\" >55702</td>\n",
       "            </tr>\n",
       "            <tr>\n",
       "                        <th id=\"T_08c598ca_b498_11ea_a22b_f01faf2f41a7level0_row110\" class=\"row_heading level0 row110\" >2020-03-11 00:00:00</th>\n",
       "                        <td id=\"T_08c598ca_b498_11ea_a22b_f01faf2f41a7row110_col0\" class=\"data row110 col0\" >54247</td>\n",
       "            </tr>\n",
       "            <tr>\n",
       "                        <th id=\"T_08c598ca_b498_11ea_a22b_f01faf2f41a7level0_row111\" class=\"row_heading level0 row111\" >2020-02-22 00:00:00</th>\n",
       "                        <td id=\"T_08c598ca_b498_11ea_a22b_f01faf2f41a7row111_col0\" class=\"data row111 col0\" >53255</td>\n",
       "            </tr>\n",
       "            <tr>\n",
       "                        <th id=\"T_08c598ca_b498_11ea_a22b_f01faf2f41a7level0_row112\" class=\"row_heading level0 row112\" >2020-02-23 00:00:00</th>\n",
       "                        <td id=\"T_08c598ca_b498_11ea_a22b_f01faf2f41a7row112_col0\" class=\"data row112 col0\" >53122</td>\n",
       "            </tr>\n",
       "            <tr>\n",
       "                        <th id=\"T_08c598ca_b498_11ea_a22b_f01faf2f41a7level0_row113\" class=\"row_heading level0 row113\" >2020-02-13 00:00:00</th>\n",
       "                        <td id=\"T_08c598ca_b498_11ea_a22b_f01faf2f41a7row113_col0\" class=\"data row113 col0\" >52704</td>\n",
       "            </tr>\n",
       "            <tr>\n",
       "                        <th id=\"T_08c598ca_b498_11ea_a22b_f01faf2f41a7level0_row114\" class=\"row_heading level0 row114\" >2020-02-24 00:00:00</th>\n",
       "                        <td id=\"T_08c598ca_b498_11ea_a22b_f01faf2f41a7row114_col0\" class=\"data row114 col0\" >51714</td>\n",
       "            </tr>\n",
       "            <tr>\n",
       "                        <th id=\"T_08c598ca_b498_11ea_a22b_f01faf2f41a7level0_row115\" class=\"row_heading level0 row115\" >2020-03-10 00:00:00</th>\n",
       "                        <td id=\"T_08c598ca_b498_11ea_a22b_f01faf2f41a7row115_col0\" class=\"data row115 col0\" >49916</td>\n",
       "            </tr>\n",
       "            <tr>\n",
       "                        <th id=\"T_08c598ca_b498_11ea_a22b_f01faf2f41a7level0_row116\" class=\"row_heading level0 row116\" >2020-02-25 00:00:00</th>\n",
       "                        <td id=\"T_08c598ca_b498_11ea_a22b_f01faf2f41a7row116_col0\" class=\"data row116 col0\" >49802</td>\n",
       "            </tr>\n",
       "            <tr>\n",
       "                        <th id=\"T_08c598ca_b498_11ea_a22b_f01faf2f41a7level0_row117\" class=\"row_heading level0 row117\" >2020-02-26 00:00:00</th>\n",
       "                        <td id=\"T_08c598ca_b498_11ea_a22b_f01faf2f41a7row117_col0\" class=\"data row117 col0\" >48243</td>\n",
       "            </tr>\n",
       "            <tr>\n",
       "                        <th id=\"T_08c598ca_b498_11ea_a22b_f01faf2f41a7level0_row118\" class=\"row_heading level0 row118\" >2020-03-09 00:00:00</th>\n",
       "                        <td id=\"T_08c598ca_b498_11ea_a22b_f01faf2f41a7row118_col0\" class=\"data row118 col0\" >47271</td>\n",
       "            </tr>\n",
       "            <tr>\n",
       "                        <th id=\"T_08c598ca_b498_11ea_a22b_f01faf2f41a7level0_row119\" class=\"row_heading level0 row119\" >2020-02-27 00:00:00</th>\n",
       "                        <td id=\"T_08c598ca_b498_11ea_a22b_f01faf2f41a7row119_col0\" class=\"data row119 col0\" >46665</td>\n",
       "            </tr>\n",
       "            <tr>\n",
       "                        <th id=\"T_08c598ca_b498_11ea_a22b_f01faf2f41a7level0_row120\" class=\"row_heading level0 row120\" >2020-03-08 00:00:00</th>\n",
       "                        <td id=\"T_08c598ca_b498_11ea_a22b_f01faf2f41a7row120_col0\" class=\"data row120 col0\" >45316</td>\n",
       "            </tr>\n",
       "            <tr>\n",
       "                        <th id=\"T_08c598ca_b498_11ea_a22b_f01faf2f41a7level0_row121\" class=\"row_heading level0 row121\" >2020-02-28 00:00:00</th>\n",
       "                        <td id=\"T_08c598ca_b498_11ea_a22b_f01faf2f41a7row121_col0\" class=\"data row121 col0\" >44541</td>\n",
       "            </tr>\n",
       "            <tr>\n",
       "                        <th id=\"T_08c598ca_b498_11ea_a22b_f01faf2f41a7level0_row122\" class=\"row_heading level0 row122\" >2020-03-07 00:00:00</th>\n",
       "                        <td id=\"T_08c598ca_b498_11ea_a22b_f01faf2f41a7row122_col0\" class=\"data row122 col0\" >43919</td>\n",
       "            </tr>\n",
       "            <tr>\n",
       "                        <th id=\"T_08c598ca_b498_11ea_a22b_f01faf2f41a7level0_row123\" class=\"row_heading level0 row123\" >2020-02-29 00:00:00</th>\n",
       "                        <td id=\"T_08c598ca_b498_11ea_a22b_f01faf2f41a7row123_col0\" class=\"data row123 col0\" >43290</td>\n",
       "            </tr>\n",
       "            <tr>\n",
       "                        <th id=\"T_08c598ca_b498_11ea_a22b_f01faf2f41a7level0_row124\" class=\"row_heading level0 row124\" >2020-03-01 00:00:00</th>\n",
       "                        <td id=\"T_08c598ca_b498_11ea_a22b_f01faf2f41a7row124_col0\" class=\"data row124 col0\" >42659</td>\n",
       "            </tr>\n",
       "            <tr>\n",
       "                        <th id=\"T_08c598ca_b498_11ea_a22b_f01faf2f41a7level0_row125\" class=\"row_heading level0 row125\" >2020-03-06 00:00:00</th>\n",
       "                        <td id=\"T_08c598ca_b498_11ea_a22b_f01faf2f41a7row125_col0\" class=\"data row125 col0\" >42474</td>\n",
       "            </tr>\n",
       "            <tr>\n",
       "                        <th id=\"T_08c598ca_b498_11ea_a22b_f01faf2f41a7level0_row126\" class=\"row_heading level0 row126\" >2020-03-02 00:00:00</th>\n",
       "                        <td id=\"T_08c598ca_b498_11ea_a22b_f01faf2f41a7row126_col0\" class=\"data row126 col0\" >41622</td>\n",
       "            </tr>\n",
       "            <tr>\n",
       "                        <th id=\"T_08c598ca_b498_11ea_a22b_f01faf2f41a7level0_row127\" class=\"row_heading level0 row127\" >2020-03-03 00:00:00</th>\n",
       "                        <td id=\"T_08c598ca_b498_11ea_a22b_f01faf2f41a7row127_col0\" class=\"data row127 col0\" >41455</td>\n",
       "            </tr>\n",
       "            <tr>\n",
       "                        <th id=\"T_08c598ca_b498_11ea_a22b_f01faf2f41a7level0_row128\" class=\"row_heading level0 row128\" >2020-03-05 00:00:00</th>\n",
       "                        <td id=\"T_08c598ca_b498_11ea_a22b_f01faf2f41a7row128_col0\" class=\"data row128 col0\" >40741</td>\n",
       "            </tr>\n",
       "            <tr>\n",
       "                        <th id=\"T_08c598ca_b498_11ea_a22b_f01faf2f41a7level0_row129\" class=\"row_heading level0 row129\" >2020-03-04 00:00:00</th>\n",
       "                        <td id=\"T_08c598ca_b498_11ea_a22b_f01faf2f41a7row129_col0\" class=\"data row129 col0\" >40699</td>\n",
       "            </tr>\n",
       "            <tr>\n",
       "                        <th id=\"T_08c598ca_b498_11ea_a22b_f01faf2f41a7level0_row130\" class=\"row_heading level0 row130\" >2020-02-11 00:00:00</th>\n",
       "                        <td id=\"T_08c598ca_b498_11ea_a22b_f01faf2f41a7row130_col0\" class=\"data row130 col0\" >39007</td>\n",
       "            </tr>\n",
       "            <tr>\n",
       "                        <th id=\"T_08c598ca_b498_11ea_a22b_f01faf2f41a7level0_row131\" class=\"row_heading level0 row131\" >2020-02-12 00:00:00</th>\n",
       "                        <td id=\"T_08c598ca_b498_11ea_a22b_f01faf2f41a7row131_col0\" class=\"data row131 col0\" >38954</td>\n",
       "            </tr>\n",
       "            <tr>\n",
       "                        <th id=\"T_08c598ca_b498_11ea_a22b_f01faf2f41a7level0_row132\" class=\"row_heading level0 row132\" >2020-02-10 00:00:00</th>\n",
       "                        <td id=\"T_08c598ca_b498_11ea_a22b_f01faf2f41a7row132_col0\" class=\"data row132 col0\" >37804</td>\n",
       "            </tr>\n",
       "            <tr>\n",
       "                        <th id=\"T_08c598ca_b498_11ea_a22b_f01faf2f41a7level0_row133\" class=\"row_heading level0 row133\" >2020-02-09 00:00:00</th>\n",
       "                        <td id=\"T_08c598ca_b498_11ea_a22b_f01faf2f41a7row133_col0\" class=\"data row133 col0\" >36001</td>\n",
       "            </tr>\n",
       "            <tr>\n",
       "                        <th id=\"T_08c598ca_b498_11ea_a22b_f01faf2f41a7level0_row134\" class=\"row_heading level0 row134\" >2020-02-08 00:00:00</th>\n",
       "                        <td id=\"T_08c598ca_b498_11ea_a22b_f01faf2f41a7row134_col0\" class=\"data row134 col0\" >33699</td>\n",
       "            </tr>\n",
       "            <tr>\n",
       "                        <th id=\"T_08c598ca_b498_11ea_a22b_f01faf2f41a7level0_row135\" class=\"row_heading level0 row135\" >2020-02-07 00:00:00</th>\n",
       "                        <td id=\"T_08c598ca_b498_11ea_a22b_f01faf2f41a7row135_col0\" class=\"data row135 col0\" >31662</td>\n",
       "            </tr>\n",
       "            <tr>\n",
       "                        <th id=\"T_08c598ca_b498_11ea_a22b_f01faf2f41a7level0_row136\" class=\"row_heading level0 row136\" >2020-02-06 00:00:00</th>\n",
       "                        <td id=\"T_08c598ca_b498_11ea_a22b_f01faf2f41a7row136_col0\" class=\"data row136 col0\" >28697</td>\n",
       "            </tr>\n",
       "            <tr>\n",
       "                        <th id=\"T_08c598ca_b498_11ea_a22b_f01faf2f41a7level0_row137\" class=\"row_heading level0 row137\" >2020-02-05 00:00:00</th>\n",
       "                        <td id=\"T_08c598ca_b498_11ea_a22b_f01faf2f41a7row137_col0\" class=\"data row137 col0\" >25948</td>\n",
       "            </tr>\n",
       "            <tr>\n",
       "                        <th id=\"T_08c598ca_b498_11ea_a22b_f01faf2f41a7level0_row138\" class=\"row_heading level0 row138\" >2020-02-04 00:00:00</th>\n",
       "                        <td id=\"T_08c598ca_b498_11ea_a22b_f01faf2f41a7row138_col0\" class=\"data row138 col0\" >22548</td>\n",
       "            </tr>\n",
       "            <tr>\n",
       "                        <th id=\"T_08c598ca_b498_11ea_a22b_f01faf2f41a7level0_row139\" class=\"row_heading level0 row139\" >2020-02-03 00:00:00</th>\n",
       "                        <td id=\"T_08c598ca_b498_11ea_a22b_f01faf2f41a7row139_col0\" class=\"data row139 col0\" >18832</td>\n",
       "            </tr>\n",
       "            <tr>\n",
       "                        <th id=\"T_08c598ca_b498_11ea_a22b_f01faf2f41a7level0_row140\" class=\"row_heading level0 row140\" >2020-02-02 00:00:00</th>\n",
       "                        <td id=\"T_08c598ca_b498_11ea_a22b_f01faf2f41a7row140_col0\" class=\"data row140 col0\" >15953</td>\n",
       "            </tr>\n",
       "            <tr>\n",
       "                        <th id=\"T_08c598ca_b498_11ea_a22b_f01faf2f41a7level0_row141\" class=\"row_heading level0 row141\" >2020-02-01 00:00:00</th>\n",
       "                        <td id=\"T_08c598ca_b498_11ea_a22b_f01faf2f41a7row141_col0\" class=\"data row141 col0\" >11495</td>\n",
       "            </tr>\n",
       "            <tr>\n",
       "                        <th id=\"T_08c598ca_b498_11ea_a22b_f01faf2f41a7level0_row142\" class=\"row_heading level0 row142\" >2020-01-31 00:00:00</th>\n",
       "                        <td id=\"T_08c598ca_b498_11ea_a22b_f01faf2f41a7row142_col0\" class=\"data row142 col0\" >9490</td>\n",
       "            </tr>\n",
       "            <tr>\n",
       "                        <th id=\"T_08c598ca_b498_11ea_a22b_f01faf2f41a7level0_row143\" class=\"row_heading level0 row143\" >2020-01-30 00:00:00</th>\n",
       "                        <td id=\"T_08c598ca_b498_11ea_a22b_f01faf2f41a7row143_col0\" class=\"data row143 col0\" >7921</td>\n",
       "            </tr>\n",
       "            <tr>\n",
       "                        <th id=\"T_08c598ca_b498_11ea_a22b_f01faf2f41a7level0_row144\" class=\"row_heading level0 row144\" >2020-01-29 00:00:00</th>\n",
       "                        <td id=\"T_08c598ca_b498_11ea_a22b_f01faf2f41a7row144_col0\" class=\"data row144 col0\" >5906</td>\n",
       "            </tr>\n",
       "            <tr>\n",
       "                        <th id=\"T_08c598ca_b498_11ea_a22b_f01faf2f41a7level0_row145\" class=\"row_heading level0 row145\" >2020-01-28 00:00:00</th>\n",
       "                        <td id=\"T_08c598ca_b498_11ea_a22b_f01faf2f41a7row145_col0\" class=\"data row145 col0\" >5340</td>\n",
       "            </tr>\n",
       "            <tr>\n",
       "                        <th id=\"T_08c598ca_b498_11ea_a22b_f01faf2f41a7level0_row146\" class=\"row_heading level0 row146\" >2020-01-27 00:00:00</th>\n",
       "                        <td id=\"T_08c598ca_b498_11ea_a22b_f01faf2f41a7row146_col0\" class=\"data row146 col0\" >2784</td>\n",
       "            </tr>\n",
       "            <tr>\n",
       "                        <th id=\"T_08c598ca_b498_11ea_a22b_f01faf2f41a7level0_row147\" class=\"row_heading level0 row147\" >2020-01-26 00:00:00</th>\n",
       "                        <td id=\"T_08c598ca_b498_11ea_a22b_f01faf2f41a7row147_col0\" class=\"data row147 col0\" >2010</td>\n",
       "            </tr>\n",
       "            <tr>\n",
       "                        <th id=\"T_08c598ca_b498_11ea_a22b_f01faf2f41a7level0_row148\" class=\"row_heading level0 row148\" >2020-01-25 00:00:00</th>\n",
       "                        <td id=\"T_08c598ca_b498_11ea_a22b_f01faf2f41a7row148_col0\" class=\"data row148 col0\" >1357</td>\n",
       "            </tr>\n",
       "            <tr>\n",
       "                        <th id=\"T_08c598ca_b498_11ea_a22b_f01faf2f41a7level0_row149\" class=\"row_heading level0 row149\" >2020-01-24 00:00:00</th>\n",
       "                        <td id=\"T_08c598ca_b498_11ea_a22b_f01faf2f41a7row149_col0\" class=\"data row149 col0\" >879</td>\n",
       "            </tr>\n",
       "            <tr>\n",
       "                        <th id=\"T_08c598ca_b498_11ea_a22b_f01faf2f41a7level0_row150\" class=\"row_heading level0 row150\" >2020-01-23 00:00:00</th>\n",
       "                        <td id=\"T_08c598ca_b498_11ea_a22b_f01faf2f41a7row150_col0\" class=\"data row150 col0\" >605</td>\n",
       "            </tr>\n",
       "            <tr>\n",
       "                        <th id=\"T_08c598ca_b498_11ea_a22b_f01faf2f41a7level0_row151\" class=\"row_heading level0 row151\" >2020-01-22 00:00:00</th>\n",
       "                        <td id=\"T_08c598ca_b498_11ea_a22b_f01faf2f41a7row151_col0\" class=\"data row151 col0\" >510</td>\n",
       "            </tr>\n",
       "    </tbody></table>"
      ],
      "text/plain": [
       "<pandas.io.formats.style.Styler at 0x2415797abc8>"
      ]
     },
     "execution_count": 47,
     "metadata": {},
     "output_type": "execute_result"
    }
   ],
   "source": [
    "Total_active_cases= df.groupby('Date')['T_Active_Cases'].sum().sort_values(ascending=False).to_frame()\n",
    "Total_active_cases.style.background_gradient(cmap=\"Reds\")"
   ]
  },
  {
   "cell_type": "code",
   "execution_count": 49,
   "metadata": {},
   "outputs": [],
   "source": [
    "#############Graphical represantation\n"
   ]
  },
  {
   "cell_type": "code",
   "execution_count": 50,
   "metadata": {},
   "outputs": [
    {
     "data": {
      "application/vnd.plotly.v1+json": {
       "config": {
        "linkText": "Export to plot.ly",
        "plotlyServerURL": "https://plot.ly",
        "showLink": true
       },
       "data": [
        {
         "marker": {
          "color": "rgba(255, 153, 51, 0.6)",
          "line": {
           "color": "rgba(255, 153, 51, 1.0)",
           "width": 1
          }
         },
         "name": "T_Active_Cases",
         "orientation": "v",
         "text": "",
         "type": "bar",
         "x": [
          "2020-06-21",
          "2020-06-20",
          "2020-06-19",
          "2020-06-18",
          "2020-06-17",
          "2020-06-16",
          "2020-06-15",
          "2020-06-14",
          "2020-06-13",
          "2020-06-12",
          "2020-06-11",
          "2020-06-10",
          "2020-06-09",
          "2020-06-08",
          "2020-06-07",
          "2020-06-06",
          "2020-06-05",
          "2020-06-04",
          "2020-06-03",
          "2020-06-02",
          "2020-06-01",
          "2020-05-31",
          "2020-05-30",
          "2020-05-29",
          "2020-05-28",
          "2020-05-27",
          "2020-05-26",
          "2020-05-25",
          "2020-05-24",
          "2020-05-23",
          "2020-05-22",
          "2020-05-21",
          "2020-05-20",
          "2020-05-19",
          "2020-05-18",
          "2020-05-17",
          "2020-05-16",
          "2020-05-15",
          "2020-05-14",
          "2020-05-13",
          "2020-05-12",
          "2020-05-11",
          "2020-05-10",
          "2020-05-09",
          "2020-05-08",
          "2020-05-07",
          "2020-05-06",
          "2020-05-05",
          "2020-05-04",
          "2020-05-03",
          "2020-05-02",
          "2020-05-01",
          "2020-04-30",
          "2020-04-29",
          "2020-04-28",
          "2020-04-27",
          "2020-04-26",
          "2020-04-25",
          "2020-04-24",
          "2020-04-23",
          "2020-04-22",
          "2020-04-21",
          "2020-04-20",
          "2020-04-19",
          "2020-04-18",
          "2020-04-17",
          "2020-04-16",
          "2020-04-15",
          "2020-04-14",
          "2020-04-13",
          "2020-04-12",
          "2020-04-11",
          "2020-04-10",
          "2020-04-09",
          "2020-04-08",
          "2020-04-07",
          "2020-04-06",
          "2020-04-05",
          "2020-04-04",
          "2020-04-03",
          "2020-04-02",
          "2020-04-01",
          "2020-03-31",
          "2020-03-30",
          "2020-03-29",
          "2020-03-28",
          "2020-03-27",
          "2020-03-26",
          "2020-03-25",
          "2020-03-24",
          "2020-03-23",
          "2020-03-22",
          "2020-03-21",
          "2020-03-20",
          "2020-03-19",
          "2020-03-18",
          "2020-03-17",
          "2020-03-16",
          "2020-03-15",
          "2020-03-14",
          "2020-03-13",
          "2020-03-12",
          "2020-03-11",
          "2020-03-10",
          "2020-03-09",
          "2020-03-08",
          "2020-03-07",
          "2020-03-06",
          "2020-03-05",
          "2020-03-04",
          "2020-03-03",
          "2020-03-02",
          "2020-03-01",
          "2020-02-29",
          "2020-02-28",
          "2020-02-27",
          "2020-02-26",
          "2020-02-25",
          "2020-02-24",
          "2020-02-23",
          "2020-02-22",
          "2020-02-21",
          "2020-02-20",
          "2020-02-19",
          "2020-02-18",
          "2020-02-17",
          "2020-02-16",
          "2020-02-15",
          "2020-02-14",
          "2020-02-13",
          "2020-02-12",
          "2020-02-11",
          "2020-02-10",
          "2020-02-09",
          "2020-02-08",
          "2020-02-07",
          "2020-02-06",
          "2020-02-05",
          "2020-02-04",
          "2020-02-03",
          "2020-02-02",
          "2020-02-01",
          "2020-01-31",
          "2020-01-30",
          "2020-01-29",
          "2020-01-28",
          "2020-01-27",
          "2020-01-26",
          "2020-01-25",
          "2020-01-24",
          "2020-01-23",
          "2020-01-22"
         ],
         "y": [
          3993453,
          3952230,
          3962184,
          3882700,
          3829698,
          3777653,
          3742181,
          3700263,
          3640929,
          3596046,
          3554269,
          3490951,
          3456806,
          3420387,
          3468326,
          3412478,
          3373924,
          3373228,
          3315474,
          3269740,
          3195232,
          3154368,
          3125977,
          3066629,
          3033464,
          2987321,
          2953345,
          2918160,
          2895010,
          2856747,
          2816812,
          2821591,
          2771708,
          2736030,
          2698402,
          2662884,
          2629182,
          2598452,
          2552661,
          2502006,
          2477394,
          2435707,
          2410798,
          2369782,
          2341826,
          2292171,
          2246835,
          2207269,
          2169403,
          2134601,
          2091000,
          2054881,
          2010118,
          1994855,
          1968892,
          1937882,
          1900450,
          1878410,
          1821335,
          1779540,
          1731212,
          1692720,
          1656642,
          1612431,
          1569753,
          1518025,
          1466838,
          1410858,
          1375946,
          1336701,
          1298910,
          1251428,
          1203836,
          1137710,
          1084456,
          1032611,
          987650,
          936550,
          880740,
          825342,
          762485,
          703560,
          637352,
          580247,
          537139,
          490632,
          435184,
          383477,
          332649,
          291652,
          260832,
          225256,
          199879,
          173465,
          147871,
          122841,
          108448,
          96426,
          86065,
          77657,
          69503,
          60312,
          54247,
          49916,
          47271,
          45316,
          43919,
          42474,
          40741,
          40699,
          41455,
          41622,
          42659,
          43290,
          44541,
          46665,
          48243,
          49802,
          51714,
          53122,
          53255,
          55702,
          55775,
          57398,
          58779,
          58809,
          58591,
          57971,
          57306,
          52704,
          38954,
          39007,
          37804,
          36001,
          33699,
          31662,
          28697,
          25948,
          22548,
          18832,
          15953,
          11495,
          9490,
          7921,
          5906,
          5340,
          2784,
          2010,
          1357,
          879,
          605,
          510
         ]
        }
       ],
       "layout": {
        "legend": {
         "bgcolor": "#F5F6F9",
         "font": {
          "color": "#4D5663"
         }
        },
        "paper_bgcolor": "#F5F6F9",
        "plot_bgcolor": "#F5F6F9",
        "template": {
         "data": {
          "bar": [
           {
            "error_x": {
             "color": "#2a3f5f"
            },
            "error_y": {
             "color": "#2a3f5f"
            },
            "marker": {
             "line": {
              "color": "#E5ECF6",
              "width": 0.5
             }
            },
            "type": "bar"
           }
          ],
          "barpolar": [
           {
            "marker": {
             "line": {
              "color": "#E5ECF6",
              "width": 0.5
             }
            },
            "type": "barpolar"
           }
          ],
          "carpet": [
           {
            "aaxis": {
             "endlinecolor": "#2a3f5f",
             "gridcolor": "white",
             "linecolor": "white",
             "minorgridcolor": "white",
             "startlinecolor": "#2a3f5f"
            },
            "baxis": {
             "endlinecolor": "#2a3f5f",
             "gridcolor": "white",
             "linecolor": "white",
             "minorgridcolor": "white",
             "startlinecolor": "#2a3f5f"
            },
            "type": "carpet"
           }
          ],
          "choropleth": [
           {
            "colorbar": {
             "outlinewidth": 0,
             "ticks": ""
            },
            "type": "choropleth"
           }
          ],
          "contour": [
           {
            "colorbar": {
             "outlinewidth": 0,
             "ticks": ""
            },
            "colorscale": [
             [
              0,
              "#0d0887"
             ],
             [
              0.1111111111111111,
              "#46039f"
             ],
             [
              0.2222222222222222,
              "#7201a8"
             ],
             [
              0.3333333333333333,
              "#9c179e"
             ],
             [
              0.4444444444444444,
              "#bd3786"
             ],
             [
              0.5555555555555556,
              "#d8576b"
             ],
             [
              0.6666666666666666,
              "#ed7953"
             ],
             [
              0.7777777777777778,
              "#fb9f3a"
             ],
             [
              0.8888888888888888,
              "#fdca26"
             ],
             [
              1,
              "#f0f921"
             ]
            ],
            "type": "contour"
           }
          ],
          "contourcarpet": [
           {
            "colorbar": {
             "outlinewidth": 0,
             "ticks": ""
            },
            "type": "contourcarpet"
           }
          ],
          "heatmap": [
           {
            "colorbar": {
             "outlinewidth": 0,
             "ticks": ""
            },
            "colorscale": [
             [
              0,
              "#0d0887"
             ],
             [
              0.1111111111111111,
              "#46039f"
             ],
             [
              0.2222222222222222,
              "#7201a8"
             ],
             [
              0.3333333333333333,
              "#9c179e"
             ],
             [
              0.4444444444444444,
              "#bd3786"
             ],
             [
              0.5555555555555556,
              "#d8576b"
             ],
             [
              0.6666666666666666,
              "#ed7953"
             ],
             [
              0.7777777777777778,
              "#fb9f3a"
             ],
             [
              0.8888888888888888,
              "#fdca26"
             ],
             [
              1,
              "#f0f921"
             ]
            ],
            "type": "heatmap"
           }
          ],
          "heatmapgl": [
           {
            "colorbar": {
             "outlinewidth": 0,
             "ticks": ""
            },
            "colorscale": [
             [
              0,
              "#0d0887"
             ],
             [
              0.1111111111111111,
              "#46039f"
             ],
             [
              0.2222222222222222,
              "#7201a8"
             ],
             [
              0.3333333333333333,
              "#9c179e"
             ],
             [
              0.4444444444444444,
              "#bd3786"
             ],
             [
              0.5555555555555556,
              "#d8576b"
             ],
             [
              0.6666666666666666,
              "#ed7953"
             ],
             [
              0.7777777777777778,
              "#fb9f3a"
             ],
             [
              0.8888888888888888,
              "#fdca26"
             ],
             [
              1,
              "#f0f921"
             ]
            ],
            "type": "heatmapgl"
           }
          ],
          "histogram": [
           {
            "marker": {
             "colorbar": {
              "outlinewidth": 0,
              "ticks": ""
             }
            },
            "type": "histogram"
           }
          ],
          "histogram2d": [
           {
            "colorbar": {
             "outlinewidth": 0,
             "ticks": ""
            },
            "colorscale": [
             [
              0,
              "#0d0887"
             ],
             [
              0.1111111111111111,
              "#46039f"
             ],
             [
              0.2222222222222222,
              "#7201a8"
             ],
             [
              0.3333333333333333,
              "#9c179e"
             ],
             [
              0.4444444444444444,
              "#bd3786"
             ],
             [
              0.5555555555555556,
              "#d8576b"
             ],
             [
              0.6666666666666666,
              "#ed7953"
             ],
             [
              0.7777777777777778,
              "#fb9f3a"
             ],
             [
              0.8888888888888888,
              "#fdca26"
             ],
             [
              1,
              "#f0f921"
             ]
            ],
            "type": "histogram2d"
           }
          ],
          "histogram2dcontour": [
           {
            "colorbar": {
             "outlinewidth": 0,
             "ticks": ""
            },
            "colorscale": [
             [
              0,
              "#0d0887"
             ],
             [
              0.1111111111111111,
              "#46039f"
             ],
             [
              0.2222222222222222,
              "#7201a8"
             ],
             [
              0.3333333333333333,
              "#9c179e"
             ],
             [
              0.4444444444444444,
              "#bd3786"
             ],
             [
              0.5555555555555556,
              "#d8576b"
             ],
             [
              0.6666666666666666,
              "#ed7953"
             ],
             [
              0.7777777777777778,
              "#fb9f3a"
             ],
             [
              0.8888888888888888,
              "#fdca26"
             ],
             [
              1,
              "#f0f921"
             ]
            ],
            "type": "histogram2dcontour"
           }
          ],
          "mesh3d": [
           {
            "colorbar": {
             "outlinewidth": 0,
             "ticks": ""
            },
            "type": "mesh3d"
           }
          ],
          "parcoords": [
           {
            "line": {
             "colorbar": {
              "outlinewidth": 0,
              "ticks": ""
             }
            },
            "type": "parcoords"
           }
          ],
          "pie": [
           {
            "automargin": true,
            "type": "pie"
           }
          ],
          "scatter": [
           {
            "marker": {
             "colorbar": {
              "outlinewidth": 0,
              "ticks": ""
             }
            },
            "type": "scatter"
           }
          ],
          "scatter3d": [
           {
            "line": {
             "colorbar": {
              "outlinewidth": 0,
              "ticks": ""
             }
            },
            "marker": {
             "colorbar": {
              "outlinewidth": 0,
              "ticks": ""
             }
            },
            "type": "scatter3d"
           }
          ],
          "scattercarpet": [
           {
            "marker": {
             "colorbar": {
              "outlinewidth": 0,
              "ticks": ""
             }
            },
            "type": "scattercarpet"
           }
          ],
          "scattergeo": [
           {
            "marker": {
             "colorbar": {
              "outlinewidth": 0,
              "ticks": ""
             }
            },
            "type": "scattergeo"
           }
          ],
          "scattergl": [
           {
            "marker": {
             "colorbar": {
              "outlinewidth": 0,
              "ticks": ""
             }
            },
            "type": "scattergl"
           }
          ],
          "scattermapbox": [
           {
            "marker": {
             "colorbar": {
              "outlinewidth": 0,
              "ticks": ""
             }
            },
            "type": "scattermapbox"
           }
          ],
          "scatterpolar": [
           {
            "marker": {
             "colorbar": {
              "outlinewidth": 0,
              "ticks": ""
             }
            },
            "type": "scatterpolar"
           }
          ],
          "scatterpolargl": [
           {
            "marker": {
             "colorbar": {
              "outlinewidth": 0,
              "ticks": ""
             }
            },
            "type": "scatterpolargl"
           }
          ],
          "scatterternary": [
           {
            "marker": {
             "colorbar": {
              "outlinewidth": 0,
              "ticks": ""
             }
            },
            "type": "scatterternary"
           }
          ],
          "surface": [
           {
            "colorbar": {
             "outlinewidth": 0,
             "ticks": ""
            },
            "colorscale": [
             [
              0,
              "#0d0887"
             ],
             [
              0.1111111111111111,
              "#46039f"
             ],
             [
              0.2222222222222222,
              "#7201a8"
             ],
             [
              0.3333333333333333,
              "#9c179e"
             ],
             [
              0.4444444444444444,
              "#bd3786"
             ],
             [
              0.5555555555555556,
              "#d8576b"
             ],
             [
              0.6666666666666666,
              "#ed7953"
             ],
             [
              0.7777777777777778,
              "#fb9f3a"
             ],
             [
              0.8888888888888888,
              "#fdca26"
             ],
             [
              1,
              "#f0f921"
             ]
            ],
            "type": "surface"
           }
          ],
          "table": [
           {
            "cells": {
             "fill": {
              "color": "#EBF0F8"
             },
             "line": {
              "color": "white"
             }
            },
            "header": {
             "fill": {
              "color": "#C8D4E3"
             },
             "line": {
              "color": "white"
             }
            },
            "type": "table"
           }
          ]
         },
         "layout": {
          "annotationdefaults": {
           "arrowcolor": "#2a3f5f",
           "arrowhead": 0,
           "arrowwidth": 1
          },
          "coloraxis": {
           "colorbar": {
            "outlinewidth": 0,
            "ticks": ""
           }
          },
          "colorscale": {
           "diverging": [
            [
             0,
             "#8e0152"
            ],
            [
             0.1,
             "#c51b7d"
            ],
            [
             0.2,
             "#de77ae"
            ],
            [
             0.3,
             "#f1b6da"
            ],
            [
             0.4,
             "#fde0ef"
            ],
            [
             0.5,
             "#f7f7f7"
            ],
            [
             0.6,
             "#e6f5d0"
            ],
            [
             0.7,
             "#b8e186"
            ],
            [
             0.8,
             "#7fbc41"
            ],
            [
             0.9,
             "#4d9221"
            ],
            [
             1,
             "#276419"
            ]
           ],
           "sequential": [
            [
             0,
             "#0d0887"
            ],
            [
             0.1111111111111111,
             "#46039f"
            ],
            [
             0.2222222222222222,
             "#7201a8"
            ],
            [
             0.3333333333333333,
             "#9c179e"
            ],
            [
             0.4444444444444444,
             "#bd3786"
            ],
            [
             0.5555555555555556,
             "#d8576b"
            ],
            [
             0.6666666666666666,
             "#ed7953"
            ],
            [
             0.7777777777777778,
             "#fb9f3a"
            ],
            [
             0.8888888888888888,
             "#fdca26"
            ],
            [
             1,
             "#f0f921"
            ]
           ],
           "sequentialminus": [
            [
             0,
             "#0d0887"
            ],
            [
             0.1111111111111111,
             "#46039f"
            ],
            [
             0.2222222222222222,
             "#7201a8"
            ],
            [
             0.3333333333333333,
             "#9c179e"
            ],
            [
             0.4444444444444444,
             "#bd3786"
            ],
            [
             0.5555555555555556,
             "#d8576b"
            ],
            [
             0.6666666666666666,
             "#ed7953"
            ],
            [
             0.7777777777777778,
             "#fb9f3a"
            ],
            [
             0.8888888888888888,
             "#fdca26"
            ],
            [
             1,
             "#f0f921"
            ]
           ]
          },
          "colorway": [
           "#636efa",
           "#EF553B",
           "#00cc96",
           "#ab63fa",
           "#FFA15A",
           "#19d3f3",
           "#FF6692",
           "#B6E880",
           "#FF97FF",
           "#FECB52"
          ],
          "font": {
           "color": "#2a3f5f"
          },
          "geo": {
           "bgcolor": "white",
           "lakecolor": "white",
           "landcolor": "#E5ECF6",
           "showlakes": true,
           "showland": true,
           "subunitcolor": "white"
          },
          "hoverlabel": {
           "align": "left"
          },
          "hovermode": "closest",
          "mapbox": {
           "style": "light"
          },
          "paper_bgcolor": "white",
          "plot_bgcolor": "#E5ECF6",
          "polar": {
           "angularaxis": {
            "gridcolor": "white",
            "linecolor": "white",
            "ticks": ""
           },
           "bgcolor": "#E5ECF6",
           "radialaxis": {
            "gridcolor": "white",
            "linecolor": "white",
            "ticks": ""
           }
          },
          "scene": {
           "xaxis": {
            "backgroundcolor": "#E5ECF6",
            "gridcolor": "white",
            "gridwidth": 2,
            "linecolor": "white",
            "showbackground": true,
            "ticks": "",
            "zerolinecolor": "white"
           },
           "yaxis": {
            "backgroundcolor": "#E5ECF6",
            "gridcolor": "white",
            "gridwidth": 2,
            "linecolor": "white",
            "showbackground": true,
            "ticks": "",
            "zerolinecolor": "white"
           },
           "zaxis": {
            "backgroundcolor": "#E5ECF6",
            "gridcolor": "white",
            "gridwidth": 2,
            "linecolor": "white",
            "showbackground": true,
            "ticks": "",
            "zerolinecolor": "white"
           }
          },
          "shapedefaults": {
           "line": {
            "color": "#2a3f5f"
           }
          },
          "ternary": {
           "aaxis": {
            "gridcolor": "white",
            "linecolor": "white",
            "ticks": ""
           },
           "baxis": {
            "gridcolor": "white",
            "linecolor": "white",
            "ticks": ""
           },
           "bgcolor": "#E5ECF6",
           "caxis": {
            "gridcolor": "white",
            "linecolor": "white",
            "ticks": ""
           }
          },
          "title": {
           "x": 0.05
          },
          "xaxis": {
           "automargin": true,
           "gridcolor": "white",
           "linecolor": "white",
           "ticks": "",
           "title": {
            "standoff": 15
           },
           "zerolinecolor": "white",
           "zerolinewidth": 2
          },
          "yaxis": {
           "automargin": true,
           "gridcolor": "white",
           "linecolor": "white",
           "ticks": "",
           "title": {
            "standoff": 15
           },
           "zerolinecolor": "white",
           "zerolinewidth": 2
          }
         }
        },
        "title": {
         "font": {
          "color": "#4D5663"
         }
        },
        "xaxis": {
         "gridcolor": "#E1E5ED",
         "showgrid": true,
         "tickfont": {
          "color": "#4D5663"
         },
         "title": {
          "font": {
           "color": "#4D5663"
          },
          "text": ""
         },
         "zerolinecolor": "#E1E5ED"
        },
        "yaxis": {
         "gridcolor": "#E1E5ED",
         "showgrid": true,
         "tickfont": {
          "color": "#4D5663"
         },
         "title": {
          "font": {
           "color": "#4D5663"
          },
          "text": ""
         },
         "zerolinecolor": "#E1E5ED"
        }
       }
      },
      "text/html": [
       "<div>\n",
       "        \n",
       "        \n",
       "            <div id=\"71b2d8a5-4531-439c-b35c-a4c61e23f71e\" class=\"plotly-graph-div\" style=\"height:525px; width:100%;\"></div>\n",
       "            <script type=\"text/javascript\">\n",
       "                require([\"plotly\"], function(Plotly) {\n",
       "                    window.PLOTLYENV=window.PLOTLYENV || {};\n",
       "                    window.PLOTLYENV.BASE_URL='https://plot.ly';\n",
       "                    \n",
       "                if (document.getElementById(\"71b2d8a5-4531-439c-b35c-a4c61e23f71e\")) {\n",
       "                    Plotly.newPlot(\n",
       "                        '71b2d8a5-4531-439c-b35c-a4c61e23f71e',\n",
       "                        [{\"marker\": {\"color\": \"rgba(255, 153, 51, 0.6)\", \"line\": {\"color\": \"rgba(255, 153, 51, 1.0)\", \"width\": 1}}, \"name\": \"T_Active_Cases\", \"orientation\": \"v\", \"text\": \"\", \"type\": \"bar\", \"x\": [\"2020-06-21\", \"2020-06-20\", \"2020-06-19\", \"2020-06-18\", \"2020-06-17\", \"2020-06-16\", \"2020-06-15\", \"2020-06-14\", \"2020-06-13\", \"2020-06-12\", \"2020-06-11\", \"2020-06-10\", \"2020-06-09\", \"2020-06-08\", \"2020-06-07\", \"2020-06-06\", \"2020-06-05\", \"2020-06-04\", \"2020-06-03\", \"2020-06-02\", \"2020-06-01\", \"2020-05-31\", \"2020-05-30\", \"2020-05-29\", \"2020-05-28\", \"2020-05-27\", \"2020-05-26\", \"2020-05-25\", \"2020-05-24\", \"2020-05-23\", \"2020-05-22\", \"2020-05-21\", \"2020-05-20\", \"2020-05-19\", \"2020-05-18\", \"2020-05-17\", \"2020-05-16\", \"2020-05-15\", \"2020-05-14\", \"2020-05-13\", \"2020-05-12\", \"2020-05-11\", \"2020-05-10\", \"2020-05-09\", \"2020-05-08\", \"2020-05-07\", \"2020-05-06\", \"2020-05-05\", \"2020-05-04\", \"2020-05-03\", \"2020-05-02\", \"2020-05-01\", \"2020-04-30\", \"2020-04-29\", \"2020-04-28\", \"2020-04-27\", \"2020-04-26\", \"2020-04-25\", \"2020-04-24\", \"2020-04-23\", \"2020-04-22\", \"2020-04-21\", \"2020-04-20\", \"2020-04-19\", \"2020-04-18\", \"2020-04-17\", \"2020-04-16\", \"2020-04-15\", \"2020-04-14\", \"2020-04-13\", \"2020-04-12\", \"2020-04-11\", \"2020-04-10\", \"2020-04-09\", \"2020-04-08\", \"2020-04-07\", \"2020-04-06\", \"2020-04-05\", \"2020-04-04\", \"2020-04-03\", \"2020-04-02\", \"2020-04-01\", \"2020-03-31\", \"2020-03-30\", \"2020-03-29\", \"2020-03-28\", \"2020-03-27\", \"2020-03-26\", \"2020-03-25\", \"2020-03-24\", \"2020-03-23\", \"2020-03-22\", \"2020-03-21\", \"2020-03-20\", \"2020-03-19\", \"2020-03-18\", \"2020-03-17\", \"2020-03-16\", \"2020-03-15\", \"2020-03-14\", \"2020-03-13\", \"2020-03-12\", \"2020-03-11\", \"2020-03-10\", \"2020-03-09\", \"2020-03-08\", \"2020-03-07\", \"2020-03-06\", \"2020-03-05\", \"2020-03-04\", \"2020-03-03\", \"2020-03-02\", \"2020-03-01\", \"2020-02-29\", \"2020-02-28\", \"2020-02-27\", \"2020-02-26\", \"2020-02-25\", \"2020-02-24\", \"2020-02-23\", \"2020-02-22\", \"2020-02-21\", \"2020-02-20\", \"2020-02-19\", \"2020-02-18\", \"2020-02-17\", \"2020-02-16\", \"2020-02-15\", \"2020-02-14\", \"2020-02-13\", \"2020-02-12\", \"2020-02-11\", \"2020-02-10\", \"2020-02-09\", \"2020-02-08\", \"2020-02-07\", \"2020-02-06\", \"2020-02-05\", \"2020-02-04\", \"2020-02-03\", \"2020-02-02\", \"2020-02-01\", \"2020-01-31\", \"2020-01-30\", \"2020-01-29\", \"2020-01-28\", \"2020-01-27\", \"2020-01-26\", \"2020-01-25\", \"2020-01-24\", \"2020-01-23\", \"2020-01-22\"], \"y\": [3993453, 3952230, 3962184, 3882700, 3829698, 3777653, 3742181, 3700263, 3640929, 3596046, 3554269, 3490951, 3456806, 3420387, 3468326, 3412478, 3373924, 3373228, 3315474, 3269740, 3195232, 3154368, 3125977, 3066629, 3033464, 2987321, 2953345, 2918160, 2895010, 2856747, 2816812, 2821591, 2771708, 2736030, 2698402, 2662884, 2629182, 2598452, 2552661, 2502006, 2477394, 2435707, 2410798, 2369782, 2341826, 2292171, 2246835, 2207269, 2169403, 2134601, 2091000, 2054881, 2010118, 1994855, 1968892, 1937882, 1900450, 1878410, 1821335, 1779540, 1731212, 1692720, 1656642, 1612431, 1569753, 1518025, 1466838, 1410858, 1375946, 1336701, 1298910, 1251428, 1203836, 1137710, 1084456, 1032611, 987650, 936550, 880740, 825342, 762485, 703560, 637352, 580247, 537139, 490632, 435184, 383477, 332649, 291652, 260832, 225256, 199879, 173465, 147871, 122841, 108448, 96426, 86065, 77657, 69503, 60312, 54247, 49916, 47271, 45316, 43919, 42474, 40741, 40699, 41455, 41622, 42659, 43290, 44541, 46665, 48243, 49802, 51714, 53122, 53255, 55702, 55775, 57398, 58779, 58809, 58591, 57971, 57306, 52704, 38954, 39007, 37804, 36001, 33699, 31662, 28697, 25948, 22548, 18832, 15953, 11495, 9490, 7921, 5906, 5340, 2784, 2010, 1357, 879, 605, 510]}],\n",
       "                        {\"legend\": {\"bgcolor\": \"#F5F6F9\", \"font\": {\"color\": \"#4D5663\"}}, \"paper_bgcolor\": \"#F5F6F9\", \"plot_bgcolor\": \"#F5F6F9\", \"template\": {\"data\": {\"bar\": [{\"error_x\": {\"color\": \"#2a3f5f\"}, \"error_y\": {\"color\": \"#2a3f5f\"}, \"marker\": {\"line\": {\"color\": \"#E5ECF6\", \"width\": 0.5}}, \"type\": \"bar\"}], \"barpolar\": [{\"marker\": {\"line\": {\"color\": \"#E5ECF6\", \"width\": 0.5}}, \"type\": \"barpolar\"}], \"carpet\": [{\"aaxis\": {\"endlinecolor\": \"#2a3f5f\", \"gridcolor\": \"white\", \"linecolor\": \"white\", \"minorgridcolor\": \"white\", \"startlinecolor\": \"#2a3f5f\"}, \"baxis\": {\"endlinecolor\": \"#2a3f5f\", \"gridcolor\": \"white\", \"linecolor\": \"white\", \"minorgridcolor\": \"white\", \"startlinecolor\": \"#2a3f5f\"}, \"type\": \"carpet\"}], \"choropleth\": [{\"colorbar\": {\"outlinewidth\": 0, \"ticks\": \"\"}, \"type\": \"choropleth\"}], \"contour\": [{\"colorbar\": {\"outlinewidth\": 0, \"ticks\": \"\"}, \"colorscale\": [[0.0, \"#0d0887\"], [0.1111111111111111, \"#46039f\"], [0.2222222222222222, \"#7201a8\"], [0.3333333333333333, \"#9c179e\"], [0.4444444444444444, \"#bd3786\"], [0.5555555555555556, \"#d8576b\"], [0.6666666666666666, \"#ed7953\"], [0.7777777777777778, \"#fb9f3a\"], [0.8888888888888888, \"#fdca26\"], [1.0, \"#f0f921\"]], \"type\": \"contour\"}], \"contourcarpet\": [{\"colorbar\": {\"outlinewidth\": 0, \"ticks\": \"\"}, \"type\": \"contourcarpet\"}], \"heatmap\": [{\"colorbar\": {\"outlinewidth\": 0, \"ticks\": \"\"}, \"colorscale\": [[0.0, \"#0d0887\"], [0.1111111111111111, \"#46039f\"], [0.2222222222222222, \"#7201a8\"], [0.3333333333333333, \"#9c179e\"], [0.4444444444444444, \"#bd3786\"], [0.5555555555555556, \"#d8576b\"], [0.6666666666666666, \"#ed7953\"], [0.7777777777777778, \"#fb9f3a\"], [0.8888888888888888, \"#fdca26\"], [1.0, \"#f0f921\"]], \"type\": \"heatmap\"}], \"heatmapgl\": [{\"colorbar\": {\"outlinewidth\": 0, \"ticks\": \"\"}, \"colorscale\": [[0.0, \"#0d0887\"], [0.1111111111111111, \"#46039f\"], [0.2222222222222222, \"#7201a8\"], [0.3333333333333333, \"#9c179e\"], [0.4444444444444444, \"#bd3786\"], [0.5555555555555556, \"#d8576b\"], [0.6666666666666666, \"#ed7953\"], [0.7777777777777778, \"#fb9f3a\"], [0.8888888888888888, \"#fdca26\"], [1.0, \"#f0f921\"]], \"type\": \"heatmapgl\"}], \"histogram\": [{\"marker\": {\"colorbar\": {\"outlinewidth\": 0, \"ticks\": \"\"}}, \"type\": \"histogram\"}], \"histogram2d\": [{\"colorbar\": {\"outlinewidth\": 0, \"ticks\": \"\"}, \"colorscale\": [[0.0, \"#0d0887\"], [0.1111111111111111, \"#46039f\"], [0.2222222222222222, \"#7201a8\"], [0.3333333333333333, \"#9c179e\"], [0.4444444444444444, \"#bd3786\"], [0.5555555555555556, \"#d8576b\"], [0.6666666666666666, \"#ed7953\"], [0.7777777777777778, \"#fb9f3a\"], [0.8888888888888888, \"#fdca26\"], [1.0, \"#f0f921\"]], \"type\": \"histogram2d\"}], \"histogram2dcontour\": [{\"colorbar\": {\"outlinewidth\": 0, \"ticks\": \"\"}, \"colorscale\": [[0.0, \"#0d0887\"], [0.1111111111111111, \"#46039f\"], [0.2222222222222222, \"#7201a8\"], [0.3333333333333333, \"#9c179e\"], [0.4444444444444444, \"#bd3786\"], [0.5555555555555556, \"#d8576b\"], [0.6666666666666666, \"#ed7953\"], [0.7777777777777778, \"#fb9f3a\"], [0.8888888888888888, \"#fdca26\"], [1.0, \"#f0f921\"]], \"type\": \"histogram2dcontour\"}], \"mesh3d\": [{\"colorbar\": {\"outlinewidth\": 0, \"ticks\": \"\"}, \"type\": \"mesh3d\"}], \"parcoords\": [{\"line\": {\"colorbar\": {\"outlinewidth\": 0, \"ticks\": \"\"}}, \"type\": \"parcoords\"}], \"pie\": [{\"automargin\": true, \"type\": \"pie\"}], \"scatter\": [{\"marker\": {\"colorbar\": {\"outlinewidth\": 0, \"ticks\": \"\"}}, \"type\": \"scatter\"}], \"scatter3d\": [{\"line\": {\"colorbar\": {\"outlinewidth\": 0, \"ticks\": \"\"}}, \"marker\": {\"colorbar\": {\"outlinewidth\": 0, \"ticks\": \"\"}}, \"type\": \"scatter3d\"}], \"scattercarpet\": [{\"marker\": {\"colorbar\": {\"outlinewidth\": 0, \"ticks\": \"\"}}, \"type\": \"scattercarpet\"}], \"scattergeo\": [{\"marker\": {\"colorbar\": {\"outlinewidth\": 0, \"ticks\": \"\"}}, \"type\": \"scattergeo\"}], \"scattergl\": [{\"marker\": {\"colorbar\": {\"outlinewidth\": 0, \"ticks\": \"\"}}, \"type\": \"scattergl\"}], \"scattermapbox\": [{\"marker\": {\"colorbar\": {\"outlinewidth\": 0, \"ticks\": \"\"}}, \"type\": \"scattermapbox\"}], \"scatterpolar\": [{\"marker\": {\"colorbar\": {\"outlinewidth\": 0, \"ticks\": \"\"}}, \"type\": \"scatterpolar\"}], \"scatterpolargl\": [{\"marker\": {\"colorbar\": {\"outlinewidth\": 0, \"ticks\": \"\"}}, \"type\": \"scatterpolargl\"}], \"scatterternary\": [{\"marker\": {\"colorbar\": {\"outlinewidth\": 0, \"ticks\": \"\"}}, \"type\": \"scatterternary\"}], \"surface\": [{\"colorbar\": {\"outlinewidth\": 0, \"ticks\": \"\"}, \"colorscale\": [[0.0, \"#0d0887\"], [0.1111111111111111, \"#46039f\"], [0.2222222222222222, \"#7201a8\"], [0.3333333333333333, \"#9c179e\"], [0.4444444444444444, \"#bd3786\"], [0.5555555555555556, \"#d8576b\"], [0.6666666666666666, \"#ed7953\"], [0.7777777777777778, \"#fb9f3a\"], [0.8888888888888888, \"#fdca26\"], [1.0, \"#f0f921\"]], \"type\": \"surface\"}], \"table\": [{\"cells\": {\"fill\": {\"color\": \"#EBF0F8\"}, \"line\": {\"color\": \"white\"}}, \"header\": {\"fill\": {\"color\": \"#C8D4E3\"}, \"line\": {\"color\": \"white\"}}, \"type\": \"table\"}]}, \"layout\": {\"annotationdefaults\": {\"arrowcolor\": \"#2a3f5f\", \"arrowhead\": 0, \"arrowwidth\": 1}, \"coloraxis\": {\"colorbar\": {\"outlinewidth\": 0, \"ticks\": \"\"}}, \"colorscale\": {\"diverging\": [[0, \"#8e0152\"], [0.1, \"#c51b7d\"], [0.2, \"#de77ae\"], [0.3, \"#f1b6da\"], [0.4, \"#fde0ef\"], [0.5, \"#f7f7f7\"], [0.6, \"#e6f5d0\"], [0.7, \"#b8e186\"], [0.8, \"#7fbc41\"], [0.9, \"#4d9221\"], [1, \"#276419\"]], \"sequential\": [[0.0, \"#0d0887\"], [0.1111111111111111, \"#46039f\"], [0.2222222222222222, \"#7201a8\"], [0.3333333333333333, \"#9c179e\"], [0.4444444444444444, \"#bd3786\"], [0.5555555555555556, \"#d8576b\"], [0.6666666666666666, \"#ed7953\"], [0.7777777777777778, \"#fb9f3a\"], [0.8888888888888888, \"#fdca26\"], [1.0, \"#f0f921\"]], \"sequentialminus\": [[0.0, \"#0d0887\"], [0.1111111111111111, \"#46039f\"], [0.2222222222222222, \"#7201a8\"], [0.3333333333333333, \"#9c179e\"], [0.4444444444444444, \"#bd3786\"], [0.5555555555555556, \"#d8576b\"], [0.6666666666666666, \"#ed7953\"], [0.7777777777777778, \"#fb9f3a\"], [0.8888888888888888, \"#fdca26\"], [1.0, \"#f0f921\"]]}, \"colorway\": [\"#636efa\", \"#EF553B\", \"#00cc96\", \"#ab63fa\", \"#FFA15A\", \"#19d3f3\", \"#FF6692\", \"#B6E880\", \"#FF97FF\", \"#FECB52\"], \"font\": {\"color\": \"#2a3f5f\"}, \"geo\": {\"bgcolor\": \"white\", \"lakecolor\": \"white\", \"landcolor\": \"#E5ECF6\", \"showlakes\": true, \"showland\": true, \"subunitcolor\": \"white\"}, \"hoverlabel\": {\"align\": \"left\"}, \"hovermode\": \"closest\", \"mapbox\": {\"style\": \"light\"}, \"paper_bgcolor\": \"white\", \"plot_bgcolor\": \"#E5ECF6\", \"polar\": {\"angularaxis\": {\"gridcolor\": \"white\", \"linecolor\": \"white\", \"ticks\": \"\"}, \"bgcolor\": \"#E5ECF6\", \"radialaxis\": {\"gridcolor\": \"white\", \"linecolor\": \"white\", \"ticks\": \"\"}}, \"scene\": {\"xaxis\": {\"backgroundcolor\": \"#E5ECF6\", \"gridcolor\": \"white\", \"gridwidth\": 2, \"linecolor\": \"white\", \"showbackground\": true, \"ticks\": \"\", \"zerolinecolor\": \"white\"}, \"yaxis\": {\"backgroundcolor\": \"#E5ECF6\", \"gridcolor\": \"white\", \"gridwidth\": 2, \"linecolor\": \"white\", \"showbackground\": true, \"ticks\": \"\", \"zerolinecolor\": \"white\"}, \"zaxis\": {\"backgroundcolor\": \"#E5ECF6\", \"gridcolor\": \"white\", \"gridwidth\": 2, \"linecolor\": \"white\", \"showbackground\": true, \"ticks\": \"\", \"zerolinecolor\": \"white\"}}, \"shapedefaults\": {\"line\": {\"color\": \"#2a3f5f\"}}, \"ternary\": {\"aaxis\": {\"gridcolor\": \"white\", \"linecolor\": \"white\", \"ticks\": \"\"}, \"baxis\": {\"gridcolor\": \"white\", \"linecolor\": \"white\", \"ticks\": \"\"}, \"bgcolor\": \"#E5ECF6\", \"caxis\": {\"gridcolor\": \"white\", \"linecolor\": \"white\", \"ticks\": \"\"}}, \"title\": {\"x\": 0.05}, \"xaxis\": {\"automargin\": true, \"gridcolor\": \"white\", \"linecolor\": \"white\", \"ticks\": \"\", \"title\": {\"standoff\": 15}, \"zerolinecolor\": \"white\", \"zerolinewidth\": 2}, \"yaxis\": {\"automargin\": true, \"gridcolor\": \"white\", \"linecolor\": \"white\", \"ticks\": \"\", \"title\": {\"standoff\": 15}, \"zerolinecolor\": \"white\", \"zerolinewidth\": 2}}}, \"title\": {\"font\": {\"color\": \"#4D5663\"}}, \"xaxis\": {\"gridcolor\": \"#E1E5ED\", \"showgrid\": true, \"tickfont\": {\"color\": \"#4D5663\"}, \"title\": {\"font\": {\"color\": \"#4D5663\"}, \"text\": \"\"}, \"zerolinecolor\": \"#E1E5ED\"}, \"yaxis\": {\"gridcolor\": \"#E1E5ED\", \"showgrid\": true, \"tickfont\": {\"color\": \"#4D5663\"}, \"title\": {\"font\": {\"color\": \"#4D5663\"}, \"text\": \"\"}, \"zerolinecolor\": \"#E1E5ED\"}},\n",
       "                        {\"showLink\": true, \"linkText\": \"Export to plot.ly\", \"plotlyServerURL\": \"https://plot.ly\", \"responsive\": true}\n",
       "                    ).then(function(){\n",
       "                            \n",
       "var gd = document.getElementById('71b2d8a5-4531-439c-b35c-a4c61e23f71e');\n",
       "var x = new MutationObserver(function (mutations, observer) {{\n",
       "        var display = window.getComputedStyle(gd).display;\n",
       "        if (!display || display === 'none') {{\n",
       "            console.log([gd, 'removed!']);\n",
       "            Plotly.purge(gd);\n",
       "            observer.disconnect();\n",
       "        }}\n",
       "}});\n",
       "\n",
       "// Listen for the removal of the full notebook cells\n",
       "var notebookContainer = gd.closest('#notebook-container');\n",
       "if (notebookContainer) {{\n",
       "    x.observe(notebookContainer, {childList: true});\n",
       "}}\n",
       "\n",
       "// Listen for the clearing of the current output cell\n",
       "var outputEl = gd.closest('.output');\n",
       "if (outputEl) {{\n",
       "    x.observe(outputEl, {childList: true});\n",
       "}}\n",
       "\n",
       "                        })\n",
       "                };\n",
       "                });\n",
       "            </script>\n",
       "        </div>"
      ]
     },
     "metadata": {},
     "output_type": "display_data"
    }
   ],
   "source": [
    "#####USING plotly\n",
    "df.iplot(kind='bar',x='Date',y='T_Active_Cases')"
   ]
  },
  {
   "cell_type": "code",
   "execution_count": 51,
   "metadata": {},
   "outputs": [
    {
     "data": {
      "application/vnd.plotly.v1+json": {
       "config": {
        "plotlyServerURL": "https://plot.ly"
       },
       "data": [
        {
         "alignmentgroup": "True",
         "hovertemplate": "Date=%{x}<br>T_Active_Cases=%{y}<extra></extra>",
         "legendgroup": "",
         "marker": {
          "color": "#636efa"
         },
         "name": "",
         "offsetgroup": "",
         "orientation": "v",
         "showlegend": false,
         "textposition": "auto",
         "type": "bar",
         "x": [
          "2020-06-21T00:00:00",
          "2020-06-20T00:00:00",
          "2020-06-19T00:00:00",
          "2020-06-18T00:00:00",
          "2020-06-17T00:00:00",
          "2020-06-16T00:00:00",
          "2020-06-15T00:00:00",
          "2020-06-14T00:00:00",
          "2020-06-13T00:00:00",
          "2020-06-12T00:00:00",
          "2020-06-11T00:00:00",
          "2020-06-10T00:00:00",
          "2020-06-09T00:00:00",
          "2020-06-08T00:00:00",
          "2020-06-07T00:00:00",
          "2020-06-06T00:00:00",
          "2020-06-05T00:00:00",
          "2020-06-04T00:00:00",
          "2020-06-03T00:00:00",
          "2020-06-02T00:00:00",
          "2020-06-01T00:00:00",
          "2020-05-31T00:00:00",
          "2020-05-30T00:00:00",
          "2020-05-29T00:00:00",
          "2020-05-28T00:00:00",
          "2020-05-27T00:00:00",
          "2020-05-26T00:00:00",
          "2020-05-25T00:00:00",
          "2020-05-24T00:00:00",
          "2020-05-23T00:00:00",
          "2020-05-22T00:00:00",
          "2020-05-21T00:00:00",
          "2020-05-20T00:00:00",
          "2020-05-19T00:00:00",
          "2020-05-18T00:00:00",
          "2020-05-17T00:00:00",
          "2020-05-16T00:00:00",
          "2020-05-15T00:00:00",
          "2020-05-14T00:00:00",
          "2020-05-13T00:00:00",
          "2020-05-12T00:00:00",
          "2020-05-11T00:00:00",
          "2020-05-10T00:00:00",
          "2020-05-09T00:00:00",
          "2020-05-08T00:00:00",
          "2020-05-07T00:00:00",
          "2020-05-06T00:00:00",
          "2020-05-05T00:00:00",
          "2020-05-04T00:00:00",
          "2020-05-03T00:00:00",
          "2020-05-02T00:00:00",
          "2020-05-01T00:00:00",
          "2020-04-30T00:00:00",
          "2020-04-29T00:00:00",
          "2020-04-28T00:00:00",
          "2020-04-27T00:00:00",
          "2020-04-26T00:00:00",
          "2020-04-25T00:00:00",
          "2020-04-24T00:00:00",
          "2020-04-23T00:00:00",
          "2020-04-22T00:00:00",
          "2020-04-21T00:00:00",
          "2020-04-20T00:00:00",
          "2020-04-19T00:00:00",
          "2020-04-18T00:00:00",
          "2020-04-17T00:00:00",
          "2020-04-16T00:00:00",
          "2020-04-15T00:00:00",
          "2020-04-14T00:00:00",
          "2020-04-13T00:00:00",
          "2020-04-12T00:00:00",
          "2020-04-11T00:00:00",
          "2020-04-10T00:00:00",
          "2020-04-09T00:00:00",
          "2020-04-08T00:00:00",
          "2020-04-07T00:00:00",
          "2020-04-06T00:00:00",
          "2020-04-05T00:00:00",
          "2020-04-04T00:00:00",
          "2020-04-03T00:00:00",
          "2020-04-02T00:00:00",
          "2020-04-01T00:00:00",
          "2020-03-31T00:00:00",
          "2020-03-30T00:00:00",
          "2020-03-29T00:00:00",
          "2020-03-28T00:00:00",
          "2020-03-27T00:00:00",
          "2020-03-26T00:00:00",
          "2020-03-25T00:00:00",
          "2020-03-24T00:00:00",
          "2020-03-23T00:00:00",
          "2020-03-22T00:00:00",
          "2020-03-21T00:00:00",
          "2020-03-20T00:00:00",
          "2020-03-19T00:00:00",
          "2020-03-18T00:00:00",
          "2020-03-17T00:00:00",
          "2020-03-16T00:00:00",
          "2020-03-15T00:00:00",
          "2020-03-14T00:00:00",
          "2020-03-13T00:00:00",
          "2020-03-12T00:00:00",
          "2020-03-11T00:00:00",
          "2020-03-10T00:00:00",
          "2020-03-09T00:00:00",
          "2020-03-08T00:00:00",
          "2020-03-07T00:00:00",
          "2020-03-06T00:00:00",
          "2020-03-05T00:00:00",
          "2020-03-04T00:00:00",
          "2020-03-03T00:00:00",
          "2020-03-02T00:00:00",
          "2020-03-01T00:00:00",
          "2020-02-29T00:00:00",
          "2020-02-28T00:00:00",
          "2020-02-27T00:00:00",
          "2020-02-26T00:00:00",
          "2020-02-25T00:00:00",
          "2020-02-24T00:00:00",
          "2020-02-23T00:00:00",
          "2020-02-22T00:00:00",
          "2020-02-21T00:00:00",
          "2020-02-20T00:00:00",
          "2020-02-19T00:00:00",
          "2020-02-18T00:00:00",
          "2020-02-17T00:00:00",
          "2020-02-16T00:00:00",
          "2020-02-15T00:00:00",
          "2020-02-14T00:00:00",
          "2020-02-13T00:00:00",
          "2020-02-12T00:00:00",
          "2020-02-11T00:00:00",
          "2020-02-10T00:00:00",
          "2020-02-09T00:00:00",
          "2020-02-08T00:00:00",
          "2020-02-07T00:00:00",
          "2020-02-06T00:00:00",
          "2020-02-05T00:00:00",
          "2020-02-04T00:00:00",
          "2020-02-03T00:00:00",
          "2020-02-02T00:00:00",
          "2020-02-01T00:00:00",
          "2020-01-31T00:00:00",
          "2020-01-30T00:00:00",
          "2020-01-29T00:00:00",
          "2020-01-28T00:00:00",
          "2020-01-27T00:00:00",
          "2020-01-26T00:00:00",
          "2020-01-25T00:00:00",
          "2020-01-24T00:00:00",
          "2020-01-23T00:00:00",
          "2020-01-22T00:00:00"
         ],
         "xaxis": "x",
         "y": [
          3993453,
          3952230,
          3962184,
          3882700,
          3829698,
          3777653,
          3742181,
          3700263,
          3640929,
          3596046,
          3554269,
          3490951,
          3456806,
          3420387,
          3468326,
          3412478,
          3373924,
          3373228,
          3315474,
          3269740,
          3195232,
          3154368,
          3125977,
          3066629,
          3033464,
          2987321,
          2953345,
          2918160,
          2895010,
          2856747,
          2816812,
          2821591,
          2771708,
          2736030,
          2698402,
          2662884,
          2629182,
          2598452,
          2552661,
          2502006,
          2477394,
          2435707,
          2410798,
          2369782,
          2341826,
          2292171,
          2246835,
          2207269,
          2169403,
          2134601,
          2091000,
          2054881,
          2010118,
          1994855,
          1968892,
          1937882,
          1900450,
          1878410,
          1821335,
          1779540,
          1731212,
          1692720,
          1656642,
          1612431,
          1569753,
          1518025,
          1466838,
          1410858,
          1375946,
          1336701,
          1298910,
          1251428,
          1203836,
          1137710,
          1084456,
          1032611,
          987650,
          936550,
          880740,
          825342,
          762485,
          703560,
          637352,
          580247,
          537139,
          490632,
          435184,
          383477,
          332649,
          291652,
          260832,
          225256,
          199879,
          173465,
          147871,
          122841,
          108448,
          96426,
          86065,
          77657,
          69503,
          60312,
          54247,
          49916,
          47271,
          45316,
          43919,
          42474,
          40741,
          40699,
          41455,
          41622,
          42659,
          43290,
          44541,
          46665,
          48243,
          49802,
          51714,
          53122,
          53255,
          55702,
          55775,
          57398,
          58779,
          58809,
          58591,
          57971,
          57306,
          52704,
          38954,
          39007,
          37804,
          36001,
          33699,
          31662,
          28697,
          25948,
          22548,
          18832,
          15953,
          11495,
          9490,
          7921,
          5906,
          5340,
          2784,
          2010,
          1357,
          879,
          605,
          510
         ],
         "yaxis": "y"
        }
       ],
       "layout": {
        "barmode": "relative",
        "legend": {
         "tracegroupgap": 0
        },
        "margin": {
         "t": 60
        },
        "template": {
         "data": {
          "bar": [
           {
            "error_x": {
             "color": "#2a3f5f"
            },
            "error_y": {
             "color": "#2a3f5f"
            },
            "marker": {
             "line": {
              "color": "#E5ECF6",
              "width": 0.5
             }
            },
            "type": "bar"
           }
          ],
          "barpolar": [
           {
            "marker": {
             "line": {
              "color": "#E5ECF6",
              "width": 0.5
             }
            },
            "type": "barpolar"
           }
          ],
          "carpet": [
           {
            "aaxis": {
             "endlinecolor": "#2a3f5f",
             "gridcolor": "white",
             "linecolor": "white",
             "minorgridcolor": "white",
             "startlinecolor": "#2a3f5f"
            },
            "baxis": {
             "endlinecolor": "#2a3f5f",
             "gridcolor": "white",
             "linecolor": "white",
             "minorgridcolor": "white",
             "startlinecolor": "#2a3f5f"
            },
            "type": "carpet"
           }
          ],
          "choropleth": [
           {
            "colorbar": {
             "outlinewidth": 0,
             "ticks": ""
            },
            "type": "choropleth"
           }
          ],
          "contour": [
           {
            "colorbar": {
             "outlinewidth": 0,
             "ticks": ""
            },
            "colorscale": [
             [
              0,
              "#0d0887"
             ],
             [
              0.1111111111111111,
              "#46039f"
             ],
             [
              0.2222222222222222,
              "#7201a8"
             ],
             [
              0.3333333333333333,
              "#9c179e"
             ],
             [
              0.4444444444444444,
              "#bd3786"
             ],
             [
              0.5555555555555556,
              "#d8576b"
             ],
             [
              0.6666666666666666,
              "#ed7953"
             ],
             [
              0.7777777777777778,
              "#fb9f3a"
             ],
             [
              0.8888888888888888,
              "#fdca26"
             ],
             [
              1,
              "#f0f921"
             ]
            ],
            "type": "contour"
           }
          ],
          "contourcarpet": [
           {
            "colorbar": {
             "outlinewidth": 0,
             "ticks": ""
            },
            "type": "contourcarpet"
           }
          ],
          "heatmap": [
           {
            "colorbar": {
             "outlinewidth": 0,
             "ticks": ""
            },
            "colorscale": [
             [
              0,
              "#0d0887"
             ],
             [
              0.1111111111111111,
              "#46039f"
             ],
             [
              0.2222222222222222,
              "#7201a8"
             ],
             [
              0.3333333333333333,
              "#9c179e"
             ],
             [
              0.4444444444444444,
              "#bd3786"
             ],
             [
              0.5555555555555556,
              "#d8576b"
             ],
             [
              0.6666666666666666,
              "#ed7953"
             ],
             [
              0.7777777777777778,
              "#fb9f3a"
             ],
             [
              0.8888888888888888,
              "#fdca26"
             ],
             [
              1,
              "#f0f921"
             ]
            ],
            "type": "heatmap"
           }
          ],
          "heatmapgl": [
           {
            "colorbar": {
             "outlinewidth": 0,
             "ticks": ""
            },
            "colorscale": [
             [
              0,
              "#0d0887"
             ],
             [
              0.1111111111111111,
              "#46039f"
             ],
             [
              0.2222222222222222,
              "#7201a8"
             ],
             [
              0.3333333333333333,
              "#9c179e"
             ],
             [
              0.4444444444444444,
              "#bd3786"
             ],
             [
              0.5555555555555556,
              "#d8576b"
             ],
             [
              0.6666666666666666,
              "#ed7953"
             ],
             [
              0.7777777777777778,
              "#fb9f3a"
             ],
             [
              0.8888888888888888,
              "#fdca26"
             ],
             [
              1,
              "#f0f921"
             ]
            ],
            "type": "heatmapgl"
           }
          ],
          "histogram": [
           {
            "marker": {
             "colorbar": {
              "outlinewidth": 0,
              "ticks": ""
             }
            },
            "type": "histogram"
           }
          ],
          "histogram2d": [
           {
            "colorbar": {
             "outlinewidth": 0,
             "ticks": ""
            },
            "colorscale": [
             [
              0,
              "#0d0887"
             ],
             [
              0.1111111111111111,
              "#46039f"
             ],
             [
              0.2222222222222222,
              "#7201a8"
             ],
             [
              0.3333333333333333,
              "#9c179e"
             ],
             [
              0.4444444444444444,
              "#bd3786"
             ],
             [
              0.5555555555555556,
              "#d8576b"
             ],
             [
              0.6666666666666666,
              "#ed7953"
             ],
             [
              0.7777777777777778,
              "#fb9f3a"
             ],
             [
              0.8888888888888888,
              "#fdca26"
             ],
             [
              1,
              "#f0f921"
             ]
            ],
            "type": "histogram2d"
           }
          ],
          "histogram2dcontour": [
           {
            "colorbar": {
             "outlinewidth": 0,
             "ticks": ""
            },
            "colorscale": [
             [
              0,
              "#0d0887"
             ],
             [
              0.1111111111111111,
              "#46039f"
             ],
             [
              0.2222222222222222,
              "#7201a8"
             ],
             [
              0.3333333333333333,
              "#9c179e"
             ],
             [
              0.4444444444444444,
              "#bd3786"
             ],
             [
              0.5555555555555556,
              "#d8576b"
             ],
             [
              0.6666666666666666,
              "#ed7953"
             ],
             [
              0.7777777777777778,
              "#fb9f3a"
             ],
             [
              0.8888888888888888,
              "#fdca26"
             ],
             [
              1,
              "#f0f921"
             ]
            ],
            "type": "histogram2dcontour"
           }
          ],
          "mesh3d": [
           {
            "colorbar": {
             "outlinewidth": 0,
             "ticks": ""
            },
            "type": "mesh3d"
           }
          ],
          "parcoords": [
           {
            "line": {
             "colorbar": {
              "outlinewidth": 0,
              "ticks": ""
             }
            },
            "type": "parcoords"
           }
          ],
          "pie": [
           {
            "automargin": true,
            "type": "pie"
           }
          ],
          "scatter": [
           {
            "marker": {
             "colorbar": {
              "outlinewidth": 0,
              "ticks": ""
             }
            },
            "type": "scatter"
           }
          ],
          "scatter3d": [
           {
            "line": {
             "colorbar": {
              "outlinewidth": 0,
              "ticks": ""
             }
            },
            "marker": {
             "colorbar": {
              "outlinewidth": 0,
              "ticks": ""
             }
            },
            "type": "scatter3d"
           }
          ],
          "scattercarpet": [
           {
            "marker": {
             "colorbar": {
              "outlinewidth": 0,
              "ticks": ""
             }
            },
            "type": "scattercarpet"
           }
          ],
          "scattergeo": [
           {
            "marker": {
             "colorbar": {
              "outlinewidth": 0,
              "ticks": ""
             }
            },
            "type": "scattergeo"
           }
          ],
          "scattergl": [
           {
            "marker": {
             "colorbar": {
              "outlinewidth": 0,
              "ticks": ""
             }
            },
            "type": "scattergl"
           }
          ],
          "scattermapbox": [
           {
            "marker": {
             "colorbar": {
              "outlinewidth": 0,
              "ticks": ""
             }
            },
            "type": "scattermapbox"
           }
          ],
          "scatterpolar": [
           {
            "marker": {
             "colorbar": {
              "outlinewidth": 0,
              "ticks": ""
             }
            },
            "type": "scatterpolar"
           }
          ],
          "scatterpolargl": [
           {
            "marker": {
             "colorbar": {
              "outlinewidth": 0,
              "ticks": ""
             }
            },
            "type": "scatterpolargl"
           }
          ],
          "scatterternary": [
           {
            "marker": {
             "colorbar": {
              "outlinewidth": 0,
              "ticks": ""
             }
            },
            "type": "scatterternary"
           }
          ],
          "surface": [
           {
            "colorbar": {
             "outlinewidth": 0,
             "ticks": ""
            },
            "colorscale": [
             [
              0,
              "#0d0887"
             ],
             [
              0.1111111111111111,
              "#46039f"
             ],
             [
              0.2222222222222222,
              "#7201a8"
             ],
             [
              0.3333333333333333,
              "#9c179e"
             ],
             [
              0.4444444444444444,
              "#bd3786"
             ],
             [
              0.5555555555555556,
              "#d8576b"
             ],
             [
              0.6666666666666666,
              "#ed7953"
             ],
             [
              0.7777777777777778,
              "#fb9f3a"
             ],
             [
              0.8888888888888888,
              "#fdca26"
             ],
             [
              1,
              "#f0f921"
             ]
            ],
            "type": "surface"
           }
          ],
          "table": [
           {
            "cells": {
             "fill": {
              "color": "#EBF0F8"
             },
             "line": {
              "color": "white"
             }
            },
            "header": {
             "fill": {
              "color": "#C8D4E3"
             },
             "line": {
              "color": "white"
             }
            },
            "type": "table"
           }
          ]
         },
         "layout": {
          "annotationdefaults": {
           "arrowcolor": "#2a3f5f",
           "arrowhead": 0,
           "arrowwidth": 1
          },
          "coloraxis": {
           "colorbar": {
            "outlinewidth": 0,
            "ticks": ""
           }
          },
          "colorscale": {
           "diverging": [
            [
             0,
             "#8e0152"
            ],
            [
             0.1,
             "#c51b7d"
            ],
            [
             0.2,
             "#de77ae"
            ],
            [
             0.3,
             "#f1b6da"
            ],
            [
             0.4,
             "#fde0ef"
            ],
            [
             0.5,
             "#f7f7f7"
            ],
            [
             0.6,
             "#e6f5d0"
            ],
            [
             0.7,
             "#b8e186"
            ],
            [
             0.8,
             "#7fbc41"
            ],
            [
             0.9,
             "#4d9221"
            ],
            [
             1,
             "#276419"
            ]
           ],
           "sequential": [
            [
             0,
             "#0d0887"
            ],
            [
             0.1111111111111111,
             "#46039f"
            ],
            [
             0.2222222222222222,
             "#7201a8"
            ],
            [
             0.3333333333333333,
             "#9c179e"
            ],
            [
             0.4444444444444444,
             "#bd3786"
            ],
            [
             0.5555555555555556,
             "#d8576b"
            ],
            [
             0.6666666666666666,
             "#ed7953"
            ],
            [
             0.7777777777777778,
             "#fb9f3a"
            ],
            [
             0.8888888888888888,
             "#fdca26"
            ],
            [
             1,
             "#f0f921"
            ]
           ],
           "sequentialminus": [
            [
             0,
             "#0d0887"
            ],
            [
             0.1111111111111111,
             "#46039f"
            ],
            [
             0.2222222222222222,
             "#7201a8"
            ],
            [
             0.3333333333333333,
             "#9c179e"
            ],
            [
             0.4444444444444444,
             "#bd3786"
            ],
            [
             0.5555555555555556,
             "#d8576b"
            ],
            [
             0.6666666666666666,
             "#ed7953"
            ],
            [
             0.7777777777777778,
             "#fb9f3a"
            ],
            [
             0.8888888888888888,
             "#fdca26"
            ],
            [
             1,
             "#f0f921"
            ]
           ]
          },
          "colorway": [
           "#636efa",
           "#EF553B",
           "#00cc96",
           "#ab63fa",
           "#FFA15A",
           "#19d3f3",
           "#FF6692",
           "#B6E880",
           "#FF97FF",
           "#FECB52"
          ],
          "font": {
           "color": "#2a3f5f"
          },
          "geo": {
           "bgcolor": "white",
           "lakecolor": "white",
           "landcolor": "#E5ECF6",
           "showlakes": true,
           "showland": true,
           "subunitcolor": "white"
          },
          "hoverlabel": {
           "align": "left"
          },
          "hovermode": "closest",
          "mapbox": {
           "style": "light"
          },
          "paper_bgcolor": "white",
          "plot_bgcolor": "#E5ECF6",
          "polar": {
           "angularaxis": {
            "gridcolor": "white",
            "linecolor": "white",
            "ticks": ""
           },
           "bgcolor": "#E5ECF6",
           "radialaxis": {
            "gridcolor": "white",
            "linecolor": "white",
            "ticks": ""
           }
          },
          "scene": {
           "xaxis": {
            "backgroundcolor": "#E5ECF6",
            "gridcolor": "white",
            "gridwidth": 2,
            "linecolor": "white",
            "showbackground": true,
            "ticks": "",
            "zerolinecolor": "white"
           },
           "yaxis": {
            "backgroundcolor": "#E5ECF6",
            "gridcolor": "white",
            "gridwidth": 2,
            "linecolor": "white",
            "showbackground": true,
            "ticks": "",
            "zerolinecolor": "white"
           },
           "zaxis": {
            "backgroundcolor": "#E5ECF6",
            "gridcolor": "white",
            "gridwidth": 2,
            "linecolor": "white",
            "showbackground": true,
            "ticks": "",
            "zerolinecolor": "white"
           }
          },
          "shapedefaults": {
           "line": {
            "color": "#2a3f5f"
           }
          },
          "ternary": {
           "aaxis": {
            "gridcolor": "white",
            "linecolor": "white",
            "ticks": ""
           },
           "baxis": {
            "gridcolor": "white",
            "linecolor": "white",
            "ticks": ""
           },
           "bgcolor": "#E5ECF6",
           "caxis": {
            "gridcolor": "white",
            "linecolor": "white",
            "ticks": ""
           }
          },
          "title": {
           "x": 0.05
          },
          "xaxis": {
           "automargin": true,
           "gridcolor": "white",
           "linecolor": "white",
           "ticks": "",
           "title": {
            "standoff": 15
           },
           "zerolinecolor": "white",
           "zerolinewidth": 2
          },
          "yaxis": {
           "automargin": true,
           "gridcolor": "white",
           "linecolor": "white",
           "ticks": "",
           "title": {
            "standoff": 15
           },
           "zerolinecolor": "white",
           "zerolinewidth": 2
          }
         }
        },
        "xaxis": {
         "anchor": "y",
         "domain": [
          0,
          1
         ],
         "title": {
          "text": "Date"
         }
        },
        "yaxis": {
         "anchor": "x",
         "domain": [
          0,
          1
         ],
         "title": {
          "text": "T_Active_Cases"
         }
        }
       }
      },
      "text/html": [
       "<div>\n",
       "        \n",
       "        \n",
       "            <div id=\"20de99b3-6749-4a08-b5f3-034090adece4\" class=\"plotly-graph-div\" style=\"height:525px; width:100%;\"></div>\n",
       "            <script type=\"text/javascript\">\n",
       "                require([\"plotly\"], function(Plotly) {\n",
       "                    window.PLOTLYENV=window.PLOTLYENV || {};\n",
       "                    \n",
       "                if (document.getElementById(\"20de99b3-6749-4a08-b5f3-034090adece4\")) {\n",
       "                    Plotly.newPlot(\n",
       "                        '20de99b3-6749-4a08-b5f3-034090adece4',\n",
       "                        [{\"alignmentgroup\": \"True\", \"hovertemplate\": \"Date=%{x}<br>T_Active_Cases=%{y}<extra></extra>\", \"legendgroup\": \"\", \"marker\": {\"color\": \"#636efa\"}, \"name\": \"\", \"offsetgroup\": \"\", \"orientation\": \"v\", \"showlegend\": false, \"textposition\": \"auto\", \"type\": \"bar\", \"x\": [\"2020-06-21T00:00:00\", \"2020-06-20T00:00:00\", \"2020-06-19T00:00:00\", \"2020-06-18T00:00:00\", \"2020-06-17T00:00:00\", \"2020-06-16T00:00:00\", \"2020-06-15T00:00:00\", \"2020-06-14T00:00:00\", \"2020-06-13T00:00:00\", \"2020-06-12T00:00:00\", \"2020-06-11T00:00:00\", \"2020-06-10T00:00:00\", \"2020-06-09T00:00:00\", \"2020-06-08T00:00:00\", \"2020-06-07T00:00:00\", \"2020-06-06T00:00:00\", \"2020-06-05T00:00:00\", \"2020-06-04T00:00:00\", \"2020-06-03T00:00:00\", \"2020-06-02T00:00:00\", \"2020-06-01T00:00:00\", \"2020-05-31T00:00:00\", \"2020-05-30T00:00:00\", \"2020-05-29T00:00:00\", \"2020-05-28T00:00:00\", \"2020-05-27T00:00:00\", \"2020-05-26T00:00:00\", \"2020-05-25T00:00:00\", \"2020-05-24T00:00:00\", \"2020-05-23T00:00:00\", \"2020-05-22T00:00:00\", \"2020-05-21T00:00:00\", \"2020-05-20T00:00:00\", \"2020-05-19T00:00:00\", \"2020-05-18T00:00:00\", \"2020-05-17T00:00:00\", \"2020-05-16T00:00:00\", \"2020-05-15T00:00:00\", \"2020-05-14T00:00:00\", \"2020-05-13T00:00:00\", \"2020-05-12T00:00:00\", \"2020-05-11T00:00:00\", \"2020-05-10T00:00:00\", \"2020-05-09T00:00:00\", \"2020-05-08T00:00:00\", \"2020-05-07T00:00:00\", \"2020-05-06T00:00:00\", \"2020-05-05T00:00:00\", \"2020-05-04T00:00:00\", \"2020-05-03T00:00:00\", \"2020-05-02T00:00:00\", \"2020-05-01T00:00:00\", \"2020-04-30T00:00:00\", \"2020-04-29T00:00:00\", \"2020-04-28T00:00:00\", \"2020-04-27T00:00:00\", \"2020-04-26T00:00:00\", \"2020-04-25T00:00:00\", \"2020-04-24T00:00:00\", \"2020-04-23T00:00:00\", \"2020-04-22T00:00:00\", \"2020-04-21T00:00:00\", \"2020-04-20T00:00:00\", \"2020-04-19T00:00:00\", \"2020-04-18T00:00:00\", \"2020-04-17T00:00:00\", \"2020-04-16T00:00:00\", \"2020-04-15T00:00:00\", \"2020-04-14T00:00:00\", \"2020-04-13T00:00:00\", \"2020-04-12T00:00:00\", \"2020-04-11T00:00:00\", \"2020-04-10T00:00:00\", \"2020-04-09T00:00:00\", \"2020-04-08T00:00:00\", \"2020-04-07T00:00:00\", \"2020-04-06T00:00:00\", \"2020-04-05T00:00:00\", \"2020-04-04T00:00:00\", \"2020-04-03T00:00:00\", \"2020-04-02T00:00:00\", \"2020-04-01T00:00:00\", \"2020-03-31T00:00:00\", \"2020-03-30T00:00:00\", \"2020-03-29T00:00:00\", \"2020-03-28T00:00:00\", \"2020-03-27T00:00:00\", \"2020-03-26T00:00:00\", \"2020-03-25T00:00:00\", \"2020-03-24T00:00:00\", \"2020-03-23T00:00:00\", \"2020-03-22T00:00:00\", \"2020-03-21T00:00:00\", \"2020-03-20T00:00:00\", \"2020-03-19T00:00:00\", \"2020-03-18T00:00:00\", \"2020-03-17T00:00:00\", \"2020-03-16T00:00:00\", \"2020-03-15T00:00:00\", \"2020-03-14T00:00:00\", \"2020-03-13T00:00:00\", \"2020-03-12T00:00:00\", \"2020-03-11T00:00:00\", \"2020-03-10T00:00:00\", \"2020-03-09T00:00:00\", \"2020-03-08T00:00:00\", \"2020-03-07T00:00:00\", \"2020-03-06T00:00:00\", \"2020-03-05T00:00:00\", \"2020-03-04T00:00:00\", \"2020-03-03T00:00:00\", \"2020-03-02T00:00:00\", \"2020-03-01T00:00:00\", \"2020-02-29T00:00:00\", \"2020-02-28T00:00:00\", \"2020-02-27T00:00:00\", \"2020-02-26T00:00:00\", \"2020-02-25T00:00:00\", \"2020-02-24T00:00:00\", \"2020-02-23T00:00:00\", \"2020-02-22T00:00:00\", \"2020-02-21T00:00:00\", \"2020-02-20T00:00:00\", \"2020-02-19T00:00:00\", \"2020-02-18T00:00:00\", \"2020-02-17T00:00:00\", \"2020-02-16T00:00:00\", \"2020-02-15T00:00:00\", \"2020-02-14T00:00:00\", \"2020-02-13T00:00:00\", \"2020-02-12T00:00:00\", \"2020-02-11T00:00:00\", \"2020-02-10T00:00:00\", \"2020-02-09T00:00:00\", \"2020-02-08T00:00:00\", \"2020-02-07T00:00:00\", \"2020-02-06T00:00:00\", \"2020-02-05T00:00:00\", \"2020-02-04T00:00:00\", \"2020-02-03T00:00:00\", \"2020-02-02T00:00:00\", \"2020-02-01T00:00:00\", \"2020-01-31T00:00:00\", \"2020-01-30T00:00:00\", \"2020-01-29T00:00:00\", \"2020-01-28T00:00:00\", \"2020-01-27T00:00:00\", \"2020-01-26T00:00:00\", \"2020-01-25T00:00:00\", \"2020-01-24T00:00:00\", \"2020-01-23T00:00:00\", \"2020-01-22T00:00:00\"], \"xaxis\": \"x\", \"y\": [3993453, 3952230, 3962184, 3882700, 3829698, 3777653, 3742181, 3700263, 3640929, 3596046, 3554269, 3490951, 3456806, 3420387, 3468326, 3412478, 3373924, 3373228, 3315474, 3269740, 3195232, 3154368, 3125977, 3066629, 3033464, 2987321, 2953345, 2918160, 2895010, 2856747, 2816812, 2821591, 2771708, 2736030, 2698402, 2662884, 2629182, 2598452, 2552661, 2502006, 2477394, 2435707, 2410798, 2369782, 2341826, 2292171, 2246835, 2207269, 2169403, 2134601, 2091000, 2054881, 2010118, 1994855, 1968892, 1937882, 1900450, 1878410, 1821335, 1779540, 1731212, 1692720, 1656642, 1612431, 1569753, 1518025, 1466838, 1410858, 1375946, 1336701, 1298910, 1251428, 1203836, 1137710, 1084456, 1032611, 987650, 936550, 880740, 825342, 762485, 703560, 637352, 580247, 537139, 490632, 435184, 383477, 332649, 291652, 260832, 225256, 199879, 173465, 147871, 122841, 108448, 96426, 86065, 77657, 69503, 60312, 54247, 49916, 47271, 45316, 43919, 42474, 40741, 40699, 41455, 41622, 42659, 43290, 44541, 46665, 48243, 49802, 51714, 53122, 53255, 55702, 55775, 57398, 58779, 58809, 58591, 57971, 57306, 52704, 38954, 39007, 37804, 36001, 33699, 31662, 28697, 25948, 22548, 18832, 15953, 11495, 9490, 7921, 5906, 5340, 2784, 2010, 1357, 879, 605, 510], \"yaxis\": \"y\"}],\n",
       "                        {\"barmode\": \"relative\", \"legend\": {\"tracegroupgap\": 0}, \"margin\": {\"t\": 60}, \"template\": {\"data\": {\"bar\": [{\"error_x\": {\"color\": \"#2a3f5f\"}, \"error_y\": {\"color\": \"#2a3f5f\"}, \"marker\": {\"line\": {\"color\": \"#E5ECF6\", \"width\": 0.5}}, \"type\": \"bar\"}], \"barpolar\": [{\"marker\": {\"line\": {\"color\": \"#E5ECF6\", \"width\": 0.5}}, \"type\": \"barpolar\"}], \"carpet\": [{\"aaxis\": {\"endlinecolor\": \"#2a3f5f\", \"gridcolor\": \"white\", \"linecolor\": \"white\", \"minorgridcolor\": \"white\", \"startlinecolor\": \"#2a3f5f\"}, \"baxis\": {\"endlinecolor\": \"#2a3f5f\", \"gridcolor\": \"white\", \"linecolor\": \"white\", \"minorgridcolor\": \"white\", \"startlinecolor\": \"#2a3f5f\"}, \"type\": \"carpet\"}], \"choropleth\": [{\"colorbar\": {\"outlinewidth\": 0, \"ticks\": \"\"}, \"type\": \"choropleth\"}], \"contour\": [{\"colorbar\": {\"outlinewidth\": 0, \"ticks\": \"\"}, \"colorscale\": [[0.0, \"#0d0887\"], [0.1111111111111111, \"#46039f\"], [0.2222222222222222, \"#7201a8\"], [0.3333333333333333, \"#9c179e\"], [0.4444444444444444, \"#bd3786\"], [0.5555555555555556, \"#d8576b\"], [0.6666666666666666, \"#ed7953\"], [0.7777777777777778, \"#fb9f3a\"], [0.8888888888888888, \"#fdca26\"], [1.0, \"#f0f921\"]], \"type\": \"contour\"}], \"contourcarpet\": [{\"colorbar\": {\"outlinewidth\": 0, \"ticks\": \"\"}, \"type\": \"contourcarpet\"}], \"heatmap\": [{\"colorbar\": {\"outlinewidth\": 0, \"ticks\": \"\"}, \"colorscale\": [[0.0, \"#0d0887\"], [0.1111111111111111, \"#46039f\"], [0.2222222222222222, \"#7201a8\"], [0.3333333333333333, \"#9c179e\"], [0.4444444444444444, \"#bd3786\"], [0.5555555555555556, \"#d8576b\"], [0.6666666666666666, \"#ed7953\"], [0.7777777777777778, \"#fb9f3a\"], [0.8888888888888888, \"#fdca26\"], [1.0, \"#f0f921\"]], \"type\": \"heatmap\"}], \"heatmapgl\": [{\"colorbar\": {\"outlinewidth\": 0, \"ticks\": \"\"}, \"colorscale\": [[0.0, \"#0d0887\"], [0.1111111111111111, \"#46039f\"], [0.2222222222222222, \"#7201a8\"], [0.3333333333333333, \"#9c179e\"], [0.4444444444444444, \"#bd3786\"], [0.5555555555555556, \"#d8576b\"], [0.6666666666666666, \"#ed7953\"], [0.7777777777777778, \"#fb9f3a\"], [0.8888888888888888, \"#fdca26\"], [1.0, \"#f0f921\"]], \"type\": \"heatmapgl\"}], \"histogram\": [{\"marker\": {\"colorbar\": {\"outlinewidth\": 0, \"ticks\": \"\"}}, \"type\": \"histogram\"}], \"histogram2d\": [{\"colorbar\": {\"outlinewidth\": 0, \"ticks\": \"\"}, \"colorscale\": [[0.0, \"#0d0887\"], [0.1111111111111111, \"#46039f\"], [0.2222222222222222, \"#7201a8\"], [0.3333333333333333, \"#9c179e\"], [0.4444444444444444, \"#bd3786\"], [0.5555555555555556, \"#d8576b\"], [0.6666666666666666, \"#ed7953\"], [0.7777777777777778, \"#fb9f3a\"], [0.8888888888888888, \"#fdca26\"], [1.0, \"#f0f921\"]], \"type\": \"histogram2d\"}], \"histogram2dcontour\": [{\"colorbar\": {\"outlinewidth\": 0, \"ticks\": \"\"}, \"colorscale\": [[0.0, \"#0d0887\"], [0.1111111111111111, \"#46039f\"], [0.2222222222222222, \"#7201a8\"], [0.3333333333333333, \"#9c179e\"], [0.4444444444444444, \"#bd3786\"], [0.5555555555555556, \"#d8576b\"], [0.6666666666666666, \"#ed7953\"], [0.7777777777777778, \"#fb9f3a\"], [0.8888888888888888, \"#fdca26\"], [1.0, \"#f0f921\"]], \"type\": \"histogram2dcontour\"}], \"mesh3d\": [{\"colorbar\": {\"outlinewidth\": 0, \"ticks\": \"\"}, \"type\": \"mesh3d\"}], \"parcoords\": [{\"line\": {\"colorbar\": {\"outlinewidth\": 0, \"ticks\": \"\"}}, \"type\": \"parcoords\"}], \"pie\": [{\"automargin\": true, \"type\": \"pie\"}], \"scatter\": [{\"marker\": {\"colorbar\": {\"outlinewidth\": 0, \"ticks\": \"\"}}, \"type\": \"scatter\"}], \"scatter3d\": [{\"line\": {\"colorbar\": {\"outlinewidth\": 0, \"ticks\": \"\"}}, \"marker\": {\"colorbar\": {\"outlinewidth\": 0, \"ticks\": \"\"}}, \"type\": \"scatter3d\"}], \"scattercarpet\": [{\"marker\": {\"colorbar\": {\"outlinewidth\": 0, \"ticks\": \"\"}}, \"type\": \"scattercarpet\"}], \"scattergeo\": [{\"marker\": {\"colorbar\": {\"outlinewidth\": 0, \"ticks\": \"\"}}, \"type\": \"scattergeo\"}], \"scattergl\": [{\"marker\": {\"colorbar\": {\"outlinewidth\": 0, \"ticks\": \"\"}}, \"type\": \"scattergl\"}], \"scattermapbox\": [{\"marker\": {\"colorbar\": {\"outlinewidth\": 0, \"ticks\": \"\"}}, \"type\": \"scattermapbox\"}], \"scatterpolar\": [{\"marker\": {\"colorbar\": {\"outlinewidth\": 0, \"ticks\": \"\"}}, \"type\": \"scatterpolar\"}], \"scatterpolargl\": [{\"marker\": {\"colorbar\": {\"outlinewidth\": 0, \"ticks\": \"\"}}, \"type\": \"scatterpolargl\"}], \"scatterternary\": [{\"marker\": {\"colorbar\": {\"outlinewidth\": 0, \"ticks\": \"\"}}, \"type\": \"scatterternary\"}], \"surface\": [{\"colorbar\": {\"outlinewidth\": 0, \"ticks\": \"\"}, \"colorscale\": [[0.0, \"#0d0887\"], [0.1111111111111111, \"#46039f\"], [0.2222222222222222, \"#7201a8\"], [0.3333333333333333, \"#9c179e\"], [0.4444444444444444, \"#bd3786\"], [0.5555555555555556, \"#d8576b\"], [0.6666666666666666, \"#ed7953\"], [0.7777777777777778, \"#fb9f3a\"], [0.8888888888888888, \"#fdca26\"], [1.0, \"#f0f921\"]], \"type\": \"surface\"}], \"table\": [{\"cells\": {\"fill\": {\"color\": \"#EBF0F8\"}, \"line\": {\"color\": \"white\"}}, \"header\": {\"fill\": {\"color\": \"#C8D4E3\"}, \"line\": {\"color\": \"white\"}}, \"type\": \"table\"}]}, \"layout\": {\"annotationdefaults\": {\"arrowcolor\": \"#2a3f5f\", \"arrowhead\": 0, \"arrowwidth\": 1}, \"coloraxis\": {\"colorbar\": {\"outlinewidth\": 0, \"ticks\": \"\"}}, \"colorscale\": {\"diverging\": [[0, \"#8e0152\"], [0.1, \"#c51b7d\"], [0.2, \"#de77ae\"], [0.3, \"#f1b6da\"], [0.4, \"#fde0ef\"], [0.5, \"#f7f7f7\"], [0.6, \"#e6f5d0\"], [0.7, \"#b8e186\"], [0.8, \"#7fbc41\"], [0.9, \"#4d9221\"], [1, \"#276419\"]], \"sequential\": [[0.0, \"#0d0887\"], [0.1111111111111111, \"#46039f\"], [0.2222222222222222, \"#7201a8\"], [0.3333333333333333, \"#9c179e\"], [0.4444444444444444, \"#bd3786\"], [0.5555555555555556, \"#d8576b\"], [0.6666666666666666, \"#ed7953\"], [0.7777777777777778, \"#fb9f3a\"], [0.8888888888888888, \"#fdca26\"], [1.0, \"#f0f921\"]], \"sequentialminus\": [[0.0, \"#0d0887\"], [0.1111111111111111, \"#46039f\"], [0.2222222222222222, \"#7201a8\"], [0.3333333333333333, \"#9c179e\"], [0.4444444444444444, \"#bd3786\"], [0.5555555555555556, \"#d8576b\"], [0.6666666666666666, \"#ed7953\"], [0.7777777777777778, \"#fb9f3a\"], [0.8888888888888888, \"#fdca26\"], [1.0, \"#f0f921\"]]}, \"colorway\": [\"#636efa\", \"#EF553B\", \"#00cc96\", \"#ab63fa\", \"#FFA15A\", \"#19d3f3\", \"#FF6692\", \"#B6E880\", \"#FF97FF\", \"#FECB52\"], \"font\": {\"color\": \"#2a3f5f\"}, \"geo\": {\"bgcolor\": \"white\", \"lakecolor\": \"white\", \"landcolor\": \"#E5ECF6\", \"showlakes\": true, \"showland\": true, \"subunitcolor\": \"white\"}, \"hoverlabel\": {\"align\": \"left\"}, \"hovermode\": \"closest\", \"mapbox\": {\"style\": \"light\"}, \"paper_bgcolor\": \"white\", \"plot_bgcolor\": \"#E5ECF6\", \"polar\": {\"angularaxis\": {\"gridcolor\": \"white\", \"linecolor\": \"white\", \"ticks\": \"\"}, \"bgcolor\": \"#E5ECF6\", \"radialaxis\": {\"gridcolor\": \"white\", \"linecolor\": \"white\", \"ticks\": \"\"}}, \"scene\": {\"xaxis\": {\"backgroundcolor\": \"#E5ECF6\", \"gridcolor\": \"white\", \"gridwidth\": 2, \"linecolor\": \"white\", \"showbackground\": true, \"ticks\": \"\", \"zerolinecolor\": \"white\"}, \"yaxis\": {\"backgroundcolor\": \"#E5ECF6\", \"gridcolor\": \"white\", \"gridwidth\": 2, \"linecolor\": \"white\", \"showbackground\": true, \"ticks\": \"\", \"zerolinecolor\": \"white\"}, \"zaxis\": {\"backgroundcolor\": \"#E5ECF6\", \"gridcolor\": \"white\", \"gridwidth\": 2, \"linecolor\": \"white\", \"showbackground\": true, \"ticks\": \"\", \"zerolinecolor\": \"white\"}}, \"shapedefaults\": {\"line\": {\"color\": \"#2a3f5f\"}}, \"ternary\": {\"aaxis\": {\"gridcolor\": \"white\", \"linecolor\": \"white\", \"ticks\": \"\"}, \"baxis\": {\"gridcolor\": \"white\", \"linecolor\": \"white\", \"ticks\": \"\"}, \"bgcolor\": \"#E5ECF6\", \"caxis\": {\"gridcolor\": \"white\", \"linecolor\": \"white\", \"ticks\": \"\"}}, \"title\": {\"x\": 0.05}, \"xaxis\": {\"automargin\": true, \"gridcolor\": \"white\", \"linecolor\": \"white\", \"ticks\": \"\", \"title\": {\"standoff\": 15}, \"zerolinecolor\": \"white\", \"zerolinewidth\": 2}, \"yaxis\": {\"automargin\": true, \"gridcolor\": \"white\", \"linecolor\": \"white\", \"ticks\": \"\", \"title\": {\"standoff\": 15}, \"zerolinecolor\": \"white\", \"zerolinewidth\": 2}}}, \"xaxis\": {\"anchor\": \"y\", \"domain\": [0.0, 1.0], \"title\": {\"text\": \"Date\"}}, \"yaxis\": {\"anchor\": \"x\", \"domain\": [0.0, 1.0], \"title\": {\"text\": \"T_Active_Cases\"}}},\n",
       "                        {\"responsive\": true}\n",
       "                    ).then(function(){\n",
       "                            \n",
       "var gd = document.getElementById('20de99b3-6749-4a08-b5f3-034090adece4');\n",
       "var x = new MutationObserver(function (mutations, observer) {{\n",
       "        var display = window.getComputedStyle(gd).display;\n",
       "        if (!display || display === 'none') {{\n",
       "            console.log([gd, 'removed!']);\n",
       "            Plotly.purge(gd);\n",
       "            observer.disconnect();\n",
       "        }}\n",
       "}});\n",
       "\n",
       "// Listen for the removal of the full notebook cells\n",
       "var notebookContainer = gd.closest('#notebook-container');\n",
       "if (notebookContainer) {{\n",
       "    x.observe(notebookContainer, {childList: true});\n",
       "}}\n",
       "\n",
       "// Listen for the clearing of the current output cell\n",
       "var outputEl = gd.closest('.output');\n",
       "if (outputEl) {{\n",
       "    x.observe(outputEl, {childList: true});\n",
       "}}\n",
       "\n",
       "                        })\n",
       "                };\n",
       "                });\n",
       "            </script>\n",
       "        </div>"
      ]
     },
     "metadata": {},
     "output_type": "display_data"
    }
   ],
   "source": [
    "px.bar(df,x='Date',y='T_Active_Cases')"
   ]
  },
  {
   "cell_type": "code",
   "execution_count": 58,
   "metadata": {},
   "outputs": [
    {
     "data": {
      "application/vnd.plotly.v1+json": {
       "config": {
        "linkText": "Export to plot.ly",
        "plotlyServerURL": "https://plot.ly",
        "showLink": true
       },
       "data": [
        {
         "line": {
          "color": "rgba(219, 64, 82, 1.0)",
          "dash": "solid",
          "shape": "linear",
          "width": 1.3
         },
         "marker": {
          "size": 3,
          "symbol": "circle"
         },
         "mode": "markers+lines",
         "name": "T_Active_Cases",
         "text": "",
         "type": "scatter",
         "x": [
          "2020-06-21",
          "2020-06-20",
          "2020-06-19",
          "2020-06-18",
          "2020-06-17",
          "2020-06-16",
          "2020-06-15",
          "2020-06-14",
          "2020-06-13",
          "2020-06-12",
          "2020-06-11",
          "2020-06-10",
          "2020-06-09",
          "2020-06-08",
          "2020-06-07",
          "2020-06-06",
          "2020-06-05",
          "2020-06-04",
          "2020-06-03",
          "2020-06-02",
          "2020-06-01",
          "2020-05-31",
          "2020-05-30",
          "2020-05-29",
          "2020-05-28",
          "2020-05-27",
          "2020-05-26",
          "2020-05-25",
          "2020-05-24",
          "2020-05-23",
          "2020-05-22",
          "2020-05-21",
          "2020-05-20",
          "2020-05-19",
          "2020-05-18",
          "2020-05-17",
          "2020-05-16",
          "2020-05-15",
          "2020-05-14",
          "2020-05-13",
          "2020-05-12",
          "2020-05-11",
          "2020-05-10",
          "2020-05-09",
          "2020-05-08",
          "2020-05-07",
          "2020-05-06",
          "2020-05-05",
          "2020-05-04",
          "2020-05-03",
          "2020-05-02",
          "2020-05-01",
          "2020-04-30",
          "2020-04-29",
          "2020-04-28",
          "2020-04-27",
          "2020-04-26",
          "2020-04-25",
          "2020-04-24",
          "2020-04-23",
          "2020-04-22",
          "2020-04-21",
          "2020-04-20",
          "2020-04-19",
          "2020-04-18",
          "2020-04-17",
          "2020-04-16",
          "2020-04-15",
          "2020-04-14",
          "2020-04-13",
          "2020-04-12",
          "2020-04-11",
          "2020-04-10",
          "2020-04-09",
          "2020-04-08",
          "2020-04-07",
          "2020-04-06",
          "2020-04-05",
          "2020-04-04",
          "2020-04-03",
          "2020-04-02",
          "2020-04-01",
          "2020-03-31",
          "2020-03-30",
          "2020-03-29",
          "2020-03-28",
          "2020-03-27",
          "2020-03-26",
          "2020-03-25",
          "2020-03-24",
          "2020-03-23",
          "2020-03-22",
          "2020-03-21",
          "2020-03-20",
          "2020-03-19",
          "2020-03-18",
          "2020-03-17",
          "2020-03-16",
          "2020-03-15",
          "2020-03-14",
          "2020-03-13",
          "2020-03-12",
          "2020-03-11",
          "2020-03-10",
          "2020-03-09",
          "2020-03-08",
          "2020-03-07",
          "2020-03-06",
          "2020-03-05",
          "2020-03-04",
          "2020-03-03",
          "2020-03-02",
          "2020-03-01",
          "2020-02-29",
          "2020-02-28",
          "2020-02-27",
          "2020-02-26",
          "2020-02-25",
          "2020-02-24",
          "2020-02-23",
          "2020-02-22",
          "2020-02-21",
          "2020-02-20",
          "2020-02-19",
          "2020-02-18",
          "2020-02-17",
          "2020-02-16",
          "2020-02-15",
          "2020-02-14",
          "2020-02-13",
          "2020-02-12",
          "2020-02-11",
          "2020-02-10",
          "2020-02-09",
          "2020-02-08",
          "2020-02-07",
          "2020-02-06",
          "2020-02-05",
          "2020-02-04",
          "2020-02-03",
          "2020-02-02",
          "2020-02-01",
          "2020-01-31",
          "2020-01-30",
          "2020-01-29",
          "2020-01-28",
          "2020-01-27",
          "2020-01-26",
          "2020-01-25",
          "2020-01-24",
          "2020-01-23",
          "2020-01-22"
         ],
         "y": [
          3993453,
          3952230,
          3962184,
          3882700,
          3829698,
          3777653,
          3742181,
          3700263,
          3640929,
          3596046,
          3554269,
          3490951,
          3456806,
          3420387,
          3468326,
          3412478,
          3373924,
          3373228,
          3315474,
          3269740,
          3195232,
          3154368,
          3125977,
          3066629,
          3033464,
          2987321,
          2953345,
          2918160,
          2895010,
          2856747,
          2816812,
          2821591,
          2771708,
          2736030,
          2698402,
          2662884,
          2629182,
          2598452,
          2552661,
          2502006,
          2477394,
          2435707,
          2410798,
          2369782,
          2341826,
          2292171,
          2246835,
          2207269,
          2169403,
          2134601,
          2091000,
          2054881,
          2010118,
          1994855,
          1968892,
          1937882,
          1900450,
          1878410,
          1821335,
          1779540,
          1731212,
          1692720,
          1656642,
          1612431,
          1569753,
          1518025,
          1466838,
          1410858,
          1375946,
          1336701,
          1298910,
          1251428,
          1203836,
          1137710,
          1084456,
          1032611,
          987650,
          936550,
          880740,
          825342,
          762485,
          703560,
          637352,
          580247,
          537139,
          490632,
          435184,
          383477,
          332649,
          291652,
          260832,
          225256,
          199879,
          173465,
          147871,
          122841,
          108448,
          96426,
          86065,
          77657,
          69503,
          60312,
          54247,
          49916,
          47271,
          45316,
          43919,
          42474,
          40741,
          40699,
          41455,
          41622,
          42659,
          43290,
          44541,
          46665,
          48243,
          49802,
          51714,
          53122,
          53255,
          55702,
          55775,
          57398,
          58779,
          58809,
          58591,
          57971,
          57306,
          52704,
          38954,
          39007,
          37804,
          36001,
          33699,
          31662,
          28697,
          25948,
          22548,
          18832,
          15953,
          11495,
          9490,
          7921,
          5906,
          5340,
          2784,
          2010,
          1357,
          879,
          605,
          510
         ]
        }
       ],
       "layout": {
        "legend": {
         "bgcolor": "#F5F6F9",
         "font": {
          "color": "#4D5663"
         }
        },
        "paper_bgcolor": "#F5F6F9",
        "plot_bgcolor": "#F5F6F9",
        "template": {
         "data": {
          "bar": [
           {
            "error_x": {
             "color": "#2a3f5f"
            },
            "error_y": {
             "color": "#2a3f5f"
            },
            "marker": {
             "line": {
              "color": "#E5ECF6",
              "width": 0.5
             }
            },
            "type": "bar"
           }
          ],
          "barpolar": [
           {
            "marker": {
             "line": {
              "color": "#E5ECF6",
              "width": 0.5
             }
            },
            "type": "barpolar"
           }
          ],
          "carpet": [
           {
            "aaxis": {
             "endlinecolor": "#2a3f5f",
             "gridcolor": "white",
             "linecolor": "white",
             "minorgridcolor": "white",
             "startlinecolor": "#2a3f5f"
            },
            "baxis": {
             "endlinecolor": "#2a3f5f",
             "gridcolor": "white",
             "linecolor": "white",
             "minorgridcolor": "white",
             "startlinecolor": "#2a3f5f"
            },
            "type": "carpet"
           }
          ],
          "choropleth": [
           {
            "colorbar": {
             "outlinewidth": 0,
             "ticks": ""
            },
            "type": "choropleth"
           }
          ],
          "contour": [
           {
            "colorbar": {
             "outlinewidth": 0,
             "ticks": ""
            },
            "colorscale": [
             [
              0,
              "#0d0887"
             ],
             [
              0.1111111111111111,
              "#46039f"
             ],
             [
              0.2222222222222222,
              "#7201a8"
             ],
             [
              0.3333333333333333,
              "#9c179e"
             ],
             [
              0.4444444444444444,
              "#bd3786"
             ],
             [
              0.5555555555555556,
              "#d8576b"
             ],
             [
              0.6666666666666666,
              "#ed7953"
             ],
             [
              0.7777777777777778,
              "#fb9f3a"
             ],
             [
              0.8888888888888888,
              "#fdca26"
             ],
             [
              1,
              "#f0f921"
             ]
            ],
            "type": "contour"
           }
          ],
          "contourcarpet": [
           {
            "colorbar": {
             "outlinewidth": 0,
             "ticks": ""
            },
            "type": "contourcarpet"
           }
          ],
          "heatmap": [
           {
            "colorbar": {
             "outlinewidth": 0,
             "ticks": ""
            },
            "colorscale": [
             [
              0,
              "#0d0887"
             ],
             [
              0.1111111111111111,
              "#46039f"
             ],
             [
              0.2222222222222222,
              "#7201a8"
             ],
             [
              0.3333333333333333,
              "#9c179e"
             ],
             [
              0.4444444444444444,
              "#bd3786"
             ],
             [
              0.5555555555555556,
              "#d8576b"
             ],
             [
              0.6666666666666666,
              "#ed7953"
             ],
             [
              0.7777777777777778,
              "#fb9f3a"
             ],
             [
              0.8888888888888888,
              "#fdca26"
             ],
             [
              1,
              "#f0f921"
             ]
            ],
            "type": "heatmap"
           }
          ],
          "heatmapgl": [
           {
            "colorbar": {
             "outlinewidth": 0,
             "ticks": ""
            },
            "colorscale": [
             [
              0,
              "#0d0887"
             ],
             [
              0.1111111111111111,
              "#46039f"
             ],
             [
              0.2222222222222222,
              "#7201a8"
             ],
             [
              0.3333333333333333,
              "#9c179e"
             ],
             [
              0.4444444444444444,
              "#bd3786"
             ],
             [
              0.5555555555555556,
              "#d8576b"
             ],
             [
              0.6666666666666666,
              "#ed7953"
             ],
             [
              0.7777777777777778,
              "#fb9f3a"
             ],
             [
              0.8888888888888888,
              "#fdca26"
             ],
             [
              1,
              "#f0f921"
             ]
            ],
            "type": "heatmapgl"
           }
          ],
          "histogram": [
           {
            "marker": {
             "colorbar": {
              "outlinewidth": 0,
              "ticks": ""
             }
            },
            "type": "histogram"
           }
          ],
          "histogram2d": [
           {
            "colorbar": {
             "outlinewidth": 0,
             "ticks": ""
            },
            "colorscale": [
             [
              0,
              "#0d0887"
             ],
             [
              0.1111111111111111,
              "#46039f"
             ],
             [
              0.2222222222222222,
              "#7201a8"
             ],
             [
              0.3333333333333333,
              "#9c179e"
             ],
             [
              0.4444444444444444,
              "#bd3786"
             ],
             [
              0.5555555555555556,
              "#d8576b"
             ],
             [
              0.6666666666666666,
              "#ed7953"
             ],
             [
              0.7777777777777778,
              "#fb9f3a"
             ],
             [
              0.8888888888888888,
              "#fdca26"
             ],
             [
              1,
              "#f0f921"
             ]
            ],
            "type": "histogram2d"
           }
          ],
          "histogram2dcontour": [
           {
            "colorbar": {
             "outlinewidth": 0,
             "ticks": ""
            },
            "colorscale": [
             [
              0,
              "#0d0887"
             ],
             [
              0.1111111111111111,
              "#46039f"
             ],
             [
              0.2222222222222222,
              "#7201a8"
             ],
             [
              0.3333333333333333,
              "#9c179e"
             ],
             [
              0.4444444444444444,
              "#bd3786"
             ],
             [
              0.5555555555555556,
              "#d8576b"
             ],
             [
              0.6666666666666666,
              "#ed7953"
             ],
             [
              0.7777777777777778,
              "#fb9f3a"
             ],
             [
              0.8888888888888888,
              "#fdca26"
             ],
             [
              1,
              "#f0f921"
             ]
            ],
            "type": "histogram2dcontour"
           }
          ],
          "mesh3d": [
           {
            "colorbar": {
             "outlinewidth": 0,
             "ticks": ""
            },
            "type": "mesh3d"
           }
          ],
          "parcoords": [
           {
            "line": {
             "colorbar": {
              "outlinewidth": 0,
              "ticks": ""
             }
            },
            "type": "parcoords"
           }
          ],
          "pie": [
           {
            "automargin": true,
            "type": "pie"
           }
          ],
          "scatter": [
           {
            "marker": {
             "colorbar": {
              "outlinewidth": 0,
              "ticks": ""
             }
            },
            "type": "scatter"
           }
          ],
          "scatter3d": [
           {
            "line": {
             "colorbar": {
              "outlinewidth": 0,
              "ticks": ""
             }
            },
            "marker": {
             "colorbar": {
              "outlinewidth": 0,
              "ticks": ""
             }
            },
            "type": "scatter3d"
           }
          ],
          "scattercarpet": [
           {
            "marker": {
             "colorbar": {
              "outlinewidth": 0,
              "ticks": ""
             }
            },
            "type": "scattercarpet"
           }
          ],
          "scattergeo": [
           {
            "marker": {
             "colorbar": {
              "outlinewidth": 0,
              "ticks": ""
             }
            },
            "type": "scattergeo"
           }
          ],
          "scattergl": [
           {
            "marker": {
             "colorbar": {
              "outlinewidth": 0,
              "ticks": ""
             }
            },
            "type": "scattergl"
           }
          ],
          "scattermapbox": [
           {
            "marker": {
             "colorbar": {
              "outlinewidth": 0,
              "ticks": ""
             }
            },
            "type": "scattermapbox"
           }
          ],
          "scatterpolar": [
           {
            "marker": {
             "colorbar": {
              "outlinewidth": 0,
              "ticks": ""
             }
            },
            "type": "scatterpolar"
           }
          ],
          "scatterpolargl": [
           {
            "marker": {
             "colorbar": {
              "outlinewidth": 0,
              "ticks": ""
             }
            },
            "type": "scatterpolargl"
           }
          ],
          "scatterternary": [
           {
            "marker": {
             "colorbar": {
              "outlinewidth": 0,
              "ticks": ""
             }
            },
            "type": "scatterternary"
           }
          ],
          "surface": [
           {
            "colorbar": {
             "outlinewidth": 0,
             "ticks": ""
            },
            "colorscale": [
             [
              0,
              "#0d0887"
             ],
             [
              0.1111111111111111,
              "#46039f"
             ],
             [
              0.2222222222222222,
              "#7201a8"
             ],
             [
              0.3333333333333333,
              "#9c179e"
             ],
             [
              0.4444444444444444,
              "#bd3786"
             ],
             [
              0.5555555555555556,
              "#d8576b"
             ],
             [
              0.6666666666666666,
              "#ed7953"
             ],
             [
              0.7777777777777778,
              "#fb9f3a"
             ],
             [
              0.8888888888888888,
              "#fdca26"
             ],
             [
              1,
              "#f0f921"
             ]
            ],
            "type": "surface"
           }
          ],
          "table": [
           {
            "cells": {
             "fill": {
              "color": "#EBF0F8"
             },
             "line": {
              "color": "white"
             }
            },
            "header": {
             "fill": {
              "color": "#C8D4E3"
             },
             "line": {
              "color": "white"
             }
            },
            "type": "table"
           }
          ]
         },
         "layout": {
          "annotationdefaults": {
           "arrowcolor": "#2a3f5f",
           "arrowhead": 0,
           "arrowwidth": 1
          },
          "coloraxis": {
           "colorbar": {
            "outlinewidth": 0,
            "ticks": ""
           }
          },
          "colorscale": {
           "diverging": [
            [
             0,
             "#8e0152"
            ],
            [
             0.1,
             "#c51b7d"
            ],
            [
             0.2,
             "#de77ae"
            ],
            [
             0.3,
             "#f1b6da"
            ],
            [
             0.4,
             "#fde0ef"
            ],
            [
             0.5,
             "#f7f7f7"
            ],
            [
             0.6,
             "#e6f5d0"
            ],
            [
             0.7,
             "#b8e186"
            ],
            [
             0.8,
             "#7fbc41"
            ],
            [
             0.9,
             "#4d9221"
            ],
            [
             1,
             "#276419"
            ]
           ],
           "sequential": [
            [
             0,
             "#0d0887"
            ],
            [
             0.1111111111111111,
             "#46039f"
            ],
            [
             0.2222222222222222,
             "#7201a8"
            ],
            [
             0.3333333333333333,
             "#9c179e"
            ],
            [
             0.4444444444444444,
             "#bd3786"
            ],
            [
             0.5555555555555556,
             "#d8576b"
            ],
            [
             0.6666666666666666,
             "#ed7953"
            ],
            [
             0.7777777777777778,
             "#fb9f3a"
            ],
            [
             0.8888888888888888,
             "#fdca26"
            ],
            [
             1,
             "#f0f921"
            ]
           ],
           "sequentialminus": [
            [
             0,
             "#0d0887"
            ],
            [
             0.1111111111111111,
             "#46039f"
            ],
            [
             0.2222222222222222,
             "#7201a8"
            ],
            [
             0.3333333333333333,
             "#9c179e"
            ],
            [
             0.4444444444444444,
             "#bd3786"
            ],
            [
             0.5555555555555556,
             "#d8576b"
            ],
            [
             0.6666666666666666,
             "#ed7953"
            ],
            [
             0.7777777777777778,
             "#fb9f3a"
            ],
            [
             0.8888888888888888,
             "#fdca26"
            ],
            [
             1,
             "#f0f921"
            ]
           ]
          },
          "colorway": [
           "#636efa",
           "#EF553B",
           "#00cc96",
           "#ab63fa",
           "#FFA15A",
           "#19d3f3",
           "#FF6692",
           "#B6E880",
           "#FF97FF",
           "#FECB52"
          ],
          "font": {
           "color": "#2a3f5f"
          },
          "geo": {
           "bgcolor": "white",
           "lakecolor": "white",
           "landcolor": "#E5ECF6",
           "showlakes": true,
           "showland": true,
           "subunitcolor": "white"
          },
          "hoverlabel": {
           "align": "left"
          },
          "hovermode": "closest",
          "mapbox": {
           "style": "light"
          },
          "paper_bgcolor": "white",
          "plot_bgcolor": "#E5ECF6",
          "polar": {
           "angularaxis": {
            "gridcolor": "white",
            "linecolor": "white",
            "ticks": ""
           },
           "bgcolor": "#E5ECF6",
           "radialaxis": {
            "gridcolor": "white",
            "linecolor": "white",
            "ticks": ""
           }
          },
          "scene": {
           "xaxis": {
            "backgroundcolor": "#E5ECF6",
            "gridcolor": "white",
            "gridwidth": 2,
            "linecolor": "white",
            "showbackground": true,
            "ticks": "",
            "zerolinecolor": "white"
           },
           "yaxis": {
            "backgroundcolor": "#E5ECF6",
            "gridcolor": "white",
            "gridwidth": 2,
            "linecolor": "white",
            "showbackground": true,
            "ticks": "",
            "zerolinecolor": "white"
           },
           "zaxis": {
            "backgroundcolor": "#E5ECF6",
            "gridcolor": "white",
            "gridwidth": 2,
            "linecolor": "white",
            "showbackground": true,
            "ticks": "",
            "zerolinecolor": "white"
           }
          },
          "shapedefaults": {
           "line": {
            "color": "#2a3f5f"
           }
          },
          "ternary": {
           "aaxis": {
            "gridcolor": "white",
            "linecolor": "white",
            "ticks": ""
           },
           "baxis": {
            "gridcolor": "white",
            "linecolor": "white",
            "ticks": ""
           },
           "bgcolor": "#E5ECF6",
           "caxis": {
            "gridcolor": "white",
            "linecolor": "white",
            "ticks": ""
           }
          },
          "title": {
           "x": 0.05
          },
          "xaxis": {
           "automargin": true,
           "gridcolor": "white",
           "linecolor": "white",
           "ticks": "",
           "title": {
            "standoff": 15
           },
           "zerolinecolor": "white",
           "zerolinewidth": 2
          },
          "yaxis": {
           "automargin": true,
           "gridcolor": "white",
           "linecolor": "white",
           "ticks": "",
           "title": {
            "standoff": 15
           },
           "zerolinecolor": "white",
           "zerolinewidth": 2
          }
         }
        },
        "title": {
         "font": {
          "color": "#4D5663"
         },
         "text": "MY GRAPH"
        },
        "xaxis": {
         "gridcolor": "#E1E5ED",
         "showgrid": true,
         "tickfont": {
          "color": "#4D5663"
         },
         "title": {
          "font": {
           "color": "#4D5663"
          },
          "text": "Date"
         },
         "zerolinecolor": "#E1E5ED"
        },
        "yaxis": {
         "gridcolor": "#E1E5ED",
         "showgrid": true,
         "tickfont": {
          "color": "#4D5663"
         },
         "title": {
          "font": {
           "color": "#4D5663"
          },
          "text": "TOTAL CASES IN THE WORLD"
         },
         "zerolinecolor": "#E1E5ED"
        }
       }
      },
      "text/html": [
       "<div>\n",
       "        \n",
       "        \n",
       "            <div id=\"57cf7e0a-b275-4764-9608-b57199763834\" class=\"plotly-graph-div\" style=\"height:525px; width:100%;\"></div>\n",
       "            <script type=\"text/javascript\">\n",
       "                require([\"plotly\"], function(Plotly) {\n",
       "                    window.PLOTLYENV=window.PLOTLYENV || {};\n",
       "                    window.PLOTLYENV.BASE_URL='https://plot.ly';\n",
       "                    \n",
       "                if (document.getElementById(\"57cf7e0a-b275-4764-9608-b57199763834\")) {\n",
       "                    Plotly.newPlot(\n",
       "                        '57cf7e0a-b275-4764-9608-b57199763834',\n",
       "                        [{\"line\": {\"color\": \"rgba(219, 64, 82, 1.0)\", \"dash\": \"solid\", \"shape\": \"linear\", \"width\": 1.3}, \"marker\": {\"size\": 3, \"symbol\": \"circle\"}, \"mode\": \"markers+lines\", \"name\": \"T_Active_Cases\", \"text\": \"\", \"type\": \"scatter\", \"x\": [\"2020-06-21\", \"2020-06-20\", \"2020-06-19\", \"2020-06-18\", \"2020-06-17\", \"2020-06-16\", \"2020-06-15\", \"2020-06-14\", \"2020-06-13\", \"2020-06-12\", \"2020-06-11\", \"2020-06-10\", \"2020-06-09\", \"2020-06-08\", \"2020-06-07\", \"2020-06-06\", \"2020-06-05\", \"2020-06-04\", \"2020-06-03\", \"2020-06-02\", \"2020-06-01\", \"2020-05-31\", \"2020-05-30\", \"2020-05-29\", \"2020-05-28\", \"2020-05-27\", \"2020-05-26\", \"2020-05-25\", \"2020-05-24\", \"2020-05-23\", \"2020-05-22\", \"2020-05-21\", \"2020-05-20\", \"2020-05-19\", \"2020-05-18\", \"2020-05-17\", \"2020-05-16\", \"2020-05-15\", \"2020-05-14\", \"2020-05-13\", \"2020-05-12\", \"2020-05-11\", \"2020-05-10\", \"2020-05-09\", \"2020-05-08\", \"2020-05-07\", \"2020-05-06\", \"2020-05-05\", \"2020-05-04\", \"2020-05-03\", \"2020-05-02\", \"2020-05-01\", \"2020-04-30\", \"2020-04-29\", \"2020-04-28\", \"2020-04-27\", \"2020-04-26\", \"2020-04-25\", \"2020-04-24\", \"2020-04-23\", \"2020-04-22\", \"2020-04-21\", \"2020-04-20\", \"2020-04-19\", \"2020-04-18\", \"2020-04-17\", \"2020-04-16\", \"2020-04-15\", \"2020-04-14\", \"2020-04-13\", \"2020-04-12\", \"2020-04-11\", \"2020-04-10\", \"2020-04-09\", \"2020-04-08\", \"2020-04-07\", \"2020-04-06\", \"2020-04-05\", \"2020-04-04\", \"2020-04-03\", \"2020-04-02\", \"2020-04-01\", \"2020-03-31\", \"2020-03-30\", \"2020-03-29\", \"2020-03-28\", \"2020-03-27\", \"2020-03-26\", \"2020-03-25\", \"2020-03-24\", \"2020-03-23\", \"2020-03-22\", \"2020-03-21\", \"2020-03-20\", \"2020-03-19\", \"2020-03-18\", \"2020-03-17\", \"2020-03-16\", \"2020-03-15\", \"2020-03-14\", \"2020-03-13\", \"2020-03-12\", \"2020-03-11\", \"2020-03-10\", \"2020-03-09\", \"2020-03-08\", \"2020-03-07\", \"2020-03-06\", \"2020-03-05\", \"2020-03-04\", \"2020-03-03\", \"2020-03-02\", \"2020-03-01\", \"2020-02-29\", \"2020-02-28\", \"2020-02-27\", \"2020-02-26\", \"2020-02-25\", \"2020-02-24\", \"2020-02-23\", \"2020-02-22\", \"2020-02-21\", \"2020-02-20\", \"2020-02-19\", \"2020-02-18\", \"2020-02-17\", \"2020-02-16\", \"2020-02-15\", \"2020-02-14\", \"2020-02-13\", \"2020-02-12\", \"2020-02-11\", \"2020-02-10\", \"2020-02-09\", \"2020-02-08\", \"2020-02-07\", \"2020-02-06\", \"2020-02-05\", \"2020-02-04\", \"2020-02-03\", \"2020-02-02\", \"2020-02-01\", \"2020-01-31\", \"2020-01-30\", \"2020-01-29\", \"2020-01-28\", \"2020-01-27\", \"2020-01-26\", \"2020-01-25\", \"2020-01-24\", \"2020-01-23\", \"2020-01-22\"], \"y\": [3993453, 3952230, 3962184, 3882700, 3829698, 3777653, 3742181, 3700263, 3640929, 3596046, 3554269, 3490951, 3456806, 3420387, 3468326, 3412478, 3373924, 3373228, 3315474, 3269740, 3195232, 3154368, 3125977, 3066629, 3033464, 2987321, 2953345, 2918160, 2895010, 2856747, 2816812, 2821591, 2771708, 2736030, 2698402, 2662884, 2629182, 2598452, 2552661, 2502006, 2477394, 2435707, 2410798, 2369782, 2341826, 2292171, 2246835, 2207269, 2169403, 2134601, 2091000, 2054881, 2010118, 1994855, 1968892, 1937882, 1900450, 1878410, 1821335, 1779540, 1731212, 1692720, 1656642, 1612431, 1569753, 1518025, 1466838, 1410858, 1375946, 1336701, 1298910, 1251428, 1203836, 1137710, 1084456, 1032611, 987650, 936550, 880740, 825342, 762485, 703560, 637352, 580247, 537139, 490632, 435184, 383477, 332649, 291652, 260832, 225256, 199879, 173465, 147871, 122841, 108448, 96426, 86065, 77657, 69503, 60312, 54247, 49916, 47271, 45316, 43919, 42474, 40741, 40699, 41455, 41622, 42659, 43290, 44541, 46665, 48243, 49802, 51714, 53122, 53255, 55702, 55775, 57398, 58779, 58809, 58591, 57971, 57306, 52704, 38954, 39007, 37804, 36001, 33699, 31662, 28697, 25948, 22548, 18832, 15953, 11495, 9490, 7921, 5906, 5340, 2784, 2010, 1357, 879, 605, 510]}],\n",
       "                        {\"legend\": {\"bgcolor\": \"#F5F6F9\", \"font\": {\"color\": \"#4D5663\"}}, \"paper_bgcolor\": \"#F5F6F9\", \"plot_bgcolor\": \"#F5F6F9\", \"template\": {\"data\": {\"bar\": [{\"error_x\": {\"color\": \"#2a3f5f\"}, \"error_y\": {\"color\": \"#2a3f5f\"}, \"marker\": {\"line\": {\"color\": \"#E5ECF6\", \"width\": 0.5}}, \"type\": \"bar\"}], \"barpolar\": [{\"marker\": {\"line\": {\"color\": \"#E5ECF6\", \"width\": 0.5}}, \"type\": \"barpolar\"}], \"carpet\": [{\"aaxis\": {\"endlinecolor\": \"#2a3f5f\", \"gridcolor\": \"white\", \"linecolor\": \"white\", \"minorgridcolor\": \"white\", \"startlinecolor\": \"#2a3f5f\"}, \"baxis\": {\"endlinecolor\": \"#2a3f5f\", \"gridcolor\": \"white\", \"linecolor\": \"white\", \"minorgridcolor\": \"white\", \"startlinecolor\": \"#2a3f5f\"}, \"type\": \"carpet\"}], \"choropleth\": [{\"colorbar\": {\"outlinewidth\": 0, \"ticks\": \"\"}, \"type\": \"choropleth\"}], \"contour\": [{\"colorbar\": {\"outlinewidth\": 0, \"ticks\": \"\"}, \"colorscale\": [[0.0, \"#0d0887\"], [0.1111111111111111, \"#46039f\"], [0.2222222222222222, \"#7201a8\"], [0.3333333333333333, \"#9c179e\"], [0.4444444444444444, \"#bd3786\"], [0.5555555555555556, \"#d8576b\"], [0.6666666666666666, \"#ed7953\"], [0.7777777777777778, \"#fb9f3a\"], [0.8888888888888888, \"#fdca26\"], [1.0, \"#f0f921\"]], \"type\": \"contour\"}], \"contourcarpet\": [{\"colorbar\": {\"outlinewidth\": 0, \"ticks\": \"\"}, \"type\": \"contourcarpet\"}], \"heatmap\": [{\"colorbar\": {\"outlinewidth\": 0, \"ticks\": \"\"}, \"colorscale\": [[0.0, \"#0d0887\"], [0.1111111111111111, \"#46039f\"], [0.2222222222222222, \"#7201a8\"], [0.3333333333333333, \"#9c179e\"], [0.4444444444444444, \"#bd3786\"], [0.5555555555555556, \"#d8576b\"], [0.6666666666666666, \"#ed7953\"], [0.7777777777777778, \"#fb9f3a\"], [0.8888888888888888, \"#fdca26\"], [1.0, \"#f0f921\"]], \"type\": \"heatmap\"}], \"heatmapgl\": [{\"colorbar\": {\"outlinewidth\": 0, \"ticks\": \"\"}, \"colorscale\": [[0.0, \"#0d0887\"], [0.1111111111111111, \"#46039f\"], [0.2222222222222222, \"#7201a8\"], [0.3333333333333333, \"#9c179e\"], [0.4444444444444444, \"#bd3786\"], [0.5555555555555556, \"#d8576b\"], [0.6666666666666666, \"#ed7953\"], [0.7777777777777778, \"#fb9f3a\"], [0.8888888888888888, \"#fdca26\"], [1.0, \"#f0f921\"]], \"type\": \"heatmapgl\"}], \"histogram\": [{\"marker\": {\"colorbar\": {\"outlinewidth\": 0, \"ticks\": \"\"}}, \"type\": \"histogram\"}], \"histogram2d\": [{\"colorbar\": {\"outlinewidth\": 0, \"ticks\": \"\"}, \"colorscale\": [[0.0, \"#0d0887\"], [0.1111111111111111, \"#46039f\"], [0.2222222222222222, \"#7201a8\"], [0.3333333333333333, \"#9c179e\"], [0.4444444444444444, \"#bd3786\"], [0.5555555555555556, \"#d8576b\"], [0.6666666666666666, \"#ed7953\"], [0.7777777777777778, \"#fb9f3a\"], [0.8888888888888888, \"#fdca26\"], [1.0, \"#f0f921\"]], \"type\": \"histogram2d\"}], \"histogram2dcontour\": [{\"colorbar\": {\"outlinewidth\": 0, \"ticks\": \"\"}, \"colorscale\": [[0.0, \"#0d0887\"], [0.1111111111111111, \"#46039f\"], [0.2222222222222222, \"#7201a8\"], [0.3333333333333333, \"#9c179e\"], [0.4444444444444444, \"#bd3786\"], [0.5555555555555556, \"#d8576b\"], [0.6666666666666666, \"#ed7953\"], [0.7777777777777778, \"#fb9f3a\"], [0.8888888888888888, \"#fdca26\"], [1.0, \"#f0f921\"]], \"type\": \"histogram2dcontour\"}], \"mesh3d\": [{\"colorbar\": {\"outlinewidth\": 0, \"ticks\": \"\"}, \"type\": \"mesh3d\"}], \"parcoords\": [{\"line\": {\"colorbar\": {\"outlinewidth\": 0, \"ticks\": \"\"}}, \"type\": \"parcoords\"}], \"pie\": [{\"automargin\": true, \"type\": \"pie\"}], \"scatter\": [{\"marker\": {\"colorbar\": {\"outlinewidth\": 0, \"ticks\": \"\"}}, \"type\": \"scatter\"}], \"scatter3d\": [{\"line\": {\"colorbar\": {\"outlinewidth\": 0, \"ticks\": \"\"}}, \"marker\": {\"colorbar\": {\"outlinewidth\": 0, \"ticks\": \"\"}}, \"type\": \"scatter3d\"}], \"scattercarpet\": [{\"marker\": {\"colorbar\": {\"outlinewidth\": 0, \"ticks\": \"\"}}, \"type\": \"scattercarpet\"}], \"scattergeo\": [{\"marker\": {\"colorbar\": {\"outlinewidth\": 0, \"ticks\": \"\"}}, \"type\": \"scattergeo\"}], \"scattergl\": [{\"marker\": {\"colorbar\": {\"outlinewidth\": 0, \"ticks\": \"\"}}, \"type\": \"scattergl\"}], \"scattermapbox\": [{\"marker\": {\"colorbar\": {\"outlinewidth\": 0, \"ticks\": \"\"}}, \"type\": \"scattermapbox\"}], \"scatterpolar\": [{\"marker\": {\"colorbar\": {\"outlinewidth\": 0, \"ticks\": \"\"}}, \"type\": \"scatterpolar\"}], \"scatterpolargl\": [{\"marker\": {\"colorbar\": {\"outlinewidth\": 0, \"ticks\": \"\"}}, \"type\": \"scatterpolargl\"}], \"scatterternary\": [{\"marker\": {\"colorbar\": {\"outlinewidth\": 0, \"ticks\": \"\"}}, \"type\": \"scatterternary\"}], \"surface\": [{\"colorbar\": {\"outlinewidth\": 0, \"ticks\": \"\"}, \"colorscale\": [[0.0, \"#0d0887\"], [0.1111111111111111, \"#46039f\"], [0.2222222222222222, \"#7201a8\"], [0.3333333333333333, \"#9c179e\"], [0.4444444444444444, \"#bd3786\"], [0.5555555555555556, \"#d8576b\"], [0.6666666666666666, \"#ed7953\"], [0.7777777777777778, \"#fb9f3a\"], [0.8888888888888888, \"#fdca26\"], [1.0, \"#f0f921\"]], \"type\": \"surface\"}], \"table\": [{\"cells\": {\"fill\": {\"color\": \"#EBF0F8\"}, \"line\": {\"color\": \"white\"}}, \"header\": {\"fill\": {\"color\": \"#C8D4E3\"}, \"line\": {\"color\": \"white\"}}, \"type\": \"table\"}]}, \"layout\": {\"annotationdefaults\": {\"arrowcolor\": \"#2a3f5f\", \"arrowhead\": 0, \"arrowwidth\": 1}, \"coloraxis\": {\"colorbar\": {\"outlinewidth\": 0, \"ticks\": \"\"}}, \"colorscale\": {\"diverging\": [[0, \"#8e0152\"], [0.1, \"#c51b7d\"], [0.2, \"#de77ae\"], [0.3, \"#f1b6da\"], [0.4, \"#fde0ef\"], [0.5, \"#f7f7f7\"], [0.6, \"#e6f5d0\"], [0.7, \"#b8e186\"], [0.8, \"#7fbc41\"], [0.9, \"#4d9221\"], [1, \"#276419\"]], \"sequential\": [[0.0, \"#0d0887\"], [0.1111111111111111, \"#46039f\"], [0.2222222222222222, \"#7201a8\"], [0.3333333333333333, \"#9c179e\"], [0.4444444444444444, \"#bd3786\"], [0.5555555555555556, \"#d8576b\"], [0.6666666666666666, \"#ed7953\"], [0.7777777777777778, \"#fb9f3a\"], [0.8888888888888888, \"#fdca26\"], [1.0, \"#f0f921\"]], \"sequentialminus\": [[0.0, \"#0d0887\"], [0.1111111111111111, \"#46039f\"], [0.2222222222222222, \"#7201a8\"], [0.3333333333333333, \"#9c179e\"], [0.4444444444444444, \"#bd3786\"], [0.5555555555555556, \"#d8576b\"], [0.6666666666666666, \"#ed7953\"], [0.7777777777777778, \"#fb9f3a\"], [0.8888888888888888, \"#fdca26\"], [1.0, \"#f0f921\"]]}, \"colorway\": [\"#636efa\", \"#EF553B\", \"#00cc96\", \"#ab63fa\", \"#FFA15A\", \"#19d3f3\", \"#FF6692\", \"#B6E880\", \"#FF97FF\", \"#FECB52\"], \"font\": {\"color\": \"#2a3f5f\"}, \"geo\": {\"bgcolor\": \"white\", \"lakecolor\": \"white\", \"landcolor\": \"#E5ECF6\", \"showlakes\": true, \"showland\": true, \"subunitcolor\": \"white\"}, \"hoverlabel\": {\"align\": \"left\"}, \"hovermode\": \"closest\", \"mapbox\": {\"style\": \"light\"}, \"paper_bgcolor\": \"white\", \"plot_bgcolor\": \"#E5ECF6\", \"polar\": {\"angularaxis\": {\"gridcolor\": \"white\", \"linecolor\": \"white\", \"ticks\": \"\"}, \"bgcolor\": \"#E5ECF6\", \"radialaxis\": {\"gridcolor\": \"white\", \"linecolor\": \"white\", \"ticks\": \"\"}}, \"scene\": {\"xaxis\": {\"backgroundcolor\": \"#E5ECF6\", \"gridcolor\": \"white\", \"gridwidth\": 2, \"linecolor\": \"white\", \"showbackground\": true, \"ticks\": \"\", \"zerolinecolor\": \"white\"}, \"yaxis\": {\"backgroundcolor\": \"#E5ECF6\", \"gridcolor\": \"white\", \"gridwidth\": 2, \"linecolor\": \"white\", \"showbackground\": true, \"ticks\": \"\", \"zerolinecolor\": \"white\"}, \"zaxis\": {\"backgroundcolor\": \"#E5ECF6\", \"gridcolor\": \"white\", \"gridwidth\": 2, \"linecolor\": \"white\", \"showbackground\": true, \"ticks\": \"\", \"zerolinecolor\": \"white\"}}, \"shapedefaults\": {\"line\": {\"color\": \"#2a3f5f\"}}, \"ternary\": {\"aaxis\": {\"gridcolor\": \"white\", \"linecolor\": \"white\", \"ticks\": \"\"}, \"baxis\": {\"gridcolor\": \"white\", \"linecolor\": \"white\", \"ticks\": \"\"}, \"bgcolor\": \"#E5ECF6\", \"caxis\": {\"gridcolor\": \"white\", \"linecolor\": \"white\", \"ticks\": \"\"}}, \"title\": {\"x\": 0.05}, \"xaxis\": {\"automargin\": true, \"gridcolor\": \"white\", \"linecolor\": \"white\", \"ticks\": \"\", \"title\": {\"standoff\": 15}, \"zerolinecolor\": \"white\", \"zerolinewidth\": 2}, \"yaxis\": {\"automargin\": true, \"gridcolor\": \"white\", \"linecolor\": \"white\", \"ticks\": \"\", \"title\": {\"standoff\": 15}, \"zerolinecolor\": \"white\", \"zerolinewidth\": 2}}}, \"title\": {\"font\": {\"color\": \"#4D5663\"}, \"text\": \"MY GRAPH\"}, \"xaxis\": {\"gridcolor\": \"#E1E5ED\", \"showgrid\": true, \"tickfont\": {\"color\": \"#4D5663\"}, \"title\": {\"font\": {\"color\": \"#4D5663\"}, \"text\": \"Date\"}, \"zerolinecolor\": \"#E1E5ED\"}, \"yaxis\": {\"gridcolor\": \"#E1E5ED\", \"showgrid\": true, \"tickfont\": {\"color\": \"#4D5663\"}, \"title\": {\"font\": {\"color\": \"#4D5663\"}, \"text\": \"TOTAL CASES IN THE WORLD\"}, \"zerolinecolor\": \"#E1E5ED\"}},\n",
       "                        {\"showLink\": true, \"linkText\": \"Export to plot.ly\", \"plotlyServerURL\": \"https://plot.ly\", \"responsive\": true}\n",
       "                    ).then(function(){\n",
       "                            \n",
       "var gd = document.getElementById('57cf7e0a-b275-4764-9608-b57199763834');\n",
       "var x = new MutationObserver(function (mutations, observer) {{\n",
       "        var display = window.getComputedStyle(gd).display;\n",
       "        if (!display || display === 'none') {{\n",
       "            console.log([gd, 'removed!']);\n",
       "            Plotly.purge(gd);\n",
       "            observer.disconnect();\n",
       "        }}\n",
       "}});\n",
       "\n",
       "// Listen for the removal of the full notebook cells\n",
       "var notebookContainer = gd.closest('#notebook-container');\n",
       "if (notebookContainer) {{\n",
       "    x.observe(notebookContainer, {childList: true});\n",
       "}}\n",
       "\n",
       "// Listen for the clearing of the current output cell\n",
       "var outputEl = gd.closest('.output');\n",
       "if (outputEl) {{\n",
       "    x.observe(outputEl, {childList: true});\n",
       "}}\n",
       "\n",
       "                        })\n",
       "                };\n",
       "                });\n",
       "            </script>\n",
       "        </div>"
      ]
     },
     "metadata": {},
     "output_type": "display_data"
    }
   ],
   "source": [
    "####USING PLOTLY\n",
    "df.iplot(kind='scatter',x='Date',y='T_Active_Cases',mode='markers+lines',title='MY GRAPH',xTitle='Date',yTitle='TOTAL CASES IN THE WORLD',color=\"red\",size=3)\n"
   ]
  },
  {
   "cell_type": "code",
   "execution_count": 59,
   "metadata": {},
   "outputs": [
    {
     "data": {
      "application/vnd.plotly.v1+json": {
       "config": {
        "plotlyServerURL": "https://plot.ly"
       },
       "data": [
        {
         "hovertemplate": "Date=%{x}<br>T_Active_Cases=%{y}<extra></extra>",
         "legendgroup": "",
         "marker": {
          "color": "#636efa",
          "symbol": "circle"
         },
         "mode": "markers",
         "name": "",
         "orientation": "v",
         "showlegend": false,
         "type": "scatter",
         "x": [
          "2020-06-21T00:00:00",
          "2020-06-20T00:00:00",
          "2020-06-19T00:00:00",
          "2020-06-18T00:00:00",
          "2020-06-17T00:00:00",
          "2020-06-16T00:00:00",
          "2020-06-15T00:00:00",
          "2020-06-14T00:00:00",
          "2020-06-13T00:00:00",
          "2020-06-12T00:00:00",
          "2020-06-11T00:00:00",
          "2020-06-10T00:00:00",
          "2020-06-09T00:00:00",
          "2020-06-08T00:00:00",
          "2020-06-07T00:00:00",
          "2020-06-06T00:00:00",
          "2020-06-05T00:00:00",
          "2020-06-04T00:00:00",
          "2020-06-03T00:00:00",
          "2020-06-02T00:00:00",
          "2020-06-01T00:00:00",
          "2020-05-31T00:00:00",
          "2020-05-30T00:00:00",
          "2020-05-29T00:00:00",
          "2020-05-28T00:00:00",
          "2020-05-27T00:00:00",
          "2020-05-26T00:00:00",
          "2020-05-25T00:00:00",
          "2020-05-24T00:00:00",
          "2020-05-23T00:00:00",
          "2020-05-22T00:00:00",
          "2020-05-21T00:00:00",
          "2020-05-20T00:00:00",
          "2020-05-19T00:00:00",
          "2020-05-18T00:00:00",
          "2020-05-17T00:00:00",
          "2020-05-16T00:00:00",
          "2020-05-15T00:00:00",
          "2020-05-14T00:00:00",
          "2020-05-13T00:00:00",
          "2020-05-12T00:00:00",
          "2020-05-11T00:00:00",
          "2020-05-10T00:00:00",
          "2020-05-09T00:00:00",
          "2020-05-08T00:00:00",
          "2020-05-07T00:00:00",
          "2020-05-06T00:00:00",
          "2020-05-05T00:00:00",
          "2020-05-04T00:00:00",
          "2020-05-03T00:00:00",
          "2020-05-02T00:00:00",
          "2020-05-01T00:00:00",
          "2020-04-30T00:00:00",
          "2020-04-29T00:00:00",
          "2020-04-28T00:00:00",
          "2020-04-27T00:00:00",
          "2020-04-26T00:00:00",
          "2020-04-25T00:00:00",
          "2020-04-24T00:00:00",
          "2020-04-23T00:00:00",
          "2020-04-22T00:00:00",
          "2020-04-21T00:00:00",
          "2020-04-20T00:00:00",
          "2020-04-19T00:00:00",
          "2020-04-18T00:00:00",
          "2020-04-17T00:00:00",
          "2020-04-16T00:00:00",
          "2020-04-15T00:00:00",
          "2020-04-14T00:00:00",
          "2020-04-13T00:00:00",
          "2020-04-12T00:00:00",
          "2020-04-11T00:00:00",
          "2020-04-10T00:00:00",
          "2020-04-09T00:00:00",
          "2020-04-08T00:00:00",
          "2020-04-07T00:00:00",
          "2020-04-06T00:00:00",
          "2020-04-05T00:00:00",
          "2020-04-04T00:00:00",
          "2020-04-03T00:00:00",
          "2020-04-02T00:00:00",
          "2020-04-01T00:00:00",
          "2020-03-31T00:00:00",
          "2020-03-30T00:00:00",
          "2020-03-29T00:00:00",
          "2020-03-28T00:00:00",
          "2020-03-27T00:00:00",
          "2020-03-26T00:00:00",
          "2020-03-25T00:00:00",
          "2020-03-24T00:00:00",
          "2020-03-23T00:00:00",
          "2020-03-22T00:00:00",
          "2020-03-21T00:00:00",
          "2020-03-20T00:00:00",
          "2020-03-19T00:00:00",
          "2020-03-18T00:00:00",
          "2020-03-17T00:00:00",
          "2020-03-16T00:00:00",
          "2020-03-15T00:00:00",
          "2020-03-14T00:00:00",
          "2020-03-13T00:00:00",
          "2020-03-12T00:00:00",
          "2020-03-11T00:00:00",
          "2020-03-10T00:00:00",
          "2020-03-09T00:00:00",
          "2020-03-08T00:00:00",
          "2020-03-07T00:00:00",
          "2020-03-06T00:00:00",
          "2020-03-05T00:00:00",
          "2020-03-04T00:00:00",
          "2020-03-03T00:00:00",
          "2020-03-02T00:00:00",
          "2020-03-01T00:00:00",
          "2020-02-29T00:00:00",
          "2020-02-28T00:00:00",
          "2020-02-27T00:00:00",
          "2020-02-26T00:00:00",
          "2020-02-25T00:00:00",
          "2020-02-24T00:00:00",
          "2020-02-23T00:00:00",
          "2020-02-22T00:00:00",
          "2020-02-21T00:00:00",
          "2020-02-20T00:00:00",
          "2020-02-19T00:00:00",
          "2020-02-18T00:00:00",
          "2020-02-17T00:00:00",
          "2020-02-16T00:00:00",
          "2020-02-15T00:00:00",
          "2020-02-14T00:00:00",
          "2020-02-13T00:00:00",
          "2020-02-12T00:00:00",
          "2020-02-11T00:00:00",
          "2020-02-10T00:00:00",
          "2020-02-09T00:00:00",
          "2020-02-08T00:00:00",
          "2020-02-07T00:00:00",
          "2020-02-06T00:00:00",
          "2020-02-05T00:00:00",
          "2020-02-04T00:00:00",
          "2020-02-03T00:00:00",
          "2020-02-02T00:00:00",
          "2020-02-01T00:00:00",
          "2020-01-31T00:00:00",
          "2020-01-30T00:00:00",
          "2020-01-29T00:00:00",
          "2020-01-28T00:00:00",
          "2020-01-27T00:00:00",
          "2020-01-26T00:00:00",
          "2020-01-25T00:00:00",
          "2020-01-24T00:00:00",
          "2020-01-23T00:00:00",
          "2020-01-22T00:00:00"
         ],
         "xaxis": "x",
         "y": [
          3993453,
          3952230,
          3962184,
          3882700,
          3829698,
          3777653,
          3742181,
          3700263,
          3640929,
          3596046,
          3554269,
          3490951,
          3456806,
          3420387,
          3468326,
          3412478,
          3373924,
          3373228,
          3315474,
          3269740,
          3195232,
          3154368,
          3125977,
          3066629,
          3033464,
          2987321,
          2953345,
          2918160,
          2895010,
          2856747,
          2816812,
          2821591,
          2771708,
          2736030,
          2698402,
          2662884,
          2629182,
          2598452,
          2552661,
          2502006,
          2477394,
          2435707,
          2410798,
          2369782,
          2341826,
          2292171,
          2246835,
          2207269,
          2169403,
          2134601,
          2091000,
          2054881,
          2010118,
          1994855,
          1968892,
          1937882,
          1900450,
          1878410,
          1821335,
          1779540,
          1731212,
          1692720,
          1656642,
          1612431,
          1569753,
          1518025,
          1466838,
          1410858,
          1375946,
          1336701,
          1298910,
          1251428,
          1203836,
          1137710,
          1084456,
          1032611,
          987650,
          936550,
          880740,
          825342,
          762485,
          703560,
          637352,
          580247,
          537139,
          490632,
          435184,
          383477,
          332649,
          291652,
          260832,
          225256,
          199879,
          173465,
          147871,
          122841,
          108448,
          96426,
          86065,
          77657,
          69503,
          60312,
          54247,
          49916,
          47271,
          45316,
          43919,
          42474,
          40741,
          40699,
          41455,
          41622,
          42659,
          43290,
          44541,
          46665,
          48243,
          49802,
          51714,
          53122,
          53255,
          55702,
          55775,
          57398,
          58779,
          58809,
          58591,
          57971,
          57306,
          52704,
          38954,
          39007,
          37804,
          36001,
          33699,
          31662,
          28697,
          25948,
          22548,
          18832,
          15953,
          11495,
          9490,
          7921,
          5906,
          5340,
          2784,
          2010,
          1357,
          879,
          605,
          510
         ],
         "yaxis": "y"
        }
       ],
       "layout": {
        "legend": {
         "tracegroupgap": 0
        },
        "margin": {
         "t": 60
        },
        "template": {
         "data": {
          "bar": [
           {
            "error_x": {
             "color": "#2a3f5f"
            },
            "error_y": {
             "color": "#2a3f5f"
            },
            "marker": {
             "line": {
              "color": "#E5ECF6",
              "width": 0.5
             }
            },
            "type": "bar"
           }
          ],
          "barpolar": [
           {
            "marker": {
             "line": {
              "color": "#E5ECF6",
              "width": 0.5
             }
            },
            "type": "barpolar"
           }
          ],
          "carpet": [
           {
            "aaxis": {
             "endlinecolor": "#2a3f5f",
             "gridcolor": "white",
             "linecolor": "white",
             "minorgridcolor": "white",
             "startlinecolor": "#2a3f5f"
            },
            "baxis": {
             "endlinecolor": "#2a3f5f",
             "gridcolor": "white",
             "linecolor": "white",
             "minorgridcolor": "white",
             "startlinecolor": "#2a3f5f"
            },
            "type": "carpet"
           }
          ],
          "choropleth": [
           {
            "colorbar": {
             "outlinewidth": 0,
             "ticks": ""
            },
            "type": "choropleth"
           }
          ],
          "contour": [
           {
            "colorbar": {
             "outlinewidth": 0,
             "ticks": ""
            },
            "colorscale": [
             [
              0,
              "#0d0887"
             ],
             [
              0.1111111111111111,
              "#46039f"
             ],
             [
              0.2222222222222222,
              "#7201a8"
             ],
             [
              0.3333333333333333,
              "#9c179e"
             ],
             [
              0.4444444444444444,
              "#bd3786"
             ],
             [
              0.5555555555555556,
              "#d8576b"
             ],
             [
              0.6666666666666666,
              "#ed7953"
             ],
             [
              0.7777777777777778,
              "#fb9f3a"
             ],
             [
              0.8888888888888888,
              "#fdca26"
             ],
             [
              1,
              "#f0f921"
             ]
            ],
            "type": "contour"
           }
          ],
          "contourcarpet": [
           {
            "colorbar": {
             "outlinewidth": 0,
             "ticks": ""
            },
            "type": "contourcarpet"
           }
          ],
          "heatmap": [
           {
            "colorbar": {
             "outlinewidth": 0,
             "ticks": ""
            },
            "colorscale": [
             [
              0,
              "#0d0887"
             ],
             [
              0.1111111111111111,
              "#46039f"
             ],
             [
              0.2222222222222222,
              "#7201a8"
             ],
             [
              0.3333333333333333,
              "#9c179e"
             ],
             [
              0.4444444444444444,
              "#bd3786"
             ],
             [
              0.5555555555555556,
              "#d8576b"
             ],
             [
              0.6666666666666666,
              "#ed7953"
             ],
             [
              0.7777777777777778,
              "#fb9f3a"
             ],
             [
              0.8888888888888888,
              "#fdca26"
             ],
             [
              1,
              "#f0f921"
             ]
            ],
            "type": "heatmap"
           }
          ],
          "heatmapgl": [
           {
            "colorbar": {
             "outlinewidth": 0,
             "ticks": ""
            },
            "colorscale": [
             [
              0,
              "#0d0887"
             ],
             [
              0.1111111111111111,
              "#46039f"
             ],
             [
              0.2222222222222222,
              "#7201a8"
             ],
             [
              0.3333333333333333,
              "#9c179e"
             ],
             [
              0.4444444444444444,
              "#bd3786"
             ],
             [
              0.5555555555555556,
              "#d8576b"
             ],
             [
              0.6666666666666666,
              "#ed7953"
             ],
             [
              0.7777777777777778,
              "#fb9f3a"
             ],
             [
              0.8888888888888888,
              "#fdca26"
             ],
             [
              1,
              "#f0f921"
             ]
            ],
            "type": "heatmapgl"
           }
          ],
          "histogram": [
           {
            "marker": {
             "colorbar": {
              "outlinewidth": 0,
              "ticks": ""
             }
            },
            "type": "histogram"
           }
          ],
          "histogram2d": [
           {
            "colorbar": {
             "outlinewidth": 0,
             "ticks": ""
            },
            "colorscale": [
             [
              0,
              "#0d0887"
             ],
             [
              0.1111111111111111,
              "#46039f"
             ],
             [
              0.2222222222222222,
              "#7201a8"
             ],
             [
              0.3333333333333333,
              "#9c179e"
             ],
             [
              0.4444444444444444,
              "#bd3786"
             ],
             [
              0.5555555555555556,
              "#d8576b"
             ],
             [
              0.6666666666666666,
              "#ed7953"
             ],
             [
              0.7777777777777778,
              "#fb9f3a"
             ],
             [
              0.8888888888888888,
              "#fdca26"
             ],
             [
              1,
              "#f0f921"
             ]
            ],
            "type": "histogram2d"
           }
          ],
          "histogram2dcontour": [
           {
            "colorbar": {
             "outlinewidth": 0,
             "ticks": ""
            },
            "colorscale": [
             [
              0,
              "#0d0887"
             ],
             [
              0.1111111111111111,
              "#46039f"
             ],
             [
              0.2222222222222222,
              "#7201a8"
             ],
             [
              0.3333333333333333,
              "#9c179e"
             ],
             [
              0.4444444444444444,
              "#bd3786"
             ],
             [
              0.5555555555555556,
              "#d8576b"
             ],
             [
              0.6666666666666666,
              "#ed7953"
             ],
             [
              0.7777777777777778,
              "#fb9f3a"
             ],
             [
              0.8888888888888888,
              "#fdca26"
             ],
             [
              1,
              "#f0f921"
             ]
            ],
            "type": "histogram2dcontour"
           }
          ],
          "mesh3d": [
           {
            "colorbar": {
             "outlinewidth": 0,
             "ticks": ""
            },
            "type": "mesh3d"
           }
          ],
          "parcoords": [
           {
            "line": {
             "colorbar": {
              "outlinewidth": 0,
              "ticks": ""
             }
            },
            "type": "parcoords"
           }
          ],
          "pie": [
           {
            "automargin": true,
            "type": "pie"
           }
          ],
          "scatter": [
           {
            "marker": {
             "colorbar": {
              "outlinewidth": 0,
              "ticks": ""
             }
            },
            "type": "scatter"
           }
          ],
          "scatter3d": [
           {
            "line": {
             "colorbar": {
              "outlinewidth": 0,
              "ticks": ""
             }
            },
            "marker": {
             "colorbar": {
              "outlinewidth": 0,
              "ticks": ""
             }
            },
            "type": "scatter3d"
           }
          ],
          "scattercarpet": [
           {
            "marker": {
             "colorbar": {
              "outlinewidth": 0,
              "ticks": ""
             }
            },
            "type": "scattercarpet"
           }
          ],
          "scattergeo": [
           {
            "marker": {
             "colorbar": {
              "outlinewidth": 0,
              "ticks": ""
             }
            },
            "type": "scattergeo"
           }
          ],
          "scattergl": [
           {
            "marker": {
             "colorbar": {
              "outlinewidth": 0,
              "ticks": ""
             }
            },
            "type": "scattergl"
           }
          ],
          "scattermapbox": [
           {
            "marker": {
             "colorbar": {
              "outlinewidth": 0,
              "ticks": ""
             }
            },
            "type": "scattermapbox"
           }
          ],
          "scatterpolar": [
           {
            "marker": {
             "colorbar": {
              "outlinewidth": 0,
              "ticks": ""
             }
            },
            "type": "scatterpolar"
           }
          ],
          "scatterpolargl": [
           {
            "marker": {
             "colorbar": {
              "outlinewidth": 0,
              "ticks": ""
             }
            },
            "type": "scatterpolargl"
           }
          ],
          "scatterternary": [
           {
            "marker": {
             "colorbar": {
              "outlinewidth": 0,
              "ticks": ""
             }
            },
            "type": "scatterternary"
           }
          ],
          "surface": [
           {
            "colorbar": {
             "outlinewidth": 0,
             "ticks": ""
            },
            "colorscale": [
             [
              0,
              "#0d0887"
             ],
             [
              0.1111111111111111,
              "#46039f"
             ],
             [
              0.2222222222222222,
              "#7201a8"
             ],
             [
              0.3333333333333333,
              "#9c179e"
             ],
             [
              0.4444444444444444,
              "#bd3786"
             ],
             [
              0.5555555555555556,
              "#d8576b"
             ],
             [
              0.6666666666666666,
              "#ed7953"
             ],
             [
              0.7777777777777778,
              "#fb9f3a"
             ],
             [
              0.8888888888888888,
              "#fdca26"
             ],
             [
              1,
              "#f0f921"
             ]
            ],
            "type": "surface"
           }
          ],
          "table": [
           {
            "cells": {
             "fill": {
              "color": "#EBF0F8"
             },
             "line": {
              "color": "white"
             }
            },
            "header": {
             "fill": {
              "color": "#C8D4E3"
             },
             "line": {
              "color": "white"
             }
            },
            "type": "table"
           }
          ]
         },
         "layout": {
          "annotationdefaults": {
           "arrowcolor": "#2a3f5f",
           "arrowhead": 0,
           "arrowwidth": 1
          },
          "coloraxis": {
           "colorbar": {
            "outlinewidth": 0,
            "ticks": ""
           }
          },
          "colorscale": {
           "diverging": [
            [
             0,
             "#8e0152"
            ],
            [
             0.1,
             "#c51b7d"
            ],
            [
             0.2,
             "#de77ae"
            ],
            [
             0.3,
             "#f1b6da"
            ],
            [
             0.4,
             "#fde0ef"
            ],
            [
             0.5,
             "#f7f7f7"
            ],
            [
             0.6,
             "#e6f5d0"
            ],
            [
             0.7,
             "#b8e186"
            ],
            [
             0.8,
             "#7fbc41"
            ],
            [
             0.9,
             "#4d9221"
            ],
            [
             1,
             "#276419"
            ]
           ],
           "sequential": [
            [
             0,
             "#0d0887"
            ],
            [
             0.1111111111111111,
             "#46039f"
            ],
            [
             0.2222222222222222,
             "#7201a8"
            ],
            [
             0.3333333333333333,
             "#9c179e"
            ],
            [
             0.4444444444444444,
             "#bd3786"
            ],
            [
             0.5555555555555556,
             "#d8576b"
            ],
            [
             0.6666666666666666,
             "#ed7953"
            ],
            [
             0.7777777777777778,
             "#fb9f3a"
            ],
            [
             0.8888888888888888,
             "#fdca26"
            ],
            [
             1,
             "#f0f921"
            ]
           ],
           "sequentialminus": [
            [
             0,
             "#0d0887"
            ],
            [
             0.1111111111111111,
             "#46039f"
            ],
            [
             0.2222222222222222,
             "#7201a8"
            ],
            [
             0.3333333333333333,
             "#9c179e"
            ],
            [
             0.4444444444444444,
             "#bd3786"
            ],
            [
             0.5555555555555556,
             "#d8576b"
            ],
            [
             0.6666666666666666,
             "#ed7953"
            ],
            [
             0.7777777777777778,
             "#fb9f3a"
            ],
            [
             0.8888888888888888,
             "#fdca26"
            ],
            [
             1,
             "#f0f921"
            ]
           ]
          },
          "colorway": [
           "#636efa",
           "#EF553B",
           "#00cc96",
           "#ab63fa",
           "#FFA15A",
           "#19d3f3",
           "#FF6692",
           "#B6E880",
           "#FF97FF",
           "#FECB52"
          ],
          "font": {
           "color": "#2a3f5f"
          },
          "geo": {
           "bgcolor": "white",
           "lakecolor": "white",
           "landcolor": "#E5ECF6",
           "showlakes": true,
           "showland": true,
           "subunitcolor": "white"
          },
          "hoverlabel": {
           "align": "left"
          },
          "hovermode": "closest",
          "mapbox": {
           "style": "light"
          },
          "paper_bgcolor": "white",
          "plot_bgcolor": "#E5ECF6",
          "polar": {
           "angularaxis": {
            "gridcolor": "white",
            "linecolor": "white",
            "ticks": ""
           },
           "bgcolor": "#E5ECF6",
           "radialaxis": {
            "gridcolor": "white",
            "linecolor": "white",
            "ticks": ""
           }
          },
          "scene": {
           "xaxis": {
            "backgroundcolor": "#E5ECF6",
            "gridcolor": "white",
            "gridwidth": 2,
            "linecolor": "white",
            "showbackground": true,
            "ticks": "",
            "zerolinecolor": "white"
           },
           "yaxis": {
            "backgroundcolor": "#E5ECF6",
            "gridcolor": "white",
            "gridwidth": 2,
            "linecolor": "white",
            "showbackground": true,
            "ticks": "",
            "zerolinecolor": "white"
           },
           "zaxis": {
            "backgroundcolor": "#E5ECF6",
            "gridcolor": "white",
            "gridwidth": 2,
            "linecolor": "white",
            "showbackground": true,
            "ticks": "",
            "zerolinecolor": "white"
           }
          },
          "shapedefaults": {
           "line": {
            "color": "#2a3f5f"
           }
          },
          "ternary": {
           "aaxis": {
            "gridcolor": "white",
            "linecolor": "white",
            "ticks": ""
           },
           "baxis": {
            "gridcolor": "white",
            "linecolor": "white",
            "ticks": ""
           },
           "bgcolor": "#E5ECF6",
           "caxis": {
            "gridcolor": "white",
            "linecolor": "white",
            "ticks": ""
           }
          },
          "title": {
           "x": 0.05
          },
          "xaxis": {
           "automargin": true,
           "gridcolor": "white",
           "linecolor": "white",
           "ticks": "",
           "title": {
            "standoff": 15
           },
           "zerolinecolor": "white",
           "zerolinewidth": 2
          },
          "yaxis": {
           "automargin": true,
           "gridcolor": "white",
           "linecolor": "white",
           "ticks": "",
           "title": {
            "standoff": 15
           },
           "zerolinecolor": "white",
           "zerolinewidth": 2
          }
         }
        },
        "xaxis": {
         "anchor": "y",
         "domain": [
          0,
          1
         ],
         "title": {
          "text": "Date"
         }
        },
        "yaxis": {
         "anchor": "x",
         "domain": [
          0,
          1
         ],
         "title": {
          "text": "T_Active_Cases"
         }
        }
       }
      },
      "text/html": [
       "<div>\n",
       "        \n",
       "        \n",
       "            <div id=\"456c40f0-87c0-4bfe-bf85-c36c6121a9b9\" class=\"plotly-graph-div\" style=\"height:525px; width:100%;\"></div>\n",
       "            <script type=\"text/javascript\">\n",
       "                require([\"plotly\"], function(Plotly) {\n",
       "                    window.PLOTLYENV=window.PLOTLYENV || {};\n",
       "                    \n",
       "                if (document.getElementById(\"456c40f0-87c0-4bfe-bf85-c36c6121a9b9\")) {\n",
       "                    Plotly.newPlot(\n",
       "                        '456c40f0-87c0-4bfe-bf85-c36c6121a9b9',\n",
       "                        [{\"hovertemplate\": \"Date=%{x}<br>T_Active_Cases=%{y}<extra></extra>\", \"legendgroup\": \"\", \"marker\": {\"color\": \"#636efa\", \"symbol\": \"circle\"}, \"mode\": \"markers\", \"name\": \"\", \"orientation\": \"v\", \"showlegend\": false, \"type\": \"scatter\", \"x\": [\"2020-06-21T00:00:00\", \"2020-06-20T00:00:00\", \"2020-06-19T00:00:00\", \"2020-06-18T00:00:00\", \"2020-06-17T00:00:00\", \"2020-06-16T00:00:00\", \"2020-06-15T00:00:00\", \"2020-06-14T00:00:00\", \"2020-06-13T00:00:00\", \"2020-06-12T00:00:00\", \"2020-06-11T00:00:00\", \"2020-06-10T00:00:00\", \"2020-06-09T00:00:00\", \"2020-06-08T00:00:00\", \"2020-06-07T00:00:00\", \"2020-06-06T00:00:00\", \"2020-06-05T00:00:00\", \"2020-06-04T00:00:00\", \"2020-06-03T00:00:00\", \"2020-06-02T00:00:00\", \"2020-06-01T00:00:00\", \"2020-05-31T00:00:00\", \"2020-05-30T00:00:00\", \"2020-05-29T00:00:00\", \"2020-05-28T00:00:00\", \"2020-05-27T00:00:00\", \"2020-05-26T00:00:00\", \"2020-05-25T00:00:00\", \"2020-05-24T00:00:00\", \"2020-05-23T00:00:00\", \"2020-05-22T00:00:00\", \"2020-05-21T00:00:00\", \"2020-05-20T00:00:00\", \"2020-05-19T00:00:00\", \"2020-05-18T00:00:00\", \"2020-05-17T00:00:00\", \"2020-05-16T00:00:00\", \"2020-05-15T00:00:00\", \"2020-05-14T00:00:00\", \"2020-05-13T00:00:00\", \"2020-05-12T00:00:00\", \"2020-05-11T00:00:00\", \"2020-05-10T00:00:00\", \"2020-05-09T00:00:00\", \"2020-05-08T00:00:00\", \"2020-05-07T00:00:00\", \"2020-05-06T00:00:00\", \"2020-05-05T00:00:00\", \"2020-05-04T00:00:00\", \"2020-05-03T00:00:00\", \"2020-05-02T00:00:00\", \"2020-05-01T00:00:00\", \"2020-04-30T00:00:00\", \"2020-04-29T00:00:00\", \"2020-04-28T00:00:00\", \"2020-04-27T00:00:00\", \"2020-04-26T00:00:00\", \"2020-04-25T00:00:00\", \"2020-04-24T00:00:00\", \"2020-04-23T00:00:00\", \"2020-04-22T00:00:00\", \"2020-04-21T00:00:00\", \"2020-04-20T00:00:00\", \"2020-04-19T00:00:00\", \"2020-04-18T00:00:00\", \"2020-04-17T00:00:00\", \"2020-04-16T00:00:00\", \"2020-04-15T00:00:00\", \"2020-04-14T00:00:00\", \"2020-04-13T00:00:00\", \"2020-04-12T00:00:00\", \"2020-04-11T00:00:00\", \"2020-04-10T00:00:00\", \"2020-04-09T00:00:00\", \"2020-04-08T00:00:00\", \"2020-04-07T00:00:00\", \"2020-04-06T00:00:00\", \"2020-04-05T00:00:00\", \"2020-04-04T00:00:00\", \"2020-04-03T00:00:00\", \"2020-04-02T00:00:00\", \"2020-04-01T00:00:00\", \"2020-03-31T00:00:00\", \"2020-03-30T00:00:00\", \"2020-03-29T00:00:00\", \"2020-03-28T00:00:00\", \"2020-03-27T00:00:00\", \"2020-03-26T00:00:00\", \"2020-03-25T00:00:00\", \"2020-03-24T00:00:00\", \"2020-03-23T00:00:00\", \"2020-03-22T00:00:00\", \"2020-03-21T00:00:00\", \"2020-03-20T00:00:00\", \"2020-03-19T00:00:00\", \"2020-03-18T00:00:00\", \"2020-03-17T00:00:00\", \"2020-03-16T00:00:00\", \"2020-03-15T00:00:00\", \"2020-03-14T00:00:00\", \"2020-03-13T00:00:00\", \"2020-03-12T00:00:00\", \"2020-03-11T00:00:00\", \"2020-03-10T00:00:00\", \"2020-03-09T00:00:00\", \"2020-03-08T00:00:00\", \"2020-03-07T00:00:00\", \"2020-03-06T00:00:00\", \"2020-03-05T00:00:00\", \"2020-03-04T00:00:00\", \"2020-03-03T00:00:00\", \"2020-03-02T00:00:00\", \"2020-03-01T00:00:00\", \"2020-02-29T00:00:00\", \"2020-02-28T00:00:00\", \"2020-02-27T00:00:00\", \"2020-02-26T00:00:00\", \"2020-02-25T00:00:00\", \"2020-02-24T00:00:00\", \"2020-02-23T00:00:00\", \"2020-02-22T00:00:00\", \"2020-02-21T00:00:00\", \"2020-02-20T00:00:00\", \"2020-02-19T00:00:00\", \"2020-02-18T00:00:00\", \"2020-02-17T00:00:00\", \"2020-02-16T00:00:00\", \"2020-02-15T00:00:00\", \"2020-02-14T00:00:00\", \"2020-02-13T00:00:00\", \"2020-02-12T00:00:00\", \"2020-02-11T00:00:00\", \"2020-02-10T00:00:00\", \"2020-02-09T00:00:00\", \"2020-02-08T00:00:00\", \"2020-02-07T00:00:00\", \"2020-02-06T00:00:00\", \"2020-02-05T00:00:00\", \"2020-02-04T00:00:00\", \"2020-02-03T00:00:00\", \"2020-02-02T00:00:00\", \"2020-02-01T00:00:00\", \"2020-01-31T00:00:00\", \"2020-01-30T00:00:00\", \"2020-01-29T00:00:00\", \"2020-01-28T00:00:00\", \"2020-01-27T00:00:00\", \"2020-01-26T00:00:00\", \"2020-01-25T00:00:00\", \"2020-01-24T00:00:00\", \"2020-01-23T00:00:00\", \"2020-01-22T00:00:00\"], \"xaxis\": \"x\", \"y\": [3993453, 3952230, 3962184, 3882700, 3829698, 3777653, 3742181, 3700263, 3640929, 3596046, 3554269, 3490951, 3456806, 3420387, 3468326, 3412478, 3373924, 3373228, 3315474, 3269740, 3195232, 3154368, 3125977, 3066629, 3033464, 2987321, 2953345, 2918160, 2895010, 2856747, 2816812, 2821591, 2771708, 2736030, 2698402, 2662884, 2629182, 2598452, 2552661, 2502006, 2477394, 2435707, 2410798, 2369782, 2341826, 2292171, 2246835, 2207269, 2169403, 2134601, 2091000, 2054881, 2010118, 1994855, 1968892, 1937882, 1900450, 1878410, 1821335, 1779540, 1731212, 1692720, 1656642, 1612431, 1569753, 1518025, 1466838, 1410858, 1375946, 1336701, 1298910, 1251428, 1203836, 1137710, 1084456, 1032611, 987650, 936550, 880740, 825342, 762485, 703560, 637352, 580247, 537139, 490632, 435184, 383477, 332649, 291652, 260832, 225256, 199879, 173465, 147871, 122841, 108448, 96426, 86065, 77657, 69503, 60312, 54247, 49916, 47271, 45316, 43919, 42474, 40741, 40699, 41455, 41622, 42659, 43290, 44541, 46665, 48243, 49802, 51714, 53122, 53255, 55702, 55775, 57398, 58779, 58809, 58591, 57971, 57306, 52704, 38954, 39007, 37804, 36001, 33699, 31662, 28697, 25948, 22548, 18832, 15953, 11495, 9490, 7921, 5906, 5340, 2784, 2010, 1357, 879, 605, 510], \"yaxis\": \"y\"}],\n",
       "                        {\"legend\": {\"tracegroupgap\": 0}, \"margin\": {\"t\": 60}, \"template\": {\"data\": {\"bar\": [{\"error_x\": {\"color\": \"#2a3f5f\"}, \"error_y\": {\"color\": \"#2a3f5f\"}, \"marker\": {\"line\": {\"color\": \"#E5ECF6\", \"width\": 0.5}}, \"type\": \"bar\"}], \"barpolar\": [{\"marker\": {\"line\": {\"color\": \"#E5ECF6\", \"width\": 0.5}}, \"type\": \"barpolar\"}], \"carpet\": [{\"aaxis\": {\"endlinecolor\": \"#2a3f5f\", \"gridcolor\": \"white\", \"linecolor\": \"white\", \"minorgridcolor\": \"white\", \"startlinecolor\": \"#2a3f5f\"}, \"baxis\": {\"endlinecolor\": \"#2a3f5f\", \"gridcolor\": \"white\", \"linecolor\": \"white\", \"minorgridcolor\": \"white\", \"startlinecolor\": \"#2a3f5f\"}, \"type\": \"carpet\"}], \"choropleth\": [{\"colorbar\": {\"outlinewidth\": 0, \"ticks\": \"\"}, \"type\": \"choropleth\"}], \"contour\": [{\"colorbar\": {\"outlinewidth\": 0, \"ticks\": \"\"}, \"colorscale\": [[0.0, \"#0d0887\"], [0.1111111111111111, \"#46039f\"], [0.2222222222222222, \"#7201a8\"], [0.3333333333333333, \"#9c179e\"], [0.4444444444444444, \"#bd3786\"], [0.5555555555555556, \"#d8576b\"], [0.6666666666666666, \"#ed7953\"], [0.7777777777777778, \"#fb9f3a\"], [0.8888888888888888, \"#fdca26\"], [1.0, \"#f0f921\"]], \"type\": \"contour\"}], \"contourcarpet\": [{\"colorbar\": {\"outlinewidth\": 0, \"ticks\": \"\"}, \"type\": \"contourcarpet\"}], \"heatmap\": [{\"colorbar\": {\"outlinewidth\": 0, \"ticks\": \"\"}, \"colorscale\": [[0.0, \"#0d0887\"], [0.1111111111111111, \"#46039f\"], [0.2222222222222222, \"#7201a8\"], [0.3333333333333333, \"#9c179e\"], [0.4444444444444444, \"#bd3786\"], [0.5555555555555556, \"#d8576b\"], [0.6666666666666666, \"#ed7953\"], [0.7777777777777778, \"#fb9f3a\"], [0.8888888888888888, \"#fdca26\"], [1.0, \"#f0f921\"]], \"type\": \"heatmap\"}], \"heatmapgl\": [{\"colorbar\": {\"outlinewidth\": 0, \"ticks\": \"\"}, \"colorscale\": [[0.0, \"#0d0887\"], [0.1111111111111111, \"#46039f\"], [0.2222222222222222, \"#7201a8\"], [0.3333333333333333, \"#9c179e\"], [0.4444444444444444, \"#bd3786\"], [0.5555555555555556, \"#d8576b\"], [0.6666666666666666, \"#ed7953\"], [0.7777777777777778, \"#fb9f3a\"], [0.8888888888888888, \"#fdca26\"], [1.0, \"#f0f921\"]], \"type\": \"heatmapgl\"}], \"histogram\": [{\"marker\": {\"colorbar\": {\"outlinewidth\": 0, \"ticks\": \"\"}}, \"type\": \"histogram\"}], \"histogram2d\": [{\"colorbar\": {\"outlinewidth\": 0, \"ticks\": \"\"}, \"colorscale\": [[0.0, \"#0d0887\"], [0.1111111111111111, \"#46039f\"], [0.2222222222222222, \"#7201a8\"], [0.3333333333333333, \"#9c179e\"], [0.4444444444444444, \"#bd3786\"], [0.5555555555555556, \"#d8576b\"], [0.6666666666666666, \"#ed7953\"], [0.7777777777777778, \"#fb9f3a\"], [0.8888888888888888, \"#fdca26\"], [1.0, \"#f0f921\"]], \"type\": \"histogram2d\"}], \"histogram2dcontour\": [{\"colorbar\": {\"outlinewidth\": 0, \"ticks\": \"\"}, \"colorscale\": [[0.0, \"#0d0887\"], [0.1111111111111111, \"#46039f\"], [0.2222222222222222, \"#7201a8\"], [0.3333333333333333, \"#9c179e\"], [0.4444444444444444, \"#bd3786\"], [0.5555555555555556, \"#d8576b\"], [0.6666666666666666, \"#ed7953\"], [0.7777777777777778, \"#fb9f3a\"], [0.8888888888888888, \"#fdca26\"], [1.0, \"#f0f921\"]], \"type\": \"histogram2dcontour\"}], \"mesh3d\": [{\"colorbar\": {\"outlinewidth\": 0, \"ticks\": \"\"}, \"type\": \"mesh3d\"}], \"parcoords\": [{\"line\": {\"colorbar\": {\"outlinewidth\": 0, \"ticks\": \"\"}}, \"type\": \"parcoords\"}], \"pie\": [{\"automargin\": true, \"type\": \"pie\"}], \"scatter\": [{\"marker\": {\"colorbar\": {\"outlinewidth\": 0, \"ticks\": \"\"}}, \"type\": \"scatter\"}], \"scatter3d\": [{\"line\": {\"colorbar\": {\"outlinewidth\": 0, \"ticks\": \"\"}}, \"marker\": {\"colorbar\": {\"outlinewidth\": 0, \"ticks\": \"\"}}, \"type\": \"scatter3d\"}], \"scattercarpet\": [{\"marker\": {\"colorbar\": {\"outlinewidth\": 0, \"ticks\": \"\"}}, \"type\": \"scattercarpet\"}], \"scattergeo\": [{\"marker\": {\"colorbar\": {\"outlinewidth\": 0, \"ticks\": \"\"}}, \"type\": \"scattergeo\"}], \"scattergl\": [{\"marker\": {\"colorbar\": {\"outlinewidth\": 0, \"ticks\": \"\"}}, \"type\": \"scattergl\"}], \"scattermapbox\": [{\"marker\": {\"colorbar\": {\"outlinewidth\": 0, \"ticks\": \"\"}}, \"type\": \"scattermapbox\"}], \"scatterpolar\": [{\"marker\": {\"colorbar\": {\"outlinewidth\": 0, \"ticks\": \"\"}}, \"type\": \"scatterpolar\"}], \"scatterpolargl\": [{\"marker\": {\"colorbar\": {\"outlinewidth\": 0, \"ticks\": \"\"}}, \"type\": \"scatterpolargl\"}], \"scatterternary\": [{\"marker\": {\"colorbar\": {\"outlinewidth\": 0, \"ticks\": \"\"}}, \"type\": \"scatterternary\"}], \"surface\": [{\"colorbar\": {\"outlinewidth\": 0, \"ticks\": \"\"}, \"colorscale\": [[0.0, \"#0d0887\"], [0.1111111111111111, \"#46039f\"], [0.2222222222222222, \"#7201a8\"], [0.3333333333333333, \"#9c179e\"], [0.4444444444444444, \"#bd3786\"], [0.5555555555555556, \"#d8576b\"], [0.6666666666666666, \"#ed7953\"], [0.7777777777777778, \"#fb9f3a\"], [0.8888888888888888, \"#fdca26\"], [1.0, \"#f0f921\"]], \"type\": \"surface\"}], \"table\": [{\"cells\": {\"fill\": {\"color\": \"#EBF0F8\"}, \"line\": {\"color\": \"white\"}}, \"header\": {\"fill\": {\"color\": \"#C8D4E3\"}, \"line\": {\"color\": \"white\"}}, \"type\": \"table\"}]}, \"layout\": {\"annotationdefaults\": {\"arrowcolor\": \"#2a3f5f\", \"arrowhead\": 0, \"arrowwidth\": 1}, \"coloraxis\": {\"colorbar\": {\"outlinewidth\": 0, \"ticks\": \"\"}}, \"colorscale\": {\"diverging\": [[0, \"#8e0152\"], [0.1, \"#c51b7d\"], [0.2, \"#de77ae\"], [0.3, \"#f1b6da\"], [0.4, \"#fde0ef\"], [0.5, \"#f7f7f7\"], [0.6, \"#e6f5d0\"], [0.7, \"#b8e186\"], [0.8, \"#7fbc41\"], [0.9, \"#4d9221\"], [1, \"#276419\"]], \"sequential\": [[0.0, \"#0d0887\"], [0.1111111111111111, \"#46039f\"], [0.2222222222222222, \"#7201a8\"], [0.3333333333333333, \"#9c179e\"], [0.4444444444444444, \"#bd3786\"], [0.5555555555555556, \"#d8576b\"], [0.6666666666666666, \"#ed7953\"], [0.7777777777777778, \"#fb9f3a\"], [0.8888888888888888, \"#fdca26\"], [1.0, \"#f0f921\"]], \"sequentialminus\": [[0.0, \"#0d0887\"], [0.1111111111111111, \"#46039f\"], [0.2222222222222222, \"#7201a8\"], [0.3333333333333333, \"#9c179e\"], [0.4444444444444444, \"#bd3786\"], [0.5555555555555556, \"#d8576b\"], [0.6666666666666666, \"#ed7953\"], [0.7777777777777778, \"#fb9f3a\"], [0.8888888888888888, \"#fdca26\"], [1.0, \"#f0f921\"]]}, \"colorway\": [\"#636efa\", \"#EF553B\", \"#00cc96\", \"#ab63fa\", \"#FFA15A\", \"#19d3f3\", \"#FF6692\", \"#B6E880\", \"#FF97FF\", \"#FECB52\"], \"font\": {\"color\": \"#2a3f5f\"}, \"geo\": {\"bgcolor\": \"white\", \"lakecolor\": \"white\", \"landcolor\": \"#E5ECF6\", \"showlakes\": true, \"showland\": true, \"subunitcolor\": \"white\"}, \"hoverlabel\": {\"align\": \"left\"}, \"hovermode\": \"closest\", \"mapbox\": {\"style\": \"light\"}, \"paper_bgcolor\": \"white\", \"plot_bgcolor\": \"#E5ECF6\", \"polar\": {\"angularaxis\": {\"gridcolor\": \"white\", \"linecolor\": \"white\", \"ticks\": \"\"}, \"bgcolor\": \"#E5ECF6\", \"radialaxis\": {\"gridcolor\": \"white\", \"linecolor\": \"white\", \"ticks\": \"\"}}, \"scene\": {\"xaxis\": {\"backgroundcolor\": \"#E5ECF6\", \"gridcolor\": \"white\", \"gridwidth\": 2, \"linecolor\": \"white\", \"showbackground\": true, \"ticks\": \"\", \"zerolinecolor\": \"white\"}, \"yaxis\": {\"backgroundcolor\": \"#E5ECF6\", \"gridcolor\": \"white\", \"gridwidth\": 2, \"linecolor\": \"white\", \"showbackground\": true, \"ticks\": \"\", \"zerolinecolor\": \"white\"}, \"zaxis\": {\"backgroundcolor\": \"#E5ECF6\", \"gridcolor\": \"white\", \"gridwidth\": 2, \"linecolor\": \"white\", \"showbackground\": true, \"ticks\": \"\", \"zerolinecolor\": \"white\"}}, \"shapedefaults\": {\"line\": {\"color\": \"#2a3f5f\"}}, \"ternary\": {\"aaxis\": {\"gridcolor\": \"white\", \"linecolor\": \"white\", \"ticks\": \"\"}, \"baxis\": {\"gridcolor\": \"white\", \"linecolor\": \"white\", \"ticks\": \"\"}, \"bgcolor\": \"#E5ECF6\", \"caxis\": {\"gridcolor\": \"white\", \"linecolor\": \"white\", \"ticks\": \"\"}}, \"title\": {\"x\": 0.05}, \"xaxis\": {\"automargin\": true, \"gridcolor\": \"white\", \"linecolor\": \"white\", \"ticks\": \"\", \"title\": {\"standoff\": 15}, \"zerolinecolor\": \"white\", \"zerolinewidth\": 2}, \"yaxis\": {\"automargin\": true, \"gridcolor\": \"white\", \"linecolor\": \"white\", \"ticks\": \"\", \"title\": {\"standoff\": 15}, \"zerolinecolor\": \"white\", \"zerolinewidth\": 2}}}, \"xaxis\": {\"anchor\": \"y\", \"domain\": [0.0, 1.0], \"title\": {\"text\": \"Date\"}}, \"yaxis\": {\"anchor\": \"x\", \"domain\": [0.0, 1.0], \"title\": {\"text\": \"T_Active_Cases\"}}},\n",
       "                        {\"responsive\": true}\n",
       "                    ).then(function(){\n",
       "                            \n",
       "var gd = document.getElementById('456c40f0-87c0-4bfe-bf85-c36c6121a9b9');\n",
       "var x = new MutationObserver(function (mutations, observer) {{\n",
       "        var display = window.getComputedStyle(gd).display;\n",
       "        if (!display || display === 'none') {{\n",
       "            console.log([gd, 'removed!']);\n",
       "            Plotly.purge(gd);\n",
       "            observer.disconnect();\n",
       "        }}\n",
       "}});\n",
       "\n",
       "// Listen for the removal of the full notebook cells\n",
       "var notebookContainer = gd.closest('#notebook-container');\n",
       "if (notebookContainer) {{\n",
       "    x.observe(notebookContainer, {childList: true});\n",
       "}}\n",
       "\n",
       "// Listen for the clearing of the current output cell\n",
       "var outputEl = gd.closest('.output');\n",
       "if (outputEl) {{\n",
       "    x.observe(outputEl, {childList: true});\n",
       "}}\n",
       "\n",
       "                        })\n",
       "                };\n",
       "                });\n",
       "            </script>\n",
       "        </div>"
      ]
     },
     "metadata": {},
     "output_type": "display_data"
    }
   ],
   "source": [
    "######USING PLOT EXPRESS\n",
    "px.scatter(df,x='Date',y='T_Active_Cases')"
   ]
  },
  {
   "cell_type": "code",
   "execution_count": 60,
   "metadata": {},
   "outputs": [
    {
     "data": {
      "text/html": [
       "<div>\n",
       "<style scoped>\n",
       "    .dataframe tbody tr th:only-of-type {\n",
       "        vertical-align: middle;\n",
       "    }\n",
       "\n",
       "    .dataframe tbody tr th {\n",
       "        vertical-align: top;\n",
       "    }\n",
       "\n",
       "    .dataframe thead th {\n",
       "        text-align: right;\n",
       "    }\n",
       "</style>\n",
       "<table border=\"1\" class=\"dataframe\">\n",
       "  <thead>\n",
       "    <tr style=\"text-align: right;\">\n",
       "      <th></th>\n",
       "      <th>Date</th>\n",
       "      <th>T_Cas</th>\n",
       "      <th>T_Morts</th>\n",
       "      <th>T_Guérisons</th>\n",
       "      <th>% Décès</th>\n",
       "      <th>% Guérison</th>\n",
       "      <th>% Malade</th>\n",
       "      <th>Cas/jrs</th>\n",
       "      <th>Décès/jrs</th>\n",
       "      <th>Guérisons/jrs</th>\n",
       "      <th>T_Active_Cases</th>\n",
       "    </tr>\n",
       "  </thead>\n",
       "  <tbody>\n",
       "    <tr>\n",
       "      <td>0</td>\n",
       "      <td>2020-06-21</td>\n",
       "      <td>8858407</td>\n",
       "      <td>465823</td>\n",
       "      <td>4399131</td>\n",
       "      <td>5.26</td>\n",
       "      <td>49.66</td>\n",
       "      <td>45.08</td>\n",
       "      <td>59722</td>\n",
       "      <td>1293</td>\n",
       "      <td>17206</td>\n",
       "      <td>3993453</td>\n",
       "    </tr>\n",
       "    <tr>\n",
       "      <td>1</td>\n",
       "      <td>2020-06-20</td>\n",
       "      <td>8798685</td>\n",
       "      <td>464530</td>\n",
       "      <td>4381925</td>\n",
       "      <td>5.28</td>\n",
       "      <td>49.8</td>\n",
       "      <td>44.92</td>\n",
       "      <td>127023</td>\n",
       "      <td>4449</td>\n",
       "      <td>132528</td>\n",
       "      <td>3952230</td>\n",
       "    </tr>\n",
       "    <tr>\n",
       "      <td>2</td>\n",
       "      <td>2020-06-19</td>\n",
       "      <td>8671662</td>\n",
       "      <td>460081</td>\n",
       "      <td>4249397</td>\n",
       "      <td>5.31</td>\n",
       "      <td>49</td>\n",
       "      <td>45.69</td>\n",
       "      <td>176251</td>\n",
       "      <td>6033</td>\n",
       "      <td>90734</td>\n",
       "      <td>3962184</td>\n",
       "    </tr>\n",
       "    <tr>\n",
       "      <td>3</td>\n",
       "      <td>2020-06-18</td>\n",
       "      <td>8495411</td>\n",
       "      <td>454048</td>\n",
       "      <td>4158663</td>\n",
       "      <td>5.34</td>\n",
       "      <td>48.95</td>\n",
       "      <td>45.7</td>\n",
       "      <td>139293</td>\n",
       "      <td>5026</td>\n",
       "      <td>81265</td>\n",
       "      <td>3882700</td>\n",
       "    </tr>\n",
       "    <tr>\n",
       "      <td>4</td>\n",
       "      <td>2020-06-17</td>\n",
       "      <td>8356118</td>\n",
       "      <td>449022</td>\n",
       "      <td>4077398</td>\n",
       "      <td>5.37</td>\n",
       "      <td>48.8</td>\n",
       "      <td>45.83</td>\n",
       "      <td>176157</td>\n",
       "      <td>5274</td>\n",
       "      <td>118838</td>\n",
       "      <td>3829698</td>\n",
       "    </tr>\n",
       "  </tbody>\n",
       "</table>\n",
       "</div>"
      ],
      "text/plain": [
       "        Date    T_Cas T_Morts T_Guérisons % Décès % Guérison % Malade Cas/jrs  \\\n",
       "0 2020-06-21  8858407  465823     4399131    5.26      49.66    45.08   59722   \n",
       "1 2020-06-20  8798685  464530     4381925    5.28       49.8    44.92  127023   \n",
       "2 2020-06-19  8671662  460081     4249397    5.31         49    45.69  176251   \n",
       "3 2020-06-18  8495411  454048     4158663    5.34      48.95     45.7  139293   \n",
       "4 2020-06-17  8356118  449022     4077398    5.37       48.8    45.83  176157   \n",
       "\n",
       "  Décès/jrs Guérisons/jrs T_Active_Cases  \n",
       "0      1293         17206        3993453  \n",
       "1      4449        132528        3952230  \n",
       "2      6033         90734        3962184  \n",
       "3      5026         81265        3882700  \n",
       "4      5274        118838        3829698  "
      ]
     },
     "execution_count": 60,
     "metadata": {},
     "output_type": "execute_result"
    }
   ],
   "source": [
    "df.head()"
   ]
  },
  {
   "cell_type": "code",
   "execution_count": 68,
   "metadata": {},
   "outputs": [
    {
     "data": {
      "application/vnd.plotly.v1+json": {
       "config": {
        "linkText": "Export to plot.ly",
        "plotlyServerURL": "https://plot.ly",
        "showLink": true
       },
       "data": [
        {
         "marker": {
          "color": "rgba(255, 153, 51, 0.6)",
          "line": {
           "color": "rgba(255, 153, 51, 1.0)",
           "width": 1
          }
         },
         "name": "Cas/jrs",
         "orientation": "v",
         "text": "",
         "type": "bar",
         "x": [
          "2020-06-21",
          "2020-06-20",
          "2020-06-19",
          "2020-06-18",
          "2020-06-17",
          "2020-06-16",
          "2020-06-15",
          "2020-06-14",
          "2020-06-13",
          "2020-06-12",
          "2020-06-11",
          "2020-06-10",
          "2020-06-09",
          "2020-06-08",
          "2020-06-07",
          "2020-06-06",
          "2020-06-05",
          "2020-06-04",
          "2020-06-03",
          "2020-06-02",
          "2020-06-01",
          "2020-05-31",
          "2020-05-30",
          "2020-05-29",
          "2020-05-28",
          "2020-05-27",
          "2020-05-26",
          "2020-05-25",
          "2020-05-24",
          "2020-05-23",
          "2020-05-22",
          "2020-05-21",
          "2020-05-20",
          "2020-05-19",
          "2020-05-18",
          "2020-05-17",
          "2020-05-16",
          "2020-05-15",
          "2020-05-14",
          "2020-05-13",
          "2020-05-12",
          "2020-05-11",
          "2020-05-10",
          "2020-05-09",
          "2020-05-08",
          "2020-05-07",
          "2020-05-06",
          "2020-05-05",
          "2020-05-04",
          "2020-05-03",
          "2020-05-02",
          "2020-05-01",
          "2020-04-30",
          "2020-04-29",
          "2020-04-28",
          "2020-04-27",
          "2020-04-26",
          "2020-04-25",
          "2020-04-24",
          "2020-04-23",
          "2020-04-22",
          "2020-04-21",
          "2020-04-20",
          "2020-04-19",
          "2020-04-18",
          "2020-04-17",
          "2020-04-16",
          "2020-04-15",
          "2020-04-14",
          "2020-04-13",
          "2020-04-12",
          "2020-04-11",
          "2020-04-10",
          "2020-04-09",
          "2020-04-08",
          "2020-04-07",
          "2020-04-06",
          "2020-04-05",
          "2020-04-04",
          "2020-04-03",
          "2020-04-02",
          "2020-04-01",
          "2020-03-31",
          "2020-03-30",
          "2020-03-29",
          "2020-03-28",
          "2020-03-27",
          "2020-03-26",
          "2020-03-25",
          "2020-03-24",
          "2020-03-23",
          "2020-03-22",
          "2020-03-21",
          "2020-03-20",
          "2020-03-19",
          "2020-03-18",
          "2020-03-17",
          "2020-03-16",
          "2020-03-15",
          "2020-03-14",
          "2020-03-13",
          "2020-03-12",
          "2020-03-11",
          "2020-03-10",
          "2020-03-09",
          "2020-03-08",
          "2020-03-07",
          "2020-03-06",
          "2020-03-05",
          "2020-03-04",
          "2020-03-03",
          "2020-03-02",
          "2020-03-01",
          "2020-02-29",
          "2020-02-28",
          "2020-02-27",
          "2020-02-26",
          "2020-02-25",
          "2020-02-24",
          "2020-02-23",
          "2020-02-22",
          "2020-02-21",
          "2020-02-20",
          "2020-02-19",
          "2020-02-18",
          "2020-02-17",
          "2020-02-16",
          "2020-02-15",
          "2020-02-14",
          "2020-02-13",
          "2020-02-12",
          "2020-02-11",
          "2020-02-10",
          "2020-02-09",
          "2020-02-08",
          "2020-02-07",
          "2020-02-06",
          "2020-02-05",
          "2020-02-04",
          "2020-02-03",
          "2020-02-02",
          "2020-02-01",
          "2020-01-31",
          "2020-01-30",
          "2020-01-29",
          "2020-01-28",
          "2020-01-27",
          "2020-01-26",
          "2020-01-25",
          "2020-01-24",
          "2020-01-23",
          "2020-01-22"
         ],
         "y": [
          59722,
          127023,
          176251,
          139293,
          176157,
          140157,
          133664,
          134088,
          134283,
          118483,
          154503,
          118074,
          123573,
          108533,
          113715,
          127130,
          136911,
          127967,
          126983,
          112740,
          99143,
          107951,
          134770,
          115419,
          116706,
          102708,
          94624,
          87499,
          96813,
          99795,
          108786,
          105966,
          99105,
          95557,
          87715,
          80375,
          91692,
          100213,
          95224,
          85115,
          84534,
          75766,
          77773,
          86084,
          92356,
          90402,
          92760,
          79676,
          76481,
          79387,
          81623,
          88880,
          63047,
          80509,
          71687,
          70289,
          74786,
          86035,
          103022,
          84912,
          74850,
          76756,
          70988,
          79796,
          81392,
          87444,
          96692,
          79863,
          71353,
          70117,
          72681,
          79583,
          95317,
          85685,
          86925,
          75800,
          72794,
          74438,
          81573,
          84194,
          82191,
          86053,
          75098,
          62249,
          59447,
          67402,
          63700,
          61997,
          49628,
          39677,
          41165,
          32596,
          32361,
          29338,
          27826,
          17783,
          15574,
          13057,
          12489,
          10904,
          11360,
          7971,
          7283,
          4797,
          3971,
          3978,
          4036,
          3914,
          2762,
          2280,
          2535,
          1938,
          2358,
          1889,
          1368,
          1359,
          982,
          845,
          585,
          386,
          1756,
          644,
          558,
          503,
          1878,
          2034,
          2194,
          2145,
          6517,
          15148,
          419,
          2040,
          2612,
          3030,
          2729,
          3574,
          3182,
          3744,
          4011,
          3094,
          4749,
          2113,
          1690,
          2070,
          587,
          2651,
          809,
          680,
          497,
          288,
          98,
          555
         ]
        }
       ],
       "layout": {
        "legend": {
         "bgcolor": "#F5F6F9",
         "font": {
          "color": "#4D5663"
         }
        },
        "paper_bgcolor": "#F5F6F9",
        "plot_bgcolor": "#F5F6F9",
        "template": {
         "data": {
          "bar": [
           {
            "error_x": {
             "color": "#2a3f5f"
            },
            "error_y": {
             "color": "#2a3f5f"
            },
            "marker": {
             "line": {
              "color": "#E5ECF6",
              "width": 0.5
             }
            },
            "type": "bar"
           }
          ],
          "barpolar": [
           {
            "marker": {
             "line": {
              "color": "#E5ECF6",
              "width": 0.5
             }
            },
            "type": "barpolar"
           }
          ],
          "carpet": [
           {
            "aaxis": {
             "endlinecolor": "#2a3f5f",
             "gridcolor": "white",
             "linecolor": "white",
             "minorgridcolor": "white",
             "startlinecolor": "#2a3f5f"
            },
            "baxis": {
             "endlinecolor": "#2a3f5f",
             "gridcolor": "white",
             "linecolor": "white",
             "minorgridcolor": "white",
             "startlinecolor": "#2a3f5f"
            },
            "type": "carpet"
           }
          ],
          "choropleth": [
           {
            "colorbar": {
             "outlinewidth": 0,
             "ticks": ""
            },
            "type": "choropleth"
           }
          ],
          "contour": [
           {
            "colorbar": {
             "outlinewidth": 0,
             "ticks": ""
            },
            "colorscale": [
             [
              0,
              "#0d0887"
             ],
             [
              0.1111111111111111,
              "#46039f"
             ],
             [
              0.2222222222222222,
              "#7201a8"
             ],
             [
              0.3333333333333333,
              "#9c179e"
             ],
             [
              0.4444444444444444,
              "#bd3786"
             ],
             [
              0.5555555555555556,
              "#d8576b"
             ],
             [
              0.6666666666666666,
              "#ed7953"
             ],
             [
              0.7777777777777778,
              "#fb9f3a"
             ],
             [
              0.8888888888888888,
              "#fdca26"
             ],
             [
              1,
              "#f0f921"
             ]
            ],
            "type": "contour"
           }
          ],
          "contourcarpet": [
           {
            "colorbar": {
             "outlinewidth": 0,
             "ticks": ""
            },
            "type": "contourcarpet"
           }
          ],
          "heatmap": [
           {
            "colorbar": {
             "outlinewidth": 0,
             "ticks": ""
            },
            "colorscale": [
             [
              0,
              "#0d0887"
             ],
             [
              0.1111111111111111,
              "#46039f"
             ],
             [
              0.2222222222222222,
              "#7201a8"
             ],
             [
              0.3333333333333333,
              "#9c179e"
             ],
             [
              0.4444444444444444,
              "#bd3786"
             ],
             [
              0.5555555555555556,
              "#d8576b"
             ],
             [
              0.6666666666666666,
              "#ed7953"
             ],
             [
              0.7777777777777778,
              "#fb9f3a"
             ],
             [
              0.8888888888888888,
              "#fdca26"
             ],
             [
              1,
              "#f0f921"
             ]
            ],
            "type": "heatmap"
           }
          ],
          "heatmapgl": [
           {
            "colorbar": {
             "outlinewidth": 0,
             "ticks": ""
            },
            "colorscale": [
             [
              0,
              "#0d0887"
             ],
             [
              0.1111111111111111,
              "#46039f"
             ],
             [
              0.2222222222222222,
              "#7201a8"
             ],
             [
              0.3333333333333333,
              "#9c179e"
             ],
             [
              0.4444444444444444,
              "#bd3786"
             ],
             [
              0.5555555555555556,
              "#d8576b"
             ],
             [
              0.6666666666666666,
              "#ed7953"
             ],
             [
              0.7777777777777778,
              "#fb9f3a"
             ],
             [
              0.8888888888888888,
              "#fdca26"
             ],
             [
              1,
              "#f0f921"
             ]
            ],
            "type": "heatmapgl"
           }
          ],
          "histogram": [
           {
            "marker": {
             "colorbar": {
              "outlinewidth": 0,
              "ticks": ""
             }
            },
            "type": "histogram"
           }
          ],
          "histogram2d": [
           {
            "colorbar": {
             "outlinewidth": 0,
             "ticks": ""
            },
            "colorscale": [
             [
              0,
              "#0d0887"
             ],
             [
              0.1111111111111111,
              "#46039f"
             ],
             [
              0.2222222222222222,
              "#7201a8"
             ],
             [
              0.3333333333333333,
              "#9c179e"
             ],
             [
              0.4444444444444444,
              "#bd3786"
             ],
             [
              0.5555555555555556,
              "#d8576b"
             ],
             [
              0.6666666666666666,
              "#ed7953"
             ],
             [
              0.7777777777777778,
              "#fb9f3a"
             ],
             [
              0.8888888888888888,
              "#fdca26"
             ],
             [
              1,
              "#f0f921"
             ]
            ],
            "type": "histogram2d"
           }
          ],
          "histogram2dcontour": [
           {
            "colorbar": {
             "outlinewidth": 0,
             "ticks": ""
            },
            "colorscale": [
             [
              0,
              "#0d0887"
             ],
             [
              0.1111111111111111,
              "#46039f"
             ],
             [
              0.2222222222222222,
              "#7201a8"
             ],
             [
              0.3333333333333333,
              "#9c179e"
             ],
             [
              0.4444444444444444,
              "#bd3786"
             ],
             [
              0.5555555555555556,
              "#d8576b"
             ],
             [
              0.6666666666666666,
              "#ed7953"
             ],
             [
              0.7777777777777778,
              "#fb9f3a"
             ],
             [
              0.8888888888888888,
              "#fdca26"
             ],
             [
              1,
              "#f0f921"
             ]
            ],
            "type": "histogram2dcontour"
           }
          ],
          "mesh3d": [
           {
            "colorbar": {
             "outlinewidth": 0,
             "ticks": ""
            },
            "type": "mesh3d"
           }
          ],
          "parcoords": [
           {
            "line": {
             "colorbar": {
              "outlinewidth": 0,
              "ticks": ""
             }
            },
            "type": "parcoords"
           }
          ],
          "pie": [
           {
            "automargin": true,
            "type": "pie"
           }
          ],
          "scatter": [
           {
            "marker": {
             "colorbar": {
              "outlinewidth": 0,
              "ticks": ""
             }
            },
            "type": "scatter"
           }
          ],
          "scatter3d": [
           {
            "line": {
             "colorbar": {
              "outlinewidth": 0,
              "ticks": ""
             }
            },
            "marker": {
             "colorbar": {
              "outlinewidth": 0,
              "ticks": ""
             }
            },
            "type": "scatter3d"
           }
          ],
          "scattercarpet": [
           {
            "marker": {
             "colorbar": {
              "outlinewidth": 0,
              "ticks": ""
             }
            },
            "type": "scattercarpet"
           }
          ],
          "scattergeo": [
           {
            "marker": {
             "colorbar": {
              "outlinewidth": 0,
              "ticks": ""
             }
            },
            "type": "scattergeo"
           }
          ],
          "scattergl": [
           {
            "marker": {
             "colorbar": {
              "outlinewidth": 0,
              "ticks": ""
             }
            },
            "type": "scattergl"
           }
          ],
          "scattermapbox": [
           {
            "marker": {
             "colorbar": {
              "outlinewidth": 0,
              "ticks": ""
             }
            },
            "type": "scattermapbox"
           }
          ],
          "scatterpolar": [
           {
            "marker": {
             "colorbar": {
              "outlinewidth": 0,
              "ticks": ""
             }
            },
            "type": "scatterpolar"
           }
          ],
          "scatterpolargl": [
           {
            "marker": {
             "colorbar": {
              "outlinewidth": 0,
              "ticks": ""
             }
            },
            "type": "scatterpolargl"
           }
          ],
          "scatterternary": [
           {
            "marker": {
             "colorbar": {
              "outlinewidth": 0,
              "ticks": ""
             }
            },
            "type": "scatterternary"
           }
          ],
          "surface": [
           {
            "colorbar": {
             "outlinewidth": 0,
             "ticks": ""
            },
            "colorscale": [
             [
              0,
              "#0d0887"
             ],
             [
              0.1111111111111111,
              "#46039f"
             ],
             [
              0.2222222222222222,
              "#7201a8"
             ],
             [
              0.3333333333333333,
              "#9c179e"
             ],
             [
              0.4444444444444444,
              "#bd3786"
             ],
             [
              0.5555555555555556,
              "#d8576b"
             ],
             [
              0.6666666666666666,
              "#ed7953"
             ],
             [
              0.7777777777777778,
              "#fb9f3a"
             ],
             [
              0.8888888888888888,
              "#fdca26"
             ],
             [
              1,
              "#f0f921"
             ]
            ],
            "type": "surface"
           }
          ],
          "table": [
           {
            "cells": {
             "fill": {
              "color": "#EBF0F8"
             },
             "line": {
              "color": "white"
             }
            },
            "header": {
             "fill": {
              "color": "#C8D4E3"
             },
             "line": {
              "color": "white"
             }
            },
            "type": "table"
           }
          ]
         },
         "layout": {
          "annotationdefaults": {
           "arrowcolor": "#2a3f5f",
           "arrowhead": 0,
           "arrowwidth": 1
          },
          "coloraxis": {
           "colorbar": {
            "outlinewidth": 0,
            "ticks": ""
           }
          },
          "colorscale": {
           "diverging": [
            [
             0,
             "#8e0152"
            ],
            [
             0.1,
             "#c51b7d"
            ],
            [
             0.2,
             "#de77ae"
            ],
            [
             0.3,
             "#f1b6da"
            ],
            [
             0.4,
             "#fde0ef"
            ],
            [
             0.5,
             "#f7f7f7"
            ],
            [
             0.6,
             "#e6f5d0"
            ],
            [
             0.7,
             "#b8e186"
            ],
            [
             0.8,
             "#7fbc41"
            ],
            [
             0.9,
             "#4d9221"
            ],
            [
             1,
             "#276419"
            ]
           ],
           "sequential": [
            [
             0,
             "#0d0887"
            ],
            [
             0.1111111111111111,
             "#46039f"
            ],
            [
             0.2222222222222222,
             "#7201a8"
            ],
            [
             0.3333333333333333,
             "#9c179e"
            ],
            [
             0.4444444444444444,
             "#bd3786"
            ],
            [
             0.5555555555555556,
             "#d8576b"
            ],
            [
             0.6666666666666666,
             "#ed7953"
            ],
            [
             0.7777777777777778,
             "#fb9f3a"
            ],
            [
             0.8888888888888888,
             "#fdca26"
            ],
            [
             1,
             "#f0f921"
            ]
           ],
           "sequentialminus": [
            [
             0,
             "#0d0887"
            ],
            [
             0.1111111111111111,
             "#46039f"
            ],
            [
             0.2222222222222222,
             "#7201a8"
            ],
            [
             0.3333333333333333,
             "#9c179e"
            ],
            [
             0.4444444444444444,
             "#bd3786"
            ],
            [
             0.5555555555555556,
             "#d8576b"
            ],
            [
             0.6666666666666666,
             "#ed7953"
            ],
            [
             0.7777777777777778,
             "#fb9f3a"
            ],
            [
             0.8888888888888888,
             "#fdca26"
            ],
            [
             1,
             "#f0f921"
            ]
           ]
          },
          "colorway": [
           "#636efa",
           "#EF553B",
           "#00cc96",
           "#ab63fa",
           "#FFA15A",
           "#19d3f3",
           "#FF6692",
           "#B6E880",
           "#FF97FF",
           "#FECB52"
          ],
          "font": {
           "color": "#2a3f5f"
          },
          "geo": {
           "bgcolor": "white",
           "lakecolor": "white",
           "landcolor": "#E5ECF6",
           "showlakes": true,
           "showland": true,
           "subunitcolor": "white"
          },
          "hoverlabel": {
           "align": "left"
          },
          "hovermode": "closest",
          "mapbox": {
           "style": "light"
          },
          "paper_bgcolor": "white",
          "plot_bgcolor": "#E5ECF6",
          "polar": {
           "angularaxis": {
            "gridcolor": "white",
            "linecolor": "white",
            "ticks": ""
           },
           "bgcolor": "#E5ECF6",
           "radialaxis": {
            "gridcolor": "white",
            "linecolor": "white",
            "ticks": ""
           }
          },
          "scene": {
           "xaxis": {
            "backgroundcolor": "#E5ECF6",
            "gridcolor": "white",
            "gridwidth": 2,
            "linecolor": "white",
            "showbackground": true,
            "ticks": "",
            "zerolinecolor": "white"
           },
           "yaxis": {
            "backgroundcolor": "#E5ECF6",
            "gridcolor": "white",
            "gridwidth": 2,
            "linecolor": "white",
            "showbackground": true,
            "ticks": "",
            "zerolinecolor": "white"
           },
           "zaxis": {
            "backgroundcolor": "#E5ECF6",
            "gridcolor": "white",
            "gridwidth": 2,
            "linecolor": "white",
            "showbackground": true,
            "ticks": "",
            "zerolinecolor": "white"
           }
          },
          "shapedefaults": {
           "line": {
            "color": "#2a3f5f"
           }
          },
          "ternary": {
           "aaxis": {
            "gridcolor": "white",
            "linecolor": "white",
            "ticks": ""
           },
           "baxis": {
            "gridcolor": "white",
            "linecolor": "white",
            "ticks": ""
           },
           "bgcolor": "#E5ECF6",
           "caxis": {
            "gridcolor": "white",
            "linecolor": "white",
            "ticks": ""
           }
          },
          "title": {
           "x": 0.05
          },
          "xaxis": {
           "automargin": true,
           "gridcolor": "white",
           "linecolor": "white",
           "ticks": "",
           "title": {
            "standoff": 15
           },
           "zerolinecolor": "white",
           "zerolinewidth": 2
          },
          "yaxis": {
           "automargin": true,
           "gridcolor": "white",
           "linecolor": "white",
           "ticks": "",
           "title": {
            "standoff": 15
           },
           "zerolinecolor": "white",
           "zerolinewidth": 2
          }
         }
        },
        "title": {
         "font": {
          "color": "#4D5663"
         },
         "text": "Confirmed Cases per day"
        },
        "xaxis": {
         "gridcolor": "#E1E5ED",
         "showgrid": true,
         "tickfont": {
          "color": "#4D5663"
         },
         "title": {
          "font": {
           "color": "#4D5663"
          },
          "text": ""
         },
         "zerolinecolor": "#E1E5ED"
        },
        "yaxis": {
         "gridcolor": "#E1E5ED",
         "showgrid": true,
         "tickfont": {
          "color": "#4D5663"
         },
         "title": {
          "font": {
           "color": "#4D5663"
          },
          "text": ""
         },
         "zerolinecolor": "#E1E5ED"
        }
       }
      },
      "text/html": [
       "<div>\n",
       "        \n",
       "        \n",
       "            <div id=\"f3a5986c-74e3-43ec-9082-6667d996f384\" class=\"plotly-graph-div\" style=\"height:525px; width:100%;\"></div>\n",
       "            <script type=\"text/javascript\">\n",
       "                require([\"plotly\"], function(Plotly) {\n",
       "                    window.PLOTLYENV=window.PLOTLYENV || {};\n",
       "                    window.PLOTLYENV.BASE_URL='https://plot.ly';\n",
       "                    \n",
       "                if (document.getElementById(\"f3a5986c-74e3-43ec-9082-6667d996f384\")) {\n",
       "                    Plotly.newPlot(\n",
       "                        'f3a5986c-74e3-43ec-9082-6667d996f384',\n",
       "                        [{\"marker\": {\"color\": \"rgba(255, 153, 51, 0.6)\", \"line\": {\"color\": \"rgba(255, 153, 51, 1.0)\", \"width\": 1}}, \"name\": \"Cas/jrs\", \"orientation\": \"v\", \"text\": \"\", \"type\": \"bar\", \"x\": [\"2020-06-21\", \"2020-06-20\", \"2020-06-19\", \"2020-06-18\", \"2020-06-17\", \"2020-06-16\", \"2020-06-15\", \"2020-06-14\", \"2020-06-13\", \"2020-06-12\", \"2020-06-11\", \"2020-06-10\", \"2020-06-09\", \"2020-06-08\", \"2020-06-07\", \"2020-06-06\", \"2020-06-05\", \"2020-06-04\", \"2020-06-03\", \"2020-06-02\", \"2020-06-01\", \"2020-05-31\", \"2020-05-30\", \"2020-05-29\", \"2020-05-28\", \"2020-05-27\", \"2020-05-26\", \"2020-05-25\", \"2020-05-24\", \"2020-05-23\", \"2020-05-22\", \"2020-05-21\", \"2020-05-20\", \"2020-05-19\", \"2020-05-18\", \"2020-05-17\", \"2020-05-16\", \"2020-05-15\", \"2020-05-14\", \"2020-05-13\", \"2020-05-12\", \"2020-05-11\", \"2020-05-10\", \"2020-05-09\", \"2020-05-08\", \"2020-05-07\", \"2020-05-06\", \"2020-05-05\", \"2020-05-04\", \"2020-05-03\", \"2020-05-02\", \"2020-05-01\", \"2020-04-30\", \"2020-04-29\", \"2020-04-28\", \"2020-04-27\", \"2020-04-26\", \"2020-04-25\", \"2020-04-24\", \"2020-04-23\", \"2020-04-22\", \"2020-04-21\", \"2020-04-20\", \"2020-04-19\", \"2020-04-18\", \"2020-04-17\", \"2020-04-16\", \"2020-04-15\", \"2020-04-14\", \"2020-04-13\", \"2020-04-12\", \"2020-04-11\", \"2020-04-10\", \"2020-04-09\", \"2020-04-08\", \"2020-04-07\", \"2020-04-06\", \"2020-04-05\", \"2020-04-04\", \"2020-04-03\", \"2020-04-02\", \"2020-04-01\", \"2020-03-31\", \"2020-03-30\", \"2020-03-29\", \"2020-03-28\", \"2020-03-27\", \"2020-03-26\", \"2020-03-25\", \"2020-03-24\", \"2020-03-23\", \"2020-03-22\", \"2020-03-21\", \"2020-03-20\", \"2020-03-19\", \"2020-03-18\", \"2020-03-17\", \"2020-03-16\", \"2020-03-15\", \"2020-03-14\", \"2020-03-13\", \"2020-03-12\", \"2020-03-11\", \"2020-03-10\", \"2020-03-09\", \"2020-03-08\", \"2020-03-07\", \"2020-03-06\", \"2020-03-05\", \"2020-03-04\", \"2020-03-03\", \"2020-03-02\", \"2020-03-01\", \"2020-02-29\", \"2020-02-28\", \"2020-02-27\", \"2020-02-26\", \"2020-02-25\", \"2020-02-24\", \"2020-02-23\", \"2020-02-22\", \"2020-02-21\", \"2020-02-20\", \"2020-02-19\", \"2020-02-18\", \"2020-02-17\", \"2020-02-16\", \"2020-02-15\", \"2020-02-14\", \"2020-02-13\", \"2020-02-12\", \"2020-02-11\", \"2020-02-10\", \"2020-02-09\", \"2020-02-08\", \"2020-02-07\", \"2020-02-06\", \"2020-02-05\", \"2020-02-04\", \"2020-02-03\", \"2020-02-02\", \"2020-02-01\", \"2020-01-31\", \"2020-01-30\", \"2020-01-29\", \"2020-01-28\", \"2020-01-27\", \"2020-01-26\", \"2020-01-25\", \"2020-01-24\", \"2020-01-23\", \"2020-01-22\"], \"y\": [59722, 127023, 176251, 139293, 176157, 140157, 133664, 134088, 134283, 118483, 154503, 118074, 123573, 108533, 113715, 127130, 136911, 127967, 126983, 112740, 99143, 107951, 134770, 115419, 116706, 102708, 94624, 87499, 96813, 99795, 108786, 105966, 99105, 95557, 87715, 80375, 91692, 100213, 95224, 85115, 84534, 75766, 77773, 86084, 92356, 90402, 92760, 79676, 76481, 79387, 81623, 88880, 63047, 80509, 71687, 70289, 74786, 86035, 103022, 84912, 74850, 76756, 70988, 79796, 81392, 87444, 96692, 79863, 71353, 70117, 72681, 79583, 95317, 85685, 86925, 75800, 72794, 74438, 81573, 84194, 82191, 86053, 75098, 62249, 59447, 67402, 63700, 61997, 49628, 39677, 41165, 32596, 32361, 29338, 27826, 17783, 15574, 13057, 12489, 10904, 11360, 7971, 7283, 4797, 3971, 3978, 4036, 3914, 2762, 2280, 2535, 1938, 2358, 1889, 1368, 1359, 982, 845, 585, 386, 1756, 644, 558, 503, 1878, 2034, 2194, 2145, 6517, 15148, 419, 2040, 2612, 3030, 2729, 3574, 3182, 3744, 4011, 3094, 4749, 2113, 1690, 2070, 587, 2651, 809, 680, 497, 288, 98, 555]}],\n",
       "                        {\"legend\": {\"bgcolor\": \"#F5F6F9\", \"font\": {\"color\": \"#4D5663\"}}, \"paper_bgcolor\": \"#F5F6F9\", \"plot_bgcolor\": \"#F5F6F9\", \"template\": {\"data\": {\"bar\": [{\"error_x\": {\"color\": \"#2a3f5f\"}, \"error_y\": {\"color\": \"#2a3f5f\"}, \"marker\": {\"line\": {\"color\": \"#E5ECF6\", \"width\": 0.5}}, \"type\": \"bar\"}], \"barpolar\": [{\"marker\": {\"line\": {\"color\": \"#E5ECF6\", \"width\": 0.5}}, \"type\": \"barpolar\"}], \"carpet\": [{\"aaxis\": {\"endlinecolor\": \"#2a3f5f\", \"gridcolor\": \"white\", \"linecolor\": \"white\", \"minorgridcolor\": \"white\", \"startlinecolor\": \"#2a3f5f\"}, \"baxis\": {\"endlinecolor\": \"#2a3f5f\", \"gridcolor\": \"white\", \"linecolor\": \"white\", \"minorgridcolor\": \"white\", \"startlinecolor\": \"#2a3f5f\"}, \"type\": \"carpet\"}], \"choropleth\": [{\"colorbar\": {\"outlinewidth\": 0, \"ticks\": \"\"}, \"type\": \"choropleth\"}], \"contour\": [{\"colorbar\": {\"outlinewidth\": 0, \"ticks\": \"\"}, \"colorscale\": [[0.0, \"#0d0887\"], [0.1111111111111111, \"#46039f\"], [0.2222222222222222, \"#7201a8\"], [0.3333333333333333, \"#9c179e\"], [0.4444444444444444, \"#bd3786\"], [0.5555555555555556, \"#d8576b\"], [0.6666666666666666, \"#ed7953\"], [0.7777777777777778, \"#fb9f3a\"], [0.8888888888888888, \"#fdca26\"], [1.0, \"#f0f921\"]], \"type\": \"contour\"}], \"contourcarpet\": [{\"colorbar\": {\"outlinewidth\": 0, \"ticks\": \"\"}, \"type\": \"contourcarpet\"}], \"heatmap\": [{\"colorbar\": {\"outlinewidth\": 0, \"ticks\": \"\"}, \"colorscale\": [[0.0, \"#0d0887\"], [0.1111111111111111, \"#46039f\"], [0.2222222222222222, \"#7201a8\"], [0.3333333333333333, \"#9c179e\"], [0.4444444444444444, \"#bd3786\"], [0.5555555555555556, \"#d8576b\"], [0.6666666666666666, \"#ed7953\"], [0.7777777777777778, \"#fb9f3a\"], [0.8888888888888888, \"#fdca26\"], [1.0, \"#f0f921\"]], \"type\": \"heatmap\"}], \"heatmapgl\": [{\"colorbar\": {\"outlinewidth\": 0, \"ticks\": \"\"}, \"colorscale\": [[0.0, \"#0d0887\"], [0.1111111111111111, \"#46039f\"], [0.2222222222222222, \"#7201a8\"], [0.3333333333333333, \"#9c179e\"], [0.4444444444444444, \"#bd3786\"], [0.5555555555555556, \"#d8576b\"], [0.6666666666666666, \"#ed7953\"], [0.7777777777777778, \"#fb9f3a\"], [0.8888888888888888, \"#fdca26\"], [1.0, \"#f0f921\"]], \"type\": \"heatmapgl\"}], \"histogram\": [{\"marker\": {\"colorbar\": {\"outlinewidth\": 0, \"ticks\": \"\"}}, \"type\": \"histogram\"}], \"histogram2d\": [{\"colorbar\": {\"outlinewidth\": 0, \"ticks\": \"\"}, \"colorscale\": [[0.0, \"#0d0887\"], [0.1111111111111111, \"#46039f\"], [0.2222222222222222, \"#7201a8\"], [0.3333333333333333, \"#9c179e\"], [0.4444444444444444, \"#bd3786\"], [0.5555555555555556, \"#d8576b\"], [0.6666666666666666, \"#ed7953\"], [0.7777777777777778, \"#fb9f3a\"], [0.8888888888888888, \"#fdca26\"], [1.0, \"#f0f921\"]], \"type\": \"histogram2d\"}], \"histogram2dcontour\": [{\"colorbar\": {\"outlinewidth\": 0, \"ticks\": \"\"}, \"colorscale\": [[0.0, \"#0d0887\"], [0.1111111111111111, \"#46039f\"], [0.2222222222222222, \"#7201a8\"], [0.3333333333333333, \"#9c179e\"], [0.4444444444444444, \"#bd3786\"], [0.5555555555555556, \"#d8576b\"], [0.6666666666666666, \"#ed7953\"], [0.7777777777777778, \"#fb9f3a\"], [0.8888888888888888, \"#fdca26\"], [1.0, \"#f0f921\"]], \"type\": \"histogram2dcontour\"}], \"mesh3d\": [{\"colorbar\": {\"outlinewidth\": 0, \"ticks\": \"\"}, \"type\": \"mesh3d\"}], \"parcoords\": [{\"line\": {\"colorbar\": {\"outlinewidth\": 0, \"ticks\": \"\"}}, \"type\": \"parcoords\"}], \"pie\": [{\"automargin\": true, \"type\": \"pie\"}], \"scatter\": [{\"marker\": {\"colorbar\": {\"outlinewidth\": 0, \"ticks\": \"\"}}, \"type\": \"scatter\"}], \"scatter3d\": [{\"line\": {\"colorbar\": {\"outlinewidth\": 0, \"ticks\": \"\"}}, \"marker\": {\"colorbar\": {\"outlinewidth\": 0, \"ticks\": \"\"}}, \"type\": \"scatter3d\"}], \"scattercarpet\": [{\"marker\": {\"colorbar\": {\"outlinewidth\": 0, \"ticks\": \"\"}}, \"type\": \"scattercarpet\"}], \"scattergeo\": [{\"marker\": {\"colorbar\": {\"outlinewidth\": 0, \"ticks\": \"\"}}, \"type\": \"scattergeo\"}], \"scattergl\": [{\"marker\": {\"colorbar\": {\"outlinewidth\": 0, \"ticks\": \"\"}}, \"type\": \"scattergl\"}], \"scattermapbox\": [{\"marker\": {\"colorbar\": {\"outlinewidth\": 0, \"ticks\": \"\"}}, \"type\": \"scattermapbox\"}], \"scatterpolar\": [{\"marker\": {\"colorbar\": {\"outlinewidth\": 0, \"ticks\": \"\"}}, \"type\": \"scatterpolar\"}], \"scatterpolargl\": [{\"marker\": {\"colorbar\": {\"outlinewidth\": 0, \"ticks\": \"\"}}, \"type\": \"scatterpolargl\"}], \"scatterternary\": [{\"marker\": {\"colorbar\": {\"outlinewidth\": 0, \"ticks\": \"\"}}, \"type\": \"scatterternary\"}], \"surface\": [{\"colorbar\": {\"outlinewidth\": 0, \"ticks\": \"\"}, \"colorscale\": [[0.0, \"#0d0887\"], [0.1111111111111111, \"#46039f\"], [0.2222222222222222, \"#7201a8\"], [0.3333333333333333, \"#9c179e\"], [0.4444444444444444, \"#bd3786\"], [0.5555555555555556, \"#d8576b\"], [0.6666666666666666, \"#ed7953\"], [0.7777777777777778, \"#fb9f3a\"], [0.8888888888888888, \"#fdca26\"], [1.0, \"#f0f921\"]], \"type\": \"surface\"}], \"table\": [{\"cells\": {\"fill\": {\"color\": \"#EBF0F8\"}, \"line\": {\"color\": \"white\"}}, \"header\": {\"fill\": {\"color\": \"#C8D4E3\"}, \"line\": {\"color\": \"white\"}}, \"type\": \"table\"}]}, \"layout\": {\"annotationdefaults\": {\"arrowcolor\": \"#2a3f5f\", \"arrowhead\": 0, \"arrowwidth\": 1}, \"coloraxis\": {\"colorbar\": {\"outlinewidth\": 0, \"ticks\": \"\"}}, \"colorscale\": {\"diverging\": [[0, \"#8e0152\"], [0.1, \"#c51b7d\"], [0.2, \"#de77ae\"], [0.3, \"#f1b6da\"], [0.4, \"#fde0ef\"], [0.5, \"#f7f7f7\"], [0.6, \"#e6f5d0\"], [0.7, \"#b8e186\"], [0.8, \"#7fbc41\"], [0.9, \"#4d9221\"], [1, \"#276419\"]], \"sequential\": [[0.0, \"#0d0887\"], [0.1111111111111111, \"#46039f\"], [0.2222222222222222, \"#7201a8\"], [0.3333333333333333, \"#9c179e\"], [0.4444444444444444, \"#bd3786\"], [0.5555555555555556, \"#d8576b\"], [0.6666666666666666, \"#ed7953\"], [0.7777777777777778, \"#fb9f3a\"], [0.8888888888888888, \"#fdca26\"], [1.0, \"#f0f921\"]], \"sequentialminus\": [[0.0, \"#0d0887\"], [0.1111111111111111, \"#46039f\"], [0.2222222222222222, \"#7201a8\"], [0.3333333333333333, \"#9c179e\"], [0.4444444444444444, \"#bd3786\"], [0.5555555555555556, \"#d8576b\"], [0.6666666666666666, \"#ed7953\"], [0.7777777777777778, \"#fb9f3a\"], [0.8888888888888888, \"#fdca26\"], [1.0, \"#f0f921\"]]}, \"colorway\": [\"#636efa\", \"#EF553B\", \"#00cc96\", \"#ab63fa\", \"#FFA15A\", \"#19d3f3\", \"#FF6692\", \"#B6E880\", \"#FF97FF\", \"#FECB52\"], \"font\": {\"color\": \"#2a3f5f\"}, \"geo\": {\"bgcolor\": \"white\", \"lakecolor\": \"white\", \"landcolor\": \"#E5ECF6\", \"showlakes\": true, \"showland\": true, \"subunitcolor\": \"white\"}, \"hoverlabel\": {\"align\": \"left\"}, \"hovermode\": \"closest\", \"mapbox\": {\"style\": \"light\"}, \"paper_bgcolor\": \"white\", \"plot_bgcolor\": \"#E5ECF6\", \"polar\": {\"angularaxis\": {\"gridcolor\": \"white\", \"linecolor\": \"white\", \"ticks\": \"\"}, \"bgcolor\": \"#E5ECF6\", \"radialaxis\": {\"gridcolor\": \"white\", \"linecolor\": \"white\", \"ticks\": \"\"}}, \"scene\": {\"xaxis\": {\"backgroundcolor\": \"#E5ECF6\", \"gridcolor\": \"white\", \"gridwidth\": 2, \"linecolor\": \"white\", \"showbackground\": true, \"ticks\": \"\", \"zerolinecolor\": \"white\"}, \"yaxis\": {\"backgroundcolor\": \"#E5ECF6\", \"gridcolor\": \"white\", \"gridwidth\": 2, \"linecolor\": \"white\", \"showbackground\": true, \"ticks\": \"\", \"zerolinecolor\": \"white\"}, \"zaxis\": {\"backgroundcolor\": \"#E5ECF6\", \"gridcolor\": \"white\", \"gridwidth\": 2, \"linecolor\": \"white\", \"showbackground\": true, \"ticks\": \"\", \"zerolinecolor\": \"white\"}}, \"shapedefaults\": {\"line\": {\"color\": \"#2a3f5f\"}}, \"ternary\": {\"aaxis\": {\"gridcolor\": \"white\", \"linecolor\": \"white\", \"ticks\": \"\"}, \"baxis\": {\"gridcolor\": \"white\", \"linecolor\": \"white\", \"ticks\": \"\"}, \"bgcolor\": \"#E5ECF6\", \"caxis\": {\"gridcolor\": \"white\", \"linecolor\": \"white\", \"ticks\": \"\"}}, \"title\": {\"x\": 0.05}, \"xaxis\": {\"automargin\": true, \"gridcolor\": \"white\", \"linecolor\": \"white\", \"ticks\": \"\", \"title\": {\"standoff\": 15}, \"zerolinecolor\": \"white\", \"zerolinewidth\": 2}, \"yaxis\": {\"automargin\": true, \"gridcolor\": \"white\", \"linecolor\": \"white\", \"ticks\": \"\", \"title\": {\"standoff\": 15}, \"zerolinecolor\": \"white\", \"zerolinewidth\": 2}}}, \"title\": {\"font\": {\"color\": \"#4D5663\"}, \"text\": \"Confirmed Cases per day\"}, \"xaxis\": {\"gridcolor\": \"#E1E5ED\", \"showgrid\": true, \"tickfont\": {\"color\": \"#4D5663\"}, \"title\": {\"font\": {\"color\": \"#4D5663\"}, \"text\": \"\"}, \"zerolinecolor\": \"#E1E5ED\"}, \"yaxis\": {\"gridcolor\": \"#E1E5ED\", \"showgrid\": true, \"tickfont\": {\"color\": \"#4D5663\"}, \"title\": {\"font\": {\"color\": \"#4D5663\"}, \"text\": \"\"}, \"zerolinecolor\": \"#E1E5ED\"}},\n",
       "                        {\"showLink\": true, \"linkText\": \"Export to plot.ly\", \"plotlyServerURL\": \"https://plot.ly\", \"responsive\": true}\n",
       "                    ).then(function(){\n",
       "                            \n",
       "var gd = document.getElementById('f3a5986c-74e3-43ec-9082-6667d996f384');\n",
       "var x = new MutationObserver(function (mutations, observer) {{\n",
       "        var display = window.getComputedStyle(gd).display;\n",
       "        if (!display || display === 'none') {{\n",
       "            console.log([gd, 'removed!']);\n",
       "            Plotly.purge(gd);\n",
       "            observer.disconnect();\n",
       "        }}\n",
       "}});\n",
       "\n",
       "// Listen for the removal of the full notebook cells\n",
       "var notebookContainer = gd.closest('#notebook-container');\n",
       "if (notebookContainer) {{\n",
       "    x.observe(notebookContainer, {childList: true});\n",
       "}}\n",
       "\n",
       "// Listen for the clearing of the current output cell\n",
       "var outputEl = gd.closest('.output');\n",
       "if (outputEl) {{\n",
       "    x.observe(outputEl, {childList: true});\n",
       "}}\n",
       "\n",
       "                        })\n",
       "                };\n",
       "                });\n",
       "            </script>\n",
       "        </div>"
      ]
     },
     "metadata": {},
     "output_type": "display_data"
    },
    {
     "data": {
      "application/vnd.plotly.v1+json": {
       "config": {
        "linkText": "Export to plot.ly",
        "plotlyServerURL": "https://plot.ly",
        "showLink": true
       },
       "data": [
        {
         "marker": {
          "color": "rgba(255, 153, 51, 0.6)",
          "line": {
           "color": "rgba(255, 153, 51, 1.0)",
           "width": 1
          }
         },
         "name": "Décès/jrs",
         "orientation": "v",
         "text": "",
         "type": "bar",
         "x": [
          "2020-06-21",
          "2020-06-20",
          "2020-06-19",
          "2020-06-18",
          "2020-06-17",
          "2020-06-16",
          "2020-06-15",
          "2020-06-14",
          "2020-06-13",
          "2020-06-12",
          "2020-06-11",
          "2020-06-10",
          "2020-06-09",
          "2020-06-08",
          "2020-06-07",
          "2020-06-06",
          "2020-06-05",
          "2020-06-04",
          "2020-06-03",
          "2020-06-02",
          "2020-06-01",
          "2020-05-31",
          "2020-05-30",
          "2020-05-29",
          "2020-05-28",
          "2020-05-27",
          "2020-05-26",
          "2020-05-25",
          "2020-05-24",
          "2020-05-23",
          "2020-05-22",
          "2020-05-21",
          "2020-05-20",
          "2020-05-19",
          "2020-05-18",
          "2020-05-17",
          "2020-05-16",
          "2020-05-15",
          "2020-05-14",
          "2020-05-13",
          "2020-05-12",
          "2020-05-11",
          "2020-05-10",
          "2020-05-09",
          "2020-05-08",
          "2020-05-07",
          "2020-05-06",
          "2020-05-05",
          "2020-05-04",
          "2020-05-03",
          "2020-05-02",
          "2020-05-01",
          "2020-04-30",
          "2020-04-29",
          "2020-04-28",
          "2020-04-27",
          "2020-04-26",
          "2020-04-25",
          "2020-04-24",
          "2020-04-23",
          "2020-04-22",
          "2020-04-21",
          "2020-04-20",
          "2020-04-19",
          "2020-04-18",
          "2020-04-17",
          "2020-04-16",
          "2020-04-15",
          "2020-04-14",
          "2020-04-13",
          "2020-04-12",
          "2020-04-11",
          "2020-04-10",
          "2020-04-09",
          "2020-04-08",
          "2020-04-07",
          "2020-04-06",
          "2020-04-05",
          "2020-04-04",
          "2020-04-03",
          "2020-04-02",
          "2020-04-01",
          "2020-03-31",
          "2020-03-30",
          "2020-03-29",
          "2020-03-28",
          "2020-03-27",
          "2020-03-26",
          "2020-03-25",
          "2020-03-24",
          "2020-03-23",
          "2020-03-22",
          "2020-03-21",
          "2020-03-20",
          "2020-03-19",
          "2020-03-18",
          "2020-03-17",
          "2020-03-16",
          "2020-03-15",
          "2020-03-14",
          "2020-03-13",
          "2020-03-12",
          "2020-03-11",
          "2020-03-10",
          "2020-03-09",
          "2020-03-08",
          "2020-03-07",
          "2020-03-06",
          "2020-03-05",
          "2020-03-04",
          "2020-03-03",
          "2020-03-02",
          "2020-03-01",
          "2020-02-29",
          "2020-02-28",
          "2020-02-27",
          "2020-02-26",
          "2020-02-25",
          "2020-02-24",
          "2020-02-23",
          "2020-02-22",
          "2020-02-21",
          "2020-02-20",
          "2020-02-19",
          "2020-02-18",
          "2020-02-17",
          "2020-02-16",
          "2020-02-15",
          "2020-02-14",
          "2020-02-13",
          "2020-02-12",
          "2020-02-11",
          "2020-02-10",
          "2020-02-09",
          "2020-02-08",
          "2020-02-07",
          "2020-02-06",
          "2020-02-05",
          "2020-02-04",
          "2020-02-03",
          "2020-02-02",
          "2020-02-01",
          "2020-01-31",
          "2020-01-30",
          "2020-01-29",
          "2020-01-28",
          "2020-01-27",
          "2020-01-26",
          "2020-01-25",
          "2020-01-24",
          "2020-01-23",
          "2020-01-22"
         ],
         "y": [
          1293,
          4449,
          6033,
          5026,
          5274,
          6788,
          3833,
          3332,
          4342,
          3936,
          5291,
          4765,
          4862,
          3800,
          2745,
          3871,
          4992,
          5190,
          5697,
          4707,
          3511,
          2909,
          4251,
          4568,
          4679,
          5176,
          4221,
          1173,
          2847,
          3980,
          5310,
          4809,
          4832,
          4804,
          3209,
          3395,
          4213,
          5248,
          5223,
          5235,
          5635,
          3621,
          3398,
          4414,
          5331,
          5737,
          6596,
          5702,
          4069,
          3662,
          4908,
          5543,
          5750,
          10485,
          5986,
          4623,
          3698,
          5695,
          6293,
          7792,
          6483,
          6597,
          4942,
          5534,
          5688,
          10021,
          9624,
          8193,
          6502,
          5393,
          5587,
          5977,
          7070,
          7117,
          6473,
          7300,
          5191,
          4768,
          5819,
          5804,
          6174,
          4702,
          4525,
          3657,
          3273,
          3454,
          3228,
          2789,
          2566,
          2116,
          1874,
          1652,
          1674,
          1303,
          1147,
          917,
          800,
          642,
          671,
          377,
          478,
          349,
          353,
          260,
          199,
          245,
          98,
          112,
          94,
          94,
          75,
          89,
          55,
          69,
          58,
          44,
          62,
          79,
          160,
          11,
          207,
          4,
          125,
          115,
          139,
          98,
          104,
          143,
          152,
          253,
          5,
          100,
          107,
          100,
          87,
          85,
          70,
          72,
          66,
          64,
          103,
          46,
          42,
          38,
          2,
          49,
          26,
          14,
          16,
          8,
          1,
          17
         ]
        }
       ],
       "layout": {
        "legend": {
         "bgcolor": "#F5F6F9",
         "font": {
          "color": "#4D5663"
         }
        },
        "paper_bgcolor": "#F5F6F9",
        "plot_bgcolor": "#F5F6F9",
        "template": {
         "data": {
          "bar": [
           {
            "error_x": {
             "color": "#2a3f5f"
            },
            "error_y": {
             "color": "#2a3f5f"
            },
            "marker": {
             "line": {
              "color": "#E5ECF6",
              "width": 0.5
             }
            },
            "type": "bar"
           }
          ],
          "barpolar": [
           {
            "marker": {
             "line": {
              "color": "#E5ECF6",
              "width": 0.5
             }
            },
            "type": "barpolar"
           }
          ],
          "carpet": [
           {
            "aaxis": {
             "endlinecolor": "#2a3f5f",
             "gridcolor": "white",
             "linecolor": "white",
             "minorgridcolor": "white",
             "startlinecolor": "#2a3f5f"
            },
            "baxis": {
             "endlinecolor": "#2a3f5f",
             "gridcolor": "white",
             "linecolor": "white",
             "minorgridcolor": "white",
             "startlinecolor": "#2a3f5f"
            },
            "type": "carpet"
           }
          ],
          "choropleth": [
           {
            "colorbar": {
             "outlinewidth": 0,
             "ticks": ""
            },
            "type": "choropleth"
           }
          ],
          "contour": [
           {
            "colorbar": {
             "outlinewidth": 0,
             "ticks": ""
            },
            "colorscale": [
             [
              0,
              "#0d0887"
             ],
             [
              0.1111111111111111,
              "#46039f"
             ],
             [
              0.2222222222222222,
              "#7201a8"
             ],
             [
              0.3333333333333333,
              "#9c179e"
             ],
             [
              0.4444444444444444,
              "#bd3786"
             ],
             [
              0.5555555555555556,
              "#d8576b"
             ],
             [
              0.6666666666666666,
              "#ed7953"
             ],
             [
              0.7777777777777778,
              "#fb9f3a"
             ],
             [
              0.8888888888888888,
              "#fdca26"
             ],
             [
              1,
              "#f0f921"
             ]
            ],
            "type": "contour"
           }
          ],
          "contourcarpet": [
           {
            "colorbar": {
             "outlinewidth": 0,
             "ticks": ""
            },
            "type": "contourcarpet"
           }
          ],
          "heatmap": [
           {
            "colorbar": {
             "outlinewidth": 0,
             "ticks": ""
            },
            "colorscale": [
             [
              0,
              "#0d0887"
             ],
             [
              0.1111111111111111,
              "#46039f"
             ],
             [
              0.2222222222222222,
              "#7201a8"
             ],
             [
              0.3333333333333333,
              "#9c179e"
             ],
             [
              0.4444444444444444,
              "#bd3786"
             ],
             [
              0.5555555555555556,
              "#d8576b"
             ],
             [
              0.6666666666666666,
              "#ed7953"
             ],
             [
              0.7777777777777778,
              "#fb9f3a"
             ],
             [
              0.8888888888888888,
              "#fdca26"
             ],
             [
              1,
              "#f0f921"
             ]
            ],
            "type": "heatmap"
           }
          ],
          "heatmapgl": [
           {
            "colorbar": {
             "outlinewidth": 0,
             "ticks": ""
            },
            "colorscale": [
             [
              0,
              "#0d0887"
             ],
             [
              0.1111111111111111,
              "#46039f"
             ],
             [
              0.2222222222222222,
              "#7201a8"
             ],
             [
              0.3333333333333333,
              "#9c179e"
             ],
             [
              0.4444444444444444,
              "#bd3786"
             ],
             [
              0.5555555555555556,
              "#d8576b"
             ],
             [
              0.6666666666666666,
              "#ed7953"
             ],
             [
              0.7777777777777778,
              "#fb9f3a"
             ],
             [
              0.8888888888888888,
              "#fdca26"
             ],
             [
              1,
              "#f0f921"
             ]
            ],
            "type": "heatmapgl"
           }
          ],
          "histogram": [
           {
            "marker": {
             "colorbar": {
              "outlinewidth": 0,
              "ticks": ""
             }
            },
            "type": "histogram"
           }
          ],
          "histogram2d": [
           {
            "colorbar": {
             "outlinewidth": 0,
             "ticks": ""
            },
            "colorscale": [
             [
              0,
              "#0d0887"
             ],
             [
              0.1111111111111111,
              "#46039f"
             ],
             [
              0.2222222222222222,
              "#7201a8"
             ],
             [
              0.3333333333333333,
              "#9c179e"
             ],
             [
              0.4444444444444444,
              "#bd3786"
             ],
             [
              0.5555555555555556,
              "#d8576b"
             ],
             [
              0.6666666666666666,
              "#ed7953"
             ],
             [
              0.7777777777777778,
              "#fb9f3a"
             ],
             [
              0.8888888888888888,
              "#fdca26"
             ],
             [
              1,
              "#f0f921"
             ]
            ],
            "type": "histogram2d"
           }
          ],
          "histogram2dcontour": [
           {
            "colorbar": {
             "outlinewidth": 0,
             "ticks": ""
            },
            "colorscale": [
             [
              0,
              "#0d0887"
             ],
             [
              0.1111111111111111,
              "#46039f"
             ],
             [
              0.2222222222222222,
              "#7201a8"
             ],
             [
              0.3333333333333333,
              "#9c179e"
             ],
             [
              0.4444444444444444,
              "#bd3786"
             ],
             [
              0.5555555555555556,
              "#d8576b"
             ],
             [
              0.6666666666666666,
              "#ed7953"
             ],
             [
              0.7777777777777778,
              "#fb9f3a"
             ],
             [
              0.8888888888888888,
              "#fdca26"
             ],
             [
              1,
              "#f0f921"
             ]
            ],
            "type": "histogram2dcontour"
           }
          ],
          "mesh3d": [
           {
            "colorbar": {
             "outlinewidth": 0,
             "ticks": ""
            },
            "type": "mesh3d"
           }
          ],
          "parcoords": [
           {
            "line": {
             "colorbar": {
              "outlinewidth": 0,
              "ticks": ""
             }
            },
            "type": "parcoords"
           }
          ],
          "pie": [
           {
            "automargin": true,
            "type": "pie"
           }
          ],
          "scatter": [
           {
            "marker": {
             "colorbar": {
              "outlinewidth": 0,
              "ticks": ""
             }
            },
            "type": "scatter"
           }
          ],
          "scatter3d": [
           {
            "line": {
             "colorbar": {
              "outlinewidth": 0,
              "ticks": ""
             }
            },
            "marker": {
             "colorbar": {
              "outlinewidth": 0,
              "ticks": ""
             }
            },
            "type": "scatter3d"
           }
          ],
          "scattercarpet": [
           {
            "marker": {
             "colorbar": {
              "outlinewidth": 0,
              "ticks": ""
             }
            },
            "type": "scattercarpet"
           }
          ],
          "scattergeo": [
           {
            "marker": {
             "colorbar": {
              "outlinewidth": 0,
              "ticks": ""
             }
            },
            "type": "scattergeo"
           }
          ],
          "scattergl": [
           {
            "marker": {
             "colorbar": {
              "outlinewidth": 0,
              "ticks": ""
             }
            },
            "type": "scattergl"
           }
          ],
          "scattermapbox": [
           {
            "marker": {
             "colorbar": {
              "outlinewidth": 0,
              "ticks": ""
             }
            },
            "type": "scattermapbox"
           }
          ],
          "scatterpolar": [
           {
            "marker": {
             "colorbar": {
              "outlinewidth": 0,
              "ticks": ""
             }
            },
            "type": "scatterpolar"
           }
          ],
          "scatterpolargl": [
           {
            "marker": {
             "colorbar": {
              "outlinewidth": 0,
              "ticks": ""
             }
            },
            "type": "scatterpolargl"
           }
          ],
          "scatterternary": [
           {
            "marker": {
             "colorbar": {
              "outlinewidth": 0,
              "ticks": ""
             }
            },
            "type": "scatterternary"
           }
          ],
          "surface": [
           {
            "colorbar": {
             "outlinewidth": 0,
             "ticks": ""
            },
            "colorscale": [
             [
              0,
              "#0d0887"
             ],
             [
              0.1111111111111111,
              "#46039f"
             ],
             [
              0.2222222222222222,
              "#7201a8"
             ],
             [
              0.3333333333333333,
              "#9c179e"
             ],
             [
              0.4444444444444444,
              "#bd3786"
             ],
             [
              0.5555555555555556,
              "#d8576b"
             ],
             [
              0.6666666666666666,
              "#ed7953"
             ],
             [
              0.7777777777777778,
              "#fb9f3a"
             ],
             [
              0.8888888888888888,
              "#fdca26"
             ],
             [
              1,
              "#f0f921"
             ]
            ],
            "type": "surface"
           }
          ],
          "table": [
           {
            "cells": {
             "fill": {
              "color": "#EBF0F8"
             },
             "line": {
              "color": "white"
             }
            },
            "header": {
             "fill": {
              "color": "#C8D4E3"
             },
             "line": {
              "color": "white"
             }
            },
            "type": "table"
           }
          ]
         },
         "layout": {
          "annotationdefaults": {
           "arrowcolor": "#2a3f5f",
           "arrowhead": 0,
           "arrowwidth": 1
          },
          "coloraxis": {
           "colorbar": {
            "outlinewidth": 0,
            "ticks": ""
           }
          },
          "colorscale": {
           "diverging": [
            [
             0,
             "#8e0152"
            ],
            [
             0.1,
             "#c51b7d"
            ],
            [
             0.2,
             "#de77ae"
            ],
            [
             0.3,
             "#f1b6da"
            ],
            [
             0.4,
             "#fde0ef"
            ],
            [
             0.5,
             "#f7f7f7"
            ],
            [
             0.6,
             "#e6f5d0"
            ],
            [
             0.7,
             "#b8e186"
            ],
            [
             0.8,
             "#7fbc41"
            ],
            [
             0.9,
             "#4d9221"
            ],
            [
             1,
             "#276419"
            ]
           ],
           "sequential": [
            [
             0,
             "#0d0887"
            ],
            [
             0.1111111111111111,
             "#46039f"
            ],
            [
             0.2222222222222222,
             "#7201a8"
            ],
            [
             0.3333333333333333,
             "#9c179e"
            ],
            [
             0.4444444444444444,
             "#bd3786"
            ],
            [
             0.5555555555555556,
             "#d8576b"
            ],
            [
             0.6666666666666666,
             "#ed7953"
            ],
            [
             0.7777777777777778,
             "#fb9f3a"
            ],
            [
             0.8888888888888888,
             "#fdca26"
            ],
            [
             1,
             "#f0f921"
            ]
           ],
           "sequentialminus": [
            [
             0,
             "#0d0887"
            ],
            [
             0.1111111111111111,
             "#46039f"
            ],
            [
             0.2222222222222222,
             "#7201a8"
            ],
            [
             0.3333333333333333,
             "#9c179e"
            ],
            [
             0.4444444444444444,
             "#bd3786"
            ],
            [
             0.5555555555555556,
             "#d8576b"
            ],
            [
             0.6666666666666666,
             "#ed7953"
            ],
            [
             0.7777777777777778,
             "#fb9f3a"
            ],
            [
             0.8888888888888888,
             "#fdca26"
            ],
            [
             1,
             "#f0f921"
            ]
           ]
          },
          "colorway": [
           "#636efa",
           "#EF553B",
           "#00cc96",
           "#ab63fa",
           "#FFA15A",
           "#19d3f3",
           "#FF6692",
           "#B6E880",
           "#FF97FF",
           "#FECB52"
          ],
          "font": {
           "color": "#2a3f5f"
          },
          "geo": {
           "bgcolor": "white",
           "lakecolor": "white",
           "landcolor": "#E5ECF6",
           "showlakes": true,
           "showland": true,
           "subunitcolor": "white"
          },
          "hoverlabel": {
           "align": "left"
          },
          "hovermode": "closest",
          "mapbox": {
           "style": "light"
          },
          "paper_bgcolor": "white",
          "plot_bgcolor": "#E5ECF6",
          "polar": {
           "angularaxis": {
            "gridcolor": "white",
            "linecolor": "white",
            "ticks": ""
           },
           "bgcolor": "#E5ECF6",
           "radialaxis": {
            "gridcolor": "white",
            "linecolor": "white",
            "ticks": ""
           }
          },
          "scene": {
           "xaxis": {
            "backgroundcolor": "#E5ECF6",
            "gridcolor": "white",
            "gridwidth": 2,
            "linecolor": "white",
            "showbackground": true,
            "ticks": "",
            "zerolinecolor": "white"
           },
           "yaxis": {
            "backgroundcolor": "#E5ECF6",
            "gridcolor": "white",
            "gridwidth": 2,
            "linecolor": "white",
            "showbackground": true,
            "ticks": "",
            "zerolinecolor": "white"
           },
           "zaxis": {
            "backgroundcolor": "#E5ECF6",
            "gridcolor": "white",
            "gridwidth": 2,
            "linecolor": "white",
            "showbackground": true,
            "ticks": "",
            "zerolinecolor": "white"
           }
          },
          "shapedefaults": {
           "line": {
            "color": "#2a3f5f"
           }
          },
          "ternary": {
           "aaxis": {
            "gridcolor": "white",
            "linecolor": "white",
            "ticks": ""
           },
           "baxis": {
            "gridcolor": "white",
            "linecolor": "white",
            "ticks": ""
           },
           "bgcolor": "#E5ECF6",
           "caxis": {
            "gridcolor": "white",
            "linecolor": "white",
            "ticks": ""
           }
          },
          "title": {
           "x": 0.05
          },
          "xaxis": {
           "automargin": true,
           "gridcolor": "white",
           "linecolor": "white",
           "ticks": "",
           "title": {
            "standoff": 15
           },
           "zerolinecolor": "white",
           "zerolinewidth": 2
          },
          "yaxis": {
           "automargin": true,
           "gridcolor": "white",
           "linecolor": "white",
           "ticks": "",
           "title": {
            "standoff": 15
           },
           "zerolinecolor": "white",
           "zerolinewidth": 2
          }
         }
        },
        "title": {
         "font": {
          "color": "#4D5663"
         },
         "text": "Confirmed Deaths per day"
        },
        "xaxis": {
         "gridcolor": "#E1E5ED",
         "showgrid": true,
         "tickfont": {
          "color": "#4D5663"
         },
         "title": {
          "font": {
           "color": "#4D5663"
          },
          "text": ""
         },
         "zerolinecolor": "#E1E5ED"
        },
        "yaxis": {
         "gridcolor": "#E1E5ED",
         "showgrid": true,
         "tickfont": {
          "color": "#4D5663"
         },
         "title": {
          "font": {
           "color": "#4D5663"
          },
          "text": ""
         },
         "zerolinecolor": "#E1E5ED"
        }
       }
      },
      "text/html": [
       "<div>\n",
       "        \n",
       "        \n",
       "            <div id=\"cb11d853-f693-432e-9999-bb61d88d2c48\" class=\"plotly-graph-div\" style=\"height:525px; width:100%;\"></div>\n",
       "            <script type=\"text/javascript\">\n",
       "                require([\"plotly\"], function(Plotly) {\n",
       "                    window.PLOTLYENV=window.PLOTLYENV || {};\n",
       "                    window.PLOTLYENV.BASE_URL='https://plot.ly';\n",
       "                    \n",
       "                if (document.getElementById(\"cb11d853-f693-432e-9999-bb61d88d2c48\")) {\n",
       "                    Plotly.newPlot(\n",
       "                        'cb11d853-f693-432e-9999-bb61d88d2c48',\n",
       "                        [{\"marker\": {\"color\": \"rgba(255, 153, 51, 0.6)\", \"line\": {\"color\": \"rgba(255, 153, 51, 1.0)\", \"width\": 1}}, \"name\": \"D\\u00e9c\\u00e8s/jrs\", \"orientation\": \"v\", \"text\": \"\", \"type\": \"bar\", \"x\": [\"2020-06-21\", \"2020-06-20\", \"2020-06-19\", \"2020-06-18\", \"2020-06-17\", \"2020-06-16\", \"2020-06-15\", \"2020-06-14\", \"2020-06-13\", \"2020-06-12\", \"2020-06-11\", \"2020-06-10\", \"2020-06-09\", \"2020-06-08\", \"2020-06-07\", \"2020-06-06\", \"2020-06-05\", \"2020-06-04\", \"2020-06-03\", \"2020-06-02\", \"2020-06-01\", \"2020-05-31\", \"2020-05-30\", \"2020-05-29\", \"2020-05-28\", \"2020-05-27\", \"2020-05-26\", \"2020-05-25\", \"2020-05-24\", \"2020-05-23\", \"2020-05-22\", \"2020-05-21\", \"2020-05-20\", \"2020-05-19\", \"2020-05-18\", \"2020-05-17\", \"2020-05-16\", \"2020-05-15\", \"2020-05-14\", \"2020-05-13\", \"2020-05-12\", \"2020-05-11\", \"2020-05-10\", \"2020-05-09\", \"2020-05-08\", \"2020-05-07\", \"2020-05-06\", \"2020-05-05\", \"2020-05-04\", \"2020-05-03\", \"2020-05-02\", \"2020-05-01\", \"2020-04-30\", \"2020-04-29\", \"2020-04-28\", \"2020-04-27\", \"2020-04-26\", \"2020-04-25\", \"2020-04-24\", \"2020-04-23\", \"2020-04-22\", \"2020-04-21\", \"2020-04-20\", \"2020-04-19\", \"2020-04-18\", \"2020-04-17\", \"2020-04-16\", \"2020-04-15\", \"2020-04-14\", \"2020-04-13\", \"2020-04-12\", \"2020-04-11\", \"2020-04-10\", \"2020-04-09\", \"2020-04-08\", \"2020-04-07\", \"2020-04-06\", \"2020-04-05\", \"2020-04-04\", \"2020-04-03\", \"2020-04-02\", \"2020-04-01\", \"2020-03-31\", \"2020-03-30\", \"2020-03-29\", \"2020-03-28\", \"2020-03-27\", \"2020-03-26\", \"2020-03-25\", \"2020-03-24\", \"2020-03-23\", \"2020-03-22\", \"2020-03-21\", \"2020-03-20\", \"2020-03-19\", \"2020-03-18\", \"2020-03-17\", \"2020-03-16\", \"2020-03-15\", \"2020-03-14\", \"2020-03-13\", \"2020-03-12\", \"2020-03-11\", \"2020-03-10\", \"2020-03-09\", \"2020-03-08\", \"2020-03-07\", \"2020-03-06\", \"2020-03-05\", \"2020-03-04\", \"2020-03-03\", \"2020-03-02\", \"2020-03-01\", \"2020-02-29\", \"2020-02-28\", \"2020-02-27\", \"2020-02-26\", \"2020-02-25\", \"2020-02-24\", \"2020-02-23\", \"2020-02-22\", \"2020-02-21\", \"2020-02-20\", \"2020-02-19\", \"2020-02-18\", \"2020-02-17\", \"2020-02-16\", \"2020-02-15\", \"2020-02-14\", \"2020-02-13\", \"2020-02-12\", \"2020-02-11\", \"2020-02-10\", \"2020-02-09\", \"2020-02-08\", \"2020-02-07\", \"2020-02-06\", \"2020-02-05\", \"2020-02-04\", \"2020-02-03\", \"2020-02-02\", \"2020-02-01\", \"2020-01-31\", \"2020-01-30\", \"2020-01-29\", \"2020-01-28\", \"2020-01-27\", \"2020-01-26\", \"2020-01-25\", \"2020-01-24\", \"2020-01-23\", \"2020-01-22\"], \"y\": [1293, 4449, 6033, 5026, 5274, 6788, 3833, 3332, 4342, 3936, 5291, 4765, 4862, 3800, 2745, 3871, 4992, 5190, 5697, 4707, 3511, 2909, 4251, 4568, 4679, 5176, 4221, 1173, 2847, 3980, 5310, 4809, 4832, 4804, 3209, 3395, 4213, 5248, 5223, 5235, 5635, 3621, 3398, 4414, 5331, 5737, 6596, 5702, 4069, 3662, 4908, 5543, 5750, 10485, 5986, 4623, 3698, 5695, 6293, 7792, 6483, 6597, 4942, 5534, 5688, 10021, 9624, 8193, 6502, 5393, 5587, 5977, 7070, 7117, 6473, 7300, 5191, 4768, 5819, 5804, 6174, 4702, 4525, 3657, 3273, 3454, 3228, 2789, 2566, 2116, 1874, 1652, 1674, 1303, 1147, 917, 800, 642, 671, 377, 478, 349, 353, 260, 199, 245, 98, 112, 94, 94, 75, 89, 55, 69, 58, 44, 62, 79, 160, 11, 207, 4, 125, 115, 139, 98, 104, 143, 152, 253, 5, 100, 107, 100, 87, 85, 70, 72, 66, 64, 103, 46, 42, 38, 2, 49, 26, 14, 16, 8, 1, 17]}],\n",
       "                        {\"legend\": {\"bgcolor\": \"#F5F6F9\", \"font\": {\"color\": \"#4D5663\"}}, \"paper_bgcolor\": \"#F5F6F9\", \"plot_bgcolor\": \"#F5F6F9\", \"template\": {\"data\": {\"bar\": [{\"error_x\": {\"color\": \"#2a3f5f\"}, \"error_y\": {\"color\": \"#2a3f5f\"}, \"marker\": {\"line\": {\"color\": \"#E5ECF6\", \"width\": 0.5}}, \"type\": \"bar\"}], \"barpolar\": [{\"marker\": {\"line\": {\"color\": \"#E5ECF6\", \"width\": 0.5}}, \"type\": \"barpolar\"}], \"carpet\": [{\"aaxis\": {\"endlinecolor\": \"#2a3f5f\", \"gridcolor\": \"white\", \"linecolor\": \"white\", \"minorgridcolor\": \"white\", \"startlinecolor\": \"#2a3f5f\"}, \"baxis\": {\"endlinecolor\": \"#2a3f5f\", \"gridcolor\": \"white\", \"linecolor\": \"white\", \"minorgridcolor\": \"white\", \"startlinecolor\": \"#2a3f5f\"}, \"type\": \"carpet\"}], \"choropleth\": [{\"colorbar\": {\"outlinewidth\": 0, \"ticks\": \"\"}, \"type\": \"choropleth\"}], \"contour\": [{\"colorbar\": {\"outlinewidth\": 0, \"ticks\": \"\"}, \"colorscale\": [[0.0, \"#0d0887\"], [0.1111111111111111, \"#46039f\"], [0.2222222222222222, \"#7201a8\"], [0.3333333333333333, \"#9c179e\"], [0.4444444444444444, \"#bd3786\"], [0.5555555555555556, \"#d8576b\"], [0.6666666666666666, \"#ed7953\"], [0.7777777777777778, \"#fb9f3a\"], [0.8888888888888888, \"#fdca26\"], [1.0, \"#f0f921\"]], \"type\": \"contour\"}], \"contourcarpet\": [{\"colorbar\": {\"outlinewidth\": 0, \"ticks\": \"\"}, \"type\": \"contourcarpet\"}], \"heatmap\": [{\"colorbar\": {\"outlinewidth\": 0, \"ticks\": \"\"}, \"colorscale\": [[0.0, \"#0d0887\"], [0.1111111111111111, \"#46039f\"], [0.2222222222222222, \"#7201a8\"], [0.3333333333333333, \"#9c179e\"], [0.4444444444444444, \"#bd3786\"], [0.5555555555555556, \"#d8576b\"], [0.6666666666666666, \"#ed7953\"], [0.7777777777777778, \"#fb9f3a\"], [0.8888888888888888, \"#fdca26\"], [1.0, \"#f0f921\"]], \"type\": \"heatmap\"}], \"heatmapgl\": [{\"colorbar\": {\"outlinewidth\": 0, \"ticks\": \"\"}, \"colorscale\": [[0.0, \"#0d0887\"], [0.1111111111111111, \"#46039f\"], [0.2222222222222222, \"#7201a8\"], [0.3333333333333333, \"#9c179e\"], [0.4444444444444444, \"#bd3786\"], [0.5555555555555556, \"#d8576b\"], [0.6666666666666666, \"#ed7953\"], [0.7777777777777778, \"#fb9f3a\"], [0.8888888888888888, \"#fdca26\"], [1.0, \"#f0f921\"]], \"type\": \"heatmapgl\"}], \"histogram\": [{\"marker\": {\"colorbar\": {\"outlinewidth\": 0, \"ticks\": \"\"}}, \"type\": \"histogram\"}], \"histogram2d\": [{\"colorbar\": {\"outlinewidth\": 0, \"ticks\": \"\"}, \"colorscale\": [[0.0, \"#0d0887\"], [0.1111111111111111, \"#46039f\"], [0.2222222222222222, \"#7201a8\"], [0.3333333333333333, \"#9c179e\"], [0.4444444444444444, \"#bd3786\"], [0.5555555555555556, \"#d8576b\"], [0.6666666666666666, \"#ed7953\"], [0.7777777777777778, \"#fb9f3a\"], [0.8888888888888888, \"#fdca26\"], [1.0, \"#f0f921\"]], \"type\": \"histogram2d\"}], \"histogram2dcontour\": [{\"colorbar\": {\"outlinewidth\": 0, \"ticks\": \"\"}, \"colorscale\": [[0.0, \"#0d0887\"], [0.1111111111111111, \"#46039f\"], [0.2222222222222222, \"#7201a8\"], [0.3333333333333333, \"#9c179e\"], [0.4444444444444444, \"#bd3786\"], [0.5555555555555556, \"#d8576b\"], [0.6666666666666666, \"#ed7953\"], [0.7777777777777778, \"#fb9f3a\"], [0.8888888888888888, \"#fdca26\"], [1.0, \"#f0f921\"]], \"type\": \"histogram2dcontour\"}], \"mesh3d\": [{\"colorbar\": {\"outlinewidth\": 0, \"ticks\": \"\"}, \"type\": \"mesh3d\"}], \"parcoords\": [{\"line\": {\"colorbar\": {\"outlinewidth\": 0, \"ticks\": \"\"}}, \"type\": \"parcoords\"}], \"pie\": [{\"automargin\": true, \"type\": \"pie\"}], \"scatter\": [{\"marker\": {\"colorbar\": {\"outlinewidth\": 0, \"ticks\": \"\"}}, \"type\": \"scatter\"}], \"scatter3d\": [{\"line\": {\"colorbar\": {\"outlinewidth\": 0, \"ticks\": \"\"}}, \"marker\": {\"colorbar\": {\"outlinewidth\": 0, \"ticks\": \"\"}}, \"type\": \"scatter3d\"}], \"scattercarpet\": [{\"marker\": {\"colorbar\": {\"outlinewidth\": 0, \"ticks\": \"\"}}, \"type\": \"scattercarpet\"}], \"scattergeo\": [{\"marker\": {\"colorbar\": {\"outlinewidth\": 0, \"ticks\": \"\"}}, \"type\": \"scattergeo\"}], \"scattergl\": [{\"marker\": {\"colorbar\": {\"outlinewidth\": 0, \"ticks\": \"\"}}, \"type\": \"scattergl\"}], \"scattermapbox\": [{\"marker\": {\"colorbar\": {\"outlinewidth\": 0, \"ticks\": \"\"}}, \"type\": \"scattermapbox\"}], \"scatterpolar\": [{\"marker\": {\"colorbar\": {\"outlinewidth\": 0, \"ticks\": \"\"}}, \"type\": \"scatterpolar\"}], \"scatterpolargl\": [{\"marker\": {\"colorbar\": {\"outlinewidth\": 0, \"ticks\": \"\"}}, \"type\": \"scatterpolargl\"}], \"scatterternary\": [{\"marker\": {\"colorbar\": {\"outlinewidth\": 0, \"ticks\": \"\"}}, \"type\": \"scatterternary\"}], \"surface\": [{\"colorbar\": {\"outlinewidth\": 0, \"ticks\": \"\"}, \"colorscale\": [[0.0, \"#0d0887\"], [0.1111111111111111, \"#46039f\"], [0.2222222222222222, \"#7201a8\"], [0.3333333333333333, \"#9c179e\"], [0.4444444444444444, \"#bd3786\"], [0.5555555555555556, \"#d8576b\"], [0.6666666666666666, \"#ed7953\"], [0.7777777777777778, \"#fb9f3a\"], [0.8888888888888888, \"#fdca26\"], [1.0, \"#f0f921\"]], \"type\": \"surface\"}], \"table\": [{\"cells\": {\"fill\": {\"color\": \"#EBF0F8\"}, \"line\": {\"color\": \"white\"}}, \"header\": {\"fill\": {\"color\": \"#C8D4E3\"}, \"line\": {\"color\": \"white\"}}, \"type\": \"table\"}]}, \"layout\": {\"annotationdefaults\": {\"arrowcolor\": \"#2a3f5f\", \"arrowhead\": 0, \"arrowwidth\": 1}, \"coloraxis\": {\"colorbar\": {\"outlinewidth\": 0, \"ticks\": \"\"}}, \"colorscale\": {\"diverging\": [[0, \"#8e0152\"], [0.1, \"#c51b7d\"], [0.2, \"#de77ae\"], [0.3, \"#f1b6da\"], [0.4, \"#fde0ef\"], [0.5, \"#f7f7f7\"], [0.6, \"#e6f5d0\"], [0.7, \"#b8e186\"], [0.8, \"#7fbc41\"], [0.9, \"#4d9221\"], [1, \"#276419\"]], \"sequential\": [[0.0, \"#0d0887\"], [0.1111111111111111, \"#46039f\"], [0.2222222222222222, \"#7201a8\"], [0.3333333333333333, \"#9c179e\"], [0.4444444444444444, \"#bd3786\"], [0.5555555555555556, \"#d8576b\"], [0.6666666666666666, \"#ed7953\"], [0.7777777777777778, \"#fb9f3a\"], [0.8888888888888888, \"#fdca26\"], [1.0, \"#f0f921\"]], \"sequentialminus\": [[0.0, \"#0d0887\"], [0.1111111111111111, \"#46039f\"], [0.2222222222222222, \"#7201a8\"], [0.3333333333333333, \"#9c179e\"], [0.4444444444444444, \"#bd3786\"], [0.5555555555555556, \"#d8576b\"], [0.6666666666666666, \"#ed7953\"], [0.7777777777777778, \"#fb9f3a\"], [0.8888888888888888, \"#fdca26\"], [1.0, \"#f0f921\"]]}, \"colorway\": [\"#636efa\", \"#EF553B\", \"#00cc96\", \"#ab63fa\", \"#FFA15A\", \"#19d3f3\", \"#FF6692\", \"#B6E880\", \"#FF97FF\", \"#FECB52\"], \"font\": {\"color\": \"#2a3f5f\"}, \"geo\": {\"bgcolor\": \"white\", \"lakecolor\": \"white\", \"landcolor\": \"#E5ECF6\", \"showlakes\": true, \"showland\": true, \"subunitcolor\": \"white\"}, \"hoverlabel\": {\"align\": \"left\"}, \"hovermode\": \"closest\", \"mapbox\": {\"style\": \"light\"}, \"paper_bgcolor\": \"white\", \"plot_bgcolor\": \"#E5ECF6\", \"polar\": {\"angularaxis\": {\"gridcolor\": \"white\", \"linecolor\": \"white\", \"ticks\": \"\"}, \"bgcolor\": \"#E5ECF6\", \"radialaxis\": {\"gridcolor\": \"white\", \"linecolor\": \"white\", \"ticks\": \"\"}}, \"scene\": {\"xaxis\": {\"backgroundcolor\": \"#E5ECF6\", \"gridcolor\": \"white\", \"gridwidth\": 2, \"linecolor\": \"white\", \"showbackground\": true, \"ticks\": \"\", \"zerolinecolor\": \"white\"}, \"yaxis\": {\"backgroundcolor\": \"#E5ECF6\", \"gridcolor\": \"white\", \"gridwidth\": 2, \"linecolor\": \"white\", \"showbackground\": true, \"ticks\": \"\", \"zerolinecolor\": \"white\"}, \"zaxis\": {\"backgroundcolor\": \"#E5ECF6\", \"gridcolor\": \"white\", \"gridwidth\": 2, \"linecolor\": \"white\", \"showbackground\": true, \"ticks\": \"\", \"zerolinecolor\": \"white\"}}, \"shapedefaults\": {\"line\": {\"color\": \"#2a3f5f\"}}, \"ternary\": {\"aaxis\": {\"gridcolor\": \"white\", \"linecolor\": \"white\", \"ticks\": \"\"}, \"baxis\": {\"gridcolor\": \"white\", \"linecolor\": \"white\", \"ticks\": \"\"}, \"bgcolor\": \"#E5ECF6\", \"caxis\": {\"gridcolor\": \"white\", \"linecolor\": \"white\", \"ticks\": \"\"}}, \"title\": {\"x\": 0.05}, \"xaxis\": {\"automargin\": true, \"gridcolor\": \"white\", \"linecolor\": \"white\", \"ticks\": \"\", \"title\": {\"standoff\": 15}, \"zerolinecolor\": \"white\", \"zerolinewidth\": 2}, \"yaxis\": {\"automargin\": true, \"gridcolor\": \"white\", \"linecolor\": \"white\", \"ticks\": \"\", \"title\": {\"standoff\": 15}, \"zerolinecolor\": \"white\", \"zerolinewidth\": 2}}}, \"title\": {\"font\": {\"color\": \"#4D5663\"}, \"text\": \"Confirmed Deaths per day\"}, \"xaxis\": {\"gridcolor\": \"#E1E5ED\", \"showgrid\": true, \"tickfont\": {\"color\": \"#4D5663\"}, \"title\": {\"font\": {\"color\": \"#4D5663\"}, \"text\": \"\"}, \"zerolinecolor\": \"#E1E5ED\"}, \"yaxis\": {\"gridcolor\": \"#E1E5ED\", \"showgrid\": true, \"tickfont\": {\"color\": \"#4D5663\"}, \"title\": {\"font\": {\"color\": \"#4D5663\"}, \"text\": \"\"}, \"zerolinecolor\": \"#E1E5ED\"}},\n",
       "                        {\"showLink\": true, \"linkText\": \"Export to plot.ly\", \"plotlyServerURL\": \"https://plot.ly\", \"responsive\": true}\n",
       "                    ).then(function(){\n",
       "                            \n",
       "var gd = document.getElementById('cb11d853-f693-432e-9999-bb61d88d2c48');\n",
       "var x = new MutationObserver(function (mutations, observer) {{\n",
       "        var display = window.getComputedStyle(gd).display;\n",
       "        if (!display || display === 'none') {{\n",
       "            console.log([gd, 'removed!']);\n",
       "            Plotly.purge(gd);\n",
       "            observer.disconnect();\n",
       "        }}\n",
       "}});\n",
       "\n",
       "// Listen for the removal of the full notebook cells\n",
       "var notebookContainer = gd.closest('#notebook-container');\n",
       "if (notebookContainer) {{\n",
       "    x.observe(notebookContainer, {childList: true});\n",
       "}}\n",
       "\n",
       "// Listen for the clearing of the current output cell\n",
       "var outputEl = gd.closest('.output');\n",
       "if (outputEl) {{\n",
       "    x.observe(outputEl, {childList: true});\n",
       "}}\n",
       "\n",
       "                        })\n",
       "                };\n",
       "                });\n",
       "            </script>\n",
       "        </div>"
      ]
     },
     "metadata": {},
     "output_type": "display_data"
    },
    {
     "data": {
      "application/vnd.plotly.v1+json": {
       "config": {
        "linkText": "Export to plot.ly",
        "plotlyServerURL": "https://plot.ly",
        "showLink": true
       },
       "data": [
        {
         "marker": {
          "color": "rgba(255, 153, 51, 0.6)",
          "line": {
           "color": "rgba(255, 153, 51, 1.0)",
           "width": 1
          }
         },
         "name": "Guérisons/jrs",
         "orientation": "v",
         "text": "",
         "type": "bar",
         "x": [
          "2020-06-21",
          "2020-06-20",
          "2020-06-19",
          "2020-06-18",
          "2020-06-17",
          "2020-06-16",
          "2020-06-15",
          "2020-06-14",
          "2020-06-13",
          "2020-06-12",
          "2020-06-11",
          "2020-06-10",
          "2020-06-09",
          "2020-06-08",
          "2020-06-07",
          "2020-06-06",
          "2020-06-05",
          "2020-06-04",
          "2020-06-03",
          "2020-06-02",
          "2020-06-01",
          "2020-05-31",
          "2020-05-30",
          "2020-05-29",
          "2020-05-28",
          "2020-05-27",
          "2020-05-26",
          "2020-05-25",
          "2020-05-24",
          "2020-05-23",
          "2020-05-22",
          "2020-05-21",
          "2020-05-20",
          "2020-05-19",
          "2020-05-18",
          "2020-05-17",
          "2020-05-16",
          "2020-05-15",
          "2020-05-14",
          "2020-05-13",
          "2020-05-12",
          "2020-05-11",
          "2020-05-10",
          "2020-05-09",
          "2020-05-08",
          "2020-05-07",
          "2020-05-06",
          "2020-05-05",
          "2020-05-04",
          "2020-05-03",
          "2020-05-02",
          "2020-05-01",
          "2020-04-30",
          "2020-04-29",
          "2020-04-28",
          "2020-04-27",
          "2020-04-26",
          "2020-04-25",
          "2020-04-24",
          "2020-04-23",
          "2020-04-22",
          "2020-04-21",
          "2020-04-20",
          "2020-04-19",
          "2020-04-18",
          "2020-04-17",
          "2020-04-16",
          "2020-04-15",
          "2020-04-14",
          "2020-04-13",
          "2020-04-12",
          "2020-04-11",
          "2020-04-10",
          "2020-04-09",
          "2020-04-08",
          "2020-04-07",
          "2020-04-06",
          "2020-04-05",
          "2020-04-04",
          "2020-04-03",
          "2020-04-02",
          "2020-04-01",
          "2020-03-31",
          "2020-03-30",
          "2020-03-29",
          "2020-03-28",
          "2020-03-27",
          "2020-03-26",
          "2020-03-25",
          "2020-03-24",
          "2020-03-23",
          "2020-03-22",
          "2020-03-21",
          "2020-03-20",
          "2020-03-19",
          "2020-03-18",
          "2020-03-17",
          "2020-03-16",
          "2020-03-15",
          "2020-03-14",
          "2020-03-13",
          "2020-03-12",
          "2020-03-11",
          "2020-03-10",
          "2020-03-09",
          "2020-03-08",
          "2020-03-07",
          "2020-03-06",
          "2020-03-05",
          "2020-03-04",
          "2020-03-03",
          "2020-03-02",
          "2020-03-01",
          "2020-02-29",
          "2020-02-28",
          "2020-02-27",
          "2020-02-26",
          "2020-02-25",
          "2020-02-24",
          "2020-02-23",
          "2020-02-22",
          "2020-02-21",
          "2020-02-20",
          "2020-02-19",
          "2020-02-18",
          "2020-02-17",
          "2020-02-16",
          "2020-02-15",
          "2020-02-14",
          "2020-02-13",
          "2020-02-12",
          "2020-02-11",
          "2020-02-10",
          "2020-02-09",
          "2020-02-08",
          "2020-02-07",
          "2020-02-06",
          "2020-02-05",
          "2020-02-04",
          "2020-02-03",
          "2020-02-02",
          "2020-02-01",
          "2020-01-31",
          "2020-01-30",
          "2020-01-29",
          "2020-01-28",
          "2020-01-27",
          "2020-01-26",
          "2020-01-25",
          "2020-01-24",
          "2020-01-23",
          "2020-01-22"
         ],
         "y": [
          17206,
          132528,
          90734,
          81265,
          118838,
          97897,
          87913,
          71422,
          85058,
          72770,
          85894,
          79164,
          82292,
          152672,
          55122,
          84705,
          131223,
          65023,
          75552,
          33525,
          54768,
          76651,
          71171,
          77686,
          65884,
          63556,
          55218,
          63176,
          55703,
          55880,
          108255,
          51274,
          58595,
          53125,
          48988,
          43278,
          56749,
          49174,
          39346,
          55268,
          37212,
          47236,
          33359,
          53714,
          37370,
          39329,
          46598,
          36108,
          37610,
          32124,
          40596,
          38574,
          42034,
          44061,
          34691,
          28234,
          49048,
          23265,
          54934,
          28792,
          29875,
          34081,
          21835,
          31584,
          23976,
          26236,
          31088,
          36758,
          25606,
          26933,
          19612,
          26014,
          22121,
          25314,
          28607,
          23539,
          16503,
          13860,
          20356,
          15533,
          17092,
          15143,
          13468,
          15484,
          9667,
          8500,
          8765,
          8380,
          6065,
          6741,
          3715,
          5567,
          4273,
          2441,
          1649,
          2473,
          2752,
          2054,
          3410,
          2373,
          1691,
          1557,
          2599,
          1892,
          1817,
          2336,
          2493,
          2069,
          2626,
          2942,
          2627,
          2886,
          2934,
          3071,
          3434,
          2893,
          2479,
          2678,
          1833,
          508,
          3996,
          713,
          2056,
          1769,
          1769,
          1718,
          1470,
          1337,
          1763,
          1145,
          467,
          737,
          702,
          628,
          605,
          524,
          363,
          272,
          229,
          151,
          188,
          62,
          79,
          17,
          19,
          46,
          9,
          13,
          3,
          6,
          2,
          28
         ]
        }
       ],
       "layout": {
        "legend": {
         "bgcolor": "#F5F6F9",
         "font": {
          "color": "#4D5663"
         }
        },
        "paper_bgcolor": "#F5F6F9",
        "plot_bgcolor": "#F5F6F9",
        "template": {
         "data": {
          "bar": [
           {
            "error_x": {
             "color": "#2a3f5f"
            },
            "error_y": {
             "color": "#2a3f5f"
            },
            "marker": {
             "line": {
              "color": "#E5ECF6",
              "width": 0.5
             }
            },
            "type": "bar"
           }
          ],
          "barpolar": [
           {
            "marker": {
             "line": {
              "color": "#E5ECF6",
              "width": 0.5
             }
            },
            "type": "barpolar"
           }
          ],
          "carpet": [
           {
            "aaxis": {
             "endlinecolor": "#2a3f5f",
             "gridcolor": "white",
             "linecolor": "white",
             "minorgridcolor": "white",
             "startlinecolor": "#2a3f5f"
            },
            "baxis": {
             "endlinecolor": "#2a3f5f",
             "gridcolor": "white",
             "linecolor": "white",
             "minorgridcolor": "white",
             "startlinecolor": "#2a3f5f"
            },
            "type": "carpet"
           }
          ],
          "choropleth": [
           {
            "colorbar": {
             "outlinewidth": 0,
             "ticks": ""
            },
            "type": "choropleth"
           }
          ],
          "contour": [
           {
            "colorbar": {
             "outlinewidth": 0,
             "ticks": ""
            },
            "colorscale": [
             [
              0,
              "#0d0887"
             ],
             [
              0.1111111111111111,
              "#46039f"
             ],
             [
              0.2222222222222222,
              "#7201a8"
             ],
             [
              0.3333333333333333,
              "#9c179e"
             ],
             [
              0.4444444444444444,
              "#bd3786"
             ],
             [
              0.5555555555555556,
              "#d8576b"
             ],
             [
              0.6666666666666666,
              "#ed7953"
             ],
             [
              0.7777777777777778,
              "#fb9f3a"
             ],
             [
              0.8888888888888888,
              "#fdca26"
             ],
             [
              1,
              "#f0f921"
             ]
            ],
            "type": "contour"
           }
          ],
          "contourcarpet": [
           {
            "colorbar": {
             "outlinewidth": 0,
             "ticks": ""
            },
            "type": "contourcarpet"
           }
          ],
          "heatmap": [
           {
            "colorbar": {
             "outlinewidth": 0,
             "ticks": ""
            },
            "colorscale": [
             [
              0,
              "#0d0887"
             ],
             [
              0.1111111111111111,
              "#46039f"
             ],
             [
              0.2222222222222222,
              "#7201a8"
             ],
             [
              0.3333333333333333,
              "#9c179e"
             ],
             [
              0.4444444444444444,
              "#bd3786"
             ],
             [
              0.5555555555555556,
              "#d8576b"
             ],
             [
              0.6666666666666666,
              "#ed7953"
             ],
             [
              0.7777777777777778,
              "#fb9f3a"
             ],
             [
              0.8888888888888888,
              "#fdca26"
             ],
             [
              1,
              "#f0f921"
             ]
            ],
            "type": "heatmap"
           }
          ],
          "heatmapgl": [
           {
            "colorbar": {
             "outlinewidth": 0,
             "ticks": ""
            },
            "colorscale": [
             [
              0,
              "#0d0887"
             ],
             [
              0.1111111111111111,
              "#46039f"
             ],
             [
              0.2222222222222222,
              "#7201a8"
             ],
             [
              0.3333333333333333,
              "#9c179e"
             ],
             [
              0.4444444444444444,
              "#bd3786"
             ],
             [
              0.5555555555555556,
              "#d8576b"
             ],
             [
              0.6666666666666666,
              "#ed7953"
             ],
             [
              0.7777777777777778,
              "#fb9f3a"
             ],
             [
              0.8888888888888888,
              "#fdca26"
             ],
             [
              1,
              "#f0f921"
             ]
            ],
            "type": "heatmapgl"
           }
          ],
          "histogram": [
           {
            "marker": {
             "colorbar": {
              "outlinewidth": 0,
              "ticks": ""
             }
            },
            "type": "histogram"
           }
          ],
          "histogram2d": [
           {
            "colorbar": {
             "outlinewidth": 0,
             "ticks": ""
            },
            "colorscale": [
             [
              0,
              "#0d0887"
             ],
             [
              0.1111111111111111,
              "#46039f"
             ],
             [
              0.2222222222222222,
              "#7201a8"
             ],
             [
              0.3333333333333333,
              "#9c179e"
             ],
             [
              0.4444444444444444,
              "#bd3786"
             ],
             [
              0.5555555555555556,
              "#d8576b"
             ],
             [
              0.6666666666666666,
              "#ed7953"
             ],
             [
              0.7777777777777778,
              "#fb9f3a"
             ],
             [
              0.8888888888888888,
              "#fdca26"
             ],
             [
              1,
              "#f0f921"
             ]
            ],
            "type": "histogram2d"
           }
          ],
          "histogram2dcontour": [
           {
            "colorbar": {
             "outlinewidth": 0,
             "ticks": ""
            },
            "colorscale": [
             [
              0,
              "#0d0887"
             ],
             [
              0.1111111111111111,
              "#46039f"
             ],
             [
              0.2222222222222222,
              "#7201a8"
             ],
             [
              0.3333333333333333,
              "#9c179e"
             ],
             [
              0.4444444444444444,
              "#bd3786"
             ],
             [
              0.5555555555555556,
              "#d8576b"
             ],
             [
              0.6666666666666666,
              "#ed7953"
             ],
             [
              0.7777777777777778,
              "#fb9f3a"
             ],
             [
              0.8888888888888888,
              "#fdca26"
             ],
             [
              1,
              "#f0f921"
             ]
            ],
            "type": "histogram2dcontour"
           }
          ],
          "mesh3d": [
           {
            "colorbar": {
             "outlinewidth": 0,
             "ticks": ""
            },
            "type": "mesh3d"
           }
          ],
          "parcoords": [
           {
            "line": {
             "colorbar": {
              "outlinewidth": 0,
              "ticks": ""
             }
            },
            "type": "parcoords"
           }
          ],
          "pie": [
           {
            "automargin": true,
            "type": "pie"
           }
          ],
          "scatter": [
           {
            "marker": {
             "colorbar": {
              "outlinewidth": 0,
              "ticks": ""
             }
            },
            "type": "scatter"
           }
          ],
          "scatter3d": [
           {
            "line": {
             "colorbar": {
              "outlinewidth": 0,
              "ticks": ""
             }
            },
            "marker": {
             "colorbar": {
              "outlinewidth": 0,
              "ticks": ""
             }
            },
            "type": "scatter3d"
           }
          ],
          "scattercarpet": [
           {
            "marker": {
             "colorbar": {
              "outlinewidth": 0,
              "ticks": ""
             }
            },
            "type": "scattercarpet"
           }
          ],
          "scattergeo": [
           {
            "marker": {
             "colorbar": {
              "outlinewidth": 0,
              "ticks": ""
             }
            },
            "type": "scattergeo"
           }
          ],
          "scattergl": [
           {
            "marker": {
             "colorbar": {
              "outlinewidth": 0,
              "ticks": ""
             }
            },
            "type": "scattergl"
           }
          ],
          "scattermapbox": [
           {
            "marker": {
             "colorbar": {
              "outlinewidth": 0,
              "ticks": ""
             }
            },
            "type": "scattermapbox"
           }
          ],
          "scatterpolar": [
           {
            "marker": {
             "colorbar": {
              "outlinewidth": 0,
              "ticks": ""
             }
            },
            "type": "scatterpolar"
           }
          ],
          "scatterpolargl": [
           {
            "marker": {
             "colorbar": {
              "outlinewidth": 0,
              "ticks": ""
             }
            },
            "type": "scatterpolargl"
           }
          ],
          "scatterternary": [
           {
            "marker": {
             "colorbar": {
              "outlinewidth": 0,
              "ticks": ""
             }
            },
            "type": "scatterternary"
           }
          ],
          "surface": [
           {
            "colorbar": {
             "outlinewidth": 0,
             "ticks": ""
            },
            "colorscale": [
             [
              0,
              "#0d0887"
             ],
             [
              0.1111111111111111,
              "#46039f"
             ],
             [
              0.2222222222222222,
              "#7201a8"
             ],
             [
              0.3333333333333333,
              "#9c179e"
             ],
             [
              0.4444444444444444,
              "#bd3786"
             ],
             [
              0.5555555555555556,
              "#d8576b"
             ],
             [
              0.6666666666666666,
              "#ed7953"
             ],
             [
              0.7777777777777778,
              "#fb9f3a"
             ],
             [
              0.8888888888888888,
              "#fdca26"
             ],
             [
              1,
              "#f0f921"
             ]
            ],
            "type": "surface"
           }
          ],
          "table": [
           {
            "cells": {
             "fill": {
              "color": "#EBF0F8"
             },
             "line": {
              "color": "white"
             }
            },
            "header": {
             "fill": {
              "color": "#C8D4E3"
             },
             "line": {
              "color": "white"
             }
            },
            "type": "table"
           }
          ]
         },
         "layout": {
          "annotationdefaults": {
           "arrowcolor": "#2a3f5f",
           "arrowhead": 0,
           "arrowwidth": 1
          },
          "coloraxis": {
           "colorbar": {
            "outlinewidth": 0,
            "ticks": ""
           }
          },
          "colorscale": {
           "diverging": [
            [
             0,
             "#8e0152"
            ],
            [
             0.1,
             "#c51b7d"
            ],
            [
             0.2,
             "#de77ae"
            ],
            [
             0.3,
             "#f1b6da"
            ],
            [
             0.4,
             "#fde0ef"
            ],
            [
             0.5,
             "#f7f7f7"
            ],
            [
             0.6,
             "#e6f5d0"
            ],
            [
             0.7,
             "#b8e186"
            ],
            [
             0.8,
             "#7fbc41"
            ],
            [
             0.9,
             "#4d9221"
            ],
            [
             1,
             "#276419"
            ]
           ],
           "sequential": [
            [
             0,
             "#0d0887"
            ],
            [
             0.1111111111111111,
             "#46039f"
            ],
            [
             0.2222222222222222,
             "#7201a8"
            ],
            [
             0.3333333333333333,
             "#9c179e"
            ],
            [
             0.4444444444444444,
             "#bd3786"
            ],
            [
             0.5555555555555556,
             "#d8576b"
            ],
            [
             0.6666666666666666,
             "#ed7953"
            ],
            [
             0.7777777777777778,
             "#fb9f3a"
            ],
            [
             0.8888888888888888,
             "#fdca26"
            ],
            [
             1,
             "#f0f921"
            ]
           ],
           "sequentialminus": [
            [
             0,
             "#0d0887"
            ],
            [
             0.1111111111111111,
             "#46039f"
            ],
            [
             0.2222222222222222,
             "#7201a8"
            ],
            [
             0.3333333333333333,
             "#9c179e"
            ],
            [
             0.4444444444444444,
             "#bd3786"
            ],
            [
             0.5555555555555556,
             "#d8576b"
            ],
            [
             0.6666666666666666,
             "#ed7953"
            ],
            [
             0.7777777777777778,
             "#fb9f3a"
            ],
            [
             0.8888888888888888,
             "#fdca26"
            ],
            [
             1,
             "#f0f921"
            ]
           ]
          },
          "colorway": [
           "#636efa",
           "#EF553B",
           "#00cc96",
           "#ab63fa",
           "#FFA15A",
           "#19d3f3",
           "#FF6692",
           "#B6E880",
           "#FF97FF",
           "#FECB52"
          ],
          "font": {
           "color": "#2a3f5f"
          },
          "geo": {
           "bgcolor": "white",
           "lakecolor": "white",
           "landcolor": "#E5ECF6",
           "showlakes": true,
           "showland": true,
           "subunitcolor": "white"
          },
          "hoverlabel": {
           "align": "left"
          },
          "hovermode": "closest",
          "mapbox": {
           "style": "light"
          },
          "paper_bgcolor": "white",
          "plot_bgcolor": "#E5ECF6",
          "polar": {
           "angularaxis": {
            "gridcolor": "white",
            "linecolor": "white",
            "ticks": ""
           },
           "bgcolor": "#E5ECF6",
           "radialaxis": {
            "gridcolor": "white",
            "linecolor": "white",
            "ticks": ""
           }
          },
          "scene": {
           "xaxis": {
            "backgroundcolor": "#E5ECF6",
            "gridcolor": "white",
            "gridwidth": 2,
            "linecolor": "white",
            "showbackground": true,
            "ticks": "",
            "zerolinecolor": "white"
           },
           "yaxis": {
            "backgroundcolor": "#E5ECF6",
            "gridcolor": "white",
            "gridwidth": 2,
            "linecolor": "white",
            "showbackground": true,
            "ticks": "",
            "zerolinecolor": "white"
           },
           "zaxis": {
            "backgroundcolor": "#E5ECF6",
            "gridcolor": "white",
            "gridwidth": 2,
            "linecolor": "white",
            "showbackground": true,
            "ticks": "",
            "zerolinecolor": "white"
           }
          },
          "shapedefaults": {
           "line": {
            "color": "#2a3f5f"
           }
          },
          "ternary": {
           "aaxis": {
            "gridcolor": "white",
            "linecolor": "white",
            "ticks": ""
           },
           "baxis": {
            "gridcolor": "white",
            "linecolor": "white",
            "ticks": ""
           },
           "bgcolor": "#E5ECF6",
           "caxis": {
            "gridcolor": "white",
            "linecolor": "white",
            "ticks": ""
           }
          },
          "title": {
           "x": 0.05
          },
          "xaxis": {
           "automargin": true,
           "gridcolor": "white",
           "linecolor": "white",
           "ticks": "",
           "title": {
            "standoff": 15
           },
           "zerolinecolor": "white",
           "zerolinewidth": 2
          },
          "yaxis": {
           "automargin": true,
           "gridcolor": "white",
           "linecolor": "white",
           "ticks": "",
           "title": {
            "standoff": 15
           },
           "zerolinecolor": "white",
           "zerolinewidth": 2
          }
         }
        },
        "title": {
         "font": {
          "color": "#4D5663"
         },
         "text": "Confirmed Cures per day"
        },
        "xaxis": {
         "gridcolor": "#E1E5ED",
         "showgrid": true,
         "tickfont": {
          "color": "#4D5663"
         },
         "title": {
          "font": {
           "color": "#4D5663"
          },
          "text": ""
         },
         "zerolinecolor": "#E1E5ED"
        },
        "yaxis": {
         "gridcolor": "#E1E5ED",
         "showgrid": true,
         "tickfont": {
          "color": "#4D5663"
         },
         "title": {
          "font": {
           "color": "#4D5663"
          },
          "text": ""
         },
         "zerolinecolor": "#E1E5ED"
        }
       }
      },
      "text/html": [
       "<div>\n",
       "        \n",
       "        \n",
       "            <div id=\"ad59dbbe-a705-45ae-9ee7-7c4c387180c9\" class=\"plotly-graph-div\" style=\"height:525px; width:100%;\"></div>\n",
       "            <script type=\"text/javascript\">\n",
       "                require([\"plotly\"], function(Plotly) {\n",
       "                    window.PLOTLYENV=window.PLOTLYENV || {};\n",
       "                    window.PLOTLYENV.BASE_URL='https://plot.ly';\n",
       "                    \n",
       "                if (document.getElementById(\"ad59dbbe-a705-45ae-9ee7-7c4c387180c9\")) {\n",
       "                    Plotly.newPlot(\n",
       "                        'ad59dbbe-a705-45ae-9ee7-7c4c387180c9',\n",
       "                        [{\"marker\": {\"color\": \"rgba(255, 153, 51, 0.6)\", \"line\": {\"color\": \"rgba(255, 153, 51, 1.0)\", \"width\": 1}}, \"name\": \"Gu\\u00e9risons/jrs\", \"orientation\": \"v\", \"text\": \"\", \"type\": \"bar\", \"x\": [\"2020-06-21\", \"2020-06-20\", \"2020-06-19\", \"2020-06-18\", \"2020-06-17\", \"2020-06-16\", \"2020-06-15\", \"2020-06-14\", \"2020-06-13\", \"2020-06-12\", \"2020-06-11\", \"2020-06-10\", \"2020-06-09\", \"2020-06-08\", \"2020-06-07\", \"2020-06-06\", \"2020-06-05\", \"2020-06-04\", \"2020-06-03\", \"2020-06-02\", \"2020-06-01\", \"2020-05-31\", \"2020-05-30\", \"2020-05-29\", \"2020-05-28\", \"2020-05-27\", \"2020-05-26\", \"2020-05-25\", \"2020-05-24\", \"2020-05-23\", \"2020-05-22\", \"2020-05-21\", \"2020-05-20\", \"2020-05-19\", \"2020-05-18\", \"2020-05-17\", \"2020-05-16\", \"2020-05-15\", \"2020-05-14\", \"2020-05-13\", \"2020-05-12\", \"2020-05-11\", \"2020-05-10\", \"2020-05-09\", \"2020-05-08\", \"2020-05-07\", \"2020-05-06\", \"2020-05-05\", \"2020-05-04\", \"2020-05-03\", \"2020-05-02\", \"2020-05-01\", \"2020-04-30\", \"2020-04-29\", \"2020-04-28\", \"2020-04-27\", \"2020-04-26\", \"2020-04-25\", \"2020-04-24\", \"2020-04-23\", \"2020-04-22\", \"2020-04-21\", \"2020-04-20\", \"2020-04-19\", \"2020-04-18\", \"2020-04-17\", \"2020-04-16\", \"2020-04-15\", \"2020-04-14\", \"2020-04-13\", \"2020-04-12\", \"2020-04-11\", \"2020-04-10\", \"2020-04-09\", \"2020-04-08\", \"2020-04-07\", \"2020-04-06\", \"2020-04-05\", \"2020-04-04\", \"2020-04-03\", \"2020-04-02\", \"2020-04-01\", \"2020-03-31\", \"2020-03-30\", \"2020-03-29\", \"2020-03-28\", \"2020-03-27\", \"2020-03-26\", \"2020-03-25\", \"2020-03-24\", \"2020-03-23\", \"2020-03-22\", \"2020-03-21\", \"2020-03-20\", \"2020-03-19\", \"2020-03-18\", \"2020-03-17\", \"2020-03-16\", \"2020-03-15\", \"2020-03-14\", \"2020-03-13\", \"2020-03-12\", \"2020-03-11\", \"2020-03-10\", \"2020-03-09\", \"2020-03-08\", \"2020-03-07\", \"2020-03-06\", \"2020-03-05\", \"2020-03-04\", \"2020-03-03\", \"2020-03-02\", \"2020-03-01\", \"2020-02-29\", \"2020-02-28\", \"2020-02-27\", \"2020-02-26\", \"2020-02-25\", \"2020-02-24\", \"2020-02-23\", \"2020-02-22\", \"2020-02-21\", \"2020-02-20\", \"2020-02-19\", \"2020-02-18\", \"2020-02-17\", \"2020-02-16\", \"2020-02-15\", \"2020-02-14\", \"2020-02-13\", \"2020-02-12\", \"2020-02-11\", \"2020-02-10\", \"2020-02-09\", \"2020-02-08\", \"2020-02-07\", \"2020-02-06\", \"2020-02-05\", \"2020-02-04\", \"2020-02-03\", \"2020-02-02\", \"2020-02-01\", \"2020-01-31\", \"2020-01-30\", \"2020-01-29\", \"2020-01-28\", \"2020-01-27\", \"2020-01-26\", \"2020-01-25\", \"2020-01-24\", \"2020-01-23\", \"2020-01-22\"], \"y\": [17206, 132528, 90734, 81265, 118838, 97897, 87913, 71422, 85058, 72770, 85894, 79164, 82292, 152672, 55122, 84705, 131223, 65023, 75552, 33525, 54768, 76651, 71171, 77686, 65884, 63556, 55218, 63176, 55703, 55880, 108255, 51274, 58595, 53125, 48988, 43278, 56749, 49174, 39346, 55268, 37212, 47236, 33359, 53714, 37370, 39329, 46598, 36108, 37610, 32124, 40596, 38574, 42034, 44061, 34691, 28234, 49048, 23265, 54934, 28792, 29875, 34081, 21835, 31584, 23976, 26236, 31088, 36758, 25606, 26933, 19612, 26014, 22121, 25314, 28607, 23539, 16503, 13860, 20356, 15533, 17092, 15143, 13468, 15484, 9667, 8500, 8765, 8380, 6065, 6741, 3715, 5567, 4273, 2441, 1649, 2473, 2752, 2054, 3410, 2373, 1691, 1557, 2599, 1892, 1817, 2336, 2493, 2069, 2626, 2942, 2627, 2886, 2934, 3071, 3434, 2893, 2479, 2678, 1833, 508, 3996, 713, 2056, 1769, 1769, 1718, 1470, 1337, 1763, 1145, 467, 737, 702, 628, 605, 524, 363, 272, 229, 151, 188, 62, 79, 17, 19, 46, 9, 13, 3, 6, 2, 28]}],\n",
       "                        {\"legend\": {\"bgcolor\": \"#F5F6F9\", \"font\": {\"color\": \"#4D5663\"}}, \"paper_bgcolor\": \"#F5F6F9\", \"plot_bgcolor\": \"#F5F6F9\", \"template\": {\"data\": {\"bar\": [{\"error_x\": {\"color\": \"#2a3f5f\"}, \"error_y\": {\"color\": \"#2a3f5f\"}, \"marker\": {\"line\": {\"color\": \"#E5ECF6\", \"width\": 0.5}}, \"type\": \"bar\"}], \"barpolar\": [{\"marker\": {\"line\": {\"color\": \"#E5ECF6\", \"width\": 0.5}}, \"type\": \"barpolar\"}], \"carpet\": [{\"aaxis\": {\"endlinecolor\": \"#2a3f5f\", \"gridcolor\": \"white\", \"linecolor\": \"white\", \"minorgridcolor\": \"white\", \"startlinecolor\": \"#2a3f5f\"}, \"baxis\": {\"endlinecolor\": \"#2a3f5f\", \"gridcolor\": \"white\", \"linecolor\": \"white\", \"minorgridcolor\": \"white\", \"startlinecolor\": \"#2a3f5f\"}, \"type\": \"carpet\"}], \"choropleth\": [{\"colorbar\": {\"outlinewidth\": 0, \"ticks\": \"\"}, \"type\": \"choropleth\"}], \"contour\": [{\"colorbar\": {\"outlinewidth\": 0, \"ticks\": \"\"}, \"colorscale\": [[0.0, \"#0d0887\"], [0.1111111111111111, \"#46039f\"], [0.2222222222222222, \"#7201a8\"], [0.3333333333333333, \"#9c179e\"], [0.4444444444444444, \"#bd3786\"], [0.5555555555555556, \"#d8576b\"], [0.6666666666666666, \"#ed7953\"], [0.7777777777777778, \"#fb9f3a\"], [0.8888888888888888, \"#fdca26\"], [1.0, \"#f0f921\"]], \"type\": \"contour\"}], \"contourcarpet\": [{\"colorbar\": {\"outlinewidth\": 0, \"ticks\": \"\"}, \"type\": \"contourcarpet\"}], \"heatmap\": [{\"colorbar\": {\"outlinewidth\": 0, \"ticks\": \"\"}, \"colorscale\": [[0.0, \"#0d0887\"], [0.1111111111111111, \"#46039f\"], [0.2222222222222222, \"#7201a8\"], [0.3333333333333333, \"#9c179e\"], [0.4444444444444444, \"#bd3786\"], [0.5555555555555556, \"#d8576b\"], [0.6666666666666666, \"#ed7953\"], [0.7777777777777778, \"#fb9f3a\"], [0.8888888888888888, \"#fdca26\"], [1.0, \"#f0f921\"]], \"type\": \"heatmap\"}], \"heatmapgl\": [{\"colorbar\": {\"outlinewidth\": 0, \"ticks\": \"\"}, \"colorscale\": [[0.0, \"#0d0887\"], [0.1111111111111111, \"#46039f\"], [0.2222222222222222, \"#7201a8\"], [0.3333333333333333, \"#9c179e\"], [0.4444444444444444, \"#bd3786\"], [0.5555555555555556, \"#d8576b\"], [0.6666666666666666, \"#ed7953\"], [0.7777777777777778, \"#fb9f3a\"], [0.8888888888888888, \"#fdca26\"], [1.0, \"#f0f921\"]], \"type\": \"heatmapgl\"}], \"histogram\": [{\"marker\": {\"colorbar\": {\"outlinewidth\": 0, \"ticks\": \"\"}}, \"type\": \"histogram\"}], \"histogram2d\": [{\"colorbar\": {\"outlinewidth\": 0, \"ticks\": \"\"}, \"colorscale\": [[0.0, \"#0d0887\"], [0.1111111111111111, \"#46039f\"], [0.2222222222222222, \"#7201a8\"], [0.3333333333333333, \"#9c179e\"], [0.4444444444444444, \"#bd3786\"], [0.5555555555555556, \"#d8576b\"], [0.6666666666666666, \"#ed7953\"], [0.7777777777777778, \"#fb9f3a\"], [0.8888888888888888, \"#fdca26\"], [1.0, \"#f0f921\"]], \"type\": \"histogram2d\"}], \"histogram2dcontour\": [{\"colorbar\": {\"outlinewidth\": 0, \"ticks\": \"\"}, \"colorscale\": [[0.0, \"#0d0887\"], [0.1111111111111111, \"#46039f\"], [0.2222222222222222, \"#7201a8\"], [0.3333333333333333, \"#9c179e\"], [0.4444444444444444, \"#bd3786\"], [0.5555555555555556, \"#d8576b\"], [0.6666666666666666, \"#ed7953\"], [0.7777777777777778, \"#fb9f3a\"], [0.8888888888888888, \"#fdca26\"], [1.0, \"#f0f921\"]], \"type\": \"histogram2dcontour\"}], \"mesh3d\": [{\"colorbar\": {\"outlinewidth\": 0, \"ticks\": \"\"}, \"type\": \"mesh3d\"}], \"parcoords\": [{\"line\": {\"colorbar\": {\"outlinewidth\": 0, \"ticks\": \"\"}}, \"type\": \"parcoords\"}], \"pie\": [{\"automargin\": true, \"type\": \"pie\"}], \"scatter\": [{\"marker\": {\"colorbar\": {\"outlinewidth\": 0, \"ticks\": \"\"}}, \"type\": \"scatter\"}], \"scatter3d\": [{\"line\": {\"colorbar\": {\"outlinewidth\": 0, \"ticks\": \"\"}}, \"marker\": {\"colorbar\": {\"outlinewidth\": 0, \"ticks\": \"\"}}, \"type\": \"scatter3d\"}], \"scattercarpet\": [{\"marker\": {\"colorbar\": {\"outlinewidth\": 0, \"ticks\": \"\"}}, \"type\": \"scattercarpet\"}], \"scattergeo\": [{\"marker\": {\"colorbar\": {\"outlinewidth\": 0, \"ticks\": \"\"}}, \"type\": \"scattergeo\"}], \"scattergl\": [{\"marker\": {\"colorbar\": {\"outlinewidth\": 0, \"ticks\": \"\"}}, \"type\": \"scattergl\"}], \"scattermapbox\": [{\"marker\": {\"colorbar\": {\"outlinewidth\": 0, \"ticks\": \"\"}}, \"type\": \"scattermapbox\"}], \"scatterpolar\": [{\"marker\": {\"colorbar\": {\"outlinewidth\": 0, \"ticks\": \"\"}}, \"type\": \"scatterpolar\"}], \"scatterpolargl\": [{\"marker\": {\"colorbar\": {\"outlinewidth\": 0, \"ticks\": \"\"}}, \"type\": \"scatterpolargl\"}], \"scatterternary\": [{\"marker\": {\"colorbar\": {\"outlinewidth\": 0, \"ticks\": \"\"}}, \"type\": \"scatterternary\"}], \"surface\": [{\"colorbar\": {\"outlinewidth\": 0, \"ticks\": \"\"}, \"colorscale\": [[0.0, \"#0d0887\"], [0.1111111111111111, \"#46039f\"], [0.2222222222222222, \"#7201a8\"], [0.3333333333333333, \"#9c179e\"], [0.4444444444444444, \"#bd3786\"], [0.5555555555555556, \"#d8576b\"], [0.6666666666666666, \"#ed7953\"], [0.7777777777777778, \"#fb9f3a\"], [0.8888888888888888, \"#fdca26\"], [1.0, \"#f0f921\"]], \"type\": \"surface\"}], \"table\": [{\"cells\": {\"fill\": {\"color\": \"#EBF0F8\"}, \"line\": {\"color\": \"white\"}}, \"header\": {\"fill\": {\"color\": \"#C8D4E3\"}, \"line\": {\"color\": \"white\"}}, \"type\": \"table\"}]}, \"layout\": {\"annotationdefaults\": {\"arrowcolor\": \"#2a3f5f\", \"arrowhead\": 0, \"arrowwidth\": 1}, \"coloraxis\": {\"colorbar\": {\"outlinewidth\": 0, \"ticks\": \"\"}}, \"colorscale\": {\"diverging\": [[0, \"#8e0152\"], [0.1, \"#c51b7d\"], [0.2, \"#de77ae\"], [0.3, \"#f1b6da\"], [0.4, \"#fde0ef\"], [0.5, \"#f7f7f7\"], [0.6, \"#e6f5d0\"], [0.7, \"#b8e186\"], [0.8, \"#7fbc41\"], [0.9, \"#4d9221\"], [1, \"#276419\"]], \"sequential\": [[0.0, \"#0d0887\"], [0.1111111111111111, \"#46039f\"], [0.2222222222222222, \"#7201a8\"], [0.3333333333333333, \"#9c179e\"], [0.4444444444444444, \"#bd3786\"], [0.5555555555555556, \"#d8576b\"], [0.6666666666666666, \"#ed7953\"], [0.7777777777777778, \"#fb9f3a\"], [0.8888888888888888, \"#fdca26\"], [1.0, \"#f0f921\"]], \"sequentialminus\": [[0.0, \"#0d0887\"], [0.1111111111111111, \"#46039f\"], [0.2222222222222222, \"#7201a8\"], [0.3333333333333333, \"#9c179e\"], [0.4444444444444444, \"#bd3786\"], [0.5555555555555556, \"#d8576b\"], [0.6666666666666666, \"#ed7953\"], [0.7777777777777778, \"#fb9f3a\"], [0.8888888888888888, \"#fdca26\"], [1.0, \"#f0f921\"]]}, \"colorway\": [\"#636efa\", \"#EF553B\", \"#00cc96\", \"#ab63fa\", \"#FFA15A\", \"#19d3f3\", \"#FF6692\", \"#B6E880\", \"#FF97FF\", \"#FECB52\"], \"font\": {\"color\": \"#2a3f5f\"}, \"geo\": {\"bgcolor\": \"white\", \"lakecolor\": \"white\", \"landcolor\": \"#E5ECF6\", \"showlakes\": true, \"showland\": true, \"subunitcolor\": \"white\"}, \"hoverlabel\": {\"align\": \"left\"}, \"hovermode\": \"closest\", \"mapbox\": {\"style\": \"light\"}, \"paper_bgcolor\": \"white\", \"plot_bgcolor\": \"#E5ECF6\", \"polar\": {\"angularaxis\": {\"gridcolor\": \"white\", \"linecolor\": \"white\", \"ticks\": \"\"}, \"bgcolor\": \"#E5ECF6\", \"radialaxis\": {\"gridcolor\": \"white\", \"linecolor\": \"white\", \"ticks\": \"\"}}, \"scene\": {\"xaxis\": {\"backgroundcolor\": \"#E5ECF6\", \"gridcolor\": \"white\", \"gridwidth\": 2, \"linecolor\": \"white\", \"showbackground\": true, \"ticks\": \"\", \"zerolinecolor\": \"white\"}, \"yaxis\": {\"backgroundcolor\": \"#E5ECF6\", \"gridcolor\": \"white\", \"gridwidth\": 2, \"linecolor\": \"white\", \"showbackground\": true, \"ticks\": \"\", \"zerolinecolor\": \"white\"}, \"zaxis\": {\"backgroundcolor\": \"#E5ECF6\", \"gridcolor\": \"white\", \"gridwidth\": 2, \"linecolor\": \"white\", \"showbackground\": true, \"ticks\": \"\", \"zerolinecolor\": \"white\"}}, \"shapedefaults\": {\"line\": {\"color\": \"#2a3f5f\"}}, \"ternary\": {\"aaxis\": {\"gridcolor\": \"white\", \"linecolor\": \"white\", \"ticks\": \"\"}, \"baxis\": {\"gridcolor\": \"white\", \"linecolor\": \"white\", \"ticks\": \"\"}, \"bgcolor\": \"#E5ECF6\", \"caxis\": {\"gridcolor\": \"white\", \"linecolor\": \"white\", \"ticks\": \"\"}}, \"title\": {\"x\": 0.05}, \"xaxis\": {\"automargin\": true, \"gridcolor\": \"white\", \"linecolor\": \"white\", \"ticks\": \"\", \"title\": {\"standoff\": 15}, \"zerolinecolor\": \"white\", \"zerolinewidth\": 2}, \"yaxis\": {\"automargin\": true, \"gridcolor\": \"white\", \"linecolor\": \"white\", \"ticks\": \"\", \"title\": {\"standoff\": 15}, \"zerolinecolor\": \"white\", \"zerolinewidth\": 2}}}, \"title\": {\"font\": {\"color\": \"#4D5663\"}, \"text\": \"Confirmed Cures per day\"}, \"xaxis\": {\"gridcolor\": \"#E1E5ED\", \"showgrid\": true, \"tickfont\": {\"color\": \"#4D5663\"}, \"title\": {\"font\": {\"color\": \"#4D5663\"}, \"text\": \"\"}, \"zerolinecolor\": \"#E1E5ED\"}, \"yaxis\": {\"gridcolor\": \"#E1E5ED\", \"showgrid\": true, \"tickfont\": {\"color\": \"#4D5663\"}, \"title\": {\"font\": {\"color\": \"#4D5663\"}, \"text\": \"\"}, \"zerolinecolor\": \"#E1E5ED\"}},\n",
       "                        {\"showLink\": true, \"linkText\": \"Export to plot.ly\", \"plotlyServerURL\": \"https://plot.ly\", \"responsive\": true}\n",
       "                    ).then(function(){\n",
       "                            \n",
       "var gd = document.getElementById('ad59dbbe-a705-45ae-9ee7-7c4c387180c9');\n",
       "var x = new MutationObserver(function (mutations, observer) {{\n",
       "        var display = window.getComputedStyle(gd).display;\n",
       "        if (!display || display === 'none') {{\n",
       "            console.log([gd, 'removed!']);\n",
       "            Plotly.purge(gd);\n",
       "            observer.disconnect();\n",
       "        }}\n",
       "}});\n",
       "\n",
       "// Listen for the removal of the full notebook cells\n",
       "var notebookContainer = gd.closest('#notebook-container');\n",
       "if (notebookContainer) {{\n",
       "    x.observe(notebookContainer, {childList: true});\n",
       "}}\n",
       "\n",
       "// Listen for the clearing of the current output cell\n",
       "var outputEl = gd.closest('.output');\n",
       "if (outputEl) {{\n",
       "    x.observe(outputEl, {childList: true});\n",
       "}}\n",
       "\n",
       "                        })\n",
       "                };\n",
       "                });\n",
       "            </script>\n",
       "        </div>"
      ]
     },
     "metadata": {},
     "output_type": "display_data"
    }
   ],
   "source": [
    "#####USING plotly\n",
    "df.iplot(kind='bar',x='Date',y='Cas/jrs',title=\"Confirmed Cases per day\")\n",
    "df.iplot(kind='bar',x='Date',y='Décès/jrs',title=\"Confirmed Deaths per day\")\n",
    "df.iplot(kind='bar',x='Date',y='Guérisons/jrs',title=\"Confirmed Cures per day\")"
   ]
  },
  {
   "cell_type": "code",
   "execution_count": 71,
   "metadata": {},
   "outputs": [
    {
     "data": {
      "application/vnd.plotly.v1+json": {
       "config": {
        "linkText": "Export to plot.ly",
        "plotlyServerURL": "https://plot.ly",
        "showLink": true
       },
       "data": [
        {
         "line": {
          "color": "rgba(55, 128, 191, 1.0)",
          "dash": "solid",
          "shape": "linear",
          "width": 1.3
         },
         "marker": {
          "size": 5,
          "symbol": "circle"
         },
         "mode": "markers+lines",
         "name": "Cas/jrs",
         "text": "",
         "type": "scatter",
         "x": [
          "2020-06-21",
          "2020-06-20",
          "2020-06-19",
          "2020-06-18",
          "2020-06-17",
          "2020-06-16",
          "2020-06-15",
          "2020-06-14",
          "2020-06-13",
          "2020-06-12",
          "2020-06-11",
          "2020-06-10",
          "2020-06-09",
          "2020-06-08",
          "2020-06-07",
          "2020-06-06",
          "2020-06-05",
          "2020-06-04",
          "2020-06-03",
          "2020-06-02",
          "2020-06-01",
          "2020-05-31",
          "2020-05-30",
          "2020-05-29",
          "2020-05-28",
          "2020-05-27",
          "2020-05-26",
          "2020-05-25",
          "2020-05-24",
          "2020-05-23",
          "2020-05-22",
          "2020-05-21",
          "2020-05-20",
          "2020-05-19",
          "2020-05-18",
          "2020-05-17",
          "2020-05-16",
          "2020-05-15",
          "2020-05-14",
          "2020-05-13",
          "2020-05-12",
          "2020-05-11",
          "2020-05-10",
          "2020-05-09",
          "2020-05-08",
          "2020-05-07",
          "2020-05-06",
          "2020-05-05",
          "2020-05-04",
          "2020-05-03",
          "2020-05-02",
          "2020-05-01",
          "2020-04-30",
          "2020-04-29",
          "2020-04-28",
          "2020-04-27",
          "2020-04-26",
          "2020-04-25",
          "2020-04-24",
          "2020-04-23",
          "2020-04-22",
          "2020-04-21",
          "2020-04-20",
          "2020-04-19",
          "2020-04-18",
          "2020-04-17",
          "2020-04-16",
          "2020-04-15",
          "2020-04-14",
          "2020-04-13",
          "2020-04-12",
          "2020-04-11",
          "2020-04-10",
          "2020-04-09",
          "2020-04-08",
          "2020-04-07",
          "2020-04-06",
          "2020-04-05",
          "2020-04-04",
          "2020-04-03",
          "2020-04-02",
          "2020-04-01",
          "2020-03-31",
          "2020-03-30",
          "2020-03-29",
          "2020-03-28",
          "2020-03-27",
          "2020-03-26",
          "2020-03-25",
          "2020-03-24",
          "2020-03-23",
          "2020-03-22",
          "2020-03-21",
          "2020-03-20",
          "2020-03-19",
          "2020-03-18",
          "2020-03-17",
          "2020-03-16",
          "2020-03-15",
          "2020-03-14",
          "2020-03-13",
          "2020-03-12",
          "2020-03-11",
          "2020-03-10",
          "2020-03-09",
          "2020-03-08",
          "2020-03-07",
          "2020-03-06",
          "2020-03-05",
          "2020-03-04",
          "2020-03-03",
          "2020-03-02",
          "2020-03-01",
          "2020-02-29",
          "2020-02-28",
          "2020-02-27",
          "2020-02-26",
          "2020-02-25",
          "2020-02-24",
          "2020-02-23",
          "2020-02-22",
          "2020-02-21",
          "2020-02-20",
          "2020-02-19",
          "2020-02-18",
          "2020-02-17",
          "2020-02-16",
          "2020-02-15",
          "2020-02-14",
          "2020-02-13",
          "2020-02-12",
          "2020-02-11",
          "2020-02-10",
          "2020-02-09",
          "2020-02-08",
          "2020-02-07",
          "2020-02-06",
          "2020-02-05",
          "2020-02-04",
          "2020-02-03",
          "2020-02-02",
          "2020-02-01",
          "2020-01-31",
          "2020-01-30",
          "2020-01-29",
          "2020-01-28",
          "2020-01-27",
          "2020-01-26",
          "2020-01-25",
          "2020-01-24",
          "2020-01-23",
          "2020-01-22"
         ],
         "y": [
          59722,
          127023,
          176251,
          139293,
          176157,
          140157,
          133664,
          134088,
          134283,
          118483,
          154503,
          118074,
          123573,
          108533,
          113715,
          127130,
          136911,
          127967,
          126983,
          112740,
          99143,
          107951,
          134770,
          115419,
          116706,
          102708,
          94624,
          87499,
          96813,
          99795,
          108786,
          105966,
          99105,
          95557,
          87715,
          80375,
          91692,
          100213,
          95224,
          85115,
          84534,
          75766,
          77773,
          86084,
          92356,
          90402,
          92760,
          79676,
          76481,
          79387,
          81623,
          88880,
          63047,
          80509,
          71687,
          70289,
          74786,
          86035,
          103022,
          84912,
          74850,
          76756,
          70988,
          79796,
          81392,
          87444,
          96692,
          79863,
          71353,
          70117,
          72681,
          79583,
          95317,
          85685,
          86925,
          75800,
          72794,
          74438,
          81573,
          84194,
          82191,
          86053,
          75098,
          62249,
          59447,
          67402,
          63700,
          61997,
          49628,
          39677,
          41165,
          32596,
          32361,
          29338,
          27826,
          17783,
          15574,
          13057,
          12489,
          10904,
          11360,
          7971,
          7283,
          4797,
          3971,
          3978,
          4036,
          3914,
          2762,
          2280,
          2535,
          1938,
          2358,
          1889,
          1368,
          1359,
          982,
          845,
          585,
          386,
          1756,
          644,
          558,
          503,
          1878,
          2034,
          2194,
          2145,
          6517,
          15148,
          419,
          2040,
          2612,
          3030,
          2729,
          3574,
          3182,
          3744,
          4011,
          3094,
          4749,
          2113,
          1690,
          2070,
          587,
          2651,
          809,
          680,
          497,
          288,
          98,
          555
         ]
        }
       ],
       "layout": {
        "legend": {
         "bgcolor": "#F5F6F9",
         "font": {
          "color": "#4D5663"
         }
        },
        "paper_bgcolor": "#F5F6F9",
        "plot_bgcolor": "#F5F6F9",
        "template": {
         "data": {
          "bar": [
           {
            "error_x": {
             "color": "#2a3f5f"
            },
            "error_y": {
             "color": "#2a3f5f"
            },
            "marker": {
             "line": {
              "color": "#E5ECF6",
              "width": 0.5
             }
            },
            "type": "bar"
           }
          ],
          "barpolar": [
           {
            "marker": {
             "line": {
              "color": "#E5ECF6",
              "width": 0.5
             }
            },
            "type": "barpolar"
           }
          ],
          "carpet": [
           {
            "aaxis": {
             "endlinecolor": "#2a3f5f",
             "gridcolor": "white",
             "linecolor": "white",
             "minorgridcolor": "white",
             "startlinecolor": "#2a3f5f"
            },
            "baxis": {
             "endlinecolor": "#2a3f5f",
             "gridcolor": "white",
             "linecolor": "white",
             "minorgridcolor": "white",
             "startlinecolor": "#2a3f5f"
            },
            "type": "carpet"
           }
          ],
          "choropleth": [
           {
            "colorbar": {
             "outlinewidth": 0,
             "ticks": ""
            },
            "type": "choropleth"
           }
          ],
          "contour": [
           {
            "colorbar": {
             "outlinewidth": 0,
             "ticks": ""
            },
            "colorscale": [
             [
              0,
              "#0d0887"
             ],
             [
              0.1111111111111111,
              "#46039f"
             ],
             [
              0.2222222222222222,
              "#7201a8"
             ],
             [
              0.3333333333333333,
              "#9c179e"
             ],
             [
              0.4444444444444444,
              "#bd3786"
             ],
             [
              0.5555555555555556,
              "#d8576b"
             ],
             [
              0.6666666666666666,
              "#ed7953"
             ],
             [
              0.7777777777777778,
              "#fb9f3a"
             ],
             [
              0.8888888888888888,
              "#fdca26"
             ],
             [
              1,
              "#f0f921"
             ]
            ],
            "type": "contour"
           }
          ],
          "contourcarpet": [
           {
            "colorbar": {
             "outlinewidth": 0,
             "ticks": ""
            },
            "type": "contourcarpet"
           }
          ],
          "heatmap": [
           {
            "colorbar": {
             "outlinewidth": 0,
             "ticks": ""
            },
            "colorscale": [
             [
              0,
              "#0d0887"
             ],
             [
              0.1111111111111111,
              "#46039f"
             ],
             [
              0.2222222222222222,
              "#7201a8"
             ],
             [
              0.3333333333333333,
              "#9c179e"
             ],
             [
              0.4444444444444444,
              "#bd3786"
             ],
             [
              0.5555555555555556,
              "#d8576b"
             ],
             [
              0.6666666666666666,
              "#ed7953"
             ],
             [
              0.7777777777777778,
              "#fb9f3a"
             ],
             [
              0.8888888888888888,
              "#fdca26"
             ],
             [
              1,
              "#f0f921"
             ]
            ],
            "type": "heatmap"
           }
          ],
          "heatmapgl": [
           {
            "colorbar": {
             "outlinewidth": 0,
             "ticks": ""
            },
            "colorscale": [
             [
              0,
              "#0d0887"
             ],
             [
              0.1111111111111111,
              "#46039f"
             ],
             [
              0.2222222222222222,
              "#7201a8"
             ],
             [
              0.3333333333333333,
              "#9c179e"
             ],
             [
              0.4444444444444444,
              "#bd3786"
             ],
             [
              0.5555555555555556,
              "#d8576b"
             ],
             [
              0.6666666666666666,
              "#ed7953"
             ],
             [
              0.7777777777777778,
              "#fb9f3a"
             ],
             [
              0.8888888888888888,
              "#fdca26"
             ],
             [
              1,
              "#f0f921"
             ]
            ],
            "type": "heatmapgl"
           }
          ],
          "histogram": [
           {
            "marker": {
             "colorbar": {
              "outlinewidth": 0,
              "ticks": ""
             }
            },
            "type": "histogram"
           }
          ],
          "histogram2d": [
           {
            "colorbar": {
             "outlinewidth": 0,
             "ticks": ""
            },
            "colorscale": [
             [
              0,
              "#0d0887"
             ],
             [
              0.1111111111111111,
              "#46039f"
             ],
             [
              0.2222222222222222,
              "#7201a8"
             ],
             [
              0.3333333333333333,
              "#9c179e"
             ],
             [
              0.4444444444444444,
              "#bd3786"
             ],
             [
              0.5555555555555556,
              "#d8576b"
             ],
             [
              0.6666666666666666,
              "#ed7953"
             ],
             [
              0.7777777777777778,
              "#fb9f3a"
             ],
             [
              0.8888888888888888,
              "#fdca26"
             ],
             [
              1,
              "#f0f921"
             ]
            ],
            "type": "histogram2d"
           }
          ],
          "histogram2dcontour": [
           {
            "colorbar": {
             "outlinewidth": 0,
             "ticks": ""
            },
            "colorscale": [
             [
              0,
              "#0d0887"
             ],
             [
              0.1111111111111111,
              "#46039f"
             ],
             [
              0.2222222222222222,
              "#7201a8"
             ],
             [
              0.3333333333333333,
              "#9c179e"
             ],
             [
              0.4444444444444444,
              "#bd3786"
             ],
             [
              0.5555555555555556,
              "#d8576b"
             ],
             [
              0.6666666666666666,
              "#ed7953"
             ],
             [
              0.7777777777777778,
              "#fb9f3a"
             ],
             [
              0.8888888888888888,
              "#fdca26"
             ],
             [
              1,
              "#f0f921"
             ]
            ],
            "type": "histogram2dcontour"
           }
          ],
          "mesh3d": [
           {
            "colorbar": {
             "outlinewidth": 0,
             "ticks": ""
            },
            "type": "mesh3d"
           }
          ],
          "parcoords": [
           {
            "line": {
             "colorbar": {
              "outlinewidth": 0,
              "ticks": ""
             }
            },
            "type": "parcoords"
           }
          ],
          "pie": [
           {
            "automargin": true,
            "type": "pie"
           }
          ],
          "scatter": [
           {
            "marker": {
             "colorbar": {
              "outlinewidth": 0,
              "ticks": ""
             }
            },
            "type": "scatter"
           }
          ],
          "scatter3d": [
           {
            "line": {
             "colorbar": {
              "outlinewidth": 0,
              "ticks": ""
             }
            },
            "marker": {
             "colorbar": {
              "outlinewidth": 0,
              "ticks": ""
             }
            },
            "type": "scatter3d"
           }
          ],
          "scattercarpet": [
           {
            "marker": {
             "colorbar": {
              "outlinewidth": 0,
              "ticks": ""
             }
            },
            "type": "scattercarpet"
           }
          ],
          "scattergeo": [
           {
            "marker": {
             "colorbar": {
              "outlinewidth": 0,
              "ticks": ""
             }
            },
            "type": "scattergeo"
           }
          ],
          "scattergl": [
           {
            "marker": {
             "colorbar": {
              "outlinewidth": 0,
              "ticks": ""
             }
            },
            "type": "scattergl"
           }
          ],
          "scattermapbox": [
           {
            "marker": {
             "colorbar": {
              "outlinewidth": 0,
              "ticks": ""
             }
            },
            "type": "scattermapbox"
           }
          ],
          "scatterpolar": [
           {
            "marker": {
             "colorbar": {
              "outlinewidth": 0,
              "ticks": ""
             }
            },
            "type": "scatterpolar"
           }
          ],
          "scatterpolargl": [
           {
            "marker": {
             "colorbar": {
              "outlinewidth": 0,
              "ticks": ""
             }
            },
            "type": "scatterpolargl"
           }
          ],
          "scatterternary": [
           {
            "marker": {
             "colorbar": {
              "outlinewidth": 0,
              "ticks": ""
             }
            },
            "type": "scatterternary"
           }
          ],
          "surface": [
           {
            "colorbar": {
             "outlinewidth": 0,
             "ticks": ""
            },
            "colorscale": [
             [
              0,
              "#0d0887"
             ],
             [
              0.1111111111111111,
              "#46039f"
             ],
             [
              0.2222222222222222,
              "#7201a8"
             ],
             [
              0.3333333333333333,
              "#9c179e"
             ],
             [
              0.4444444444444444,
              "#bd3786"
             ],
             [
              0.5555555555555556,
              "#d8576b"
             ],
             [
              0.6666666666666666,
              "#ed7953"
             ],
             [
              0.7777777777777778,
              "#fb9f3a"
             ],
             [
              0.8888888888888888,
              "#fdca26"
             ],
             [
              1,
              "#f0f921"
             ]
            ],
            "type": "surface"
           }
          ],
          "table": [
           {
            "cells": {
             "fill": {
              "color": "#EBF0F8"
             },
             "line": {
              "color": "white"
             }
            },
            "header": {
             "fill": {
              "color": "#C8D4E3"
             },
             "line": {
              "color": "white"
             }
            },
            "type": "table"
           }
          ]
         },
         "layout": {
          "annotationdefaults": {
           "arrowcolor": "#2a3f5f",
           "arrowhead": 0,
           "arrowwidth": 1
          },
          "coloraxis": {
           "colorbar": {
            "outlinewidth": 0,
            "ticks": ""
           }
          },
          "colorscale": {
           "diverging": [
            [
             0,
             "#8e0152"
            ],
            [
             0.1,
             "#c51b7d"
            ],
            [
             0.2,
             "#de77ae"
            ],
            [
             0.3,
             "#f1b6da"
            ],
            [
             0.4,
             "#fde0ef"
            ],
            [
             0.5,
             "#f7f7f7"
            ],
            [
             0.6,
             "#e6f5d0"
            ],
            [
             0.7,
             "#b8e186"
            ],
            [
             0.8,
             "#7fbc41"
            ],
            [
             0.9,
             "#4d9221"
            ],
            [
             1,
             "#276419"
            ]
           ],
           "sequential": [
            [
             0,
             "#0d0887"
            ],
            [
             0.1111111111111111,
             "#46039f"
            ],
            [
             0.2222222222222222,
             "#7201a8"
            ],
            [
             0.3333333333333333,
             "#9c179e"
            ],
            [
             0.4444444444444444,
             "#bd3786"
            ],
            [
             0.5555555555555556,
             "#d8576b"
            ],
            [
             0.6666666666666666,
             "#ed7953"
            ],
            [
             0.7777777777777778,
             "#fb9f3a"
            ],
            [
             0.8888888888888888,
             "#fdca26"
            ],
            [
             1,
             "#f0f921"
            ]
           ],
           "sequentialminus": [
            [
             0,
             "#0d0887"
            ],
            [
             0.1111111111111111,
             "#46039f"
            ],
            [
             0.2222222222222222,
             "#7201a8"
            ],
            [
             0.3333333333333333,
             "#9c179e"
            ],
            [
             0.4444444444444444,
             "#bd3786"
            ],
            [
             0.5555555555555556,
             "#d8576b"
            ],
            [
             0.6666666666666666,
             "#ed7953"
            ],
            [
             0.7777777777777778,
             "#fb9f3a"
            ],
            [
             0.8888888888888888,
             "#fdca26"
            ],
            [
             1,
             "#f0f921"
            ]
           ]
          },
          "colorway": [
           "#636efa",
           "#EF553B",
           "#00cc96",
           "#ab63fa",
           "#FFA15A",
           "#19d3f3",
           "#FF6692",
           "#B6E880",
           "#FF97FF",
           "#FECB52"
          ],
          "font": {
           "color": "#2a3f5f"
          },
          "geo": {
           "bgcolor": "white",
           "lakecolor": "white",
           "landcolor": "#E5ECF6",
           "showlakes": true,
           "showland": true,
           "subunitcolor": "white"
          },
          "hoverlabel": {
           "align": "left"
          },
          "hovermode": "closest",
          "mapbox": {
           "style": "light"
          },
          "paper_bgcolor": "white",
          "plot_bgcolor": "#E5ECF6",
          "polar": {
           "angularaxis": {
            "gridcolor": "white",
            "linecolor": "white",
            "ticks": ""
           },
           "bgcolor": "#E5ECF6",
           "radialaxis": {
            "gridcolor": "white",
            "linecolor": "white",
            "ticks": ""
           }
          },
          "scene": {
           "xaxis": {
            "backgroundcolor": "#E5ECF6",
            "gridcolor": "white",
            "gridwidth": 2,
            "linecolor": "white",
            "showbackground": true,
            "ticks": "",
            "zerolinecolor": "white"
           },
           "yaxis": {
            "backgroundcolor": "#E5ECF6",
            "gridcolor": "white",
            "gridwidth": 2,
            "linecolor": "white",
            "showbackground": true,
            "ticks": "",
            "zerolinecolor": "white"
           },
           "zaxis": {
            "backgroundcolor": "#E5ECF6",
            "gridcolor": "white",
            "gridwidth": 2,
            "linecolor": "white",
            "showbackground": true,
            "ticks": "",
            "zerolinecolor": "white"
           }
          },
          "shapedefaults": {
           "line": {
            "color": "#2a3f5f"
           }
          },
          "ternary": {
           "aaxis": {
            "gridcolor": "white",
            "linecolor": "white",
            "ticks": ""
           },
           "baxis": {
            "gridcolor": "white",
            "linecolor": "white",
            "ticks": ""
           },
           "bgcolor": "#E5ECF6",
           "caxis": {
            "gridcolor": "white",
            "linecolor": "white",
            "ticks": ""
           }
          },
          "title": {
           "x": 0.05
          },
          "xaxis": {
           "automargin": true,
           "gridcolor": "white",
           "linecolor": "white",
           "ticks": "",
           "title": {
            "standoff": 15
           },
           "zerolinecolor": "white",
           "zerolinewidth": 2
          },
          "yaxis": {
           "automargin": true,
           "gridcolor": "white",
           "linecolor": "white",
           "ticks": "",
           "title": {
            "standoff": 15
           },
           "zerolinecolor": "white",
           "zerolinewidth": 2
          }
         }
        },
        "title": {
         "font": {
          "color": "#4D5663"
         },
         "text": "Confirmed Cases per day"
        },
        "xaxis": {
         "gridcolor": "#E1E5ED",
         "showgrid": true,
         "tickfont": {
          "color": "#4D5663"
         },
         "title": {
          "font": {
           "color": "#4D5663"
          },
          "text": "Date"
         },
         "zerolinecolor": "#E1E5ED"
        },
        "yaxis": {
         "gridcolor": "#E1E5ED",
         "showgrid": true,
         "tickfont": {
          "color": "#4D5663"
         },
         "title": {
          "font": {
           "color": "#4D5663"
          },
          "text": "Cases per day"
         },
         "zerolinecolor": "#E1E5ED"
        }
       }
      },
      "text/html": [
       "<div>\n",
       "        \n",
       "        \n",
       "            <div id=\"e7745e10-352e-415c-bca4-e3b8d8cec96c\" class=\"plotly-graph-div\" style=\"height:525px; width:100%;\"></div>\n",
       "            <script type=\"text/javascript\">\n",
       "                require([\"plotly\"], function(Plotly) {\n",
       "                    window.PLOTLYENV=window.PLOTLYENV || {};\n",
       "                    window.PLOTLYENV.BASE_URL='https://plot.ly';\n",
       "                    \n",
       "                if (document.getElementById(\"e7745e10-352e-415c-bca4-e3b8d8cec96c\")) {\n",
       "                    Plotly.newPlot(\n",
       "                        'e7745e10-352e-415c-bca4-e3b8d8cec96c',\n",
       "                        [{\"line\": {\"color\": \"rgba(55, 128, 191, 1.0)\", \"dash\": \"solid\", \"shape\": \"linear\", \"width\": 1.3}, \"marker\": {\"size\": 5, \"symbol\": \"circle\"}, \"mode\": \"markers+lines\", \"name\": \"Cas/jrs\", \"text\": \"\", \"type\": \"scatter\", \"x\": [\"2020-06-21\", \"2020-06-20\", \"2020-06-19\", \"2020-06-18\", \"2020-06-17\", \"2020-06-16\", \"2020-06-15\", \"2020-06-14\", \"2020-06-13\", \"2020-06-12\", \"2020-06-11\", \"2020-06-10\", \"2020-06-09\", \"2020-06-08\", \"2020-06-07\", \"2020-06-06\", \"2020-06-05\", \"2020-06-04\", \"2020-06-03\", \"2020-06-02\", \"2020-06-01\", \"2020-05-31\", \"2020-05-30\", \"2020-05-29\", \"2020-05-28\", \"2020-05-27\", \"2020-05-26\", \"2020-05-25\", \"2020-05-24\", \"2020-05-23\", \"2020-05-22\", \"2020-05-21\", \"2020-05-20\", \"2020-05-19\", \"2020-05-18\", \"2020-05-17\", \"2020-05-16\", \"2020-05-15\", \"2020-05-14\", \"2020-05-13\", \"2020-05-12\", \"2020-05-11\", \"2020-05-10\", \"2020-05-09\", \"2020-05-08\", \"2020-05-07\", \"2020-05-06\", \"2020-05-05\", \"2020-05-04\", \"2020-05-03\", \"2020-05-02\", \"2020-05-01\", \"2020-04-30\", \"2020-04-29\", \"2020-04-28\", \"2020-04-27\", \"2020-04-26\", \"2020-04-25\", \"2020-04-24\", \"2020-04-23\", \"2020-04-22\", \"2020-04-21\", \"2020-04-20\", \"2020-04-19\", \"2020-04-18\", \"2020-04-17\", \"2020-04-16\", \"2020-04-15\", \"2020-04-14\", \"2020-04-13\", \"2020-04-12\", \"2020-04-11\", \"2020-04-10\", \"2020-04-09\", \"2020-04-08\", \"2020-04-07\", \"2020-04-06\", \"2020-04-05\", \"2020-04-04\", \"2020-04-03\", \"2020-04-02\", \"2020-04-01\", \"2020-03-31\", \"2020-03-30\", \"2020-03-29\", \"2020-03-28\", \"2020-03-27\", \"2020-03-26\", \"2020-03-25\", \"2020-03-24\", \"2020-03-23\", \"2020-03-22\", \"2020-03-21\", \"2020-03-20\", \"2020-03-19\", \"2020-03-18\", \"2020-03-17\", \"2020-03-16\", \"2020-03-15\", \"2020-03-14\", \"2020-03-13\", \"2020-03-12\", \"2020-03-11\", \"2020-03-10\", \"2020-03-09\", \"2020-03-08\", \"2020-03-07\", \"2020-03-06\", \"2020-03-05\", \"2020-03-04\", \"2020-03-03\", \"2020-03-02\", \"2020-03-01\", \"2020-02-29\", \"2020-02-28\", \"2020-02-27\", \"2020-02-26\", \"2020-02-25\", \"2020-02-24\", \"2020-02-23\", \"2020-02-22\", \"2020-02-21\", \"2020-02-20\", \"2020-02-19\", \"2020-02-18\", \"2020-02-17\", \"2020-02-16\", \"2020-02-15\", \"2020-02-14\", \"2020-02-13\", \"2020-02-12\", \"2020-02-11\", \"2020-02-10\", \"2020-02-09\", \"2020-02-08\", \"2020-02-07\", \"2020-02-06\", \"2020-02-05\", \"2020-02-04\", \"2020-02-03\", \"2020-02-02\", \"2020-02-01\", \"2020-01-31\", \"2020-01-30\", \"2020-01-29\", \"2020-01-28\", \"2020-01-27\", \"2020-01-26\", \"2020-01-25\", \"2020-01-24\", \"2020-01-23\", \"2020-01-22\"], \"y\": [59722, 127023, 176251, 139293, 176157, 140157, 133664, 134088, 134283, 118483, 154503, 118074, 123573, 108533, 113715, 127130, 136911, 127967, 126983, 112740, 99143, 107951, 134770, 115419, 116706, 102708, 94624, 87499, 96813, 99795, 108786, 105966, 99105, 95557, 87715, 80375, 91692, 100213, 95224, 85115, 84534, 75766, 77773, 86084, 92356, 90402, 92760, 79676, 76481, 79387, 81623, 88880, 63047, 80509, 71687, 70289, 74786, 86035, 103022, 84912, 74850, 76756, 70988, 79796, 81392, 87444, 96692, 79863, 71353, 70117, 72681, 79583, 95317, 85685, 86925, 75800, 72794, 74438, 81573, 84194, 82191, 86053, 75098, 62249, 59447, 67402, 63700, 61997, 49628, 39677, 41165, 32596, 32361, 29338, 27826, 17783, 15574, 13057, 12489, 10904, 11360, 7971, 7283, 4797, 3971, 3978, 4036, 3914, 2762, 2280, 2535, 1938, 2358, 1889, 1368, 1359, 982, 845, 585, 386, 1756, 644, 558, 503, 1878, 2034, 2194, 2145, 6517, 15148, 419, 2040, 2612, 3030, 2729, 3574, 3182, 3744, 4011, 3094, 4749, 2113, 1690, 2070, 587, 2651, 809, 680, 497, 288, 98, 555]}],\n",
       "                        {\"legend\": {\"bgcolor\": \"#F5F6F9\", \"font\": {\"color\": \"#4D5663\"}}, \"paper_bgcolor\": \"#F5F6F9\", \"plot_bgcolor\": \"#F5F6F9\", \"template\": {\"data\": {\"bar\": [{\"error_x\": {\"color\": \"#2a3f5f\"}, \"error_y\": {\"color\": \"#2a3f5f\"}, \"marker\": {\"line\": {\"color\": \"#E5ECF6\", \"width\": 0.5}}, \"type\": \"bar\"}], \"barpolar\": [{\"marker\": {\"line\": {\"color\": \"#E5ECF6\", \"width\": 0.5}}, \"type\": \"barpolar\"}], \"carpet\": [{\"aaxis\": {\"endlinecolor\": \"#2a3f5f\", \"gridcolor\": \"white\", \"linecolor\": \"white\", \"minorgridcolor\": \"white\", \"startlinecolor\": \"#2a3f5f\"}, \"baxis\": {\"endlinecolor\": \"#2a3f5f\", \"gridcolor\": \"white\", \"linecolor\": \"white\", \"minorgridcolor\": \"white\", \"startlinecolor\": \"#2a3f5f\"}, \"type\": \"carpet\"}], \"choropleth\": [{\"colorbar\": {\"outlinewidth\": 0, \"ticks\": \"\"}, \"type\": \"choropleth\"}], \"contour\": [{\"colorbar\": {\"outlinewidth\": 0, \"ticks\": \"\"}, \"colorscale\": [[0.0, \"#0d0887\"], [0.1111111111111111, \"#46039f\"], [0.2222222222222222, \"#7201a8\"], [0.3333333333333333, \"#9c179e\"], [0.4444444444444444, \"#bd3786\"], [0.5555555555555556, \"#d8576b\"], [0.6666666666666666, \"#ed7953\"], [0.7777777777777778, \"#fb9f3a\"], [0.8888888888888888, \"#fdca26\"], [1.0, \"#f0f921\"]], \"type\": \"contour\"}], \"contourcarpet\": [{\"colorbar\": {\"outlinewidth\": 0, \"ticks\": \"\"}, \"type\": \"contourcarpet\"}], \"heatmap\": [{\"colorbar\": {\"outlinewidth\": 0, \"ticks\": \"\"}, \"colorscale\": [[0.0, \"#0d0887\"], [0.1111111111111111, \"#46039f\"], [0.2222222222222222, \"#7201a8\"], [0.3333333333333333, \"#9c179e\"], [0.4444444444444444, \"#bd3786\"], [0.5555555555555556, \"#d8576b\"], [0.6666666666666666, \"#ed7953\"], [0.7777777777777778, \"#fb9f3a\"], [0.8888888888888888, \"#fdca26\"], [1.0, \"#f0f921\"]], \"type\": \"heatmap\"}], \"heatmapgl\": [{\"colorbar\": {\"outlinewidth\": 0, \"ticks\": \"\"}, \"colorscale\": [[0.0, \"#0d0887\"], [0.1111111111111111, \"#46039f\"], [0.2222222222222222, \"#7201a8\"], [0.3333333333333333, \"#9c179e\"], [0.4444444444444444, \"#bd3786\"], [0.5555555555555556, \"#d8576b\"], [0.6666666666666666, \"#ed7953\"], [0.7777777777777778, \"#fb9f3a\"], [0.8888888888888888, \"#fdca26\"], [1.0, \"#f0f921\"]], \"type\": \"heatmapgl\"}], \"histogram\": [{\"marker\": {\"colorbar\": {\"outlinewidth\": 0, \"ticks\": \"\"}}, \"type\": \"histogram\"}], \"histogram2d\": [{\"colorbar\": {\"outlinewidth\": 0, \"ticks\": \"\"}, \"colorscale\": [[0.0, \"#0d0887\"], [0.1111111111111111, \"#46039f\"], [0.2222222222222222, \"#7201a8\"], [0.3333333333333333, \"#9c179e\"], [0.4444444444444444, \"#bd3786\"], [0.5555555555555556, \"#d8576b\"], [0.6666666666666666, \"#ed7953\"], [0.7777777777777778, \"#fb9f3a\"], [0.8888888888888888, \"#fdca26\"], [1.0, \"#f0f921\"]], \"type\": \"histogram2d\"}], \"histogram2dcontour\": [{\"colorbar\": {\"outlinewidth\": 0, \"ticks\": \"\"}, \"colorscale\": [[0.0, \"#0d0887\"], [0.1111111111111111, \"#46039f\"], [0.2222222222222222, \"#7201a8\"], [0.3333333333333333, \"#9c179e\"], [0.4444444444444444, \"#bd3786\"], [0.5555555555555556, \"#d8576b\"], [0.6666666666666666, \"#ed7953\"], [0.7777777777777778, \"#fb9f3a\"], [0.8888888888888888, \"#fdca26\"], [1.0, \"#f0f921\"]], \"type\": \"histogram2dcontour\"}], \"mesh3d\": [{\"colorbar\": {\"outlinewidth\": 0, \"ticks\": \"\"}, \"type\": \"mesh3d\"}], \"parcoords\": [{\"line\": {\"colorbar\": {\"outlinewidth\": 0, \"ticks\": \"\"}}, \"type\": \"parcoords\"}], \"pie\": [{\"automargin\": true, \"type\": \"pie\"}], \"scatter\": [{\"marker\": {\"colorbar\": {\"outlinewidth\": 0, \"ticks\": \"\"}}, \"type\": \"scatter\"}], \"scatter3d\": [{\"line\": {\"colorbar\": {\"outlinewidth\": 0, \"ticks\": \"\"}}, \"marker\": {\"colorbar\": {\"outlinewidth\": 0, \"ticks\": \"\"}}, \"type\": \"scatter3d\"}], \"scattercarpet\": [{\"marker\": {\"colorbar\": {\"outlinewidth\": 0, \"ticks\": \"\"}}, \"type\": \"scattercarpet\"}], \"scattergeo\": [{\"marker\": {\"colorbar\": {\"outlinewidth\": 0, \"ticks\": \"\"}}, \"type\": \"scattergeo\"}], \"scattergl\": [{\"marker\": {\"colorbar\": {\"outlinewidth\": 0, \"ticks\": \"\"}}, \"type\": \"scattergl\"}], \"scattermapbox\": [{\"marker\": {\"colorbar\": {\"outlinewidth\": 0, \"ticks\": \"\"}}, \"type\": \"scattermapbox\"}], \"scatterpolar\": [{\"marker\": {\"colorbar\": {\"outlinewidth\": 0, \"ticks\": \"\"}}, \"type\": \"scatterpolar\"}], \"scatterpolargl\": [{\"marker\": {\"colorbar\": {\"outlinewidth\": 0, \"ticks\": \"\"}}, \"type\": \"scatterpolargl\"}], \"scatterternary\": [{\"marker\": {\"colorbar\": {\"outlinewidth\": 0, \"ticks\": \"\"}}, \"type\": \"scatterternary\"}], \"surface\": [{\"colorbar\": {\"outlinewidth\": 0, \"ticks\": \"\"}, \"colorscale\": [[0.0, \"#0d0887\"], [0.1111111111111111, \"#46039f\"], [0.2222222222222222, \"#7201a8\"], [0.3333333333333333, \"#9c179e\"], [0.4444444444444444, \"#bd3786\"], [0.5555555555555556, \"#d8576b\"], [0.6666666666666666, \"#ed7953\"], [0.7777777777777778, \"#fb9f3a\"], [0.8888888888888888, \"#fdca26\"], [1.0, \"#f0f921\"]], \"type\": \"surface\"}], \"table\": [{\"cells\": {\"fill\": {\"color\": \"#EBF0F8\"}, \"line\": {\"color\": \"white\"}}, \"header\": {\"fill\": {\"color\": \"#C8D4E3\"}, \"line\": {\"color\": \"white\"}}, \"type\": \"table\"}]}, \"layout\": {\"annotationdefaults\": {\"arrowcolor\": \"#2a3f5f\", \"arrowhead\": 0, \"arrowwidth\": 1}, \"coloraxis\": {\"colorbar\": {\"outlinewidth\": 0, \"ticks\": \"\"}}, \"colorscale\": {\"diverging\": [[0, \"#8e0152\"], [0.1, \"#c51b7d\"], [0.2, \"#de77ae\"], [0.3, \"#f1b6da\"], [0.4, \"#fde0ef\"], [0.5, \"#f7f7f7\"], [0.6, \"#e6f5d0\"], [0.7, \"#b8e186\"], [0.8, \"#7fbc41\"], [0.9, \"#4d9221\"], [1, \"#276419\"]], \"sequential\": [[0.0, \"#0d0887\"], [0.1111111111111111, \"#46039f\"], [0.2222222222222222, \"#7201a8\"], [0.3333333333333333, \"#9c179e\"], [0.4444444444444444, \"#bd3786\"], [0.5555555555555556, \"#d8576b\"], [0.6666666666666666, \"#ed7953\"], [0.7777777777777778, \"#fb9f3a\"], [0.8888888888888888, \"#fdca26\"], [1.0, \"#f0f921\"]], \"sequentialminus\": [[0.0, \"#0d0887\"], [0.1111111111111111, \"#46039f\"], [0.2222222222222222, \"#7201a8\"], [0.3333333333333333, \"#9c179e\"], [0.4444444444444444, \"#bd3786\"], [0.5555555555555556, \"#d8576b\"], [0.6666666666666666, \"#ed7953\"], [0.7777777777777778, \"#fb9f3a\"], [0.8888888888888888, \"#fdca26\"], [1.0, \"#f0f921\"]]}, \"colorway\": [\"#636efa\", \"#EF553B\", \"#00cc96\", \"#ab63fa\", \"#FFA15A\", \"#19d3f3\", \"#FF6692\", \"#B6E880\", \"#FF97FF\", \"#FECB52\"], \"font\": {\"color\": \"#2a3f5f\"}, \"geo\": {\"bgcolor\": \"white\", \"lakecolor\": \"white\", \"landcolor\": \"#E5ECF6\", \"showlakes\": true, \"showland\": true, \"subunitcolor\": \"white\"}, \"hoverlabel\": {\"align\": \"left\"}, \"hovermode\": \"closest\", \"mapbox\": {\"style\": \"light\"}, \"paper_bgcolor\": \"white\", \"plot_bgcolor\": \"#E5ECF6\", \"polar\": {\"angularaxis\": {\"gridcolor\": \"white\", \"linecolor\": \"white\", \"ticks\": \"\"}, \"bgcolor\": \"#E5ECF6\", \"radialaxis\": {\"gridcolor\": \"white\", \"linecolor\": \"white\", \"ticks\": \"\"}}, \"scene\": {\"xaxis\": {\"backgroundcolor\": \"#E5ECF6\", \"gridcolor\": \"white\", \"gridwidth\": 2, \"linecolor\": \"white\", \"showbackground\": true, \"ticks\": \"\", \"zerolinecolor\": \"white\"}, \"yaxis\": {\"backgroundcolor\": \"#E5ECF6\", \"gridcolor\": \"white\", \"gridwidth\": 2, \"linecolor\": \"white\", \"showbackground\": true, \"ticks\": \"\", \"zerolinecolor\": \"white\"}, \"zaxis\": {\"backgroundcolor\": \"#E5ECF6\", \"gridcolor\": \"white\", \"gridwidth\": 2, \"linecolor\": \"white\", \"showbackground\": true, \"ticks\": \"\", \"zerolinecolor\": \"white\"}}, \"shapedefaults\": {\"line\": {\"color\": \"#2a3f5f\"}}, \"ternary\": {\"aaxis\": {\"gridcolor\": \"white\", \"linecolor\": \"white\", \"ticks\": \"\"}, \"baxis\": {\"gridcolor\": \"white\", \"linecolor\": \"white\", \"ticks\": \"\"}, \"bgcolor\": \"#E5ECF6\", \"caxis\": {\"gridcolor\": \"white\", \"linecolor\": \"white\", \"ticks\": \"\"}}, \"title\": {\"x\": 0.05}, \"xaxis\": {\"automargin\": true, \"gridcolor\": \"white\", \"linecolor\": \"white\", \"ticks\": \"\", \"title\": {\"standoff\": 15}, \"zerolinecolor\": \"white\", \"zerolinewidth\": 2}, \"yaxis\": {\"automargin\": true, \"gridcolor\": \"white\", \"linecolor\": \"white\", \"ticks\": \"\", \"title\": {\"standoff\": 15}, \"zerolinecolor\": \"white\", \"zerolinewidth\": 2}}}, \"title\": {\"font\": {\"color\": \"#4D5663\"}, \"text\": \"Confirmed Cases per day\"}, \"xaxis\": {\"gridcolor\": \"#E1E5ED\", \"showgrid\": true, \"tickfont\": {\"color\": \"#4D5663\"}, \"title\": {\"font\": {\"color\": \"#4D5663\"}, \"text\": \"Date\"}, \"zerolinecolor\": \"#E1E5ED\"}, \"yaxis\": {\"gridcolor\": \"#E1E5ED\", \"showgrid\": true, \"tickfont\": {\"color\": \"#4D5663\"}, \"title\": {\"font\": {\"color\": \"#4D5663\"}, \"text\": \"Cases per day\"}, \"zerolinecolor\": \"#E1E5ED\"}},\n",
       "                        {\"showLink\": true, \"linkText\": \"Export to plot.ly\", \"plotlyServerURL\": \"https://plot.ly\", \"responsive\": true}\n",
       "                    ).then(function(){\n",
       "                            \n",
       "var gd = document.getElementById('e7745e10-352e-415c-bca4-e3b8d8cec96c');\n",
       "var x = new MutationObserver(function (mutations, observer) {{\n",
       "        var display = window.getComputedStyle(gd).display;\n",
       "        if (!display || display === 'none') {{\n",
       "            console.log([gd, 'removed!']);\n",
       "            Plotly.purge(gd);\n",
       "            observer.disconnect();\n",
       "        }}\n",
       "}});\n",
       "\n",
       "// Listen for the removal of the full notebook cells\n",
       "var notebookContainer = gd.closest('#notebook-container');\n",
       "if (notebookContainer) {{\n",
       "    x.observe(notebookContainer, {childList: true});\n",
       "}}\n",
       "\n",
       "// Listen for the clearing of the current output cell\n",
       "var outputEl = gd.closest('.output');\n",
       "if (outputEl) {{\n",
       "    x.observe(outputEl, {childList: true});\n",
       "}}\n",
       "\n",
       "                        })\n",
       "                };\n",
       "                });\n",
       "            </script>\n",
       "        </div>"
      ]
     },
     "metadata": {},
     "output_type": "display_data"
    },
    {
     "data": {
      "application/vnd.plotly.v1+json": {
       "config": {
        "linkText": "Export to plot.ly",
        "plotlyServerURL": "https://plot.ly",
        "showLink": true
       },
       "data": [
        {
         "line": {
          "color": "rgba(55, 128, 191, 1.0)",
          "dash": "solid",
          "shape": "linear",
          "width": 1.3
         },
         "marker": {
          "size": 5,
          "symbol": "circle"
         },
         "mode": "markers+lines",
         "name": "Décès/jrs",
         "text": "",
         "type": "scatter",
         "x": [
          "2020-06-21",
          "2020-06-20",
          "2020-06-19",
          "2020-06-18",
          "2020-06-17",
          "2020-06-16",
          "2020-06-15",
          "2020-06-14",
          "2020-06-13",
          "2020-06-12",
          "2020-06-11",
          "2020-06-10",
          "2020-06-09",
          "2020-06-08",
          "2020-06-07",
          "2020-06-06",
          "2020-06-05",
          "2020-06-04",
          "2020-06-03",
          "2020-06-02",
          "2020-06-01",
          "2020-05-31",
          "2020-05-30",
          "2020-05-29",
          "2020-05-28",
          "2020-05-27",
          "2020-05-26",
          "2020-05-25",
          "2020-05-24",
          "2020-05-23",
          "2020-05-22",
          "2020-05-21",
          "2020-05-20",
          "2020-05-19",
          "2020-05-18",
          "2020-05-17",
          "2020-05-16",
          "2020-05-15",
          "2020-05-14",
          "2020-05-13",
          "2020-05-12",
          "2020-05-11",
          "2020-05-10",
          "2020-05-09",
          "2020-05-08",
          "2020-05-07",
          "2020-05-06",
          "2020-05-05",
          "2020-05-04",
          "2020-05-03",
          "2020-05-02",
          "2020-05-01",
          "2020-04-30",
          "2020-04-29",
          "2020-04-28",
          "2020-04-27",
          "2020-04-26",
          "2020-04-25",
          "2020-04-24",
          "2020-04-23",
          "2020-04-22",
          "2020-04-21",
          "2020-04-20",
          "2020-04-19",
          "2020-04-18",
          "2020-04-17",
          "2020-04-16",
          "2020-04-15",
          "2020-04-14",
          "2020-04-13",
          "2020-04-12",
          "2020-04-11",
          "2020-04-10",
          "2020-04-09",
          "2020-04-08",
          "2020-04-07",
          "2020-04-06",
          "2020-04-05",
          "2020-04-04",
          "2020-04-03",
          "2020-04-02",
          "2020-04-01",
          "2020-03-31",
          "2020-03-30",
          "2020-03-29",
          "2020-03-28",
          "2020-03-27",
          "2020-03-26",
          "2020-03-25",
          "2020-03-24",
          "2020-03-23",
          "2020-03-22",
          "2020-03-21",
          "2020-03-20",
          "2020-03-19",
          "2020-03-18",
          "2020-03-17",
          "2020-03-16",
          "2020-03-15",
          "2020-03-14",
          "2020-03-13",
          "2020-03-12",
          "2020-03-11",
          "2020-03-10",
          "2020-03-09",
          "2020-03-08",
          "2020-03-07",
          "2020-03-06",
          "2020-03-05",
          "2020-03-04",
          "2020-03-03",
          "2020-03-02",
          "2020-03-01",
          "2020-02-29",
          "2020-02-28",
          "2020-02-27",
          "2020-02-26",
          "2020-02-25",
          "2020-02-24",
          "2020-02-23",
          "2020-02-22",
          "2020-02-21",
          "2020-02-20",
          "2020-02-19",
          "2020-02-18",
          "2020-02-17",
          "2020-02-16",
          "2020-02-15",
          "2020-02-14",
          "2020-02-13",
          "2020-02-12",
          "2020-02-11",
          "2020-02-10",
          "2020-02-09",
          "2020-02-08",
          "2020-02-07",
          "2020-02-06",
          "2020-02-05",
          "2020-02-04",
          "2020-02-03",
          "2020-02-02",
          "2020-02-01",
          "2020-01-31",
          "2020-01-30",
          "2020-01-29",
          "2020-01-28",
          "2020-01-27",
          "2020-01-26",
          "2020-01-25",
          "2020-01-24",
          "2020-01-23",
          "2020-01-22"
         ],
         "y": [
          1293,
          4449,
          6033,
          5026,
          5274,
          6788,
          3833,
          3332,
          4342,
          3936,
          5291,
          4765,
          4862,
          3800,
          2745,
          3871,
          4992,
          5190,
          5697,
          4707,
          3511,
          2909,
          4251,
          4568,
          4679,
          5176,
          4221,
          1173,
          2847,
          3980,
          5310,
          4809,
          4832,
          4804,
          3209,
          3395,
          4213,
          5248,
          5223,
          5235,
          5635,
          3621,
          3398,
          4414,
          5331,
          5737,
          6596,
          5702,
          4069,
          3662,
          4908,
          5543,
          5750,
          10485,
          5986,
          4623,
          3698,
          5695,
          6293,
          7792,
          6483,
          6597,
          4942,
          5534,
          5688,
          10021,
          9624,
          8193,
          6502,
          5393,
          5587,
          5977,
          7070,
          7117,
          6473,
          7300,
          5191,
          4768,
          5819,
          5804,
          6174,
          4702,
          4525,
          3657,
          3273,
          3454,
          3228,
          2789,
          2566,
          2116,
          1874,
          1652,
          1674,
          1303,
          1147,
          917,
          800,
          642,
          671,
          377,
          478,
          349,
          353,
          260,
          199,
          245,
          98,
          112,
          94,
          94,
          75,
          89,
          55,
          69,
          58,
          44,
          62,
          79,
          160,
          11,
          207,
          4,
          125,
          115,
          139,
          98,
          104,
          143,
          152,
          253,
          5,
          100,
          107,
          100,
          87,
          85,
          70,
          72,
          66,
          64,
          103,
          46,
          42,
          38,
          2,
          49,
          26,
          14,
          16,
          8,
          1,
          17
         ]
        }
       ],
       "layout": {
        "legend": {
         "bgcolor": "#F5F6F9",
         "font": {
          "color": "#4D5663"
         }
        },
        "paper_bgcolor": "#F5F6F9",
        "plot_bgcolor": "#F5F6F9",
        "template": {
         "data": {
          "bar": [
           {
            "error_x": {
             "color": "#2a3f5f"
            },
            "error_y": {
             "color": "#2a3f5f"
            },
            "marker": {
             "line": {
              "color": "#E5ECF6",
              "width": 0.5
             }
            },
            "type": "bar"
           }
          ],
          "barpolar": [
           {
            "marker": {
             "line": {
              "color": "#E5ECF6",
              "width": 0.5
             }
            },
            "type": "barpolar"
           }
          ],
          "carpet": [
           {
            "aaxis": {
             "endlinecolor": "#2a3f5f",
             "gridcolor": "white",
             "linecolor": "white",
             "minorgridcolor": "white",
             "startlinecolor": "#2a3f5f"
            },
            "baxis": {
             "endlinecolor": "#2a3f5f",
             "gridcolor": "white",
             "linecolor": "white",
             "minorgridcolor": "white",
             "startlinecolor": "#2a3f5f"
            },
            "type": "carpet"
           }
          ],
          "choropleth": [
           {
            "colorbar": {
             "outlinewidth": 0,
             "ticks": ""
            },
            "type": "choropleth"
           }
          ],
          "contour": [
           {
            "colorbar": {
             "outlinewidth": 0,
             "ticks": ""
            },
            "colorscale": [
             [
              0,
              "#0d0887"
             ],
             [
              0.1111111111111111,
              "#46039f"
             ],
             [
              0.2222222222222222,
              "#7201a8"
             ],
             [
              0.3333333333333333,
              "#9c179e"
             ],
             [
              0.4444444444444444,
              "#bd3786"
             ],
             [
              0.5555555555555556,
              "#d8576b"
             ],
             [
              0.6666666666666666,
              "#ed7953"
             ],
             [
              0.7777777777777778,
              "#fb9f3a"
             ],
             [
              0.8888888888888888,
              "#fdca26"
             ],
             [
              1,
              "#f0f921"
             ]
            ],
            "type": "contour"
           }
          ],
          "contourcarpet": [
           {
            "colorbar": {
             "outlinewidth": 0,
             "ticks": ""
            },
            "type": "contourcarpet"
           }
          ],
          "heatmap": [
           {
            "colorbar": {
             "outlinewidth": 0,
             "ticks": ""
            },
            "colorscale": [
             [
              0,
              "#0d0887"
             ],
             [
              0.1111111111111111,
              "#46039f"
             ],
             [
              0.2222222222222222,
              "#7201a8"
             ],
             [
              0.3333333333333333,
              "#9c179e"
             ],
             [
              0.4444444444444444,
              "#bd3786"
             ],
             [
              0.5555555555555556,
              "#d8576b"
             ],
             [
              0.6666666666666666,
              "#ed7953"
             ],
             [
              0.7777777777777778,
              "#fb9f3a"
             ],
             [
              0.8888888888888888,
              "#fdca26"
             ],
             [
              1,
              "#f0f921"
             ]
            ],
            "type": "heatmap"
           }
          ],
          "heatmapgl": [
           {
            "colorbar": {
             "outlinewidth": 0,
             "ticks": ""
            },
            "colorscale": [
             [
              0,
              "#0d0887"
             ],
             [
              0.1111111111111111,
              "#46039f"
             ],
             [
              0.2222222222222222,
              "#7201a8"
             ],
             [
              0.3333333333333333,
              "#9c179e"
             ],
             [
              0.4444444444444444,
              "#bd3786"
             ],
             [
              0.5555555555555556,
              "#d8576b"
             ],
             [
              0.6666666666666666,
              "#ed7953"
             ],
             [
              0.7777777777777778,
              "#fb9f3a"
             ],
             [
              0.8888888888888888,
              "#fdca26"
             ],
             [
              1,
              "#f0f921"
             ]
            ],
            "type": "heatmapgl"
           }
          ],
          "histogram": [
           {
            "marker": {
             "colorbar": {
              "outlinewidth": 0,
              "ticks": ""
             }
            },
            "type": "histogram"
           }
          ],
          "histogram2d": [
           {
            "colorbar": {
             "outlinewidth": 0,
             "ticks": ""
            },
            "colorscale": [
             [
              0,
              "#0d0887"
             ],
             [
              0.1111111111111111,
              "#46039f"
             ],
             [
              0.2222222222222222,
              "#7201a8"
             ],
             [
              0.3333333333333333,
              "#9c179e"
             ],
             [
              0.4444444444444444,
              "#bd3786"
             ],
             [
              0.5555555555555556,
              "#d8576b"
             ],
             [
              0.6666666666666666,
              "#ed7953"
             ],
             [
              0.7777777777777778,
              "#fb9f3a"
             ],
             [
              0.8888888888888888,
              "#fdca26"
             ],
             [
              1,
              "#f0f921"
             ]
            ],
            "type": "histogram2d"
           }
          ],
          "histogram2dcontour": [
           {
            "colorbar": {
             "outlinewidth": 0,
             "ticks": ""
            },
            "colorscale": [
             [
              0,
              "#0d0887"
             ],
             [
              0.1111111111111111,
              "#46039f"
             ],
             [
              0.2222222222222222,
              "#7201a8"
             ],
             [
              0.3333333333333333,
              "#9c179e"
             ],
             [
              0.4444444444444444,
              "#bd3786"
             ],
             [
              0.5555555555555556,
              "#d8576b"
             ],
             [
              0.6666666666666666,
              "#ed7953"
             ],
             [
              0.7777777777777778,
              "#fb9f3a"
             ],
             [
              0.8888888888888888,
              "#fdca26"
             ],
             [
              1,
              "#f0f921"
             ]
            ],
            "type": "histogram2dcontour"
           }
          ],
          "mesh3d": [
           {
            "colorbar": {
             "outlinewidth": 0,
             "ticks": ""
            },
            "type": "mesh3d"
           }
          ],
          "parcoords": [
           {
            "line": {
             "colorbar": {
              "outlinewidth": 0,
              "ticks": ""
             }
            },
            "type": "parcoords"
           }
          ],
          "pie": [
           {
            "automargin": true,
            "type": "pie"
           }
          ],
          "scatter": [
           {
            "marker": {
             "colorbar": {
              "outlinewidth": 0,
              "ticks": ""
             }
            },
            "type": "scatter"
           }
          ],
          "scatter3d": [
           {
            "line": {
             "colorbar": {
              "outlinewidth": 0,
              "ticks": ""
             }
            },
            "marker": {
             "colorbar": {
              "outlinewidth": 0,
              "ticks": ""
             }
            },
            "type": "scatter3d"
           }
          ],
          "scattercarpet": [
           {
            "marker": {
             "colorbar": {
              "outlinewidth": 0,
              "ticks": ""
             }
            },
            "type": "scattercarpet"
           }
          ],
          "scattergeo": [
           {
            "marker": {
             "colorbar": {
              "outlinewidth": 0,
              "ticks": ""
             }
            },
            "type": "scattergeo"
           }
          ],
          "scattergl": [
           {
            "marker": {
             "colorbar": {
              "outlinewidth": 0,
              "ticks": ""
             }
            },
            "type": "scattergl"
           }
          ],
          "scattermapbox": [
           {
            "marker": {
             "colorbar": {
              "outlinewidth": 0,
              "ticks": ""
             }
            },
            "type": "scattermapbox"
           }
          ],
          "scatterpolar": [
           {
            "marker": {
             "colorbar": {
              "outlinewidth": 0,
              "ticks": ""
             }
            },
            "type": "scatterpolar"
           }
          ],
          "scatterpolargl": [
           {
            "marker": {
             "colorbar": {
              "outlinewidth": 0,
              "ticks": ""
             }
            },
            "type": "scatterpolargl"
           }
          ],
          "scatterternary": [
           {
            "marker": {
             "colorbar": {
              "outlinewidth": 0,
              "ticks": ""
             }
            },
            "type": "scatterternary"
           }
          ],
          "surface": [
           {
            "colorbar": {
             "outlinewidth": 0,
             "ticks": ""
            },
            "colorscale": [
             [
              0,
              "#0d0887"
             ],
             [
              0.1111111111111111,
              "#46039f"
             ],
             [
              0.2222222222222222,
              "#7201a8"
             ],
             [
              0.3333333333333333,
              "#9c179e"
             ],
             [
              0.4444444444444444,
              "#bd3786"
             ],
             [
              0.5555555555555556,
              "#d8576b"
             ],
             [
              0.6666666666666666,
              "#ed7953"
             ],
             [
              0.7777777777777778,
              "#fb9f3a"
             ],
             [
              0.8888888888888888,
              "#fdca26"
             ],
             [
              1,
              "#f0f921"
             ]
            ],
            "type": "surface"
           }
          ],
          "table": [
           {
            "cells": {
             "fill": {
              "color": "#EBF0F8"
             },
             "line": {
              "color": "white"
             }
            },
            "header": {
             "fill": {
              "color": "#C8D4E3"
             },
             "line": {
              "color": "white"
             }
            },
            "type": "table"
           }
          ]
         },
         "layout": {
          "annotationdefaults": {
           "arrowcolor": "#2a3f5f",
           "arrowhead": 0,
           "arrowwidth": 1
          },
          "coloraxis": {
           "colorbar": {
            "outlinewidth": 0,
            "ticks": ""
           }
          },
          "colorscale": {
           "diverging": [
            [
             0,
             "#8e0152"
            ],
            [
             0.1,
             "#c51b7d"
            ],
            [
             0.2,
             "#de77ae"
            ],
            [
             0.3,
             "#f1b6da"
            ],
            [
             0.4,
             "#fde0ef"
            ],
            [
             0.5,
             "#f7f7f7"
            ],
            [
             0.6,
             "#e6f5d0"
            ],
            [
             0.7,
             "#b8e186"
            ],
            [
             0.8,
             "#7fbc41"
            ],
            [
             0.9,
             "#4d9221"
            ],
            [
             1,
             "#276419"
            ]
           ],
           "sequential": [
            [
             0,
             "#0d0887"
            ],
            [
             0.1111111111111111,
             "#46039f"
            ],
            [
             0.2222222222222222,
             "#7201a8"
            ],
            [
             0.3333333333333333,
             "#9c179e"
            ],
            [
             0.4444444444444444,
             "#bd3786"
            ],
            [
             0.5555555555555556,
             "#d8576b"
            ],
            [
             0.6666666666666666,
             "#ed7953"
            ],
            [
             0.7777777777777778,
             "#fb9f3a"
            ],
            [
             0.8888888888888888,
             "#fdca26"
            ],
            [
             1,
             "#f0f921"
            ]
           ],
           "sequentialminus": [
            [
             0,
             "#0d0887"
            ],
            [
             0.1111111111111111,
             "#46039f"
            ],
            [
             0.2222222222222222,
             "#7201a8"
            ],
            [
             0.3333333333333333,
             "#9c179e"
            ],
            [
             0.4444444444444444,
             "#bd3786"
            ],
            [
             0.5555555555555556,
             "#d8576b"
            ],
            [
             0.6666666666666666,
             "#ed7953"
            ],
            [
             0.7777777777777778,
             "#fb9f3a"
            ],
            [
             0.8888888888888888,
             "#fdca26"
            ],
            [
             1,
             "#f0f921"
            ]
           ]
          },
          "colorway": [
           "#636efa",
           "#EF553B",
           "#00cc96",
           "#ab63fa",
           "#FFA15A",
           "#19d3f3",
           "#FF6692",
           "#B6E880",
           "#FF97FF",
           "#FECB52"
          ],
          "font": {
           "color": "#2a3f5f"
          },
          "geo": {
           "bgcolor": "white",
           "lakecolor": "white",
           "landcolor": "#E5ECF6",
           "showlakes": true,
           "showland": true,
           "subunitcolor": "white"
          },
          "hoverlabel": {
           "align": "left"
          },
          "hovermode": "closest",
          "mapbox": {
           "style": "light"
          },
          "paper_bgcolor": "white",
          "plot_bgcolor": "#E5ECF6",
          "polar": {
           "angularaxis": {
            "gridcolor": "white",
            "linecolor": "white",
            "ticks": ""
           },
           "bgcolor": "#E5ECF6",
           "radialaxis": {
            "gridcolor": "white",
            "linecolor": "white",
            "ticks": ""
           }
          },
          "scene": {
           "xaxis": {
            "backgroundcolor": "#E5ECF6",
            "gridcolor": "white",
            "gridwidth": 2,
            "linecolor": "white",
            "showbackground": true,
            "ticks": "",
            "zerolinecolor": "white"
           },
           "yaxis": {
            "backgroundcolor": "#E5ECF6",
            "gridcolor": "white",
            "gridwidth": 2,
            "linecolor": "white",
            "showbackground": true,
            "ticks": "",
            "zerolinecolor": "white"
           },
           "zaxis": {
            "backgroundcolor": "#E5ECF6",
            "gridcolor": "white",
            "gridwidth": 2,
            "linecolor": "white",
            "showbackground": true,
            "ticks": "",
            "zerolinecolor": "white"
           }
          },
          "shapedefaults": {
           "line": {
            "color": "#2a3f5f"
           }
          },
          "ternary": {
           "aaxis": {
            "gridcolor": "white",
            "linecolor": "white",
            "ticks": ""
           },
           "baxis": {
            "gridcolor": "white",
            "linecolor": "white",
            "ticks": ""
           },
           "bgcolor": "#E5ECF6",
           "caxis": {
            "gridcolor": "white",
            "linecolor": "white",
            "ticks": ""
           }
          },
          "title": {
           "x": 0.05
          },
          "xaxis": {
           "automargin": true,
           "gridcolor": "white",
           "linecolor": "white",
           "ticks": "",
           "title": {
            "standoff": 15
           },
           "zerolinecolor": "white",
           "zerolinewidth": 2
          },
          "yaxis": {
           "automargin": true,
           "gridcolor": "white",
           "linecolor": "white",
           "ticks": "",
           "title": {
            "standoff": 15
           },
           "zerolinecolor": "white",
           "zerolinewidth": 2
          }
         }
        },
        "title": {
         "font": {
          "color": "#4D5663"
         },
         "text": "Confirmed Deaths per day"
        },
        "xaxis": {
         "gridcolor": "#E1E5ED",
         "showgrid": true,
         "tickfont": {
          "color": "#4D5663"
         },
         "title": {
          "font": {
           "color": "#4D5663"
          },
          "text": "Date"
         },
         "zerolinecolor": "#E1E5ED"
        },
        "yaxis": {
         "gridcolor": "#E1E5ED",
         "showgrid": true,
         "tickfont": {
          "color": "#4D5663"
         },
         "title": {
          "font": {
           "color": "#4D5663"
          },
          "text": "Deaths per day"
         },
         "zerolinecolor": "#E1E5ED"
        }
       }
      },
      "text/html": [
       "<div>\n",
       "        \n",
       "        \n",
       "            <div id=\"7b0d1f91-9b96-4701-b662-46fd2e5c03c8\" class=\"plotly-graph-div\" style=\"height:525px; width:100%;\"></div>\n",
       "            <script type=\"text/javascript\">\n",
       "                require([\"plotly\"], function(Plotly) {\n",
       "                    window.PLOTLYENV=window.PLOTLYENV || {};\n",
       "                    window.PLOTLYENV.BASE_URL='https://plot.ly';\n",
       "                    \n",
       "                if (document.getElementById(\"7b0d1f91-9b96-4701-b662-46fd2e5c03c8\")) {\n",
       "                    Plotly.newPlot(\n",
       "                        '7b0d1f91-9b96-4701-b662-46fd2e5c03c8',\n",
       "                        [{\"line\": {\"color\": \"rgba(55, 128, 191, 1.0)\", \"dash\": \"solid\", \"shape\": \"linear\", \"width\": 1.3}, \"marker\": {\"size\": 5, \"symbol\": \"circle\"}, \"mode\": \"markers+lines\", \"name\": \"D\\u00e9c\\u00e8s/jrs\", \"text\": \"\", \"type\": \"scatter\", \"x\": [\"2020-06-21\", \"2020-06-20\", \"2020-06-19\", \"2020-06-18\", \"2020-06-17\", \"2020-06-16\", \"2020-06-15\", \"2020-06-14\", \"2020-06-13\", \"2020-06-12\", \"2020-06-11\", \"2020-06-10\", \"2020-06-09\", \"2020-06-08\", \"2020-06-07\", \"2020-06-06\", \"2020-06-05\", \"2020-06-04\", \"2020-06-03\", \"2020-06-02\", \"2020-06-01\", \"2020-05-31\", \"2020-05-30\", \"2020-05-29\", \"2020-05-28\", \"2020-05-27\", \"2020-05-26\", \"2020-05-25\", \"2020-05-24\", \"2020-05-23\", \"2020-05-22\", \"2020-05-21\", \"2020-05-20\", \"2020-05-19\", \"2020-05-18\", \"2020-05-17\", \"2020-05-16\", \"2020-05-15\", \"2020-05-14\", \"2020-05-13\", \"2020-05-12\", \"2020-05-11\", \"2020-05-10\", \"2020-05-09\", \"2020-05-08\", \"2020-05-07\", \"2020-05-06\", \"2020-05-05\", \"2020-05-04\", \"2020-05-03\", \"2020-05-02\", \"2020-05-01\", \"2020-04-30\", \"2020-04-29\", \"2020-04-28\", \"2020-04-27\", \"2020-04-26\", \"2020-04-25\", \"2020-04-24\", \"2020-04-23\", \"2020-04-22\", \"2020-04-21\", \"2020-04-20\", \"2020-04-19\", \"2020-04-18\", \"2020-04-17\", \"2020-04-16\", \"2020-04-15\", \"2020-04-14\", \"2020-04-13\", \"2020-04-12\", \"2020-04-11\", \"2020-04-10\", \"2020-04-09\", \"2020-04-08\", \"2020-04-07\", \"2020-04-06\", \"2020-04-05\", \"2020-04-04\", \"2020-04-03\", \"2020-04-02\", \"2020-04-01\", \"2020-03-31\", \"2020-03-30\", \"2020-03-29\", \"2020-03-28\", \"2020-03-27\", \"2020-03-26\", \"2020-03-25\", \"2020-03-24\", \"2020-03-23\", \"2020-03-22\", \"2020-03-21\", \"2020-03-20\", \"2020-03-19\", \"2020-03-18\", \"2020-03-17\", \"2020-03-16\", \"2020-03-15\", \"2020-03-14\", \"2020-03-13\", \"2020-03-12\", \"2020-03-11\", \"2020-03-10\", \"2020-03-09\", \"2020-03-08\", \"2020-03-07\", \"2020-03-06\", \"2020-03-05\", \"2020-03-04\", \"2020-03-03\", \"2020-03-02\", \"2020-03-01\", \"2020-02-29\", \"2020-02-28\", \"2020-02-27\", \"2020-02-26\", \"2020-02-25\", \"2020-02-24\", \"2020-02-23\", \"2020-02-22\", \"2020-02-21\", \"2020-02-20\", \"2020-02-19\", \"2020-02-18\", \"2020-02-17\", \"2020-02-16\", \"2020-02-15\", \"2020-02-14\", \"2020-02-13\", \"2020-02-12\", \"2020-02-11\", \"2020-02-10\", \"2020-02-09\", \"2020-02-08\", \"2020-02-07\", \"2020-02-06\", \"2020-02-05\", \"2020-02-04\", \"2020-02-03\", \"2020-02-02\", \"2020-02-01\", \"2020-01-31\", \"2020-01-30\", \"2020-01-29\", \"2020-01-28\", \"2020-01-27\", \"2020-01-26\", \"2020-01-25\", \"2020-01-24\", \"2020-01-23\", \"2020-01-22\"], \"y\": [1293, 4449, 6033, 5026, 5274, 6788, 3833, 3332, 4342, 3936, 5291, 4765, 4862, 3800, 2745, 3871, 4992, 5190, 5697, 4707, 3511, 2909, 4251, 4568, 4679, 5176, 4221, 1173, 2847, 3980, 5310, 4809, 4832, 4804, 3209, 3395, 4213, 5248, 5223, 5235, 5635, 3621, 3398, 4414, 5331, 5737, 6596, 5702, 4069, 3662, 4908, 5543, 5750, 10485, 5986, 4623, 3698, 5695, 6293, 7792, 6483, 6597, 4942, 5534, 5688, 10021, 9624, 8193, 6502, 5393, 5587, 5977, 7070, 7117, 6473, 7300, 5191, 4768, 5819, 5804, 6174, 4702, 4525, 3657, 3273, 3454, 3228, 2789, 2566, 2116, 1874, 1652, 1674, 1303, 1147, 917, 800, 642, 671, 377, 478, 349, 353, 260, 199, 245, 98, 112, 94, 94, 75, 89, 55, 69, 58, 44, 62, 79, 160, 11, 207, 4, 125, 115, 139, 98, 104, 143, 152, 253, 5, 100, 107, 100, 87, 85, 70, 72, 66, 64, 103, 46, 42, 38, 2, 49, 26, 14, 16, 8, 1, 17]}],\n",
       "                        {\"legend\": {\"bgcolor\": \"#F5F6F9\", \"font\": {\"color\": \"#4D5663\"}}, \"paper_bgcolor\": \"#F5F6F9\", \"plot_bgcolor\": \"#F5F6F9\", \"template\": {\"data\": {\"bar\": [{\"error_x\": {\"color\": \"#2a3f5f\"}, \"error_y\": {\"color\": \"#2a3f5f\"}, \"marker\": {\"line\": {\"color\": \"#E5ECF6\", \"width\": 0.5}}, \"type\": \"bar\"}], \"barpolar\": [{\"marker\": {\"line\": {\"color\": \"#E5ECF6\", \"width\": 0.5}}, \"type\": \"barpolar\"}], \"carpet\": [{\"aaxis\": {\"endlinecolor\": \"#2a3f5f\", \"gridcolor\": \"white\", \"linecolor\": \"white\", \"minorgridcolor\": \"white\", \"startlinecolor\": \"#2a3f5f\"}, \"baxis\": {\"endlinecolor\": \"#2a3f5f\", \"gridcolor\": \"white\", \"linecolor\": \"white\", \"minorgridcolor\": \"white\", \"startlinecolor\": \"#2a3f5f\"}, \"type\": \"carpet\"}], \"choropleth\": [{\"colorbar\": {\"outlinewidth\": 0, \"ticks\": \"\"}, \"type\": \"choropleth\"}], \"contour\": [{\"colorbar\": {\"outlinewidth\": 0, \"ticks\": \"\"}, \"colorscale\": [[0.0, \"#0d0887\"], [0.1111111111111111, \"#46039f\"], [0.2222222222222222, \"#7201a8\"], [0.3333333333333333, \"#9c179e\"], [0.4444444444444444, \"#bd3786\"], [0.5555555555555556, \"#d8576b\"], [0.6666666666666666, \"#ed7953\"], [0.7777777777777778, \"#fb9f3a\"], [0.8888888888888888, \"#fdca26\"], [1.0, \"#f0f921\"]], \"type\": \"contour\"}], \"contourcarpet\": [{\"colorbar\": {\"outlinewidth\": 0, \"ticks\": \"\"}, \"type\": \"contourcarpet\"}], \"heatmap\": [{\"colorbar\": {\"outlinewidth\": 0, \"ticks\": \"\"}, \"colorscale\": [[0.0, \"#0d0887\"], [0.1111111111111111, \"#46039f\"], [0.2222222222222222, \"#7201a8\"], [0.3333333333333333, \"#9c179e\"], [0.4444444444444444, \"#bd3786\"], [0.5555555555555556, \"#d8576b\"], [0.6666666666666666, \"#ed7953\"], [0.7777777777777778, \"#fb9f3a\"], [0.8888888888888888, \"#fdca26\"], [1.0, \"#f0f921\"]], \"type\": \"heatmap\"}], \"heatmapgl\": [{\"colorbar\": {\"outlinewidth\": 0, \"ticks\": \"\"}, \"colorscale\": [[0.0, \"#0d0887\"], [0.1111111111111111, \"#46039f\"], [0.2222222222222222, \"#7201a8\"], [0.3333333333333333, \"#9c179e\"], [0.4444444444444444, \"#bd3786\"], [0.5555555555555556, \"#d8576b\"], [0.6666666666666666, \"#ed7953\"], [0.7777777777777778, \"#fb9f3a\"], [0.8888888888888888, \"#fdca26\"], [1.0, \"#f0f921\"]], \"type\": \"heatmapgl\"}], \"histogram\": [{\"marker\": {\"colorbar\": {\"outlinewidth\": 0, \"ticks\": \"\"}}, \"type\": \"histogram\"}], \"histogram2d\": [{\"colorbar\": {\"outlinewidth\": 0, \"ticks\": \"\"}, \"colorscale\": [[0.0, \"#0d0887\"], [0.1111111111111111, \"#46039f\"], [0.2222222222222222, \"#7201a8\"], [0.3333333333333333, \"#9c179e\"], [0.4444444444444444, \"#bd3786\"], [0.5555555555555556, \"#d8576b\"], [0.6666666666666666, \"#ed7953\"], [0.7777777777777778, \"#fb9f3a\"], [0.8888888888888888, \"#fdca26\"], [1.0, \"#f0f921\"]], \"type\": \"histogram2d\"}], \"histogram2dcontour\": [{\"colorbar\": {\"outlinewidth\": 0, \"ticks\": \"\"}, \"colorscale\": [[0.0, \"#0d0887\"], [0.1111111111111111, \"#46039f\"], [0.2222222222222222, \"#7201a8\"], [0.3333333333333333, \"#9c179e\"], [0.4444444444444444, \"#bd3786\"], [0.5555555555555556, \"#d8576b\"], [0.6666666666666666, \"#ed7953\"], [0.7777777777777778, \"#fb9f3a\"], [0.8888888888888888, \"#fdca26\"], [1.0, \"#f0f921\"]], \"type\": \"histogram2dcontour\"}], \"mesh3d\": [{\"colorbar\": {\"outlinewidth\": 0, \"ticks\": \"\"}, \"type\": \"mesh3d\"}], \"parcoords\": [{\"line\": {\"colorbar\": {\"outlinewidth\": 0, \"ticks\": \"\"}}, \"type\": \"parcoords\"}], \"pie\": [{\"automargin\": true, \"type\": \"pie\"}], \"scatter\": [{\"marker\": {\"colorbar\": {\"outlinewidth\": 0, \"ticks\": \"\"}}, \"type\": \"scatter\"}], \"scatter3d\": [{\"line\": {\"colorbar\": {\"outlinewidth\": 0, \"ticks\": \"\"}}, \"marker\": {\"colorbar\": {\"outlinewidth\": 0, \"ticks\": \"\"}}, \"type\": \"scatter3d\"}], \"scattercarpet\": [{\"marker\": {\"colorbar\": {\"outlinewidth\": 0, \"ticks\": \"\"}}, \"type\": \"scattercarpet\"}], \"scattergeo\": [{\"marker\": {\"colorbar\": {\"outlinewidth\": 0, \"ticks\": \"\"}}, \"type\": \"scattergeo\"}], \"scattergl\": [{\"marker\": {\"colorbar\": {\"outlinewidth\": 0, \"ticks\": \"\"}}, \"type\": \"scattergl\"}], \"scattermapbox\": [{\"marker\": {\"colorbar\": {\"outlinewidth\": 0, \"ticks\": \"\"}}, \"type\": \"scattermapbox\"}], \"scatterpolar\": [{\"marker\": {\"colorbar\": {\"outlinewidth\": 0, \"ticks\": \"\"}}, \"type\": \"scatterpolar\"}], \"scatterpolargl\": [{\"marker\": {\"colorbar\": {\"outlinewidth\": 0, \"ticks\": \"\"}}, \"type\": \"scatterpolargl\"}], \"scatterternary\": [{\"marker\": {\"colorbar\": {\"outlinewidth\": 0, \"ticks\": \"\"}}, \"type\": \"scatterternary\"}], \"surface\": [{\"colorbar\": {\"outlinewidth\": 0, \"ticks\": \"\"}, \"colorscale\": [[0.0, \"#0d0887\"], [0.1111111111111111, \"#46039f\"], [0.2222222222222222, \"#7201a8\"], [0.3333333333333333, \"#9c179e\"], [0.4444444444444444, \"#bd3786\"], [0.5555555555555556, \"#d8576b\"], [0.6666666666666666, \"#ed7953\"], [0.7777777777777778, \"#fb9f3a\"], [0.8888888888888888, \"#fdca26\"], [1.0, \"#f0f921\"]], \"type\": \"surface\"}], \"table\": [{\"cells\": {\"fill\": {\"color\": \"#EBF0F8\"}, \"line\": {\"color\": \"white\"}}, \"header\": {\"fill\": {\"color\": \"#C8D4E3\"}, \"line\": {\"color\": \"white\"}}, \"type\": \"table\"}]}, \"layout\": {\"annotationdefaults\": {\"arrowcolor\": \"#2a3f5f\", \"arrowhead\": 0, \"arrowwidth\": 1}, \"coloraxis\": {\"colorbar\": {\"outlinewidth\": 0, \"ticks\": \"\"}}, \"colorscale\": {\"diverging\": [[0, \"#8e0152\"], [0.1, \"#c51b7d\"], [0.2, \"#de77ae\"], [0.3, \"#f1b6da\"], [0.4, \"#fde0ef\"], [0.5, \"#f7f7f7\"], [0.6, \"#e6f5d0\"], [0.7, \"#b8e186\"], [0.8, \"#7fbc41\"], [0.9, \"#4d9221\"], [1, \"#276419\"]], \"sequential\": [[0.0, \"#0d0887\"], [0.1111111111111111, \"#46039f\"], [0.2222222222222222, \"#7201a8\"], [0.3333333333333333, \"#9c179e\"], [0.4444444444444444, \"#bd3786\"], [0.5555555555555556, \"#d8576b\"], [0.6666666666666666, \"#ed7953\"], [0.7777777777777778, \"#fb9f3a\"], [0.8888888888888888, \"#fdca26\"], [1.0, \"#f0f921\"]], \"sequentialminus\": [[0.0, \"#0d0887\"], [0.1111111111111111, \"#46039f\"], [0.2222222222222222, \"#7201a8\"], [0.3333333333333333, \"#9c179e\"], [0.4444444444444444, \"#bd3786\"], [0.5555555555555556, \"#d8576b\"], [0.6666666666666666, \"#ed7953\"], [0.7777777777777778, \"#fb9f3a\"], [0.8888888888888888, \"#fdca26\"], [1.0, \"#f0f921\"]]}, \"colorway\": [\"#636efa\", \"#EF553B\", \"#00cc96\", \"#ab63fa\", \"#FFA15A\", \"#19d3f3\", \"#FF6692\", \"#B6E880\", \"#FF97FF\", \"#FECB52\"], \"font\": {\"color\": \"#2a3f5f\"}, \"geo\": {\"bgcolor\": \"white\", \"lakecolor\": \"white\", \"landcolor\": \"#E5ECF6\", \"showlakes\": true, \"showland\": true, \"subunitcolor\": \"white\"}, \"hoverlabel\": {\"align\": \"left\"}, \"hovermode\": \"closest\", \"mapbox\": {\"style\": \"light\"}, \"paper_bgcolor\": \"white\", \"plot_bgcolor\": \"#E5ECF6\", \"polar\": {\"angularaxis\": {\"gridcolor\": \"white\", \"linecolor\": \"white\", \"ticks\": \"\"}, \"bgcolor\": \"#E5ECF6\", \"radialaxis\": {\"gridcolor\": \"white\", \"linecolor\": \"white\", \"ticks\": \"\"}}, \"scene\": {\"xaxis\": {\"backgroundcolor\": \"#E5ECF6\", \"gridcolor\": \"white\", \"gridwidth\": 2, \"linecolor\": \"white\", \"showbackground\": true, \"ticks\": \"\", \"zerolinecolor\": \"white\"}, \"yaxis\": {\"backgroundcolor\": \"#E5ECF6\", \"gridcolor\": \"white\", \"gridwidth\": 2, \"linecolor\": \"white\", \"showbackground\": true, \"ticks\": \"\", \"zerolinecolor\": \"white\"}, \"zaxis\": {\"backgroundcolor\": \"#E5ECF6\", \"gridcolor\": \"white\", \"gridwidth\": 2, \"linecolor\": \"white\", \"showbackground\": true, \"ticks\": \"\", \"zerolinecolor\": \"white\"}}, \"shapedefaults\": {\"line\": {\"color\": \"#2a3f5f\"}}, \"ternary\": {\"aaxis\": {\"gridcolor\": \"white\", \"linecolor\": \"white\", \"ticks\": \"\"}, \"baxis\": {\"gridcolor\": \"white\", \"linecolor\": \"white\", \"ticks\": \"\"}, \"bgcolor\": \"#E5ECF6\", \"caxis\": {\"gridcolor\": \"white\", \"linecolor\": \"white\", \"ticks\": \"\"}}, \"title\": {\"x\": 0.05}, \"xaxis\": {\"automargin\": true, \"gridcolor\": \"white\", \"linecolor\": \"white\", \"ticks\": \"\", \"title\": {\"standoff\": 15}, \"zerolinecolor\": \"white\", \"zerolinewidth\": 2}, \"yaxis\": {\"automargin\": true, \"gridcolor\": \"white\", \"linecolor\": \"white\", \"ticks\": \"\", \"title\": {\"standoff\": 15}, \"zerolinecolor\": \"white\", \"zerolinewidth\": 2}}}, \"title\": {\"font\": {\"color\": \"#4D5663\"}, \"text\": \"Confirmed Deaths per day\"}, \"xaxis\": {\"gridcolor\": \"#E1E5ED\", \"showgrid\": true, \"tickfont\": {\"color\": \"#4D5663\"}, \"title\": {\"font\": {\"color\": \"#4D5663\"}, \"text\": \"Date\"}, \"zerolinecolor\": \"#E1E5ED\"}, \"yaxis\": {\"gridcolor\": \"#E1E5ED\", \"showgrid\": true, \"tickfont\": {\"color\": \"#4D5663\"}, \"title\": {\"font\": {\"color\": \"#4D5663\"}, \"text\": \"Deaths per day\"}, \"zerolinecolor\": \"#E1E5ED\"}},\n",
       "                        {\"showLink\": true, \"linkText\": \"Export to plot.ly\", \"plotlyServerURL\": \"https://plot.ly\", \"responsive\": true}\n",
       "                    ).then(function(){\n",
       "                            \n",
       "var gd = document.getElementById('7b0d1f91-9b96-4701-b662-46fd2e5c03c8');\n",
       "var x = new MutationObserver(function (mutations, observer) {{\n",
       "        var display = window.getComputedStyle(gd).display;\n",
       "        if (!display || display === 'none') {{\n",
       "            console.log([gd, 'removed!']);\n",
       "            Plotly.purge(gd);\n",
       "            observer.disconnect();\n",
       "        }}\n",
       "}});\n",
       "\n",
       "// Listen for the removal of the full notebook cells\n",
       "var notebookContainer = gd.closest('#notebook-container');\n",
       "if (notebookContainer) {{\n",
       "    x.observe(notebookContainer, {childList: true});\n",
       "}}\n",
       "\n",
       "// Listen for the clearing of the current output cell\n",
       "var outputEl = gd.closest('.output');\n",
       "if (outputEl) {{\n",
       "    x.observe(outputEl, {childList: true});\n",
       "}}\n",
       "\n",
       "                        })\n",
       "                };\n",
       "                });\n",
       "            </script>\n",
       "        </div>"
      ]
     },
     "metadata": {},
     "output_type": "display_data"
    },
    {
     "data": {
      "application/vnd.plotly.v1+json": {
       "config": {
        "linkText": "Export to plot.ly",
        "plotlyServerURL": "https://plot.ly",
        "showLink": true
       },
       "data": [
        {
         "line": {
          "color": "rgba(55, 128, 191, 1.0)",
          "dash": "solid",
          "shape": "linear",
          "width": 1.3
         },
         "marker": {
          "size": 5,
          "symbol": "circle"
         },
         "mode": "markers+lines",
         "name": "Guérisons/jrs",
         "text": "",
         "type": "scatter",
         "x": [
          "2020-06-21",
          "2020-06-20",
          "2020-06-19",
          "2020-06-18",
          "2020-06-17",
          "2020-06-16",
          "2020-06-15",
          "2020-06-14",
          "2020-06-13",
          "2020-06-12",
          "2020-06-11",
          "2020-06-10",
          "2020-06-09",
          "2020-06-08",
          "2020-06-07",
          "2020-06-06",
          "2020-06-05",
          "2020-06-04",
          "2020-06-03",
          "2020-06-02",
          "2020-06-01",
          "2020-05-31",
          "2020-05-30",
          "2020-05-29",
          "2020-05-28",
          "2020-05-27",
          "2020-05-26",
          "2020-05-25",
          "2020-05-24",
          "2020-05-23",
          "2020-05-22",
          "2020-05-21",
          "2020-05-20",
          "2020-05-19",
          "2020-05-18",
          "2020-05-17",
          "2020-05-16",
          "2020-05-15",
          "2020-05-14",
          "2020-05-13",
          "2020-05-12",
          "2020-05-11",
          "2020-05-10",
          "2020-05-09",
          "2020-05-08",
          "2020-05-07",
          "2020-05-06",
          "2020-05-05",
          "2020-05-04",
          "2020-05-03",
          "2020-05-02",
          "2020-05-01",
          "2020-04-30",
          "2020-04-29",
          "2020-04-28",
          "2020-04-27",
          "2020-04-26",
          "2020-04-25",
          "2020-04-24",
          "2020-04-23",
          "2020-04-22",
          "2020-04-21",
          "2020-04-20",
          "2020-04-19",
          "2020-04-18",
          "2020-04-17",
          "2020-04-16",
          "2020-04-15",
          "2020-04-14",
          "2020-04-13",
          "2020-04-12",
          "2020-04-11",
          "2020-04-10",
          "2020-04-09",
          "2020-04-08",
          "2020-04-07",
          "2020-04-06",
          "2020-04-05",
          "2020-04-04",
          "2020-04-03",
          "2020-04-02",
          "2020-04-01",
          "2020-03-31",
          "2020-03-30",
          "2020-03-29",
          "2020-03-28",
          "2020-03-27",
          "2020-03-26",
          "2020-03-25",
          "2020-03-24",
          "2020-03-23",
          "2020-03-22",
          "2020-03-21",
          "2020-03-20",
          "2020-03-19",
          "2020-03-18",
          "2020-03-17",
          "2020-03-16",
          "2020-03-15",
          "2020-03-14",
          "2020-03-13",
          "2020-03-12",
          "2020-03-11",
          "2020-03-10",
          "2020-03-09",
          "2020-03-08",
          "2020-03-07",
          "2020-03-06",
          "2020-03-05",
          "2020-03-04",
          "2020-03-03",
          "2020-03-02",
          "2020-03-01",
          "2020-02-29",
          "2020-02-28",
          "2020-02-27",
          "2020-02-26",
          "2020-02-25",
          "2020-02-24",
          "2020-02-23",
          "2020-02-22",
          "2020-02-21",
          "2020-02-20",
          "2020-02-19",
          "2020-02-18",
          "2020-02-17",
          "2020-02-16",
          "2020-02-15",
          "2020-02-14",
          "2020-02-13",
          "2020-02-12",
          "2020-02-11",
          "2020-02-10",
          "2020-02-09",
          "2020-02-08",
          "2020-02-07",
          "2020-02-06",
          "2020-02-05",
          "2020-02-04",
          "2020-02-03",
          "2020-02-02",
          "2020-02-01",
          "2020-01-31",
          "2020-01-30",
          "2020-01-29",
          "2020-01-28",
          "2020-01-27",
          "2020-01-26",
          "2020-01-25",
          "2020-01-24",
          "2020-01-23",
          "2020-01-22"
         ],
         "y": [
          17206,
          132528,
          90734,
          81265,
          118838,
          97897,
          87913,
          71422,
          85058,
          72770,
          85894,
          79164,
          82292,
          152672,
          55122,
          84705,
          131223,
          65023,
          75552,
          33525,
          54768,
          76651,
          71171,
          77686,
          65884,
          63556,
          55218,
          63176,
          55703,
          55880,
          108255,
          51274,
          58595,
          53125,
          48988,
          43278,
          56749,
          49174,
          39346,
          55268,
          37212,
          47236,
          33359,
          53714,
          37370,
          39329,
          46598,
          36108,
          37610,
          32124,
          40596,
          38574,
          42034,
          44061,
          34691,
          28234,
          49048,
          23265,
          54934,
          28792,
          29875,
          34081,
          21835,
          31584,
          23976,
          26236,
          31088,
          36758,
          25606,
          26933,
          19612,
          26014,
          22121,
          25314,
          28607,
          23539,
          16503,
          13860,
          20356,
          15533,
          17092,
          15143,
          13468,
          15484,
          9667,
          8500,
          8765,
          8380,
          6065,
          6741,
          3715,
          5567,
          4273,
          2441,
          1649,
          2473,
          2752,
          2054,
          3410,
          2373,
          1691,
          1557,
          2599,
          1892,
          1817,
          2336,
          2493,
          2069,
          2626,
          2942,
          2627,
          2886,
          2934,
          3071,
          3434,
          2893,
          2479,
          2678,
          1833,
          508,
          3996,
          713,
          2056,
          1769,
          1769,
          1718,
          1470,
          1337,
          1763,
          1145,
          467,
          737,
          702,
          628,
          605,
          524,
          363,
          272,
          229,
          151,
          188,
          62,
          79,
          17,
          19,
          46,
          9,
          13,
          3,
          6,
          2,
          28
         ]
        }
       ],
       "layout": {
        "legend": {
         "bgcolor": "#F5F6F9",
         "font": {
          "color": "#4D5663"
         }
        },
        "paper_bgcolor": "#F5F6F9",
        "plot_bgcolor": "#F5F6F9",
        "template": {
         "data": {
          "bar": [
           {
            "error_x": {
             "color": "#2a3f5f"
            },
            "error_y": {
             "color": "#2a3f5f"
            },
            "marker": {
             "line": {
              "color": "#E5ECF6",
              "width": 0.5
             }
            },
            "type": "bar"
           }
          ],
          "barpolar": [
           {
            "marker": {
             "line": {
              "color": "#E5ECF6",
              "width": 0.5
             }
            },
            "type": "barpolar"
           }
          ],
          "carpet": [
           {
            "aaxis": {
             "endlinecolor": "#2a3f5f",
             "gridcolor": "white",
             "linecolor": "white",
             "minorgridcolor": "white",
             "startlinecolor": "#2a3f5f"
            },
            "baxis": {
             "endlinecolor": "#2a3f5f",
             "gridcolor": "white",
             "linecolor": "white",
             "minorgridcolor": "white",
             "startlinecolor": "#2a3f5f"
            },
            "type": "carpet"
           }
          ],
          "choropleth": [
           {
            "colorbar": {
             "outlinewidth": 0,
             "ticks": ""
            },
            "type": "choropleth"
           }
          ],
          "contour": [
           {
            "colorbar": {
             "outlinewidth": 0,
             "ticks": ""
            },
            "colorscale": [
             [
              0,
              "#0d0887"
             ],
             [
              0.1111111111111111,
              "#46039f"
             ],
             [
              0.2222222222222222,
              "#7201a8"
             ],
             [
              0.3333333333333333,
              "#9c179e"
             ],
             [
              0.4444444444444444,
              "#bd3786"
             ],
             [
              0.5555555555555556,
              "#d8576b"
             ],
             [
              0.6666666666666666,
              "#ed7953"
             ],
             [
              0.7777777777777778,
              "#fb9f3a"
             ],
             [
              0.8888888888888888,
              "#fdca26"
             ],
             [
              1,
              "#f0f921"
             ]
            ],
            "type": "contour"
           }
          ],
          "contourcarpet": [
           {
            "colorbar": {
             "outlinewidth": 0,
             "ticks": ""
            },
            "type": "contourcarpet"
           }
          ],
          "heatmap": [
           {
            "colorbar": {
             "outlinewidth": 0,
             "ticks": ""
            },
            "colorscale": [
             [
              0,
              "#0d0887"
             ],
             [
              0.1111111111111111,
              "#46039f"
             ],
             [
              0.2222222222222222,
              "#7201a8"
             ],
             [
              0.3333333333333333,
              "#9c179e"
             ],
             [
              0.4444444444444444,
              "#bd3786"
             ],
             [
              0.5555555555555556,
              "#d8576b"
             ],
             [
              0.6666666666666666,
              "#ed7953"
             ],
             [
              0.7777777777777778,
              "#fb9f3a"
             ],
             [
              0.8888888888888888,
              "#fdca26"
             ],
             [
              1,
              "#f0f921"
             ]
            ],
            "type": "heatmap"
           }
          ],
          "heatmapgl": [
           {
            "colorbar": {
             "outlinewidth": 0,
             "ticks": ""
            },
            "colorscale": [
             [
              0,
              "#0d0887"
             ],
             [
              0.1111111111111111,
              "#46039f"
             ],
             [
              0.2222222222222222,
              "#7201a8"
             ],
             [
              0.3333333333333333,
              "#9c179e"
             ],
             [
              0.4444444444444444,
              "#bd3786"
             ],
             [
              0.5555555555555556,
              "#d8576b"
             ],
             [
              0.6666666666666666,
              "#ed7953"
             ],
             [
              0.7777777777777778,
              "#fb9f3a"
             ],
             [
              0.8888888888888888,
              "#fdca26"
             ],
             [
              1,
              "#f0f921"
             ]
            ],
            "type": "heatmapgl"
           }
          ],
          "histogram": [
           {
            "marker": {
             "colorbar": {
              "outlinewidth": 0,
              "ticks": ""
             }
            },
            "type": "histogram"
           }
          ],
          "histogram2d": [
           {
            "colorbar": {
             "outlinewidth": 0,
             "ticks": ""
            },
            "colorscale": [
             [
              0,
              "#0d0887"
             ],
             [
              0.1111111111111111,
              "#46039f"
             ],
             [
              0.2222222222222222,
              "#7201a8"
             ],
             [
              0.3333333333333333,
              "#9c179e"
             ],
             [
              0.4444444444444444,
              "#bd3786"
             ],
             [
              0.5555555555555556,
              "#d8576b"
             ],
             [
              0.6666666666666666,
              "#ed7953"
             ],
             [
              0.7777777777777778,
              "#fb9f3a"
             ],
             [
              0.8888888888888888,
              "#fdca26"
             ],
             [
              1,
              "#f0f921"
             ]
            ],
            "type": "histogram2d"
           }
          ],
          "histogram2dcontour": [
           {
            "colorbar": {
             "outlinewidth": 0,
             "ticks": ""
            },
            "colorscale": [
             [
              0,
              "#0d0887"
             ],
             [
              0.1111111111111111,
              "#46039f"
             ],
             [
              0.2222222222222222,
              "#7201a8"
             ],
             [
              0.3333333333333333,
              "#9c179e"
             ],
             [
              0.4444444444444444,
              "#bd3786"
             ],
             [
              0.5555555555555556,
              "#d8576b"
             ],
             [
              0.6666666666666666,
              "#ed7953"
             ],
             [
              0.7777777777777778,
              "#fb9f3a"
             ],
             [
              0.8888888888888888,
              "#fdca26"
             ],
             [
              1,
              "#f0f921"
             ]
            ],
            "type": "histogram2dcontour"
           }
          ],
          "mesh3d": [
           {
            "colorbar": {
             "outlinewidth": 0,
             "ticks": ""
            },
            "type": "mesh3d"
           }
          ],
          "parcoords": [
           {
            "line": {
             "colorbar": {
              "outlinewidth": 0,
              "ticks": ""
             }
            },
            "type": "parcoords"
           }
          ],
          "pie": [
           {
            "automargin": true,
            "type": "pie"
           }
          ],
          "scatter": [
           {
            "marker": {
             "colorbar": {
              "outlinewidth": 0,
              "ticks": ""
             }
            },
            "type": "scatter"
           }
          ],
          "scatter3d": [
           {
            "line": {
             "colorbar": {
              "outlinewidth": 0,
              "ticks": ""
             }
            },
            "marker": {
             "colorbar": {
              "outlinewidth": 0,
              "ticks": ""
             }
            },
            "type": "scatter3d"
           }
          ],
          "scattercarpet": [
           {
            "marker": {
             "colorbar": {
              "outlinewidth": 0,
              "ticks": ""
             }
            },
            "type": "scattercarpet"
           }
          ],
          "scattergeo": [
           {
            "marker": {
             "colorbar": {
              "outlinewidth": 0,
              "ticks": ""
             }
            },
            "type": "scattergeo"
           }
          ],
          "scattergl": [
           {
            "marker": {
             "colorbar": {
              "outlinewidth": 0,
              "ticks": ""
             }
            },
            "type": "scattergl"
           }
          ],
          "scattermapbox": [
           {
            "marker": {
             "colorbar": {
              "outlinewidth": 0,
              "ticks": ""
             }
            },
            "type": "scattermapbox"
           }
          ],
          "scatterpolar": [
           {
            "marker": {
             "colorbar": {
              "outlinewidth": 0,
              "ticks": ""
             }
            },
            "type": "scatterpolar"
           }
          ],
          "scatterpolargl": [
           {
            "marker": {
             "colorbar": {
              "outlinewidth": 0,
              "ticks": ""
             }
            },
            "type": "scatterpolargl"
           }
          ],
          "scatterternary": [
           {
            "marker": {
             "colorbar": {
              "outlinewidth": 0,
              "ticks": ""
             }
            },
            "type": "scatterternary"
           }
          ],
          "surface": [
           {
            "colorbar": {
             "outlinewidth": 0,
             "ticks": ""
            },
            "colorscale": [
             [
              0,
              "#0d0887"
             ],
             [
              0.1111111111111111,
              "#46039f"
             ],
             [
              0.2222222222222222,
              "#7201a8"
             ],
             [
              0.3333333333333333,
              "#9c179e"
             ],
             [
              0.4444444444444444,
              "#bd3786"
             ],
             [
              0.5555555555555556,
              "#d8576b"
             ],
             [
              0.6666666666666666,
              "#ed7953"
             ],
             [
              0.7777777777777778,
              "#fb9f3a"
             ],
             [
              0.8888888888888888,
              "#fdca26"
             ],
             [
              1,
              "#f0f921"
             ]
            ],
            "type": "surface"
           }
          ],
          "table": [
           {
            "cells": {
             "fill": {
              "color": "#EBF0F8"
             },
             "line": {
              "color": "white"
             }
            },
            "header": {
             "fill": {
              "color": "#C8D4E3"
             },
             "line": {
              "color": "white"
             }
            },
            "type": "table"
           }
          ]
         },
         "layout": {
          "annotationdefaults": {
           "arrowcolor": "#2a3f5f",
           "arrowhead": 0,
           "arrowwidth": 1
          },
          "coloraxis": {
           "colorbar": {
            "outlinewidth": 0,
            "ticks": ""
           }
          },
          "colorscale": {
           "diverging": [
            [
             0,
             "#8e0152"
            ],
            [
             0.1,
             "#c51b7d"
            ],
            [
             0.2,
             "#de77ae"
            ],
            [
             0.3,
             "#f1b6da"
            ],
            [
             0.4,
             "#fde0ef"
            ],
            [
             0.5,
             "#f7f7f7"
            ],
            [
             0.6,
             "#e6f5d0"
            ],
            [
             0.7,
             "#b8e186"
            ],
            [
             0.8,
             "#7fbc41"
            ],
            [
             0.9,
             "#4d9221"
            ],
            [
             1,
             "#276419"
            ]
           ],
           "sequential": [
            [
             0,
             "#0d0887"
            ],
            [
             0.1111111111111111,
             "#46039f"
            ],
            [
             0.2222222222222222,
             "#7201a8"
            ],
            [
             0.3333333333333333,
             "#9c179e"
            ],
            [
             0.4444444444444444,
             "#bd3786"
            ],
            [
             0.5555555555555556,
             "#d8576b"
            ],
            [
             0.6666666666666666,
             "#ed7953"
            ],
            [
             0.7777777777777778,
             "#fb9f3a"
            ],
            [
             0.8888888888888888,
             "#fdca26"
            ],
            [
             1,
             "#f0f921"
            ]
           ],
           "sequentialminus": [
            [
             0,
             "#0d0887"
            ],
            [
             0.1111111111111111,
             "#46039f"
            ],
            [
             0.2222222222222222,
             "#7201a8"
            ],
            [
             0.3333333333333333,
             "#9c179e"
            ],
            [
             0.4444444444444444,
             "#bd3786"
            ],
            [
             0.5555555555555556,
             "#d8576b"
            ],
            [
             0.6666666666666666,
             "#ed7953"
            ],
            [
             0.7777777777777778,
             "#fb9f3a"
            ],
            [
             0.8888888888888888,
             "#fdca26"
            ],
            [
             1,
             "#f0f921"
            ]
           ]
          },
          "colorway": [
           "#636efa",
           "#EF553B",
           "#00cc96",
           "#ab63fa",
           "#FFA15A",
           "#19d3f3",
           "#FF6692",
           "#B6E880",
           "#FF97FF",
           "#FECB52"
          ],
          "font": {
           "color": "#2a3f5f"
          },
          "geo": {
           "bgcolor": "white",
           "lakecolor": "white",
           "landcolor": "#E5ECF6",
           "showlakes": true,
           "showland": true,
           "subunitcolor": "white"
          },
          "hoverlabel": {
           "align": "left"
          },
          "hovermode": "closest",
          "mapbox": {
           "style": "light"
          },
          "paper_bgcolor": "white",
          "plot_bgcolor": "#E5ECF6",
          "polar": {
           "angularaxis": {
            "gridcolor": "white",
            "linecolor": "white",
            "ticks": ""
           },
           "bgcolor": "#E5ECF6",
           "radialaxis": {
            "gridcolor": "white",
            "linecolor": "white",
            "ticks": ""
           }
          },
          "scene": {
           "xaxis": {
            "backgroundcolor": "#E5ECF6",
            "gridcolor": "white",
            "gridwidth": 2,
            "linecolor": "white",
            "showbackground": true,
            "ticks": "",
            "zerolinecolor": "white"
           },
           "yaxis": {
            "backgroundcolor": "#E5ECF6",
            "gridcolor": "white",
            "gridwidth": 2,
            "linecolor": "white",
            "showbackground": true,
            "ticks": "",
            "zerolinecolor": "white"
           },
           "zaxis": {
            "backgroundcolor": "#E5ECF6",
            "gridcolor": "white",
            "gridwidth": 2,
            "linecolor": "white",
            "showbackground": true,
            "ticks": "",
            "zerolinecolor": "white"
           }
          },
          "shapedefaults": {
           "line": {
            "color": "#2a3f5f"
           }
          },
          "ternary": {
           "aaxis": {
            "gridcolor": "white",
            "linecolor": "white",
            "ticks": ""
           },
           "baxis": {
            "gridcolor": "white",
            "linecolor": "white",
            "ticks": ""
           },
           "bgcolor": "#E5ECF6",
           "caxis": {
            "gridcolor": "white",
            "linecolor": "white",
            "ticks": ""
           }
          },
          "title": {
           "x": 0.05
          },
          "xaxis": {
           "automargin": true,
           "gridcolor": "white",
           "linecolor": "white",
           "ticks": "",
           "title": {
            "standoff": 15
           },
           "zerolinecolor": "white",
           "zerolinewidth": 2
          },
          "yaxis": {
           "automargin": true,
           "gridcolor": "white",
           "linecolor": "white",
           "ticks": "",
           "title": {
            "standoff": 15
           },
           "zerolinecolor": "white",
           "zerolinewidth": 2
          }
         }
        },
        "title": {
         "font": {
          "color": "#4D5663"
         },
         "text": "Confirmed Cures per day"
        },
        "xaxis": {
         "gridcolor": "#E1E5ED",
         "showgrid": true,
         "tickfont": {
          "color": "#4D5663"
         },
         "title": {
          "font": {
           "color": "#4D5663"
          },
          "text": "Date"
         },
         "zerolinecolor": "#E1E5ED"
        },
        "yaxis": {
         "gridcolor": "#E1E5ED",
         "showgrid": true,
         "tickfont": {
          "color": "#4D5663"
         },
         "title": {
          "font": {
           "color": "#4D5663"
          },
          "text": "Cured per day"
         },
         "zerolinecolor": "#E1E5ED"
        }
       }
      },
      "text/html": [
       "<div>\n",
       "        \n",
       "        \n",
       "            <div id=\"ac09b04a-faca-41fb-ab93-1b7499ec594e\" class=\"plotly-graph-div\" style=\"height:525px; width:100%;\"></div>\n",
       "            <script type=\"text/javascript\">\n",
       "                require([\"plotly\"], function(Plotly) {\n",
       "                    window.PLOTLYENV=window.PLOTLYENV || {};\n",
       "                    window.PLOTLYENV.BASE_URL='https://plot.ly';\n",
       "                    \n",
       "                if (document.getElementById(\"ac09b04a-faca-41fb-ab93-1b7499ec594e\")) {\n",
       "                    Plotly.newPlot(\n",
       "                        'ac09b04a-faca-41fb-ab93-1b7499ec594e',\n",
       "                        [{\"line\": {\"color\": \"rgba(55, 128, 191, 1.0)\", \"dash\": \"solid\", \"shape\": \"linear\", \"width\": 1.3}, \"marker\": {\"size\": 5, \"symbol\": \"circle\"}, \"mode\": \"markers+lines\", \"name\": \"Gu\\u00e9risons/jrs\", \"text\": \"\", \"type\": \"scatter\", \"x\": [\"2020-06-21\", \"2020-06-20\", \"2020-06-19\", \"2020-06-18\", \"2020-06-17\", \"2020-06-16\", \"2020-06-15\", \"2020-06-14\", \"2020-06-13\", \"2020-06-12\", \"2020-06-11\", \"2020-06-10\", \"2020-06-09\", \"2020-06-08\", \"2020-06-07\", \"2020-06-06\", \"2020-06-05\", \"2020-06-04\", \"2020-06-03\", \"2020-06-02\", \"2020-06-01\", \"2020-05-31\", \"2020-05-30\", \"2020-05-29\", \"2020-05-28\", \"2020-05-27\", \"2020-05-26\", \"2020-05-25\", \"2020-05-24\", \"2020-05-23\", \"2020-05-22\", \"2020-05-21\", \"2020-05-20\", \"2020-05-19\", \"2020-05-18\", \"2020-05-17\", \"2020-05-16\", \"2020-05-15\", \"2020-05-14\", \"2020-05-13\", \"2020-05-12\", \"2020-05-11\", \"2020-05-10\", \"2020-05-09\", \"2020-05-08\", \"2020-05-07\", \"2020-05-06\", \"2020-05-05\", \"2020-05-04\", \"2020-05-03\", \"2020-05-02\", \"2020-05-01\", \"2020-04-30\", \"2020-04-29\", \"2020-04-28\", \"2020-04-27\", \"2020-04-26\", \"2020-04-25\", \"2020-04-24\", \"2020-04-23\", \"2020-04-22\", \"2020-04-21\", \"2020-04-20\", \"2020-04-19\", \"2020-04-18\", \"2020-04-17\", \"2020-04-16\", \"2020-04-15\", \"2020-04-14\", \"2020-04-13\", \"2020-04-12\", \"2020-04-11\", \"2020-04-10\", \"2020-04-09\", \"2020-04-08\", \"2020-04-07\", \"2020-04-06\", \"2020-04-05\", \"2020-04-04\", \"2020-04-03\", \"2020-04-02\", \"2020-04-01\", \"2020-03-31\", \"2020-03-30\", \"2020-03-29\", \"2020-03-28\", \"2020-03-27\", \"2020-03-26\", \"2020-03-25\", \"2020-03-24\", \"2020-03-23\", \"2020-03-22\", \"2020-03-21\", \"2020-03-20\", \"2020-03-19\", \"2020-03-18\", \"2020-03-17\", \"2020-03-16\", \"2020-03-15\", \"2020-03-14\", \"2020-03-13\", \"2020-03-12\", \"2020-03-11\", \"2020-03-10\", \"2020-03-09\", \"2020-03-08\", \"2020-03-07\", \"2020-03-06\", \"2020-03-05\", \"2020-03-04\", \"2020-03-03\", \"2020-03-02\", \"2020-03-01\", \"2020-02-29\", \"2020-02-28\", \"2020-02-27\", \"2020-02-26\", \"2020-02-25\", \"2020-02-24\", \"2020-02-23\", \"2020-02-22\", \"2020-02-21\", \"2020-02-20\", \"2020-02-19\", \"2020-02-18\", \"2020-02-17\", \"2020-02-16\", \"2020-02-15\", \"2020-02-14\", \"2020-02-13\", \"2020-02-12\", \"2020-02-11\", \"2020-02-10\", \"2020-02-09\", \"2020-02-08\", \"2020-02-07\", \"2020-02-06\", \"2020-02-05\", \"2020-02-04\", \"2020-02-03\", \"2020-02-02\", \"2020-02-01\", \"2020-01-31\", \"2020-01-30\", \"2020-01-29\", \"2020-01-28\", \"2020-01-27\", \"2020-01-26\", \"2020-01-25\", \"2020-01-24\", \"2020-01-23\", \"2020-01-22\"], \"y\": [17206, 132528, 90734, 81265, 118838, 97897, 87913, 71422, 85058, 72770, 85894, 79164, 82292, 152672, 55122, 84705, 131223, 65023, 75552, 33525, 54768, 76651, 71171, 77686, 65884, 63556, 55218, 63176, 55703, 55880, 108255, 51274, 58595, 53125, 48988, 43278, 56749, 49174, 39346, 55268, 37212, 47236, 33359, 53714, 37370, 39329, 46598, 36108, 37610, 32124, 40596, 38574, 42034, 44061, 34691, 28234, 49048, 23265, 54934, 28792, 29875, 34081, 21835, 31584, 23976, 26236, 31088, 36758, 25606, 26933, 19612, 26014, 22121, 25314, 28607, 23539, 16503, 13860, 20356, 15533, 17092, 15143, 13468, 15484, 9667, 8500, 8765, 8380, 6065, 6741, 3715, 5567, 4273, 2441, 1649, 2473, 2752, 2054, 3410, 2373, 1691, 1557, 2599, 1892, 1817, 2336, 2493, 2069, 2626, 2942, 2627, 2886, 2934, 3071, 3434, 2893, 2479, 2678, 1833, 508, 3996, 713, 2056, 1769, 1769, 1718, 1470, 1337, 1763, 1145, 467, 737, 702, 628, 605, 524, 363, 272, 229, 151, 188, 62, 79, 17, 19, 46, 9, 13, 3, 6, 2, 28]}],\n",
       "                        {\"legend\": {\"bgcolor\": \"#F5F6F9\", \"font\": {\"color\": \"#4D5663\"}}, \"paper_bgcolor\": \"#F5F6F9\", \"plot_bgcolor\": \"#F5F6F9\", \"template\": {\"data\": {\"bar\": [{\"error_x\": {\"color\": \"#2a3f5f\"}, \"error_y\": {\"color\": \"#2a3f5f\"}, \"marker\": {\"line\": {\"color\": \"#E5ECF6\", \"width\": 0.5}}, \"type\": \"bar\"}], \"barpolar\": [{\"marker\": {\"line\": {\"color\": \"#E5ECF6\", \"width\": 0.5}}, \"type\": \"barpolar\"}], \"carpet\": [{\"aaxis\": {\"endlinecolor\": \"#2a3f5f\", \"gridcolor\": \"white\", \"linecolor\": \"white\", \"minorgridcolor\": \"white\", \"startlinecolor\": \"#2a3f5f\"}, \"baxis\": {\"endlinecolor\": \"#2a3f5f\", \"gridcolor\": \"white\", \"linecolor\": \"white\", \"minorgridcolor\": \"white\", \"startlinecolor\": \"#2a3f5f\"}, \"type\": \"carpet\"}], \"choropleth\": [{\"colorbar\": {\"outlinewidth\": 0, \"ticks\": \"\"}, \"type\": \"choropleth\"}], \"contour\": [{\"colorbar\": {\"outlinewidth\": 0, \"ticks\": \"\"}, \"colorscale\": [[0.0, \"#0d0887\"], [0.1111111111111111, \"#46039f\"], [0.2222222222222222, \"#7201a8\"], [0.3333333333333333, \"#9c179e\"], [0.4444444444444444, \"#bd3786\"], [0.5555555555555556, \"#d8576b\"], [0.6666666666666666, \"#ed7953\"], [0.7777777777777778, \"#fb9f3a\"], [0.8888888888888888, \"#fdca26\"], [1.0, \"#f0f921\"]], \"type\": \"contour\"}], \"contourcarpet\": [{\"colorbar\": {\"outlinewidth\": 0, \"ticks\": \"\"}, \"type\": \"contourcarpet\"}], \"heatmap\": [{\"colorbar\": {\"outlinewidth\": 0, \"ticks\": \"\"}, \"colorscale\": [[0.0, \"#0d0887\"], [0.1111111111111111, \"#46039f\"], [0.2222222222222222, \"#7201a8\"], [0.3333333333333333, \"#9c179e\"], [0.4444444444444444, \"#bd3786\"], [0.5555555555555556, \"#d8576b\"], [0.6666666666666666, \"#ed7953\"], [0.7777777777777778, \"#fb9f3a\"], [0.8888888888888888, \"#fdca26\"], [1.0, \"#f0f921\"]], \"type\": \"heatmap\"}], \"heatmapgl\": [{\"colorbar\": {\"outlinewidth\": 0, \"ticks\": \"\"}, \"colorscale\": [[0.0, \"#0d0887\"], [0.1111111111111111, \"#46039f\"], [0.2222222222222222, \"#7201a8\"], [0.3333333333333333, \"#9c179e\"], [0.4444444444444444, \"#bd3786\"], [0.5555555555555556, \"#d8576b\"], [0.6666666666666666, \"#ed7953\"], [0.7777777777777778, \"#fb9f3a\"], [0.8888888888888888, \"#fdca26\"], [1.0, \"#f0f921\"]], \"type\": \"heatmapgl\"}], \"histogram\": [{\"marker\": {\"colorbar\": {\"outlinewidth\": 0, \"ticks\": \"\"}}, \"type\": \"histogram\"}], \"histogram2d\": [{\"colorbar\": {\"outlinewidth\": 0, \"ticks\": \"\"}, \"colorscale\": [[0.0, \"#0d0887\"], [0.1111111111111111, \"#46039f\"], [0.2222222222222222, \"#7201a8\"], [0.3333333333333333, \"#9c179e\"], [0.4444444444444444, \"#bd3786\"], [0.5555555555555556, \"#d8576b\"], [0.6666666666666666, \"#ed7953\"], [0.7777777777777778, \"#fb9f3a\"], [0.8888888888888888, \"#fdca26\"], [1.0, \"#f0f921\"]], \"type\": \"histogram2d\"}], \"histogram2dcontour\": [{\"colorbar\": {\"outlinewidth\": 0, \"ticks\": \"\"}, \"colorscale\": [[0.0, \"#0d0887\"], [0.1111111111111111, \"#46039f\"], [0.2222222222222222, \"#7201a8\"], [0.3333333333333333, \"#9c179e\"], [0.4444444444444444, \"#bd3786\"], [0.5555555555555556, \"#d8576b\"], [0.6666666666666666, \"#ed7953\"], [0.7777777777777778, \"#fb9f3a\"], [0.8888888888888888, \"#fdca26\"], [1.0, \"#f0f921\"]], \"type\": \"histogram2dcontour\"}], \"mesh3d\": [{\"colorbar\": {\"outlinewidth\": 0, \"ticks\": \"\"}, \"type\": \"mesh3d\"}], \"parcoords\": [{\"line\": {\"colorbar\": {\"outlinewidth\": 0, \"ticks\": \"\"}}, \"type\": \"parcoords\"}], \"pie\": [{\"automargin\": true, \"type\": \"pie\"}], \"scatter\": [{\"marker\": {\"colorbar\": {\"outlinewidth\": 0, \"ticks\": \"\"}}, \"type\": \"scatter\"}], \"scatter3d\": [{\"line\": {\"colorbar\": {\"outlinewidth\": 0, \"ticks\": \"\"}}, \"marker\": {\"colorbar\": {\"outlinewidth\": 0, \"ticks\": \"\"}}, \"type\": \"scatter3d\"}], \"scattercarpet\": [{\"marker\": {\"colorbar\": {\"outlinewidth\": 0, \"ticks\": \"\"}}, \"type\": \"scattercarpet\"}], \"scattergeo\": [{\"marker\": {\"colorbar\": {\"outlinewidth\": 0, \"ticks\": \"\"}}, \"type\": \"scattergeo\"}], \"scattergl\": [{\"marker\": {\"colorbar\": {\"outlinewidth\": 0, \"ticks\": \"\"}}, \"type\": \"scattergl\"}], \"scattermapbox\": [{\"marker\": {\"colorbar\": {\"outlinewidth\": 0, \"ticks\": \"\"}}, \"type\": \"scattermapbox\"}], \"scatterpolar\": [{\"marker\": {\"colorbar\": {\"outlinewidth\": 0, \"ticks\": \"\"}}, \"type\": \"scatterpolar\"}], \"scatterpolargl\": [{\"marker\": {\"colorbar\": {\"outlinewidth\": 0, \"ticks\": \"\"}}, \"type\": \"scatterpolargl\"}], \"scatterternary\": [{\"marker\": {\"colorbar\": {\"outlinewidth\": 0, \"ticks\": \"\"}}, \"type\": \"scatterternary\"}], \"surface\": [{\"colorbar\": {\"outlinewidth\": 0, \"ticks\": \"\"}, \"colorscale\": [[0.0, \"#0d0887\"], [0.1111111111111111, \"#46039f\"], [0.2222222222222222, \"#7201a8\"], [0.3333333333333333, \"#9c179e\"], [0.4444444444444444, \"#bd3786\"], [0.5555555555555556, \"#d8576b\"], [0.6666666666666666, \"#ed7953\"], [0.7777777777777778, \"#fb9f3a\"], [0.8888888888888888, \"#fdca26\"], [1.0, \"#f0f921\"]], \"type\": \"surface\"}], \"table\": [{\"cells\": {\"fill\": {\"color\": \"#EBF0F8\"}, \"line\": {\"color\": \"white\"}}, \"header\": {\"fill\": {\"color\": \"#C8D4E3\"}, \"line\": {\"color\": \"white\"}}, \"type\": \"table\"}]}, \"layout\": {\"annotationdefaults\": {\"arrowcolor\": \"#2a3f5f\", \"arrowhead\": 0, \"arrowwidth\": 1}, \"coloraxis\": {\"colorbar\": {\"outlinewidth\": 0, \"ticks\": \"\"}}, \"colorscale\": {\"diverging\": [[0, \"#8e0152\"], [0.1, \"#c51b7d\"], [0.2, \"#de77ae\"], [0.3, \"#f1b6da\"], [0.4, \"#fde0ef\"], [0.5, \"#f7f7f7\"], [0.6, \"#e6f5d0\"], [0.7, \"#b8e186\"], [0.8, \"#7fbc41\"], [0.9, \"#4d9221\"], [1, \"#276419\"]], \"sequential\": [[0.0, \"#0d0887\"], [0.1111111111111111, \"#46039f\"], [0.2222222222222222, \"#7201a8\"], [0.3333333333333333, \"#9c179e\"], [0.4444444444444444, \"#bd3786\"], [0.5555555555555556, \"#d8576b\"], [0.6666666666666666, \"#ed7953\"], [0.7777777777777778, \"#fb9f3a\"], [0.8888888888888888, \"#fdca26\"], [1.0, \"#f0f921\"]], \"sequentialminus\": [[0.0, \"#0d0887\"], [0.1111111111111111, \"#46039f\"], [0.2222222222222222, \"#7201a8\"], [0.3333333333333333, \"#9c179e\"], [0.4444444444444444, \"#bd3786\"], [0.5555555555555556, \"#d8576b\"], [0.6666666666666666, \"#ed7953\"], [0.7777777777777778, \"#fb9f3a\"], [0.8888888888888888, \"#fdca26\"], [1.0, \"#f0f921\"]]}, \"colorway\": [\"#636efa\", \"#EF553B\", \"#00cc96\", \"#ab63fa\", \"#FFA15A\", \"#19d3f3\", \"#FF6692\", \"#B6E880\", \"#FF97FF\", \"#FECB52\"], \"font\": {\"color\": \"#2a3f5f\"}, \"geo\": {\"bgcolor\": \"white\", \"lakecolor\": \"white\", \"landcolor\": \"#E5ECF6\", \"showlakes\": true, \"showland\": true, \"subunitcolor\": \"white\"}, \"hoverlabel\": {\"align\": \"left\"}, \"hovermode\": \"closest\", \"mapbox\": {\"style\": \"light\"}, \"paper_bgcolor\": \"white\", \"plot_bgcolor\": \"#E5ECF6\", \"polar\": {\"angularaxis\": {\"gridcolor\": \"white\", \"linecolor\": \"white\", \"ticks\": \"\"}, \"bgcolor\": \"#E5ECF6\", \"radialaxis\": {\"gridcolor\": \"white\", \"linecolor\": \"white\", \"ticks\": \"\"}}, \"scene\": {\"xaxis\": {\"backgroundcolor\": \"#E5ECF6\", \"gridcolor\": \"white\", \"gridwidth\": 2, \"linecolor\": \"white\", \"showbackground\": true, \"ticks\": \"\", \"zerolinecolor\": \"white\"}, \"yaxis\": {\"backgroundcolor\": \"#E5ECF6\", \"gridcolor\": \"white\", \"gridwidth\": 2, \"linecolor\": \"white\", \"showbackground\": true, \"ticks\": \"\", \"zerolinecolor\": \"white\"}, \"zaxis\": {\"backgroundcolor\": \"#E5ECF6\", \"gridcolor\": \"white\", \"gridwidth\": 2, \"linecolor\": \"white\", \"showbackground\": true, \"ticks\": \"\", \"zerolinecolor\": \"white\"}}, \"shapedefaults\": {\"line\": {\"color\": \"#2a3f5f\"}}, \"ternary\": {\"aaxis\": {\"gridcolor\": \"white\", \"linecolor\": \"white\", \"ticks\": \"\"}, \"baxis\": {\"gridcolor\": \"white\", \"linecolor\": \"white\", \"ticks\": \"\"}, \"bgcolor\": \"#E5ECF6\", \"caxis\": {\"gridcolor\": \"white\", \"linecolor\": \"white\", \"ticks\": \"\"}}, \"title\": {\"x\": 0.05}, \"xaxis\": {\"automargin\": true, \"gridcolor\": \"white\", \"linecolor\": \"white\", \"ticks\": \"\", \"title\": {\"standoff\": 15}, \"zerolinecolor\": \"white\", \"zerolinewidth\": 2}, \"yaxis\": {\"automargin\": true, \"gridcolor\": \"white\", \"linecolor\": \"white\", \"ticks\": \"\", \"title\": {\"standoff\": 15}, \"zerolinecolor\": \"white\", \"zerolinewidth\": 2}}}, \"title\": {\"font\": {\"color\": \"#4D5663\"}, \"text\": \"Confirmed Cures per day\"}, \"xaxis\": {\"gridcolor\": \"#E1E5ED\", \"showgrid\": true, \"tickfont\": {\"color\": \"#4D5663\"}, \"title\": {\"font\": {\"color\": \"#4D5663\"}, \"text\": \"Date\"}, \"zerolinecolor\": \"#E1E5ED\"}, \"yaxis\": {\"gridcolor\": \"#E1E5ED\", \"showgrid\": true, \"tickfont\": {\"color\": \"#4D5663\"}, \"title\": {\"font\": {\"color\": \"#4D5663\"}, \"text\": \"Cured per day\"}, \"zerolinecolor\": \"#E1E5ED\"}},\n",
       "                        {\"showLink\": true, \"linkText\": \"Export to plot.ly\", \"plotlyServerURL\": \"https://plot.ly\", \"responsive\": true}\n",
       "                    ).then(function(){\n",
       "                            \n",
       "var gd = document.getElementById('ac09b04a-faca-41fb-ab93-1b7499ec594e');\n",
       "var x = new MutationObserver(function (mutations, observer) {{\n",
       "        var display = window.getComputedStyle(gd).display;\n",
       "        if (!display || display === 'none') {{\n",
       "            console.log([gd, 'removed!']);\n",
       "            Plotly.purge(gd);\n",
       "            observer.disconnect();\n",
       "        }}\n",
       "}});\n",
       "\n",
       "// Listen for the removal of the full notebook cells\n",
       "var notebookContainer = gd.closest('#notebook-container');\n",
       "if (notebookContainer) {{\n",
       "    x.observe(notebookContainer, {childList: true});\n",
       "}}\n",
       "\n",
       "// Listen for the clearing of the current output cell\n",
       "var outputEl = gd.closest('.output');\n",
       "if (outputEl) {{\n",
       "    x.observe(outputEl, {childList: true});\n",
       "}}\n",
       "\n",
       "                        })\n",
       "                };\n",
       "                });\n",
       "            </script>\n",
       "        </div>"
      ]
     },
     "metadata": {},
     "output_type": "display_data"
    }
   ],
   "source": [
    "####USING PLOTLY\n",
    "df.iplot(kind='scatter',x='Date',y='Cas/jrs',mode='markers+lines',title='Confirmed Cases per day',xTitle='Date',yTitle='Cases per day',color=\"blue\",size=5)\n",
    "df.iplot(kind='scatter',x='Date',y='Décès/jrs',mode='markers+lines',title='Confirmed Deaths per day',xTitle='Date',yTitle='Deaths per day',color=\"blue\",size=5)\n",
    "df.iplot(kind='scatter',x='Date',y='Guérisons/jrs',mode='markers+lines',title='Confirmed Cures per day',xTitle='Date',yTitle='Cured per day',color=\"blue\",size=5)\n"
   ]
  },
  {
   "cell_type": "code",
   "execution_count": null,
   "metadata": {},
   "outputs": [],
   "source": []
  }
 ],
 "metadata": {
  "kernelspec": {
   "display_name": "Python 3",
   "language": "python",
   "name": "python3"
  },
  "language_info": {
   "codemirror_mode": {
    "name": "ipython",
    "version": 3
   },
   "file_extension": ".py",
   "mimetype": "text/x-python",
   "name": "python",
   "nbconvert_exporter": "python",
   "pygments_lexer": "ipython3",
   "version": "3.7.4"
  }
 },
 "nbformat": 4,
 "nbformat_minor": 2
}
