{
 "cells": [
  {
   "cell_type": "code",
   "execution_count": 120,
   "metadata": {},
   "outputs": [],
   "source": [
    "import import_ipynb\n",
    "import numpy as np\n",
    "\n",
    "import pandas as pd\n",
    "import matplotlib\n",
    "import matplotlib.pyplot as plt\n",
    "from matplotlib import style\n",
    "style.use('ggplot')\n",
    "%matplotlib inline\n",
    "\n",
    "import plotly\n",
    "import chart_studio.plotly as py\n",
    "\n",
    "import plotly.express as px\n",
    "import plotly.graph_objects as go\n",
    "plt.rcParams['figure.figsize']=17,8\n",
    "import cufflinks as cf\n",
    "\n",
    "import plotly.offline as pyo\n",
    "from plotly.offline import init_notebook_mode,plot,iplot\n",
    "\n",
    "\n",
    "import folium"
   ]
  },
  {
   "cell_type": "code",
   "execution_count": 121,
   "metadata": {},
   "outputs": [
    {
     "data": {
      "text/html": [
       "        <script type=\"text/javascript\">\n",
       "        window.PlotlyConfig = {MathJaxConfig: 'local'};\n",
       "        if (window.MathJax) {MathJax.Hub.Config({SVG: {font: \"STIX-Web\"}});}\n",
       "        if (typeof require !== 'undefined') {\n",
       "        require.undef(\"plotly\");\n",
       "        requirejs.config({\n",
       "            paths: {\n",
       "                'plotly': ['https://cdn.plot.ly/plotly-latest.min']\n",
       "            }\n",
       "        });\n",
       "        require(['plotly'], function(Plotly) {\n",
       "            window._Plotly = Plotly;\n",
       "        });\n",
       "        }\n",
       "        </script>\n",
       "        "
      ]
     },
     "metadata": {},
     "output_type": "display_data"
    },
    {
     "data": {
      "text/html": [
       "        <script type=\"text/javascript\">\n",
       "        window.PlotlyConfig = {MathJaxConfig: 'local'};\n",
       "        if (window.MathJax) {MathJax.Hub.Config({SVG: {font: \"STIX-Web\"}});}\n",
       "        if (typeof require !== 'undefined') {\n",
       "        require.undef(\"plotly\");\n",
       "        requirejs.config({\n",
       "            paths: {\n",
       "                'plotly': ['https://cdn.plot.ly/plotly-latest.min']\n",
       "            }\n",
       "        });\n",
       "        require(['plotly'], function(Plotly) {\n",
       "            window._Plotly = Plotly;\n",
       "        });\n",
       "        }\n",
       "        </script>\n",
       "        "
      ]
     },
     "metadata": {},
     "output_type": "display_data"
    }
   ],
   "source": [
    "pyo.init_notebook_mode(connected=True)\n",
    "cf.go_offline()"
   ]
  },
  {
   "cell_type": "code",
   "execution_count": 122,
   "metadata": {},
   "outputs": [
    {
     "data": {
      "text/html": [
       "<div>\n",
       "<style scoped>\n",
       "    .dataframe tbody tr th:only-of-type {\n",
       "        vertical-align: middle;\n",
       "    }\n",
       "\n",
       "    .dataframe tbody tr th {\n",
       "        vertical-align: top;\n",
       "    }\n",
       "\n",
       "    .dataframe thead th {\n",
       "        text-align: right;\n",
       "    }\n",
       "</style>\n",
       "<table border=\"1\" class=\"dataframe\">\n",
       "  <thead>\n",
       "    <tr style=\"text-align: right;\">\n",
       "      <th></th>\n",
       "      <th>Unnamed: 0</th>\n",
       "      <th>Date</th>\n",
       "      <th>Total Cas</th>\n",
       "      <th>Total Morts</th>\n",
       "      <th>Total Guérisons</th>\n",
       "      <th>% Décès</th>\n",
       "      <th>% Guérison</th>\n",
       "      <th>% Malade</th>\n",
       "      <th>Cas/jrs</th>\n",
       "      <th>Décès/jrs</th>\n",
       "      <th>Guérisons/jrs</th>\n",
       "    </tr>\n",
       "  </thead>\n",
       "  <tbody>\n",
       "    <tr>\n",
       "      <td>0</td>\n",
       "      <td>0</td>\n",
       "      <td>2020-06-21</td>\n",
       "      <td>8 858 407</td>\n",
       "      <td>465 823</td>\n",
       "      <td>4 399 131</td>\n",
       "      <td>5,26%</td>\n",
       "      <td>49,66%</td>\n",
       "      <td>45,08%</td>\n",
       "      <td>+59 722</td>\n",
       "      <td>+1 293</td>\n",
       "      <td>+17 206</td>\n",
       "    </tr>\n",
       "    <tr>\n",
       "      <td>1</td>\n",
       "      <td>1</td>\n",
       "      <td>2020-06-20</td>\n",
       "      <td>8 798 685</td>\n",
       "      <td>464 530</td>\n",
       "      <td>4 381 925</td>\n",
       "      <td>5,28%</td>\n",
       "      <td>49,80%</td>\n",
       "      <td>44,92%</td>\n",
       "      <td>+127 023</td>\n",
       "      <td>+4 449</td>\n",
       "      <td>+132 528</td>\n",
       "    </tr>\n",
       "    <tr>\n",
       "      <td>2</td>\n",
       "      <td>2</td>\n",
       "      <td>2020-06-19</td>\n",
       "      <td>8 671 662</td>\n",
       "      <td>460 081</td>\n",
       "      <td>4 249 397</td>\n",
       "      <td>5,31%</td>\n",
       "      <td>49,00%</td>\n",
       "      <td>45,69%</td>\n",
       "      <td>+176 251</td>\n",
       "      <td>+6 033</td>\n",
       "      <td>+90 734</td>\n",
       "    </tr>\n",
       "    <tr>\n",
       "      <td>3</td>\n",
       "      <td>3</td>\n",
       "      <td>2020-06-18</td>\n",
       "      <td>8 495 411</td>\n",
       "      <td>454 048</td>\n",
       "      <td>4 158 663</td>\n",
       "      <td>5,34%</td>\n",
       "      <td>48,95%</td>\n",
       "      <td>45,70%</td>\n",
       "      <td>+139 293</td>\n",
       "      <td>+5 026</td>\n",
       "      <td>+81 265</td>\n",
       "    </tr>\n",
       "    <tr>\n",
       "      <td>4</td>\n",
       "      <td>4</td>\n",
       "      <td>2020-06-17</td>\n",
       "      <td>8 356 118</td>\n",
       "      <td>449 022</td>\n",
       "      <td>4 077 398</td>\n",
       "      <td>5,37%</td>\n",
       "      <td>48,80%</td>\n",
       "      <td>45,83%</td>\n",
       "      <td>+176 157</td>\n",
       "      <td>+5 274</td>\n",
       "      <td>+118 838</td>\n",
       "    </tr>\n",
       "  </tbody>\n",
       "</table>\n",
       "</div>"
      ],
      "text/plain": [
       "   Unnamed: 0        Date  Total Cas Total Morts Total Guérisons % Décès  \\\n",
       "0           0  2020-06-21  8 858 407     465 823       4 399 131   5,26%   \n",
       "1           1  2020-06-20  8 798 685     464 530       4 381 925   5,28%   \n",
       "2           2  2020-06-19  8 671 662     460 081       4 249 397   5,31%   \n",
       "3           3  2020-06-18  8 495 411     454 048       4 158 663   5,34%   \n",
       "4           4  2020-06-17  8 356 118     449 022       4 077 398   5,37%   \n",
       "\n",
       "  % Guérison % Malade   Cas/jrs Décès/jrs Guérisons/jrs  \n",
       "0     49,66%   45,08%   +59 722    +1 293       +17 206  \n",
       "1     49,80%   44,92%  +127 023    +4 449      +132 528  \n",
       "2     49,00%   45,69%  +176 251    +6 033       +90 734  \n",
       "3     48,95%   45,70%  +139 293    +5 026       +81 265  \n",
       "4     48,80%   45,83%  +176 157    +5 274      +118 838  "
      ]
     },
     "execution_count": 122,
     "metadata": {},
     "output_type": "execute_result"
    }
   ],
   "source": [
    "df= pd.read_excel(r\"C:\\Users\\Abdouuulbari\\Desktop\\ELITECH\\Python\\DATA_IMP\\EXCEL_FILES\\world_evolution_covid19.xlsx\")\n",
    "\n",
    "df.head()"
   ]
  },
  {
   "cell_type": "code",
   "execution_count": 123,
   "metadata": {},
   "outputs": [],
   "source": [
    "df.drop([\"Unnamed: 0\"],axis=1,inplace=True)\n",
    "df.rename(columns={\"Total Cas\":\"T_Cas\",\"Total Morts\":\"T_Morts\",\"Total Guérisons\":\"T_Guérisons\"},inplace=True)"
   ]
  },
  {
   "cell_type": "code",
   "execution_count": 124,
   "metadata": {},
   "outputs": [
    {
     "data": {
      "text/html": [
       "<div>\n",
       "<style scoped>\n",
       "    .dataframe tbody tr th:only-of-type {\n",
       "        vertical-align: middle;\n",
       "    }\n",
       "\n",
       "    .dataframe tbody tr th {\n",
       "        vertical-align: top;\n",
       "    }\n",
       "\n",
       "    .dataframe thead th {\n",
       "        text-align: right;\n",
       "    }\n",
       "</style>\n",
       "<table border=\"1\" class=\"dataframe\">\n",
       "  <thead>\n",
       "    <tr style=\"text-align: right;\">\n",
       "      <th></th>\n",
       "      <th>Date</th>\n",
       "      <th>T_Cas</th>\n",
       "      <th>T_Morts</th>\n",
       "      <th>T_Guérisons</th>\n",
       "      <th>% Décès</th>\n",
       "      <th>% Guérison</th>\n",
       "      <th>% Malade</th>\n",
       "      <th>Cas/jrs</th>\n",
       "      <th>Décès/jrs</th>\n",
       "      <th>Guérisons/jrs</th>\n",
       "    </tr>\n",
       "  </thead>\n",
       "  <tbody>\n",
       "    <tr>\n",
       "      <td>0</td>\n",
       "      <td>2020-06-21</td>\n",
       "      <td>8 858 407</td>\n",
       "      <td>465 823</td>\n",
       "      <td>4 399 131</td>\n",
       "      <td>5,26%</td>\n",
       "      <td>49,66%</td>\n",
       "      <td>45,08%</td>\n",
       "      <td>+59 722</td>\n",
       "      <td>+1 293</td>\n",
       "      <td>+17 206</td>\n",
       "    </tr>\n",
       "    <tr>\n",
       "      <td>1</td>\n",
       "      <td>2020-06-20</td>\n",
       "      <td>8 798 685</td>\n",
       "      <td>464 530</td>\n",
       "      <td>4 381 925</td>\n",
       "      <td>5,28%</td>\n",
       "      <td>49,80%</td>\n",
       "      <td>44,92%</td>\n",
       "      <td>+127 023</td>\n",
       "      <td>+4 449</td>\n",
       "      <td>+132 528</td>\n",
       "    </tr>\n",
       "    <tr>\n",
       "      <td>2</td>\n",
       "      <td>2020-06-19</td>\n",
       "      <td>8 671 662</td>\n",
       "      <td>460 081</td>\n",
       "      <td>4 249 397</td>\n",
       "      <td>5,31%</td>\n",
       "      <td>49,00%</td>\n",
       "      <td>45,69%</td>\n",
       "      <td>+176 251</td>\n",
       "      <td>+6 033</td>\n",
       "      <td>+90 734</td>\n",
       "    </tr>\n",
       "    <tr>\n",
       "      <td>3</td>\n",
       "      <td>2020-06-18</td>\n",
       "      <td>8 495 411</td>\n",
       "      <td>454 048</td>\n",
       "      <td>4 158 663</td>\n",
       "      <td>5,34%</td>\n",
       "      <td>48,95%</td>\n",
       "      <td>45,70%</td>\n",
       "      <td>+139 293</td>\n",
       "      <td>+5 026</td>\n",
       "      <td>+81 265</td>\n",
       "    </tr>\n",
       "    <tr>\n",
       "      <td>4</td>\n",
       "      <td>2020-06-17</td>\n",
       "      <td>8 356 118</td>\n",
       "      <td>449 022</td>\n",
       "      <td>4 077 398</td>\n",
       "      <td>5,37%</td>\n",
       "      <td>48,80%</td>\n",
       "      <td>45,83%</td>\n",
       "      <td>+176 157</td>\n",
       "      <td>+5 274</td>\n",
       "      <td>+118 838</td>\n",
       "    </tr>\n",
       "  </tbody>\n",
       "</table>\n",
       "</div>"
      ],
      "text/plain": [
       "         Date      T_Cas  T_Morts T_Guérisons % Décès % Guérison % Malade  \\\n",
       "0  2020-06-21  8 858 407  465 823   4 399 131   5,26%     49,66%   45,08%   \n",
       "1  2020-06-20  8 798 685  464 530   4 381 925   5,28%     49,80%   44,92%   \n",
       "2  2020-06-19  8 671 662  460 081   4 249 397   5,31%     49,00%   45,69%   \n",
       "3  2020-06-18  8 495 411  454 048   4 158 663   5,34%     48,95%   45,70%   \n",
       "4  2020-06-17  8 356 118  449 022   4 077 398   5,37%     48,80%   45,83%   \n",
       "\n",
       "    Cas/jrs Décès/jrs Guérisons/jrs  \n",
       "0   +59 722    +1 293       +17 206  \n",
       "1  +127 023    +4 449      +132 528  \n",
       "2  +176 251    +6 033       +90 734  \n",
       "3  +139 293    +5 026       +81 265  \n",
       "4  +176 157    +5 274      +118 838  "
      ]
     },
     "execution_count": 124,
     "metadata": {},
     "output_type": "execute_result"
    }
   ],
   "source": [
    "df.head()"
   ]
  },
  {
   "cell_type": "code",
   "execution_count": 125,
   "metadata": {},
   "outputs": [
    {
     "data": {
      "text/plain": [
       "Date             object\n",
       "T_Cas            object\n",
       "T_Morts          object\n",
       "T_Guérisons      object\n",
       "% Décès          object\n",
       "% Guérison       object\n",
       "% Malade         object\n",
       "Cas/jrs          object\n",
       "Décès/jrs        object\n",
       "Guérisons/jrs    object\n",
       "dtype: object"
      ]
     },
     "execution_count": 125,
     "metadata": {},
     "output_type": "execute_result"
    }
   ],
   "source": [
    "df.dtypes"
   ]
  },
  {
   "cell_type": "code",
   "execution_count": 126,
   "metadata": {},
   "outputs": [],
   "source": [
    "#### changing columns type"
   ]
  },
  {
   "cell_type": "code",
   "execution_count": 127,
   "metadata": {},
   "outputs": [
    {
     "data": {
      "text/plain": [
       "Date             datetime64[ns]\n",
       "T_Cas                    object\n",
       "T_Morts                  object\n",
       "T_Guérisons              object\n",
       "% Décès                  object\n",
       "% Guérison               object\n",
       "% Malade                 object\n",
       "Cas/jrs                  object\n",
       "Décès/jrs                object\n",
       "Guérisons/jrs            object\n",
       "dtype: object"
      ]
     },
     "execution_count": 127,
     "metadata": {},
     "output_type": "execute_result"
    }
   ],
   "source": [
    "df = df.replace(np.nan, 0, regex=True)\n",
    "df['Date'] = pd.to_datetime(df['Date'],  format = '%Y/%m/%d')\n",
    "df.dtypes"
   ]
  },
  {
   "cell_type": "code",
   "execution_count": 128,
   "metadata": {},
   "outputs": [],
   "source": [
    "#df['T_Cas']=df['T_Cas'].astype(long)\n",
    "#df['T_Cas'].astype(str).astype('int64')"
   ]
  },
  {
   "cell_type": "code",
   "execution_count": 129,
   "metadata": {},
   "outputs": [
    {
     "data": {
      "text/plain": [
       "dtype('O')"
      ]
     },
     "execution_count": 129,
     "metadata": {},
     "output_type": "execute_result"
    }
   ],
   "source": [
    "df[\"T_Cas\"].dtypes"
   ]
  },
  {
   "cell_type": "code",
   "execution_count": 130,
   "metadata": {
    "scrolled": true
   },
   "outputs": [
    {
     "data": {
      "text/html": [
       "<div>\n",
       "<style scoped>\n",
       "    .dataframe tbody tr th:only-of-type {\n",
       "        vertical-align: middle;\n",
       "    }\n",
       "\n",
       "    .dataframe tbody tr th {\n",
       "        vertical-align: top;\n",
       "    }\n",
       "\n",
       "    .dataframe thead th {\n",
       "        text-align: right;\n",
       "    }\n",
       "</style>\n",
       "<table border=\"1\" class=\"dataframe\">\n",
       "  <thead>\n",
       "    <tr style=\"text-align: right;\">\n",
       "      <th></th>\n",
       "      <th>Date</th>\n",
       "      <th>T_Cas</th>\n",
       "      <th>T_Morts</th>\n",
       "      <th>T_Guérisons</th>\n",
       "      <th>% Décès</th>\n",
       "      <th>% Guérison</th>\n",
       "      <th>% Malade</th>\n",
       "      <th>Cas/jrs</th>\n",
       "      <th>Décès/jrs</th>\n",
       "      <th>Guérisons/jrs</th>\n",
       "    </tr>\n",
       "  </thead>\n",
       "  <tbody>\n",
       "    <tr>\n",
       "      <td>0</td>\n",
       "      <td>2020-06-21</td>\n",
       "      <td>8 858 407</td>\n",
       "      <td>465 823</td>\n",
       "      <td>4 399 131</td>\n",
       "      <td>5,26%</td>\n",
       "      <td>49,66%</td>\n",
       "      <td>45,08%</td>\n",
       "      <td>+59 722</td>\n",
       "      <td>+1 293</td>\n",
       "      <td>+17 206</td>\n",
       "    </tr>\n",
       "    <tr>\n",
       "      <td>1</td>\n",
       "      <td>2020-06-20</td>\n",
       "      <td>8 798 685</td>\n",
       "      <td>464 530</td>\n",
       "      <td>4 381 925</td>\n",
       "      <td>5,28%</td>\n",
       "      <td>49,80%</td>\n",
       "      <td>44,92%</td>\n",
       "      <td>+127 023</td>\n",
       "      <td>+4 449</td>\n",
       "      <td>+132 528</td>\n",
       "    </tr>\n",
       "    <tr>\n",
       "      <td>2</td>\n",
       "      <td>2020-06-19</td>\n",
       "      <td>8 671 662</td>\n",
       "      <td>460 081</td>\n",
       "      <td>4 249 397</td>\n",
       "      <td>5,31%</td>\n",
       "      <td>49,00%</td>\n",
       "      <td>45,69%</td>\n",
       "      <td>+176 251</td>\n",
       "      <td>+6 033</td>\n",
       "      <td>+90 734</td>\n",
       "    </tr>\n",
       "    <tr>\n",
       "      <td>3</td>\n",
       "      <td>2020-06-18</td>\n",
       "      <td>8 495 411</td>\n",
       "      <td>454 048</td>\n",
       "      <td>4 158 663</td>\n",
       "      <td>5,34%</td>\n",
       "      <td>48,95%</td>\n",
       "      <td>45,70%</td>\n",
       "      <td>+139 293</td>\n",
       "      <td>+5 026</td>\n",
       "      <td>+81 265</td>\n",
       "    </tr>\n",
       "    <tr>\n",
       "      <td>4</td>\n",
       "      <td>2020-06-17</td>\n",
       "      <td>8 356 118</td>\n",
       "      <td>449 022</td>\n",
       "      <td>4 077 398</td>\n",
       "      <td>5,37%</td>\n",
       "      <td>48,80%</td>\n",
       "      <td>45,83%</td>\n",
       "      <td>+176 157</td>\n",
       "      <td>+5 274</td>\n",
       "      <td>+118 838</td>\n",
       "    </tr>\n",
       "    <tr>\n",
       "      <td>...</td>\n",
       "      <td>...</td>\n",
       "      <td>...</td>\n",
       "      <td>...</td>\n",
       "      <td>...</td>\n",
       "      <td>...</td>\n",
       "      <td>...</td>\n",
       "      <td>...</td>\n",
       "      <td>...</td>\n",
       "      <td>...</td>\n",
       "      <td>...</td>\n",
       "    </tr>\n",
       "    <tr>\n",
       "      <td>147</td>\n",
       "      <td>2020-01-26</td>\n",
       "      <td>2 118</td>\n",
       "      <td>56</td>\n",
       "      <td>52</td>\n",
       "      <td>2,64%</td>\n",
       "      <td>2,46%</td>\n",
       "      <td>94,90%</td>\n",
       "      <td>+680</td>\n",
       "      <td>+14</td>\n",
       "      <td>+13</td>\n",
       "    </tr>\n",
       "    <tr>\n",
       "      <td>148</td>\n",
       "      <td>2020-01-25</td>\n",
       "      <td>1 438</td>\n",
       "      <td>42</td>\n",
       "      <td>39</td>\n",
       "      <td>2,92%</td>\n",
       "      <td>2,71%</td>\n",
       "      <td>94,37%</td>\n",
       "      <td>+497</td>\n",
       "      <td>+16</td>\n",
       "      <td>+3</td>\n",
       "    </tr>\n",
       "    <tr>\n",
       "      <td>149</td>\n",
       "      <td>2020-01-24</td>\n",
       "      <td>941</td>\n",
       "      <td>26</td>\n",
       "      <td>36</td>\n",
       "      <td>2,76%</td>\n",
       "      <td>3,83%</td>\n",
       "      <td>93,41%</td>\n",
       "      <td>+288</td>\n",
       "      <td>+8</td>\n",
       "      <td>+6</td>\n",
       "    </tr>\n",
       "    <tr>\n",
       "      <td>150</td>\n",
       "      <td>2020-01-23</td>\n",
       "      <td>653</td>\n",
       "      <td>18</td>\n",
       "      <td>30</td>\n",
       "      <td>2,76%</td>\n",
       "      <td>4,59%</td>\n",
       "      <td>92,65%</td>\n",
       "      <td>+98</td>\n",
       "      <td>+1</td>\n",
       "      <td>+2</td>\n",
       "    </tr>\n",
       "    <tr>\n",
       "      <td>151</td>\n",
       "      <td>2020-01-22</td>\n",
       "      <td>555</td>\n",
       "      <td>17</td>\n",
       "      <td>28</td>\n",
       "      <td>3,06%</td>\n",
       "      <td>5,05%</td>\n",
       "      <td>91,89%</td>\n",
       "      <td>+555</td>\n",
       "      <td>+17</td>\n",
       "      <td>+28</td>\n",
       "    </tr>\n",
       "  </tbody>\n",
       "</table>\n",
       "<p>152 rows × 10 columns</p>\n",
       "</div>"
      ],
      "text/plain": [
       "          Date      T_Cas  T_Morts T_Guérisons % Décès % Guérison % Malade  \\\n",
       "0   2020-06-21  8 858 407  465 823   4 399 131   5,26%     49,66%   45,08%   \n",
       "1   2020-06-20  8 798 685  464 530   4 381 925   5,28%     49,80%   44,92%   \n",
       "2   2020-06-19  8 671 662  460 081   4 249 397   5,31%     49,00%   45,69%   \n",
       "3   2020-06-18  8 495 411  454 048   4 158 663   5,34%     48,95%   45,70%   \n",
       "4   2020-06-17  8 356 118  449 022   4 077 398   5,37%     48,80%   45,83%   \n",
       "..         ...        ...      ...         ...     ...        ...      ...   \n",
       "147 2020-01-26      2 118       56          52   2,64%      2,46%   94,90%   \n",
       "148 2020-01-25      1 438       42          39   2,92%      2,71%   94,37%   \n",
       "149 2020-01-24        941       26          36   2,76%      3,83%   93,41%   \n",
       "150 2020-01-23        653       18          30   2,76%      4,59%   92,65%   \n",
       "151 2020-01-22        555       17          28   3,06%      5,05%   91,89%   \n",
       "\n",
       "      Cas/jrs Décès/jrs Guérisons/jrs  \n",
       "0     +59 722    +1 293       +17 206  \n",
       "1    +127 023    +4 449      +132 528  \n",
       "2    +176 251    +6 033       +90 734  \n",
       "3    +139 293    +5 026       +81 265  \n",
       "4    +176 157    +5 274      +118 838  \n",
       "..        ...       ...           ...  \n",
       "147      +680       +14           +13  \n",
       "148      +497       +16            +3  \n",
       "149      +288        +8            +6  \n",
       "150       +98        +1            +2  \n",
       "151      +555       +17           +28  \n",
       "\n",
       "[152 rows x 10 columns]"
      ]
     },
     "execution_count": 130,
     "metadata": {},
     "output_type": "execute_result"
    }
   ],
   "source": [
    "df"
   ]
  },
  {
   "cell_type": "code",
   "execution_count": 131,
   "metadata": {
    "scrolled": true
   },
   "outputs": [
    {
     "ename": "AttributeError",
     "evalue": "'int' object has no attribute 'replace'",
     "output_type": "error",
     "traceback": [
      "\u001b[1;31m---------------------------------------------------------------------------\u001b[0m",
      "\u001b[1;31mAttributeError\u001b[0m                            Traceback (most recent call last)",
      "\u001b[1;32m<ipython-input-131-3bf18a232ee1>\u001b[0m in \u001b[0;36m<module>\u001b[1;34m\u001b[0m\n\u001b[0;32m      1\u001b[0m \u001b[1;32mfor\u001b[0m \u001b[0mi\u001b[0m \u001b[1;32min\u001b[0m \u001b[0mrange\u001b[0m\u001b[1;33m(\u001b[0m\u001b[0mlen\u001b[0m\u001b[1;33m(\u001b[0m\u001b[0mdf\u001b[0m\u001b[1;33m[\u001b[0m\u001b[1;34m\"T_Cas\"\u001b[0m\u001b[1;33m]\u001b[0m\u001b[1;33m)\u001b[0m\u001b[1;33m)\u001b[0m\u001b[1;33m:\u001b[0m\u001b[1;33m\u001b[0m\u001b[1;33m\u001b[0m\u001b[0m\n\u001b[1;32m----> 2\u001b[1;33m     \u001b[0mdf\u001b[0m\u001b[1;33m[\u001b[0m\u001b[1;34m\"T_Cas\"\u001b[0m\u001b[1;33m]\u001b[0m\u001b[1;33m[\u001b[0m\u001b[0mi\u001b[0m\u001b[1;33m]\u001b[0m\u001b[1;33m=\u001b[0m\u001b[0mint\u001b[0m\u001b[1;33m(\u001b[0m\u001b[0mdf\u001b[0m\u001b[1;33m[\u001b[0m\u001b[1;34m\"T_Cas\"\u001b[0m\u001b[1;33m]\u001b[0m\u001b[1;33m[\u001b[0m\u001b[0mi\u001b[0m\u001b[1;33m]\u001b[0m\u001b[1;33m.\u001b[0m\u001b[0mreplace\u001b[0m\u001b[1;33m(\u001b[0m\u001b[1;34m'\\xa0'\u001b[0m\u001b[1;33m,\u001b[0m\u001b[1;34m''\u001b[0m\u001b[1;33m)\u001b[0m\u001b[1;33m)\u001b[0m\u001b[1;33m\u001b[0m\u001b[1;33m\u001b[0m\u001b[0m\n\u001b[0m\u001b[0;32m      3\u001b[0m \u001b[0mdf\u001b[0m\u001b[1;33m[\u001b[0m\u001b[1;34m\"T_Cas\"\u001b[0m\u001b[1;33m]\u001b[0m\u001b[1;33m.\u001b[0m\u001b[0msum\u001b[0m\u001b[1;33m(\u001b[0m\u001b[1;33m)\u001b[0m\u001b[1;33m\u001b[0m\u001b[1;33m\u001b[0m\u001b[0m\n",
      "\u001b[1;31mAttributeError\u001b[0m: 'int' object has no attribute 'replace'"
     ]
    }
   ],
   "source": [
    "for i in range(len(df[\"T_Cas\"])):\n",
    "    df[\"T_Cas\"][i]=int(df[\"T_Cas\"][i].replace('\\xa0',''))\n",
    "df[\"T_Cas\"].sum()"
   ]
  },
  {
   "cell_type": "code",
   "execution_count": 132,
   "metadata": {},
   "outputs": [
    {
     "data": {
      "text/plain": [
       "23031499"
      ]
     },
     "execution_count": 132,
     "metadata": {},
     "output_type": "execute_result"
    }
   ],
   "source": [
    "\n",
    "for i in range(len(df[\"T_Morts\"])):\n",
    "    df[\"T_Morts\"][i]=int(df[\"T_Morts\"][i].replace('\\xa0',''))\n",
    "df[\"T_Morts\"].sum()"
   ]
  },
  {
   "cell_type": "code",
   "execution_count": 133,
   "metadata": {},
   "outputs": [
    {
     "data": {
      "text/plain": [
       "147962443"
      ]
     },
     "execution_count": 133,
     "metadata": {},
     "output_type": "execute_result"
    }
   ],
   "source": [
    "\n",
    "for i in range(len(df[\"T_Guérisons\"])):\n",
    "    df[\"T_Guérisons\"][i]=int(df[\"T_Guérisons\"][i].replace('\\xa0',''))\n",
    "df[\"T_Guérisons\"].sum()"
   ]
  },
  {
   "cell_type": "code",
   "execution_count": 134,
   "metadata": {},
   "outputs": [
    {
     "data": {
      "text/plain": [
       "8858407"
      ]
     },
     "execution_count": 134,
     "metadata": {},
     "output_type": "execute_result"
    }
   ],
   "source": [
    "\n",
    "for i in range(len(df[\"Cas/jrs\"])):\n",
    "    df[\"Cas/jrs\"][i]=df[\"Cas/jrs\"][i].replace('\\xa0','')\n",
    "    df[\"Cas/jrs\"][i]=int(df[\"Cas/jrs\"][i].replace('+',''))\n",
    "df[\"Cas/jrs\"].sum()"
   ]
  },
  {
   "cell_type": "code",
   "execution_count": 119,
   "metadata": {},
   "outputs": [
    {
     "data": {
      "text/plain": [
       "465823"
      ]
     },
     "execution_count": 119,
     "metadata": {},
     "output_type": "execute_result"
    }
   ],
   "source": [
    "\n",
    "for i in range(len(df[\"Décès/jrs\"])):\n",
    "    df[\"Décès/jrs\"][i]=df[\"Décès/jrs\"][i].replace('\\xa0','')\n",
    "    df[\"Décès/jrs\"][i]=int(df[\"Décès/jrs\"][i].replace('+',''))\n",
    "df[\"Décès/jrs\"].sum()"
   ]
  },
  {
   "cell_type": "code",
   "execution_count": null,
   "metadata": {},
   "outputs": [],
   "source": [
    "\n",
    "for i in range(len(df[\"Guérisons/jrs\"])):\n",
    "    df[\"Guérisons/jrs\"][i]=df[\"Guérisons/jrs\"][i].replace('\\xa0','')\n",
    "    df[\"Guérisons/jrs\"][i]=int(df[\"Guérisons/jrs\"][i].replace('+',''))\n",
    "df[\"Guérisons/jrs\"].sum()"
   ]
  },
  {
   "cell_type": "code",
   "execution_count": null,
   "metadata": {},
   "outputs": [],
   "source": [
    "\n",
    "for i in range(len(df[\"% Décès\"])):\n",
    "    df[\"% Décès\"][i]=df[\"% Décès\"][i].replace(',','.')\n",
    "    df[\"% Décès\"][i]=float(df[\"% Décès\"][i].replace('%',''))\n",
    "df[\"% Décès\"].sum()"
   ]
  },
  {
   "cell_type": "code",
   "execution_count": null,
   "metadata": {},
   "outputs": [],
   "source": [
    "\n",
    "for i in range(len(df[\"% Guérison\"])):\n",
    "    df[\"% Guérison\"][i]=df[\"% Guérison\"][i].replace(',','.')\n",
    "    df[\"% Guérison\"][i]=float(df[\"% Guérison\"][i].replace('%',''))\n",
    "df[\"% Guérison\"].sum()"
   ]
  },
  {
   "cell_type": "code",
   "execution_count": null,
   "metadata": {},
   "outputs": [],
   "source": [
    "\n",
    "for i in range(len(df[\"% Malade\"])):\n",
    "    df[\"% Malade\"][i]=df[\"% Malade\"][i].replace(',','.')\n",
    "    df[\"% Malade\"][i]=float(df[\"% Malade\"][i].replace('%',''))\n",
    "df[\"% Malade\"].sum()\n",
    "#     print(type(df[\"T_Morts\"][i]))\n",
    "#     T_Cas T_Morts T_Guérisons % Décès % Guérison % Malade Cas/jrs Décès/jrs Guérisons/jrs"
   ]
  },
  {
   "cell_type": "code",
   "execution_count": null,
   "metadata": {},
   "outputs": [],
   "source": []
  },
  {
   "cell_type": "code",
   "execution_count": null,
   "metadata": {},
   "outputs": [],
   "source": []
  },
  {
   "cell_type": "code",
   "execution_count": null,
   "metadata": {},
   "outputs": [],
   "source": []
  }
 ],
 "metadata": {
  "kernelspec": {
   "display_name": "Python 3",
   "language": "python",
   "name": "python3"
  },
  "language_info": {
   "codemirror_mode": {
    "name": "ipython",
    "version": 3
   },
   "file_extension": ".py",
   "mimetype": "text/x-python",
   "name": "python",
   "nbconvert_exporter": "python",
   "pygments_lexer": "ipython3",
   "version": "3.7.4"
  }
 },
 "nbformat": 4,
 "nbformat_minor": 2
}
