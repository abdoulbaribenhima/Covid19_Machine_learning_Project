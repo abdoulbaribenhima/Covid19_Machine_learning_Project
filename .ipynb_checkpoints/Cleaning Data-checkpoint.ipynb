{
 "cells": [
  {
   "cell_type": "code",
   "execution_count": 27,
   "metadata": {},
   "outputs": [],
   "source": [
    "import pandas as pd\n"
   ]
  },
  {
   "cell_type": "code",
   "execution_count": 28,
   "metadata": {},
   "outputs": [],
   "source": [
    "df=pd.read_excel(r\"C:\\Users\\Abdouuulbari\\Desktop\\ELITECH\\Python\\DATA_IMP\\EXCEL_FILES\\world_evolution_covid19.xlsx\")"
   ]
  },
  {
   "cell_type": "code",
   "execution_count": 29,
   "metadata": {},
   "outputs": [
    {
     "data": {
      "text/html": [
       "<div>\n",
       "<style scoped>\n",
       "    .dataframe tbody tr th:only-of-type {\n",
       "        vertical-align: middle;\n",
       "    }\n",
       "\n",
       "    .dataframe tbody tr th {\n",
       "        vertical-align: top;\n",
       "    }\n",
       "\n",
       "    .dataframe thead th {\n",
       "        text-align: right;\n",
       "    }\n",
       "</style>\n",
       "<table border=\"1\" class=\"dataframe\">\n",
       "  <thead>\n",
       "    <tr style=\"text-align: right;\">\n",
       "      <th></th>\n",
       "      <th>Unnamed: 0</th>\n",
       "      <th>Date</th>\n",
       "      <th>Total Cas</th>\n",
       "      <th>Total Morts</th>\n",
       "      <th>Total Guérisons</th>\n",
       "      <th>% Décès</th>\n",
       "      <th>% Guérison</th>\n",
       "      <th>% Malade</th>\n",
       "      <th>Cas/jrs</th>\n",
       "      <th>Décès/jrs</th>\n",
       "      <th>Guérisons/jrs</th>\n",
       "    </tr>\n",
       "  </thead>\n",
       "  <tbody>\n",
       "    <tr>\n",
       "      <td>0</td>\n",
       "      <td>0</td>\n",
       "      <td>2020-06-21</td>\n",
       "      <td>8 858 407</td>\n",
       "      <td>465 823</td>\n",
       "      <td>4 399 131</td>\n",
       "      <td>5,26%</td>\n",
       "      <td>49,66%</td>\n",
       "      <td>45,08%</td>\n",
       "      <td>+59 722</td>\n",
       "      <td>+1 293</td>\n",
       "      <td>+17 206</td>\n",
       "    </tr>\n",
       "    <tr>\n",
       "      <td>1</td>\n",
       "      <td>1</td>\n",
       "      <td>2020-06-20</td>\n",
       "      <td>8 798 685</td>\n",
       "      <td>464 530</td>\n",
       "      <td>4 381 925</td>\n",
       "      <td>5,28%</td>\n",
       "      <td>49,80%</td>\n",
       "      <td>44,92%</td>\n",
       "      <td>+127 023</td>\n",
       "      <td>+4 449</td>\n",
       "      <td>+132 528</td>\n",
       "    </tr>\n",
       "    <tr>\n",
       "      <td>2</td>\n",
       "      <td>2</td>\n",
       "      <td>2020-06-19</td>\n",
       "      <td>8 671 662</td>\n",
       "      <td>460 081</td>\n",
       "      <td>4 249 397</td>\n",
       "      <td>5,31%</td>\n",
       "      <td>49,00%</td>\n",
       "      <td>45,69%</td>\n",
       "      <td>+176 251</td>\n",
       "      <td>+6 033</td>\n",
       "      <td>+90 734</td>\n",
       "    </tr>\n",
       "    <tr>\n",
       "      <td>3</td>\n",
       "      <td>3</td>\n",
       "      <td>2020-06-18</td>\n",
       "      <td>8 495 411</td>\n",
       "      <td>454 048</td>\n",
       "      <td>4 158 663</td>\n",
       "      <td>5,34%</td>\n",
       "      <td>48,95%</td>\n",
       "      <td>45,70%</td>\n",
       "      <td>+139 293</td>\n",
       "      <td>+5 026</td>\n",
       "      <td>+81 265</td>\n",
       "    </tr>\n",
       "    <tr>\n",
       "      <td>4</td>\n",
       "      <td>4</td>\n",
       "      <td>2020-06-17</td>\n",
       "      <td>8 356 118</td>\n",
       "      <td>449 022</td>\n",
       "      <td>4 077 398</td>\n",
       "      <td>5,37%</td>\n",
       "      <td>48,80%</td>\n",
       "      <td>45,83%</td>\n",
       "      <td>+176 157</td>\n",
       "      <td>+5 274</td>\n",
       "      <td>+118 838</td>\n",
       "    </tr>\n",
       "  </tbody>\n",
       "</table>\n",
       "</div>"
      ],
      "text/plain": [
       "   Unnamed: 0        Date  Total Cas Total Morts Total Guérisons % Décès  \\\n",
       "0           0  2020-06-21  8 858 407     465 823       4 399 131   5,26%   \n",
       "1           1  2020-06-20  8 798 685     464 530       4 381 925   5,28%   \n",
       "2           2  2020-06-19  8 671 662     460 081       4 249 397   5,31%   \n",
       "3           3  2020-06-18  8 495 411     454 048       4 158 663   5,34%   \n",
       "4           4  2020-06-17  8 356 118     449 022       4 077 398   5,37%   \n",
       "\n",
       "  % Guérison % Malade   Cas/jrs Décès/jrs Guérisons/jrs  \n",
       "0     49,66%   45,08%   +59 722    +1 293       +17 206  \n",
       "1     49,80%   44,92%  +127 023    +4 449      +132 528  \n",
       "2     49,00%   45,69%  +176 251    +6 033       +90 734  \n",
       "3     48,95%   45,70%  +139 293    +5 026       +81 265  \n",
       "4     48,80%   45,83%  +176 157    +5 274      +118 838  "
      ]
     },
     "execution_count": 29,
     "metadata": {},
     "output_type": "execute_result"
    }
   ],
   "source": [
    "df.head()"
   ]
  },
  {
   "cell_type": "code",
   "execution_count": 30,
   "metadata": {},
   "outputs": [
    {
     "data": {
      "text/plain": [
       "Unnamed: 0          int64\n",
       "Date               object\n",
       "Total Cas          object\n",
       "Total Morts        object\n",
       "Total Guérisons    object\n",
       "% Décès            object\n",
       "% Guérison         object\n",
       "% Malade           object\n",
       "Cas/jrs            object\n",
       "Décès/jrs          object\n",
       "Guérisons/jrs      object\n",
       "dtype: object"
      ]
     },
     "execution_count": 30,
     "metadata": {},
     "output_type": "execute_result"
    }
   ],
   "source": [
    "df.dtypes"
   ]
  },
  {
   "cell_type": "code",
   "execution_count": 31,
   "metadata": {},
   "outputs": [],
   "source": [
    "df.drop([\"Unnamed: 0\"],axis=1,inplace=True)\n",
    "df.rename(columns={\"Total Cas\":\"T_Cas\",\"Total Morts\":\"T_Morts\",\"Total Guérisons\":\"T_Guérisons\"},inplace=True)"
   ]
  },
  {
   "cell_type": "code",
   "execution_count": 32,
   "metadata": {},
   "outputs": [
    {
     "ename": "AttributeError",
     "evalue": "'int' object has no attribute 'replace'",
     "output_type": "error",
     "traceback": [
      "\u001b[1;31m---------------------------------------------------------------------------\u001b[0m",
      "\u001b[1;31mAttributeError\u001b[0m                            Traceback (most recent call last)",
      "\u001b[1;32m<ipython-input-32-511e5f850712>\u001b[0m in \u001b[0;36m<module>\u001b[1;34m\u001b[0m\n\u001b[0;32m      1\u001b[0m \u001b[1;32mfor\u001b[0m \u001b[0mi\u001b[0m \u001b[1;32min\u001b[0m \u001b[0mrange\u001b[0m\u001b[1;33m(\u001b[0m\u001b[0mlen\u001b[0m\u001b[1;33m(\u001b[0m\u001b[0mdf\u001b[0m\u001b[1;33m[\u001b[0m\u001b[1;34m\"T_Cas\"\u001b[0m\u001b[1;33m]\u001b[0m\u001b[1;33m)\u001b[0m\u001b[1;33m)\u001b[0m\u001b[1;33m:\u001b[0m\u001b[1;33m\u001b[0m\u001b[1;33m\u001b[0m\u001b[0m\n\u001b[1;32m----> 2\u001b[1;33m    \u001b[0mdf\u001b[0m\u001b[1;33m[\u001b[0m\u001b[1;34m\"T_Cas\"\u001b[0m\u001b[1;33m]\u001b[0m\u001b[1;33m[\u001b[0m\u001b[0mi\u001b[0m\u001b[1;33m]\u001b[0m\u001b[1;33m=\u001b[0m\u001b[0mint\u001b[0m\u001b[1;33m(\u001b[0m\u001b[0mdf\u001b[0m\u001b[1;33m[\u001b[0m\u001b[1;34m\"T_Cas\"\u001b[0m\u001b[1;33m]\u001b[0m\u001b[1;33m[\u001b[0m\u001b[0mi\u001b[0m\u001b[1;33m]\u001b[0m\u001b[1;33m.\u001b[0m\u001b[0mreplace\u001b[0m\u001b[1;33m(\u001b[0m\u001b[1;34m'\\xa0'\u001b[0m\u001b[1;33m,\u001b[0m\u001b[1;34m''\u001b[0m\u001b[1;33m)\u001b[0m\u001b[1;33m)\u001b[0m\u001b[1;33m\u001b[0m\u001b[1;33m\u001b[0m\u001b[0m\n\u001b[0m\u001b[0;32m      3\u001b[0m \u001b[1;31m#df[\"T_Cas\"].sum()\u001b[0m\u001b[1;33m\u001b[0m\u001b[1;33m\u001b[0m\u001b[1;33m\u001b[0m\u001b[0m\n\u001b[0;32m      4\u001b[0m \u001b[1;33m\u001b[0m\u001b[0m\n",
      "\u001b[1;31mAttributeError\u001b[0m: 'int' object has no attribute 'replace'"
     ]
    }
   ],
   "source": [
    " for i in range(len(df[\"T_Cas\"])):\n",
    "    df[\"T_Cas\"][i]=int(df[\"T_Cas\"][i].replace('\\xa0',''))\n",
    "#df[\"T_Cas\"].sum()\n",
    "    \n"
   ]
  },
  {
   "cell_type": "code",
   "execution_count": 33,
   "metadata": {},
   "outputs": [
    {
     "data": {
      "text/plain": [
       "377270671"
      ]
     },
     "execution_count": 33,
     "metadata": {},
     "output_type": "execute_result"
    }
   ],
   "source": [
    "df[\"T_Cas\"].sum()\n"
   ]
  },
  {
   "cell_type": "code",
   "execution_count": 34,
   "metadata": {},
   "outputs": [
    {
     "data": {
      "text/plain": [
       "23031499"
      ]
     },
     "execution_count": 34,
     "metadata": {},
     "output_type": "execute_result"
    }
   ],
   "source": [
    "for i in range(len(df[\"T_Morts\"])):\n",
    "    df[\"T_Morts\"][i]=int(df[\"T_Morts\"][i].replace('\\xa0',''))\n",
    "df[\"T_Morts\"].sum()"
   ]
  },
  {
   "cell_type": "code",
   "execution_count": 35,
   "metadata": {},
   "outputs": [
    {
     "data": {
      "text/plain": [
       "23031499"
      ]
     },
     "execution_count": 35,
     "metadata": {},
     "output_type": "execute_result"
    }
   ],
   "source": [
    "df[\"T_Morts\"].sum()"
   ]
  },
  {
   "cell_type": "code",
   "execution_count": 36,
   "metadata": {},
   "outputs": [
    {
     "data": {
      "text/plain": [
       "147962443"
      ]
     },
     "execution_count": 36,
     "metadata": {},
     "output_type": "execute_result"
    }
   ],
   "source": [
    "for i in range(len(df[\"T_Guérisons\"])):\n",
    "    df[\"T_Guérisons\"][i]=int(df[\"T_Guérisons\"][i].replace('\\xa0',''))\n",
    "df[\"T_Guérisons\"].sum()"
   ]
  },
  {
   "cell_type": "code",
   "execution_count": 37,
   "metadata": {},
   "outputs": [
    {
     "data": {
      "text/plain": [
       "8858407"
      ]
     },
     "execution_count": 37,
     "metadata": {},
     "output_type": "execute_result"
    }
   ],
   "source": [
    "for i in range(len(df[\"Cas/jrs\"])):\n",
    "    df[\"Cas/jrs\"][i]=df[\"Cas/jrs\"][i].replace('\\xa0','')\n",
    "    df[\"Cas/jrs\"][i]=int(df[\"Cas/jrs\"][i].replace('+',''))\n",
    "df[\"Cas/jrs\"].sum()"
   ]
  },
  {
   "cell_type": "code",
   "execution_count": 38,
   "metadata": {},
   "outputs": [
    {
     "data": {
      "text/plain": [
       "465823"
      ]
     },
     "execution_count": 38,
     "metadata": {},
     "output_type": "execute_result"
    }
   ],
   "source": [
    "for i in range(len(df[\"Décès/jrs\"])):\n",
    "    df[\"Décès/jrs\"][i]=df[\"Décès/jrs\"][i].replace('\\xa0','')\n",
    "    df[\"Décès/jrs\"][i]=int(df[\"Décès/jrs\"][i].replace('+',''))\n",
    "df[\"Décès/jrs\"].sum()"
   ]
  },
  {
   "cell_type": "code",
   "execution_count": 39,
   "metadata": {},
   "outputs": [
    {
     "data": {
      "text/plain": [
       "4399131"
      ]
     },
     "execution_count": 39,
     "metadata": {},
     "output_type": "execute_result"
    }
   ],
   "source": [
    "for i in range(len(df[\"Guérisons/jrs\"])):\n",
    "    df[\"Guérisons/jrs\"][i]=df[\"Guérisons/jrs\"][i].replace('\\xa0','')\n",
    "    df[\"Guérisons/jrs\"][i]=int(df[\"Guérisons/jrs\"][i].replace('+',''))\n",
    "df[\"Guérisons/jrs\"].sum()"
   ]
  },
  {
   "cell_type": "code",
   "execution_count": 40,
   "metadata": {},
   "outputs": [
    {
     "data": {
      "text/plain": [
       "741.5399999999992"
      ]
     },
     "execution_count": 40,
     "metadata": {},
     "output_type": "execute_result"
    }
   ],
   "source": [
    "for i in range(len(df[\"% Décès\"])):\n",
    "    df[\"% Décès\"][i]=df[\"% Décès\"][i].replace(',','.')\n",
    "    df[\"% Décès\"][i]=float(df[\"% Décès\"][i].replace('%',''))\n",
    "df[\"% Décès\"].sum()"
   ]
  },
  {
   "cell_type": "code",
   "execution_count": 45,
   "metadata": {},
   "outputs": [
    {
     "data": {
      "text/plain": [
       "4649.509999999999"
      ]
     },
     "execution_count": 45,
     "metadata": {},
     "output_type": "execute_result"
    }
   ],
   "source": [
    "for i in range(len(df[\"% Guérison\"])):\n",
    "    df[\"% Guérison\"][i]=df[\"% Guérison\"][i].replace(',','.')\n",
    "    df[\"% Guérison\"][i]=float(df[\"% Guérison\"][i].replace('%',''))\n",
    "df[\"% Guérison\"].sum()"
   ]
  },
  {
   "cell_type": "code",
   "execution_count": 42,
   "metadata": {},
   "outputs": [
    {
     "data": {
      "text/plain": [
       "9808.960000000003"
      ]
     },
     "execution_count": 42,
     "metadata": {},
     "output_type": "execute_result"
    }
   ],
   "source": [
    "for i in range(len(df[\"% Malade\"])):\n",
    "    df[\"% Malade\"][i]=df[\"% Malade\"][i].replace(',','.')\n",
    "    df[\"% Malade\"][i]=float(df[\"% Malade\"][i].replace('%',''))\n",
    "df[\"% Malade\"].sum()"
   ]
  },
  {
   "cell_type": "code",
   "execution_count": 47,
   "metadata": {},
   "outputs": [],
   "source": [
    "import numpy as np\n",
    "\n",
    "df = df.replace(np.nan, 0, regex=True)\n",
    "df['Date'] = pd.to_datetime(df['Date'],  format = '%Y/%m/%d')"
   ]
  },
  {
   "cell_type": "code",
   "execution_count": 48,
   "metadata": {},
   "outputs": [
    {
     "data": {
      "text/html": [
       "<div>\n",
       "<style scoped>\n",
       "    .dataframe tbody tr th:only-of-type {\n",
       "        vertical-align: middle;\n",
       "    }\n",
       "\n",
       "    .dataframe tbody tr th {\n",
       "        vertical-align: top;\n",
       "    }\n",
       "\n",
       "    .dataframe thead th {\n",
       "        text-align: right;\n",
       "    }\n",
       "</style>\n",
       "<table border=\"1\" class=\"dataframe\">\n",
       "  <thead>\n",
       "    <tr style=\"text-align: right;\">\n",
       "      <th></th>\n",
       "      <th>Date</th>\n",
       "      <th>T_Cas</th>\n",
       "      <th>T_Morts</th>\n",
       "      <th>T_Guérisons</th>\n",
       "      <th>% Décès</th>\n",
       "      <th>% Guérison</th>\n",
       "      <th>% Malade</th>\n",
       "      <th>Cas/jrs</th>\n",
       "      <th>Décès/jrs</th>\n",
       "      <th>Guérisons/jrs</th>\n",
       "    </tr>\n",
       "  </thead>\n",
       "  <tbody>\n",
       "    <tr>\n",
       "      <td>0</td>\n",
       "      <td>2020-06-21</td>\n",
       "      <td>8858407</td>\n",
       "      <td>465823</td>\n",
       "      <td>4399131</td>\n",
       "      <td>5.26</td>\n",
       "      <td>49.66</td>\n",
       "      <td>45.08</td>\n",
       "      <td>59722</td>\n",
       "      <td>1293</td>\n",
       "      <td>17206</td>\n",
       "    </tr>\n",
       "    <tr>\n",
       "      <td>1</td>\n",
       "      <td>2020-06-20</td>\n",
       "      <td>8798685</td>\n",
       "      <td>464530</td>\n",
       "      <td>4381925</td>\n",
       "      <td>5.28</td>\n",
       "      <td>49.80</td>\n",
       "      <td>44.92</td>\n",
       "      <td>127023</td>\n",
       "      <td>4449</td>\n",
       "      <td>132528</td>\n",
       "    </tr>\n",
       "    <tr>\n",
       "      <td>2</td>\n",
       "      <td>2020-06-19</td>\n",
       "      <td>8671662</td>\n",
       "      <td>460081</td>\n",
       "      <td>4249397</td>\n",
       "      <td>5.31</td>\n",
       "      <td>49.00</td>\n",
       "      <td>45.69</td>\n",
       "      <td>176251</td>\n",
       "      <td>6033</td>\n",
       "      <td>90734</td>\n",
       "    </tr>\n",
       "    <tr>\n",
       "      <td>3</td>\n",
       "      <td>2020-06-18</td>\n",
       "      <td>8495411</td>\n",
       "      <td>454048</td>\n",
       "      <td>4158663</td>\n",
       "      <td>5.34</td>\n",
       "      <td>48.95</td>\n",
       "      <td>45.70</td>\n",
       "      <td>139293</td>\n",
       "      <td>5026</td>\n",
       "      <td>81265</td>\n",
       "    </tr>\n",
       "    <tr>\n",
       "      <td>4</td>\n",
       "      <td>2020-06-17</td>\n",
       "      <td>8356118</td>\n",
       "      <td>449022</td>\n",
       "      <td>4077398</td>\n",
       "      <td>5.37</td>\n",
       "      <td>48.80</td>\n",
       "      <td>45.83</td>\n",
       "      <td>176157</td>\n",
       "      <td>5274</td>\n",
       "      <td>118838</td>\n",
       "    </tr>\n",
       "  </tbody>\n",
       "</table>\n",
       "</div>"
      ],
      "text/plain": [
       "        Date    T_Cas  T_Morts  T_Guérisons  % Décès  % Guérison  % Malade  \\\n",
       "0 2020-06-21  8858407   465823      4399131     5.26       49.66     45.08   \n",
       "1 2020-06-20  8798685   464530      4381925     5.28       49.80     44.92   \n",
       "2 2020-06-19  8671662   460081      4249397     5.31       49.00     45.69   \n",
       "3 2020-06-18  8495411   454048      4158663     5.34       48.95     45.70   \n",
       "4 2020-06-17  8356118   449022      4077398     5.37       48.80     45.83   \n",
       "\n",
       "   Cas/jrs  Décès/jrs  Guérisons/jrs  \n",
       "0    59722       1293          17206  \n",
       "1   127023       4449         132528  \n",
       "2   176251       6033          90734  \n",
       "3   139293       5026          81265  \n",
       "4   176157       5274         118838  "
      ]
     },
     "execution_count": 48,
     "metadata": {},
     "output_type": "execute_result"
    }
   ],
   "source": [
    "df.head()"
   ]
  },
  {
   "cell_type": "code",
   "execution_count": 49,
   "metadata": {},
   "outputs": [
    {
     "data": {
      "text/plain": [
       "Date             datetime64[ns]\n",
       "T_Cas                     int64\n",
       "T_Morts                   int64\n",
       "T_Guérisons               int64\n",
       "% Décès                 float64\n",
       "% Guérison              float64\n",
       "% Malade                float64\n",
       "Cas/jrs                   int64\n",
       "Décès/jrs                 int64\n",
       "Guérisons/jrs             int64\n",
       "dtype: object"
      ]
     },
     "execution_count": 49,
     "metadata": {},
     "output_type": "execute_result"
    }
   ],
   "source": [
    "df.dtypes"
   ]
  },
  {
   "cell_type": "code",
   "execution_count": 50,
   "metadata": {},
   "outputs": [],
   "source": [
    "df.to_excel(r'C:\\Users\\Abdouuulbari\\Desktop\\ELITECH\\Python\\DATA_IMP\\Data after cleaning\\world_evolution_covid19.xlsx')"
   ]
  },
  {
   "cell_type": "markdown",
   "metadata": {},
   "source": [
    "###file 2\n"
   ]
  },
  {
   "cell_type": "code",
   "execution_count": 190,
   "metadata": {},
   "outputs": [
    {
     "data": {
      "text/html": [
       "<div>\n",
       "<style scoped>\n",
       "    .dataframe tbody tr th:only-of-type {\n",
       "        vertical-align: middle;\n",
       "    }\n",
       "\n",
       "    .dataframe tbody tr th {\n",
       "        vertical-align: top;\n",
       "    }\n",
       "\n",
       "    .dataframe thead th {\n",
       "        text-align: right;\n",
       "    }\n",
       "</style>\n",
       "<table border=\"1\" class=\"dataframe\">\n",
       "  <thead>\n",
       "    <tr style=\"text-align: right;\">\n",
       "      <th></th>\n",
       "      <th>Unnamed: 0</th>\n",
       "      <th>Date</th>\n",
       "      <th>Pays</th>\n",
       "      <th>Cas</th>\n",
       "      <th>Décès</th>\n",
       "      <th>Guérisons</th>\n",
       "      <th>% Décès</th>\n",
       "      <th>% Guérisons</th>\n",
       "      <th>% Malades</th>\n",
       "      <th>Cas.1</th>\n",
       "      <th>Décès.1</th>\n",
       "      <th>Guéris</th>\n",
       "    </tr>\n",
       "  </thead>\n",
       "  <tbody>\n",
       "    <tr>\n",
       "      <td>0</td>\n",
       "      <td>0</td>\n",
       "      <td>2020-06-21</td>\n",
       "      <td>États-Unis</td>\n",
       "      <td>2 269 463</td>\n",
       "      <td>119 868</td>\n",
       "      <td>617 460</td>\n",
       "      <td>5,28%</td>\n",
       "      <td>27,21%</td>\n",
       "      <td>67,51%</td>\n",
       "      <td>+14 344</td>\n",
       "      <td>149</td>\n",
       "      <td>0</td>\n",
       "    </tr>\n",
       "    <tr>\n",
       "      <td>1</td>\n",
       "      <td>1</td>\n",
       "      <td>2020-06-21</td>\n",
       "      <td>Brésil</td>\n",
       "      <td>1 032 913</td>\n",
       "      <td>49 976</td>\n",
       "      <td>576 779</td>\n",
       "      <td>4,84%</td>\n",
       "      <td>55,84%</td>\n",
       "      <td>39,32%</td>\n",
       "      <td>0</td>\n",
       "      <td>0</td>\n",
       "      <td>-12 295</td>\n",
       "    </tr>\n",
       "    <tr>\n",
       "      <td>2</td>\n",
       "      <td>2</td>\n",
       "      <td>2020-06-21</td>\n",
       "      <td>Russie</td>\n",
       "      <td>583 879</td>\n",
       "      <td>8 101</td>\n",
       "      <td>339 142</td>\n",
       "      <td>1,39%</td>\n",
       "      <td>58,08%</td>\n",
       "      <td>40,53%</td>\n",
       "      <td>+7 717</td>\n",
       "      <td>109</td>\n",
       "      <td>+5 118</td>\n",
       "    </tr>\n",
       "    <tr>\n",
       "      <td>3</td>\n",
       "      <td>3</td>\n",
       "      <td>2020-06-21</td>\n",
       "      <td>Inde</td>\n",
       "      <td>410 451</td>\n",
       "      <td>13 254</td>\n",
       "      <td>227 728</td>\n",
       "      <td>3,23%</td>\n",
       "      <td>55,48%</td>\n",
       "      <td>41,29%</td>\n",
       "      <td>-10</td>\n",
       "      <td>0</td>\n",
       "      <td>-28</td>\n",
       "    </tr>\n",
       "    <tr>\n",
       "      <td>4</td>\n",
       "      <td>4</td>\n",
       "      <td>2020-06-21</td>\n",
       "      <td>Royaume-Uni</td>\n",
       "      <td>305 803</td>\n",
       "      <td>42 717</td>\n",
       "      <td>1 319</td>\n",
       "      <td>13,97%</td>\n",
       "      <td>0,43%</td>\n",
       "      <td>85,60%</td>\n",
       "      <td>+1 399</td>\n",
       "      <td>43</td>\n",
       "      <td>+176</td>\n",
       "    </tr>\n",
       "  </tbody>\n",
       "</table>\n",
       "</div>"
      ],
      "text/plain": [
       "   Unnamed: 0        Date         Pays        Cas    Décès Guérisons % Décès  \\\n",
       "0           0  2020-06-21   États-Unis  2 269 463  119 868   617 460   5,28%   \n",
       "1           1  2020-06-21       Brésil  1 032 913   49 976   576 779   4,84%   \n",
       "2           2  2020-06-21       Russie    583 879    8 101   339 142   1,39%   \n",
       "3           3  2020-06-21         Inde    410 451   13 254   227 728   3,23%   \n",
       "4           4  2020-06-21  Royaume-Uni    305 803   42 717     1 319  13,97%   \n",
       "\n",
       "  % Guérisons % Malades    Cas.1  Décès.1   Guéris  \n",
       "0      27,21%    67,51%  +14 344      149        0  \n",
       "1      55,84%    39,32%        0        0  -12 295  \n",
       "2      58,08%    40,53%   +7 717      109   +5 118  \n",
       "3      55,48%    41,29%      -10        0      -28  \n",
       "4       0,43%    85,60%   +1 399       43     +176  "
      ]
     },
     "execution_count": 190,
     "metadata": {},
     "output_type": "execute_result"
    }
   ],
   "source": [
    "df=pd.read_excel(r\"C:\\Users\\Abdouuulbari\\Desktop\\ELITECH\\Python\\DATA_IMP\\EXCEL_FILES\\world_covid19.xlsx\")\n",
    "df.head()"
   ]
  },
  {
   "cell_type": "code",
   "execution_count": 191,
   "metadata": {},
   "outputs": [],
   "source": [
    "df.drop([\"Unnamed: 0\"],axis=1,inplace=True)\n"
   ]
  },
  {
   "cell_type": "code",
   "execution_count": 193,
   "metadata": {},
   "outputs": [
    {
     "data": {
      "text/html": [
       "<div>\n",
       "<style scoped>\n",
       "    .dataframe tbody tr th:only-of-type {\n",
       "        vertical-align: middle;\n",
       "    }\n",
       "\n",
       "    .dataframe tbody tr th {\n",
       "        vertical-align: top;\n",
       "    }\n",
       "\n",
       "    .dataframe thead th {\n",
       "        text-align: right;\n",
       "    }\n",
       "</style>\n",
       "<table border=\"1\" class=\"dataframe\">\n",
       "  <thead>\n",
       "    <tr style=\"text-align: right;\">\n",
       "      <th></th>\n",
       "      <th>Date</th>\n",
       "      <th>Pays</th>\n",
       "      <th>T_Cas</th>\n",
       "      <th>T_Décès</th>\n",
       "      <th>T_Guérisons</th>\n",
       "      <th>% Décès</th>\n",
       "      <th>% Guérison</th>\n",
       "      <th>% Malade</th>\n",
       "      <th>Cas/jrs</th>\n",
       "      <th>Décès/jrs</th>\n",
       "      <th>Guérisons/jrs</th>\n",
       "    </tr>\n",
       "  </thead>\n",
       "  <tbody>\n",
       "    <tr>\n",
       "      <td>0</td>\n",
       "      <td>2020-06-21</td>\n",
       "      <td>États-Unis</td>\n",
       "      <td>2 269 463</td>\n",
       "      <td>119 868</td>\n",
       "      <td>617 460</td>\n",
       "      <td>5,28%</td>\n",
       "      <td>27,21%</td>\n",
       "      <td>67,51%</td>\n",
       "      <td>+14 344</td>\n",
       "      <td>149</td>\n",
       "      <td>0</td>\n",
       "    </tr>\n",
       "    <tr>\n",
       "      <td>1</td>\n",
       "      <td>2020-06-21</td>\n",
       "      <td>Brésil</td>\n",
       "      <td>1 032 913</td>\n",
       "      <td>49 976</td>\n",
       "      <td>576 779</td>\n",
       "      <td>4,84%</td>\n",
       "      <td>55,84%</td>\n",
       "      <td>39,32%</td>\n",
       "      <td>0</td>\n",
       "      <td>0</td>\n",
       "      <td>-12 295</td>\n",
       "    </tr>\n",
       "    <tr>\n",
       "      <td>2</td>\n",
       "      <td>2020-06-21</td>\n",
       "      <td>Russie</td>\n",
       "      <td>583 879</td>\n",
       "      <td>8 101</td>\n",
       "      <td>339 142</td>\n",
       "      <td>1,39%</td>\n",
       "      <td>58,08%</td>\n",
       "      <td>40,53%</td>\n",
       "      <td>+7 717</td>\n",
       "      <td>109</td>\n",
       "      <td>+5 118</td>\n",
       "    </tr>\n",
       "    <tr>\n",
       "      <td>3</td>\n",
       "      <td>2020-06-21</td>\n",
       "      <td>Inde</td>\n",
       "      <td>410 451</td>\n",
       "      <td>13 254</td>\n",
       "      <td>227 728</td>\n",
       "      <td>3,23%</td>\n",
       "      <td>55,48%</td>\n",
       "      <td>41,29%</td>\n",
       "      <td>-10</td>\n",
       "      <td>0</td>\n",
       "      <td>-28</td>\n",
       "    </tr>\n",
       "    <tr>\n",
       "      <td>4</td>\n",
       "      <td>2020-06-21</td>\n",
       "      <td>Royaume-Uni</td>\n",
       "      <td>305 803</td>\n",
       "      <td>42 717</td>\n",
       "      <td>1 319</td>\n",
       "      <td>13,97%</td>\n",
       "      <td>0,43%</td>\n",
       "      <td>85,60%</td>\n",
       "      <td>+1 399</td>\n",
       "      <td>43</td>\n",
       "      <td>+176</td>\n",
       "    </tr>\n",
       "    <tr>\n",
       "      <td>...</td>\n",
       "      <td>...</td>\n",
       "      <td>...</td>\n",
       "      <td>...</td>\n",
       "      <td>...</td>\n",
       "      <td>...</td>\n",
       "      <td>...</td>\n",
       "      <td>...</td>\n",
       "      <td>...</td>\n",
       "      <td>...</td>\n",
       "      <td>...</td>\n",
       "      <td>...</td>\n",
       "    </tr>\n",
       "    <tr>\n",
       "      <td>182</td>\n",
       "      <td>2020-06-21</td>\n",
       "      <td>Vatican</td>\n",
       "      <td>12</td>\n",
       "      <td>0</td>\n",
       "      <td>12</td>\n",
       "      <td>0,00%</td>\n",
       "      <td>100,00%</td>\n",
       "      <td>0,00%</td>\n",
       "      <td>0</td>\n",
       "      <td>0</td>\n",
       "      <td>0</td>\n",
       "    </tr>\n",
       "    <tr>\n",
       "      <td>183</td>\n",
       "      <td>2020-06-21</td>\n",
       "      <td>Seychelles</td>\n",
       "      <td>11</td>\n",
       "      <td>0</td>\n",
       "      <td>11</td>\n",
       "      <td>0,00%</td>\n",
       "      <td>100,00%</td>\n",
       "      <td>0,00%</td>\n",
       "      <td>0</td>\n",
       "      <td>0</td>\n",
       "      <td>0</td>\n",
       "    </tr>\n",
       "    <tr>\n",
       "      <td>184</td>\n",
       "      <td>2020-06-21</td>\n",
       "      <td>Sahara Occidental</td>\n",
       "      <td>9</td>\n",
       "      <td>1</td>\n",
       "      <td>8</td>\n",
       "      <td>11,11%</td>\n",
       "      <td>88,89%</td>\n",
       "      <td>0,00%</td>\n",
       "      <td>0</td>\n",
       "      <td>0</td>\n",
       "      <td>0</td>\n",
       "    </tr>\n",
       "    <tr>\n",
       "      <td>185</td>\n",
       "      <td>2020-06-21</td>\n",
       "      <td>Papouasie-Nouvelle-Guinée</td>\n",
       "      <td>8</td>\n",
       "      <td>0</td>\n",
       "      <td>8</td>\n",
       "      <td>0,00%</td>\n",
       "      <td>100,00%</td>\n",
       "      <td>0,00%</td>\n",
       "      <td>0</td>\n",
       "      <td>0</td>\n",
       "      <td>0</td>\n",
       "    </tr>\n",
       "    <tr>\n",
       "      <td>186</td>\n",
       "      <td>2020-06-21</td>\n",
       "      <td>Lesotho</td>\n",
       "      <td>4</td>\n",
       "      <td>0</td>\n",
       "      <td>2</td>\n",
       "      <td>0,00%</td>\n",
       "      <td>50,00%</td>\n",
       "      <td>50,00%</td>\n",
       "      <td>0</td>\n",
       "      <td>0</td>\n",
       "      <td>0</td>\n",
       "    </tr>\n",
       "  </tbody>\n",
       "</table>\n",
       "<p>187 rows × 11 columns</p>\n",
       "</div>"
      ],
      "text/plain": [
       "           Date                       Pays      T_Cas  T_Décès T_Guérisons  \\\n",
       "0    2020-06-21                 États-Unis  2 269 463  119 868     617 460   \n",
       "1    2020-06-21                     Brésil  1 032 913   49 976     576 779   \n",
       "2    2020-06-21                     Russie    583 879    8 101     339 142   \n",
       "3    2020-06-21                       Inde    410 451   13 254     227 728   \n",
       "4    2020-06-21                Royaume-Uni    305 803   42 717       1 319   \n",
       "..          ...                        ...        ...      ...         ...   \n",
       "182  2020-06-21                    Vatican         12        0          12   \n",
       "183  2020-06-21                 Seychelles         11        0          11   \n",
       "184  2020-06-21          Sahara Occidental          9        1           8   \n",
       "185  2020-06-21  Papouasie-Nouvelle-Guinée          8        0           8   \n",
       "186  2020-06-21                    Lesotho          4        0           2   \n",
       "\n",
       "    % Décès % Guérison % Malade  Cas/jrs  Décès/jrs Guérisons/jrs  \n",
       "0     5,28%     27,21%   67,51%  +14 344        149             0  \n",
       "1     4,84%     55,84%   39,32%        0          0       -12 295  \n",
       "2     1,39%     58,08%   40,53%   +7 717        109        +5 118  \n",
       "3     3,23%     55,48%   41,29%      -10          0           -28  \n",
       "4    13,97%      0,43%   85,60%   +1 399         43          +176  \n",
       "..      ...        ...      ...      ...        ...           ...  \n",
       "182   0,00%    100,00%    0,00%        0          0             0  \n",
       "183   0,00%    100,00%    0,00%        0          0             0  \n",
       "184  11,11%     88,89%    0,00%        0          0             0  \n",
       "185   0,00%    100,00%    0,00%        0          0             0  \n",
       "186   0,00%     50,00%   50,00%        0          0             0  \n",
       "\n",
       "[187 rows x 11 columns]"
      ]
     },
     "execution_count": 193,
     "metadata": {},
     "output_type": "execute_result"
    }
   ],
   "source": [
    "df.rename(columns={\"Cas\":\"T_Cas\",\"Décès\":\"T_Décès\",\"Guérisons\":\"T_Guérisons\",\"Cas.1\":\"Cas/jrs\",\"Décès.1\":\"Décès/jrs\",\"Guéris\":\"Guéris/jrs\",\"% Guérisons\":\"% Guérison\",\"% Malades\":\"% Malade\",\"Guéris/jrs\":\"Guérisons/jrs\"},inplace=True)\n",
    "df"
   ]
  },
  {
   "cell_type": "code",
   "execution_count": 220,
   "metadata": {},
   "outputs": [
    {
     "data": {
      "text/plain": [
       "dtype('O')"
      ]
     },
     "execution_count": 220,
     "metadata": {},
     "output_type": "execute_result"
    }
   ],
   "source": [
    "import numpy as np\n",
    "\n",
    "df = df.replace(np.nan, 0, regex=True)\n",
    "df['Date'] = pd.to_datetime(df['Date'],  format = '%Y/%m/%d')\n",
    "df[\"Pays\"].dtypes"
   ]
  },
  {
   "cell_type": "code",
   "execution_count": 221,
   "metadata": {},
   "outputs": [
    {
     "ename": "AttributeError",
     "evalue": "'numpy.int64' object has no attribute 'replace'",
     "output_type": "error",
     "traceback": [
      "\u001b[1;31m---------------------------------------------------------------------------\u001b[0m",
      "\u001b[1;31mAttributeError\u001b[0m                            Traceback (most recent call last)",
      "\u001b[1;32m<ipython-input-221-3bf18a232ee1>\u001b[0m in \u001b[0;36m<module>\u001b[1;34m\u001b[0m\n\u001b[0;32m      1\u001b[0m \u001b[1;32mfor\u001b[0m \u001b[0mi\u001b[0m \u001b[1;32min\u001b[0m \u001b[0mrange\u001b[0m\u001b[1;33m(\u001b[0m\u001b[0mlen\u001b[0m\u001b[1;33m(\u001b[0m\u001b[0mdf\u001b[0m\u001b[1;33m[\u001b[0m\u001b[1;34m\"T_Cas\"\u001b[0m\u001b[1;33m]\u001b[0m\u001b[1;33m)\u001b[0m\u001b[1;33m)\u001b[0m\u001b[1;33m:\u001b[0m\u001b[1;33m\u001b[0m\u001b[1;33m\u001b[0m\u001b[0m\n\u001b[1;32m----> 2\u001b[1;33m     \u001b[0mdf\u001b[0m\u001b[1;33m[\u001b[0m\u001b[1;34m\"T_Cas\"\u001b[0m\u001b[1;33m]\u001b[0m\u001b[1;33m[\u001b[0m\u001b[0mi\u001b[0m\u001b[1;33m]\u001b[0m\u001b[1;33m=\u001b[0m\u001b[0mint\u001b[0m\u001b[1;33m(\u001b[0m\u001b[0mdf\u001b[0m\u001b[1;33m[\u001b[0m\u001b[1;34m\"T_Cas\"\u001b[0m\u001b[1;33m]\u001b[0m\u001b[1;33m[\u001b[0m\u001b[0mi\u001b[0m\u001b[1;33m]\u001b[0m\u001b[1;33m.\u001b[0m\u001b[0mreplace\u001b[0m\u001b[1;33m(\u001b[0m\u001b[1;34m'\\xa0'\u001b[0m\u001b[1;33m,\u001b[0m\u001b[1;34m''\u001b[0m\u001b[1;33m)\u001b[0m\u001b[1;33m)\u001b[0m\u001b[1;33m\u001b[0m\u001b[1;33m\u001b[0m\u001b[0m\n\u001b[0m\u001b[0;32m      3\u001b[0m \u001b[0mdf\u001b[0m\u001b[1;33m[\u001b[0m\u001b[1;34m\"T_Cas\"\u001b[0m\u001b[1;33m]\u001b[0m\u001b[1;33m.\u001b[0m\u001b[0msum\u001b[0m\u001b[1;33m(\u001b[0m\u001b[1;33m)\u001b[0m\u001b[1;33m\u001b[0m\u001b[1;33m\u001b[0m\u001b[0m\n",
      "\u001b[1;31mAttributeError\u001b[0m: 'numpy.int64' object has no attribute 'replace'"
     ]
    }
   ],
   "source": [
    "for i in range(len(df[\"T_Cas\"])):\n",
    "    df[\"T_Cas\"][i]=int(df[\"T_Cas\"][i].replace('\\xa0',''))\n",
    "df[\"T_Cas\"].sum()"
   ]
  },
  {
   "cell_type": "code",
   "execution_count": 222,
   "metadata": {},
   "outputs": [
    {
     "ename": "AttributeError",
     "evalue": "'numpy.float64' object has no attribute 'replace'",
     "output_type": "error",
     "traceback": [
      "\u001b[1;31m---------------------------------------------------------------------------\u001b[0m",
      "\u001b[1;31mAttributeError\u001b[0m                            Traceback (most recent call last)",
      "\u001b[1;32m<ipython-input-222-bf8c2f3ca5d8>\u001b[0m in \u001b[0;36m<module>\u001b[1;34m\u001b[0m\n\u001b[0;32m      1\u001b[0m \u001b[1;32mfor\u001b[0m \u001b[0mi\u001b[0m \u001b[1;32min\u001b[0m \u001b[0mrange\u001b[0m\u001b[1;33m(\u001b[0m\u001b[0mlen\u001b[0m\u001b[1;33m(\u001b[0m\u001b[0mdf\u001b[0m\u001b[1;33m[\u001b[0m\u001b[1;34m\"% Malade\"\u001b[0m\u001b[1;33m]\u001b[0m\u001b[1;33m)\u001b[0m\u001b[1;33m)\u001b[0m\u001b[1;33m:\u001b[0m\u001b[1;33m\u001b[0m\u001b[1;33m\u001b[0m\u001b[0m\n\u001b[1;32m----> 2\u001b[1;33m     \u001b[0mdf\u001b[0m\u001b[1;33m[\u001b[0m\u001b[1;34m\"% Malade\"\u001b[0m\u001b[1;33m]\u001b[0m\u001b[1;33m[\u001b[0m\u001b[0mi\u001b[0m\u001b[1;33m]\u001b[0m\u001b[1;33m=\u001b[0m\u001b[0mdf\u001b[0m\u001b[1;33m[\u001b[0m\u001b[1;34m\"% Malade\"\u001b[0m\u001b[1;33m]\u001b[0m\u001b[1;33m[\u001b[0m\u001b[0mi\u001b[0m\u001b[1;33m]\u001b[0m\u001b[1;33m.\u001b[0m\u001b[0mreplace\u001b[0m\u001b[1;33m(\u001b[0m\u001b[1;34m','\u001b[0m\u001b[1;33m,\u001b[0m\u001b[1;34m'.'\u001b[0m\u001b[1;33m)\u001b[0m\u001b[1;33m\u001b[0m\u001b[1;33m\u001b[0m\u001b[0m\n\u001b[0m\u001b[0;32m      3\u001b[0m     \u001b[0mdf\u001b[0m\u001b[1;33m[\u001b[0m\u001b[1;34m\"% Malade\"\u001b[0m\u001b[1;33m]\u001b[0m\u001b[1;33m[\u001b[0m\u001b[0mi\u001b[0m\u001b[1;33m]\u001b[0m\u001b[1;33m=\u001b[0m\u001b[0mfloat\u001b[0m\u001b[1;33m(\u001b[0m\u001b[0mdf\u001b[0m\u001b[1;33m[\u001b[0m\u001b[1;34m\"% Malade\"\u001b[0m\u001b[1;33m]\u001b[0m\u001b[1;33m[\u001b[0m\u001b[0mi\u001b[0m\u001b[1;33m]\u001b[0m\u001b[1;33m.\u001b[0m\u001b[0mreplace\u001b[0m\u001b[1;33m(\u001b[0m\u001b[1;34m'%'\u001b[0m\u001b[1;33m,\u001b[0m\u001b[1;34m''\u001b[0m\u001b[1;33m)\u001b[0m\u001b[1;33m)\u001b[0m\u001b[1;33m\u001b[0m\u001b[1;33m\u001b[0m\u001b[0m\n\u001b[0;32m      4\u001b[0m \u001b[0mdf\u001b[0m\u001b[1;33m[\u001b[0m\u001b[1;34m\"% Malade\"\u001b[0m\u001b[1;33m]\u001b[0m\u001b[1;33m.\u001b[0m\u001b[0msum\u001b[0m\u001b[1;33m(\u001b[0m\u001b[1;33m)\u001b[0m\u001b[1;33m\u001b[0m\u001b[1;33m\u001b[0m\u001b[0m\n",
      "\u001b[1;31mAttributeError\u001b[0m: 'numpy.float64' object has no attribute 'replace'"
     ]
    }
   ],
   "source": [
    "for i in range(len(df[\"% Malade\"])):\n",
    "    df[\"% Malade\"][i]=df[\"% Malade\"][i].replace(',','.')\n",
    "    df[\"% Malade\"][i]=float(df[\"% Malade\"][i].replace('%',''))\n",
    "df[\"% Malade\"].sum()"
   ]
  },
  {
   "cell_type": "code",
   "execution_count": 223,
   "metadata": {},
   "outputs": [
    {
     "ename": "AttributeError",
     "evalue": "'numpy.float64' object has no attribute 'replace'",
     "output_type": "error",
     "traceback": [
      "\u001b[1;31m---------------------------------------------------------------------------\u001b[0m",
      "\u001b[1;31mAttributeError\u001b[0m                            Traceback (most recent call last)",
      "\u001b[1;32m<ipython-input-223-651eeab089b6>\u001b[0m in \u001b[0;36m<module>\u001b[1;34m\u001b[0m\n\u001b[0;32m      1\u001b[0m \u001b[1;32mfor\u001b[0m \u001b[0mi\u001b[0m \u001b[1;32min\u001b[0m \u001b[0mrange\u001b[0m\u001b[1;33m(\u001b[0m\u001b[0mlen\u001b[0m\u001b[1;33m(\u001b[0m\u001b[0mdf\u001b[0m\u001b[1;33m[\u001b[0m\u001b[1;34m\"% Guérison\"\u001b[0m\u001b[1;33m]\u001b[0m\u001b[1;33m)\u001b[0m\u001b[1;33m)\u001b[0m\u001b[1;33m:\u001b[0m\u001b[1;33m\u001b[0m\u001b[1;33m\u001b[0m\u001b[0m\n\u001b[1;32m----> 2\u001b[1;33m     \u001b[0mdf\u001b[0m\u001b[1;33m[\u001b[0m\u001b[1;34m\"% Guérison\"\u001b[0m\u001b[1;33m]\u001b[0m\u001b[1;33m[\u001b[0m\u001b[0mi\u001b[0m\u001b[1;33m]\u001b[0m\u001b[1;33m=\u001b[0m\u001b[0mdf\u001b[0m\u001b[1;33m[\u001b[0m\u001b[1;34m\"% Guérison\"\u001b[0m\u001b[1;33m]\u001b[0m\u001b[1;33m[\u001b[0m\u001b[0mi\u001b[0m\u001b[1;33m]\u001b[0m\u001b[1;33m.\u001b[0m\u001b[0mreplace\u001b[0m\u001b[1;33m(\u001b[0m\u001b[1;34m','\u001b[0m\u001b[1;33m,\u001b[0m\u001b[1;34m'.'\u001b[0m\u001b[1;33m)\u001b[0m\u001b[1;33m\u001b[0m\u001b[1;33m\u001b[0m\u001b[0m\n\u001b[0m\u001b[0;32m      3\u001b[0m     \u001b[0mdf\u001b[0m\u001b[1;33m[\u001b[0m\u001b[1;34m\"% Guérison\"\u001b[0m\u001b[1;33m]\u001b[0m\u001b[1;33m[\u001b[0m\u001b[0mi\u001b[0m\u001b[1;33m]\u001b[0m\u001b[1;33m=\u001b[0m\u001b[0mfloat\u001b[0m\u001b[1;33m(\u001b[0m\u001b[0mdf\u001b[0m\u001b[1;33m[\u001b[0m\u001b[1;34m\"% Guérison\"\u001b[0m\u001b[1;33m]\u001b[0m\u001b[1;33m[\u001b[0m\u001b[0mi\u001b[0m\u001b[1;33m]\u001b[0m\u001b[1;33m.\u001b[0m\u001b[0mreplace\u001b[0m\u001b[1;33m(\u001b[0m\u001b[1;34m'%'\u001b[0m\u001b[1;33m,\u001b[0m\u001b[1;34m''\u001b[0m\u001b[1;33m)\u001b[0m\u001b[1;33m)\u001b[0m\u001b[1;33m\u001b[0m\u001b[1;33m\u001b[0m\u001b[0m\n\u001b[0;32m      4\u001b[0m \u001b[0mdf\u001b[0m\u001b[1;33m[\u001b[0m\u001b[1;34m\"% Guérison\"\u001b[0m\u001b[1;33m]\u001b[0m\u001b[1;33m.\u001b[0m\u001b[0msum\u001b[0m\u001b[1;33m(\u001b[0m\u001b[1;33m)\u001b[0m\u001b[1;33m\u001b[0m\u001b[1;33m\u001b[0m\u001b[0m\n",
      "\u001b[1;31mAttributeError\u001b[0m: 'numpy.float64' object has no attribute 'replace'"
     ]
    }
   ],
   "source": [
    "for i in range(len(df[\"% Guérison\"])):\n",
    "    df[\"% Guérison\"][i]=df[\"% Guérison\"][i].replace(',','.')\n",
    "    df[\"% Guérison\"][i]=float(df[\"% Guérison\"][i].replace('%',''))\n",
    "df[\"% Guérison\"].sum()"
   ]
  },
  {
   "cell_type": "code",
   "execution_count": 224,
   "metadata": {},
   "outputs": [
    {
     "ename": "AttributeError",
     "evalue": "'numpy.float64' object has no attribute 'replace'",
     "output_type": "error",
     "traceback": [
      "\u001b[1;31m---------------------------------------------------------------------------\u001b[0m",
      "\u001b[1;31mAttributeError\u001b[0m                            Traceback (most recent call last)",
      "\u001b[1;32m<ipython-input-224-479cf15b2a9c>\u001b[0m in \u001b[0;36m<module>\u001b[1;34m\u001b[0m\n\u001b[0;32m      1\u001b[0m \u001b[1;32mfor\u001b[0m \u001b[0mi\u001b[0m \u001b[1;32min\u001b[0m \u001b[0mrange\u001b[0m\u001b[1;33m(\u001b[0m\u001b[0mlen\u001b[0m\u001b[1;33m(\u001b[0m\u001b[0mdf\u001b[0m\u001b[1;33m[\u001b[0m\u001b[1;34m\"% Décès\"\u001b[0m\u001b[1;33m]\u001b[0m\u001b[1;33m)\u001b[0m\u001b[1;33m)\u001b[0m\u001b[1;33m:\u001b[0m\u001b[1;33m\u001b[0m\u001b[1;33m\u001b[0m\u001b[0m\n\u001b[1;32m----> 2\u001b[1;33m     \u001b[0mdf\u001b[0m\u001b[1;33m[\u001b[0m\u001b[1;34m\"% Décès\"\u001b[0m\u001b[1;33m]\u001b[0m\u001b[1;33m[\u001b[0m\u001b[0mi\u001b[0m\u001b[1;33m]\u001b[0m\u001b[1;33m=\u001b[0m\u001b[0mdf\u001b[0m\u001b[1;33m[\u001b[0m\u001b[1;34m\"% Décès\"\u001b[0m\u001b[1;33m]\u001b[0m\u001b[1;33m[\u001b[0m\u001b[0mi\u001b[0m\u001b[1;33m]\u001b[0m\u001b[1;33m.\u001b[0m\u001b[0mreplace\u001b[0m\u001b[1;33m(\u001b[0m\u001b[1;34m','\u001b[0m\u001b[1;33m,\u001b[0m\u001b[1;34m'.'\u001b[0m\u001b[1;33m)\u001b[0m\u001b[1;33m\u001b[0m\u001b[1;33m\u001b[0m\u001b[0m\n\u001b[0m\u001b[0;32m      3\u001b[0m     \u001b[0mdf\u001b[0m\u001b[1;33m[\u001b[0m\u001b[1;34m\"% Décès\"\u001b[0m\u001b[1;33m]\u001b[0m\u001b[1;33m[\u001b[0m\u001b[0mi\u001b[0m\u001b[1;33m]\u001b[0m\u001b[1;33m=\u001b[0m\u001b[0mfloat\u001b[0m\u001b[1;33m(\u001b[0m\u001b[0mdf\u001b[0m\u001b[1;33m[\u001b[0m\u001b[1;34m\"% Décès\"\u001b[0m\u001b[1;33m]\u001b[0m\u001b[1;33m[\u001b[0m\u001b[0mi\u001b[0m\u001b[1;33m]\u001b[0m\u001b[1;33m.\u001b[0m\u001b[0mreplace\u001b[0m\u001b[1;33m(\u001b[0m\u001b[1;34m'%'\u001b[0m\u001b[1;33m,\u001b[0m\u001b[1;34m''\u001b[0m\u001b[1;33m)\u001b[0m\u001b[1;33m)\u001b[0m\u001b[1;33m\u001b[0m\u001b[1;33m\u001b[0m\u001b[0m\n\u001b[0;32m      4\u001b[0m \u001b[0mdf\u001b[0m\u001b[1;33m[\u001b[0m\u001b[1;34m\"% Décès\"\u001b[0m\u001b[1;33m]\u001b[0m\u001b[1;33m.\u001b[0m\u001b[0msum\u001b[0m\u001b[1;33m(\u001b[0m\u001b[1;33m)\u001b[0m\u001b[1;33m\u001b[0m\u001b[1;33m\u001b[0m\u001b[0m\n",
      "\u001b[1;31mAttributeError\u001b[0m: 'numpy.float64' object has no attribute 'replace'"
     ]
    }
   ],
   "source": [
    "for i in range(len(df[\"% Décès\"])):\n",
    "    df[\"% Décès\"][i]=df[\"% Décès\"][i].replace(',','.')\n",
    "    df[\"% Décès\"][i]=float(df[\"% Décès\"][i].replace('%',''))\n",
    "df[\"% Décès\"].sum()"
   ]
  },
  {
   "cell_type": "code",
   "execution_count": 225,
   "metadata": {},
   "outputs": [
    {
     "ename": "AttributeError",
     "evalue": "'numpy.int64' object has no attribute 'replace'",
     "output_type": "error",
     "traceback": [
      "\u001b[1;31m---------------------------------------------------------------------------\u001b[0m",
      "\u001b[1;31mAttributeError\u001b[0m                            Traceback (most recent call last)",
      "\u001b[1;32m<ipython-input-225-0618cb3347b4>\u001b[0m in \u001b[0;36m<module>\u001b[1;34m\u001b[0m\n\u001b[0;32m      1\u001b[0m \u001b[1;32mfor\u001b[0m \u001b[0mi\u001b[0m \u001b[1;32min\u001b[0m \u001b[0mrange\u001b[0m\u001b[1;33m(\u001b[0m\u001b[0mlen\u001b[0m\u001b[1;33m(\u001b[0m\u001b[0mdf\u001b[0m\u001b[1;33m[\u001b[0m\u001b[1;34m\"Guérisons/jrs\"\u001b[0m\u001b[1;33m]\u001b[0m\u001b[1;33m)\u001b[0m\u001b[1;33m)\u001b[0m\u001b[1;33m:\u001b[0m\u001b[1;33m\u001b[0m\u001b[1;33m\u001b[0m\u001b[0m\n\u001b[1;32m----> 2\u001b[1;33m     \u001b[0mdf\u001b[0m\u001b[1;33m[\u001b[0m\u001b[1;34m\"Guérisons/jrs\"\u001b[0m\u001b[1;33m]\u001b[0m\u001b[1;33m[\u001b[0m\u001b[0mi\u001b[0m\u001b[1;33m]\u001b[0m\u001b[1;33m=\u001b[0m\u001b[0mdf\u001b[0m\u001b[1;33m[\u001b[0m\u001b[1;34m\"Guérisons/jrs\"\u001b[0m\u001b[1;33m]\u001b[0m\u001b[1;33m[\u001b[0m\u001b[0mi\u001b[0m\u001b[1;33m]\u001b[0m\u001b[1;33m.\u001b[0m\u001b[0mreplace\u001b[0m\u001b[1;33m(\u001b[0m\u001b[1;34m'\\xa0'\u001b[0m\u001b[1;33m,\u001b[0m\u001b[1;34m''\u001b[0m\u001b[1;33m)\u001b[0m\u001b[1;33m\u001b[0m\u001b[1;33m\u001b[0m\u001b[0m\n\u001b[0m\u001b[0;32m      3\u001b[0m     \u001b[0mdf\u001b[0m\u001b[1;33m[\u001b[0m\u001b[1;34m\"Guérisons/jrs\"\u001b[0m\u001b[1;33m]\u001b[0m\u001b[1;33m[\u001b[0m\u001b[0mi\u001b[0m\u001b[1;33m]\u001b[0m\u001b[1;33m=\u001b[0m\u001b[0mint\u001b[0m\u001b[1;33m(\u001b[0m\u001b[0mdf\u001b[0m\u001b[1;33m[\u001b[0m\u001b[1;34m\"Guérisons/jrs\"\u001b[0m\u001b[1;33m]\u001b[0m\u001b[1;33m[\u001b[0m\u001b[0mi\u001b[0m\u001b[1;33m]\u001b[0m\u001b[1;33m.\u001b[0m\u001b[0mreplace\u001b[0m\u001b[1;33m(\u001b[0m\u001b[1;34m'+'\u001b[0m\u001b[1;33m,\u001b[0m\u001b[1;34m''\u001b[0m\u001b[1;33m)\u001b[0m\u001b[1;33m)\u001b[0m\u001b[1;33m\u001b[0m\u001b[1;33m\u001b[0m\u001b[0m\n\u001b[0;32m      4\u001b[0m \u001b[0mdf\u001b[0m\u001b[1;33m[\u001b[0m\u001b[1;34m\"Guérisons/jrs\"\u001b[0m\u001b[1;33m]\u001b[0m\u001b[1;33m.\u001b[0m\u001b[0msum\u001b[0m\u001b[1;33m(\u001b[0m\u001b[1;33m)\u001b[0m\u001b[1;33m\u001b[0m\u001b[1;33m\u001b[0m\u001b[0m\n",
      "\u001b[1;31mAttributeError\u001b[0m: 'numpy.int64' object has no attribute 'replace'"
     ]
    }
   ],
   "source": [
    "for i in range(len(df[\"Guérisons/jrs\"])):\n",
    "    df[\"Guérisons/jrs\"][i]=df[\"Guérisons/jrs\"][i].replace('\\xa0','')\n",
    "    df[\"Guérisons/jrs\"][i]=int(df[\"Guérisons/jrs\"][i].replace('+',''))\n",
    "    df[\"Guérisons/jrs\"][i]=int(df[\"Guérisons/jrs\"][i].replace('-',''))\n",
    "df[\"Guérisons/jrs\"].sum()"
   ]
  },
  {
   "cell_type": "code",
   "execution_count": 226,
   "metadata": {},
   "outputs": [
    {
     "data": {
      "text/plain": [
       "1366"
      ]
     },
     "execution_count": 226,
     "metadata": {},
     "output_type": "execute_result"
    }
   ],
   "source": [
    "#for i in range(len(df[\"Décès/jrs\"])):\n",
    "   # df[\"Décès/jrs\"][i]=df[\"Décès/jrs\"][i].replace('\\xa0','')\n",
    "    #df[\"Décès/jrs\"][i]=int(df[\"Décès/jrs\"][i].replace('+',''))\n",
    "df[\"Décès/jrs\"].sum()"
   ]
  },
  {
   "cell_type": "code",
   "execution_count": 227,
   "metadata": {},
   "outputs": [
    {
     "ename": "AttributeError",
     "evalue": "'numpy.int64' object has no attribute 'replace'",
     "output_type": "error",
     "traceback": [
      "\u001b[1;31m---------------------------------------------------------------------------\u001b[0m",
      "\u001b[1;31mAttributeError\u001b[0m                            Traceback (most recent call last)",
      "\u001b[1;32m<ipython-input-227-2fb26990812b>\u001b[0m in \u001b[0;36m<module>\u001b[1;34m\u001b[0m\n\u001b[0;32m      1\u001b[0m \u001b[1;32mfor\u001b[0m \u001b[0mi\u001b[0m \u001b[1;32min\u001b[0m \u001b[0mrange\u001b[0m\u001b[1;33m(\u001b[0m\u001b[0mlen\u001b[0m\u001b[1;33m(\u001b[0m\u001b[0mdf\u001b[0m\u001b[1;33m[\u001b[0m\u001b[1;34m\"Cas/jrs\"\u001b[0m\u001b[1;33m]\u001b[0m\u001b[1;33m)\u001b[0m\u001b[1;33m)\u001b[0m\u001b[1;33m:\u001b[0m\u001b[1;33m\u001b[0m\u001b[1;33m\u001b[0m\u001b[0m\n\u001b[1;32m----> 2\u001b[1;33m     \u001b[0mdf\u001b[0m\u001b[1;33m[\u001b[0m\u001b[1;34m\"Cas/jrs\"\u001b[0m\u001b[1;33m]\u001b[0m\u001b[1;33m[\u001b[0m\u001b[0mi\u001b[0m\u001b[1;33m]\u001b[0m\u001b[1;33m=\u001b[0m\u001b[0mdf\u001b[0m\u001b[1;33m[\u001b[0m\u001b[1;34m\"Cas/jrs\"\u001b[0m\u001b[1;33m]\u001b[0m\u001b[1;33m[\u001b[0m\u001b[0mi\u001b[0m\u001b[1;33m]\u001b[0m\u001b[1;33m.\u001b[0m\u001b[0mreplace\u001b[0m\u001b[1;33m(\u001b[0m\u001b[1;34m'\\xa0'\u001b[0m\u001b[1;33m,\u001b[0m\u001b[1;34m''\u001b[0m\u001b[1;33m)\u001b[0m\u001b[1;33m\u001b[0m\u001b[1;33m\u001b[0m\u001b[0m\n\u001b[0m\u001b[0;32m      3\u001b[0m     \u001b[0mdf\u001b[0m\u001b[1;33m[\u001b[0m\u001b[1;34m\"Cas/jrs\"\u001b[0m\u001b[1;33m]\u001b[0m\u001b[1;33m[\u001b[0m\u001b[0mi\u001b[0m\u001b[1;33m]\u001b[0m\u001b[1;33m=\u001b[0m\u001b[0mint\u001b[0m\u001b[1;33m(\u001b[0m\u001b[0mdf\u001b[0m\u001b[1;33m[\u001b[0m\u001b[1;34m\"Cas/jrs\"\u001b[0m\u001b[1;33m]\u001b[0m\u001b[1;33m[\u001b[0m\u001b[0mi\u001b[0m\u001b[1;33m]\u001b[0m\u001b[1;33m.\u001b[0m\u001b[0mreplace\u001b[0m\u001b[1;33m(\u001b[0m\u001b[1;34m'+'\u001b[0m\u001b[1;33m,\u001b[0m\u001b[1;34m''\u001b[0m\u001b[1;33m)\u001b[0m\u001b[1;33m)\u001b[0m\u001b[1;33m\u001b[0m\u001b[1;33m\u001b[0m\u001b[0m\n\u001b[0;32m      4\u001b[0m \u001b[0mdf\u001b[0m\u001b[1;33m[\u001b[0m\u001b[1;34m\"Cas/jrs\"\u001b[0m\u001b[1;33m]\u001b[0m\u001b[1;33m.\u001b[0m\u001b[0msum\u001b[0m\u001b[1;33m(\u001b[0m\u001b[1;33m)\u001b[0m\u001b[1;33m\u001b[0m\u001b[1;33m\u001b[0m\u001b[0m\n",
      "\u001b[1;31mAttributeError\u001b[0m: 'numpy.int64' object has no attribute 'replace'"
     ]
    }
   ],
   "source": [
    "for i in range(len(df[\"Cas/jrs\"])):\n",
    "    df[\"Cas/jrs\"][i]=df[\"Cas/jrs\"][i].replace('\\xa0','')\n",
    "    df[\"Cas/jrs\"][i]=int(df[\"Cas/jrs\"][i].replace('+',''))\n",
    "df[\"Cas/jrs\"].sum()"
   ]
  },
  {
   "cell_type": "code",
   "execution_count": 228,
   "metadata": {},
   "outputs": [
    {
     "ename": "AttributeError",
     "evalue": "'numpy.int64' object has no attribute 'replace'",
     "output_type": "error",
     "traceback": [
      "\u001b[1;31m---------------------------------------------------------------------------\u001b[0m",
      "\u001b[1;31mAttributeError\u001b[0m                            Traceback (most recent call last)",
      "\u001b[1;32m<ipython-input-228-34f8f1cbe9cf>\u001b[0m in \u001b[0;36m<module>\u001b[1;34m\u001b[0m\n\u001b[0;32m      1\u001b[0m \u001b[1;32mfor\u001b[0m \u001b[0mi\u001b[0m \u001b[1;32min\u001b[0m \u001b[0mrange\u001b[0m\u001b[1;33m(\u001b[0m\u001b[0mlen\u001b[0m\u001b[1;33m(\u001b[0m\u001b[0mdf\u001b[0m\u001b[1;33m[\u001b[0m\u001b[1;34m\"T_Guérisons\"\u001b[0m\u001b[1;33m]\u001b[0m\u001b[1;33m)\u001b[0m\u001b[1;33m)\u001b[0m\u001b[1;33m:\u001b[0m\u001b[1;33m\u001b[0m\u001b[1;33m\u001b[0m\u001b[0m\n\u001b[1;32m----> 2\u001b[1;33m     \u001b[0mdf\u001b[0m\u001b[1;33m[\u001b[0m\u001b[1;34m\"T_Guérisons\"\u001b[0m\u001b[1;33m]\u001b[0m\u001b[1;33m[\u001b[0m\u001b[0mi\u001b[0m\u001b[1;33m]\u001b[0m\u001b[1;33m=\u001b[0m\u001b[0mint\u001b[0m\u001b[1;33m(\u001b[0m\u001b[0mdf\u001b[0m\u001b[1;33m[\u001b[0m\u001b[1;34m\"T_Guérisons\"\u001b[0m\u001b[1;33m]\u001b[0m\u001b[1;33m[\u001b[0m\u001b[0mi\u001b[0m\u001b[1;33m]\u001b[0m\u001b[1;33m.\u001b[0m\u001b[0mreplace\u001b[0m\u001b[1;33m(\u001b[0m\u001b[1;34m'\\xa0'\u001b[0m\u001b[1;33m,\u001b[0m\u001b[1;34m''\u001b[0m\u001b[1;33m)\u001b[0m\u001b[1;33m)\u001b[0m\u001b[1;33m\u001b[0m\u001b[1;33m\u001b[0m\u001b[0m\n\u001b[0m\u001b[0;32m      3\u001b[0m \u001b[0mdf\u001b[0m\u001b[1;33m[\u001b[0m\u001b[1;34m\"T_Guérisons\"\u001b[0m\u001b[1;33m]\u001b[0m\u001b[1;33m.\u001b[0m\u001b[0msum\u001b[0m\u001b[1;33m(\u001b[0m\u001b[1;33m)\u001b[0m\u001b[1;33m\u001b[0m\u001b[1;33m\u001b[0m\u001b[0m\n",
      "\u001b[1;31mAttributeError\u001b[0m: 'numpy.int64' object has no attribute 'replace'"
     ]
    }
   ],
   "source": [
    "for i in range(len(df[\"T_Guérisons\"])):\n",
    "    df[\"T_Guérisons\"][i]=int(df[\"T_Guérisons\"][i].replace('\\xa0',''))\n",
    "df[\"T_Guérisons\"].sum()"
   ]
  },
  {
   "cell_type": "code",
   "execution_count": 229,
   "metadata": {},
   "outputs": [
    {
     "ename": "AttributeError",
     "evalue": "'numpy.int64' object has no attribute 'replace'",
     "output_type": "error",
     "traceback": [
      "\u001b[1;31m---------------------------------------------------------------------------\u001b[0m",
      "\u001b[1;31mAttributeError\u001b[0m                            Traceback (most recent call last)",
      "\u001b[1;32m<ipython-input-229-09f0e2d3fed7>\u001b[0m in \u001b[0;36m<module>\u001b[1;34m\u001b[0m\n\u001b[0;32m      1\u001b[0m \u001b[1;32mfor\u001b[0m \u001b[0mi\u001b[0m \u001b[1;32min\u001b[0m \u001b[0mrange\u001b[0m\u001b[1;33m(\u001b[0m\u001b[0mlen\u001b[0m\u001b[1;33m(\u001b[0m\u001b[0mdf\u001b[0m\u001b[1;33m[\u001b[0m\u001b[1;34m\"T_Décès\"\u001b[0m\u001b[1;33m]\u001b[0m\u001b[1;33m)\u001b[0m\u001b[1;33m)\u001b[0m\u001b[1;33m:\u001b[0m\u001b[1;33m\u001b[0m\u001b[1;33m\u001b[0m\u001b[0m\n\u001b[1;32m----> 2\u001b[1;33m     \u001b[0mdf\u001b[0m\u001b[1;33m[\u001b[0m\u001b[1;34m\"T_Décès\"\u001b[0m\u001b[1;33m]\u001b[0m\u001b[1;33m[\u001b[0m\u001b[0mi\u001b[0m\u001b[1;33m]\u001b[0m\u001b[1;33m=\u001b[0m\u001b[0mint\u001b[0m\u001b[1;33m(\u001b[0m\u001b[0mdf\u001b[0m\u001b[1;33m[\u001b[0m\u001b[1;34m\"T_Décès\"\u001b[0m\u001b[1;33m]\u001b[0m\u001b[1;33m[\u001b[0m\u001b[0mi\u001b[0m\u001b[1;33m]\u001b[0m\u001b[1;33m.\u001b[0m\u001b[0mreplace\u001b[0m\u001b[1;33m(\u001b[0m\u001b[1;34m'\\xa0'\u001b[0m\u001b[1;33m,\u001b[0m\u001b[1;34m''\u001b[0m\u001b[1;33m)\u001b[0m\u001b[1;33m)\u001b[0m\u001b[1;33m\u001b[0m\u001b[1;33m\u001b[0m\u001b[0m\n\u001b[0m\u001b[0;32m      3\u001b[0m \u001b[0mdf\u001b[0m\u001b[1;33m[\u001b[0m\u001b[1;34m\"T_Décès\"\u001b[0m\u001b[1;33m]\u001b[0m\u001b[1;33m.\u001b[0m\u001b[0msum\u001b[0m\u001b[1;33m(\u001b[0m\u001b[1;33m)\u001b[0m\u001b[1;33m\u001b[0m\u001b[1;33m\u001b[0m\u001b[0m\n",
      "\u001b[1;31mAttributeError\u001b[0m: 'numpy.int64' object has no attribute 'replace'"
     ]
    }
   ],
   "source": [
    "for i in range(len(df[\"T_Décès\"])):\n",
    "    df[\"T_Décès\"][i]=int(df[\"T_Décès\"][i].replace('\\xa0',''))\n",
    "df[\"T_Décès\"].sum()"
   ]
  },
  {
   "cell_type": "code",
   "execution_count": 234,
   "metadata": {},
   "outputs": [
    {
     "name": "stderr",
     "output_type": "stream",
     "text": [
      "C:\\Users\\Abdouuulbari\\Anaconda\\lib\\site-packages\\ipykernel_launcher.py:2: SettingWithCopyWarning: \n",
      "A value is trying to be set on a copy of a slice from a DataFrame\n",
      "\n",
      "See the caveats in the documentation: http://pandas.pydata.org/pandas-docs/stable/user_guide/indexing.html#returning-a-view-versus-a-copy\n",
      "  \n"
     ]
    },
    {
     "data": {
      "text/plain": [
       "\"États-UnisBrésilRussieIndeRoyaume-UniPérouEspagneChiliItalieIranFranceAllemagneTurquiePakistanMexiqueArabie SaouditeBangladeshCanadaAfrique du SudQatarChineColombieBelgiqueBélarusSuèdeÉgypteÉquateurPays-BasIndonésieÉmirats Arabes UnisSingapourArgentineKoweïtPortugalUkrainePologneSuisseIraqPhilippinesOmanAfghanistanRépublique DominicaineIrlandePanamaRoumanieBolivieBahreïnIsraëlArménieNigériaJaponAutricheKazakhstanMoldavieGhanaSerbieGuatemalaAzerbaïdjanDanemarkCorée du SudHondurasAlgérieCamerounRépublique TchèqueMarocNépalNorvègeSoudanMalaisieAustralieCôte d'IvoireFinlandeOuzbékistanSénégalRép. Dém. du CongoTadjikistanMacédoineHaïtiGuinéeKenyaEl SalvadorDjiboutiÉthiopieGabonLuxembourgHongrieBulgarieVenezuelaBosnie-HerzégovineGrèceKirghizistanThaïlandeMauritanieRépublique CentrafricaineSomalieCroatieCubaCosta RicaMaldivesEstonieAlbanieSri LankaMaliSoudan du sudIslandeNicaraguaLituanieGuinée ÉquatorialeMadagascarLibanSlovaquieGuinée-BissauSlovénieNouvelle-ZélandeKosovoZambieParaguaySierra LeoneTunisieLettonieNigerJordanieChypreYémenGéorgieBurkina FasoCap-vertCongo (Brazzaville)UruguayTchadAndorrePalestineOugandaBéninMozambiqueMalawiRwandaAutresSao Tomé-et-PrincipeSaint-MarinMalteJamaïqueEswatiniLibériaTogoLibyeTanzanieZimbabweTaïwanMontenegroViet NamMauriceSurinameBirmanieComoresMongolieSyrieAngolaGuyanaBurundiÉrythréeBrunéi DarussalamCambodgeTrinité-et-TobagoBahamasMonacoBarbadeBotswanaLiechtensteinBhoutanNamibieGambieSt-Vincent / GrenadinesAntigua-et-BarbudaTimor-LesteGrenadeBelizeLaosSainte-LucieDominiqueFidjiSaint-Kitts-et-NevisVaticanSeychellesSahara OccidentalPapouasie-Nouvelle-GuinéeLesotho\""
      ]
     },
     "execution_count": 234,
     "metadata": {},
     "output_type": "execute_result"
    }
   ],
   "source": [
    "for i in range(len(df[\"Pays\"])):\n",
    "    df[\"Pays\"][i]=str(df[\"Pays\"][i])\n",
    "df[\"Pays\"].sum()"
   ]
  },
  {
   "cell_type": "code",
   "execution_count": 233,
   "metadata": {},
   "outputs": [
    {
     "data": {
      "text/plain": [
       "Date             datetime64[ns]\n",
       "Pays                     object\n",
       "T_Cas                     int64\n",
       "T_Décès                   int64\n",
       "T_Guérisons               int64\n",
       "% Décès                 float64\n",
       "% Guérison              float64\n",
       "% Malade                float64\n",
       "Cas/jrs                   int64\n",
       "Décès/jrs                 int64\n",
       "Guérisons/jrs             int64\n",
       "dtype: object"
      ]
     },
     "execution_count": 233,
     "metadata": {},
     "output_type": "execute_result"
    }
   ],
   "source": [
    "df.dtypes"
   ]
  },
  {
   "cell_type": "code",
   "execution_count": 235,
   "metadata": {},
   "outputs": [],
   "source": [
    "df.to_excel(r'C:\\Users\\Abdouuulbari\\Desktop\\ELITECH\\Python\\DATA_IMP\\Data after cleaning\\world_covid19.xlsx')"
   ]
  },
  {
   "cell_type": "code",
   "execution_count": null,
   "metadata": {},
   "outputs": [],
   "source": []
  },
  {
   "cell_type": "code",
   "execution_count": null,
   "metadata": {},
   "outputs": [],
   "source": []
  },
  {
   "cell_type": "code",
   "execution_count": null,
   "metadata": {},
   "outputs": [],
   "source": []
  }
 ],
 "metadata": {
  "kernelspec": {
   "display_name": "Python 3",
   "language": "python",
   "name": "python3"
  },
  "language_info": {
   "codemirror_mode": {
    "name": "ipython",
    "version": 3
   },
   "file_extension": ".py",
   "mimetype": "text/x-python",
   "name": "python",
   "nbconvert_exporter": "python",
   "pygments_lexer": "ipython3",
   "version": "3.7.4"
  }
 },
 "nbformat": 4,
 "nbformat_minor": 2
}
